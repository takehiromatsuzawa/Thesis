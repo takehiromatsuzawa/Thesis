{
 "cells": [
  {
   "cell_type": "code",
   "execution_count": 64,
   "metadata": {
    "collapsed": true
   },
   "outputs": [],
   "source": [
    "import pandas as pd\n",
    "import numpy as np"
   ]
  },
  {
   "cell_type": "code",
   "execution_count": 65,
   "metadata": {
    "collapsed": false
   },
   "outputs": [],
   "source": [
    "df_age_19=pd.read_csv('AgeData/df_age_19.csv',index_col=0)\n",
    "df_age_20=pd.read_csv('AgeData/df_age_20.csv',index_col=0)\n",
    "df_age_21=pd.read_csv('AgeData/df_age_21.csv',index_col=0)\n",
    "df_age_22=pd.read_csv('AgeData/df_age_22.csv',index_col=0)\n",
    "df_age_23=pd.read_csv('AgeData/df_age_23.csv',index_col=0)\n",
    "df_age_24=pd.read_csv('AgeData/df_age_24.csv',index_col=0)\n",
    "df_age_25=pd.read_csv('AgeData/df_age_25.csv',index_col=0)\n",
    "df_age_26=pd.read_csv('AgeData/df_age_26.csv',index_col=0)\n",
    "df_age_27=pd.read_csv('AgeData/df_age_27.csv',index_col=0)\n",
    "df_age_28=pd.read_csv('AgeData/df_age_28.csv',index_col=0)\n",
    "df_age_29=pd.read_csv('AgeData/df_age_29.csv',index_col=0)\n",
    "\n",
    "df_age_30=pd.read_csv('AgeData/df_age_30.csv',index_col=0)\n",
    "df_age_31=pd.read_csv('AgeData/df_age_31.csv',index_col=0)\n",
    "df_age_32=pd.read_csv('AgeData/df_age_32.csv',index_col=0)\n",
    "df_age_33=pd.read_csv('AgeData/df_age_33.csv',index_col=0)\n",
    "df_age_34=pd.read_csv('AgeData/df_age_34.csv',index_col=0)\n",
    "df_age_35=pd.read_csv('AgeData/df_age_35.csv',index_col=0)\n",
    "df_age_36=pd.read_csv('AgeData/df_age_36.csv',index_col=0)\n",
    "df_age_37=pd.read_csv('AgeData/df_age_37.csv',index_col=0)\n",
    "df_age_38=pd.read_csv('AgeData/df_age_38.csv',index_col=0)\n",
    "df_age_39=pd.read_csv('AgeData/df_age_39.csv',index_col=0)"
   ]
  },
  {
   "cell_type": "code",
   "execution_count": 66,
   "metadata": {
    "collapsed": false
   },
   "outputs": [],
   "source": [
    "dfplayer1996=pd.read_csv('dfplayer1996.csv')\n",
    "dfplayer1997=pd.read_csv('dfplayer1997.csv')\n",
    "dfplayer1998=pd.read_csv('dfplayer1998.csv')\n",
    "dfplayer1999=pd.read_csv('dfplayer1999.csv')\n",
    "\n",
    "dfplayer2000=pd.read_csv('dfplayer2000.csv')\n",
    "dfplayer2001=pd.read_csv('dfplayer2001.csv')\n",
    "dfplayer2002=pd.read_csv('dfplayer2002.csv')\n",
    "dfplayer2003=pd.read_csv('dfplayer2003.csv')\n",
    "dfplayer2004=pd.read_csv('dfplayer2004.csv')\n",
    "\n",
    "dfplayer2005=pd.read_csv('dfplayer2005.csv')\n",
    "dfplayer2006=pd.read_csv('dfplayer2006.csv')\n",
    "dfplayer2007=pd.read_csv('dfplayer2007.csv')\n",
    "dfplayer2008=pd.read_csv('dfplayer2008.csv')\n",
    "dfplayer2009=pd.read_csv('dfplayer2009.csv')\n",
    "\n",
    "dfplayer2010=pd.read_csv('dfplayer2010.csv')\n",
    "dfplayer2011=pd.read_csv('dfplayer2011.csv')\n",
    "dfplayer2012=pd.read_csv('dfplayer2012.csv')\n",
    "dfplayer2013=pd.read_csv('dfplayer2013.csv')\n",
    "dfplayer2014=pd.read_csv('dfplayer2014.csv')\n",
    "\n",
    "dfplayer2015=pd.read_csv('dfplayer2015.csv')"
   ]
  },
  {
   "cell_type": "code",
   "execution_count": 67,
   "metadata": {
    "collapsed": false
   },
   "outputs": [],
   "source": [
    "namePlayer=[]\n",
    "for elem in dfplayer1996['url']:\n",
    "    namePlayer.append(elem[11:-5])\n",
    "    \n",
    "dfplayer1996['name']=namePlayer\n",
    "\n",
    "del dfplayer1996['Unnamed: 0']\n",
    "del dfplayer1996['url']\n",
    "del dfplayer1996['draft']\n",
    "del dfplayer1996['shot']\n",
    "del dfplayer1996['pos']\n",
    "\n",
    "\n",
    "namePlayer=[]\n",
    "for elem in dfplayer1997['url']:\n",
    "    namePlayer.append(elem[11:-5])\n",
    "    \n",
    "dfplayer1997['name']=namePlayer\n",
    "\n",
    "del dfplayer1997['Unnamed: 0']\n",
    "del dfplayer1997['url']\n",
    "del dfplayer1997['draft']\n",
    "del dfplayer1997['shot']\n",
    "del dfplayer1997['pos']\n",
    "\n",
    "namePlayer=[]\n",
    "for elem in dfplayer1998['url']:\n",
    "    namePlayer.append(elem[11:-5])\n",
    "    \n",
    "dfplayer1998['name']=namePlayer\n",
    "\n",
    "del dfplayer1998['Unnamed: 0']\n",
    "del dfplayer1998['url']\n",
    "del dfplayer1998['draft']\n",
    "del dfplayer1998['shot']\n",
    "del dfplayer1998['pos']\n",
    "\n",
    "namePlayer=[]\n",
    "for elem in dfplayer1999['url']:\n",
    "    namePlayer.append(elem[11:-5])\n",
    "    \n",
    "dfplayer1999['name']=namePlayer\n",
    "\n",
    "del dfplayer1999['Unnamed: 0']\n",
    "del dfplayer1999['url']\n",
    "del dfplayer1999['draft']\n",
    "del dfplayer1999['shot']\n",
    "del dfplayer1999['pos']\n",
    "\n",
    "namePlayer=[]\n",
    "for elem in dfplayer2000['url']:\n",
    "    namePlayer.append(elem[11:-5])\n",
    "    \n",
    "dfplayer2000['name']=namePlayer\n",
    "\n",
    "del dfplayer2000['Unnamed: 0']\n",
    "del dfplayer2000['url']\n",
    "del dfplayer2000['draft']\n",
    "del dfplayer2000['shot']\n",
    "del dfplayer2000['pos']\n",
    "\n",
    "namePlayer=[]\n",
    "for elem in dfplayer2001['url']:\n",
    "    namePlayer.append(elem[11:-5])\n",
    "    \n",
    "dfplayer2001['name']=namePlayer\n",
    "\n",
    "del dfplayer2001['Unnamed: 0']\n",
    "del dfplayer2001['url']\n",
    "del dfplayer2001['draft']\n",
    "del dfplayer2001['shot']\n",
    "del dfplayer2001['pos']\n",
    "\n",
    "namePlayer=[]\n",
    "for elem in dfplayer2002['url']:\n",
    "    namePlayer.append(elem[11:-5])\n",
    "    \n",
    "dfplayer2002['name']=namePlayer\n",
    "\n",
    "del dfplayer2002['Unnamed: 0']\n",
    "del dfplayer2002['url']\n",
    "del dfplayer2002['draft']\n",
    "del dfplayer2002['shot']\n",
    "del dfplayer2002['pos']\n",
    "\n",
    "namePlayer=[]\n",
    "for elem in dfplayer2003['url']:\n",
    "    namePlayer.append(elem[11:-5])\n",
    "    \n",
    "dfplayer2003['name']=namePlayer\n",
    "\n",
    "del dfplayer2003['Unnamed: 0']\n",
    "del dfplayer2003['url']\n",
    "del dfplayer2003['draft']\n",
    "del dfplayer2003['shot']\n",
    "del dfplayer2003['pos']\n",
    "\n",
    "namePlayer=[]\n",
    "for elem in dfplayer2004['url']:\n",
    "    namePlayer.append(elem[11:-5])\n",
    "    \n",
    "dfplayer2004['name']=namePlayer\n",
    "\n",
    "del dfplayer2004['Unnamed: 0']\n",
    "del dfplayer2004['url']\n",
    "del dfplayer2004['draft']\n",
    "del dfplayer2004['shot']\n",
    "del dfplayer2004['pos']\n",
    "\n",
    "namePlayer=[]\n",
    "for elem in dfplayer2005['url']:\n",
    "    namePlayer.append(elem[11:-5])\n",
    "    \n",
    "dfplayer2005['name']=namePlayer\n",
    "\n",
    "del dfplayer2005['Unnamed: 0']\n",
    "del dfplayer2005['url']\n",
    "del dfplayer2005['draft']\n",
    "del dfplayer2005['shot']\n",
    "del dfplayer2005['pos']\n",
    "\n",
    "namePlayer=[]\n",
    "for elem in dfplayer2006['url']:\n",
    "    namePlayer.append(elem[11:-5])\n",
    "    \n",
    "dfplayer2006['name']=namePlayer\n",
    "\n",
    "del dfplayer2006['Unnamed: 0']\n",
    "del dfplayer2006['url']\n",
    "del dfplayer2006['draft']\n",
    "del dfplayer2006['shot']\n",
    "del dfplayer2006['pos']\n",
    "\n",
    "namePlayer=[]\n",
    "for elem in dfplayer2007['url']:\n",
    "    namePlayer.append(elem[11:-5])\n",
    "    \n",
    "dfplayer2007['name']=namePlayer\n",
    "\n",
    "del dfplayer2007['Unnamed: 0']\n",
    "del dfplayer2007['url']\n",
    "del dfplayer2007['draft']\n",
    "del dfplayer2007['shot']\n",
    "del dfplayer2007['pos']\n",
    "\n",
    "namePlayer=[]\n",
    "for elem in dfplayer2008['url']:\n",
    "    namePlayer.append(elem[11:-5])\n",
    "    \n",
    "dfplayer2008['name']=namePlayer\n",
    "\n",
    "del dfplayer2008['Unnamed: 0']\n",
    "del dfplayer2008['url']\n",
    "del dfplayer2008['draft']\n",
    "del dfplayer2008['shot']\n",
    "del dfplayer2008['pos']\n",
    "\n",
    "namePlayer=[]\n",
    "for elem in dfplayer2009['url']:\n",
    "    namePlayer.append(elem[11:-5])\n",
    "    \n",
    "dfplayer2009['name']=namePlayer\n",
    "\n",
    "del dfplayer2009['Unnamed: 0']\n",
    "del dfplayer2009['url']\n",
    "del dfplayer2009['draft']\n",
    "del dfplayer2009['shot']\n",
    "del dfplayer2009['pos']\n",
    "\n",
    "namePlayer=[]\n",
    "for elem in dfplayer2010['url']:\n",
    "    namePlayer.append(elem[11:-5])\n",
    "    \n",
    "dfplayer2010['name']=namePlayer\n",
    "\n",
    "del dfplayer2010['Unnamed: 0']\n",
    "del dfplayer2010['url']\n",
    "del dfplayer2010['draft']\n",
    "del dfplayer2010['shot']\n",
    "del dfplayer2010['pos']\n",
    "\n",
    "namePlayer=[]\n",
    "for elem in dfplayer2011['url']:\n",
    "    namePlayer.append(elem[11:-5])\n",
    "    \n",
    "dfplayer2011['name']=namePlayer\n",
    "\n",
    "del dfplayer2011['Unnamed: 0']\n",
    "del dfplayer2011['url']\n",
    "del dfplayer2011['draft']\n",
    "del dfplayer2011['shot']\n",
    "del dfplayer2011['pos']\n",
    "\n",
    "namePlayer=[]\n",
    "for elem in dfplayer2012['url']:\n",
    "    namePlayer.append(elem[11:-5])\n",
    "    \n",
    "dfplayer2012['name']=namePlayer\n",
    "\n",
    "del dfplayer2012['Unnamed: 0']\n",
    "del dfplayer2012['url']\n",
    "del dfplayer2012['draft']\n",
    "del dfplayer2012['shot']\n",
    "del dfplayer2012['pos']\n",
    "\n",
    "namePlayer=[]\n",
    "for elem in dfplayer2013['url']:\n",
    "    namePlayer.append(elem[11:-5])\n",
    "    \n",
    "dfplayer2013['name']=namePlayer\n",
    "\n",
    "del dfplayer2013['Unnamed: 0']\n",
    "del dfplayer2013['url']\n",
    "del dfplayer2013['draft']\n",
    "del dfplayer2013['shot']\n",
    "del dfplayer2013['pos']\n",
    "\n",
    "namePlayer=[]\n",
    "for elem in dfplayer2014['url']:\n",
    "    namePlayer.append(elem[11:-5])\n",
    "    \n",
    "dfplayer2014['name']=namePlayer\n",
    "\n",
    "del dfplayer2014['Unnamed: 0']\n",
    "del dfplayer2014['url']\n",
    "del dfplayer2014['draft']\n",
    "del dfplayer2014['shot']\n",
    "del dfplayer2014['pos']\n",
    "\n",
    "namePlayer=[]\n",
    "for elem in dfplayer2015['url']:\n",
    "    namePlayer.append(elem[11:-5])\n",
    "    \n",
    "dfplayer2015['name']=namePlayer\n",
    "\n",
    "del dfplayer2015['Unnamed: 0']\n",
    "del dfplayer2015['url']\n",
    "del dfplayer2015['draft']\n",
    "del dfplayer2015['shot']\n",
    "del dfplayer2015['pos']"
   ]
  },
  {
   "cell_type": "code",
   "execution_count": null,
   "metadata": {
    "collapsed": true
   },
   "outputs": [],
   "source": []
  },
  {
   "cell_type": "code",
   "execution_count": 68,
   "metadata": {
    "collapsed": false
   },
   "outputs": [],
   "source": [
    "fundam = [dfplayer1996,dfplayer1997,dfplayer1998,dfplayer1999,dfplayer2000,dfplayer2001,dfplayer2002,\n",
    "dfplayer2003,dfplayer2004,dfplayer2005,dfplayer2006,dfplayer2007,dfplayer2008,dfplayer2009,dfplayer2010,\n",
    "dfplayer2011,dfplayer2012,dfplayer2013,dfplayer2014,dfplayer2015]\n",
    "\n",
    "\n",
    "\n",
    "df_all_fundam = pd.concat(fundam)"
   ]
  },
  {
   "cell_type": "code",
   "execution_count": 69,
   "metadata": {
    "collapsed": false
   },
   "outputs": [],
   "source": [
    "df_all_fundam=df_all_fundam.reset_index(drop=True)"
   ]
  },
  {
   "cell_type": "code",
   "execution_count": 70,
   "metadata": {
    "collapsed": true
   },
   "outputs": [],
   "source": [
    "frames = [df_age_19, df_age_20, df_age_21,df_age_22,df_age_23,df_age_24,df_age_25,df_age_26,df_age_27,df_age_28,\n",
    "         df_age_29,df_age_30,df_age_31,df_age_32,df_age_33,df_age_34,df_age_35,df_age_36,df_age_37,df_age_38,df_age_39]\n",
    "df_all = pd.concat(frames)"
   ]
  },
  {
   "cell_type": "code",
   "execution_count": 71,
   "metadata": {
    "collapsed": false
   },
   "outputs": [],
   "source": [
    "df_all=df_all.reset_index(drop=True)"
   ]
  },
  {
   "cell_type": "code",
   "execution_count": null,
   "metadata": {
    "collapsed": true
   },
   "outputs": [],
   "source": []
  },
  {
   "cell_type": "code",
   "execution_count": 72,
   "metadata": {
    "collapsed": true
   },
   "outputs": [],
   "source": [
    "df_all_fundam = df_all_fundam[df_all_fundam.height!= 'ml>']"
   ]
  },
  {
   "cell_type": "code",
   "execution_count": 73,
   "metadata": {
    "collapsed": true
   },
   "outputs": [],
   "source": [
    "df_all_fundam=df_all_fundam.reset_index(drop=True)"
   ]
  },
  {
   "cell_type": "code",
   "execution_count": 74,
   "metadata": {
    "collapsed": false
   },
   "outputs": [],
   "source": [
    "weight_all=df_all_fundam['weight']\n",
    "height_all=df_all_fundam['height']"
   ]
  },
  {
   "cell_type": "code",
   "execution_count": 75,
   "metadata": {
    "collapsed": false
   },
   "outputs": [],
   "source": [
    "df_all_fundam[['weight','height']]=df_all_fundam[['weight','height']].astype(float)"
   ]
  },
  {
   "cell_type": "code",
   "execution_count": 76,
   "metadata": {
    "collapsed": false
   },
   "outputs": [],
   "source": [
    "del df_all['age_y']\n",
    "df_all['goals_all']=df_all['goals_ev']+df_all['goals_pp']+df_all['goals_sh']\n",
    "result=df_all.sort(['name', 'age_x'], ascending=[0, 1])\n",
    "\n",
    "result=result.reset_index(drop=True)\n",
    "result['goals_all']=result['goals_all']/result['games_played']\n",
    "goals_all_data=list(result['goals_all'])\n",
    "\n",
    "goals_all_data.pop(0)\n",
    "goals_all_data.append(0)\n",
    "\n",
    "result['goals_all']=goals_all_data\n",
    "\n",
    "df_all=result.groupby(\"name\").apply(lambda x: x.iloc[:-1]).reset_index(drop=True)\n",
    "df_all = pd.merge(df_all, df_all_fundam, on='name')\n",
    "df_all=df_all.drop_duplicates()"
   ]
  },
  {
   "cell_type": "code",
   "execution_count": 77,
   "metadata": {
    "collapsed": false
   },
   "outputs": [
    {
     "data": {
      "text/html": [
       "<div>\n",
       "<table border=\"1\" class=\"dataframe\">\n",
       "  <thead>\n",
       "    <tr style=\"text-align: right;\">\n",
       "      <th></th>\n",
       "      <th>TOT</th>\n",
       "      <th>age_x</th>\n",
       "      <th>assists_ev</th>\n",
       "      <th>assists_pp</th>\n",
       "      <th>assists_sh</th>\n",
       "      <th>blocks</th>\n",
       "      <th>corsi_against</th>\n",
       "      <th>corsi_for</th>\n",
       "      <th>corsi_pct</th>\n",
       "      <th>corsi_rel_pct</th>\n",
       "      <th>...</th>\n",
       "      <th>shots_attempted</th>\n",
       "      <th>shots_attempted.1</th>\n",
       "      <th>takeaways</th>\n",
       "      <th>time_on_ice_avg</th>\n",
       "      <th>uniqueseason</th>\n",
       "      <th>zs_defense_pct</th>\n",
       "      <th>zs_offense_pct</th>\n",
       "      <th>goals_all</th>\n",
       "      <th>height</th>\n",
       "      <th>weight</th>\n",
       "    </tr>\n",
       "  </thead>\n",
       "  <tbody>\n",
       "    <tr>\n",
       "      <th>0</th>\n",
       "      <td>DET</td>\n",
       "      <td>20</td>\n",
       "      <td>0</td>\n",
       "      <td>0</td>\n",
       "      <td>0</td>\n",
       "      <td>0</td>\n",
       "      <td>18</td>\n",
       "      <td>19</td>\n",
       "      <td>51.4</td>\n",
       "      <td>-10.0</td>\n",
       "      <td>...</td>\n",
       "      <td>8</td>\n",
       "      <td>8</td>\n",
       "      <td>1</td>\n",
       "      <td>12.13</td>\n",
       "      <td>1</td>\n",
       "      <td>40.0</td>\n",
       "      <td>60.0</td>\n",
       "      <td>0.000000</td>\n",
       "      <td>188</td>\n",
       "      <td>218</td>\n",
       "    </tr>\n",
       "    <tr>\n",
       "      <th>1</th>\n",
       "      <td>DET</td>\n",
       "      <td>21</td>\n",
       "      <td>0</td>\n",
       "      <td>0</td>\n",
       "      <td>0</td>\n",
       "      <td>0</td>\n",
       "      <td>9</td>\n",
       "      <td>22</td>\n",
       "      <td>71.0</td>\n",
       "      <td>14.6</td>\n",
       "      <td>...</td>\n",
       "      <td>7</td>\n",
       "      <td>7</td>\n",
       "      <td>0</td>\n",
       "      <td>9.18</td>\n",
       "      <td>1</td>\n",
       "      <td>33.3</td>\n",
       "      <td>66.7</td>\n",
       "      <td>0.060000</td>\n",
       "      <td>188</td>\n",
       "      <td>218</td>\n",
       "    </tr>\n",
       "    <tr>\n",
       "      <th>2</th>\n",
       "      <td>DET</td>\n",
       "      <td>22</td>\n",
       "      <td>3</td>\n",
       "      <td>0</td>\n",
       "      <td>0</td>\n",
       "      <td>20</td>\n",
       "      <td>376</td>\n",
       "      <td>409</td>\n",
       "      <td>52.1</td>\n",
       "      <td>-2.2</td>\n",
       "      <td>...</td>\n",
       "      <td>141</td>\n",
       "      <td>141</td>\n",
       "      <td>7</td>\n",
       "      <td>10.35</td>\n",
       "      <td>1</td>\n",
       "      <td>33.7</td>\n",
       "      <td>66.3</td>\n",
       "      <td>0.094595</td>\n",
       "      <td>188</td>\n",
       "      <td>218</td>\n",
       "    </tr>\n",
       "    <tr>\n",
       "      <th>3</th>\n",
       "      <td>DET</td>\n",
       "      <td>23</td>\n",
       "      <td>11</td>\n",
       "      <td>0</td>\n",
       "      <td>1</td>\n",
       "      <td>39</td>\n",
       "      <td>628</td>\n",
       "      <td>765</td>\n",
       "      <td>54.9</td>\n",
       "      <td>-0.4</td>\n",
       "      <td>...</td>\n",
       "      <td>226</td>\n",
       "      <td>226</td>\n",
       "      <td>17</td>\n",
       "      <td>12.18</td>\n",
       "      <td>1</td>\n",
       "      <td>41.2</td>\n",
       "      <td>58.8</td>\n",
       "      <td>0.098765</td>\n",
       "      <td>188</td>\n",
       "      <td>218</td>\n",
       "    </tr>\n",
       "    <tr>\n",
       "      <th>4</th>\n",
       "      <td>DET</td>\n",
       "      <td>24</td>\n",
       "      <td>14</td>\n",
       "      <td>0</td>\n",
       "      <td>0</td>\n",
       "      <td>42</td>\n",
       "      <td>698</td>\n",
       "      <td>794</td>\n",
       "      <td>53.2</td>\n",
       "      <td>-3.2</td>\n",
       "      <td>...</td>\n",
       "      <td>196</td>\n",
       "      <td>196</td>\n",
       "      <td>16</td>\n",
       "      <td>12.19</td>\n",
       "      <td>1</td>\n",
       "      <td>40.7</td>\n",
       "      <td>59.3</td>\n",
       "      <td>0.208333</td>\n",
       "      <td>188</td>\n",
       "      <td>218</td>\n",
       "    </tr>\n",
       "  </tbody>\n",
       "</table>\n",
       "<p>5 rows × 40 columns</p>\n",
       "</div>"
      ],
      "text/plain": [
       "   TOT  age_x  assists_ev  assists_pp  assists_sh  blocks  corsi_against  \\\n",
       "0  DET     20           0           0           0       0             18   \n",
       "1  DET     21           0           0           0       0              9   \n",
       "2  DET     22           3           0           0      20            376   \n",
       "3  DET     23          11           0           1      39            628   \n",
       "4  DET     24          14           0           0      42            698   \n",
       "\n",
       "   corsi_for  corsi_pct  corsi_rel_pct   ...    shots_attempted  \\\n",
       "0         19       51.4          -10.0   ...                  8   \n",
       "1         22       71.0           14.6   ...                  7   \n",
       "2        409       52.1           -2.2   ...                141   \n",
       "3        765       54.9           -0.4   ...                226   \n",
       "4        794       53.2           -3.2   ...                196   \n",
       "\n",
       "   shots_attempted.1  takeaways  time_on_ice_avg  uniqueseason  \\\n",
       "0                  8          1            12.13             1   \n",
       "1                  7          0             9.18             1   \n",
       "2                141          7            10.35             1   \n",
       "3                226         17            12.18             1   \n",
       "4                196         16            12.19             1   \n",
       "\n",
       "   zs_defense_pct  zs_offense_pct  goals_all  height  weight  \n",
       "0            40.0            60.0   0.000000     188     218  \n",
       "1            33.3            66.7   0.060000     188     218  \n",
       "2            33.7            66.3   0.094595     188     218  \n",
       "3            41.2            58.8   0.098765     188     218  \n",
       "4            40.7            59.3   0.208333     188     218  \n",
       "\n",
       "[5 rows x 40 columns]"
      ]
     },
     "execution_count": 77,
     "metadata": {},
     "output_type": "execute_result"
    }
   ],
   "source": [
    "df_all.head()"
   ]
  },
  {
   "cell_type": "code",
   "execution_count": null,
   "metadata": {
    "collapsed": true
   },
   "outputs": [],
   "source": []
  },
  {
   "cell_type": "code",
   "execution_count": 78,
   "metadata": {
    "collapsed": true
   },
   "outputs": [],
   "source": [
    "\n",
    "df_all['goals_ev']=df_all['goals_ev']/df_all['games_played']\n",
    "df_all['goals_pp']=df_all['goals_pp']/df_all['games_played']\n",
    "df_all['goals_sh']=df_all['goals_sh']/df_all['games_played']\n",
    "\n",
    "df_all['assists_all']=df_all['assists_ev']+df_all['assists_pp']+df_all['assists_sh']\n",
    "df_all['assists_all']=df_all['assists_all']/df_all['games_played']\n",
    "df_all['assists_ev']=df_all['assists_ev']/df_all['games_played']\n",
    "df_all['assists_pp']=df_all['assists_pp']/df_all['games_played']\n",
    "df_all['assists_sh']=df_all['assists_sh']/df_all['games_played']\n",
    "\n",
    "df_all['zs_offense_pct']=df_all['zs_offense_pct']/100.0\n",
    "df_all['shot_pct']=df_all['shot_pct']/100.0\n",
    "df_all['takeaways']=df_all['takeaways']/df_all['games_played']\n",
    "df_all['hits']=df_all['hits']/df_all['games_played']\n",
    "\n",
    "df_all['giveaways']=df_all['giveaways']/df_all['games_played']\n",
    "df_all['blocks']=df_all['blocks']/df_all['games_played']\n",
    "\n",
    "df_all['shots_attempted']=df_all['shots_attempted']/df_all['games_played']"
   ]
  },
  {
   "cell_type": "code",
   "execution_count": 79,
   "metadata": {
    "collapsed": false
   },
   "outputs": [
    {
     "data": {
      "text/plain": [
       "Index([u'TOT', u'age_x', u'assists_ev', u'assists_pp', u'assists_sh',\n",
       "       u'blocks', u'corsi_against', u'corsi_for', u'corsi_pct',\n",
       "       u'corsi_rel_pct', u'fenwick_against', u'fenwick_for', u'fenwick_pct',\n",
       "       u'fenwick_rel_pct', u'games_played', u'giveaways', u'goals_ev',\n",
       "       u'goals_gw', u'goals_pp', u'goals_sh', u'hits', u'name',\n",
       "       u'on_ice_shot_pct', u'on_ice_sv_pct', u'pdo', u'pen_min', u'plus_minus',\n",
       "       u'season', u'shot_pct', u'shot_pct.1', u'shots_attempted',\n",
       "       u'shots_attempted.1', u'takeaways', u'time_on_ice_avg', u'uniqueseason',\n",
       "       u'zs_defense_pct', u'zs_offense_pct', u'goals_all', u'height',\n",
       "       u'weight', u'assists_all'],\n",
       "      dtype='object')"
      ]
     },
     "execution_count": 79,
     "metadata": {},
     "output_type": "execute_result"
    }
   ],
   "source": [
    "df_all.columns"
   ]
  },
  {
   "cell_type": "code",
   "execution_count": 91,
   "metadata": {
    "collapsed": false
   },
   "outputs": [],
   "source": [
    "df_all_nn=df_all[['goals_all','goals_ev','goals_pp','goals_sh','assists_ev','assists_pp','assists_sh','shots_attempted','age_x','blocks',\n",
    "                 'giveaways','hits','shot_pct','shots_attempted','takeaways','zs_offense_pct','height','weight']]"
   ]
  },
  {
   "cell_type": "code",
   "execution_count": null,
   "metadata": {
    "collapsed": true
   },
   "outputs": [],
   "source": []
  },
  {
   "cell_type": "code",
   "execution_count": 92,
   "metadata": {
    "collapsed": false
   },
   "outputs": [
    {
     "data": {
      "text/html": [
       "<div>\n",
       "<table border=\"1\" class=\"dataframe\">\n",
       "  <thead>\n",
       "    <tr style=\"text-align: right;\">\n",
       "      <th></th>\n",
       "      <th>goals_all</th>\n",
       "      <th>goals_ev</th>\n",
       "      <th>goals_pp</th>\n",
       "      <th>goals_sh</th>\n",
       "      <th>assists_ev</th>\n",
       "      <th>assists_pp</th>\n",
       "      <th>assists_sh</th>\n",
       "      <th>shots_attempted</th>\n",
       "      <th>age_x</th>\n",
       "      <th>blocks</th>\n",
       "      <th>giveaways</th>\n",
       "      <th>hits</th>\n",
       "      <th>shot_pct</th>\n",
       "      <th>shots_attempted</th>\n",
       "      <th>takeaways</th>\n",
       "      <th>zs_offense_pct</th>\n",
       "      <th>height</th>\n",
       "      <th>weight</th>\n",
       "    </tr>\n",
       "  </thead>\n",
       "  <tbody>\n",
       "    <tr>\n",
       "      <th>0</th>\n",
       "      <td>0.000000</td>\n",
       "      <td>0.000000</td>\n",
       "      <td>0</td>\n",
       "      <td>0</td>\n",
       "      <td>0.000000</td>\n",
       "      <td>0</td>\n",
       "      <td>0.000000</td>\n",
       "      <td>4.000000</td>\n",
       "      <td>20</td>\n",
       "      <td>0.000000</td>\n",
       "      <td>0.00000</td>\n",
       "      <td>2.500000</td>\n",
       "      <td>0.000</td>\n",
       "      <td>4.000000</td>\n",
       "      <td>0.500000</td>\n",
       "      <td>0.600</td>\n",
       "      <td>188</td>\n",
       "      <td>218</td>\n",
       "    </tr>\n",
       "    <tr>\n",
       "      <th>1</th>\n",
       "      <td>0.060000</td>\n",
       "      <td>0.000000</td>\n",
       "      <td>0</td>\n",
       "      <td>0</td>\n",
       "      <td>0.000000</td>\n",
       "      <td>0</td>\n",
       "      <td>0.000000</td>\n",
       "      <td>3.500000</td>\n",
       "      <td>21</td>\n",
       "      <td>0.000000</td>\n",
       "      <td>0.50000</td>\n",
       "      <td>1.500000</td>\n",
       "      <td>0.000</td>\n",
       "      <td>3.500000</td>\n",
       "      <td>0.000000</td>\n",
       "      <td>0.667</td>\n",
       "      <td>188</td>\n",
       "      <td>218</td>\n",
       "    </tr>\n",
       "    <tr>\n",
       "      <th>2</th>\n",
       "      <td>0.094595</td>\n",
       "      <td>0.060000</td>\n",
       "      <td>0</td>\n",
       "      <td>0</td>\n",
       "      <td>0.060000</td>\n",
       "      <td>0</td>\n",
       "      <td>0.000000</td>\n",
       "      <td>2.820000</td>\n",
       "      <td>22</td>\n",
       "      <td>0.400000</td>\n",
       "      <td>0.14000</td>\n",
       "      <td>3.040000</td>\n",
       "      <td>0.038</td>\n",
       "      <td>2.820000</td>\n",
       "      <td>0.140000</td>\n",
       "      <td>0.663</td>\n",
       "      <td>188</td>\n",
       "      <td>218</td>\n",
       "    </tr>\n",
       "    <tr>\n",
       "      <th>3</th>\n",
       "      <td>0.098765</td>\n",
       "      <td>0.094595</td>\n",
       "      <td>0</td>\n",
       "      <td>0</td>\n",
       "      <td>0.148649</td>\n",
       "      <td>0</td>\n",
       "      <td>0.013514</td>\n",
       "      <td>3.054054</td>\n",
       "      <td>23</td>\n",
       "      <td>0.527027</td>\n",
       "      <td>0.27027</td>\n",
       "      <td>2.540541</td>\n",
       "      <td>0.054</td>\n",
       "      <td>3.054054</td>\n",
       "      <td>0.229730</td>\n",
       "      <td>0.588</td>\n",
       "      <td>188</td>\n",
       "      <td>218</td>\n",
       "    </tr>\n",
       "    <tr>\n",
       "      <th>4</th>\n",
       "      <td>0.208333</td>\n",
       "      <td>0.098765</td>\n",
       "      <td>0</td>\n",
       "      <td>0</td>\n",
       "      <td>0.172840</td>\n",
       "      <td>0</td>\n",
       "      <td>0.000000</td>\n",
       "      <td>2.419753</td>\n",
       "      <td>24</td>\n",
       "      <td>0.518519</td>\n",
       "      <td>0.17284</td>\n",
       "      <td>1.827160</td>\n",
       "      <td>0.066</td>\n",
       "      <td>2.419753</td>\n",
       "      <td>0.197531</td>\n",
       "      <td>0.593</td>\n",
       "      <td>188</td>\n",
       "      <td>218</td>\n",
       "    </tr>\n",
       "  </tbody>\n",
       "</table>\n",
       "</div>"
      ],
      "text/plain": [
       "   goals_all  goals_ev  goals_pp  goals_sh  assists_ev  assists_pp  \\\n",
       "0   0.000000  0.000000         0         0    0.000000           0   \n",
       "1   0.060000  0.000000         0         0    0.000000           0   \n",
       "2   0.094595  0.060000         0         0    0.060000           0   \n",
       "3   0.098765  0.094595         0         0    0.148649           0   \n",
       "4   0.208333  0.098765         0         0    0.172840           0   \n",
       "\n",
       "   assists_sh  shots_attempted  age_x    blocks  giveaways      hits  \\\n",
       "0    0.000000         4.000000     20  0.000000    0.00000  2.500000   \n",
       "1    0.000000         3.500000     21  0.000000    0.50000  1.500000   \n",
       "2    0.000000         2.820000     22  0.400000    0.14000  3.040000   \n",
       "3    0.013514         3.054054     23  0.527027    0.27027  2.540541   \n",
       "4    0.000000         2.419753     24  0.518519    0.17284  1.827160   \n",
       "\n",
       "   shot_pct  shots_attempted  takeaways  zs_offense_pct  height  weight  \n",
       "0     0.000         4.000000   0.500000           0.600     188     218  \n",
       "1     0.000         3.500000   0.000000           0.667     188     218  \n",
       "2     0.038         2.820000   0.140000           0.663     188     218  \n",
       "3     0.054         3.054054   0.229730           0.588     188     218  \n",
       "4     0.066         2.419753   0.197531           0.593     188     218  "
      ]
     },
     "execution_count": 92,
     "metadata": {},
     "output_type": "execute_result"
    }
   ],
   "source": [
    "df_all_nn.head()"
   ]
  },
  {
   "cell_type": "code",
   "execution_count": null,
   "metadata": {
    "collapsed": false
   },
   "outputs": [],
   "source": []
  },
  {
   "cell_type": "code",
   "execution_count": 101,
   "metadata": {
    "collapsed": false
   },
   "outputs": [],
   "source": [
    "cols_to_norm = ['goals_ev','goals_pp','goals_sh','assists_ev','assists_pp','assists_sh','shots_attempted','age_x','blocks','giveaways',\n",
    "               'hits','shot_pct','shots_attempted','takeaways','zs_offense_pct','height','weight']\n",
    "df_all_nn_2=df_all_nn[cols_to_norm].apply(lambda x: (x - x.mean()) / (x.max() - x.min()))"
   ]
  },
  {
   "cell_type": "code",
   "execution_count": 108,
   "metadata": {
    "collapsed": false
   },
   "outputs": [
    {
     "data": {
      "text/html": [
       "<div>\n",
       "<table border=\"1\" class=\"dataframe\">\n",
       "  <thead>\n",
       "    <tr style=\"text-align: right;\">\n",
       "      <th></th>\n",
       "      <th>goals_ev</th>\n",
       "      <th>goals_pp</th>\n",
       "      <th>goals_sh</th>\n",
       "      <th>assists_ev</th>\n",
       "      <th>assists_pp</th>\n",
       "      <th>assists_sh</th>\n",
       "      <th>shots_attempted</th>\n",
       "      <th>shots_attempted</th>\n",
       "      <th>age_x</th>\n",
       "      <th>blocks</th>\n",
       "      <th>giveaways</th>\n",
       "      <th>hits</th>\n",
       "      <th>shot_pct</th>\n",
       "      <th>shots_attempted</th>\n",
       "      <th>shots_attempted</th>\n",
       "      <th>takeaways</th>\n",
       "      <th>zs_offense_pct</th>\n",
       "      <th>height</th>\n",
       "      <th>weight</th>\n",
       "      <th>goals_all</th>\n",
       "    </tr>\n",
       "  </thead>\n",
       "  <tbody>\n",
       "    <tr>\n",
       "      <th>0</th>\n",
       "      <td>-0.108012</td>\n",
       "      <td>-0.032897</td>\n",
       "      <td>-0.008061</td>\n",
       "      <td>-0.177088</td>\n",
       "      <td>-0.062086</td>\n",
       "      <td>-0.020775</td>\n",
       "      <td>0.092108</td>\n",
       "      <td>0.092108</td>\n",
       "      <td>0.290891</td>\n",
       "      <td>-0.203475</td>\n",
       "      <td>-0.136367</td>\n",
       "      <td>0.173870</td>\n",
       "      <td>-0.080549</td>\n",
       "      <td>0.092108</td>\n",
       "      <td>0.092108</td>\n",
       "      <td>0.079107</td>\n",
       "      <td>0.091405</td>\n",
       "      <td>0.047091</td>\n",
       "      <td>0.125788</td>\n",
       "      <td>0.000000</td>\n",
       "    </tr>\n",
       "    <tr>\n",
       "      <th>1</th>\n",
       "      <td>-0.108012</td>\n",
       "      <td>-0.032897</td>\n",
       "      <td>-0.008061</td>\n",
       "      <td>-0.177088</td>\n",
       "      <td>-0.062086</td>\n",
       "      <td>-0.020775</td>\n",
       "      <td>0.046275</td>\n",
       "      <td>0.046275</td>\n",
       "      <td>0.238260</td>\n",
       "      <td>-0.203475</td>\n",
       "      <td>0.030300</td>\n",
       "      <td>0.031013</td>\n",
       "      <td>-0.080549</td>\n",
       "      <td>0.046275</td>\n",
       "      <td>0.046275</td>\n",
       "      <td>-0.213862</td>\n",
       "      <td>0.158405</td>\n",
       "      <td>0.047091</td>\n",
       "      <td>0.125788</td>\n",
       "      <td>0.060000</td>\n",
       "    </tr>\n",
       "    <tr>\n",
       "      <th>2</th>\n",
       "      <td>-0.048012</td>\n",
       "      <td>-0.032897</td>\n",
       "      <td>-0.008061</td>\n",
       "      <td>-0.117088</td>\n",
       "      <td>-0.062086</td>\n",
       "      <td>-0.020775</td>\n",
       "      <td>-0.016057</td>\n",
       "      <td>-0.016057</td>\n",
       "      <td>0.185628</td>\n",
       "      <td>-0.091814</td>\n",
       "      <td>-0.089700</td>\n",
       "      <td>0.251013</td>\n",
       "      <td>-0.042549</td>\n",
       "      <td>-0.016057</td>\n",
       "      <td>-0.016057</td>\n",
       "      <td>-0.131830</td>\n",
       "      <td>0.154405</td>\n",
       "      <td>0.047091</td>\n",
       "      <td>0.125788</td>\n",
       "      <td>0.094595</td>\n",
       "    </tr>\n",
       "    <tr>\n",
       "      <th>3</th>\n",
       "      <td>-0.013418</td>\n",
       "      <td>-0.032897</td>\n",
       "      <td>-0.008061</td>\n",
       "      <td>-0.028439</td>\n",
       "      <td>-0.062086</td>\n",
       "      <td>0.046792</td>\n",
       "      <td>0.005397</td>\n",
       "      <td>0.005397</td>\n",
       "      <td>0.132997</td>\n",
       "      <td>-0.056354</td>\n",
       "      <td>-0.046277</td>\n",
       "      <td>0.179662</td>\n",
       "      <td>-0.026549</td>\n",
       "      <td>0.005397</td>\n",
       "      <td>0.005397</td>\n",
       "      <td>-0.079254</td>\n",
       "      <td>0.079405</td>\n",
       "      <td>0.047091</td>\n",
       "      <td>0.125788</td>\n",
       "      <td>0.098765</td>\n",
       "    </tr>\n",
       "    <tr>\n",
       "      <th>4</th>\n",
       "      <td>-0.009247</td>\n",
       "      <td>-0.032897</td>\n",
       "      <td>-0.008061</td>\n",
       "      <td>-0.004248</td>\n",
       "      <td>-0.062086</td>\n",
       "      <td>-0.020775</td>\n",
       "      <td>-0.052746</td>\n",
       "      <td>-0.052746</td>\n",
       "      <td>0.080365</td>\n",
       "      <td>-0.058730</td>\n",
       "      <td>-0.078754</td>\n",
       "      <td>0.077751</td>\n",
       "      <td>-0.014549</td>\n",
       "      <td>-0.052746</td>\n",
       "      <td>-0.052746</td>\n",
       "      <td>-0.098121</td>\n",
       "      <td>0.084405</td>\n",
       "      <td>0.047091</td>\n",
       "      <td>0.125788</td>\n",
       "      <td>0.208333</td>\n",
       "    </tr>\n",
       "  </tbody>\n",
       "</table>\n",
       "</div>"
      ],
      "text/plain": [
       "   goals_ev  goals_pp  goals_sh  assists_ev  assists_pp  assists_sh  \\\n",
       "0 -0.108012 -0.032897 -0.008061   -0.177088   -0.062086   -0.020775   \n",
       "1 -0.108012 -0.032897 -0.008061   -0.177088   -0.062086   -0.020775   \n",
       "2 -0.048012 -0.032897 -0.008061   -0.117088   -0.062086   -0.020775   \n",
       "3 -0.013418 -0.032897 -0.008061   -0.028439   -0.062086    0.046792   \n",
       "4 -0.009247 -0.032897 -0.008061   -0.004248   -0.062086   -0.020775   \n",
       "\n",
       "   shots_attempted  shots_attempted     age_x    blocks  giveaways      hits  \\\n",
       "0         0.092108         0.092108  0.290891 -0.203475  -0.136367  0.173870   \n",
       "1         0.046275         0.046275  0.238260 -0.203475   0.030300  0.031013   \n",
       "2        -0.016057        -0.016057  0.185628 -0.091814  -0.089700  0.251013   \n",
       "3         0.005397         0.005397  0.132997 -0.056354  -0.046277  0.179662   \n",
       "4        -0.052746        -0.052746  0.080365 -0.058730  -0.078754  0.077751   \n",
       "\n",
       "   shot_pct  shots_attempted  shots_attempted  takeaways  zs_offense_pct  \\\n",
       "0 -0.080549         0.092108         0.092108   0.079107        0.091405   \n",
       "1 -0.080549         0.046275         0.046275  -0.213862        0.158405   \n",
       "2 -0.042549        -0.016057        -0.016057  -0.131830        0.154405   \n",
       "3 -0.026549         0.005397         0.005397  -0.079254        0.079405   \n",
       "4 -0.014549        -0.052746        -0.052746  -0.098121        0.084405   \n",
       "\n",
       "     height    weight  goals_all  \n",
       "0  0.047091  0.125788   0.000000  \n",
       "1  0.047091  0.125788   0.060000  \n",
       "2  0.047091  0.125788   0.094595  \n",
       "3  0.047091  0.125788   0.098765  \n",
       "4  0.047091  0.125788   0.208333  "
      ]
     },
     "execution_count": 108,
     "metadata": {},
     "output_type": "execute_result"
    }
   ],
   "source": [
    "df_all_nn_2.head()"
   ]
  },
  {
   "cell_type": "code",
   "execution_count": 103,
   "metadata": {
    "collapsed": true
   },
   "outputs": [],
   "source": [
    "df_all_nn_2['goals_all']=df_all_nn['goals_all']"
   ]
  },
  {
   "cell_type": "code",
   "execution_count": 104,
   "metadata": {
    "collapsed": true
   },
   "outputs": [],
   "source": [
    "df_all_nn_2['age_x'] = df_all_nn_2['age_x'].apply(lambda x: abs(x))"
   ]
  },
  {
   "cell_type": "code",
   "execution_count": 105,
   "metadata": {
    "collapsed": false
   },
   "outputs": [],
   "source": [
    "df_all_nn_2=df_all_nn_2.reset_index(drop=True)"
   ]
  },
  {
   "cell_type": "code",
   "execution_count": 106,
   "metadata": {
    "collapsed": true
   },
   "outputs": [],
   "source": [
    "import pandas as pd\n",
    "import pylab as pl\n",
    "from sklearn.neighbors import KNeighborsClassifier\n"
   ]
  },
  {
   "cell_type": "code",
   "execution_count": 107,
   "metadata": {
    "collapsed": false
   },
   "outputs": [
    {
     "data": {
      "text/plain": [
       "1081"
      ]
     },
     "execution_count": 107,
     "metadata": {},
     "output_type": "execute_result"
    }
   ],
   "source": [
    "len(train )\n",
    "len(test )"
   ]
  },
  {
   "cell_type": "code",
   "execution_count": 116,
   "metadata": {
    "collapsed": false
   },
   "outputs": [
    {
     "name": "stdout",
     "output_type": "stream",
     "text": [
      "Neighbors: 1, Accuracy: 0.012055\n",
      "Neighbors: 2, Accuracy: 0.011025\n",
      "Neighbors: 3, Accuracy: 0.012229\n",
      "Neighbors: 4, Accuracy: 0.013570\n",
      "Neighbors: 5, Accuracy: 0.014659\n",
      "Neighbors: 6, Accuracy: 0.015326\n",
      "Neighbors: 7, Accuracy: 0.015915\n",
      "Neighbors: 8, Accuracy: 0.016575\n",
      "Neighbors: 9, Accuracy: 0.016929\n"
     ]
    }
   ],
   "source": [
    "features = ['goals_ev','goals_pp','goals_sh','assists_ev','assists_pp','assists_sh','shots_attempted','age_x','blocks','giveaways',\n",
    "               'hits','shot_pct','shots_attempted','takeaways','zs_offense_pct','height','weight']\n",
    "results_all=[]\n",
    "for k in range(1,10,1):\n",
    "    results=[]\n",
    "    for n in range(1, 100, 1):\n",
    "    \n",
    "        test_idx = np.random.uniform(0, 1, len(df_all_nn_2)) <= 0.8\n",
    "        train = df_all_nn_2[test_idx==True]\n",
    "        test = df_all_nn_2[test_idx==False]\n",
    "\n",
    "        clf = KNeighborsClassifier(n_neighbors=k)\n",
    "        clf.fit(train[features], np.asarray(train['goals_all'], dtype=\"|S6\"))\n",
    "        preds = clf.predict(test[features])\n",
    "        test_goals_all=list(test['goals_all'])\n",
    "        distance=0\n",
    "        for i in range(len(test_goals_all)):\n",
    "            #error.append(test_goals_all[i]-float(preds[i]))\n",
    "            distance += pow((test_goals_all[i]-float(preds[i])), 2)\n",
    "        accuracy = distance/ float(len(test))\n",
    "        \n",
    "\n",
    "        results.append(accuracy)\n",
    "\n",
    "#    print sum(results)/len(results)\n",
    "    results_all.append([k, sum(results)/len(results)])\n",
    "    print \"Neighbors: %d, Accuracy: %3f\" % (k, sum(results)/len(results))\n"
   ]
  },
  {
   "cell_type": "code",
   "execution_count": 115,
   "metadata": {
    "collapsed": false
   },
   "outputs": [
    {
     "data": {
      "text/plain": [
       "[[1, 0.011511309168146041],\n",
       " [2, 0.010821284027469461],\n",
       " [3, 0.011824158993678937],\n",
       " [4, 0.01351082505793188],\n",
       " [5, 0.013594640855401366],\n",
       " [6, 0.015254646082771757],\n",
       " [7, 0.015613721396462166],\n",
       " [8, 0.016953351325169869],\n",
       " [9, 0.016740448716444332]]"
      ]
     },
     "execution_count": 115,
     "metadata": {},
     "output_type": "execute_result"
    }
   ],
   "source": [
    "results_all"
   ]
  },
  {
   "cell_type": "code",
   "execution_count": 121,
   "metadata": {
    "collapsed": false
   },
   "outputs": [],
   "source": [
    "KNN_Error=pd.DataFrame(results_all,columns=['Neighbors','Error'])"
   ]
  },
  {
   "cell_type": "code",
   "execution_count": 123,
   "metadata": {
    "collapsed": true
   },
   "outputs": [],
   "source": [
    "#results_df_ridge = pd.DataFrame(results_all_ridge, columns=[\"Penalty\", \"error\"])\n",
    "\n",
    "pl.plot(KNN_Error.Neighbors, KNN_Error.Error)\n",
    "pl.title(\"Error with Number of Neighbors (KNN)\")\n",
    "pl.xlabel('Neighbors')\n",
    "pl.ylabel('Error')\n",
    "pl.show()"
   ]
  },
  {
   "cell_type": "code",
   "execution_count": 130,
   "metadata": {
    "collapsed": false
   },
   "outputs": [
    {
     "name": "stdout",
     "output_type": "stream",
     "text": [
      "Neighbors: 1, Accuracy: 0.013302\n",
      "Neighbors: 2, Accuracy: 0.011749\n",
      "Neighbors: 3, Accuracy: 0.013370\n",
      "Neighbors: 4, Accuracy: 0.014463\n",
      "Neighbors: 5, Accuracy: 0.015578\n",
      "Neighbors: 6, Accuracy: 0.016335\n",
      "Neighbors: 7, Accuracy: 0.017000\n",
      "Neighbors: 8, Accuracy: 0.017705\n",
      "Neighbors: 9, Accuracy: 0.018132\n"
     ]
    }
   ],
   "source": [
    "features = ['goals_ev','goals_pp','goals_sh','assists_ev','assists_pp','assists_sh','shots_attempted','age_x','zs_offense_pct','takeaways','height','weight']\n",
    "results_all=[]\n",
    "for k in range(1,10,1):\n",
    "    results=[]\n",
    "    for n in range(1, 100, 1):\n",
    "    \n",
    "        test_idx = np.random.uniform(0, 1, len(df_all_nn_2)) <= 0.8\n",
    "        train = df_all_nn_2[test_idx==True]\n",
    "        test = df_all_nn_2[test_idx==False]\n",
    "\n",
    "        clf = KNeighborsClassifier(n_neighbors=k)\n",
    "        clf.fit(train[features], np.asarray(train['goals_all'], dtype=\"|S6\"))\n",
    "        preds = clf.predict(test[features])\n",
    "        test_goals_all=list(test['goals_all'])\n",
    "        distance=0\n",
    "        for i in range(len(test_goals_all)):\n",
    "            #error.append(test_goals_all[i]-float(preds[i]))\n",
    "            distance += pow((test_goals_all[i]-float(preds[i])), 2)\n",
    "        accuracy = distance/ float(len(test))\n",
    "        \n",
    "\n",
    "        results.append(accuracy)\n",
    "\n",
    "#    print sum(results)/len(results)\n",
    "    results_all.append([k, sum(results)/len(results)])\n",
    "    print \"Neighbors: %d, Accuracy: %3f\" % (k, sum(results)/len(results))\n"
   ]
  },
  {
   "cell_type": "code",
   "execution_count": 131,
   "metadata": {
    "collapsed": true
   },
   "outputs": [],
   "source": [
    "KNN_Error=pd.DataFrame(results_all,columns=['Num of Neighbors','Error'])"
   ]
  },
  {
   "cell_type": "code",
   "execution_count": 132,
   "metadata": {
    "collapsed": false
   },
   "outputs": [
    {
     "data": {
      "text/html": [
       "<div>\n",
       "<table border=\"1\" class=\"dataframe\">\n",
       "  <thead>\n",
       "    <tr style=\"text-align: right;\">\n",
       "      <th></th>\n",
       "      <th>Num of Neighbors</th>\n",
       "      <th>Error</th>\n",
       "    </tr>\n",
       "  </thead>\n",
       "  <tbody>\n",
       "    <tr>\n",
       "      <th>0</th>\n",
       "      <td>1</td>\n",
       "      <td>0.013302</td>\n",
       "    </tr>\n",
       "    <tr>\n",
       "      <th>1</th>\n",
       "      <td>2</td>\n",
       "      <td>0.011749</td>\n",
       "    </tr>\n",
       "    <tr>\n",
       "      <th>2</th>\n",
       "      <td>3</td>\n",
       "      <td>0.013370</td>\n",
       "    </tr>\n",
       "    <tr>\n",
       "      <th>3</th>\n",
       "      <td>4</td>\n",
       "      <td>0.014463</td>\n",
       "    </tr>\n",
       "    <tr>\n",
       "      <th>4</th>\n",
       "      <td>5</td>\n",
       "      <td>0.015578</td>\n",
       "    </tr>\n",
       "    <tr>\n",
       "      <th>5</th>\n",
       "      <td>6</td>\n",
       "      <td>0.016335</td>\n",
       "    </tr>\n",
       "    <tr>\n",
       "      <th>6</th>\n",
       "      <td>7</td>\n",
       "      <td>0.017000</td>\n",
       "    </tr>\n",
       "    <tr>\n",
       "      <th>7</th>\n",
       "      <td>8</td>\n",
       "      <td>0.017705</td>\n",
       "    </tr>\n",
       "    <tr>\n",
       "      <th>8</th>\n",
       "      <td>9</td>\n",
       "      <td>0.018132</td>\n",
       "    </tr>\n",
       "  </tbody>\n",
       "</table>\n",
       "</div>"
      ],
      "text/plain": [
       "   Num of Neighbors     Error\n",
       "0                 1  0.013302\n",
       "1                 2  0.011749\n",
       "2                 3  0.013370\n",
       "3                 4  0.014463\n",
       "4                 5  0.015578\n",
       "5                 6  0.016335\n",
       "6                 7  0.017000\n",
       "7                 8  0.017705\n",
       "8                 9  0.018132"
      ]
     },
     "execution_count": 132,
     "metadata": {},
     "output_type": "execute_result"
    }
   ],
   "source": [
    "KNN_Error"
   ]
  },
  {
   "cell_type": "code",
   "execution_count": 126,
   "metadata": {
    "collapsed": true
   },
   "outputs": [],
   "source": [
    "#results_df_ridge = pd.DataFrame(results_all_ridge, columns=[\"Penalty\", \"error\"])\n",
    "\n",
    "pl.plot(KNN_Error.Neighbors, KNN_Error.Error)\n",
    "pl.title(\"Error with Number of Neighbors (KNN Offeisive Variables)\")\n",
    "pl.xlabel('Neighbors')\n",
    "pl.ylabel('Error')\n",
    "pl.show()"
   ]
  },
  {
   "cell_type": "code",
   "execution_count": 238,
   "metadata": {
    "collapsed": false
   },
   "outputs": [
    {
     "name": "stdout",
     "output_type": "stream",
     "text": [
      "Neighbors: 1, Accuracy: 14.493003\n",
      "Neighbors: 2, Accuracy: 13.770452\n",
      "Neighbors: 3, Accuracy: 15.141805\n",
      "Neighbors: 4, Accuracy: 16.597910\n",
      "Neighbors: 5, Accuracy: 17.702272\n",
      "Neighbors: 6, Accuracy: 18.930243\n",
      "Neighbors: 7, Accuracy: 19.188645\n",
      "Neighbors: 8, Accuracy: 19.615257\n",
      "Neighbors: 9, Accuracy: 20.174021\n"
     ]
    }
   ],
   "source": [
    "test_idx = np.random.uniform(0, 1, len(df_all_nn_2)) <= 0.8\n",
    "train = df_all_nn_2[test_idx==True]\n",
    "test = df_all_nn_2[test_idx==False]\n",
    "\n",
    "features = ['goals_pp','goals_sh','assists_ev','assists_pp','assists_sh','age_x',\n",
    "               'hits','shots_attempted','takeaways','zs_offense_pct','weight','height']\n",
    "\n",
    "results = []\n",
    "for n in range(1, 10, 1):\n",
    "    \n",
    "    clf = KNeighborsClassifier(n_neighbors=n)\n",
    "    clf.fit(train[features], np.asarray(train['goals_all'], dtype=\"|S6\"))\n",
    "    preds = clf.predict(test[features])\n",
    "    test_goals_all=list(test['goals_all'])\n",
    "    distance=0\n",
    "    for i in range(len(test_goals_all)):\n",
    "        #error.append(test_goals_all[i]-float(preds[i]))\n",
    "        distance += pow((test_goals_all[i]-float(preds[i])), 2)\n",
    "    accuracy = distance/ float(len(test))\n",
    "    print \"Neighbors: %d, Accuracy: %3f\" % (n, distance)\n",
    "\n",
    "    results.append([n, distance])"
   ]
  },
  {
   "cell_type": "code",
   "execution_count": 170,
   "metadata": {
    "collapsed": false
   },
   "outputs": [
    {
     "data": {
      "text/plain": [
       "1394"
      ]
     },
     "execution_count": 170,
     "metadata": {},
     "output_type": "execute_result"
    }
   ],
   "source": [
    "len(train)\n",
    "len(test)"
   ]
  },
  {
   "cell_type": "code",
   "execution_count": 166,
   "metadata": {
    "collapsed": true
   },
   "outputs": [],
   "source": [
    "results_df = pd.DataFrame(results_all, columns=[\"n\", \"accuracy\"])\n",
    "\n",
    "pl.plot(results_df.n, results_df.accuracy)\n",
    "pl.title(\"Accuracy with Increasing K\")\n",
    "pl.show()"
   ]
  },
  {
   "cell_type": "code",
   "execution_count": 68,
   "metadata": {
    "collapsed": false
   },
   "outputs": [
    {
     "name": "stdout",
     "output_type": "stream",
     "text": [
      "Neighbors: 1, Accuracy: 0.760999\n",
      "Neighbors: 3, Accuracy: 0.776697\n",
      "Neighbors: 5, Accuracy: 0.779571\n",
      "Neighbors: 7, Accuracy: 0.784214\n",
      "Neighbors: 9, Accuracy: 0.788194\n",
      "Neighbors: 11, Accuracy: 0.793058\n",
      "Neighbors: 13, Accuracy: 0.792616\n",
      "Neighbors: 15, Accuracy: 0.799912\n",
      "Neighbors: 17, Accuracy: 0.800354\n",
      "Neighbors: 19, Accuracy: 0.801901\n",
      "Neighbors: 21, Accuracy: 0.802565\n",
      "Neighbors: 23, Accuracy: 0.801459\n",
      "Neighbors: 25, Accuracy: 0.801459\n",
      "Neighbors: 27, Accuracy: 0.800133\n",
      "Neighbors: 29, Accuracy: 0.800354\n",
      "Neighbors: 31, Accuracy: 0.801238\n",
      "Neighbors: 33, Accuracy: 0.800575\n",
      "Neighbors: 35, Accuracy: 0.803228\n",
      "Neighbors: 37, Accuracy: 0.804333\n",
      "Neighbors: 39, Accuracy: 0.803449\n",
      "Neighbors: 41, Accuracy: 0.803449\n",
      "Neighbors: 43, Accuracy: 0.804554\n",
      "Neighbors: 45, Accuracy: 0.804776\n",
      "Neighbors: 47, Accuracy: 0.804333\n",
      "Neighbors: 49, Accuracy: 0.804333\n"
     ]
    }
   ],
   "source": [
    "import pandas as pd\n",
    "import pylab as pl\n",
    "from sklearn.neighbors import KNeighborsClassifier\n",
    "\n",
    "\n",
    "df = pd.read_csv(\"https://s3.amazonaws.com/demo-datasets/wine.csv\")\n",
    "\n",
    "test_idx = np.random.uniform(0, 1, len(df)) <= 0.3\n",
    "train = df[test_idx==True]\n",
    "test = df[test_idx==False]\n",
    "\n",
    "features = ['density', 'sulphates', 'residual_sugar']\n",
    "\n",
    "results = []\n",
    "for n in range(1, 51, 2):\n",
    "    clf = KNeighborsClassifier(n_neighbors=n)\n",
    "    clf.fit(train[features], train['high_quality'])\n",
    "    preds = clf.predict(test[features])\n",
    "    accuracy = np.where(preds==test['high_quality'], 1, 0).sum() / float(len(test))\n",
    "    print \"Neighbors: %d, Accuracy: %3f\" % (n, accuracy)\n",
    "\n",
    "    results.append([n, accuracy])\n",
    "\n",
    "results = pd.DataFrame(results, columns=[\"n\", \"accuracy\"])\n",
    "\n",
    "pl.plot(results.n, results.accuracy)\n",
    "pl.title(\"Accuracy with Increasing K\")\n",
    "pl.show()"
   ]
  },
  {
   "cell_type": "code",
   "execution_count": null,
   "metadata": {
    "collapsed": true
   },
   "outputs": [],
   "source": []
  },
  {
   "cell_type": "code",
   "execution_count": null,
   "metadata": {
    "collapsed": true
   },
   "outputs": [],
   "source": []
  },
  {
   "cell_type": "code",
   "execution_count": null,
   "metadata": {
    "collapsed": true
   },
   "outputs": [],
   "source": []
  },
  {
   "cell_type": "code",
   "execution_count": null,
   "metadata": {
    "collapsed": true
   },
   "outputs": [],
   "source": []
  }
 ],
 "metadata": {
  "kernelspec": {
   "display_name": "Python [Root]",
   "language": "python",
   "name": "Python [Root]"
  },
  "language_info": {
   "codemirror_mode": {
    "name": "ipython",
    "version": 2
   },
   "file_extension": ".py",
   "mimetype": "text/x-python",
   "name": "python",
   "nbconvert_exporter": "python",
   "pygments_lexer": "ipython2",
   "version": "2.7.12"
  }
 },
 "nbformat": 4,
 "nbformat_minor": 0
}
