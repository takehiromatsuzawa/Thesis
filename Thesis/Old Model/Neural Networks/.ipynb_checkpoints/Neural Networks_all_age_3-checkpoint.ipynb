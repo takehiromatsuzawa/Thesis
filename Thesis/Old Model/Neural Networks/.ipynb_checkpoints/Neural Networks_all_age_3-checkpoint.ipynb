{
 "cells": [
  {
   "cell_type": "code",
   "execution_count": 2,
   "metadata": {
    "collapsed": true
   },
   "outputs": [],
   "source": [
    "import pandas as pd\n",
    "import numpy as np\n"
   ]
  },
  {
   "cell_type": "code",
   "execution_count": 3,
   "metadata": {
    "collapsed": false
   },
   "outputs": [],
   "source": [
    "df_age_19=pd.read_csv('AgeData/df_age_19.csv',index_col=0)\n",
    "df_age_20=pd.read_csv('AgeData/df_age_20.csv',index_col=0)\n",
    "df_age_21=pd.read_csv('AgeData/df_age_21.csv',index_col=0)\n",
    "df_age_22=pd.read_csv('AgeData/df_age_22.csv',index_col=0)\n",
    "df_age_23=pd.read_csv('AgeData/df_age_23.csv',index_col=0)\n",
    "df_age_24=pd.read_csv('AgeData/df_age_24.csv',index_col=0)\n",
    "df_age_25=pd.read_csv('AgeData/df_age_25.csv',index_col=0)\n",
    "df_age_26=pd.read_csv('AgeData/df_age_26.csv',index_col=0)\n",
    "df_age_27=pd.read_csv('AgeData/df_age_27.csv',index_col=0)\n",
    "df_age_28=pd.read_csv('AgeData/df_age_28.csv',index_col=0)\n",
    "df_age_29=pd.read_csv('AgeData/df_age_29.csv',index_col=0)\n",
    "\n",
    "df_age_30=pd.read_csv('AgeData/df_age_30.csv',index_col=0)\n",
    "df_age_31=pd.read_csv('AgeData/df_age_31.csv',index_col=0)\n",
    "df_age_32=pd.read_csv('AgeData/df_age_32.csv',index_col=0)\n",
    "df_age_33=pd.read_csv('AgeData/df_age_33.csv',index_col=0)\n",
    "df_age_34=pd.read_csv('AgeData/df_age_34.csv',index_col=0)\n",
    "df_age_35=pd.read_csv('AgeData/df_age_35.csv',index_col=0)\n",
    "df_age_36=pd.read_csv('AgeData/df_age_36.csv',index_col=0)\n",
    "df_age_37=pd.read_csv('AgeData/df_age_37.csv',index_col=0)\n",
    "df_age_38=pd.read_csv('AgeData/df_age_38.csv',index_col=0)\n",
    "df_age_39=pd.read_csv('AgeData/df_age_39.csv',index_col=0)"
   ]
  },
  {
   "cell_type": "code",
   "execution_count": 4,
   "metadata": {
    "collapsed": true
   },
   "outputs": [],
   "source": [
    "dfplayer1996=pd.read_csv('dfplayer1996.csv')\n",
    "dfplayer1997=pd.read_csv('dfplayer1997.csv')\n",
    "dfplayer1998=pd.read_csv('dfplayer1998.csv')\n",
    "dfplayer1999=pd.read_csv('dfplayer1999.csv')\n",
    "\n",
    "dfplayer2000=pd.read_csv('dfplayer2000.csv')\n",
    "dfplayer2001=pd.read_csv('dfplayer2001.csv')\n",
    "dfplayer2002=pd.read_csv('dfplayer2002.csv')\n",
    "dfplayer2003=pd.read_csv('dfplayer2003.csv')\n",
    "dfplayer2004=pd.read_csv('dfplayer2004.csv')\n",
    "\n",
    "dfplayer2005=pd.read_csv('dfplayer2005.csv')\n",
    "dfplayer2006=pd.read_csv('dfplayer2006.csv')\n",
    "dfplayer2007=pd.read_csv('dfplayer2007.csv')\n",
    "dfplayer2008=pd.read_csv('dfplayer2008.csv')\n",
    "dfplayer2009=pd.read_csv('dfplayer2009.csv')\n",
    "\n",
    "dfplayer2010=pd.read_csv('dfplayer2010.csv')\n",
    "dfplayer2011=pd.read_csv('dfplayer2011.csv')\n",
    "dfplayer2012=pd.read_csv('dfplayer2012.csv')\n",
    "dfplayer2013=pd.read_csv('dfplayer2013.csv')\n",
    "dfplayer2014=pd.read_csv('dfplayer2014.csv')\n",
    "\n",
    "dfplayer2015=pd.read_csv('dfplayer2015.csv')"
   ]
  },
  {
   "cell_type": "code",
   "execution_count": 5,
   "metadata": {
    "collapsed": true
   },
   "outputs": [],
   "source": [
    "namePlayer=[]\n",
    "for elem in dfplayer1996['url']:\n",
    "    namePlayer.append(elem[11:-5])\n",
    "    \n",
    "dfplayer1996['name']=namePlayer\n",
    "\n",
    "del dfplayer1996['Unnamed: 0']\n",
    "del dfplayer1996['url']\n",
    "del dfplayer1996['draft']\n",
    "del dfplayer1996['shot']\n",
    "del dfplayer1996['pos']\n",
    "\n",
    "\n",
    "namePlayer=[]\n",
    "for elem in dfplayer1997['url']:\n",
    "    namePlayer.append(elem[11:-5])\n",
    "    \n",
    "dfplayer1997['name']=namePlayer\n",
    "\n",
    "del dfplayer1997['Unnamed: 0']\n",
    "del dfplayer1997['url']\n",
    "del dfplayer1997['draft']\n",
    "del dfplayer1997['shot']\n",
    "del dfplayer1997['pos']\n",
    "\n",
    "namePlayer=[]\n",
    "for elem in dfplayer1998['url']:\n",
    "    namePlayer.append(elem[11:-5])\n",
    "    \n",
    "dfplayer1998['name']=namePlayer\n",
    "\n",
    "del dfplayer1998['Unnamed: 0']\n",
    "del dfplayer1998['url']\n",
    "del dfplayer1998['draft']\n",
    "del dfplayer1998['shot']\n",
    "del dfplayer1998['pos']\n",
    "\n",
    "namePlayer=[]\n",
    "for elem in dfplayer1999['url']:\n",
    "    namePlayer.append(elem[11:-5])\n",
    "    \n",
    "dfplayer1999['name']=namePlayer\n",
    "\n",
    "del dfplayer1999['Unnamed: 0']\n",
    "del dfplayer1999['url']\n",
    "del dfplayer1999['draft']\n",
    "del dfplayer1999['shot']\n",
    "del dfplayer1999['pos']\n",
    "\n",
    "namePlayer=[]\n",
    "for elem in dfplayer2000['url']:\n",
    "    namePlayer.append(elem[11:-5])\n",
    "    \n",
    "dfplayer2000['name']=namePlayer\n",
    "\n",
    "del dfplayer2000['Unnamed: 0']\n",
    "del dfplayer2000['url']\n",
    "del dfplayer2000['draft']\n",
    "del dfplayer2000['shot']\n",
    "del dfplayer2000['pos']\n",
    "\n",
    "namePlayer=[]\n",
    "for elem in dfplayer2001['url']:\n",
    "    namePlayer.append(elem[11:-5])\n",
    "    \n",
    "dfplayer2001['name']=namePlayer\n",
    "\n",
    "del dfplayer2001['Unnamed: 0']\n",
    "del dfplayer2001['url']\n",
    "del dfplayer2001['draft']\n",
    "del dfplayer2001['shot']\n",
    "del dfplayer2001['pos']\n",
    "\n",
    "namePlayer=[]\n",
    "for elem in dfplayer2002['url']:\n",
    "    namePlayer.append(elem[11:-5])\n",
    "    \n",
    "dfplayer2002['name']=namePlayer\n",
    "\n",
    "del dfplayer2002['Unnamed: 0']\n",
    "del dfplayer2002['url']\n",
    "del dfplayer2002['draft']\n",
    "del dfplayer2002['shot']\n",
    "del dfplayer2002['pos']\n",
    "\n",
    "namePlayer=[]\n",
    "for elem in dfplayer2003['url']:\n",
    "    namePlayer.append(elem[11:-5])\n",
    "    \n",
    "dfplayer2003['name']=namePlayer\n",
    "\n",
    "del dfplayer2003['Unnamed: 0']\n",
    "del dfplayer2003['url']\n",
    "del dfplayer2003['draft']\n",
    "del dfplayer2003['shot']\n",
    "del dfplayer2003['pos']\n",
    "\n",
    "namePlayer=[]\n",
    "for elem in dfplayer2004['url']:\n",
    "    namePlayer.append(elem[11:-5])\n",
    "    \n",
    "dfplayer2004['name']=namePlayer\n",
    "\n",
    "del dfplayer2004['Unnamed: 0']\n",
    "del dfplayer2004['url']\n",
    "del dfplayer2004['draft']\n",
    "del dfplayer2004['shot']\n",
    "del dfplayer2004['pos']\n",
    "\n",
    "namePlayer=[]\n",
    "for elem in dfplayer2005['url']:\n",
    "    namePlayer.append(elem[11:-5])\n",
    "    \n",
    "dfplayer2005['name']=namePlayer\n",
    "\n",
    "del dfplayer2005['Unnamed: 0']\n",
    "del dfplayer2005['url']\n",
    "del dfplayer2005['draft']\n",
    "del dfplayer2005['shot']\n",
    "del dfplayer2005['pos']\n",
    "\n",
    "namePlayer=[]\n",
    "for elem in dfplayer2006['url']:\n",
    "    namePlayer.append(elem[11:-5])\n",
    "    \n",
    "dfplayer2006['name']=namePlayer\n",
    "\n",
    "del dfplayer2006['Unnamed: 0']\n",
    "del dfplayer2006['url']\n",
    "del dfplayer2006['draft']\n",
    "del dfplayer2006['shot']\n",
    "del dfplayer2006['pos']\n",
    "\n",
    "namePlayer=[]\n",
    "for elem in dfplayer2007['url']:\n",
    "    namePlayer.append(elem[11:-5])\n",
    "    \n",
    "dfplayer2007['name']=namePlayer\n",
    "\n",
    "del dfplayer2007['Unnamed: 0']\n",
    "del dfplayer2007['url']\n",
    "del dfplayer2007['draft']\n",
    "del dfplayer2007['shot']\n",
    "del dfplayer2007['pos']\n",
    "\n",
    "namePlayer=[]\n",
    "for elem in dfplayer2008['url']:\n",
    "    namePlayer.append(elem[11:-5])\n",
    "    \n",
    "dfplayer2008['name']=namePlayer\n",
    "\n",
    "del dfplayer2008['Unnamed: 0']\n",
    "del dfplayer2008['url']\n",
    "del dfplayer2008['draft']\n",
    "del dfplayer2008['shot']\n",
    "del dfplayer2008['pos']\n",
    "\n",
    "namePlayer=[]\n",
    "for elem in dfplayer2009['url']:\n",
    "    namePlayer.append(elem[11:-5])\n",
    "    \n",
    "dfplayer2009['name']=namePlayer\n",
    "\n",
    "del dfplayer2009['Unnamed: 0']\n",
    "del dfplayer2009['url']\n",
    "del dfplayer2009['draft']\n",
    "del dfplayer2009['shot']\n",
    "del dfplayer2009['pos']\n",
    "\n",
    "namePlayer=[]\n",
    "for elem in dfplayer2010['url']:\n",
    "    namePlayer.append(elem[11:-5])\n",
    "    \n",
    "dfplayer2010['name']=namePlayer\n",
    "\n",
    "del dfplayer2010['Unnamed: 0']\n",
    "del dfplayer2010['url']\n",
    "del dfplayer2010['draft']\n",
    "del dfplayer2010['shot']\n",
    "del dfplayer2010['pos']\n",
    "\n",
    "namePlayer=[]\n",
    "for elem in dfplayer2011['url']:\n",
    "    namePlayer.append(elem[11:-5])\n",
    "    \n",
    "dfplayer2011['name']=namePlayer\n",
    "\n",
    "del dfplayer2011['Unnamed: 0']\n",
    "del dfplayer2011['url']\n",
    "del dfplayer2011['draft']\n",
    "del dfplayer2011['shot']\n",
    "del dfplayer2011['pos']\n",
    "\n",
    "namePlayer=[]\n",
    "for elem in dfplayer2012['url']:\n",
    "    namePlayer.append(elem[11:-5])\n",
    "    \n",
    "dfplayer2012['name']=namePlayer\n",
    "\n",
    "del dfplayer2012['Unnamed: 0']\n",
    "del dfplayer2012['url']\n",
    "del dfplayer2012['draft']\n",
    "del dfplayer2012['shot']\n",
    "del dfplayer2012['pos']\n",
    "\n",
    "namePlayer=[]\n",
    "for elem in dfplayer2013['url']:\n",
    "    namePlayer.append(elem[11:-5])\n",
    "    \n",
    "dfplayer2013['name']=namePlayer\n",
    "\n",
    "del dfplayer2013['Unnamed: 0']\n",
    "del dfplayer2013['url']\n",
    "del dfplayer2013['draft']\n",
    "del dfplayer2013['shot']\n",
    "del dfplayer2013['pos']\n",
    "\n",
    "namePlayer=[]\n",
    "for elem in dfplayer2014['url']:\n",
    "    namePlayer.append(elem[11:-5])\n",
    "    \n",
    "dfplayer2014['name']=namePlayer\n",
    "\n",
    "del dfplayer2014['Unnamed: 0']\n",
    "del dfplayer2014['url']\n",
    "del dfplayer2014['draft']\n",
    "del dfplayer2014['shot']\n",
    "del dfplayer2014['pos']\n",
    "\n",
    "namePlayer=[]\n",
    "for elem in dfplayer2015['url']:\n",
    "    namePlayer.append(elem[11:-5])\n",
    "    \n",
    "dfplayer2015['name']=namePlayer\n",
    "\n",
    "del dfplayer2015['Unnamed: 0']\n",
    "del dfplayer2015['url']\n",
    "del dfplayer2015['draft']\n",
    "del dfplayer2015['shot']\n",
    "del dfplayer2015['pos']"
   ]
  },
  {
   "cell_type": "code",
   "execution_count": 6,
   "metadata": {
    "collapsed": true
   },
   "outputs": [],
   "source": [
    "fundam = [dfplayer1996,dfplayer1997,dfplayer1998,dfplayer1999,dfplayer2000,dfplayer2001,dfplayer2002,\n",
    "dfplayer2003,dfplayer2004,dfplayer2005,dfplayer2006,dfplayer2007,dfplayer2008,dfplayer2009,dfplayer2010,\n",
    "dfplayer2011,dfplayer2012,dfplayer2013,dfplayer2014,dfplayer2015]\n",
    "\n",
    "\n",
    "\n",
    "df_all_fundam = pd.concat(fundam)\n",
    "df_all_fundam=df_all_fundam.reset_index(drop=True)"
   ]
  },
  {
   "cell_type": "code",
   "execution_count": null,
   "metadata": {
    "collapsed": true
   },
   "outputs": [],
   "source": []
  },
  {
   "cell_type": "code",
   "execution_count": 7,
   "metadata": {
    "collapsed": false
   },
   "outputs": [
    {
     "data": {
      "text/html": [
       "<div>\n",
       "<table border=\"1\" class=\"dataframe\">\n",
       "  <thead>\n",
       "    <tr style=\"text-align: right;\">\n",
       "      <th></th>\n",
       "      <th>TOT</th>\n",
       "      <th>age_x</th>\n",
       "      <th>age_y</th>\n",
       "      <th>assists_ev</th>\n",
       "      <th>assists_pp</th>\n",
       "      <th>assists_sh</th>\n",
       "      <th>blocks</th>\n",
       "      <th>corsi_against</th>\n",
       "      <th>corsi_for</th>\n",
       "      <th>corsi_pct</th>\n",
       "      <th>...</th>\n",
       "      <th>season</th>\n",
       "      <th>shot_pct</th>\n",
       "      <th>shot_pct.1</th>\n",
       "      <th>shots_attempted</th>\n",
       "      <th>shots_attempted.1</th>\n",
       "      <th>takeaways</th>\n",
       "      <th>time_on_ice_avg</th>\n",
       "      <th>uniqueseason</th>\n",
       "      <th>zs_defense_pct</th>\n",
       "      <th>zs_offense_pct</th>\n",
       "    </tr>\n",
       "  </thead>\n",
       "  <tbody>\n",
       "    <tr>\n",
       "      <th>7</th>\n",
       "      <td>FLA</td>\n",
       "      <td>19</td>\n",
       "      <td>19</td>\n",
       "      <td>16</td>\n",
       "      <td>4</td>\n",
       "      <td>0</td>\n",
       "      <td>35</td>\n",
       "      <td>851</td>\n",
       "      <td>954</td>\n",
       "      <td>52.9</td>\n",
       "      <td>...</td>\n",
       "      <td>2014-15</td>\n",
       "      <td>13.0</td>\n",
       "      <td>13.0</td>\n",
       "      <td>199</td>\n",
       "      <td>199</td>\n",
       "      <td>42</td>\n",
       "      <td>17.30</td>\n",
       "      <td>1</td>\n",
       "      <td>51.0</td>\n",
       "      <td>49.0</td>\n",
       "    </tr>\n",
       "    <tr>\n",
       "      <th>15</th>\n",
       "      <td>WSH</td>\n",
       "      <td>19</td>\n",
       "      <td>19</td>\n",
       "      <td>12</td>\n",
       "      <td>1</td>\n",
       "      <td>0</td>\n",
       "      <td>18</td>\n",
       "      <td>545</td>\n",
       "      <td>669</td>\n",
       "      <td>55.1</td>\n",
       "      <td>...</td>\n",
       "      <td>2014-15</td>\n",
       "      <td>13.8</td>\n",
       "      <td>13.8</td>\n",
       "      <td>142</td>\n",
       "      <td>142</td>\n",
       "      <td>18</td>\n",
       "      <td>12.55</td>\n",
       "      <td>1</td>\n",
       "      <td>36.5</td>\n",
       "      <td>63.5</td>\n",
       "    </tr>\n",
       "    <tr>\n",
       "      <th>29</th>\n",
       "      <td>MTL</td>\n",
       "      <td>19</td>\n",
       "      <td>19</td>\n",
       "      <td>2</td>\n",
       "      <td>0</td>\n",
       "      <td>0</td>\n",
       "      <td>24</td>\n",
       "      <td>389</td>\n",
       "      <td>302</td>\n",
       "      <td>43.7</td>\n",
       "      <td>...</td>\n",
       "      <td>2014-15</td>\n",
       "      <td>10.5</td>\n",
       "      <td>10.5</td>\n",
       "      <td>67</td>\n",
       "      <td>67</td>\n",
       "      <td>6</td>\n",
       "      <td>13.48</td>\n",
       "      <td>1</td>\n",
       "      <td>64.7</td>\n",
       "      <td>35.3</td>\n",
       "    </tr>\n",
       "    <tr>\n",
       "      <th>34</th>\n",
       "      <td>TBL</td>\n",
       "      <td>19</td>\n",
       "      <td>19</td>\n",
       "      <td>25</td>\n",
       "      <td>3</td>\n",
       "      <td>0</td>\n",
       "      <td>17</td>\n",
       "      <td>647</td>\n",
       "      <td>752</td>\n",
       "      <td>53.8</td>\n",
       "      <td>...</td>\n",
       "      <td>2014-15</td>\n",
       "      <td>5.3</td>\n",
       "      <td>5.3</td>\n",
       "      <td>155</td>\n",
       "      <td>155</td>\n",
       "      <td>36</td>\n",
       "      <td>13.14</td>\n",
       "      <td>1</td>\n",
       "      <td>40.8</td>\n",
       "      <td>59.2</td>\n",
       "    </tr>\n",
       "    <tr>\n",
       "      <th>37</th>\n",
       "      <td>NYR</td>\n",
       "      <td>19</td>\n",
       "      <td>19</td>\n",
       "      <td>5</td>\n",
       "      <td>1</td>\n",
       "      <td>0</td>\n",
       "      <td>5</td>\n",
       "      <td>159</td>\n",
       "      <td>171</td>\n",
       "      <td>51.8</td>\n",
       "      <td>...</td>\n",
       "      <td>2014-15</td>\n",
       "      <td>5.6</td>\n",
       "      <td>5.6</td>\n",
       "      <td>36</td>\n",
       "      <td>36</td>\n",
       "      <td>5</td>\n",
       "      <td>12.09</td>\n",
       "      <td>1</td>\n",
       "      <td>38.2</td>\n",
       "      <td>61.8</td>\n",
       "    </tr>\n",
       "  </tbody>\n",
       "</table>\n",
       "<p>5 rows × 38 columns</p>\n",
       "</div>"
      ],
      "text/plain": [
       "    TOT  age_x  age_y  assists_ev  assists_pp  assists_sh  blocks  \\\n",
       "7   FLA     19     19          16           4           0      35   \n",
       "15  WSH     19     19          12           1           0      18   \n",
       "29  MTL     19     19           2           0           0      24   \n",
       "34  TBL     19     19          25           3           0      17   \n",
       "37  NYR     19     19           5           1           0       5   \n",
       "\n",
       "    corsi_against  corsi_for  corsi_pct       ...         season  shot_pct  \\\n",
       "7             851        954       52.9       ...        2014-15      13.0   \n",
       "15            545        669       55.1       ...        2014-15      13.8   \n",
       "29            389        302       43.7       ...        2014-15      10.5   \n",
       "34            647        752       53.8       ...        2014-15       5.3   \n",
       "37            159        171       51.8       ...        2014-15       5.6   \n",
       "\n",
       "    shot_pct.1  shots_attempted  shots_attempted.1  takeaways  \\\n",
       "7         13.0              199                199         42   \n",
       "15        13.8              142                142         18   \n",
       "29        10.5               67                 67          6   \n",
       "34         5.3              155                155         36   \n",
       "37         5.6               36                 36          5   \n",
       "\n",
       "    time_on_ice_avg  uniqueseason  zs_defense_pct  zs_offense_pct  \n",
       "7             17.30             1            51.0            49.0  \n",
       "15            12.55             1            36.5            63.5  \n",
       "29            13.48             1            64.7            35.3  \n",
       "34            13.14             1            40.8            59.2  \n",
       "37            12.09             1            38.2            61.8  \n",
       "\n",
       "[5 rows x 38 columns]"
      ]
     },
     "execution_count": 7,
     "metadata": {},
     "output_type": "execute_result"
    }
   ],
   "source": [
    "df_age_19.head()"
   ]
  },
  {
   "cell_type": "code",
   "execution_count": 8,
   "metadata": {
    "collapsed": true
   },
   "outputs": [],
   "source": [
    "frames = [df_age_19, df_age_20, df_age_21,df_age_22,df_age_23,df_age_24,df_age_25,df_age_26,df_age_27,df_age_28,\n",
    "         df_age_29,df_age_30,df_age_31,df_age_32,df_age_33,df_age_34,df_age_35,df_age_36,df_age_37,df_age_38,df_age_39]\n",
    "df_all = pd.concat(frames)"
   ]
  },
  {
   "cell_type": "code",
   "execution_count": 9,
   "metadata": {
    "collapsed": false
   },
   "outputs": [],
   "source": [
    "df_all=df_all.reset_index(drop=True)"
   ]
  },
  {
   "cell_type": "code",
   "execution_count": 10,
   "metadata": {
    "collapsed": true
   },
   "outputs": [],
   "source": [
    "df_all_fundam = df_all_fundam[df_all_fundam.height!= 'ml>']"
   ]
  },
  {
   "cell_type": "code",
   "execution_count": 11,
   "metadata": {
    "collapsed": true
   },
   "outputs": [],
   "source": [
    "df_all_fundam=df_all_fundam.reset_index(drop=True)"
   ]
  },
  {
   "cell_type": "code",
   "execution_count": 12,
   "metadata": {
    "collapsed": true
   },
   "outputs": [],
   "source": [
    "weight_all=df_all_fundam['weight']\n",
    "height_all=df_all_fundam['height']"
   ]
  },
  {
   "cell_type": "code",
   "execution_count": 13,
   "metadata": {
    "collapsed": true
   },
   "outputs": [],
   "source": [
    "df_all_fundam[['weight','height']]=df_all_fundam[['weight','height']].astype(float)"
   ]
  },
  {
   "cell_type": "code",
   "execution_count": 14,
   "metadata": {
    "collapsed": true
   },
   "outputs": [],
   "source": [
    "del df_all['age_y']\n",
    "df_all['goals_all']=df_all['goals_ev']+df_all['goals_pp']+df_all['goals_sh']\n",
    "result=df_all.sort(['name', 'age_x'], ascending=[0, 1])\n",
    "\n",
    "result=result.reset_index(drop=True)\n",
    "result['goals_all']=result['goals_all']/result['games_played']\n",
    "goals_all_data=list(result['goals_all'])\n",
    "\n",
    "goals_all_data.pop(0)\n",
    "goals_all_data.append(0)\n",
    "\n",
    "result['goals_all']=goals_all_data\n",
    "\n",
    "df_all=result.groupby(\"name\").apply(lambda x: x.iloc[:-1]).reset_index(drop=True)\n",
    "df_all = pd.merge(df_all, df_all_fundam, on='name')\n",
    "df_all=df_all.drop_duplicates()"
   ]
  },
  {
   "cell_type": "code",
   "execution_count": null,
   "metadata": {
    "collapsed": true
   },
   "outputs": [],
   "source": []
  },
  {
   "cell_type": "code",
   "execution_count": 15,
   "metadata": {
    "collapsed": true
   },
   "outputs": [],
   "source": [
    "\n",
    "df_all['goals_ev']=df_all['goals_ev']/df_all['games_played']\n",
    "df_all['goals_pp']=df_all['goals_pp']/df_all['games_played']\n",
    "df_all['goals_sh']=df_all['goals_sh']/df_all['games_played']\n",
    "\n",
    "df_all['assists_all']=df_all['assists_ev']+df_all['assists_pp']+df_all['assists_sh']\n",
    "df_all['assists_all']=df_all['assists_all']/df_all['games_played']\n",
    "df_all['assists_ev']=df_all['assists_ev']/df_all['games_played']\n",
    "df_all['assists_pp']=df_all['assists_pp']/df_all['games_played']\n",
    "df_all['assists_sh']=df_all['assists_sh']/df_all['games_played']\n",
    "\n",
    "df_all['zs_offense_pct']=df_all['zs_offense_pct']/100.0\n",
    "df_all['shot_pct']=df_all['shot_pct']/100.0\n",
    "df_all['takeaways']=df_all['takeaways']/df_all['games_played']\n",
    "df_all['hits']=df_all['hits']/df_all['games_played']\n",
    "\n",
    "df_all['giveaways']=df_all['giveaways']/df_all['games_played']\n",
    "df_all['blocks']=df_all['blocks']/df_all['games_played']\n",
    "\n",
    "df_all['shots_attempted']=df_all['shots_attempted']/df_all['games_played']"
   ]
  },
  {
   "cell_type": "code",
   "execution_count": null,
   "metadata": {
    "collapsed": false
   },
   "outputs": [],
   "source": []
  },
  {
   "cell_type": "code",
   "execution_count": 16,
   "metadata": {
    "collapsed": false
   },
   "outputs": [
    {
     "data": {
      "text/plain": [
       "Index([u'TOT', u'age_x', u'assists_ev', u'assists_pp', u'assists_sh',\n",
       "       u'blocks', u'corsi_against', u'corsi_for', u'corsi_pct',\n",
       "       u'corsi_rel_pct', u'fenwick_against', u'fenwick_for', u'fenwick_pct',\n",
       "       u'fenwick_rel_pct', u'games_played', u'giveaways', u'goals_ev',\n",
       "       u'goals_gw', u'goals_pp', u'goals_sh', u'hits', u'name',\n",
       "       u'on_ice_shot_pct', u'on_ice_sv_pct', u'pdo', u'pen_min', u'plus_minus',\n",
       "       u'season', u'shot_pct', u'shot_pct.1', u'shots_attempted',\n",
       "       u'shots_attempted.1', u'takeaways', u'time_on_ice_avg', u'uniqueseason',\n",
       "       u'zs_defense_pct', u'zs_offense_pct', u'goals_all', u'height',\n",
       "       u'weight', u'assists_all'],\n",
       "      dtype='object')"
      ]
     },
     "execution_count": 16,
     "metadata": {},
     "output_type": "execute_result"
    }
   ],
   "source": [
    "df_all.columns"
   ]
  },
  {
   "cell_type": "code",
   "execution_count": 27,
   "metadata": {
    "collapsed": false
   },
   "outputs": [],
   "source": [
    "df_all_nn=df_all[['goals_all','goals_ev','goals_pp','goals_sh','assists_ev','assists_pp','assists_sh','shots_attempted','age_x','blocks',\n",
    "                 'giveaways','hits','shot_pct','shots_attempted','takeaways','zs_offense_pct','height','weight']]"
   ]
  },
  {
   "cell_type": "code",
   "execution_count": 28,
   "metadata": {
    "collapsed": false
   },
   "outputs": [
    {
     "data": {
      "text/html": [
       "<div>\n",
       "<table border=\"1\" class=\"dataframe\">\n",
       "  <thead>\n",
       "    <tr style=\"text-align: right;\">\n",
       "      <th></th>\n",
       "      <th>goals_all</th>\n",
       "      <th>goals_ev</th>\n",
       "      <th>goals_pp</th>\n",
       "      <th>goals_sh</th>\n",
       "      <th>assists_ev</th>\n",
       "      <th>assists_pp</th>\n",
       "      <th>assists_sh</th>\n",
       "      <th>shots_attempted</th>\n",
       "      <th>age_x</th>\n",
       "      <th>blocks</th>\n",
       "      <th>giveaways</th>\n",
       "      <th>hits</th>\n",
       "      <th>shot_pct</th>\n",
       "      <th>shots_attempted</th>\n",
       "      <th>takeaways</th>\n",
       "      <th>zs_offense_pct</th>\n",
       "      <th>height</th>\n",
       "      <th>weight</th>\n",
       "    </tr>\n",
       "  </thead>\n",
       "  <tbody>\n",
       "    <tr>\n",
       "      <th>0</th>\n",
       "      <td>0.000000</td>\n",
       "      <td>0.000000</td>\n",
       "      <td>0</td>\n",
       "      <td>0</td>\n",
       "      <td>0.000000</td>\n",
       "      <td>0</td>\n",
       "      <td>0.000000</td>\n",
       "      <td>4.000000</td>\n",
       "      <td>20</td>\n",
       "      <td>0.000000</td>\n",
       "      <td>0.00000</td>\n",
       "      <td>2.500000</td>\n",
       "      <td>0.000</td>\n",
       "      <td>4.000000</td>\n",
       "      <td>0.500000</td>\n",
       "      <td>0.600</td>\n",
       "      <td>188</td>\n",
       "      <td>218</td>\n",
       "    </tr>\n",
       "    <tr>\n",
       "      <th>1</th>\n",
       "      <td>0.060000</td>\n",
       "      <td>0.000000</td>\n",
       "      <td>0</td>\n",
       "      <td>0</td>\n",
       "      <td>0.000000</td>\n",
       "      <td>0</td>\n",
       "      <td>0.000000</td>\n",
       "      <td>3.500000</td>\n",
       "      <td>21</td>\n",
       "      <td>0.000000</td>\n",
       "      <td>0.50000</td>\n",
       "      <td>1.500000</td>\n",
       "      <td>0.000</td>\n",
       "      <td>3.500000</td>\n",
       "      <td>0.000000</td>\n",
       "      <td>0.667</td>\n",
       "      <td>188</td>\n",
       "      <td>218</td>\n",
       "    </tr>\n",
       "    <tr>\n",
       "      <th>2</th>\n",
       "      <td>0.094595</td>\n",
       "      <td>0.060000</td>\n",
       "      <td>0</td>\n",
       "      <td>0</td>\n",
       "      <td>0.060000</td>\n",
       "      <td>0</td>\n",
       "      <td>0.000000</td>\n",
       "      <td>2.820000</td>\n",
       "      <td>22</td>\n",
       "      <td>0.400000</td>\n",
       "      <td>0.14000</td>\n",
       "      <td>3.040000</td>\n",
       "      <td>0.038</td>\n",
       "      <td>2.820000</td>\n",
       "      <td>0.140000</td>\n",
       "      <td>0.663</td>\n",
       "      <td>188</td>\n",
       "      <td>218</td>\n",
       "    </tr>\n",
       "    <tr>\n",
       "      <th>3</th>\n",
       "      <td>0.098765</td>\n",
       "      <td>0.094595</td>\n",
       "      <td>0</td>\n",
       "      <td>0</td>\n",
       "      <td>0.148649</td>\n",
       "      <td>0</td>\n",
       "      <td>0.013514</td>\n",
       "      <td>3.054054</td>\n",
       "      <td>23</td>\n",
       "      <td>0.527027</td>\n",
       "      <td>0.27027</td>\n",
       "      <td>2.540541</td>\n",
       "      <td>0.054</td>\n",
       "      <td>3.054054</td>\n",
       "      <td>0.229730</td>\n",
       "      <td>0.588</td>\n",
       "      <td>188</td>\n",
       "      <td>218</td>\n",
       "    </tr>\n",
       "    <tr>\n",
       "      <th>4</th>\n",
       "      <td>0.208333</td>\n",
       "      <td>0.098765</td>\n",
       "      <td>0</td>\n",
       "      <td>0</td>\n",
       "      <td>0.172840</td>\n",
       "      <td>0</td>\n",
       "      <td>0.000000</td>\n",
       "      <td>2.419753</td>\n",
       "      <td>24</td>\n",
       "      <td>0.518519</td>\n",
       "      <td>0.17284</td>\n",
       "      <td>1.827160</td>\n",
       "      <td>0.066</td>\n",
       "      <td>2.419753</td>\n",
       "      <td>0.197531</td>\n",
       "      <td>0.593</td>\n",
       "      <td>188</td>\n",
       "      <td>218</td>\n",
       "    </tr>\n",
       "  </tbody>\n",
       "</table>\n",
       "</div>"
      ],
      "text/plain": [
       "   goals_all  goals_ev  goals_pp  goals_sh  assists_ev  assists_pp  \\\n",
       "0   0.000000  0.000000         0         0    0.000000           0   \n",
       "1   0.060000  0.000000         0         0    0.000000           0   \n",
       "2   0.094595  0.060000         0         0    0.060000           0   \n",
       "3   0.098765  0.094595         0         0    0.148649           0   \n",
       "4   0.208333  0.098765         0         0    0.172840           0   \n",
       "\n",
       "   assists_sh  shots_attempted  age_x    blocks  giveaways      hits  \\\n",
       "0    0.000000         4.000000     20  0.000000    0.00000  2.500000   \n",
       "1    0.000000         3.500000     21  0.000000    0.50000  1.500000   \n",
       "2    0.000000         2.820000     22  0.400000    0.14000  3.040000   \n",
       "3    0.013514         3.054054     23  0.527027    0.27027  2.540541   \n",
       "4    0.000000         2.419753     24  0.518519    0.17284  1.827160   \n",
       "\n",
       "   shot_pct  shots_attempted  takeaways  zs_offense_pct  height  weight  \n",
       "0     0.000         4.000000   0.500000           0.600     188     218  \n",
       "1     0.000         3.500000   0.000000           0.667     188     218  \n",
       "2     0.038         2.820000   0.140000           0.663     188     218  \n",
       "3     0.054         3.054054   0.229730           0.588     188     218  \n",
       "4     0.066         2.419753   0.197531           0.593     188     218  "
      ]
     },
     "execution_count": 28,
     "metadata": {},
     "output_type": "execute_result"
    }
   ],
   "source": [
    "df_all_nn.head()"
   ]
  },
  {
   "cell_type": "code",
   "execution_count": null,
   "metadata": {
    "collapsed": false
   },
   "outputs": [],
   "source": []
  },
  {
   "cell_type": "code",
   "execution_count": 29,
   "metadata": {
    "collapsed": false
   },
   "outputs": [],
   "source": [
    "cols_to_norm = ['goals_ev','goals_pp','goals_sh','assists_ev','assists_pp','assists_sh','shots_attempted','age_x','blocks',\n",
    "                 'giveaways','hits','shot_pct','shots_attempted','takeaways','zs_offense_pct','height','weight']\n",
    "df_all_nn_2=df_all_nn[cols_to_norm].apply(lambda x: (x - x.mean()) / (x.max() - x.min()))"
   ]
  },
  {
   "cell_type": "code",
   "execution_count": 30,
   "metadata": {
    "collapsed": false
   },
   "outputs": [],
   "source": [
    "df_all_nn=df_all_nn_2"
   ]
  },
  {
   "cell_type": "code",
   "execution_count": 31,
   "metadata": {
    "collapsed": false
   },
   "outputs": [],
   "source": [
    "df_all_nn['age_x'] = df_all_nn['age_x'].apply(lambda x: abs(x))"
   ]
  },
  {
   "cell_type": "code",
   "execution_count": 32,
   "metadata": {
    "collapsed": false
   },
   "outputs": [
    {
     "data": {
      "text/html": [
       "<div>\n",
       "<table border=\"1\" class=\"dataframe\">\n",
       "  <thead>\n",
       "    <tr style=\"text-align: right;\">\n",
       "      <th></th>\n",
       "      <th>goals_ev</th>\n",
       "      <th>goals_pp</th>\n",
       "      <th>goals_sh</th>\n",
       "      <th>assists_ev</th>\n",
       "      <th>assists_pp</th>\n",
       "      <th>assists_sh</th>\n",
       "      <th>shots_attempted</th>\n",
       "      <th>shots_attempted</th>\n",
       "      <th>age_x</th>\n",
       "      <th>blocks</th>\n",
       "      <th>giveaways</th>\n",
       "      <th>hits</th>\n",
       "      <th>shot_pct</th>\n",
       "      <th>shots_attempted</th>\n",
       "      <th>shots_attempted</th>\n",
       "      <th>takeaways</th>\n",
       "      <th>zs_offense_pct</th>\n",
       "      <th>height</th>\n",
       "      <th>weight</th>\n",
       "    </tr>\n",
       "  </thead>\n",
       "  <tbody>\n",
       "    <tr>\n",
       "      <th>0</th>\n",
       "      <td>-0.108012</td>\n",
       "      <td>-0.032897</td>\n",
       "      <td>-0.008061</td>\n",
       "      <td>-0.177088</td>\n",
       "      <td>-0.062086</td>\n",
       "      <td>-0.020775</td>\n",
       "      <td>0.092108</td>\n",
       "      <td>0.092108</td>\n",
       "      <td>0.290891</td>\n",
       "      <td>-0.203475</td>\n",
       "      <td>-0.136367</td>\n",
       "      <td>0.173870</td>\n",
       "      <td>-0.080549</td>\n",
       "      <td>0.092108</td>\n",
       "      <td>0.092108</td>\n",
       "      <td>0.079107</td>\n",
       "      <td>0.091405</td>\n",
       "      <td>0.047091</td>\n",
       "      <td>0.125788</td>\n",
       "    </tr>\n",
       "    <tr>\n",
       "      <th>1</th>\n",
       "      <td>-0.108012</td>\n",
       "      <td>-0.032897</td>\n",
       "      <td>-0.008061</td>\n",
       "      <td>-0.177088</td>\n",
       "      <td>-0.062086</td>\n",
       "      <td>-0.020775</td>\n",
       "      <td>0.046275</td>\n",
       "      <td>0.046275</td>\n",
       "      <td>0.238260</td>\n",
       "      <td>-0.203475</td>\n",
       "      <td>0.030300</td>\n",
       "      <td>0.031013</td>\n",
       "      <td>-0.080549</td>\n",
       "      <td>0.046275</td>\n",
       "      <td>0.046275</td>\n",
       "      <td>-0.213862</td>\n",
       "      <td>0.158405</td>\n",
       "      <td>0.047091</td>\n",
       "      <td>0.125788</td>\n",
       "    </tr>\n",
       "    <tr>\n",
       "      <th>2</th>\n",
       "      <td>-0.048012</td>\n",
       "      <td>-0.032897</td>\n",
       "      <td>-0.008061</td>\n",
       "      <td>-0.117088</td>\n",
       "      <td>-0.062086</td>\n",
       "      <td>-0.020775</td>\n",
       "      <td>-0.016057</td>\n",
       "      <td>-0.016057</td>\n",
       "      <td>0.185628</td>\n",
       "      <td>-0.091814</td>\n",
       "      <td>-0.089700</td>\n",
       "      <td>0.251013</td>\n",
       "      <td>-0.042549</td>\n",
       "      <td>-0.016057</td>\n",
       "      <td>-0.016057</td>\n",
       "      <td>-0.131830</td>\n",
       "      <td>0.154405</td>\n",
       "      <td>0.047091</td>\n",
       "      <td>0.125788</td>\n",
       "    </tr>\n",
       "    <tr>\n",
       "      <th>3</th>\n",
       "      <td>-0.013418</td>\n",
       "      <td>-0.032897</td>\n",
       "      <td>-0.008061</td>\n",
       "      <td>-0.028439</td>\n",
       "      <td>-0.062086</td>\n",
       "      <td>0.046792</td>\n",
       "      <td>0.005397</td>\n",
       "      <td>0.005397</td>\n",
       "      <td>0.132997</td>\n",
       "      <td>-0.056354</td>\n",
       "      <td>-0.046277</td>\n",
       "      <td>0.179662</td>\n",
       "      <td>-0.026549</td>\n",
       "      <td>0.005397</td>\n",
       "      <td>0.005397</td>\n",
       "      <td>-0.079254</td>\n",
       "      <td>0.079405</td>\n",
       "      <td>0.047091</td>\n",
       "      <td>0.125788</td>\n",
       "    </tr>\n",
       "    <tr>\n",
       "      <th>4</th>\n",
       "      <td>-0.009247</td>\n",
       "      <td>-0.032897</td>\n",
       "      <td>-0.008061</td>\n",
       "      <td>-0.004248</td>\n",
       "      <td>-0.062086</td>\n",
       "      <td>-0.020775</td>\n",
       "      <td>-0.052746</td>\n",
       "      <td>-0.052746</td>\n",
       "      <td>0.080365</td>\n",
       "      <td>-0.058730</td>\n",
       "      <td>-0.078754</td>\n",
       "      <td>0.077751</td>\n",
       "      <td>-0.014549</td>\n",
       "      <td>-0.052746</td>\n",
       "      <td>-0.052746</td>\n",
       "      <td>-0.098121</td>\n",
       "      <td>0.084405</td>\n",
       "      <td>0.047091</td>\n",
       "      <td>0.125788</td>\n",
       "    </tr>\n",
       "  </tbody>\n",
       "</table>\n",
       "</div>"
      ],
      "text/plain": [
       "   goals_ev  goals_pp  goals_sh  assists_ev  assists_pp  assists_sh  \\\n",
       "0 -0.108012 -0.032897 -0.008061   -0.177088   -0.062086   -0.020775   \n",
       "1 -0.108012 -0.032897 -0.008061   -0.177088   -0.062086   -0.020775   \n",
       "2 -0.048012 -0.032897 -0.008061   -0.117088   -0.062086   -0.020775   \n",
       "3 -0.013418 -0.032897 -0.008061   -0.028439   -0.062086    0.046792   \n",
       "4 -0.009247 -0.032897 -0.008061   -0.004248   -0.062086   -0.020775   \n",
       "\n",
       "   shots_attempted  shots_attempted     age_x    blocks  giveaways      hits  \\\n",
       "0         0.092108         0.092108  0.290891 -0.203475  -0.136367  0.173870   \n",
       "1         0.046275         0.046275  0.238260 -0.203475   0.030300  0.031013   \n",
       "2        -0.016057        -0.016057  0.185628 -0.091814  -0.089700  0.251013   \n",
       "3         0.005397         0.005397  0.132997 -0.056354  -0.046277  0.179662   \n",
       "4        -0.052746        -0.052746  0.080365 -0.058730  -0.078754  0.077751   \n",
       "\n",
       "   shot_pct  shots_attempted  shots_attempted  takeaways  zs_offense_pct  \\\n",
       "0 -0.080549         0.092108         0.092108   0.079107        0.091405   \n",
       "1 -0.080549         0.046275         0.046275  -0.213862        0.158405   \n",
       "2 -0.042549        -0.016057        -0.016057  -0.131830        0.154405   \n",
       "3 -0.026549         0.005397         0.005397  -0.079254        0.079405   \n",
       "4 -0.014549        -0.052746        -0.052746  -0.098121        0.084405   \n",
       "\n",
       "     height    weight  \n",
       "0  0.047091  0.125788  \n",
       "1  0.047091  0.125788  \n",
       "2  0.047091  0.125788  \n",
       "3  0.047091  0.125788  \n",
       "4  0.047091  0.125788  "
      ]
     },
     "execution_count": 32,
     "metadata": {},
     "output_type": "execute_result"
    }
   ],
   "source": [
    "df_all_nn.head()"
   ]
  },
  {
   "cell_type": "code",
   "execution_count": 34,
   "metadata": {
    "collapsed": false
   },
   "outputs": [
    {
     "data": {
      "text/plain": [
       "19"
      ]
     },
     "execution_count": 34,
     "metadata": {},
     "output_type": "execute_result"
    }
   ],
   "source": [
    "len(df_all_nn.columns)"
   ]
  },
  {
   "cell_type": "code",
   "execution_count": 33,
   "metadata": {
    "collapsed": false
   },
   "outputs": [],
   "source": [
    "numpyMatrix = df_all_nn.as_matrix()"
   ]
  },
  {
   "cell_type": "code",
   "execution_count": 35,
   "metadata": {
    "collapsed": true
   },
   "outputs": [],
   "source": [
    "#New complete class, with changes:\n",
    "class Neural_Network(object):\n",
    "    def __init__(self, Lambda=0):        \n",
    "        #Define Hyperparameters\n",
    "        self.inputLayerSize = 19\n",
    "        self.outputLayerSize = 1\n",
    "        self.hiddenLayerSize = 10\n",
    "        \n",
    "        #Weights (parameters)\n",
    "        self.W1 = np.random.randn(self.inputLayerSize,self.hiddenLayerSize)\n",
    "        self.W2 = np.random.randn(self.hiddenLayerSize,self.outputLayerSize)\n",
    "        \n",
    "        #Regularization Parameter:\n",
    "        self.Lambda = Lambda\n",
    "        \n",
    "    def forward(self, X):\n",
    "        #Propogate inputs though network\n",
    "        self.z2 = np.dot(X, self.W1)\n",
    "        self.a2 = self.sigmoid(self.z2)\n",
    "        self.z3 = np.dot(self.a2, self.W2)\n",
    "        yHat = self.sigmoid(self.z3) \n",
    "        return yHat\n",
    "        \n",
    "    def sigmoid(self, z):\n",
    "        #Apply sigmoid activation function to scalar, vector, or matrix\n",
    "        return 1/(1+np.exp(-z))\n",
    "    \n",
    "    def sigmoidPrime(self,z):\n",
    "        #Gradient of sigmoid\n",
    "        return np.exp(-z)/((1+np.exp(-z))**2)\n",
    "    \n",
    "    def costFunction(self, X, y):\n",
    "        #Compute cost for given X,y, use weights already stored in class.\n",
    "        self.yHat = self.forward(X)\n",
    "        J = 0.5*sum((y-self.yHat)**2)/X.shape[0] + (self.Lambda/2)*(np.sum(self.W1**2)+np.sum(self.W2**2))\n",
    "        return J\n",
    "        \n",
    "    def costFunctionPrime(self, X, y):\n",
    "        #Compute derivative with respect to W and W2 for a given X and y:\n",
    "        self.yHat = self.forward(X)\n",
    "        \n",
    "        delta3 = np.multiply(-(y-self.yHat), self.sigmoidPrime(self.z3))\n",
    "        #Add gradient of regularization term:\n",
    "        dJdW2 = np.dot(self.a2.T, delta3)/X.shape[0] + self.Lambda*self.W2\n",
    "        \n",
    "        delta2 = np.dot(delta3, self.W2.T)*self.sigmoidPrime(self.z2)\n",
    "        #Add gradient of regularization term:\n",
    "        dJdW1 = np.dot(X.T, delta2)/X.shape[0] + self.Lambda*self.W1\n",
    "        \n",
    "        return dJdW1, dJdW2\n",
    "    \n",
    "    #Helper functions for interacting with other methods/classes\n",
    "    def getParams(self):\n",
    "        #Get W1 and W2 Rolled into vector:\n",
    "        params = np.concatenate((self.W1.ravel(), self.W2.ravel()))\n",
    "        return params\n",
    "    \n",
    "    def setParams(self, params):\n",
    "        #Set W1 and W2 using single parameter vector:\n",
    "        W1_start = 0\n",
    "        W1_end = self.hiddenLayerSize*self.inputLayerSize\n",
    "        self.W1 = np.reshape(params[W1_start:W1_end], \\\n",
    "                             (self.inputLayerSize, self.hiddenLayerSize))\n",
    "        W2_end = W1_end + self.hiddenLayerSize*self.outputLayerSize\n",
    "        self.W2 = np.reshape(params[W1_end:W2_end], \\\n",
    "                             (self.hiddenLayerSize, self.outputLayerSize))\n",
    "        \n",
    "    def computeGradients(self, X, y):\n",
    "        dJdW1, dJdW2 = self.costFunctionPrime(X, y)\n",
    "        return np.concatenate((dJdW1.ravel(), dJdW2.ravel()))"
   ]
  },
  {
   "cell_type": "code",
   "execution_count": 36,
   "metadata": {
    "collapsed": true
   },
   "outputs": [],
   "source": [
    "import matplotlib.pyplot as plt"
   ]
  },
  {
   "cell_type": "code",
   "execution_count": 37,
   "metadata": {
    "collapsed": true
   },
   "outputs": [],
   "source": [
    "NN = Neural_Network()"
   ]
  },
  {
   "cell_type": "code",
   "execution_count": 38,
   "metadata": {
    "collapsed": false
   },
   "outputs": [],
   "source": [
    "X = numpyMatrix\n",
    "data_list = list(df_all['goals_all'])"
   ]
  },
  {
   "cell_type": "code",
   "execution_count": 39,
   "metadata": {
    "collapsed": false
   },
   "outputs": [],
   "source": [
    "i=0\n",
    "y=[]\n",
    "while i<len(data_list):\n",
    "    y.append(data_list[i:i+1])\n",
    "    i=i+1"
   ]
  },
  {
   "cell_type": "code",
   "execution_count": 40,
   "metadata": {
    "collapsed": false
   },
   "outputs": [],
   "source": [
    "yHat = NN.forward(X)\n",
    "#print y\n",
    "#print np.array(y)"
   ]
  },
  {
   "cell_type": "code",
   "execution_count": 41,
   "metadata": {
    "collapsed": true
   },
   "outputs": [],
   "source": [
    "epsilon = 1e-4\n",
    "x = 1.5"
   ]
  },
  {
   "cell_type": "code",
   "execution_count": 42,
   "metadata": {
    "collapsed": false
   },
   "outputs": [
    {
     "name": "stdout",
     "output_type": "stream",
     "text": [
      "5327\n",
      "5327\n"
     ]
    }
   ],
   "source": [
    "print len(yHat)\n",
    "print len(data_list)"
   ]
  },
  {
   "cell_type": "code",
   "execution_count": 43,
   "metadata": {
    "collapsed": false
   },
   "outputs": [
    {
     "name": "stdout",
     "output_type": "stream",
     "text": [
      "[ 0.03352005]\n"
     ]
    }
   ],
   "source": [
    "cost1 = NN.costFunction(X,y)\n",
    "print cost1"
   ]
  },
  {
   "cell_type": "code",
   "execution_count": 44,
   "metadata": {
    "collapsed": false
   },
   "outputs": [],
   "source": [
    "def computeNumericalGradient(N, X, y):\n",
    "    paramsInitial = N.getParams()\n",
    "    numgrad = np.zeros(paramsInitial.shape)\n",
    "    perturb = np.zeros(paramsInitial.shape)\n",
    "    e = 1e-4\n",
    "\n",
    "    for p in range(len(paramsInitial)):\n",
    "        #Set perturbation vector\n",
    "        perturb[p] = e\n",
    "        N.setParams(paramsInitial + perturb)\n",
    "        loss2 = N.costFunction(X, y)\n",
    "\n",
    "        N.setParams(paramsInitial - perturb)\n",
    "        loss1 = N.costFunction(X, y)\n",
    "\n",
    "        #Compute Numerical Gradient\n",
    "        numgrad[p] = (loss2 - loss1) / (2*e)\n",
    "\n",
    "        #Return the value we changed to zero:\n",
    "        perturb[p] = 0\n",
    "\n",
    "    #Return Params to original value:\n",
    "    N.setParams(paramsInitial)\n",
    "\n",
    "    return numgrad "
   ]
  },
  {
   "cell_type": "code",
   "execution_count": 94,
   "metadata": {
    "collapsed": true
   },
   "outputs": [],
   "source": [
    "##Need to modify trainer class a bit to check testing error during training:\n",
    "class trainer(object):\n",
    "    def __init__(self, N):\n",
    "        #Make Local reference to network:\n",
    "        self.N = N\n",
    "        \n",
    "    def callbackF(self, params):\n",
    "        self.N.setParams(params)\n",
    "        self.J.append(self.N.costFunction(self.X, self.y))\n",
    "        self.testJ.append(self.N.costFunction(self.testX, self.testY))\n",
    "        \n",
    "    def costFunctionWrapper(self, params, X, y):\n",
    "        self.N.setParams(params)\n",
    "        cost = self.N.costFunction(X, y)\n",
    "        grad = computeNumericalGradient(self.N, X, y)\n",
    "        \n",
    "        return cost, grad\n",
    "        \n",
    "    def train(self, trainX, trainY, testX, testY):\n",
    "        #Make an internal variable for the callback function:\n",
    "        self.X = trainX\n",
    "        self.y = trainY\n",
    "        \n",
    "        self.testX = testX\n",
    "        self.testY = testY\n",
    "\n",
    "        #Make empty list to store training costs:\n",
    "        self.J = []\n",
    "        self.testJ = []\n",
    "        \n",
    "        params0 = self.N.getParams()\n",
    "\n",
    "        options = {'maxiter': 200, 'disp' : True}\n",
    "        _res = optimize.minimize(self.costFunctionWrapper, params0, jac=True, method='BFGS', \\\n",
    "                                 args=(trainX, trainY), options=options, callback=self.callbackF)\n",
    "\n",
    "        self.N.setParams(_res.x)\n",
    "        self.optimizationResults = _res\n"
   ]
  },
  {
   "cell_type": "code",
   "execution_count": 95,
   "metadata": {
    "collapsed": false
   },
   "outputs": [],
   "source": [
    "#computeNumericalGradient(NN, X, y)"
   ]
  },
  {
   "cell_type": "code",
   "execution_count": 96,
   "metadata": {
    "collapsed": true
   },
   "outputs": [],
   "source": [
    "T = trainer(NN)"
   ]
  },
  {
   "cell_type": "code",
   "execution_count": 97,
   "metadata": {
    "collapsed": false
   },
   "outputs": [
    {
     "name": "stdout",
     "output_type": "stream",
     "text": [
      "5327\n",
      "5327\n"
     ]
    }
   ],
   "source": [
    "print len(X)\n",
    "print len(y)"
   ]
  },
  {
   "cell_type": "code",
   "execution_count": 98,
   "metadata": {
    "collapsed": true
   },
   "outputs": [],
   "source": [
    "trainX=X[:120]\n",
    "trainY=y[:120]\n",
    "testX=X[121:150]\n",
    "testY=y[121:150]"
   ]
  },
  {
   "cell_type": "code",
   "execution_count": 99,
   "metadata": {
    "collapsed": false
   },
   "outputs": [],
   "source": [
    "trainX=X[:int(len(X)*0.8)]\n",
    "trainY=y[:int(len(y)*0.8)]\n",
    "testX=X[int(len(X)*0.8):]\n",
    "testY=y[int(len(y)*0.8):]"
   ]
  },
  {
   "cell_type": "code",
   "execution_count": 100,
   "metadata": {
    "collapsed": false
   },
   "outputs": [
    {
     "data": {
      "text/plain": [
       "4261"
      ]
     },
     "execution_count": 100,
     "metadata": {},
     "output_type": "execute_result"
    }
   ],
   "source": [
    "int(len(y)*0.8)"
   ]
  },
  {
   "cell_type": "code",
   "execution_count": 103,
   "metadata": {
    "collapsed": false
   },
   "outputs": [
    {
     "data": {
      "text/plain": [
       "104"
      ]
     },
     "execution_count": 103,
     "metadata": {},
     "output_type": "execute_result"
    }
   ],
   "source": [
    "len(T.testJ)"
   ]
  },
  {
   "cell_type": "code",
   "execution_count": 107,
   "metadata": {
    "collapsed": true
   },
   "outputs": [],
   "source": []
  },
  {
   "cell_type": "code",
   "execution_count": null,
   "metadata": {
    "collapsed": true
   },
   "outputs": [],
   "source": []
  },
  {
   "cell_type": "code",
   "execution_count": 109,
   "metadata": {
    "collapsed": true
   },
   "outputs": [],
   "source": []
  },
  {
   "cell_type": "code",
   "execution_count": 106,
   "metadata": {
    "collapsed": false
   },
   "outputs": [
    {
     "name": "stdout",
     "output_type": "stream",
     "text": [
      "Optimization terminated successfully.\n",
      "         Current function value: 0.004638\n",
      "         Iterations: 126\n",
      "         Function evaluations: 129\n",
      "         Gradient evaluations: 129\n"
     ]
    }
   ],
   "source": [
    "number=0.0001\n",
    "NN = Neural_Network(Lambda=number)\n",
    "#NN = Neural_Network()\n",
    "\n",
    "T = trainer(NN)\n",
    "T.train(trainX, trainY, testX, testY)\n",
    "\n",
    "plt.plot(T.J,label='Train')\n",
    "plt.plot(T.testJ,label='Test')\n",
    "plt.title(\"Error with Number of Neighbors (\"+str(number)+\") \")\n",
    "plt.grid(1)\n",
    "plt.xlabel('Iterations')\n",
    "plt.ylabel('Cost')\n",
    "plt.legend(loc='best')\n",
    "plt.show()"
   ]
  },
  {
   "cell_type": "code",
   "execution_count": 85,
   "metadata": {
    "collapsed": false
   },
   "outputs": [
    {
     "name": "stdout",
     "output_type": "stream",
     "text": [
      "Warning: Maximum number of iterations has been exceeded.\n",
      "         Current function value: 0.008547\n",
      "         Iterations: 50\n",
      "         Function evaluations: 58\n",
      "         Gradient evaluations: 58\n"
     ]
    }
   ],
   "source": [
    "number=0.001\n",
    "NN = Neural_Network(Lambda=number)\n",
    "#NN = Neural_Network()\n",
    "\n",
    "T = trainer(NN)\n",
    "T.train(trainX, trainY, testX, testY)\n",
    "\n",
    "plt.plot(T.J,label='Train')\n",
    "plt.plot(T.testJ,label='Test')\n",
    "plt.title(\"Error with Number of Neighbors (\"+str(number)+\") \")\n",
    "plt.grid(1)\n",
    "plt.xlabel('Iterations')\n",
    "plt.ylabel('Cost')\n",
    "plt.legend(loc='best')\n",
    "plt.show()"
   ]
  },
  {
   "cell_type": "code",
   "execution_count": 86,
   "metadata": {
    "collapsed": false
   },
   "outputs": [
    {
     "name": "stdout",
     "output_type": "stream",
     "text": [
      "Optimization terminated successfully.\n",
      "         Current function value: 0.013690\n",
      "         Iterations: 29\n",
      "         Function evaluations: 34\n",
      "         Gradient evaluations: 34\n"
     ]
    }
   ],
   "source": [
    "number=0.01\n",
    "NN = Neural_Network(Lambda=number)\n",
    "#NN = Neural_Network()\n",
    "\n",
    "T = trainer(NN)\n",
    "T.train(trainX, trainY, testX, testY)\n",
    "\n",
    "plt.plot(T.J,label='Train')\n",
    "plt.plot(T.testJ,label='Test')\n",
    "plt.title(\"Error with Number of Neighbors (\"+str(number)+\") \")\n",
    "plt.grid(1)\n",
    "plt.xlabel('Iterations')\n",
    "plt.ylabel('Cost')\n",
    "plt.legend(loc='best')\n",
    "plt.show()"
   ]
  },
  {
   "cell_type": "code",
   "execution_count": 87,
   "metadata": {
    "collapsed": false
   },
   "outputs": [
    {
     "name": "stdout",
     "output_type": "stream",
     "text": [
      "Warning: Maximum number of iterations has been exceeded.\n",
      "         Current function value: 0.004152\n",
      "         Iterations: 50\n",
      "         Function evaluations: 61\n",
      "         Gradient evaluations: 61\n"
     ]
    }
   ],
   "source": [
    "number=0.00001\n",
    "NN = Neural_Network(Lambda=number)\n",
    "#NN = Neural_Network()\n",
    "\n",
    "T = trainer(NN)\n",
    "T.train(trainX, trainY, testX, testY)\n",
    "\n",
    "plt.plot(T.J,label='Train')\n",
    "plt.plot(T.testJ,label='Test')\n",
    "plt.title(\"Error with Number of Neighbors (\"+str(number)+\") \")\n",
    "plt.grid(1)\n",
    "plt.xlabel('Iterations')\n",
    "plt.ylabel('Cost')\n",
    "plt.legend(loc='best')\n",
    "plt.show()"
   ]
  },
  {
   "cell_type": "code",
   "execution_count": 88,
   "metadata": {
    "collapsed": false
   },
   "outputs": [
    {
     "name": "stdout",
     "output_type": "stream",
     "text": [
      "Warning: Maximum number of iterations has been exceeded.\n",
      "         Current function value: 0.003608\n",
      "         Iterations: 50\n",
      "         Function evaluations: 59\n",
      "         Gradient evaluations: 59\n"
     ]
    }
   ],
   "source": [
    "number=0.000001\n",
    "NN = Neural_Network(Lambda=number)\n",
    "#NN = Neural_Network()\n",
    "\n",
    "T = trainer(NN)\n",
    "T.train(trainX, trainY, testX, testY)\n",
    "\n",
    "plt.plot(T.J,label='Train')\n",
    "plt.plot(T.testJ,label='Test')\n",
    "plt.title(\"Error with Number of Neighbors (\"+str(number)+\") \")\n",
    "plt.grid(1)\n",
    "plt.xlabel('Iterations')\n",
    "plt.ylabel('Cost')\n",
    "plt.legend(loc='best')\n",
    "plt.show()"
   ]
  },
  {
   "cell_type": "code",
   "execution_count": 89,
   "metadata": {
    "collapsed": false
   },
   "outputs": [
    {
     "name": "stdout",
     "output_type": "stream",
     "text": [
      "Warning: Maximum number of iterations has been exceeded.\n",
      "         Current function value: 0.003433\n",
      "         Iterations: 50\n",
      "         Function evaluations: 54\n",
      "         Gradient evaluations: 54\n"
     ]
    }
   ],
   "source": [
    "number=0.0000001\n",
    "NN = Neural_Network(Lambda=number)\n",
    "#NN = Neural_Network()\n",
    "\n",
    "T = trainer(NN)\n",
    "T.train(trainX, trainY, testX, testY)\n",
    "\n",
    "plt.plot(T.J,label='Train')\n",
    "plt.plot(T.testJ,label='Test')\n",
    "plt.title(\"Error with Number of Neighbors (\"+str(number)+\") \")\n",
    "plt.grid(1)\n",
    "plt.xlabel('Iterations')\n",
    "plt.ylabel('Cost')\n",
    "plt.legend(loc='best')\n",
    "plt.show()"
   ]
  },
  {
   "cell_type": "code",
   "execution_count": 90,
   "metadata": {
    "collapsed": false
   },
   "outputs": [
    {
     "name": "stdout",
     "output_type": "stream",
     "text": [
      "Warning: Maximum number of iterations has been exceeded.\n",
      "         Current function value: 0.003480\n",
      "         Iterations: 50\n",
      "         Function evaluations: 55\n",
      "         Gradient evaluations: 55\n"
     ]
    }
   ],
   "source": [
    "number=0.00000001\n",
    "NN = Neural_Network(Lambda=number)\n",
    "#NN = Neural_Network()\n",
    "\n",
    "T = trainer(NN)\n",
    "T.train(trainX, trainY, testX, testY)\n",
    "\n",
    "plt.plot(T.J,label='Train')\n",
    "plt.plot(T.testJ,label='Test')\n",
    "plt.title(\"Error with Number of Neighbors (\"+str(number)+\") \")\n",
    "plt.grid(1)\n",
    "plt.xlabel('Iterations')\n",
    "plt.ylabel('Cost')\n",
    "plt.legend(loc='best')\n",
    "plt.show()"
   ]
  },
  {
   "cell_type": "code",
   "execution_count": 72,
   "metadata": {
    "collapsed": true
   },
   "outputs": [],
   "source": [
    "#Make sure our gradients our correct after making changes:\n",
    "numgrad = computeNumericalGradient(NN, X, y)\n",
    "#grad = NN.computeGradients(X,y)"
   ]
  },
  {
   "cell_type": "code",
   "execution_count": 73,
   "metadata": {
    "collapsed": true
   },
   "outputs": [],
   "source": [
    "from scipy import optimize"
   ]
  },
  {
   "cell_type": "code",
   "execution_count": 74,
   "metadata": {
    "collapsed": false
   },
   "outputs": [
    {
     "name": "stdout",
     "output_type": "stream",
     "text": [
      "Warning: Maximum number of iterations has been exceeded.\n",
      "         Current function value: 0.003043\n",
      "         Iterations: 50\n",
      "         Function evaluations: 67\n",
      "         Gradient evaluations: 66\n"
     ]
    }
   ],
   "source": []
  },
  {
   "cell_type": "code",
   "execution_count": 75,
   "metadata": {
    "collapsed": true
   },
   "outputs": [],
   "source": [
    "#Plot cost during training:\n"
   ]
  },
  {
   "cell_type": "code",
   "execution_count": null,
   "metadata": {
    "collapsed": false
   },
   "outputs": [],
   "source": []
  },
  {
   "cell_type": "code",
   "execution_count": null,
   "metadata": {
    "collapsed": true
   },
   "outputs": [],
   "source": []
  },
  {
   "cell_type": "code",
   "execution_count": null,
   "metadata": {
    "collapsed": true
   },
   "outputs": [],
   "source": []
  },
  {
   "cell_type": "code",
   "execution_count": null,
   "metadata": {
    "collapsed": true
   },
   "outputs": [],
   "source": []
  },
  {
   "cell_type": "code",
   "execution_count": 54,
   "metadata": {
    "collapsed": false
   },
   "outputs": [],
   "source": []
  },
  {
   "cell_type": "code",
   "execution_count": 37,
   "metadata": {
    "collapsed": true
   },
   "outputs": [],
   "source": [
    "import matplotlib.pyplot as plt"
   ]
  },
  {
   "cell_type": "code",
   "execution_count": 38,
   "metadata": {
    "collapsed": false
   },
   "outputs": [],
   "source": [
    "plt.plot(T.J)\n",
    "plt.grid(1)\n",
    "plt.xlabel('Iterations')\n",
    "plt.ylabel('Cost')\n",
    "plt.show()"
   ]
  },
  {
   "cell_type": "code",
   "execution_count": 93,
   "metadata": {
    "collapsed": true
   },
   "outputs": [],
   "source": [
    "##Need to modify trainer class a bit to check testing error during training:\n",
    "class trainer(object):\n",
    "    def __init__(self, N):\n",
    "        #Make Local reference to network:\n",
    "        self.N = N\n",
    "        \n",
    "    def callbackF(self, params):\n",
    "        self.N.setParams(params)\n",
    "        self.J.append(self.N.costFunction(self.X, self.y))\n",
    "        self.testJ.append(self.N.costFunction(self.testX, self.testY))\n",
    "        \n",
    "    def costFunctionWrapper(self, params, X, y):\n",
    "        self.N.setParams(params)\n",
    "        cost = self.N.costFunction(X, y)\n",
    "        grad = computeNumericalGradient(self.N, X, y)\n",
    "        \n",
    "        return cost, grad\n",
    "        \n",
    "    def train(self, trainX, trainY, testX, testY):\n",
    "        #Make an internal variable for the callback function:\n",
    "        self.X = trainX\n",
    "        self.y = trainY\n",
    "        \n",
    "        self.testX = testX\n",
    "        self.testY = testY\n",
    "\n",
    "        #Make empty list to store training costs:\n",
    "        self.J = []\n",
    "        self.testJ = []\n",
    "        \n",
    "        params0 = self.N.getParams()\n",
    "\n",
    "        options = {'maxiter': 200, 'disp' : True}\n",
    "        _res = optimize.minimize(self.costFunctionWrapper, params0, jac=True, method='BFGS', \\\n",
    "                                 args=(trainX, trainY), options=options, callback=self.callbackF)\n",
    "\n",
    "        self.N.setParams(_res.x)\n",
    "        self.optimizationResults = _res\n"
   ]
  },
  {
   "cell_type": "code",
   "execution_count": 60,
   "metadata": {
    "collapsed": true
   },
   "outputs": [],
   "source": [
    "def computeNumericalGradient(N, X, y):\n",
    "        paramsInitial = N.getParams()\n",
    "        numgrad = np.zeros(paramsInitial.shape)\n",
    "        perturb = np.zeros(paramsInitial.shape)\n",
    "        e = 1e-4\n",
    "        #print paramsInitial\n",
    "        for p in range(len(paramsInitial)):\n",
    "            #Set perturbation vector\n",
    "            perturb[p] = e\n",
    "            N.setParams(paramsInitial + perturb)\n",
    "            loss2 = N.costFunction(X, y)\n",
    "            \n",
    "            N.setParams(paramsInitial - perturb)\n",
    "            loss1 = N.costFunction(X, y)\n",
    "\n",
    "            #Compute Numerical Gradient\n",
    "            #print loss1\n",
    "            #print loss2\n",
    "            numgrad[p] = (loss2 - loss1) / (2*e)\n",
    "\n",
    "            #Return the value we changed to zero:\n",
    "            perturb[p] = 0\n",
    "            \n",
    "        #Return Params to original value:\n",
    "        N.setParams(paramsInitial)\n",
    "\n",
    "        return numgrad "
   ]
  },
  {
   "cell_type": "code",
   "execution_count": null,
   "metadata": {
    "collapsed": false
   },
   "outputs": [],
   "source": []
  },
  {
   "cell_type": "code",
   "execution_count": 50,
   "metadata": {
    "collapsed": false
   },
   "outputs": [
    {
     "data": {
      "text/plain": [
       "array([[ 0.14046768, -0.02199568, -0.02092104, -0.01849576],\n",
       "       [ 0.1427455 , -0.16830751, -0.02092104, -0.03981317],\n",
       "       [-0.21255957, -0.24198227, -0.02092104, -0.15176253],\n",
       "       [ 0.42287642, -0.07463533, -0.02092104, -0.12002358],\n",
       "       [ 0.25280839, -0.02505105, -0.02092104, -0.15699012],\n",
       "       [ 0.03572156, -0.24198227, -0.02092104, -0.14176861],\n",
       "       [-0.00847794,  0.11299609, -0.02092104,  0.00207802],\n",
       "       [-0.05458322, -0.24198227, -0.02092104, -0.07717182],\n",
       "       [-0.00991739, -0.04001182, -0.02092104, -0.11534965],\n",
       "       [ 0.32721315,  0.00206535, -0.02092104,  0.36862786],\n",
       "       [-0.11385827, -0.0337283 , -0.02092104,  0.0730239 ],\n",
       "       [-0.17759454, -0.24198227, -0.02092104, -0.19680024],\n",
       "       [-0.07457256, -0.24198227, -0.02092104, -0.09229868],\n",
       "       [-0.3424297 , -0.24198227, -0.02092104, -0.15699012],\n",
       "       [-0.21637928, -0.24198227, -0.02092104, -0.06058719],\n",
       "       [-0.02100113, -0.04674417, -0.02092104, -0.20299293],\n",
       "       [ 0.01935137,  0.0115737 , -0.02092104,  0.03568396],\n",
       "       [ 0.00506064, -0.13644816, -0.02092104, -0.14300279],\n",
       "       [ 0.13376077,  0.13764736, -0.02092104,  0.22636658],\n",
       "       [ 0.06965821,  0.05838404, -0.02092104,  0.21457099],\n",
       "       [-0.3424297 , -0.24198227, -0.02092104,  0.15352881],\n",
       "       [-0.3424297 , -0.24198227, -0.02092104, -0.06115095],\n",
       "       [ 0.2200703 , -0.19317274, -0.02092104,  0.33897762],\n",
       "       [-0.1250384 , -0.12880076, -0.02092104, -0.00448083],\n",
       "       [ 0.37185601, -0.24198227, -0.02092104, -0.21449363],\n",
       "       [ 0.14458328,  0.11299609, -0.02092104,  0.27428617],\n",
       "       [ 0.07773836, -0.16541831, -0.02092104,  0.08655414],\n",
       "       [-0.10433446, -0.24198227, -0.02092104, -0.38700415],\n",
       "       [-0.10866347, -0.24198227, -0.02092104,  0.04374939],\n",
       "       [ 0.14458328,  0.29048527, -0.02092104,  0.18018953],\n",
       "       [ 0.25280839, -0.24198227, -0.02092104, -0.16657404],\n",
       "       [-0.3424297 , -0.24198227, -0.02092104, -0.19758084],\n",
       "       [ 0.1602158 ,  0.38470792, -0.02092104,  0.42230446],\n",
       "       [-0.01693242,  0.05458193, -0.02092104,  0.10941852],\n",
       "       [ 0.37185601, -0.07928385, -0.02092104,  0.18803091],\n",
       "       [-0.3424297 , -0.24198227, -0.02092104, -0.02760724],\n",
       "       [ 0.49607961,  0.26733451, -0.02092104,  0.32303915],\n",
       "       [ 0.6575703 ,  0.71251509, -0.02092104,  0.0960253 ],\n",
       "       [-0.3424297 , -0.24198227, -0.02092104, -0.17615796],\n",
       "       [-0.03630725, -0.24198227, -0.02092104, -0.10770141],\n",
       "       [ 0.2698152 ,  0.68772295, -0.02092104,  0.4426893 ],\n",
       "       [-0.05022191,  0.11299609, -0.02092104, -0.22756261],\n",
       "       [ 0.09283815,  0.67319631,  0.26032896,  0.08290732],\n",
       "       [ 0.09283815,  0.67319631,  0.26032896,  0.08290732],\n",
       "       [ 0.09235291,  0.55028827, -0.02092104,  0.05802299],\n",
       "       [ 0.13066863, -0.14055988, -0.02092104, -0.15923052],\n",
       "       [-0.3424297 , -0.24198227, -0.02092104, -0.02760724],\n",
       "       [ 0.10730575,  0.48112179, -0.02092104,  0.29877841],\n",
       "       [ 0.13376077, -0.24198227,  0.97907896,  0.01552039],\n",
       "       [-0.01275937, -0.09179911, -0.02092104, -0.26978546],\n",
       "       [-0.05497326, -0.05150607,  0.08883506,  0.13122867],\n",
       "       [-0.12075483, -0.24198227, -0.02092104, -0.12427261],\n",
       "       [ 0.09283815,  0.67319631,  0.26032896,  0.08290732],\n",
       "       [-0.3424297 , -0.24198227, -0.02092104,  0.01552039],\n",
       "       [ 0.22148007,  0.01490997, -0.02092104,  0.06318777],\n",
       "       [-0.15195351, -0.15520978, -0.02092104, -0.31416638],\n",
       "       [ 0.44154242,  0.75801773, -0.02092104,  0.15016275],\n",
       "       [ 0.37185601, -0.24198227, -0.02092104, -0.04198311],\n",
       "       [ 0.07231684, -0.1160222 , -0.02092104, -0.16811984],\n",
       "       [-0.12814399, -0.24198227, -0.02092104, -0.20874328],\n",
       "       [ 0.09283815,  0.67319631,  0.26032896,  0.08290732],\n",
       "       [-0.20637528,  0.25386052, -0.02092104, -0.11043967],\n",
       "       [ 0.32721315, -0.04674417, -0.02092104, -0.16561565],\n",
       "       [-0.02730365,  0.21740149, -0.02092104, -0.16967472],\n",
       "       [ 0.12460326, -0.24198227, -0.02092104, -0.04861813],\n",
       "       [-0.10433446, -0.09736145,  0.09019007,  0.21997731],\n",
       "       [-0.07457256,  0.63658916, -0.02092104, -0.05348381],\n",
       "       [-0.13078949,  0.38470792, -0.02092104,  0.12626789],\n",
       "       [-0.3424297 , -0.24198227, -0.02092104, -0.1835302 ],\n",
       "       [ 0.08614173,  0.34373202, -0.02092104,  0.21678267],\n",
       "       [ 0.25861559,  0.37706535,  0.08883506,  0.03866205],\n",
       "       [-0.3424297 ,  0.24611297, -0.02092104, -0.09229868],\n",
       "       [-0.17759454,  0.15850614, -0.02092104, -0.07736989],\n",
       "       [ 0.02491724, -0.24198227, -0.02092104,  0.05741581],\n",
       "       [ 0.36314521,  0.56754154, -0.02092104,  0.61299585],\n",
       "       [-0.20850113, -0.24198227, -0.02092104, -0.33309461],\n",
       "       [ 0.18667083,  0.28829404, -0.02092104,  0.15608452],\n",
       "       [ 0.01471315, -0.07928385, -0.02092104, -0.08151677],\n",
       "       [ 0.09193323, -0.18921521, -0.02092104,  0.00153305],\n",
       "       [-0.03630725,  0.17638508, -0.02092104, -0.15699012],\n",
       "       [ 0.24465445, -0.02802271, -0.02092104,  0.38417301],\n",
       "       [-0.21637928,  0.27482446, -0.02092104, -0.04029183],\n",
       "       [-0.249262  , -0.15709614, -0.02092104, -0.24699561],\n",
       "       [-0.3424297 ,  0.19188017, -0.02092104, -0.06115095],\n",
       "       [-0.05285441, -0.13644816,  0.10070058, -0.08005976],\n",
       "       [ 0.00578458,  0.05087488, -0.02092104,  0.18156177],\n",
       "       [-0.3424297 , -0.24198227, -0.02092104, -0.26049644],\n",
       "       [-0.3424297 , -0.24198227, -0.02092104, -0.32950064],\n",
       "       [ 0.19328458, -0.24198227, -0.02092104, -0.22168157],\n",
       "       [ 0.07568876,  0.4246844 , -0.02092104,  0.22589908],\n",
       "       [ 0.37185601, -0.24198227, -0.02092104, -0.2528293 ],\n",
       "       [ 0.03401817, -0.24198227,  0.10070058, -0.11969055],\n",
       "       [-0.05881626, -0.12713633, -0.02092104, -0.10625174],\n",
       "       [-0.11515698,  0.17215915, -0.02092104,  0.0730239 ],\n",
       "       [ 0.02411165,  0.63145132, -0.02092104,  0.07680703],\n",
       "       [ 0.21800986, -0.06176248, -0.02092104,  0.46139374],\n",
       "       [ 0.00938266, -0.18370224, -0.02092104, -0.06429791],\n",
       "       [-0.3424297 , -0.24198227, -0.02092104, -0.12562458],\n",
       "       [-0.03630725, -0.24198227, -0.02092104, -0.28021192],\n",
       "       [-0.08181194, -0.13644816, -0.02092104, -0.01944795],\n",
       "       [ 0.15980244,  0.30712488, -0.02092104,  0.50070623],\n",
       "       [-0.12377081, -0.16229325, -0.02092104, -0.09009829],\n",
       "       [ 0.09283815,  0.67319631,  0.26032896,  0.08290732],\n",
       "       [-0.3424297 , -0.24198227, -0.02092104, -0.01898171],\n",
       "       [ 0.03852268, -0.15520978, -0.02092104, -0.09181948],\n",
       "       [-0.3424297 , -0.24198227, -0.02092104,  0.24553442],\n",
       "       [ 0.01935137, -0.19127107, -0.02092104, -0.07857625],\n",
       "       [ 0.11675397, -0.05604122, -0.02092104,  0.16749395],\n",
       "       [ 0.10399887,  0.32746218, -0.02092104,  0.15209122],\n",
       "       [-0.3424297 , -0.24198227, -0.02092104, -0.32950064],\n",
       "       [ 0.23248319,  0.04373202,  0.19859115,  0.35212628],\n",
       "       [ 0.02020766, -0.00168922,  0.1175405 , -0.09594794],\n",
       "       [-0.26001212, -0.09179911, -0.02092104,  0.04869549],\n",
       "       [-0.3424297 , -0.24198227, -0.02092104,  0.14490328],\n",
       "       [ 0.24685601,  0.63658916, -0.02092104,  0.14490328],\n",
       "       [-0.3424297 , -0.24198227, -0.02092104, -0.37262827],\n",
       "       [-0.3424297 , -0.24198227, -0.02092104, -0.15699012],\n",
       "       [-0.3424297 , -0.24198227, -0.02092104,  0.01552039],\n",
       "       [ 0.09283815,  0.67319631,  0.26032896,  0.08290732],\n",
       "       [ 0.2698152 , -0.14901174, -0.02092104,  0.12642001],\n",
       "       [-0.02730365, -0.24198227, -0.02092104, -0.14176861],\n",
       "       [-0.3424297 ,  0.05838404, -0.02092104, -0.09063993],\n",
       "       [-0.17759454,  0.65911664, -0.02092104,  0.00225035],\n",
       "       [ 0.02020766,  0.17853056, -0.02092104,  0.01021238],\n",
       "       [-0.3424297 , -0.02505105, -0.02092104, -0.17615796],\n",
       "       [ 0.12460326, -0.09179911, -0.02092104,  0.03321378],\n",
       "       [ 0.0685292 ,  0.34640652, -0.02092104,  0.00370461],\n",
       "       [-0.3424297 , -0.24198227, -0.02092104, -0.09948662],\n",
       "       [ 0.18504282, -0.06176248, -0.02092104,  0.27561318],\n",
       "       [-0.15950287, -0.24198227, -0.02092104, -0.29794384],\n",
       "       [ 0.10399887,  0.08341456, -0.02092104,  0.08021184],\n",
       "       [ 0.14046768, -0.02199568, -0.02092104, -0.01849576],\n",
       "       [ 0.1427455 , -0.16830751, -0.02092104, -0.03981317],\n",
       "       [-0.21255957, -0.24198227, -0.02092104, -0.15176253],\n",
       "       [ 0.42287642, -0.07463533, -0.02092104, -0.12002358],\n",
       "       [ 0.25280839, -0.02505105, -0.02092104, -0.15699012],\n",
       "       [ 0.03572156, -0.24198227, -0.02092104, -0.14176861],\n",
       "       [-0.00847794,  0.11299609, -0.02092104,  0.00207802],\n",
       "       [-0.05458322, -0.24198227, -0.02092104, -0.07717182],\n",
       "       [-0.00991739, -0.04001182, -0.02092104, -0.11534965],\n",
       "       [ 0.32721315,  0.00206535, -0.02092104,  0.36862786],\n",
       "       [-0.11385827, -0.0337283 , -0.02092104,  0.0730239 ],\n",
       "       [-0.17759454, -0.24198227, -0.02092104, -0.19680024],\n",
       "       [-0.07457256, -0.24198227, -0.02092104, -0.09229868],\n",
       "       [-0.3424297 , -0.24198227, -0.02092104, -0.15699012],\n",
       "       [-0.21637928, -0.24198227, -0.02092104, -0.06058719],\n",
       "       [-0.02100113, -0.04674417, -0.02092104, -0.20299293],\n",
       "       [ 0.01935137,  0.0115737 , -0.02092104,  0.03568396],\n",
       "       [ 0.00506064, -0.13644816, -0.02092104, -0.14300279],\n",
       "       [ 0.13376077,  0.13764736, -0.02092104,  0.22636658],\n",
       "       [ 0.06965821,  0.05838404, -0.02092104,  0.21457099],\n",
       "       [-0.3424297 , -0.24198227, -0.02092104,  0.15352881],\n",
       "       [-0.3424297 , -0.24198227, -0.02092104, -0.06115095],\n",
       "       [ 0.2200703 , -0.19317274, -0.02092104,  0.33897762],\n",
       "       [-0.1250384 , -0.12880076, -0.02092104, -0.00448083],\n",
       "       [ 0.37185601, -0.24198227, -0.02092104, -0.21449363],\n",
       "       [ 0.14458328,  0.11299609, -0.02092104,  0.27428617],\n",
       "       [ 0.07773836, -0.16541831, -0.02092104,  0.08655414],\n",
       "       [-0.10433446, -0.24198227, -0.02092104, -0.38700415],\n",
       "       [-0.10866347, -0.24198227, -0.02092104,  0.04374939],\n",
       "       [ 0.14458328,  0.29048527, -0.02092104,  0.18018953],\n",
       "       [ 0.25280839, -0.24198227, -0.02092104, -0.16657404],\n",
       "       [-0.3424297 , -0.24198227, -0.02092104, -0.19758084],\n",
       "       [ 0.1602158 ,  0.38470792, -0.02092104,  0.42230446],\n",
       "       [-0.01693242,  0.05458193, -0.02092104,  0.10941852],\n",
       "       [ 0.37185601, -0.07928385, -0.02092104,  0.18803091],\n",
       "       [-0.3424297 , -0.24198227, -0.02092104, -0.02760724],\n",
       "       [ 0.49607961,  0.26733451, -0.02092104,  0.32303915],\n",
       "       [ 0.6575703 ,  0.71251509, -0.02092104,  0.0960253 ],\n",
       "       [-0.3424297 , -0.24198227, -0.02092104, -0.17615796],\n",
       "       [-0.03630725, -0.24198227, -0.02092104, -0.10770141],\n",
       "       [ 0.2698152 ,  0.68772295, -0.02092104,  0.4426893 ],\n",
       "       [-0.05022191,  0.11299609, -0.02092104, -0.22756261]])"
      ]
     },
     "execution_count": 50,
     "metadata": {},
     "output_type": "execute_result"
    }
   ],
   "source": [
    "X"
   ]
  },
  {
   "cell_type": "code",
   "execution_count": 51,
   "metadata": {
    "collapsed": false
   },
   "outputs": [
    {
     "data": {
      "text/plain": [
       "array([[-0.04228285],\n",
       "       [ 0.04526993],\n",
       "       [ 0.16415762],\n",
       "       [-0.12846966],\n",
       "       [-0.12130602],\n",
       "       [ 0.09165907],\n",
       "       [-0.07788506],\n",
       "       [ 0.14102992],\n",
       "       [-0.01722857],\n",
       "       [ 0.01546242],\n",
       "       [ 0.07393705],\n",
       "       [ 0.13829059],\n",
       "       [ 0.14203866],\n",
       "       [ 0.20207994],\n",
       "       [ 0.19606104],\n",
       "       [-0.03899589],\n",
       "       [-0.00890496],\n",
       "       [ 0.03177514],\n",
       "       [-0.06181831],\n",
       "       [ 0.00549444],\n",
       "       [ 0.30675933],\n",
       "       [ 0.23438839],\n",
       "       [ 0.16555518],\n",
       "       [ 0.1132388 ],\n",
       "       [-0.03557042],\n",
       "       [-0.03289179],\n",
       "       [ 0.10584953],\n",
       "       [ 0.05178455],\n",
       "       [ 0.19831919],\n",
       "       [-0.18038409],\n",
       "       [ 0.01696135],\n",
       "       [ 0.18839636],\n",
       "       [-0.16500012],\n",
       "       [-0.001014  ],\n",
       "       [-0.00599857],\n",
       "       [ 0.24569635],\n",
       "       [-0.22453451],\n",
       "       [-0.64078929],\n",
       "       [ 0.19561825],\n",
       "       [ 0.12515345],\n",
       "       [-0.3892669 ],\n",
       "       [-0.14254371],\n",
       "       [-0.34655006],\n",
       "       [-0.34655006],\n",
       "       [-0.37506997],\n",
       "       [-0.00939565],\n",
       "       [ 0.24569635],\n",
       "       [-0.25336242],\n",
       "       [ 0.47187663],\n",
       "       [-0.03464275],\n",
       "       [ 0.12636047],\n",
       "       [ 0.14537187],\n",
       "       [-0.34655006],\n",
       "       [ 0.26023515],\n",
       "       [-0.06357401],\n",
       "       [ 0.03429071],\n",
       "       [-0.58620712],\n",
       "       [ 0.0225848 ],\n",
       "       [-0.01056695],\n",
       "       [ 0.11915379],\n",
       "       [-0.34655006],\n",
       "       [-0.14722622],\n",
       "       [-0.13279992],\n",
       "       [-0.19813297],\n",
       "       [ 0.09590143],\n",
       "       [ 0.20175614],\n",
       "       [-0.41794418],\n",
       "       [-0.17587445],\n",
       "       [ 0.19313298],\n",
       "       [-0.18492144],\n",
       "       [-0.2802138 ],\n",
       "       [-0.09448284],\n",
       "       [-0.08267558],\n",
       "       [ 0.16210785],\n",
       "       [-0.28198265],\n",
       "       [ 0.10178841],\n",
       "       [-0.19994163],\n",
       "       [ 0.01226654],\n",
       "       [ 0.08837249],\n",
       "       [-0.16435174],\n",
       "       [ 0.06555605],\n",
       "       [-0.13419586],\n",
       "       [ 0.08789983],\n",
       "       [-0.04860804],\n",
       "       [ 0.11412849],\n",
       "       [ 0.01878264],\n",
       "       [ 0.16718681],\n",
       "       [ 0.14392472],\n",
       "       [ 0.01657277],\n",
       "       [-0.23145707],\n",
       "       [-0.0484938 ],\n",
       "       [ 0.1430597 ],\n",
       "       [ 0.05760944],\n",
       "       [-0.05996077],\n",
       "       [-0.40082549],\n",
       "       [ 0.12173736],\n",
       "       [ 0.08780927],\n",
       "       [ 0.21265361],\n",
       "       [ 0.06699823],\n",
       "       [ 0.09997263],\n",
       "       [-0.08783843],\n",
       "       [ 0.10583508],\n",
       "       [-0.34655006],\n",
       "       [ 0.24860411],\n",
       "       [ 0.05104225],\n",
       "       [ 0.33777544],\n",
       "       [ 0.08488667],\n",
       "       [ 0.04986955],\n",
       "       [-0.20157391],\n",
       "       [ 0.14392472],\n",
       "       [ 0.09006746],\n",
       "       [ 0.00456162],\n",
       "       [ 0.14827409],\n",
       "       [ 0.30385157],\n",
       "       [-0.44928506],\n",
       "       [ 0.12938591],\n",
       "       [ 0.20207994],\n",
       "       [ 0.26023515],\n",
       "       [-0.34655006],\n",
       "       [ 0.04989403],\n",
       "       [ 0.11091777],\n",
       "       [ 0.02852672],\n",
       "       [-0.38236905],\n",
       "       [-0.12665469],\n",
       "       [ 0.05412003],\n",
       "       [ 0.02552757],\n",
       "       [-0.25311504],\n",
       "       [ 0.22146501],\n",
       "       [ 0.06918245],\n",
       "       [ 0.09866566],\n",
       "       [-0.06661976],\n",
       "       [-0.04228285],\n",
       "       [ 0.04526993],\n",
       "       [ 0.16415762],\n",
       "       [-0.12846966],\n",
       "       [-0.12130602],\n",
       "       [ 0.09165907],\n",
       "       [-0.07788506],\n",
       "       [ 0.14102992],\n",
       "       [-0.01722857],\n",
       "       [ 0.01546242],\n",
       "       [ 0.07393705],\n",
       "       [ 0.13829059],\n",
       "       [ 0.14203866],\n",
       "       [ 0.20207994],\n",
       "       [ 0.19606104],\n",
       "       [-0.03899589],\n",
       "       [-0.00890496],\n",
       "       [ 0.03177514],\n",
       "       [-0.06181831],\n",
       "       [ 0.00549444],\n",
       "       [ 0.30675933],\n",
       "       [ 0.23438839],\n",
       "       [ 0.16555518],\n",
       "       [ 0.1132388 ],\n",
       "       [-0.03557042],\n",
       "       [-0.03289179],\n",
       "       [ 0.10584953],\n",
       "       [ 0.05178455],\n",
       "       [ 0.19831919],\n",
       "       [-0.18038409],\n",
       "       [ 0.01696135],\n",
       "       [ 0.18839636],\n",
       "       [-0.16500012],\n",
       "       [-0.001014  ],\n",
       "       [-0.00599857],\n",
       "       [ 0.24569635],\n",
       "       [-0.22453451],\n",
       "       [-0.64078929],\n",
       "       [ 0.19561825],\n",
       "       [ 0.12515345],\n",
       "       [-0.3892669 ],\n",
       "       [-0.14254371]])"
      ]
     },
     "execution_count": 51,
     "metadata": {},
     "output_type": "execute_result"
    }
   ],
   "source": [
    "yHat"
   ]
  },
  {
   "cell_type": "code",
   "execution_count": 59,
   "metadata": {
    "collapsed": true
   },
   "outputs": [],
   "source": [
    "class Neural_Network(object):\n",
    "    def __init__(self):        \n",
    "        #Define Hyperparameters\n",
    "        self.inputLayerSize = 4\n",
    "        self.outputLayerSize = 1\n",
    "        self.hiddenLayerSize = 3\n",
    "        \n",
    "        #Weights (parameters)\n",
    "        self.W1 = np.random.randn(self.inputLayerSize,self.hiddenLayerSize)\n",
    "        self.W2 = np.random.randn(self.hiddenLayerSize,self.outputLayerSize)\n",
    "        \n",
    "    def forward(self, X):\n",
    "        #Propogate inputs though network\n",
    "        self.z2 = np.dot(X, self.W1)\n",
    "        self.a2 = self.sigmoid(self.z2)\n",
    "        self.z3 = np.dot(self.a2, self.W2)\n",
    "        yHat = self.sigmoid(self.z3) \n",
    "        return yHat\n",
    "        \n",
    "    def sigmoid(self, z):\n",
    "        #Apply sigmoid activation function to scalar, vector, or matrix\n",
    "        return 1/(1+np.exp(-z))\n",
    "    \n",
    "    def sigmoidPrime(self,z):\n",
    "        #Gradient of sigmoid\n",
    "        return np.exp(-z)/((1+np.exp(-z))**2)\n",
    "    \n",
    "    def costFunction(self, X, y):\n",
    "        #Compute cost for given X,y, use weights already stored in class.\n",
    "        self.yHat = self.forward(X)\n",
    "        J = 0.5*sum((y-self.yHat)**2)\n",
    "        return J\n",
    "        \n",
    "    def costFunctionPrime(self, X, y):\n",
    "        #Compute derivative with respect to W and W2 for a given X and y:\n",
    "        self.yHat = self.forward(X)\n",
    "        \n",
    "        delta3 = np.multiply(-(y-self.yHat), self.sigmoidPrime(self.z3))\n",
    "        dJdW2 = np.dot(self.a2.T, delta3)\n",
    "        \n",
    "        delta2 = np.dot(delta3, self.W2.T)*self.sigmoidPrime(self.z2)\n",
    "        dJdW1 = np.dot(X.T, delta2)  \n",
    "        \n",
    "        return dJdW1, dJdW2\n",
    "    \n",
    "    #Helper Functions for interacting with other classes:\n",
    "    def getParams(self):\n",
    "        #Get W1 and W2 unrolled into vector:\n",
    "        params = np.concatenate((self.W1.ravel(), self.W2.ravel()))\n",
    "        return params\n",
    "    \n",
    "    def setParams(self, params):\n",
    "        #Set W1 and W2 using single paramater vector.\n",
    "        W1_start = 0\n",
    "        W1_end = self.hiddenLayerSize * self.inputLayerSize\n",
    "        self.W1 = np.reshape(params[W1_start:W1_end], (self.inputLayerSize , self.hiddenLayerSize))\n",
    "        W2_end = W1_end + self.hiddenLayerSize*self.outputLayerSize\n",
    "        self.W2 = np.reshape(params[W1_end:W2_end], (self.hiddenLayerSize, self.outputLayerSize))\n",
    "        \n",
    "    def computeGradients(self, X, y):\n",
    "        dJdW1, dJdW2 = self.costFunctionPrime(X, y)\n",
    "        return np.concatenate((dJdW1.ravel(), dJdW2.ravel()))\n",
    "        "
   ]
  },
  {
   "cell_type": "code",
   "execution_count": 57,
   "metadata": {
    "collapsed": true
   },
   "outputs": [],
   "source": [
    "def computeNumericalGradient(N, X, y):\n",
    "        paramsInitial = N.getParams()\n",
    "        numgrad = np.zeros(paramsInitial.shape)\n",
    "        perturb = np.zeros(paramsInitial.shape)\n",
    "        e = 1e-4\n",
    "\n",
    "        for p in range(len(paramsInitial)):\n",
    "            #Set perturbation vector\n",
    "            perturb[p] = e\n",
    "            N.setParams(paramsInitial + perturb)\n",
    "            loss2 = N.costFunction(X, y)\n",
    "            \n",
    "            N.setParams(paramsInitial - perturb)\n",
    "            loss1 = N.costFunction(X, y)\n",
    "\n",
    "            #Compute Numerical Gradient\n",
    "            numgrad[p] = (loss2 - loss1) / (2*e)\n",
    "\n",
    "            #Return the value we changed to zero:\n",
    "            perturb[p] = 0\n",
    "            \n",
    "        #Return Params to original value:\n",
    "        N.setParams(paramsInitial)\n",
    "\n",
    "        return numgrad "
   ]
  },
  {
   "cell_type": "code",
   "execution_count": 58,
   "metadata": {
    "collapsed": true
   },
   "outputs": [],
   "source": [
    "class trainer(object):\n",
    "    def __init__(self, N):\n",
    "        #Make Local reference to network:\n",
    "        self.N = N\n",
    "        \n",
    "    def callbackF(self, params):\n",
    "        self.N.setParams(params)\n",
    "        self.J.append(self.N.costFunction(self.X, self.y))   \n",
    "        \n",
    "    def costFunctionWrapper(self, params, X, y):\n",
    "        self.N.setParams(params)\n",
    "        cost = self.N.costFunction(X, y)\n",
    "        grad = computeNumericalGradient(self.N, X, y)\n",
    "        \n",
    "        return cost, grad\n",
    "        \n",
    "    def train(self, X, y):\n",
    "        #Make an internal variable for the callback function:\n",
    "        self.X = X\n",
    "        self.y = y\n",
    "\n",
    "        #Make empty list to store costs:\n",
    "        self.J = []\n",
    "        \n",
    "        params0 = self.N.getParams()\n",
    "\n",
    "        options = {'maxiter': 200, 'disp' : True}\n",
    "        _res = optimize.minimize(self.costFunctionWrapper, params0, jac=True, method='BFGS', \\\n",
    "                                 args=(X, y), options=options, callback=self.callbackF)\n",
    "\n",
    "        self.N.setParams(_res.x)\n",
    "        self.optimizationResults = _res\n",
    "    "
   ]
  },
  {
   "cell_type": "code",
   "execution_count": 56,
   "metadata": {
    "collapsed": true
   },
   "outputs": [],
   "source": [
    "from scipy import optimize"
   ]
  },
  {
   "cell_type": "code",
   "execution_count": null,
   "metadata": {
    "collapsed": true
   },
   "outputs": [],
   "source": []
  }
 ],
 "metadata": {
  "kernelspec": {
   "display_name": "Python [Root]",
   "language": "python",
   "name": "Python [Root]"
  },
  "language_info": {
   "codemirror_mode": {
    "name": "ipython",
    "version": 2
   },
   "file_extension": ".py",
   "mimetype": "text/x-python",
   "name": "python",
   "nbconvert_exporter": "python",
   "pygments_lexer": "ipython2",
   "version": "2.7.12"
  }
 },
 "nbformat": 4,
 "nbformat_minor": 0
}
