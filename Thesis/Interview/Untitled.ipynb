{
 "cells": [
  {
   "cell_type": "code",
   "execution_count": 31,
   "metadata": {
    "collapsed": false
   },
   "outputs": [
    {
     "data": {
      "text/plain": [
       "6"
      ]
     },
     "execution_count": 31,
     "metadata": {},
     "output_type": "execute_result"
    }
   ],
   "source": [
    "def recDC(coinValueList,change,knownResults):\n",
    "    minCoins = change\n",
    "    if change in coinValueList:\n",
    "        knownResults[change] = 1\n",
    "        return 1\n",
    "    elif knownResults[change] > 0:\n",
    "        return knownResults[change]\n",
    "    else:\n",
    "        for i in [c for c in coinValueList if c <= change]:\n",
    "            numCoins = 1 + recDC(coinValueList, change-i,\n",
    "                              knownResults)\n",
    "            if numCoins < minCoins:\n",
    "                minCoins = numCoins\n",
    "                knownResults[change] = minCoins\n",
    "    return minCoins\n",
    "\n",
    "recDC([1,5,10,25],63,[0]*64)\n"
   ]
  },
  {
   "cell_type": "code",
   "execution_count": 29,
   "metadata": {
    "collapsed": false
   },
   "outputs": [],
   "source": [
    "import numpy as np\n",
    "class Island:\n",
    "    def __init__(self,row,col):\n",
    "        self.matrix=[]\n",
    "        \n",
    "        for i in range(row):\n",
    "            temp=[]\n",
    "            for j in range(col):\n",
    "                if np.random.randint(1, 100)<50:\n",
    "                    temp.append(1)\n",
    "                else:\n",
    "                    temp.append(0)\n",
    "            self.matrix.append(temp)\n",
    "        \n",
    "        self.used=[]\n",
    "        for i in range(row):\n",
    "            temp=[]\n",
    "            for j in range(col):\n",
    "                temp.append(0)\n",
    "                \n",
    "            self.used.append(temp)\n",
    "        self.count=0\n",
    "    \n",
    "    \n",
    "    def iterate(self,i,j):\n",
    "        \n",
    "        if i<0 or j>len(self.matrix[0])-1 or j<0 or i>len(self.matrix)-1 or self.matrix[i][j]==0 or self.used[i][j]==1:\n",
    "            return\n",
    "        else:\n",
    "            self.used[i][j]=1\n",
    "            \n",
    "            #print i \n",
    "            #print j\n",
    "            #print self.used\n",
    "            \n",
    "            \n",
    "            self.iterate(i+1,j)\n",
    "                \n",
    "            \n",
    "            self.iterate(i-1,j)\n",
    "                \n",
    "        #    if j<len(self.matrix)-2:\n",
    "            self.iterate(i,j+1)\n",
    "                \n",
    "        #     if j>0:\n",
    "            self.iterate(i,j-1)\n",
    "                \n",
    "    def solve(self):\n",
    "        res=0\n",
    "        for i in range(len(self.matrix)):\n",
    "            for j in range(len(self.matrix[0])):\n",
    "                if self.matrix[i][j]==1 and self.used[i][j]==0:\n",
    "                    #print 'print self.count'\n",
    "                    #print self.count\n",
    "                    self.iterate(i,j)\n",
    "                    self.count=self.count+1\n",
    "                    res=res+1\n",
    "        \n",
    "        #print 'End'\n",
    "        #print self.used\n",
    "        return res      "
   ]
  },
  {
   "cell_type": "code",
   "execution_count": 30,
   "metadata": {
    "collapsed": false
   },
   "outputs": [
    {
     "name": "stdout",
     "output_type": "stream",
     "text": [
      "[[1, 0, 0, 1, 0], [1, 0, 1, 1, 0], [0, 1, 0, 0, 1], [0, 0, 1, 0, 1]]\n"
     ]
    },
    {
     "data": {
      "text/plain": [
       "5"
      ]
     },
     "execution_count": 30,
     "metadata": {},
     "output_type": "execute_result"
    }
   ],
   "source": [
    "islan=Island(4,5)\n",
    "print islan.matrix\n",
    "islan.solve()"
   ]
  },
  {
   "cell_type": "code",
   "execution_count": 52,
   "metadata": {
    "collapsed": false
   },
   "outputs": [
    {
     "name": "stdout",
     "output_type": "stream",
     "text": [
      "[[0, 0, 0, 0, 0], [0, 0, 0, 0, 0], [0, 0, 1, 0, 0], [0, 0, 0, 0, 3]]\n",
      "\n"
     ]
    },
    {
     "data": {
      "text/plain": [
       "True"
      ]
     },
     "execution_count": 52,
     "metadata": {},
     "output_type": "execute_result"
    }
   ],
   "source": [
    "import numpy as np\n",
    "class Maze:\n",
    "    def __init__(self,row,col,endx,endy,percent):\n",
    "        self.matrix=[[0 for x in range(col)] for y in range(row)]\n",
    "        # cell 0 means a road. cell 1 means a wall\n",
    "        for i in range(0,row):\n",
    "            for j in range(0,col):\n",
    "                if np.random.randint(1, 100)<percent:\n",
    "                    self.matrix[i][j]=1\n",
    "        # if goal is outside the maze, print 'invalid value'\n",
    "        if endx>=row or endy>=col or endx<0 or endy<0:\n",
    "            print 'Invalid Value. Goal is outside the the maze'\n",
    "        else:\n",
    "            #cell 3 means a goal\n",
    "            self.matrix[endx][endy]=3\n",
    "        \n",
    "    def search(self,x, y):\n",
    "        if x<0 or x >= len(self.matrix) or y<0 or y >= len(self.matrix[0]):\n",
    "            #print 'Invalid Value. Start is outside the the maze'\n",
    "            return False\n",
    "        \n",
    "        if self.matrix[x][y]==1:\n",
    "            return False\n",
    "        \n",
    "        if self.matrix[x][y]==2:\n",
    "            return False\n",
    "        \n",
    "        if self.matrix[x][y]==3:\n",
    "            return True\n",
    "        \n",
    "        self.matrix[x][y]=2\n",
    "        \n",
    "        \n",
    "        if self.search(x+1,y) or self.search(x-1,y) or self.search(x,y-1) or self.search(x,y+1): \n",
    "            return True\n",
    "        \n",
    "        else:\n",
    "            return False\n",
    "        \n",
    "Maze1=Maze(4,5,3,4,20)\n",
    "#print out the maze\n",
    "print Maze1.matrix\n",
    "print\n",
    "Maze1.search(0,0)"
   ]
  },
  {
   "cell_type": "code",
   "execution_count": 43,
   "metadata": {
    "collapsed": false
   },
   "outputs": [
    {
     "name": "stdout",
     "output_type": "stream",
     "text": [
      "[[0, 1, 1, 0, 0], [0, 0, 0, 0, 0], [1, 1, 0, 0, 0], [0, 0, 1, 0, 3]]\n",
      "\n",
      "0 0\n",
      "1 0\n",
      "1 1\n",
      "1 2\n",
      "2 2\n",
      "2 3\n",
      "3 3\n"
     ]
    },
    {
     "data": {
      "text/plain": [
       "True"
      ]
     },
     "execution_count": 43,
     "metadata": {},
     "output_type": "execute_result"
    }
   ],
   "source": [
    "import numpy as np\n",
    "class Maze:\n",
    "    def __init__(self,row,col,endx,endy,percent):\n",
    "        self.matrix=[[0 for x in range(col)] for y in range(row)]\n",
    "        # cell 0 means a road. cell 1 means a wall\n",
    "        for i in range(0,row):\n",
    "            for j in range(0,col):\n",
    "                if np.random.randint(1, 100)<percent:\n",
    "                    self.matrix[i][j]=1\n",
    "        # if goal is outside the maze, print 'invalid value'\n",
    "        if endx>=row or endy>=col or endx<0 or endy<0:\n",
    "            print 'Invalid Value. Goal is outside the the maze'\n",
    "        else:\n",
    "            #cell 3 means a goal\n",
    "            self.matrix[endx][endy]=3\n",
    "        \n",
    "    def search(self,x, y):\n",
    "        if x<0 or x >= len(self.matrix) or y<0 or y >= len(self.matrix[0]):\n",
    "            #print 'Invalid Value. Start is outside the the maze'\n",
    "            return False\n",
    "        \n",
    "        if self.matrix[x][y]==1:\n",
    "            return False\n",
    "            \n",
    "        elif self.matrix[x][y]==2:\n",
    "            return False\n",
    "            \n",
    "        elif self.matrix[x][y]==3:\n",
    "            return True\n",
    "        \n",
    "        self.matrix[x][y]=2\n",
    "        print x,y\n",
    "        if (( self.search(x+1, y))\n",
    "            or (self.search(x-1, y))\n",
    "            or ( self.search(x, y+1))\n",
    "            or ( self.search(x, y-1))):\n",
    "            \n",
    "            return True\n",
    "        else:\n",
    "            return False\n",
    "\n",
    "Maze1=Maze(4,5,3,4,20)\n",
    "#print out the maze\n",
    "print Maze1.matrix\n",
    "print\n",
    "Maze1.search(0,0)"
   ]
  },
  {
   "cell_type": "code",
   "execution_count": null,
   "metadata": {
    "collapsed": true
   },
   "outputs": [],
   "source": []
  }
 ],
 "metadata": {
  "kernelspec": {
   "display_name": "Python 2",
   "language": "python",
   "name": "python2"
  },
  "language_info": {
   "codemirror_mode": {
    "name": "ipython",
    "version": 2
   },
   "file_extension": ".py",
   "mimetype": "text/x-python",
   "name": "python",
   "nbconvert_exporter": "python",
   "pygments_lexer": "ipython2",
   "version": "2.7.12"
  }
 },
 "nbformat": 4,
 "nbformat_minor": 0
}
