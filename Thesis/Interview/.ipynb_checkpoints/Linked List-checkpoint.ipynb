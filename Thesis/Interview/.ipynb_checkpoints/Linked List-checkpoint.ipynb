{
 "cells": [
  {
   "cell_type": "code",
   "execution_count": 24,
   "metadata": {
    "collapsed": false
   },
   "outputs": [],
   "source": [
    "class Node:\n",
    "    def __init__(self,val):\n",
    "        self.val=val\n",
    "        self.next=None\n",
    "\n",
    "class Linked_List:\n",
    "    def __init__(self):\n",
    "        self.head=None\n",
    "    \n",
    "    def reverse(self):\n",
    "        prev_node=None\n",
    "        next_node=None\n",
    "        curr_node=self.head\n",
    "        while curr_node!=None:\n",
    "            next_node=curr_node.next\n",
    "            curr_node.next=prev_node\n",
    "            \n",
    "            prev_node=curr_node\n",
    "            curr_node=next_node\n",
    "        \n",
    "        return prev_node\n",
    "    def printout(self):\n",
    "        curr_node=self.head\n",
    "        while curr_node!=None:\n",
    "            print curr_node.val\n",
    "            curr_node=curr_node.next\n",
    "            \n",
    "    def reverse_k(self,head,k):\n",
    "        curr_node=head\n",
    "        prev_node=None\n",
    "        next_node=None\n",
    "        count=0\n",
    "        \n",
    "        while curr_node!=None and count<k:\n",
    "            next_node=curr_node.next\n",
    "            curr_node.next=prev_node\n",
    "            \n",
    "            prev_node=curr_node\n",
    "            curr_node=next_node\n",
    "            \n",
    "            count=count+1\n",
    "            \n",
    "        if next_node!=None:\n",
    "            head.next=self.reverse_k(next_node,k)\n",
    "         \n",
    "            \n",
    "        return prev_node\n",
    "    def pairwise(self):\n",
    "        curr_node=self.head\n",
    "        \n",
    "        while curr_node!=None and curr_node.next!=None:\n",
    "            curr_node.val,curr_node.next.val=curr_node.next.val,curr_node.val\n",
    "            curr_node=curr_node.next.next\n",
    "        \n",
    "        "
   ]
  },
  {
   "cell_type": "code",
   "execution_count": 27,
   "metadata": {
    "collapsed": false
   },
   "outputs": [
    {
     "name": "stdout",
     "output_type": "stream",
     "text": [
      "2\n",
      "9\n",
      "4\n",
      "3\n",
      "5\n"
     ]
    }
   ],
   "source": [
    "node1=Node(9)\n",
    "node2=Node(2)\n",
    "node3=Node(3)\n",
    "node4=Node(4)\n",
    "node5=Node(5)\n",
    "#node6=Node(6)\n",
    "\n",
    "node1.next=node2\n",
    "node2.next=node3\n",
    "node3.next=node4\n",
    "node4.next=node5\n",
    "#node5.next=node6\n",
    "linked=Linked_List()\n",
    "linked1=Linked_List()\n",
    "linked.head=node1\n",
    "#linked.printout()\n",
    "#linked1.head=node4\n",
    "linked.pairwise()\n",
    "linked.printout()"
   ]
  },
  {
   "cell_type": "code",
   "execution_count": 22,
   "metadata": {
    "collapsed": false
   },
   "outputs": [],
   "source": [
    "def add(llist1,llist2):\n",
    "    new_list=Linked_List()\n",
    "    \n",
    "    curr1=llist1.head\n",
    "    curr2=llist2.head\n",
    "    over=0\n",
    "    while curr1!=None or curr2!=None:\n",
    "        if curr1 ==None and curr2!=None:\n",
    "            sum_total=curr2.val\n",
    "        if curr1 !=None and curr2==None:\n",
    "            sum_total=curr1.val\n",
    "        if curr1 !=None and curr2!=None:\n",
    "            sum_total=curr1.val+curr2.val\n",
    "        sum_node=Node(sum_total%10+over)\n",
    "        over=sum_total//10\n",
    "        #print over\n",
    "        if new_list.head==None:\n",
    "            new_list.head=sum_node\n",
    "            prev_node=sum_node\n",
    "        else:\n",
    "            prev_node.next=sum_node\n",
    "            prev_node=sum_node\n",
    "        \n",
    "        curr1=curr1.next\n",
    "        curr2=curr2.next\n",
    "    return new_list"
   ]
  },
  {
   "cell_type": "code",
   "execution_count": 84,
   "metadata": {
    "collapsed": true
   },
   "outputs": [],
   "source": [
    "def merge(llist1,llist2):\n",
    "    cur_node1=llist1.head\n",
    "    cur_node2=llist2.head\n",
    "    \n",
    "    while cur_node1!=None and cur_node2!=None:\n",
    "        next_node1=cur_node1.next\n",
    "        next_node2=cur_node2.next\n",
    "        \n",
    "        cur_node1.next=cur_node2\n",
    "        cur_node2.next=next_node1\n",
    "        \n",
    "        cur_node1=next_node1\n",
    "        cur_node2=next_node2\n",
    "    \n",
    "    print cur_node2.val\n",
    "    #llist2.head=cur_node2\n",
    "    if cur_node2!=None:\n",
    "        while cur_node2!=None:\n",
    "            cur_node2=cur_node2.next\n",
    "    #cur_node2.next=cur_node2\n",
    "#    while cur_node2!=None:\n",
    "#        cur_node2.next=cur_node2\n",
    "        \n",
    "    \n",
    "    #llist1.head"
   ]
  },
  {
   "cell_type": "code",
   "execution_count": 28,
   "metadata": {
    "collapsed": true
   },
   "outputs": [],
   "source": [
    "def merge(linked1,linked2):\n",
    "    cur_node1=linked1.head\n",
    "    cur_node2=linked2.head\n",
    "    \n",
    "    while cur_node1!=None and cur_node2!=None:\n",
    "        next_node1=cur_node1.next\n",
    "        next_node2=cur_node2.next\n",
    "        \n",
    "        cur_node1.next=cur_node2\n",
    "        cur_node2.next=next_node1\n",
    "        \n",
    "        cur_node1=next_node1\n",
    "        cur_node2=next_node2\n",
    "        \n",
    "    "
   ]
  },
  {
   "cell_type": "code",
   "execution_count": 29,
   "metadata": {
    "collapsed": false
   },
   "outputs": [],
   "source": [
    "node1=Node(1)\n",
    "node2=Node(2)\n",
    "node3=Node(3)\n",
    "node4=Node(4)\n",
    "node5=Node(5)\n",
    "node6=Node(6)\n",
    "node7=Node(7)\n",
    "node8=Node(8)\n",
    "\n",
    "node1.next=node2\n",
    "node2.next=node3\n",
    "#node3.next=node4\n",
    "\n",
    "node4.next=node5\n",
    "node5.next=node6\n",
    "node6.next=node7\n",
    "node7.next=node8\n",
    "linked=Linked_List()\n",
    "linked1=Linked_List()\n",
    "linked.head=node1\n",
    "linked1.head=node4\n",
    "merge(linked,linked1)\n",
    "#linked.pairwise()\n",
    "#linked.head=linked.reverse_k(linked.head,2)\n"
   ]
  },
  {
   "cell_type": "code",
   "execution_count": 30,
   "metadata": {
    "collapsed": false
   },
   "outputs": [
    {
     "name": "stdout",
     "output_type": "stream",
     "text": [
      "1\n",
      "4\n",
      "2\n",
      "5\n",
      "3\n",
      "6\n"
     ]
    }
   ],
   "source": [
    "linked.printout()"
   ]
  },
  {
   "cell_type": "code",
   "execution_count": 87,
   "metadata": {
    "collapsed": false
   },
   "outputs": [
    {
     "name": "stdout",
     "output_type": "stream",
     "text": [
      "4\n",
      "2\n",
      "5\n",
      "3\n",
      "6\n"
     ]
    }
   ],
   "source": [
    "linked1.printout()"
   ]
  },
  {
   "cell_type": "code",
   "execution_count": null,
   "metadata": {
    "collapsed": true
   },
   "outputs": [],
   "source": []
  },
  {
   "cell_type": "code",
   "execution_count": null,
   "metadata": {
    "collapsed": true
   },
   "outputs": [],
   "source": []
  },
  {
   "cell_type": "code",
   "execution_count": null,
   "metadata": {
    "collapsed": true
   },
   "outputs": [],
   "source": []
  },
  {
   "cell_type": "code",
   "execution_count": 125,
   "metadata": {
    "collapsed": false
   },
   "outputs": [],
   "source": [
    "class node:\n",
    "    def __init__(self,val):\n",
    "        self.val=val\n",
    "        self.next=None \n",
    "\n",
    "\n",
    "class linked_list:\n",
    "    def __init__(self):\n",
    "        self.head=None\n",
    "    \n",
    "    def reverse(self):\n",
    "        prev_node=None\n",
    "        next_node=None\n",
    "        \n",
    "        curr_node=self.head\n",
    "        \n",
    "        while curr_node!=None:\n",
    "            next_node=curr_node.next\n",
    "            curr_node.next=prev_node\n",
    "            \n",
    "            prev_node=curr_node\n",
    "            curr_node=next_node\n",
    "            \n",
    "        return prev_node\n",
    "    \n",
    "    def reverse_k(self,head,k):\n",
    "        next_node=None\n",
    "        curr_node=head\n",
    "        prev_node=None\n",
    "        count=0\n",
    "        while curr_node!=None and count<k:\n",
    "            next_node=curr_node.next\n",
    "            curr_node.next=prev_node\n",
    "            prev_node=curr_node\n",
    "            curr_node=next_node\n",
    "            count=count+1\n",
    "        if next_node!=None:\n",
    "            head.next=self.reverse_k(next_node,k)\n",
    "\n",
    "        return prev_node\n",
    "        \n",
    "    \n",
    "    def reverseK(self,head,K):\n",
    "        prev_node=None\n",
    "        next_node=None\n",
    "        count=0\n",
    "        curr_node=head\n",
    "        \n",
    "        while curr_node!=None and count <K:\n",
    "            next_node=curr_node.next\n",
    "            curr_node.next=prev_node\n",
    "            \n",
    "            prev_node=curr_node\n",
    "            curr_node=next_node\n",
    "            count=count+1\n",
    "            \n",
    "        if next_node!=None:\n",
    "            head.next=self.reverseK(next_node,K)\n",
    "            \n",
    "        return prev_node\n",
    "        \n",
    "    def pairwise(self):\n",
    "        curr_node=self.head\n",
    "        while curr_node!=None and curr_node.next!=None:\n",
    "            curr_node.val,curr_node.next.val=curr_node.next.val,curr_node.val\n",
    "            curr_node=curr_node.next.next\n",
    "    \n",
    "    def merge(self,llist):\n",
    "        head_node1=self.head\n",
    "        head_node2=llist.head\n",
    "        \n",
    "        while head_node1!=None and head_node2!=None:\n",
    "            next_node1=head_node1.next\n",
    "            next_node2=head_node2.next\n",
    "            \n",
    "            head_node1.next=head_node2\n",
    "            head_node2.next=next_node1\n",
    "            head_node1=next_node1\n",
    "            head_node2=next_node2\n",
    "            \n",
    "        \n",
    "            \n",
    "    "
   ]
  },
  {
   "cell_type": "code",
   "execution_count": 126,
   "metadata": {
    "collapsed": false
   },
   "outputs": [],
   "source": [
    "llist=linked_list()\n",
    "node1=node(1)\n",
    "node2=node(2)\n",
    "node3=node(3)\n",
    "node4=node(4)\n",
    "node5=node(5)\n",
    "node1.next=node2\n",
    "node2.next=node3\n",
    "node3.next=node4\n",
    "node4.next=node5\n",
    "llist.head=node1\n",
    "#llist.head=llist.reverse()\n",
    "llist.head=llist.reverse_k(llist.head,3)\n",
    "#print llist.head.value\n",
    "#llist.pairwise()"
   ]
  },
  {
   "cell_type": "code",
   "execution_count": 127,
   "metadata": {
    "collapsed": false
   },
   "outputs": [
    {
     "name": "stdout",
     "output_type": "stream",
     "text": [
      "3\n",
      "2\n",
      "1\n",
      "5\n",
      "4\n"
     ]
    }
   ],
   "source": [
    "print llist.head.val\n",
    "print llist.head.next.val\n",
    "print llist.head.next.next.val\n",
    "print llist.head.next.next.next.val\n",
    "print llist.head.next.next.next.next.val"
   ]
  },
  {
   "cell_type": "code",
   "execution_count": 43,
   "metadata": {
    "collapsed": true
   },
   "outputs": [],
   "source": [
    "class linked_list:\n",
    "    def __init__(self):\n",
    "        self.head=None\n",
    "        \n",
    "    def reverse(self):\n",
    "        cur_node=self.head\n",
    "        prev_node=None\n",
    "        next_node=None\n",
    "\n",
    "        while cur_node!=None:\n",
    "            next_node=cur_node.next\n",
    "            cur_node.next=prev_node\n",
    "            prev_node=cur_node\n",
    "            cur_node=next_node\n",
    "\n",
    "        self.head=prev_node\n",
    "        \n",
    "    def reverseK(self, head, k):\n",
    "        current = head \n",
    "        next  = None\n",
    "        prev = None\n",
    "        count = 0\n",
    "         \n",
    "        # Reverse first k nodes of the linked list\n",
    "        while(current is not None and count < k):\n",
    "            next = current.next\n",
    "            current.next = prev\n",
    "            prev = current\n",
    "            current = next\n",
    "            count += 1\n",
    " \n",
    "        # next is now a pointer to (k+1)th node\n",
    "        # recursively call for the list starting\n",
    "        # from current . And make rest of the list as\n",
    "        # next of first node\n",
    "        if next is not None:\n",
    "            head.next = self.reverseK(next, k)\n",
    " \n",
    "        # prev is new head of the input list\n",
    "        return prev\n",
    " "
   ]
  },
  {
   "cell_type": "code",
   "execution_count": 4,
   "metadata": {
    "collapsed": false
   },
   "outputs": [],
   "source": []
  },
  {
   "cell_type": "code",
   "execution_count": 44,
   "metadata": {
    "collapsed": false
   },
   "outputs": [],
   "source": [
    "class linked_node:\n",
    "    def __init__(self,data):\n",
    "        self.next=None\n",
    "        self.data=data\n",
    "        "
   ]
  },
  {
   "cell_type": "code",
   "execution_count": 45,
   "metadata": {
    "collapsed": true
   },
   "outputs": [],
   "source": [
    "llist=linked_list()"
   ]
  },
  {
   "cell_type": "code",
   "execution_count": 46,
   "metadata": {
    "collapsed": true
   },
   "outputs": [],
   "source": [
    "node1=linked_node(1)\n",
    "node2=linked_node(2)\n",
    "node3=linked_node(3)\n",
    "node4=linked_node(4)\n",
    "node5=linked_node(5)\n",
    "node1.next=node2\n",
    "node2.next=node3\n",
    "node3.next=node 4\n",
    "node4.next=node5\n",
    "llist.head=node1"
   ]
  },
  {
   "cell_type": "code",
   "execution_count": 47,
   "metadata": {
    "collapsed": true
   },
   "outputs": [],
   "source": [
    "llist.head=llist.reverseK(llist.head,2)"
   ]
  },
  {
   "cell_type": "code",
   "execution_count": 48,
   "metadata": {
    "collapsed": false
   },
   "outputs": [
    {
     "name": "stdout",
     "output_type": "stream",
     "text": [
      "2\n",
      "1\n",
      "4\n",
      "3\n",
      "5\n"
     ]
    }
   ],
   "source": [
    "print llist.head.data\n",
    "print llist.head.next.data\n",
    "print llist.head.next.next.data\n",
    "print llist.head.next.next.next.data\n",
    "print llist.head.next.next.next.next.data"
   ]
  },
  {
   "cell_type": "code",
   "execution_count": 15,
   "metadata": {
    "collapsed": true
   },
   "outputs": [],
   "source": [
    "def reverse(llist):\n",
    "    cur_node=llist.head\n",
    "    prev_node=None\n",
    "    next_node=None\n",
    "    \n",
    "    while cur_node!=None:\n",
    "        next_node=cur_node.next\n",
    "        cur_node.next=prev_node\n",
    "        prev_node=cur_node\n",
    "        cur_node=next_node\n",
    "        \n",
    "    llist.head=prev_node\n",
    "        \n",
    "        \n",
    "        \n",
    "        "
   ]
  },
  {
   "cell_type": "code",
   "execution_count": 16,
   "metadata": {
    "collapsed": false
   },
   "outputs": [],
   "source": [
    "reverse(llist)"
   ]
  },
  {
   "cell_type": "code",
   "execution_count": null,
   "metadata": {
    "collapsed": true
   },
   "outputs": [],
   "source": [
    "def reverse(llist1,llist2):\n",
    "    cur_node1=llist1.head\n",
    "    cur_node2=llist2.head\n",
    "    new_list=linked_list()\n",
    "    if cur_node1==None:\n",
    "        new_list.head=cur_node2\n",
    "        return new_list\n",
    "    \n",
    "    if cur_node2==None:\n",
    "        new_list.head=cur_node1\n",
    "        return new_list\n",
    "    \n",
    "    \n",
    "    while cur_node1.next!=None and cur_node2.next!=None:\n",
    "        if cur_node1.data<cur_node2.data:\n",
    "                \n",
    "        \n",
    "        elif cur_node1.data<cur_node2.data:\n",
    "            \n",
    "        \n",
    "        else:\n",
    "        \n",
    "        \n",
    "        "
   ]
  }
 ],
 "metadata": {
  "kernelspec": {
   "display_name": "Python 2",
   "language": "python",
   "name": "python2"
  },
  "language_info": {
   "codemirror_mode": {
    "name": "ipython",
    "version": 2
   },
   "file_extension": ".py",
   "mimetype": "text/x-python",
   "name": "python",
   "nbconvert_exporter": "python",
   "pygments_lexer": "ipython2",
   "version": "2.7.12"
  }
 },
 "nbformat": 4,
 "nbformat_minor": 0
}
