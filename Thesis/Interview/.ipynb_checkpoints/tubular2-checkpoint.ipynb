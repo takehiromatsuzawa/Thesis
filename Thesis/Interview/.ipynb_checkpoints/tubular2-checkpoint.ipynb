{
 "cells": [
  {
   "cell_type": "code",
   "execution_count": 122,
   "metadata": {
    "collapsed": true
   },
   "outputs": [],
   "source": [
    "class node:\n",
    "    def __init__(self,char):\n",
    "        self.char=char\n",
    "        self.descendent={}\n",
    "        self.isEnd=False\n",
    "        \n",
    "class trie:\n",
    "    def __init__(self):\n",
    "        self.root=node('')\n",
    " \n",
    "    def add(self, word):\n",
    "        curr_node=self.root\n",
    "        for char in word:\n",
    "            if char not in curr_node.descendent:\n",
    "                curr_node.descendent[char]=node(char)\n",
    "            curr_node=curr_node.descendent[char]\n",
    "        curr_node.isEnd=True\n",
    "        \n",
    "    def include(self, word):\n",
    "        curr_node=self.root\n",
    "        for char in word:\n",
    "            if char not in curr_node.descendent:\n",
    "                return False\n",
    "            curr_node=curr_node.descendent[char]\n",
    "        return curr_node.isEnd\n",
    " \n",
    "    def get_prefixes(self, word):\n",
    "        prefix=''\n",
    "        prefixes=[]\n",
    "        curr_node=self.root\n",
    "        for char in word:\n",
    "            if char not in curr_node.descendent:\n",
    "                return prefixes\n",
    "            curr_node=curr_node.descendent[char]\n",
    "            \n",
    "            prefix=prefix+char\n",
    "            if curr_node.isEnd:\n",
    "                prefixes.append(prefix)\n",
    "        return prefixes\n",
    "\n",
    "def get_compound(words):\n",
    "    trie_1=trie()\n",
    "    queue=[]\n",
    "    for word in words:\n",
    "        prefixes=trie_1.get_prefixes(word)\n",
    "        for prefix in prefixes:\n",
    "            queue.append( (word, word[len(prefix):]) )\n",
    "        trie_1.add(word)\n",
    " \n",
    "    \n",
    "    longestWord=[]\n",
    "    maxLength=0\n",
    "    \n",
    "    while queue:\n",
    "        word, suffix = queue.pop(0)\n",
    "        if trie_1.include(suffix):\n",
    "            print word\n",
    "        else:\n",
    "            prefixes=trie_1.get_prefixes(suffix)\n",
    "            \n",
    "            for prefix in prefixes:\n",
    "                queue.append( (word, suffix[len(prefix):]) )\n",
    "    "
   ]
  },
  {
   "cell_type": "code",
   "execution_count": 123,
   "metadata": {
    "collapsed": true
   },
   "outputs": [],
   "source": [
    "word=['man',\n",
    "'woman',\n",
    "'manhandle',\n",
    "'handle',\n",
    "'race',\n",
    "'drag',\n",
    "'car',\n",
    "'racecar',\n",
    "'computer',\n",
    "'bag',\n",
    "'dragon',\n",
    "'manbag']"
   ]
  },
  {
   "cell_type": "code",
   "execution_count": 124,
   "metadata": {
    "collapsed": true
   },
   "outputs": [],
   "source": [
    "word=['cat', 'cats', 'catsdogcats', 'catxdogcatsrat', 'dog',\n",
    "      'dogcatsdog', 'hippopotamuses', 'rat', 'ratcat', 'ratcatdog', 'ratcatdogcat']"
   ]
  },
  {
   "cell_type": "code",
   "execution_count": 125,
   "metadata": {
    "collapsed": false
   },
   "outputs": [
    {
     "name": "stdout",
     "output_type": "stream",
     "text": [
      "ratcat\n",
      "ratcatdog\n",
      "ratcatdogcat\n",
      "catsdogcats\n",
      "dogcatsdog\n",
      "ratcatdog\n",
      "ratcatdogcat\n",
      "ratcatdogcat\n"
     ]
    }
   ],
   "source": [
    "get_compound(word)"
   ]
  },
  {
   "cell_type": "code",
   "execution_count": null,
   "metadata": {
    "collapsed": true
   },
   "outputs": [],
   "source": []
  },
  {
   "cell_type": "code",
   "execution_count": null,
   "metadata": {
    "collapsed": true
   },
   "outputs": [],
   "source": []
  },
  {
   "cell_type": "code",
   "execution_count": null,
   "metadata": {
    "collapsed": true
   },
   "outputs": [],
   "source": [
    "class node:\n",
    "    def __init__(self, letter=None, isTerminal=False):\n",
    "        self.letter=letter\n",
    "        self.children={}\n",
    "        self.isTerminal=isTerminal\n",
    "        \n",
    "class trie:\n",
    "    def __init__(self):\n",
    "        self.root=node('')\n",
    " \n",
    "    def insert(self, word):\n",
    "        current=self.root\n",
    "        for letter in word:\n",
    "            if letter not in current.children:\n",
    "                current.children[letter]=node(letter)\n",
    "            current=current.children[letter]\n",
    "        current.isTerminal=True\n",
    "        \n",
    "    def __contains__(self, word):\n",
    "        current=self.root\n",
    "        for letter in word:\n",
    "            if letter not in current.children:\n",
    "                return False\n",
    "            current=current.children[letter]\n",
    "        return current.isTerminal\n",
    " \n",
    "    def getAllPrefixesOfWord(self, word):\n",
    "        prefix=''\n",
    "        prefixes=[]\n",
    "        current=self.root\n",
    "        for letter in word:\n",
    "            if letter not in current.children:\n",
    "                return prefixes\n",
    "            current=current.children[letter]\n",
    "            prefix+=letter\n",
    "            if current.isTerminal:\n",
    "                prefixes.append(prefix)\n",
    "        return prefixes\n",
    "\n",
    "def longestWord(words):\n",
    "    #Add words to the trie, and pairs to the queue\n",
    "    trie_1=trie()\n",
    "    queue=[]\n",
    "    for word in words:\n",
    "        prefixes=trie_1.getAllPrefixesOfWord(word)\n",
    "        for prefix in prefixes:\n",
    "            queue.append( (word, word[len(prefix):]) )\n",
    "        trie_1.insert(word)\n",
    " \n",
    "    #Process the queue\n",
    "    longestWord=[]\n",
    "    maxLength=0\n",
    "    while queue:\n",
    "        word, suffix = queue.pop(0)\n",
    "        if suffix in trie_1:\n",
    "            print word\n",
    "        else:\n",
    "            prefixes=trie_1.getAllPrefixesOfWord(suffix)\n",
    "            \n",
    "            for prefix in prefixes:\n",
    "                queue.append( (word, suffix[len(prefix):]) )\n",
    " \n",
    "    "
   ]
  },
  {
   "cell_type": "code",
   "execution_count": 145,
   "metadata": {
    "collapsed": true
   },
   "outputs": [],
   "source": [
    "def heapsort(a):\n",
    "\n",
    "    make_heap(a, len(a))\n",
    "    end = len(a)-1\n",
    "    while end > 0:\n",
    "        a[0], a[end] =a[end], a[0] \n",
    "        end = end- 1\n",
    "        move_down(a, 0, end)\n",
    "\n",
    "def make_heap(a, last):\n",
    "    start = int((last-2)/2)\n",
    "    while start >= 0:\n",
    "        move_down(a, start, last-1)\n",
    "        start -= 1\n",
    "\n",
    "def move_down(a, start, end):\n",
    "    root = start\n",
    "    while (root*2+1) <= end:\n",
    "        child_node = root * 2 + 1\n",
    "        swap_node = root\n",
    "        if a[swap_node] < a[child_node]:\n",
    "            swap_node = child_node\n",
    "        if (child_node + 1) <= end and a[swap_node] < a[child_node+1]:\n",
    "            swap_node = child_node+1\n",
    "        if swap_node != root:\n",
    "            a[root], a[swap_node] = a[swap_node], a[root]\n",
    "            root = swap_node\n",
    "        else:\n",
    "            return"
   ]
  },
  {
   "cell_type": "code",
   "execution_count": 146,
   "metadata": {
    "collapsed": false
   },
   "outputs": [
    {
     "name": "stdout",
     "output_type": "stream",
     "text": [
      "[0, 1, 2, 3, 4, 5, 6, 7, 8, 9]\n"
     ]
    }
   ],
   "source": [
    "ary = [7, 6, 5, 9, 8, 4, 3, 1, 2, 0]\n",
    "heapsort(ary)\n",
    "print ary"
   ]
  },
  {
   "cell_type": "code",
   "execution_count": 147,
   "metadata": {
    "collapsed": false
   },
   "outputs": [
    {
     "name": "stdout",
     "output_type": "stream",
     "text": [
      "['bag', 'car', 'computer', 'drag', 'dragon', 'handle', 'man', 'manbag', 'manhandle', 'race', 'racecar', 'woman']\n"
     ]
    }
   ],
   "source": [
    "word=['man',\n",
    "'woman',\n",
    "'manhandle',\n",
    "'handle',\n",
    "'race',\n",
    "'drag',\n",
    "'car',\n",
    "'racecar',\n",
    "'computer',\n",
    "'bag',\n",
    "'dragon',\n",
    "'manbag']\n",
    "heapsort(word)\n",
    "print word"
   ]
  },
  {
   "cell_type": "code",
   "execution_count": null,
   "metadata": {
    "collapsed": true
   },
   "outputs": [],
   "source": []
  }
 ],
 "metadata": {
  "kernelspec": {
   "display_name": "Python 2",
   "language": "python",
   "name": "python2"
  },
  "language_info": {
   "codemirror_mode": {
    "name": "ipython",
    "version": 2
   },
   "file_extension": ".py",
   "mimetype": "text/x-python",
   "name": "python",
   "nbconvert_exporter": "python",
   "pygments_lexer": "ipython2",
   "version": "2.7.12"
  }
 },
 "nbformat": 4,
 "nbformat_minor": 0
}
