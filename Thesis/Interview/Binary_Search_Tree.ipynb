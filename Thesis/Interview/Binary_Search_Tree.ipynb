{
 "cells": [
  {
   "cell_type": "code",
   "execution_count": 12,
   "metadata": {
    "collapsed": false
   },
   "outputs": [
    {
     "name": "stdout",
     "output_type": "stream",
     "text": [
      "kth0\n",
      "8\n",
      "kth1\n",
      "lca1\n",
      "4\n",
      "8\n",
      "10\n",
      "12\n",
      "14\n",
      "20\n",
      "22\n",
      "lca2\n",
      "lca3\n",
      "4\n",
      "8\n",
      "10\n",
      "12\n",
      "\n",
      "1\n",
      "2\n",
      "3\n",
      "5\n",
      "6\n",
      "7\n"
     ]
    }
   ],
   "source": [
    "class Node:\n",
    "    def __init__(self,val):\n",
    "        self.val=val\n",
    "        self.right=None\n",
    "        self.left=None\n",
    "    \n",
    "root = Node(20)\n",
    "root.left = Node(8)\n",
    "root.right = Node(22)\n",
    "root.left.left = Node(4)\n",
    "root.left.right = Node(12)\n",
    "root.left.right.left = Node(10)\n",
    "root.left.right.right = Node(14)\n",
    "\n",
    "\n",
    "def remove_BST(root,mini,maxi):\n",
    "    if root==None:\n",
    "        return\n",
    "    else:\n",
    "        root.left =remove_BST(root.left ,mini)\n",
    "        root.right=remove_BST(root.right,mini)\n",
    "        \n",
    "        if root.val<mini:\n",
    "            temp=root.right\n",
    "            del root\n",
    "            return temp\n",
    "        elif root.val>maxi:\n",
    "            temp=root.left\n",
    "            del root\n",
    "            return temp\n",
    "        else:\n",
    "            return root\n",
    "        \n",
    "        \n",
    "def kth(root,counter,k):\n",
    "    if root==None:\n",
    "        return\n",
    "    else:\n",
    "        counter[0]=counter[0]+1\n",
    "        if counter[0]==k:\n",
    "            print root.val\n",
    "        else:\n",
    "            \n",
    "            kth(root.left ,counter,k)\n",
    "            kth(root.right,counter,k)\n",
    "            \n",
    "#remove_BST(root,10,22) \n",
    "print 'kth0'\n",
    "counter=[0]\n",
    "kth(root,counter,2)\n",
    "#counter=[0]\n",
    "#kth(root,counter,3)\n",
    "print 'kth1'\n",
    "\n",
    "def print_all(root):\n",
    "    if root==None:\n",
    "        return\n",
    "    else:\n",
    "        print_all(root.left)\n",
    "        print root.val\n",
    "        print_all(root.right)\n",
    "def sorted_BST(array,low,high):\n",
    "    if low>high:\n",
    "        return None\n",
    "    else:\n",
    "        mid=(low+high)//2\n",
    "        new_node=Node(array[mid])\n",
    "        \n",
    "        new_node.left=sorted_BST(array,low,mid-1)\n",
    "        new_node.right=sorted_BST(array,mid+1,high)\n",
    "        \n",
    "        return new_node\n",
    "    \n",
    "    \n",
    "    \n",
    "    \n",
    "def removeBST(root,low,high):\n",
    "    if root==None:\n",
    "        return None\n",
    "    else:\n",
    "        root.left=removeBST(root.left,low,high)\n",
    "        root.right=removeBST(root.right,low,high)\n",
    "        if root.val<low:\n",
    "            temp=root.right\n",
    "            del root\n",
    "            return temp\n",
    "        \n",
    "        elif root.val>high:\n",
    "            temp=root.left\n",
    "            del root\n",
    "            return temp\n",
    "        else:\n",
    "            return root\n",
    "    \n",
    "#max_sum=[10000000]\n",
    "print 'lca1'\n",
    "print_all(root)\n",
    "print 'lca2'\n",
    "newroot=removeBST(root,4,12)\n",
    "print 'lca3'\n",
    "print_all(newroot)\n",
    "new_root=sorted_BST([1, 2, 3, 5, 6, 7],0,5)\n",
    "#max_sum\n",
    "print \n",
    "print_all(new_root)"
   ]
  },
  {
   "cell_type": "code",
   "execution_count": 35,
   "metadata": {
    "collapsed": false
   },
   "outputs": [],
   "source": [
    "def lca(root,node1,node2):\n",
    "    if root==None:\n",
    "        return None\n",
    "    elif root.val>=node1 and root.val<=node2:\n",
    "        return root.val\n",
    "    elif root.val<node1:\n",
    "        return lca(root.right,node1,node2)\n",
    "    else:\n",
    "        return lca(root.left,node1,node2)"
   ]
  },
  {
   "cell_type": "code",
   "execution_count": 42,
   "metadata": {
    "collapsed": true
   },
   "outputs": [],
   "source": [
    "def sortedBST(array,low,high):\n",
    "    if low>high:\n",
    "        return None\n",
    "    else:\n",
    "        mid=(low+high)//2\n",
    "        new_node=Node(array[mid])\n",
    "        new_node.left =sortedBST(array,low,mid-1)\n",
    "        new_node.right=sortedBST(array,mid+1,high)\n",
    "        \n",
    "        return new_node"
   ]
  },
  {
   "cell_type": "code",
   "execution_count": 46,
   "metadata": {
    "collapsed": false
   },
   "outputs": [
    {
     "name": "stdout",
     "output_type": "stream",
     "text": [
      "1\n",
      "2\n",
      "3\n",
      "4\n",
      "5\n",
      "6\n",
      "7\n"
     ]
    }
   ],
   "source": [
    "array=[1, 2, 3, 4, 5, 6, 7]\n",
    "newroot=sortedBST(array,0,len(array)-1)\n",
    "print_all(newroot)"
   ]
  },
  {
   "cell_type": "code",
   "execution_count": 51,
   "metadata": {
    "collapsed": false
   },
   "outputs": [
    {
     "name": "stdout",
     "output_type": "stream",
     "text": [
      "10\n"
     ]
    }
   ],
   "source": [
    "def kth_smallest(root,k):\n",
    "    if root==None:\n",
    "        return\n",
    "    else:\n",
    "        kth_smallest(root.left ,k)\n",
    "        k[0]=k[0]-1\n",
    "        if k[0]==0:\n",
    "            print root.val\n",
    "        kth_smallest(root.right,k)\n",
    "\n",
    "kth_smallest(root,[3])\n"
   ]
  },
  {
   "cell_type": "code",
   "execution_count": 30,
   "metadata": {
    "collapsed": true
   },
   "outputs": [],
   "source": [
    "def add_greater(root,val):\n",
    "    if root==None:\n",
    "        return\n",
    "    else:\n",
    "        add_greater(root.right,val)\n",
    "        root.val=val[0]+root.val\n",
    "        val[0]=root.val\n",
    "        add_greater(root.left ,val)\n"
   ]
  },
  {
   "cell_type": "code",
   "execution_count": 31,
   "metadata": {
    "collapsed": true
   },
   "outputs": [],
   "source": [
    "root = Node(20)\n",
    "root.left = Node(8)\n",
    "root.right = Node(22)\n",
    "root.left.left = Node(4)\n",
    "root.left.right = Node(12)\n",
    "root.left.right.left = Node(10)\n",
    "root.left.right.right = Node(14)"
   ]
  },
  {
   "cell_type": "code",
   "execution_count": 32,
   "metadata": {
    "collapsed": false
   },
   "outputs": [
    {
     "name": "stdout",
     "output_type": "stream",
     "text": [
      "90\n",
      "86\n",
      "78\n",
      "68\n",
      "56\n",
      "42\n",
      "22\n"
     ]
    }
   ],
   "source": [
    "add_greater(root,[0])\n",
    "print_all(root)"
   ]
  },
  {
   "cell_type": "code",
   "execution_count": 22,
   "metadata": {
    "collapsed": true
   },
   "outputs": [],
   "source": [
    "def greater(root,val):\n",
    "    if root==None:\n",
    "        return\n",
    "    else:\n",
    "        greater(root.right,val)\n",
    "        temp=root.val\n",
    "        root.val=val[0]\n",
    "        val[0]=temp+root.val\n",
    "        greater(root.left,val)"
   ]
  },
  {
   "cell_type": "code",
   "execution_count": 16,
   "metadata": {
    "collapsed": true
   },
   "outputs": [],
   "source": [
    "def count(root,mini,maxi):\n",
    "    if root==None:\n",
    "        return 0\n",
    "    else:\n",
    "        if root.val<mini:\n",
    "            return count(root.right,mini,maxi)\n",
    "\n",
    "        if root.val>maxi:\n",
    "            return count(root.left,mini,maxi)\n",
    "        else:\n",
    "            return 1+count(root.left,mini,maxi)+count(root.right,mini,maxi)"
   ]
  },
  {
   "cell_type": "code",
   "execution_count": null,
   "metadata": {
    "collapsed": true
   },
   "outputs": [],
   "source": [
    "def count(root,mini,maxi):\n",
    "    if root==None:\n",
    "        return 0\n",
    "    else:\n",
    "        if root.val<mini:\n",
    "            return count(root.right,mini,maxi)\n",
    "\n",
    "        if root.val>maxi:\n",
    "            return count(root.left,mini,maxi)\n",
    "        else:\n",
    "            return 1+count(root.left,mini,maxi)+count(root.right,mini,maxi)"
   ]
  },
  {
   "cell_type": "code",
   "execution_count": 17,
   "metadata": {
    "collapsed": false
   },
   "outputs": [
    {
     "data": {
      "text/plain": [
       "6"
      ]
     },
     "execution_count": 17,
     "metadata": {},
     "output_type": "execute_result"
    }
   ],
   "source": [
    "coutner=[0]\n",
    "count(root,5,25)\n"
   ]
  },
  {
   "cell_type": "code",
   "execution_count": 106,
   "metadata": {
    "collapsed": true
   },
   "outputs": [],
   "source": [
    "root = Node(50)\n",
    "root.left = Node(30)\n",
    "root.right = Node(70)\n",
    "root.left.left = Node(20)\n",
    "root.left.right = Node(40)\n",
    "root.right.left = Node(60)\n",
    "root.right.right = Node(80)"
   ]
  },
  {
   "cell_type": "code",
   "execution_count": 92,
   "metadata": {
    "collapsed": false
   },
   "outputs": [],
   "source": [
    "greater(root,[0])"
   ]
  },
  {
   "cell_type": "code",
   "execution_count": 93,
   "metadata": {
    "collapsed": false
   },
   "outputs": [
    {
     "name": "stdout",
     "output_type": "stream",
     "text": [
      "330\n",
      "300\n",
      "260\n",
      "210\n",
      "150\n",
      "80\n",
      "0\n"
     ]
    }
   ],
   "source": [
    "print_all(root)"
   ]
  },
  {
   "cell_type": "code",
   "execution_count": 48,
   "metadata": {
    "collapsed": false
   },
   "outputs": [
    {
     "name": "stdout",
     "output_type": "stream",
     "text": [
      "12\n",
      "8\n",
      "20\n"
     ]
    }
   ],
   "source": [
    "root = Node(20)\n",
    "root.left = Node(8)\n",
    "root.right = Node(22)\n",
    "root.left.left = Node(4)\n",
    "root.left.right = Node(12)\n",
    "root.left.right.left = Node(10)\n",
    "root.left.right.right = Node(14)\n",
    " \n",
    "n1 = 10 ; n2 = 14\n",
    "print lca(root, n1, n2)\n",
    "#print \"LCA of %d and %d is %d\" %(n1, n2, t.data)\n",
    " \n",
    "n1 = 8 ; n2 = 14\n",
    "print lca(root, n1, n2)\n",
    "#print \"LCA of %d and %d is %d\" %(n1, n2 , t.data)\n",
    " \n",
    "n1 = 10 ; n2 = 22\n",
    "print lca(root, n1, n2)\n",
    "#print \"LCA of %d and %d is %d\" %(n1, n2, t.data)"
   ]
  },
  {
   "cell_type": "code",
   "execution_count": 19,
   "metadata": {
    "collapsed": true
   },
   "outputs": [],
   "source": [
    "def isBST(root,mini,maxi):\n",
    "    if root==None:\n",
    "        return True\n",
    "    else:\n",
    "        \n",
    "        if root.val<mini:\n",
    "            return False\n",
    "        elif root.val>maxi:\n",
    "            return False\n",
    "        else:\n",
    "            return isBST(root.left,mini,root.val) and isBST(root.right,root.val,maxi) "
   ]
  },
  {
   "cell_type": "code",
   "execution_count": 20,
   "metadata": {
    "collapsed": false
   },
   "outputs": [
    {
     "data": {
      "text/plain": [
       "9223372036854775807"
      ]
     },
     "execution_count": 20,
     "metadata": {},
     "output_type": "execute_result"
    }
   ],
   "source": [
    "sys.maxint"
   ]
  },
  {
   "cell_type": "code",
   "execution_count": 21,
   "metadata": {
    "collapsed": false
   },
   "outputs": [
    {
     "data": {
      "text/plain": [
       "True"
      ]
     },
     "execution_count": 21,
     "metadata": {},
     "output_type": "execute_result"
    }
   ],
   "source": [
    "import sys\n",
    "root = Node(4)\n",
    "root.left = Node(2)\n",
    "root.right = Node(5)\n",
    "root.left.left = Node(1)\n",
    "root.left.right = Node(3)\n",
    "isBST(root,sys.maxint*(-1),sys.maxint)"
   ]
  },
  {
   "cell_type": "code",
   "execution_count": 3,
   "metadata": {
    "collapsed": false
   },
   "outputs": [
    {
     "name": "stdout",
     "output_type": "stream",
     "text": [
      "2 3\n"
     ]
    }
   ],
   "source": [
    "# Python program to find the nodes at k distance from root\n",
    " \n",
    "# A Binary tree node\n",
    "class Node:\n",
    "     \n",
    "    # Constructor to create a new node\n",
    "    def __init__(self, data):\n",
    "        self.data = data\n",
    "        self.left = None\n",
    "        self.right = None\n",
    "\n",
    "def printKDistant(root, k):\n",
    "     \n",
    "    if root is None:\n",
    "        return\n",
    "    if k == 0:\n",
    "        print root.data,\n",
    "    else:\n",
    "        printKDistant(root.left, k-1)\n",
    "        printKDistant(root.right, k-1)\n",
    "    \n",
    "# Driver program to test above function\n",
    "\n",
    "\"\"\"\n",
    "   Constructed binary tree is\n",
    "            1\n",
    "          /   \\\n",
    "        2      3\n",
    "      /  \\    /\n",
    "    4     5  8 \n",
    "\"\"\"\n",
    "root = Node(1)\n",
    "root.left = Node(2)\n",
    "root.right = Node(3)\n",
    "root.left.left = Node(4)\n",
    "root.left.right = Node(5)\n",
    "root.right.left = Node(8)\n",
    " \n",
    "printKDistant(root, 1)"
   ]
  },
  {
   "cell_type": "code",
   "execution_count": 6,
   "metadata": {
    "collapsed": true
   },
   "outputs": [],
   "source": [
    "def printAncestors(root, target):\n",
    "     \n",
    "    # Base case\n",
    "    if root == None:\n",
    "        return False\n",
    "     \n",
    "    if root.data == target:\n",
    "        return True\n",
    " \n",
    "    # If target is present in either left or right subtree \n",
    "    # of this node, then print this node\n",
    "    if (printAncestors(root.left, target) or\n",
    "        printAncestors(root.right, target)):\n",
    "        print root.data,\n",
    "        return True\n",
    " \n",
    "    # Else return False \n",
    "    return False"
   ]
  },
  {
   "cell_type": "code",
   "execution_count": 8,
   "metadata": {
    "collapsed": false
   },
   "outputs": [
    {
     "name": "stdout",
     "output_type": "stream",
     "text": [
      "3 1"
     ]
    },
    {
     "data": {
      "text/plain": [
       "True"
      ]
     },
     "execution_count": 8,
     "metadata": {},
     "output_type": "execute_result"
    },
    {
     "name": "stdout",
     "output_type": "stream",
     "text": [
      "\n"
     ]
    }
   ],
   "source": [
    "printAncestors(root, 8)"
   ]
  },
  {
   "cell_type": "code",
   "execution_count": 22,
   "metadata": {
    "collapsed": false
   },
   "outputs": [],
   "source": [
    "def sumTree(root):\n",
    "    if root==None:\n",
    "        return 0\n",
    "    else:\n",
    "        \n",
    "        if root.left==None and root.right==None:\n",
    "            temp=root.data\n",
    "            root.data=0\n",
    "            return root.data+temp\n",
    "        else:\n",
    "            temp=root.data\n",
    "            root.data=sumTree(root.left)+sumTree(root.right)\n",
    "            return temp+root.data\n",
    "            "
   ]
  },
  {
   "cell_type": "code",
   "execution_count": 26,
   "metadata": {
    "collapsed": true
   },
   "outputs": [],
   "source": [
    "root = Node(1)\n",
    "root.left = Node(2)\n",
    "root.right = Node(3)\n",
    "root.left.left = Node(4)\n",
    "root.left.right = Node(5)\n",
    "root.right.left = Node(8)\n",
    " "
   ]
  },
  {
   "cell_type": "code",
   "execution_count": 24,
   "metadata": {
    "collapsed": false
   },
   "outputs": [
    {
     "data": {
      "text/plain": [
       "23"
      ]
     },
     "execution_count": 24,
     "metadata": {},
     "output_type": "execute_result"
    }
   ],
   "source": [
    "sumTree(root)"
   ]
  },
  {
   "cell_type": "code",
   "execution_count": 25,
   "metadata": {
    "collapsed": false
   },
   "outputs": [
    {
     "data": {
      "text/plain": [
       "22"
      ]
     },
     "execution_count": 25,
     "metadata": {},
     "output_type": "execute_result"
    }
   ],
   "source": [
    "root.data"
   ]
  },
  {
   "cell_type": "code",
   "execution_count": 28,
   "metadata": {
    "collapsed": true
   },
   "outputs": [],
   "source": [
    "def levelDiff(root):\n",
    "    if root==None:\n",
    "        return 0\n",
    "    else:\n",
    "        return root.data-levelDiff(root.left)-levelDiff(root.right)"
   ]
  },
  {
   "cell_type": "code",
   "execution_count": 29,
   "metadata": {
    "collapsed": false
   },
   "outputs": [
    {
     "data": {
      "text/plain": [
       "13"
      ]
     },
     "execution_count": 29,
     "metadata": {},
     "output_type": "execute_result"
    }
   ],
   "source": [
    "levelDiff(root)"
   ]
  },
  {
   "cell_type": "code",
   "execution_count": 176,
   "metadata": {
    "collapsed": true
   },
   "outputs": [],
   "source": [
    "# Driver program to test above function\n",
    "root = Node(-15)\n",
    "root.left = Node(5)\n",
    "root.right = Node(6)\n",
    "root.left.left = Node(-8)\n",
    "root.left.right = Node(1)\n",
    "root.left.left.left = Node(2)\n",
    "root.left.left.right = Node(6)\n",
    "root.right.left = Node(3)\n",
    "root.right.right = Node(9)\n",
    "root.right.right.right= Node(0)\n",
    "root.right.right.right.left = Node(4)\n",
    "root.right.right.right.right = Node(-1)\n",
    "root.right.right.right.right.left = Node(10)"
   ]
  },
  {
   "cell_type": "code",
   "execution_count": 177,
   "metadata": {
    "collapsed": true
   },
   "outputs": [],
   "source": [
    "def maxPath(root,max_so_far):\n",
    "    if root==None:\n",
    "        return 0\n",
    "    else:\n",
    "        if root.left==None and root.right==None:\n",
    "            max_so_far[0]=max(max_so_far[0],root.data)\n",
    "            return root.data\n",
    "        elif root.left!=None and root.right==None:\n",
    "            return root.data+maxPath(root.left,max_so_far)\n",
    "        \n",
    "        elif root.left==None and root.right!=None:\n",
    "            return root.data+maxPath(root.right,max_so_far)\n",
    "        \n",
    "        else:\n",
    "            lmax=maxPath(root.left,max_so_far)\n",
    "            rmax=maxPath(root.right,max_so_far)\n",
    "            \n",
    "            max_so_far[0]=max(max_so_far[0],root.data+lmax+rmax)\n",
    "            print max_so_far[0]\n",
    "            return root.data+max(lmax,rmax)\n",
    "            "
   ]
  },
  {
   "cell_type": "code",
   "execution_count": 178,
   "metadata": {
    "collapsed": false
   },
   "outputs": [
    {
     "name": "stdout",
     "output_type": "stream",
     "text": [
      "6\n",
      "6\n",
      "13\n",
      "27\n",
      "27\n"
     ]
    },
    {
     "data": {
      "text/plain": [
       "[27]"
      ]
     },
     "execution_count": 178,
     "metadata": {},
     "output_type": "execute_result"
    }
   ],
   "source": [
    "max_path=[0]\n",
    "maxPath(root,max_path)\n",
    "max_path"
   ]
  },
  {
   "cell_type": "code",
   "execution_count": null,
   "metadata": {
    "collapsed": false
   },
   "outputs": [],
   "source": [
    "def sumleft()"
   ]
  },
  {
   "cell_type": "code",
   "execution_count": 51,
   "metadata": {
    "collapsed": true
   },
   "outputs": [],
   "source": [
    "root = Node(20)\n",
    "root.left = Node(8)\n",
    "root.right = Node(22)\n",
    "root.left.left = Node(4)\n",
    "root.left.right = Node(12)\n",
    "root.left.right.left = Node(10)\n",
    "root.left.right.right = Node(14)"
   ]
  },
  {
   "cell_type": "code",
   "execution_count": 53,
   "metadata": {
    "collapsed": true
   },
   "outputs": [],
   "source": [
    "# A recursive python program to find LCA of two nodes\n",
    "# n1 and n2\n",
    " \n",
    "# A Binary tree node\n",
    "class Node:\n",
    " \n",
    "    # Constructor to create a new node\n",
    "    def __init__(self, data):\n",
    "        self.data = data\n",
    "        self.left = None\n",
    "        self.right = None\n",
    "        \n",
    "# Function to find LCA of n1 and n2. The function assumes\n",
    "# that both n1 and n2 are present in BST\n",
    "def lca(root, n1, n2):\n",
    "     \n",
    "    # Base Case\n",
    "    if root is None:\n",
    "        return None\n",
    " \n",
    "    # If both n1 and n2 are smaller than root, then LCA\n",
    "    # lies in left\n",
    "    if(root.data > n1 and root.data > n2):\n",
    "        return lca(root.left, n1, n2)\n",
    " \n",
    "    # If both n1 and n2 are greater than root, then LCA\n",
    "    # lies in right \n",
    "    if(root.data < n1 and root.data < n2):\n",
    "        return lca(root.right, n1, n2)\n",
    " \n",
    "    return root\n",
    " "
   ]
  },
  {
   "cell_type": "code",
   "execution_count": 54,
   "metadata": {
    "collapsed": false
   },
   "outputs": [
    {
     "name": "stdout",
     "output_type": "stream",
     "text": [
      "LCA of 10 and 14 is 12\n",
      "LCA of 14 and 8 is 8\n",
      "LCA of 10 and 22 is 20\n"
     ]
    }
   ],
   "source": [
    "n1 = 10 ; n2 = 14\n",
    "t = lca(root, n1, n2)\n",
    "print \"LCA of %d and %d is %d\" %(n1, n2, t.data)\n",
    " \n",
    "n1 = 14 ; n2 = 8\n",
    "t = lca(root, n1, n2)\n",
    "print \"LCA of %d and %d is %d\" %(n1, n2 , t.data)\n",
    " \n",
    "n1 = 10 ; n2 = 22\n",
    "t = lca(root, n1, n2)\n",
    "print \"LCA of %d and %d is %d\" %(n1, n2, t.data)\n",
    "\n"
   ]
  },
  {
   "cell_type": "code",
   "execution_count": 57,
   "metadata": {
    "collapsed": false
   },
   "outputs": [
    {
     "data": {
      "text/plain": [
       "2"
      ]
     },
     "execution_count": 57,
     "metadata": {},
     "output_type": "execute_result"
    }
   ],
   "source": [
    "5//2"
   ]
  },
  {
   "cell_type": "code",
   "execution_count": 114,
   "metadata": {
    "collapsed": true
   },
   "outputs": [],
   "source": [
    "root = Node(20)\n",
    "root.left = Node(8)\n",
    "root.right = Node(22)\n",
    "root.left.left = Node(4)\n",
    "root.left.right = Node(12)\n",
    "root.left.right.left = Node(10)\n",
    "root.left.right.right = Node(14)\n",
    "root.left.right.right.right = Node(14)"
   ]
  },
  {
   "cell_type": "code",
   "execution_count": 59,
   "metadata": {
    "collapsed": true
   },
   "outputs": [],
   "source": [
    "def sumTree(root,val):\n",
    "    if root==None:\n",
    "        return \n",
    "    else:\n",
    "        if root.left==None and root.right==None:\n",
    "            print val+root.data\n",
    "        else:\n",
    "            val=val+root.data\n",
    "            sumTree(root.left,val)\n",
    "            sumTree(root.right,val)"
   ]
  },
  {
   "cell_type": "code",
   "execution_count": 60,
   "metadata": {
    "collapsed": false
   },
   "outputs": [
    {
     "name": "stdout",
     "output_type": "stream",
     "text": [
      "32\n",
      "50\n",
      "54\n",
      "42\n"
     ]
    }
   ],
   "source": [
    "sumTree(root,0)"
   ]
  },
  {
   "cell_type": "code",
   "execution_count": 146,
   "metadata": {
    "collapsed": true
   },
   "outputs": [],
   "source": [
    "def printK(root,val,k):\n",
    "    if root==None:\n",
    "        return \n",
    "    else:\n",
    "        printK(root.left,val,k+1)\n",
    "        if val==k:\n",
    "            print root.data\n",
    "        printK(root.right,val,k+1)"
   ]
  },
  {
   "cell_type": "code",
   "execution_count": 148,
   "metadata": {
    "collapsed": false
   },
   "outputs": [
    {
     "name": "stdout",
     "output_type": "stream",
     "text": [
      "25\n",
      "40\n"
     ]
    }
   ],
   "source": [
    "printK(root,2,0)"
   ]
  },
  {
   "cell_type": "code",
   "execution_count": 104,
   "metadata": {
    "collapsed": true
   },
   "outputs": [],
   "source": [
    "def printAns(root,path,pathlen):\n",
    "    if root==None:\n",
    "        return \n",
    "    else:\n",
    "        print pathlen\n",
    "        print path\n",
    "        if pathlen >= len(path):\n",
    "            path.append(root.data)\n",
    "        else:\n",
    "            path[pathlen]=root.data\n",
    "        #pathlen=pathlen+1\n",
    "        if root.left==None and root.right==None:\n",
    "            print path,pathlen,root.data\n",
    "        else:\n",
    "            printAns(root.left,path,pathlen+1)\n",
    "            \n",
    "            printAns(root.right,path,pathlen+1)\n",
    "            "
   ]
  },
  {
   "cell_type": "code",
   "execution_count": 105,
   "metadata": {
    "collapsed": false
   },
   "outputs": [
    {
     "name": "stdout",
     "output_type": "stream",
     "text": [
      "0\n",
      "[]\n",
      "1\n",
      "[20]\n",
      "2\n",
      "[20, 8]\n",
      "[20, 8, 4] 2 4\n",
      "2\n",
      "[20, 8, 4]\n",
      "3\n",
      "[20, 8, 12]\n",
      "[20, 8, 12, 10] 3 10\n",
      "3\n",
      "[20, 8, 12, 10]\n",
      "[20, 8, 12, 14] 3 14\n",
      "1\n",
      "[20, 8, 12, 14]\n",
      "[20, 22, 12, 14] 1 22\n"
     ]
    }
   ],
   "source": [
    "printAns(root,[],0)"
   ]
  },
  {
   "cell_type": "code",
   "execution_count": 168,
   "metadata": {
    "collapsed": true
   },
   "outputs": [],
   "source": [
    "def printLeft(root,depth,maxDepth):\n",
    "    if root==None:\n",
    "        return\n",
    "    else:\n",
    "        print maxDepth\n",
    "        print root.data\n",
    "        #print depth\n",
    "        if depth>maxDepth[0]:\n",
    "            maxDepth[0]=depth\n",
    "            print root.data\n",
    "            \n",
    "        printLeft(root.left,depth+1,maxDepth)\n",
    "        \n",
    "        printLeft(root.right,depth+1,maxDepth)\n",
    "        "
   ]
  },
  {
   "cell_type": "code",
   "execution_count": 169,
   "metadata": {
    "collapsed": false
   },
   "outputs": [
    {
     "name": "stdout",
     "output_type": "stream",
     "text": [
      "[0]\n",
      "12\n",
      "12\n",
      "[1]\n",
      "10\n",
      "10\n",
      "[2]\n",
      "20\n",
      "[2]\n",
      "25\n",
      "25\n",
      "[3]\n",
      "40\n"
     ]
    }
   ],
   "source": [
    "printLeft(root,1,[0])"
   ]
  },
  {
   "cell_type": "code",
   "execution_count": 166,
   "metadata": {
    "collapsed": true
   },
   "outputs": [],
   "source": [
    "def printLeft(root,depth,maxDepth):\n",
    "    if root==None:\n",
    "        return\n",
    "    else:\n",
    "        print maxDepth\n",
    "        print root.data\n",
    "        #print depth\n",
    "        if depth>=maxDepth:\n",
    "            maxDepth=depth\n",
    "            #print root.data\n",
    "            \n",
    "        printLeft(root.left,depth+1,maxDepth)\n",
    "        \n",
    "        printLeft(root.right,depth+1,maxDepth)\n",
    "        "
   ]
  },
  {
   "cell_type": "code",
   "execution_count": 167,
   "metadata": {
    "collapsed": false
   },
   "outputs": [
    {
     "name": "stdout",
     "output_type": "stream",
     "text": [
      "0\n",
      "12\n",
      "1\n",
      "10\n",
      "1\n",
      "20\n",
      "2\n",
      "25\n",
      "2\n",
      "40\n"
     ]
    }
   ],
   "source": [
    "printLeft(root,1,0)"
   ]
  },
  {
   "cell_type": "code",
   "execution_count": 137,
   "metadata": {
    "collapsed": false
   },
   "outputs": [
    {
     "name": "stdout",
     "output_type": "stream",
     "text": [
      "12\t10\t25\t12\t10\t25\t"
     ]
    }
   ],
   "source": [
    "def leftViewUtil(root, level, max_level):\n",
    "     \n",
    "    # Base Case\n",
    "    if root is None:\n",
    "        return\n",
    " \n",
    "    # If this is the first node of its level\n",
    "    if (max_level[0] < level):\n",
    "        print \"%d\\t\" %(root.data),\n",
    "        max_level[0] = level\n",
    " \n",
    "    # Recur for left and right subtree\n",
    "    leftViewUtil(root.left, level+1, max_level)\n",
    "    leftViewUtil(root.right, level+1, max_level)\n",
    " \n",
    " \n",
    "# A wrapper over leftViewUtil()\n",
    "def leftView(root):\n",
    "    max_level = [0]\n",
    "    leftViewUtil(root, 1, max_level)\n",
    " \n",
    " \n",
    "# Driver program to test above function\n",
    "root = Node(12)\n",
    "root.left = Node(10)\n",
    "root.right = Node(20)\n",
    "root.right.left = Node(25)\n",
    "root.right.right = Node(40)\n",
    " \n",
    "leftView(root)\n",
    "leftViewUtil(root, 1, [0])"
   ]
  },
  {
   "cell_type": "code",
   "execution_count": 19,
   "metadata": {
    "collapsed": true
   },
   "outputs": [],
   "source": [
    "def sorted_BST(array,low,high):\n",
    "    if low>high:\n",
    "        return None\n",
    "    else:\n",
    "        mid=(low+high)//2\n",
    "        new_node=Node(array[mid])\n",
    "        new_node.right=sorted_BST(array,mid+1,high)\n",
    "        new_node.left =sorted_BST(array,low,mid-1)\n",
    "        \n",
    "        return new_node\n",
    "        \n",
    "        "
   ]
  },
  {
   "cell_type": "code",
   "execution_count": 26,
   "metadata": {
    "collapsed": false
   },
   "outputs": [],
   "source": [
    "array=[1,2,3,4,5]\n",
    "root=sorted_BST(array,0,len(array)-1)"
   ]
  },
  {
   "cell_type": "code",
   "execution_count": 27,
   "metadata": {
    "collapsed": false
   },
   "outputs": [
    {
     "name": "stdout",
     "output_type": "stream",
     "text": [
      "1\n",
      "2\n",
      "3\n",
      "4\n",
      "5\n"
     ]
    }
   ],
   "source": [
    "print_all(root)"
   ]
  },
  {
   "cell_type": "code",
   "execution_count": null,
   "metadata": {
    "collapsed": true
   },
   "outputs": [],
   "source": []
  }
 ],
 "metadata": {
  "kernelspec": {
   "display_name": "Python 2",
   "language": "python",
   "name": "python2"
  },
  "language_info": {
   "codemirror_mode": {
    "name": "ipython",
    "version": 2
   },
   "file_extension": ".py",
   "mimetype": "text/x-python",
   "name": "python",
   "nbconvert_exporter": "python",
   "pygments_lexer": "ipython2",
   "version": "2.7.12"
  }
 },
 "nbformat": 4,
 "nbformat_minor": 0
}
