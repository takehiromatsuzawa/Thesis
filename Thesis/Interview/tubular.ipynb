{
 "cells": [
  {
   "cell_type": "code",
   "execution_count": 79,
   "metadata": {
    "collapsed": true
   },
   "outputs": [],
   "source": [
    "class Node:\n",
    "    def __init__(self, letter=None, isTerminal=False):\n",
    "        self.letter=letter\n",
    "        self.children={}\n",
    "        self.isTerminal=isTerminal\n",
    "        \n",
    "class Trie:\n",
    "    def __init__(self):\n",
    "        self.root=Node('')\n",
    " \n",
    "    def insert(self, word):\n",
    "        current=self.root\n",
    "        for letter in word:\n",
    "            if letter not in current.children:\n",
    "                current.children[letter]=Node(letter)\n",
    "            current=current.children[letter]\n",
    "        current.isTerminal=True\n",
    "        \n",
    "    def __contains__(self, word):\n",
    "        current=self.root\n",
    "        for letter in word:\n",
    "            if letter not in current.children:\n",
    "                return False\n",
    "            current=current.children[letter]\n",
    "        return current.isTerminal\n",
    " \n",
    "    def getAllPrefixesOfWord(self, word):\n",
    "        prefix=''\n",
    "        prefixes=[]\n",
    "        current=self.root\n",
    "        for letter in word:\n",
    "            if letter not in current.children:\n",
    "                return prefixes\n",
    "            current=current.children[letter]\n",
    "            prefix+=letter\n",
    "            if current.isTerminal:\n",
    "                prefixes.append(prefix)\n",
    "        return prefixes\n",
    "\n",
    "def longestWord(words):\n",
    "    #Add words to the trie, and pairs to the queue\n",
    "    trie=Trie()\n",
    "    queue=[]\n",
    "    for word in words:\n",
    "        prefixes=trie.getAllPrefixesOfWord(word)\n",
    "        for prefix in prefixes:\n",
    "            queue.append( (word, word[len(prefix):]) )\n",
    "        trie.insert(word)\n",
    " \n",
    "    #Process the queue\n",
    "    longestWord=[]\n",
    "    maxLength=0\n",
    "    while queue:\n",
    "        word, suffix = queue.pop(0)\n",
    "        if suffix in trie:\n",
    "            print word\n",
    "        else:\n",
    "            prefixes=trie.getAllPrefixesOfWord(suffix)\n",
    "            \n",
    "            for prefix in prefixes:\n",
    "                queue.append( (word, suffix[len(prefix):]) )\n",
    " \n",
    "    "
   ]
  },
  {
   "cell_type": "code",
   "execution_count": 83,
   "metadata": {
    "collapsed": true
   },
   "outputs": [],
   "source": [
    "word=['man',\n",
    "'woman',\n",
    "'manhandle',\n",
    "'handle',\n",
    "'race',\n",
    "'drag',\n",
    "'car',\n",
    "'racecar',\n",
    "'computer',\n",
    "'bag',\n",
    "'dragon',\n",
    "'manbag']"
   ]
  },
  {
   "cell_type": "code",
   "execution_count": 81,
   "metadata": {
    "collapsed": false
   },
   "outputs": [],
   "source": [
    "word=['cat', 'cats', 'catsdogcats', 'catxdogcatsrat', 'dog', 'dogcatsdog', 'hippopotamuses', 'rat', 'ratcat', 'ratcatdog', 'ratcatdogcat']"
   ]
  },
  {
   "cell_type": "code",
   "execution_count": null,
   "metadata": {
    "collapsed": false
   },
   "outputs": [],
   "source": []
  },
  {
   "cell_type": "code",
   "execution_count": 84,
   "metadata": {
    "collapsed": false
   },
   "outputs": [
    {
     "name": "stdout",
     "output_type": "stream",
     "text": [
      "manhandle\n",
      "racecar\n",
      "manbag\n"
     ]
    }
   ],
   "source": [
    "longestWord(word)"
   ]
  },
  {
   "cell_type": "code",
   "execution_count": null,
   "metadata": {
    "collapsed": true
   },
   "outputs": [],
   "source": []
  }
 ],
 "metadata": {
  "kernelspec": {
   "display_name": "Python 2",
   "language": "python",
   "name": "python2"
  },
  "language_info": {
   "codemirror_mode": {
    "name": "ipython",
    "version": 2
   },
   "file_extension": ".py",
   "mimetype": "text/x-python",
   "name": "python",
   "nbconvert_exporter": "python",
   "pygments_lexer": "ipython2",
   "version": "2.7.12"
  }
 },
 "nbformat": 4,
 "nbformat_minor": 0
}
