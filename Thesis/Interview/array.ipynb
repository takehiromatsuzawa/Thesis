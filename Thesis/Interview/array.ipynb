{
 "cells": [
  {
   "cell_type": "code",
   "execution_count": 11,
   "metadata": {
    "collapsed": true
   },
   "outputs": [],
   "source": [
    "def permutation(array):\n",
    "    if len(array)==0:\n",
    "        return [array]\n",
    "    else:\n",
    "        char=array[0]\n",
    "        perms=permutation(array[1:])\n",
    "        result=[]\n",
    "        \n",
    "        for perm in perms:\n",
    "            for i in range(len(perm)+1):\n",
    "                result.append(perm[:i]+char+perm[i:])\n",
    "        \n",
    "        return result"
   ]
  },
  {
   "cell_type": "code",
   "execution_count": 12,
   "metadata": {
    "collapsed": false
   },
   "outputs": [
    {
     "data": {
      "text/plain": [
       "['abc', 'bac', 'bca', 'acb', 'cab', 'cba']"
      ]
     },
     "execution_count": 12,
     "metadata": {},
     "output_type": "execute_result"
    }
   ],
   "source": [
    "permutation('abc')"
   ]
  },
  {
   "cell_type": "code",
   "execution_count": 13,
   "metadata": {
    "collapsed": false
   },
   "outputs": [
    {
     "name": "stdout",
     "output_type": "stream",
     "text": [
      "('Splitting ', [54, 26, 93, 17, 77, 31, 44, 55, 20])\n",
      "('Splitting ', [54, 26, 93, 17])\n",
      "('Splitting ', [54, 26])\n",
      "('Splitting ', [54])\n",
      "('Merging ', [54])\n",
      "('Splitting ', [26])\n",
      "('Merging ', [26])\n",
      "('Merging ', [26, 54])\n",
      "('Splitting ', [93, 17])\n",
      "('Splitting ', [93])\n",
      "('Merging ', [93])\n",
      "('Splitting ', [17])\n",
      "('Merging ', [17])\n",
      "('Merging ', [17, 93])\n",
      "('Merging ', [17, 26, 54, 93])\n",
      "('Splitting ', [77, 31, 44, 55, 20])\n",
      "('Splitting ', [77, 31])\n",
      "('Splitting ', [77])\n",
      "('Merging ', [77])\n",
      "('Splitting ', [31])\n",
      "('Merging ', [31])\n",
      "('Merging ', [31, 77])\n",
      "('Splitting ', [44, 55, 20])\n",
      "('Splitting ', [44])\n",
      "('Merging ', [44])\n",
      "('Splitting ', [55, 20])\n",
      "('Splitting ', [55])\n",
      "('Merging ', [55])\n",
      "('Splitting ', [20])\n",
      "('Merging ', [20])\n",
      "('Merging ', [20, 55])\n",
      "('Merging ', [20, 44, 55])\n",
      "('Merging ', [20, 31, 44, 55, 77])\n",
      "('Merging ', [17, 20, 26, 31, 44, 54, 55, 77, 93])\n",
      "[17, 20, 26, 31, 44, 54, 55, 77, 93]\n"
     ]
    }
   ],
   "source": [
    "def mergeSort(alist):\n",
    "    print(\"Splitting \",alist)\n",
    "#     base condition\n",
    "    if len(alist)>1:\n",
    "        mid = len(alist)//2\n",
    "        lefthalf = alist[:mid]\n",
    "        righthalf = alist[mid:]\n",
    "\n",
    "        mergeSort(lefthalf)\n",
    "        mergeSort(righthalf)\n",
    "\n",
    "        i=0\n",
    "        j=0\n",
    "        k=0\n",
    "        while i < len(lefthalf) and j < len(righthalf):\n",
    "            if lefthalf[i] < righthalf[j]:\n",
    "                alist[k]=lefthalf[i]\n",
    "                i=i+1\n",
    "            else:\n",
    "                alist[k]=righthalf[j]\n",
    "                j=j+1\n",
    "            k=k+1\n",
    "\n",
    "        while i < len(lefthalf):\n",
    "            alist[k]=lefthalf[i]\n",
    "            i=i+1\n",
    "            k=k+1\n",
    "\n",
    "        while j < len(righthalf):\n",
    "            alist[k]=righthalf[j]\n",
    "            j=j+1\n",
    "            k=k+1\n",
    "    print(\"Merging \",alist)\n",
    "\n",
    "alist = [54,26,93,17,77,31,44,55,20]\n",
    "mergeSort(alist)\n",
    "print(alist)\n"
   ]
  },
  {
   "cell_type": "code",
   "execution_count": 26,
   "metadata": {
    "collapsed": true
   },
   "outputs": [],
   "source": [
    "def print_k(array,k,used,cur_len,curr):\n",
    "    #print used\n",
    "    if cur_len == k:\n",
    "        result=[]\n",
    "        for i in range(0,len(array)):\n",
    "            if used[i]==True:\n",
    "                result.append(array[i])\n",
    "        print result\n",
    "        return\n",
    "        \n",
    "    if curr==len(array):\n",
    "        return\n",
    "    #else:\n",
    "    used[curr]=True\n",
    "    print_k(array,k,used,cur_len+1,curr+1)\n",
    "    used[curr]=False\n",
    "    print_k(array,k,used,cur_len,curr+1)\n",
    "        "
   ]
  },
  {
   "cell_type": "code",
   "execution_count": 27,
   "metadata": {
    "collapsed": false
   },
   "outputs": [
    {
     "name": "stdout",
     "output_type": "stream",
     "text": [
      "[1, 2, 3]\n",
      "[1, 2, 4]\n",
      "[1, 3, 4]\n",
      "[2, 3, 4]\n"
     ]
    }
   ],
   "source": [
    "array=[1,2,3,4]\n",
    "used=[False,False,False,False]\n",
    "k=3\n",
    "cur_len=0\n",
    "curr=0\n",
    "print_k(array,k,used,cur_len,curr)"
   ]
  },
  {
   "cell_type": "code",
   "execution_count": 49,
   "metadata": {
    "collapsed": true
   },
   "outputs": [],
   "source": [
    "import numpy as np\n",
    "class island:\n",
    "    def __init__(self,row,col,percent):\n",
    "        self.matrix=[[0 for x in range(col)] for y in range(row)]\n",
    "        # cell 0 means a road. cell 1 means a wall\n",
    "        for i in range(0,row):\n",
    "            for j in range(0,col):\n",
    "                if np.random.randint(1, 100)<percent:\n",
    "                    self.matrix[i][j]=1\n",
    "        self.used=[[0 for x in range(col)] for y in range(row)]\n",
    "        self.count=0\n",
    "        \n",
    "    \n",
    "    def recur(self,row,col):\n",
    "        if self.matrix[row][col]==0 or self.used[row][col]==1:\n",
    "            return\n",
    "        else:\n",
    "            self.used[row][col]=1\n",
    "            if row>0:\n",
    "                self.recur(row-1,col)\n",
    "            if row<len(self.matrix)-2:\n",
    "                self.recur(row+1,col)\n",
    "                \n",
    "            if col>0:\n",
    "                self.recur(row,col-1)\n",
    "                \n",
    "            if col<len(self.matrix[0])-2:\n",
    "                self.recur(row,col+1)\n",
    "                \n",
    "    def solve(self):\n",
    "        for row in range(len(self.matrix)):\n",
    "            for col in range(len(self.matrix[0])):\n",
    "                if self.used[row][col]==0 and self.matrix[row][col]==1:\n",
    "                    self.recur(row,col)\n",
    "                    self.count=self.count+1\n",
    "        print self.count\n",
    "        \n",
    "        "
   ]
  },
  {
   "cell_type": "code",
   "execution_count": 50,
   "metadata": {
    "collapsed": false
   },
   "outputs": [
    {
     "name": "stdout",
     "output_type": "stream",
     "text": [
      "[[1, 0, 0, 0], [0, 1, 1, 0], [0, 0, 1, 1], [0, 0, 1, 0]]\n",
      "4\n"
     ]
    }
   ],
   "source": [
    "obj=island(4,4,30)\n",
    "print obj.matrix\n",
    "obj.solve()"
   ]
  },
  {
   "cell_type": "code",
   "execution_count": 12,
   "metadata": {
    "collapsed": true
   },
   "outputs": [],
   "source": [
    "def largest_conti(array):\n",
    "    max_so_far=array[0]\n",
    "    curr_max=array[0]\n",
    "    \n",
    "    for i in range(len(array)):\n",
    "        curr_max=max(curr_max+array[i],array[i])\n",
    "        max_so_far=max(curr_max,max_so_far)\n",
    "    return max_so_far"
   ]
  },
  {
   "cell_type": "code",
   "execution_count": 13,
   "metadata": {
    "collapsed": false
   },
   "outputs": [
    {
     "data": {
      "text/plain": [
       "7"
      ]
     },
     "execution_count": 13,
     "metadata": {},
     "output_type": "execute_result"
    }
   ],
   "source": [
    "largest_conti([-2, -3, 4, -1, -2, 1, 5, -3])"
   ]
  },
  {
   "cell_type": "code",
   "execution_count": null,
   "metadata": {
    "collapsed": true
   },
   "outputs": [],
   "source": [
    "def search(array,low,high,val):\n",
    "    if low==high:\n",
    "        if array[low]==val:\n",
    "            return low\n",
    "        else:\n",
    "            return -1\n",
    "    else:\n",
    "        "
   ]
  },
  {
   "cell_type": "code",
   "execution_count": 57,
   "metadata": {
    "collapsed": false
   },
   "outputs": [
    {
     "data": {
      "text/plain": [
       "[5, 6, 7, 8, 9, 10, 1, 2, 3]"
      ]
     },
     "execution_count": 57,
     "metadata": {},
     "output_type": "execute_result"
    }
   ],
   "source": [
    "[5, 6, 7, 8, 9, 10, 1, 2, 3]"
   ]
  },
  {
   "cell_type": "code",
   "execution_count": 62,
   "metadata": {
    "collapsed": true
   },
   "outputs": [],
   "source": [
    "def max_sum(array):\n",
    "    incl=array[0]\n",
    "    excl=0\n",
    "    \n",
    "    for i in range(1,len(array)):\n",
    "        excl_new=max(incl,excl)\n",
    "        incl=excl+array[i]\n",
    "        excl=excl_new\n",
    "    print max(incl,excl)"
   ]
  },
  {
   "cell_type": "code",
   "execution_count": 64,
   "metadata": {
    "collapsed": false
   },
   "outputs": [
    {
     "name": "stdout",
     "output_type": "stream",
     "text": [
      "110\n"
     ]
    }
   ],
   "source": [
    "max_sum([5, 5, 10, 100, 10, 5])"
   ]
  },
  {
   "cell_type": "code",
   "execution_count": 70,
   "metadata": {
    "collapsed": false
   },
   "outputs": [],
   "source": [
    "array=[12, 34, 45, 9, 8, 90, 3]"
   ]
  },
  {
   "cell_type": "code",
   "execution_count": 71,
   "metadata": {
    "collapsed": false
   },
   "outputs": [
    {
     "data": {
      "text/plain": [
       "[12, 34, 90, 8, 9, 45, 3]"
      ]
     },
     "execution_count": 71,
     "metadata": {},
     "output_type": "execute_result"
    }
   ],
   "source": [
    "def segregate(array):\n",
    "    even=0\n",
    "    odd=len(array)-1\n",
    "    \n",
    "    while even<=odd:\n",
    "        while array[even]%2==0:\n",
    "            even=even+1\n",
    "            \n",
    "        while array[odd]%2==1:\n",
    "            odd=odd-1\n",
    "        \n",
    "        if even<=odd:\n",
    "            array[even],array[odd]=array[odd],array[even]\n",
    "            even=even+1\n",
    "            odd=odd-1\n",
    "        \n",
    "    \n",
    "    \n",
    "segregate(array)\n",
    "array"
   ]
  },
  {
   "cell_type": "code",
   "execution_count": 75,
   "metadata": {
    "collapsed": true
   },
   "outputs": [],
   "source": [
    "def peak(array,low,high):\n",
    "    if low==high:\n",
    "        return array[low]\n",
    "    elif low==high-1:\n",
    "        return max(array[high],array[low])\n",
    "    else:\n",
    "        mid=(low+high)//2\n",
    "        \n",
    "        if array[mid]>array[mid-1] and array[mid]>array[mid+1]:\n",
    "            return array[mid]\n",
    "        elif array[mid]>array[mid-1]:\n",
    "            return peak(array,mid,high)\n",
    "        else: \n",
    "            return peak(array,low,mid)\n",
    "        "
   ]
  },
  {
   "cell_type": "code",
   "execution_count": 77,
   "metadata": {
    "collapsed": false
   },
   "outputs": [
    {
     "data": {
      "text/plain": [
       "50"
      ]
     },
     "execution_count": 77,
     "metadata": {},
     "output_type": "execute_result"
    }
   ],
   "source": [
    "array=[1, 3, 50, 10, 9, 7, 6]\n",
    "peak(array,0,len(array)-1)"
   ]
  },
  {
   "cell_type": "code",
   "execution_count": 9,
   "metadata": {
    "collapsed": true
   },
   "outputs": [],
   "source": [
    "def find_subarray(array,val):\n",
    "    start=0\n",
    "    end=0\n",
    "    curr_sum=array[0]\n",
    "    while end<len(array):\n",
    "        if curr_sum<val and end<len(array)-1:\n",
    "            end=end+1\n",
    "            curr_sum=curr_sum+array[end]\n",
    "        elif curr_sum==val and end<len(array)-1:\n",
    "            print True\n",
    "            break\n",
    "        elif curr_sum>val and end<len(array)-1:\n",
    "            if start==end:\n",
    "                start=start+1\n",
    "                end=end+a\n",
    "                curr_sum=array[start]\n",
    "            else:\n",
    "                curr_sum=curr_sum-array[start]\n",
    "        \n",
    "        "
   ]
  },
  {
   "cell_type": "code",
   "execution_count": 10,
   "metadata": {
    "collapsed": false
   },
   "outputs": [
    {
     "name": "stdout",
     "output_type": "stream",
     "text": [
      "True\n"
     ]
    }
   ],
   "source": [
    "array=[1, 4, 20, 3, 10, 5]\n",
    "find_subarray(array,33)"
   ]
  },
  {
   "cell_type": "code",
   "execution_count": 19,
   "metadata": {
    "collapsed": false
   },
   "outputs": [
    {
     "name": "stdout",
     "output_type": "stream",
     "text": [
      "7\n",
      "19\n",
      "11\n",
      "-11\n"
     ]
    }
   ],
   "source": [
    "\n",
    "print largest_conti([-2, -3, 4, -1, -2, 1, 5, -3])\n",
    "print largest_conti([8, -8, 9, -9, 10, -11, 12])\n",
    "print largest_conti([-8, 8, -9, 9, -10, 11, -12])\n",
    "print sum([-8, 8, -9, 9, -10, 11, -12])"
   ]
  },
  {
   "cell_type": "code",
   "execution_count": null,
   "metadata": {
    "collapsed": true
   },
   "outputs": [],
   "source": [
    "def min_array(array,low,high):\n",
    "    "
   ]
  },
  {
   "cell_type": "code",
   "execution_count": 30,
   "metadata": {
    "collapsed": true
   },
   "outputs": [],
   "source": [
    "def count_all(array,k):\n",
    "    dict_all={}\n",
    "    for elem in array:\n",
    "        dict_all[elem]=True\n",
    "    print dict_all\n",
    "    count=0\n",
    "    for elem in array:\n",
    "        if elem-k in dict_all:\n",
    "            count=count+1 \n",
    "        if elem+k in dict_all:\n",
    "            count=count+1\n",
    "        del dict_all[elem]\n",
    "    print count"
   ]
  },
  {
   "cell_type": "code",
   "execution_count": 32,
   "metadata": {
    "collapsed": false
   },
   "outputs": [
    {
     "name": "stdout",
     "output_type": "stream",
     "text": [
      "{0: True, 4: True, 8: True, 12: True, 16: True, 20: True}\n",
      "5\n"
     ]
    }
   ],
   "source": [
    "array=[8, 12, 16, 4, 0, 20]\n",
    "count_all(array,4)"
   ]
  },
  {
   "cell_type": "code",
   "execution_count": 40,
   "metadata": {
    "collapsed": true
   },
   "outputs": [],
   "source": [
    "def smallest(array,value):\n",
    "    start=0\n",
    "    end=0\n",
    "    curr_sum=0\n",
    "    \n",
    "    while end<len(array):\n",
    "        if curr_sum<=value and end<len(array)-1:\n",
    "            end=end+1\n",
    "            curr_sum=curr_sum+array[end]\n",
    "        \n",
    "        elif curr_sum>value and start<end:\n",
    "            curr_sum=curr_sum-array[start]\n",
    "            start=start+1\n",
    "            print end-start+1\n",
    "        elif"
   ]
  },
  {
   "cell_type": "code",
   "execution_count": 41,
   "metadata": {
    "collapsed": false
   },
   "outputs": [
    {
     "name": "stdout",
     "output_type": "stream",
     "text": [
      "3\n",
      "2\n",
      "3\n"
     ]
    },
    {
     "ename": "KeyboardInterrupt",
     "evalue": "",
     "output_type": "error",
     "traceback": [
      "\u001b[0;31m---------------------------------------------------------------------------\u001b[0m",
      "\u001b[0;31mKeyboardInterrupt\u001b[0m                         Traceback (most recent call last)",
      "\u001b[0;32m<ipython-input-41-fc72a108044e>\u001b[0m in \u001b[0;36m<module>\u001b[0;34m()\u001b[0m\n\u001b[0;32m----> 1\u001b[0;31m \u001b[0msmallest\u001b[0m\u001b[0;34m(\u001b[0m\u001b[0;34m[\u001b[0m\u001b[0;36m1\u001b[0m\u001b[0;34m,\u001b[0m \u001b[0;36m4\u001b[0m\u001b[0;34m,\u001b[0m \u001b[0;36m45\u001b[0m\u001b[0;34m,\u001b[0m \u001b[0;36m6\u001b[0m\u001b[0;34m,\u001b[0m \u001b[0;36m0\u001b[0m\u001b[0;34m,\u001b[0m \u001b[0;36m19\u001b[0m\u001b[0;34m]\u001b[0m\u001b[0;34m,\u001b[0m\u001b[0;36m51\u001b[0m\u001b[0;34m)\u001b[0m\u001b[0;34m\u001b[0m\u001b[0m\n\u001b[0m",
      "\u001b[0;32m<ipython-input-40-11650e942065>\u001b[0m in \u001b[0;36msmallest\u001b[0;34m(array, value)\u001b[0m\n\u001b[1;32m      5\u001b[0m \u001b[0;34m\u001b[0m\u001b[0m\n\u001b[1;32m      6\u001b[0m     \u001b[0;32mwhile\u001b[0m \u001b[0mend\u001b[0m\u001b[0;34m<\u001b[0m\u001b[0mlen\u001b[0m\u001b[0;34m(\u001b[0m\u001b[0marray\u001b[0m\u001b[0;34m)\u001b[0m\u001b[0;34m:\u001b[0m\u001b[0;34m\u001b[0m\u001b[0m\n\u001b[0;32m----> 7\u001b[0;31m         \u001b[0;32mif\u001b[0m \u001b[0mcurr_sum\u001b[0m\u001b[0;34m<=\u001b[0m\u001b[0mvalue\u001b[0m \u001b[0;32mand\u001b[0m \u001b[0mend\u001b[0m\u001b[0;34m<\u001b[0m\u001b[0mlen\u001b[0m\u001b[0;34m(\u001b[0m\u001b[0marray\u001b[0m\u001b[0;34m)\u001b[0m\u001b[0;34m-\u001b[0m\u001b[0;36m1\u001b[0m\u001b[0;34m:\u001b[0m\u001b[0;34m\u001b[0m\u001b[0m\n\u001b[0m\u001b[1;32m      8\u001b[0m             \u001b[0mend\u001b[0m\u001b[0;34m=\u001b[0m\u001b[0mend\u001b[0m\u001b[0;34m+\u001b[0m\u001b[0;36m1\u001b[0m\u001b[0;34m\u001b[0m\u001b[0m\n\u001b[1;32m      9\u001b[0m             \u001b[0mcurr_sum\u001b[0m\u001b[0;34m=\u001b[0m\u001b[0mcurr_sum\u001b[0m\u001b[0;34m+\u001b[0m\u001b[0marray\u001b[0m\u001b[0;34m[\u001b[0m\u001b[0mend\u001b[0m\u001b[0;34m]\u001b[0m\u001b[0;34m\u001b[0m\u001b[0m\n",
      "\u001b[0;31mKeyboardInterrupt\u001b[0m: "
     ]
    }
   ],
   "source": [
    "smallest([1, 4, 45, 6, 0, 19],51)"
   ]
  },
  {
   "cell_type": "code",
   "execution_count": 47,
   "metadata": {
    "collapsed": true
   },
   "outputs": [],
   "source": [
    "def wave(array):\n",
    "    for i in range(0,len(array),2):\n",
    "        if i!=0 and array[i]<array[i-1]:\n",
    "            array[i],array[i-1]=array[i-1],array[i]\n",
    "        elif i!=len(array)-1 and array[i]<array[i+1]:\n",
    "            array[i],array[i+1]=array[i+1],array[i]\n",
    "    print array"
   ]
  },
  {
   "cell_type": "code",
   "execution_count": 48,
   "metadata": {
    "collapsed": false
   },
   "outputs": [
    {
     "name": "stdout",
     "output_type": "stream",
     "text": [
      "[10, 5, 6, 2, 3, 20, 100, 80]\n"
     ]
    },
    {
     "data": {
      "text/plain": [
       "[10, 5, 6, 2, 3, 20, 100, 80]"
      ]
     },
     "execution_count": 48,
     "metadata": {},
     "output_type": "execute_result"
    }
   ],
   "source": [
    "array=[10, 5, 6, 3, 2, 20, 100, 80]\n",
    "wave(array)\n",
    "array"
   ]
  },
  {
   "cell_type": "code",
   "execution_count": 53,
   "metadata": {
    "collapsed": true
   },
   "outputs": [],
   "source": [
    "def find_common(array1,array2,array3):\n",
    "    loc1=0\n",
    "    loc2=0\n",
    "    loc3=0\n",
    "    \n",
    "    while loc1<len(array1) and loc2<len(array2) and loc3<len(array3):\n",
    "        if array1[loc1]==array2[loc2] and array2[loc2]==array3[loc3]:\n",
    "            print array2[loc2]\n",
    "        if array1[loc1]<array2[loc2]:\n",
    "            loc1=loc1+1\n",
    "        elif array2[loc2]<array3[loc3]:\n",
    "            loc2=loc2+1\n",
    "        else:\n",
    "            loc3=loc3+1\n",
    "        "
   ]
  },
  {
   "cell_type": "code",
   "execution_count": 54,
   "metadata": {
    "collapsed": false
   },
   "outputs": [
    {
     "name": "stdout",
     "output_type": "stream",
     "text": [
      "20\n",
      "80\n"
     ]
    }
   ],
   "source": [
    "array1=[1, 5, 10, 20, 40, 80]\n",
    "array2=[6, 7, 20, 80, 100]\n",
    "array3=[3, 4, 15, 20, 30, 70, 80, 120]\n",
    "find_common(array1,array2,array3)"
   ]
  },
  {
   "cell_type": "code",
   "execution_count": 57,
   "metadata": {
    "collapsed": true
   },
   "outputs": [],
   "source": [
    "def find_index(array):\n",
    "    prev_prev_zero=-1\n",
    "    for i in range(0,len(array)):\n",
    "        if array[i]==0:\n",
    "            prev_prev_zero=i\n",
    "            break\n",
    "    prev_zero=-1\n",
    "    for i in range(prev_prev_zero+1,len(array)):\n",
    "        if array[i]==0:\n",
    "            prev_zero=i\n",
    "            break\n",
    "    max_length=-1\n",
    "    for i in range(prev_zero+1,len(array)):\n",
    "        if array[i]==0:\n",
    "            max_length=max(max_length,i-prev_prev_zero)\n",
    "            print prev_zero\n",
    "            prev_prev_zero=prev_zero\n",
    "            prev_zero=i\n",
    "    print max_length"
   ]
  },
  {
   "cell_type": "code",
   "execution_count": 58,
   "metadata": {
    "collapsed": false
   },
   "outputs": [
    {
     "name": "stdout",
     "output_type": "stream",
     "text": [
      "3\n",
      "5\n",
      "6\n"
     ]
    }
   ],
   "source": [
    "array=[1, 1, 0, 0, 1, 0, 1, 1, 1, 0, 1, 1, 1]\n",
    "\n",
    "find_index(array)"
   ]
  },
  {
   "cell_type": "code",
   "execution_count": 66,
   "metadata": {
    "collapsed": true
   },
   "outputs": [],
   "source": [
    "def find_least(array,k):\n",
    "    curr_sum=0\n",
    "    for i in range(k):\n",
    "        curr_sum=curr_sum+array[i]\n",
    "    min_sum=curr_sum\n",
    "    \n",
    "    for j in range(k,len(array)):\n",
    "        curr_sum=curr_sum+array[j]-array[j-k]\n",
    "        min_sum=min(min_sum,curr_sum)\n",
    "    \n",
    "    print min_sum"
   ]
  },
  {
   "cell_type": "code",
   "execution_count": 67,
   "metadata": {
    "collapsed": false
   },
   "outputs": [
    {
     "name": "stdout",
     "output_type": "stream",
     "text": [
      "80\n"
     ]
    }
   ],
   "source": [
    "array=[3, 7, 90, 20, 10, 50, 40]\n",
    "k=3\n",
    "find_least(array,k)"
   ]
  },
  {
   "cell_type": "code",
   "execution_count": 70,
   "metadata": {
    "collapsed": true
   },
   "outputs": [],
   "source": [
    "def count_strict(array):\n",
    "    count=0\n",
    "    count_len=0\n",
    "    for i in range(1,len(array)):\n",
    "        \n",
    "        if array[i]>array[i-1]:\n",
    "            count=count+1\n",
    "        else:\n",
    "            count_len=count_len+count*(count+1)/2\n",
    "            count=0\n",
    "    if count>0:\n",
    "        count_len=count_len+count*(count+1)/2\n",
    "    print count_len"
   ]
  },
  {
   "cell_type": "code",
   "execution_count": 73,
   "metadata": {
    "collapsed": false
   },
   "outputs": [
    {
     "name": "stdout",
     "output_type": "stream",
     "text": [
      "2\n"
     ]
    }
   ],
   "source": [
    "array=[1,2,2, 4]\n",
    "count_strict(array)"
   ]
  },
  {
   "cell_type": "code",
   "execution_count": 84,
   "metadata": {
    "collapsed": true
   },
   "outputs": [],
   "source": [
    "def count_pairs(array,val):\n",
    "    dict_val={}\n",
    "    for i in range(0,len(array)):\n",
    "        if array[i] in dict_val:\n",
    "            dict_val[array[i]]=dict_val[array[i]]+1\n",
    "        else:\n",
    "            dict_val[array[i]]=1\n",
    "    print dict_val\n",
    "    \n",
    "    count=0\n",
    "    for i in range(0,len(array)):\n",
    "        if val-array[i] in dict_val:\n",
    "            count=count+dict_val[val-array[i]]\n",
    "            if array[i] in dict_val:\n",
    "                if dict_val[array[i]]>2:\n",
    "                    dict_val[array[i]]=dict_val[array[i]]-1\n",
    "                else:\n",
    "                    del dict_val[array[i]]\n",
    "#             del dict_val[]\n",
    "    \n",
    "    print count\n",
    "    \n",
    "    "
   ]
  },
  {
   "cell_type": "code",
   "execution_count": 85,
   "metadata": {
    "collapsed": false
   },
   "outputs": [
    {
     "name": "stdout",
     "output_type": "stream",
     "text": [
      "{1: 4}\n",
      "9\n"
     ]
    }
   ],
   "source": [
    "array=[1, 1,1,1]\n",
    "count_pairs(array,2)"
   ]
  },
  {
   "cell_type": "code",
   "execution_count": 86,
   "metadata": {
    "collapsed": true
   },
   "outputs": [],
   "source": [
    "array1=[1, 4, 5, 7, 9]\n",
    "array2=[4, 5, 7, 9]"
   ]
  },
  {
   "cell_type": "code",
   "execution_count": 95,
   "metadata": {
    "collapsed": false
   },
   "outputs": [],
   "source": [
    "def print_sizek(array,cur_length,curr,used,k):\n",
    "    if cur_length==k:\n",
    "        result=[]\n",
    "        for i in range(len(array)):\n",
    "            if used[i]==True:\n",
    "                result.append(array[i])\n",
    "        print result\n",
    "        return\n",
    "    \n",
    "    if curr==len(array):\n",
    "        return\n",
    "    \n",
    "    used[curr]=True\n",
    "    print_sizek(array,cur_length+1,curr+1,used,k)\n",
    "    used[curr]=False\n",
    "    print_sizek(array,cur_length,curr+1,used,k)\n",
    "    \n",
    "    \n",
    "    "
   ]
  },
  {
   "cell_type": "code",
   "execution_count": 97,
   "metadata": {
    "collapsed": false
   },
   "outputs": [
    {
     "name": "stdout",
     "output_type": "stream",
     "text": [
      "['a', 'b']\n",
      "['a', 'c']\n",
      "['a', 'd']\n",
      "['b', 'c']\n",
      "['b', 'd']\n",
      "['c', 'd']\n"
     ]
    }
   ],
   "source": [
    "array=['a','b','c','d']\n",
    "used=[False,False,False,False]\n",
    "k=2\n",
    "cur_length=0\n",
    "curr=0\n",
    "print_sizek(array,cur_length,curr,used,k)"
   ]
  },
  {
   "cell_type": "code",
   "execution_count": 106,
   "metadata": {
    "collapsed": true
   },
   "outputs": [],
   "source": [
    "def search_rotate(array,low,high,value):\n",
    "    if high==low:\n",
    "        if array[high]==value:\n",
    "            return high\n",
    "        else:\n",
    "            return -1\n",
    "    if high==low+1:\n",
    "        print high\n",
    "        print low\n",
    "        if array[high]==value:\n",
    "            return high\n",
    "        elif array[low]==value:\n",
    "            return low\n",
    "        else:\n",
    "            return -1\n",
    "            \n",
    "    else:\n",
    "        mid=(low+high)//2\n",
    "        if array[mid]==value:\n",
    "            return mid\n",
    "        elif array[mid]<array[high]:\n",
    "            if array[mid]>value:\n",
    "                return search_rotate(array,low,mid,value)\n",
    "            else:\n",
    "                return search_rotate(array,mid,high,value)\n",
    "        elif array[low]<array[mid]:\n",
    "            if array[mid]<value:\n",
    "                return search_rotate(array,mid,high,value)\n",
    "            else:\n",
    "                return search_rotate(array,low,mid,value)\n",
    "        \n",
    "        \n",
    "        "
   ]
  },
  {
   "cell_type": "code",
   "execution_count": 107,
   "metadata": {
    "collapsed": false
   },
   "outputs": [
    {
     "name": "stdout",
     "output_type": "stream",
     "text": [
      "1\n",
      "0\n"
     ]
    },
    {
     "data": {
      "text/plain": [
       "-1"
      ]
     },
     "execution_count": 107,
     "metadata": {},
     "output_type": "execute_result"
    }
   ],
   "source": [
    "array=[3, 4, 5, 1, 2]\n",
    "search_rotate(array,0,len(array)-1,1)"
   ]
  },
  {
   "cell_type": "code",
   "execution_count": 126,
   "metadata": {
    "collapsed": true
   },
   "outputs": [],
   "source": [
    "def big_diff(array):\n",
    "    LMin=[array[0]]\n",
    "    for i in range(1,len(array)):\n",
    "        LMin.append(min(LMin[i-1],array[i]))\n",
    "    print LMin\n",
    "    RMax=array\n",
    "    for i in range(len(array)-2,-1,-1):\n",
    "        RMax[i]=max(RMax[i+1],array[i])\n",
    "    print RMax\n",
    "    \n",
    "    l=0\n",
    "    r=0\n",
    "    max_length=-1\n",
    "    while r<len(array) and l<len(array):\n",
    "        \n",
    "        if RMax[r]>LMin[l]:\n",
    "            max_length=max(max_length,r-l)\n",
    "            r=r+1\n",
    "            \n",
    "        else:\n",
    "            l=l+1\n",
    "            \n",
    "    return max_length"
   ]
  },
  {
   "cell_type": "code",
   "execution_count": 127,
   "metadata": {
    "collapsed": false
   },
   "outputs": [
    {
     "name": "stdout",
     "output_type": "stream",
     "text": [
      "[9, 2, 2, 2, 2, 2, 2, 2, 2, 0]\n",
      "[18, 18, 18, 18, 18, 18, 18, 18, 18, 0]\n"
     ]
    },
    {
     "data": {
      "text/plain": [
       "8"
      ]
     },
     "execution_count": 127,
     "metadata": {},
     "output_type": "execute_result"
    }
   ],
   "source": [
    "array=[9, 2, 3, 4, 5, 6, 7, 8, 18, 0]\n",
    "big_diff(array)"
   ]
  },
  {
   "cell_type": "code",
   "execution_count": 136,
   "metadata": {
    "collapsed": true
   },
   "outputs": [],
   "source": [
    "def next_greater(array):\n",
    "    stack=[array[0]]\n",
    "    for i in range(1, len(array)):\n",
    "        while stack!=[]:\n",
    "            if stack[-1]<array[i]:\n",
    "                curr=stack.pop()\n",
    "                print curr,array[i]\n",
    "            else:\n",
    "                break\n",
    "        stack.append(array[i])\n",
    "    \n",
    "    for elem in stack:\n",
    "        print elem, -1\n",
    "    \n",
    "                "
   ]
  },
  {
   "cell_type": "code",
   "execution_count": 138,
   "metadata": {
    "collapsed": false
   },
   "outputs": [
    {
     "name": "stdout",
     "output_type": "stream",
     "text": [
      "6 12\n",
      "7 12\n",
      "13 -1\n",
      "12 -1\n"
     ]
    }
   ],
   "source": [
    "array=[13, 7, 6, 12]\n",
    "next_greater(array)"
   ]
  },
  {
   "cell_type": "code",
   "execution_count": 160,
   "metadata": {
    "collapsed": true
   },
   "outputs": [],
   "source": [
    "def greater(array,value):\n",
    "    start=0\n",
    "    end=0\n",
    "    curr_sum=array[0]\n",
    "    min_length=10000\n",
    "    \n",
    "    while start<len(array) and end<len(array):\n",
    "        if curr_sum<=value:\n",
    "            if end<len(array)-1:\n",
    "                end=end+1\n",
    "                curr_sum=curr_sum+array[end]\n",
    "            else:\n",
    "                break\n",
    "            \n",
    "            \n",
    "        \n",
    "            \n",
    "        else:\n",
    "            print end\n",
    "            print start\n",
    "            print\n",
    "            min_length=min(min_length,end-start+1)\n",
    "            if start==end:\n",
    "                if end<len(array)-1:\n",
    "                    start=start+1\n",
    "                    end=end+1\n",
    "                    curr_sum=array[start]\n",
    "                else:\n",
    "                    break\n",
    "            else:\n",
    "                curr_sum=curr_sum-array[start]\n",
    "                start=start+1\n",
    "                \n",
    "                \n",
    "    print min_length   "
   ]
  },
  {
   "cell_type": "code",
   "execution_count": 161,
   "metadata": {
    "collapsed": false
   },
   "outputs": [
    {
     "name": "stdout",
     "output_type": "stream",
     "text": [
      "3\n",
      "0\n",
      "\n",
      "3\n",
      "1\n",
      "\n",
      "5\n",
      "2\n",
      "\n",
      "3\n"
     ]
    }
   ],
   "source": [
    "array=[1, 4, 45, 6, 0, 19]\n",
    "greater(array,51)"
   ]
  },
  {
   "cell_type": "code",
   "execution_count": 192,
   "metadata": {
    "collapsed": true
   },
   "outputs": [],
   "source": [
    "def count_pairs(array,value):\n",
    "    dict_array={}\n",
    "    for elem in array:\n",
    "        if elem in dict_array:\n",
    "            dict_array[elem]=dict_array[elem]+1\n",
    "        else:\n",
    "            dict_array[elem]=1\n",
    "    \n",
    "    \n",
    "    print dict_array\n",
    "    keys=dict_array.keys()\n",
    "    \n",
    "    count=0\n",
    "    for key in keys:\n",
    "        if value - key in dict_array:\n",
    "            if value - key !=key:\n",
    "                count=count+dict_array[key]*dict_array[value-key]\n",
    "            else:\n",
    "                count=count+dict_array[key]*(dict_array[value-key]-1)/2\n",
    "                \n",
    "            del dict_array[key]\n",
    "    return count"
   ]
  },
  {
   "cell_type": "code",
   "execution_count": 193,
   "metadata": {
    "collapsed": false
   },
   "outputs": [
    {
     "name": "stdout",
     "output_type": "stream",
     "text": [
      "{1: 3, 2: 1, 4: 1, 5: 1, 6: 1, 7: 1, 10: 2, 12: 1, 15: 1, -1: 1}\n"
     ]
    },
    {
     "data": {
      "text/plain": [
       "9"
      ]
     },
     "execution_count": 193,
     "metadata": {},
     "output_type": "execute_result"
    }
   ],
   "source": [
    "array=[10, 12, 10, 15, -1, 7, 6, \n",
    "                   5, 4, 2, 1, 1, 1]\n",
    "count_pairs(array,11)"
   ]
  },
  {
   "cell_type": "code",
   "execution_count": 195,
   "metadata": {
    "collapsed": false
   },
   "outputs": [
    {
     "name": "stdout",
     "output_type": "stream",
     "text": [
      "[[0, 0, 1, 1, 0], [0, 1, 1, 0, 1], [1, 1, 1, 0, 0], [0, 0, 0, 1, 3]]\n",
      "\n"
     ]
    }
   ],
   "source": [
    "import numpy as np\n",
    "class Maze:\n",
    "    def __init__(self,row,col,endx,endy,percent):\n",
    "        self.matrix=[[0 for x in range(col)] for y in range(row)]\n",
    "        # cell 0 means a road. cell 1 means a wall\n",
    "        for i in range(0,row):\n",
    "            for j in range(0,col):\n",
    "                if np.random.randint(1, 100)<percent:\n",
    "                    self.matrix[i][j]=1\n",
    "        # if goal is outside the maze, print 'invalid value'\n",
    "        if endx>=row or endy>=col or endx<0 or endy<0:\n",
    "            print 'Invalid Value. Goal is outside the the maze'\n",
    "        else:\n",
    "            #cell 3 means a goal\n",
    "            self.matrix[endx][endy]=3\n",
    "        \n",
    "    def search(self):\n",
    "        \n",
    "Maze1=Maze(4,5,3,4,30)\n",
    "#print out the maze\n",
    "print Maze1.matrix\n",
    "print\n"
   ]
  },
  {
   "cell_type": "code",
   "execution_count": 7,
   "metadata": {
    "collapsed": true
   },
   "outputs": [],
   "source": [
    "def heapsort( aList ):\n",
    "    # convert aList to heap\n",
    "    length = len( aList ) - 1\n",
    "    leastParent = length / 2\n",
    "    for i in range ( leastParent, -1, -1 ):\n",
    "        moveDown( aList, i, length )\n",
    "    print 'alist'\n",
    "    print aList\n",
    "    \n",
    "    #flatten heap into sorted array\n",
    "    for i in range ( length, 0, -1 ):\n",
    "        if aList[0] > aList[i]:\n",
    "            swap( aList, 0, i )\n",
    "            moveDown( aList, 0, i - 1 )\n",
    " \n",
    " \n",
    "def moveDown( aList, first, last ):\n",
    "    largest = 2 * first + 1\n",
    "    while largest <= last:\n",
    "        # right child exists and is larger than left child\n",
    "        if ( largest < last ) and ( aList[largest] < aList[largest + 1] ):\n",
    "            largest += 1\n",
    " \n",
    "    # right child is larger than parent\n",
    "        if aList[largest] > aList[first]:\n",
    "            swap( aList, largest, first )\n",
    "            # move down to largest child\n",
    "            first = largest;\n",
    "            largest = 2 * first + 1\n",
    "        else:\n",
    "            return # force exit\n",
    " \n",
    " \n",
    "def swap( A, x, y ):\n",
    "    tmp = A[x]\n",
    "    A[x] = A[y]\n",
    "    A[y] = tmp"
   ]
  },
  {
   "cell_type": "code",
   "execution_count": 8,
   "metadata": {
    "collapsed": false
   },
   "outputs": [
    {
     "name": "stdout",
     "output_type": "stream",
     "text": [
      "alist\n",
      "[9, 8, 6, 7, 5, 3, 0, 1, 4, 2, 5]\n"
     ]
    },
    {
     "data": {
      "text/plain": [
       "[0, 1, 2, 3, 4, 5, 5, 6, 7, 8, 9]"
      ]
     },
     "execution_count": 8,
     "metadata": {},
     "output_type": "execute_result"
    }
   ],
   "source": [
    "a=[8,5,3,1,9,6,0,7,4,2,5]\n",
    "heapsort(a)\n",
    "a"
   ]
  },
  {
   "cell_type": "code",
   "execution_count": 9,
   "metadata": {
    "collapsed": true
   },
   "outputs": [],
   "source": [
    "#heapsort\n",
    "def heapsort(array):\n",
    "    make_heap(array, len(array))\n",
    "    end = len(array)-1\n",
    "    while end > 0:\n",
    "        array[0], array[end] =array[end], array[0]\n",
    "        end = end- 1\n",
    "        move_down(array, 0, end)\n",
    "\n",
    "#make a heap first\n",
    "def make_heap(array, end):\n",
    "    start = int((end-2)/2)\n",
    "    while start >= 0:\n",
    "        move_down(array, start, end-1)\n",
    "        start -= 1\n",
    "\n",
    "#move an element down in the tree\n",
    "def move_down(array, start, end):\n",
    "    root = start\n",
    "    while (root*2+1) <= end:\n",
    "        child_node = root * 2 + 1\n",
    "        swap_node = root\n",
    "        if array[swap_node] < array[child_node]:\n",
    "            swap_node = child_node\n",
    "        if (child_node + 1) <= end and array[swap_node] < array[child_node+1]:\n",
    "            swap_node = child_node+1\n",
    "        if swap_node != root:\n",
    "            array[swap_node],array[root] = array[root],array[swap_node]\n",
    "            root = swap_node\n",
    "        else:\n",
    "            return"
   ]
  },
  {
   "cell_type": "code",
   "execution_count": 10,
   "metadata": {
    "collapsed": false
   },
   "outputs": [
    {
     "data": {
      "text/plain": [
       "[0, 1, 2, 3, 4, 5, 5, 6, 7, 8, 9]"
      ]
     },
     "execution_count": 10,
     "metadata": {},
     "output_type": "execute_result"
    }
   ],
   "source": [
    "a=[8,5,3,1,9,6,0,7,4,2,5]\n",
    "heapsort(a)\n",
    "a"
   ]
  },
  {
   "cell_type": "code",
   "execution_count": null,
   "metadata": {
    "collapsed": true
   },
   "outputs": [],
   "source": []
  }
 ],
 "metadata": {
  "kernelspec": {
   "display_name": "Python 2",
   "language": "python",
   "name": "python2"
  },
  "language_info": {
   "codemirror_mode": {
    "name": "ipython",
    "version": 2
   },
   "file_extension": ".py",
   "mimetype": "text/x-python",
   "name": "python",
   "nbconvert_exporter": "python",
   "pygments_lexer": "ipython2",
   "version": "2.7.12"
  }
 },
 "nbformat": 4,
 "nbformat_minor": 0
}
