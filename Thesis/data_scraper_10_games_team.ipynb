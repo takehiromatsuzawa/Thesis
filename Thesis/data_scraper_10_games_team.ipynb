{
 "cells": [
  {
   "cell_type": "code",
   "execution_count": 4,
   "metadata": {
    "collapsed": false
   },
   "outputs": [],
   "source": [
    "import csv\n",
    "import json\n",
    "import unicodedata\n",
    "import numpy as np\n",
    "import networkx as nx\n",
    "\n",
    "import requests\n",
    "import pandas as pd\n",
    "from pattern import web\n",
    "import matplotlib.pyplot as plt\n",
    "import re\n",
    "\n",
    "from matplotlib import rcParams\n",
    "from bs4 import BeautifulSoup"
   ]
  },
  {
   "cell_type": "code",
   "execution_count": 5,
   "metadata": {
    "collapsed": true
   },
   "outputs": [],
   "source": [
    "def find_str(s, char):\n",
    "    index = 0\n",
    "    if char in s:\n",
    "        c = char[0]\n",
    "        for ch in s:\n",
    "            if ch == c:\n",
    "                if s[index:index+len(char)] == char:\n",
    "                    return index\n",
    "\n",
    "            index += 1\n",
    "\n",
    "    return -1"
   ]
  },
  {
   "cell_type": "code",
   "execution_count": 6,
   "metadata": {
    "collapsed": true
   },
   "outputs": [],
   "source": [
    "def get_poll_xml1_draft(poll_id):\n",
    "    url = \"http://www.hockey-reference.com/draft/NHL_%i_entry.html\" % int(poll_id)\n",
    "    return requests.get(url).text"
   ]
  },
  {
   "cell_type": "code",
   "execution_count": 7,
   "metadata": {
    "collapsed": true
   },
   "outputs": [],
   "source": [
    "def get_poll_xml1_player(poll_id):\n",
    "    url = \"http://www.hockey-reference.com\" + poll_id\n",
    "\n",
    "    return requests.get(url).text"
   ]
  },
  {
   "cell_type": "code",
   "execution_count": 8,
   "metadata": {
    "collapsed": true
   },
   "outputs": [],
   "source": [
    "def RepresentsInt(s):\n",
    "    try: \n",
    "        int(s)\n",
    "        return True\n",
    "    except ValueError:\n",
    "        return False"
   ]
  },
  {
   "cell_type": "code",
   "execution_count": 9,
   "metadata": {
    "collapsed": true
   },
   "outputs": [],
   "source": [
    "teams=['ANA','PHX','BOS','BUF','CGY','CAR','CHI','COL','CBJ','DAL','DET','EDM','FLA','LAK','MIN','MTL','NSH','NJD','NYI','NYR','OTT','PHI','PIT','SJS','STL','TBL','TOR','VAN','WSH',\n",
    "'WPG','QUE','WIN','MDA','HAR','MNS','ATL','PHX']"
   ]
  },
  {
   "cell_type": "code",
   "execution_count": 11,
   "metadata": {
    "collapsed": false
   },
   "outputs": [
    {
     "name": "stdout",
     "output_type": "stream",
     "text": [
      "1995\n",
      "1996\n",
      "1997\n",
      "1998\n",
      "1999\n",
      "2000\n",
      "2001\n",
      "2002\n",
      "2003\n",
      "2004\n",
      "2005\n",
      "2006\n",
      "2007\n",
      "2008\n",
      "2009\n",
      "2010\n",
      "2011\n",
      "2012\n",
      "2013\n",
      "2014\n",
      "2015\n"
     ]
    }
   ],
   "source": [
    "for year in range(1989,2016):\n",
    "    df_frames=[]\n",
    "    matrix=[]\n",
    "    print year\n",
    "    for team in teams:\n",
    "        url='http://www.hockey-reference.com/teams/'+team+'/'+str(year)+'_games.html'\n",
    "        page=requests.get(url).text\n",
    "        pagesoap=BeautifulSoup(page, \"lxml\")\n",
    "        strsoap=str(pagesoap)\n",
    "        posseStr=(find_str(strsoap, \"Defensive Zone Faceoffs / (Offensive Zone Faceoffs + Defensive Zone Faceoffs),<br />that took place while on the ice\"))\n",
    "\n",
    "        posStr=(find_str(strsoap, \"Awards</th>\\n</tr>\\n</thead>\\n<tbody>\"))\n",
    "        posEnd=(find_str(strsoap, \"</tr>\\n</tfoot>\\n</table>\\n</div>\\n</div>\\n</div><!-- div.table_wrapper -->\\n<!-- sr_mobile_1 -->\"))\n",
    "        posseEnd=(find_str(strsoap, \" <h2>NHL Miscellaneous</h2>\"))\n",
    "\n",
    "        strlimitPos=strsoap[(posseStr+116):posseEnd]\n",
    "\n",
    "        dates_game=[]\n",
    "        for m in re.finditer('data-stat=\"date_game\"', strlimitPos):\n",
    "            if strlimitPos[(m.end()+40):(m.end()+44)].isdigit() and strlimitPos[(m.end()+45):(m.end()+47)].isdigit() and \\\n",
    "                strlimitPos[(m.end()+48):(m.end()+50)].isdigit():\n",
    "                dates_game.append(strlimitPos[(m.end()+40):(m.end()+50)])\n",
    "\n",
    "\n",
    "\n",
    "\n",
    "        num_games=[]\n",
    "        for m in re.finditer('data-stat=\"games\"', strlimitPos):\n",
    "            if strlimitPos[(m.end()+13):(m.end()+15)].isdigit():\n",
    "                num_games.append(strlimitPos[(m.end()+13):(m.end()+15)])\n",
    "            elif strlimitPos[(m.end()+13):(m.end()+14)].isdigit():\n",
    "                num_games.append(strlimitPos[(m.end()+13):(m.end()+14)])\n",
    "\n",
    "\n",
    "\n",
    "        tm_agt=[]\n",
    "        tm_for=[]\n",
    "        for m in re.finditer('data-stat=\"opp_name\"', strlimitPos):\n",
    "            if strlimitPos[(m.end()+17):(m.end()+20)].isupper():\n",
    "                tm_agt.append(strlimitPos[(m.end()+17):(m.end()+20)])\n",
    "                tm_for.append(team)\n",
    "\n",
    "\n",
    "        tm_loc_game=[]\n",
    "        for m in re.finditer('data-stat=\"game_location\"', strlimitPos):\n",
    "            if strlimitPos[(m.end()+3):(m.end()+5)]=='td' or strlimitPos[(m.end()+4):(m.end()+6)]=='td':\n",
    "                if strlimitPos[(m.end()+1)]=='@':\n",
    "                    tm_loc_game.append('A')\n",
    "                elif strlimitPos[(m.end()+1)]=='<':\n",
    "                    tm_loc_game.append('H')\n",
    "\n",
    "\n",
    "        tm_goals_pp_for=[]\n",
    "        for m in re.finditer('data-stat=\"goals_pp\"', strlimitPos):\n",
    "            if strlimitPos[(m.end()+1):(m.end()+3)].isdigit():\n",
    "                tm_goals_pp_for.append(strlimitPos[(m.end()+1):(m.end()+3)])\n",
    "            elif strlimitPos[(m.end()+1):(m.end()+2)].isdigit():\n",
    "                tm_goals_pp_for.append(strlimitPos[(m.end()+1):(m.end()+2)])\n",
    "\n",
    "        tm_goals_sh_for=[]\n",
    "        for m in re.finditer('data-stat=\"goals_sh\"', strlimitPos):\n",
    "            if strlimitPos[(m.end()+1):(m.end()+3)].isdigit():\n",
    "                tm_goals_sh_for.append(strlimitPos[(m.end()+1):(m.end()+3)])\n",
    "            elif strlimitPos[(m.end()+1):(m.end()+2)].isdigit():\n",
    "                tm_goals_sh_for.append(strlimitPos[(m.end()+1):(m.end()+2)])\n",
    "\n",
    "\n",
    "        tm_goals_agt_sh=[]\n",
    "        for m in re.finditer('data-stat=\"goals_against_sh\"', strlimitPos):\n",
    "            if strlimitPos[(m.end()+1):(m.end()+3)].isdigit():\n",
    "                tm_goals_agt_sh.append(strlimitPos[(m.end()+1):(m.end()+3)])\n",
    "            elif strlimitPos[(m.end()+1):(m.end()+2)].isdigit():\n",
    "                tm_goals_agt_sh.append(strlimitPos[(m.end()+1):(m.end()+2)])\n",
    "\n",
    "        tm_goals_agt_pp=[]\n",
    "        for m in re.finditer('data-stat=\"goals_against_pp\"', strlimitPos):\n",
    "            if strlimitPos[(m.end()+1):(m.end()+3)].isdigit():\n",
    "                tm_goals_agt_pp.append(strlimitPos[(m.end()+1):(m.end()+3)])\n",
    "            elif strlimitPos[(m.end()+1):(m.end()+2)].isdigit():\n",
    "                tm_goals_agt_pp.append(strlimitPos[(m.end()+1):(m.end()+2)])\n",
    "\n",
    "        opp_pen_min=[]\n",
    "        for m in re.finditer('data-stat=\"pen_min_opp\"', strlimitPos):\n",
    "            if strlimitPos[(m.end()+1):(m.end()+3)].isdigit():\n",
    "                opp_pen_min.append(strlimitPos[(m.end()+1):(m.end()+3)])\n",
    "            elif strlimitPos[(m.end()+1):(m.end()+2)].isdigit():\n",
    "                opp_pen_min.append(strlimitPos[(m.end()+1):(m.end()+2)])\n",
    "\n",
    "        tm_shots_agt=[]\n",
    "        for m in re.finditer('data-stat=\"shots_against\"', strlimitPos):\n",
    "            if strlimitPos[(m.end()+1):(m.end()+3)].isdigit():\n",
    "                tm_shots_agt.append(strlimitPos[(m.end()+1):(m.end()+3)])\n",
    "            elif strlimitPos[(m.end()+1):(m.end()+2)].isdigit():\n",
    "                tm_shots_agt.append(strlimitPos[(m.end()+1):(m.end()+2)])\n",
    "\n",
    "        tm_pen_min=[]\n",
    "        for m in re.finditer('data-stat=\"pen_min\"', strlimitPos):\n",
    "            if strlimitPos[(m.end()+1):(m.end()+3)].isdigit():\n",
    "                tm_pen_min.append(strlimitPos[(m.end()+1):(m.end()+3)])\n",
    "            elif strlimitPos[(m.end()+1):(m.end()+2)].isdigit():\n",
    "                tm_pen_min.append(strlimitPos[(m.end()+1):(m.end()+2)])\n",
    "\n",
    "        tm_shots_for=[]\n",
    "        for m in re.finditer('data-stat=\"shots\"', strlimitPos):\n",
    "            if strlimitPos[(m.end()+1):(m.end()+3)].isdigit():\n",
    "                tm_shots_for.append(strlimitPos[(m.end()+1):(m.end()+3)])\n",
    "            elif strlimitPos[(m.end()+1):(m.end()+2)].isdigit():\n",
    "                tm_shots_for.append(strlimitPos[(m.end()+1):(m.end()+2)])\n",
    "\n",
    "        cum_loss_for=[]\n",
    "        for m in re.finditer('data-stat=\"losses\"', strlimitPos):\n",
    "            if strlimitPos[(m.end()+1):(m.end()+3)].isdigit():\n",
    "                cum_loss_for.append(strlimitPos[(m.end()+1):(m.end()+3)])\n",
    "            elif strlimitPos[(m.end()+1):(m.end()+2)].isdigit():\n",
    "                cum_loss_for.append(strlimitPos[(m.end()+1):(m.end()+2)])\n",
    "\n",
    "        cum_wins_for=[]\n",
    "        for m in re.finditer('data-stat=\"wins\"', strlimitPos):\n",
    "            if strlimitPos[(m.end()+1):(m.end()+3)].isdigit():\n",
    "                cum_wins_for.append(strlimitPos[(m.end()+1):(m.end()+3)])\n",
    "            elif strlimitPos[(m.end()+1):(m.end()+2)].isdigit():\n",
    "                cum_wins_for.append(strlimitPos[(m.end()+1):(m.end()+2)])\n",
    "\n",
    "        gm_outcome=[]\n",
    "        for m in re.finditer('data-stat=\"game_outcome\"', strlimitPos):\n",
    "            if strlimitPos[(m.end()+1):(m.end()+2)] == 'W' or strlimitPos[(m.end()+1):(m.end()+2)] == 'L' or strlimitPos[(m.end()+1):(m.end()+2)] == 'T':\n",
    "                gm_outcome.append(strlimitPos[(m.end()+1):(m.end()+2)])\n",
    "\n",
    "\n",
    "        tm_goals_agt=[]\n",
    "        for m in re.finditer('data-stat=\"opp_goals\"', strlimitPos):\n",
    "            if strlimitPos[(m.end()+1):(m.end()+3)].isdigit():\n",
    "                tm_goals_agt.append(strlimitPos[(m.end()+1):(m.end()+3)])\n",
    "            elif strlimitPos[(m.end()+1):(m.end()+2)].isdigit():\n",
    "                tm_goals_agt.append(strlimitPos[(m.end()+1):(m.end()+2)])\n",
    "\n",
    "\n",
    "        tm_goals_for=[]\n",
    "        for m in re.finditer('data-stat=\"goals\"', strlimitPos):\n",
    "            if strlimitPos[(m.end()+1):(m.end()+3)].isdigit():\n",
    "                tm_goals_for.append(strlimitPos[(m.end()+1):(m.end()+3)])\n",
    "            elif strlimitPos[(m.end()+1):(m.end()+2)].isdigit():\n",
    "                tm_goals_for.append(strlimitPos[(m.end()+1):(m.end()+2)])\n",
    "\n",
    "\n",
    "        tm_loss=[]\n",
    "        for m in re.finditer('data-stat=\"game_streak\"', strlimitPos):\n",
    "            if strlimitPos[(m.end()+3):(m.end()+5)].isdigit():\n",
    "                tm_loss.append(strlimitPos[(m.end()+1):(m.end()+5)])\n",
    "            elif strlimitPos[(m.end()+3):(m.end()+4)].isdigit():\n",
    "                tm_loss.append(strlimitPos[(m.end()+1):(m.end()+4)])\n",
    "\n",
    "        matrix=[tm_for,num_games,dates_game,tm_agt,tm_loc_game,tm_goals_for,tm_goals_agt,gm_outcome,cum_wins_for,cum_loss_for,\n",
    "                 tm_loss,tm_shots_for,tm_pen_min,tm_goals_pp_for,tm_goals_sh_for,tm_shots_agt,opp_pen_min,tm_goals_agt_pp,\n",
    "               tm_goals_agt_sh]\n",
    "        \n",
    "        matrix_T=zip(*matrix)\n",
    "        colnames = ['tm_for','num_games','dates_game','tm_agt','gm_loc','tm_goals_for','tm_goals_agt','gm_result','cum_wins_for','cum_loss_for','tm_loss','tm_shots_for','tm_pen_min','tm_goals_pp_for','tm_goals_sh_for','tm_shots_agt','opp_pen_min','tm_goals_agt_pp','tm_goals_agt_sh']\n",
    "        \n",
    "        new_df=pd.DataFrame(matrix_T,columns=colnames)\n",
    "        df_frames.append(new_df)\n",
    "    df_all=pd.concat(df_frames)\n",
    "    df_all.to_csv('team_data_games_data_'+str(year)+'.csv')"
   ]
  },
  {
   "cell_type": "code",
   "execution_count": null,
   "metadata": {
    "collapsed": true
   },
   "outputs": [],
   "source": []
  },
  {
   "cell_type": "code",
   "execution_count": null,
   "metadata": {
    "collapsed": true
   },
   "outputs": [],
   "source": []
  },
  {
   "cell_type": "code",
   "execution_count": null,
   "metadata": {
    "collapsed": true
   },
   "outputs": [],
   "source": []
  }
 ],
 "metadata": {
  "anaconda-cloud": {},
  "kernelspec": {
   "display_name": "Python [Root]",
   "language": "python",
   "name": "Python [Root]"
  },
  "language_info": {
   "codemirror_mode": {
    "name": "ipython",
    "version": 2
   },
   "file_extension": ".py",
   "mimetype": "text/x-python",
   "name": "python",
   "nbconvert_exporter": "python",
   "pygments_lexer": "ipython2",
   "version": "2.7.12"
  }
 },
 "nbformat": 4,
 "nbformat_minor": 0
}
