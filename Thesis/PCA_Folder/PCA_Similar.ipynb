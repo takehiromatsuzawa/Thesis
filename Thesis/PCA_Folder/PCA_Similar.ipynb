{
 "cells": [
  {
   "cell_type": "code",
   "execution_count": 1,
   "metadata": {
    "collapsed": true
   },
   "outputs": [],
   "source": [
    "import pandas as pd\n",
    "import numpy as np\n",
    "import os\n",
    "from sklearn import neighbors\n",
    "from sklearn import cluster, datasets\n",
    "import math"
   ]
  },
  {
   "cell_type": "code",
   "execution_count": 3,
   "metadata": {
    "collapsed": false
   },
   "outputs": [
    {
     "ename": "IOError",
     "evalue": "File PCA_Data/new_df_age_19.csv does not exist",
     "output_type": "error",
     "traceback": [
      "\u001b[0;31m---------------------------------------------------------------------------\u001b[0m",
      "\u001b[0;31mIOError\u001b[0m                                   Traceback (most recent call last)",
      "\u001b[0;32m<ipython-input-3-8650dcf7d674>\u001b[0m in \u001b[0;36m<module>\u001b[0;34m()\u001b[0m\n\u001b[0;32m----> 1\u001b[0;31m \u001b[0mdf_age_19\u001b[0m\u001b[0;34m=\u001b[0m\u001b[0mpd\u001b[0m\u001b[0;34m.\u001b[0m\u001b[0mread_csv\u001b[0m\u001b[0;34m(\u001b[0m\u001b[0;34m'PCA_Data/new_df_age_19.csv'\u001b[0m\u001b[0;34m,\u001b[0m\u001b[0mindex_col\u001b[0m\u001b[0;34m=\u001b[0m\u001b[0;36m0\u001b[0m\u001b[0;34m)\u001b[0m\u001b[0;34m\u001b[0m\u001b[0m\n\u001b[0m\u001b[1;32m      2\u001b[0m \u001b[0mdf_age_20\u001b[0m\u001b[0;34m=\u001b[0m\u001b[0mpd\u001b[0m\u001b[0;34m.\u001b[0m\u001b[0mread_csv\u001b[0m\u001b[0;34m(\u001b[0m\u001b[0;34m'PCA_Data/new_df_age_20.csv'\u001b[0m\u001b[0;34m,\u001b[0m\u001b[0mindex_col\u001b[0m\u001b[0;34m=\u001b[0m\u001b[0;36m0\u001b[0m\u001b[0;34m)\u001b[0m\u001b[0;34m\u001b[0m\u001b[0m\n\u001b[1;32m      3\u001b[0m \u001b[0mdf_age_21\u001b[0m\u001b[0;34m=\u001b[0m\u001b[0mpd\u001b[0m\u001b[0;34m.\u001b[0m\u001b[0mread_csv\u001b[0m\u001b[0;34m(\u001b[0m\u001b[0;34m'PCA_Data/new_df_age_21.csv'\u001b[0m\u001b[0;34m,\u001b[0m\u001b[0mindex_col\u001b[0m\u001b[0;34m=\u001b[0m\u001b[0;36m0\u001b[0m\u001b[0;34m)\u001b[0m\u001b[0;34m\u001b[0m\u001b[0m\n\u001b[1;32m      4\u001b[0m \u001b[0;34m\u001b[0m\u001b[0m\n\u001b[1;32m      5\u001b[0m \u001b[0mdf_age_22\u001b[0m\u001b[0;34m=\u001b[0m\u001b[0mpd\u001b[0m\u001b[0;34m.\u001b[0m\u001b[0mread_csv\u001b[0m\u001b[0;34m(\u001b[0m\u001b[0;34m'PCA_Data/new_df_age_22.csv'\u001b[0m\u001b[0;34m,\u001b[0m\u001b[0mindex_col\u001b[0m\u001b[0;34m=\u001b[0m\u001b[0;36m0\u001b[0m\u001b[0;34m)\u001b[0m\u001b[0;34m\u001b[0m\u001b[0m\n",
      "\u001b[0;32m/Users/takehiromatsuzawa/anaconda/lib/python2.7/site-packages/pandas/io/parsers.pyc\u001b[0m in \u001b[0;36mparser_f\u001b[0;34m(filepath_or_buffer, sep, delimiter, header, names, index_col, usecols, squeeze, prefix, mangle_dupe_cols, dtype, engine, converters, true_values, false_values, skipinitialspace, skiprows, skipfooter, nrows, na_values, keep_default_na, na_filter, verbose, skip_blank_lines, parse_dates, infer_datetime_format, keep_date_col, date_parser, dayfirst, iterator, chunksize, compression, thousands, decimal, lineterminator, quotechar, quoting, escapechar, comment, encoding, dialect, tupleize_cols, error_bad_lines, warn_bad_lines, skip_footer, doublequote, delim_whitespace, as_recarray, compact_ints, use_unsigned, low_memory, buffer_lines, memory_map, float_precision)\u001b[0m\n\u001b[1;32m    560\u001b[0m                     skip_blank_lines=skip_blank_lines)\n\u001b[1;32m    561\u001b[0m \u001b[0;34m\u001b[0m\u001b[0m\n\u001b[0;32m--> 562\u001b[0;31m         \u001b[0;32mreturn\u001b[0m \u001b[0m_read\u001b[0m\u001b[0;34m(\u001b[0m\u001b[0mfilepath_or_buffer\u001b[0m\u001b[0;34m,\u001b[0m \u001b[0mkwds\u001b[0m\u001b[0;34m)\u001b[0m\u001b[0;34m\u001b[0m\u001b[0m\n\u001b[0m\u001b[1;32m    563\u001b[0m \u001b[0;34m\u001b[0m\u001b[0m\n\u001b[1;32m    564\u001b[0m     \u001b[0mparser_f\u001b[0m\u001b[0;34m.\u001b[0m\u001b[0m__name__\u001b[0m \u001b[0;34m=\u001b[0m \u001b[0mname\u001b[0m\u001b[0;34m\u001b[0m\u001b[0m\n",
      "\u001b[0;32m/Users/takehiromatsuzawa/anaconda/lib/python2.7/site-packages/pandas/io/parsers.pyc\u001b[0m in \u001b[0;36m_read\u001b[0;34m(filepath_or_buffer, kwds)\u001b[0m\n\u001b[1;32m    313\u001b[0m \u001b[0;34m\u001b[0m\u001b[0m\n\u001b[1;32m    314\u001b[0m     \u001b[0;31m# Create the parser.\u001b[0m\u001b[0;34m\u001b[0m\u001b[0;34m\u001b[0m\u001b[0m\n\u001b[0;32m--> 315\u001b[0;31m     \u001b[0mparser\u001b[0m \u001b[0;34m=\u001b[0m \u001b[0mTextFileReader\u001b[0m\u001b[0;34m(\u001b[0m\u001b[0mfilepath_or_buffer\u001b[0m\u001b[0;34m,\u001b[0m \u001b[0;34m**\u001b[0m\u001b[0mkwds\u001b[0m\u001b[0;34m)\u001b[0m\u001b[0;34m\u001b[0m\u001b[0m\n\u001b[0m\u001b[1;32m    316\u001b[0m \u001b[0;34m\u001b[0m\u001b[0m\n\u001b[1;32m    317\u001b[0m     \u001b[0;32mif\u001b[0m \u001b[0;34m(\u001b[0m\u001b[0mnrows\u001b[0m \u001b[0;32mis\u001b[0m \u001b[0;32mnot\u001b[0m \u001b[0mNone\u001b[0m\u001b[0;34m)\u001b[0m \u001b[0;32mand\u001b[0m \u001b[0;34m(\u001b[0m\u001b[0mchunksize\u001b[0m \u001b[0;32mis\u001b[0m \u001b[0;32mnot\u001b[0m \u001b[0mNone\u001b[0m\u001b[0;34m)\u001b[0m\u001b[0;34m:\u001b[0m\u001b[0;34m\u001b[0m\u001b[0m\n",
      "\u001b[0;32m/Users/takehiromatsuzawa/anaconda/lib/python2.7/site-packages/pandas/io/parsers.pyc\u001b[0m in \u001b[0;36m__init__\u001b[0;34m(self, f, engine, **kwds)\u001b[0m\n\u001b[1;32m    643\u001b[0m             \u001b[0mself\u001b[0m\u001b[0;34m.\u001b[0m\u001b[0moptions\u001b[0m\u001b[0;34m[\u001b[0m\u001b[0;34m'has_index_names'\u001b[0m\u001b[0;34m]\u001b[0m \u001b[0;34m=\u001b[0m \u001b[0mkwds\u001b[0m\u001b[0;34m[\u001b[0m\u001b[0;34m'has_index_names'\u001b[0m\u001b[0;34m]\u001b[0m\u001b[0;34m\u001b[0m\u001b[0m\n\u001b[1;32m    644\u001b[0m \u001b[0;34m\u001b[0m\u001b[0m\n\u001b[0;32m--> 645\u001b[0;31m         \u001b[0mself\u001b[0m\u001b[0;34m.\u001b[0m\u001b[0m_make_engine\u001b[0m\u001b[0;34m(\u001b[0m\u001b[0mself\u001b[0m\u001b[0;34m.\u001b[0m\u001b[0mengine\u001b[0m\u001b[0;34m)\u001b[0m\u001b[0;34m\u001b[0m\u001b[0m\n\u001b[0m\u001b[1;32m    646\u001b[0m \u001b[0;34m\u001b[0m\u001b[0m\n\u001b[1;32m    647\u001b[0m     \u001b[0;32mdef\u001b[0m \u001b[0mclose\u001b[0m\u001b[0;34m(\u001b[0m\u001b[0mself\u001b[0m\u001b[0;34m)\u001b[0m\u001b[0;34m:\u001b[0m\u001b[0;34m\u001b[0m\u001b[0m\n",
      "\u001b[0;32m/Users/takehiromatsuzawa/anaconda/lib/python2.7/site-packages/pandas/io/parsers.pyc\u001b[0m in \u001b[0;36m_make_engine\u001b[0;34m(self, engine)\u001b[0m\n\u001b[1;32m    797\u001b[0m     \u001b[0;32mdef\u001b[0m \u001b[0m_make_engine\u001b[0m\u001b[0;34m(\u001b[0m\u001b[0mself\u001b[0m\u001b[0;34m,\u001b[0m \u001b[0mengine\u001b[0m\u001b[0;34m=\u001b[0m\u001b[0;34m'c'\u001b[0m\u001b[0;34m)\u001b[0m\u001b[0;34m:\u001b[0m\u001b[0;34m\u001b[0m\u001b[0m\n\u001b[1;32m    798\u001b[0m         \u001b[0;32mif\u001b[0m \u001b[0mengine\u001b[0m \u001b[0;34m==\u001b[0m \u001b[0;34m'c'\u001b[0m\u001b[0;34m:\u001b[0m\u001b[0;34m\u001b[0m\u001b[0m\n\u001b[0;32m--> 799\u001b[0;31m             \u001b[0mself\u001b[0m\u001b[0;34m.\u001b[0m\u001b[0m_engine\u001b[0m \u001b[0;34m=\u001b[0m \u001b[0mCParserWrapper\u001b[0m\u001b[0;34m(\u001b[0m\u001b[0mself\u001b[0m\u001b[0;34m.\u001b[0m\u001b[0mf\u001b[0m\u001b[0;34m,\u001b[0m \u001b[0;34m**\u001b[0m\u001b[0mself\u001b[0m\u001b[0;34m.\u001b[0m\u001b[0moptions\u001b[0m\u001b[0;34m)\u001b[0m\u001b[0;34m\u001b[0m\u001b[0m\n\u001b[0m\u001b[1;32m    800\u001b[0m         \u001b[0;32melse\u001b[0m\u001b[0;34m:\u001b[0m\u001b[0;34m\u001b[0m\u001b[0m\n\u001b[1;32m    801\u001b[0m             \u001b[0;32mif\u001b[0m \u001b[0mengine\u001b[0m \u001b[0;34m==\u001b[0m \u001b[0;34m'python'\u001b[0m\u001b[0;34m:\u001b[0m\u001b[0;34m\u001b[0m\u001b[0m\n",
      "\u001b[0;32m/Users/takehiromatsuzawa/anaconda/lib/python2.7/site-packages/pandas/io/parsers.pyc\u001b[0m in \u001b[0;36m__init__\u001b[0;34m(self, src, **kwds)\u001b[0m\n\u001b[1;32m   1211\u001b[0m         \u001b[0mkwds\u001b[0m\u001b[0;34m[\u001b[0m\u001b[0;34m'allow_leading_cols'\u001b[0m\u001b[0;34m]\u001b[0m \u001b[0;34m=\u001b[0m \u001b[0mself\u001b[0m\u001b[0;34m.\u001b[0m\u001b[0mindex_col\u001b[0m \u001b[0;32mis\u001b[0m \u001b[0;32mnot\u001b[0m \u001b[0mFalse\u001b[0m\u001b[0;34m\u001b[0m\u001b[0m\n\u001b[1;32m   1212\u001b[0m \u001b[0;34m\u001b[0m\u001b[0m\n\u001b[0;32m-> 1213\u001b[0;31m         \u001b[0mself\u001b[0m\u001b[0;34m.\u001b[0m\u001b[0m_reader\u001b[0m \u001b[0;34m=\u001b[0m \u001b[0m_parser\u001b[0m\u001b[0;34m.\u001b[0m\u001b[0mTextReader\u001b[0m\u001b[0;34m(\u001b[0m\u001b[0msrc\u001b[0m\u001b[0;34m,\u001b[0m \u001b[0;34m**\u001b[0m\u001b[0mkwds\u001b[0m\u001b[0;34m)\u001b[0m\u001b[0;34m\u001b[0m\u001b[0m\n\u001b[0m\u001b[1;32m   1214\u001b[0m \u001b[0;34m\u001b[0m\u001b[0m\n\u001b[1;32m   1215\u001b[0m         \u001b[0;31m# XXX\u001b[0m\u001b[0;34m\u001b[0m\u001b[0;34m\u001b[0m\u001b[0m\n",
      "\u001b[0;32mpandas/parser.pyx\u001b[0m in \u001b[0;36mpandas.parser.TextReader.__cinit__ (pandas/parser.c:3427)\u001b[0;34m()\u001b[0m\n",
      "\u001b[0;32mpandas/parser.pyx\u001b[0m in \u001b[0;36mpandas.parser.TextReader._setup_parser_source (pandas/parser.c:6861)\u001b[0;34m()\u001b[0m\n",
      "\u001b[0;31mIOError\u001b[0m: File PCA_Data/new_df_age_19.csv does not exist"
     ]
    }
   ],
   "source": [
    "df_age_19=pd.read_csv('PCA_Data/new_df_age_19.csv',index_col=0)\n",
    "df_age_20=pd.read_csv('PCA_Data/new_df_age_20.csv',index_col=0)\n",
    "df_age_21=pd.read_csv('PCA_Data/new_df_age_21.csv',index_col=0)\n",
    "\n",
    "df_age_22=pd.read_csv('PCA_Data/new_df_age_22.csv',index_col=0)\n",
    "df_age_23=pd.read_csv('PCA_Data/new_df_age_23.csv',index_col=0)\n",
    "df_age_24=pd.read_csv('PCA_Data/new_df_age_24.csv',index_col=0)\n",
    "\n",
    "df_age_25=pd.read_csv('PCA_Data/new_df_age_25.csv',index_col=0)\n",
    "df_age_26=pd.read_csv('PCA_Data/new_df_age_26.csv',index_col=0)\n",
    "df_age_27=pd.read_csv('PCA_Data/new_df_age_27.csv',index_col=0)\n",
    "\n",
    "df_age_28=pd.read_csv('PCA_Data/new_df_age_28.csv',index_col=0)\n",
    "df_age_29=pd.read_csv('PCA_Data/new_df_age_29.csv',index_col=0)\n",
    "df_age_30=pd.read_csv('PCA_Data/new_df_age_30.csv',index_col=0)\n",
    "\n",
    "df_age_31=pd.read_csv('PCA_Data/new_df_age_31.csv',index_col=0)\n",
    "df_age_32=pd.read_csv('PCA_Data/new_df_age_32.csv',index_col=0)\n",
    "df_age_33=pd.read_csv('PCA_Data/new_df_age_33.csv',index_col=0)\n",
    "\n",
    "df_age_34=pd.read_csv('PCA_Data/new_df_age_34.csv',index_col=0)\n",
    "df_age_35=pd.read_csv('PCA_Data/new_df_age_35.csv',index_col=0)\n",
    "df_age_36=pd.read_csv('PCA_Data/new_df_age_36.csv',index_col=0)\n",
    "\n",
    "df_age_37=pd.read_csv('PCA_Data/new_df_age_37.csv',index_col=0)\n",
    "df_age_38=pd.read_csv('PCA_Data/new_df_age_38.csv',index_col=0)\n",
    "df_age_39=pd.read_csv('PCA_Data/new_df_age_39.csv',index_col=0)"
   ]
  },
  {
   "cell_type": "code",
   "execution_count": 3,
   "metadata": {
    "collapsed": false
   },
   "outputs": [],
   "source": [
    "dictPlayer={}"
   ]
  },
  {
   "cell_type": "code",
   "execution_count": 4,
   "metadata": {
    "collapsed": false
   },
   "outputs": [],
   "source": [
    "for i in range(len(df_age_19)):\n",
    "    dictAge={}\n",
    "    if df_age_19.index[i] in dictPlayer:\n",
    "        \n",
    "        data=list(df_age_19.iloc[i])\n",
    "        if 19 not in dictAge:\n",
    "            dictPlayer[df_age_19.index[i]][19]=data\n",
    "        \n",
    "    else:\n",
    "        data=list(df_age_19.iloc[i])\n",
    "        dictAge[19]=data\n",
    "        dictPlayer[df_age_19.index[i]]=dictAge"
   ]
  },
  {
   "cell_type": "code",
   "execution_count": 5,
   "metadata": {
    "collapsed": false
   },
   "outputs": [],
   "source": [
    "for i in range(len(df_age_20)):\n",
    "    dictAge={}\n",
    "    if df_age_20.index[i] in dictPlayer:\n",
    "        \n",
    "        data=list(df_age_20.iloc[i])\n",
    "        if 20 not in dictAge:\n",
    "            dictPlayer[df_age_20.index[i]][20]=data\n",
    "        \n",
    "    else:\n",
    "        data=list(df_age_20.iloc[i])\n",
    "        dictAge[20]=data\n",
    "        dictPlayer[df_age_20.index[i]]=dictAge"
   ]
  },
  {
   "cell_type": "code",
   "execution_count": 6,
   "metadata": {
    "collapsed": false
   },
   "outputs": [],
   "source": [
    "for i in range(len(df_age_21)):\n",
    "    dictAge={}\n",
    "    if df_age_21.index[i] in dictPlayer:\n",
    "        \n",
    "        data=list(df_age_21.iloc[i])\n",
    "        if 21 not in dictAge:\n",
    "            dictPlayer[df_age_21.index[i]][21]=data\n",
    "        \n",
    "    else:\n",
    "        data=list(df_age_21.iloc[i])\n",
    "        dictAge[21]=data\n",
    "        dictPlayer[df_age_21.index[i]]=dictAge"
   ]
  },
  {
   "cell_type": "code",
   "execution_count": 7,
   "metadata": {
    "collapsed": true
   },
   "outputs": [],
   "source": [
    "for i in range(len(df_age_22)):\n",
    "    dictAge={}\n",
    "    if df_age_22.index[i] in dictPlayer:\n",
    "        \n",
    "        data=list(df_age_22.iloc[i])\n",
    "        if 22 not in dictAge:\n",
    "            dictPlayer[df_age_22.index[i]][22]=data\n",
    "        \n",
    "    else:\n",
    "        data=list(df_age_22.iloc[i])\n",
    "        dictAge[22]=data\n",
    "        dictPlayer[df_age_22.index[i]]=dictAge"
   ]
  },
  {
   "cell_type": "code",
   "execution_count": 8,
   "metadata": {
    "collapsed": true
   },
   "outputs": [],
   "source": [
    "for i in range(len(df_age_23)):\n",
    "    dictAge={}\n",
    "    if df_age_23.index[i] in dictPlayer:\n",
    "        \n",
    "        data=list(df_age_23.iloc[i])\n",
    "        if 23 not in dictAge:\n",
    "            dictPlayer[df_age_23.index[i]][23]=data\n",
    "        \n",
    "    else:\n",
    "        data=list(df_age_23.iloc[i])\n",
    "        dictAge[23]=data\n",
    "        dictPlayer[df_age_23.index[i]]=dictAge"
   ]
  },
  {
   "cell_type": "code",
   "execution_count": 9,
   "metadata": {
    "collapsed": true
   },
   "outputs": [],
   "source": [
    "for i in range(len(df_age_24)):\n",
    "    dictAge={}\n",
    "    if df_age_24.index[i] in dictPlayer:\n",
    "        \n",
    "        data=list(df_age_24.iloc[i])\n",
    "        if 24 not in dictAge:\n",
    "            dictPlayer[df_age_24.index[i]][24]=data\n",
    "        \n",
    "    else:\n",
    "        data=list(df_age_24.iloc[i])\n",
    "        dictAge[24]=data\n",
    "        dictPlayer[df_age_24.index[i]]=dictAge"
   ]
  },
  {
   "cell_type": "code",
   "execution_count": 10,
   "metadata": {
    "collapsed": true
   },
   "outputs": [],
   "source": [
    "for i in range(len(df_age_25)):\n",
    "    dictAge={}\n",
    "    if df_age_25.index[i] in dictPlayer:\n",
    "        \n",
    "        data=list(df_age_25.iloc[i])\n",
    "        if 25 not in dictAge:\n",
    "            dictPlayer[df_age_25.index[i]][25]=data\n",
    "        \n",
    "    else:\n",
    "        data=list(df_age_25.iloc[i])\n",
    "        dictAge[25]=data\n",
    "        dictPlayer[df_age_25.index[i]]=dictAge"
   ]
  },
  {
   "cell_type": "code",
   "execution_count": 11,
   "metadata": {
    "collapsed": true
   },
   "outputs": [],
   "source": [
    "for i in range(len(df_age_26)):\n",
    "    dictAge={}\n",
    "    if df_age_26.index[i] in dictPlayer:\n",
    "        \n",
    "        data=list(df_age_26.iloc[i])\n",
    "        if 26 not in dictAge:\n",
    "            dictPlayer[df_age_26.index[i]][26]=data\n",
    "        \n",
    "    else:\n",
    "        data=list(df_age_26.iloc[i])\n",
    "        dictAge[26]=data\n",
    "        dictPlayer[df_age_26.index[i]]=dictAge"
   ]
  },
  {
   "cell_type": "code",
   "execution_count": 12,
   "metadata": {
    "collapsed": true
   },
   "outputs": [],
   "source": [
    "for i in range(len(df_age_27)):\n",
    "    dictAge={}\n",
    "    if df_age_27.index[i] in dictPlayer:\n",
    "        \n",
    "        data=list(df_age_27.iloc[i])\n",
    "        if 27 not in dictAge:\n",
    "            dictPlayer[df_age_27.index[i]][27]=data\n",
    "        \n",
    "    else:\n",
    "        data=list(df_age_27.iloc[i])\n",
    "        dictAge[27]=data\n",
    "        dictPlayer[df_age_27.index[i]]=dictAge"
   ]
  },
  {
   "cell_type": "code",
   "execution_count": 13,
   "metadata": {
    "collapsed": true
   },
   "outputs": [],
   "source": [
    "for i in range(len(df_age_28)):\n",
    "    dictAge={}\n",
    "    if df_age_28.index[i] in dictPlayer:\n",
    "        \n",
    "        data=list(df_age_28.iloc[i])\n",
    "        if 28 not in dictAge:\n",
    "            dictPlayer[df_age_28.index[i]][28]=data\n",
    "        \n",
    "    else:\n",
    "        data=list(df_age_28.iloc[i])\n",
    "        dictAge[28]=data\n",
    "        dictPlayer[df_age_28.index[i]]=dictAge"
   ]
  },
  {
   "cell_type": "code",
   "execution_count": 14,
   "metadata": {
    "collapsed": true
   },
   "outputs": [],
   "source": [
    "for i in range(len(df_age_29)):\n",
    "    dictAge={}\n",
    "    if df_age_29.index[i] in dictPlayer:\n",
    "        \n",
    "        data=list(df_age_29.iloc[i])\n",
    "        if 29 not in dictAge:\n",
    "            dictPlayer[df_age_29.index[i]][29]=data\n",
    "        \n",
    "    else:\n",
    "        data=list(df_age_29.iloc[i])\n",
    "        dictAge[29]=data\n",
    "        dictPlayer[df_age_29.index[i]]=dictAge"
   ]
  },
  {
   "cell_type": "code",
   "execution_count": 15,
   "metadata": {
    "collapsed": true
   },
   "outputs": [],
   "source": [
    "for i in range(len(df_age_30)):\n",
    "    dictAge={}\n",
    "    if df_age_30.index[i] in dictPlayer:\n",
    "        \n",
    "        data=list(df_age_30.iloc[i])\n",
    "        if 30 not in dictAge:\n",
    "            dictPlayer[df_age_30.index[i]][30]=data\n",
    "        \n",
    "    else:\n",
    "        data=list(df_age_30.iloc[i])\n",
    "        dictAge[30]=data\n",
    "        dictPlayer[df_age_30.index[i]]=dictAge"
   ]
  },
  {
   "cell_type": "code",
   "execution_count": 16,
   "metadata": {
    "collapsed": true
   },
   "outputs": [],
   "source": [
    "for i in range(len(df_age_31)):\n",
    "    dictAge={}\n",
    "    if df_age_31.index[i] in dictPlayer:\n",
    "        \n",
    "        data=list(df_age_31.iloc[i])\n",
    "        if 31 not in dictAge:\n",
    "            dictPlayer[df_age_31.index[i]][31]=data\n",
    "        \n",
    "    else:\n",
    "        data=list(df_age_31.iloc[i])\n",
    "        dictAge[31]=data\n",
    "        dictPlayer[df_age_31.index[i]]=dictAge"
   ]
  },
  {
   "cell_type": "code",
   "execution_count": 17,
   "metadata": {
    "collapsed": true
   },
   "outputs": [],
   "source": [
    "for i in range(len(df_age_32)):\n",
    "    dictAge={}\n",
    "    if df_age_32.index[i] in dictPlayer:\n",
    "        \n",
    "        data=list(df_age_32.iloc[i])\n",
    "        if 32 not in dictAge:\n",
    "            dictPlayer[df_age_32.index[i]][32]=data\n",
    "        \n",
    "    else:\n",
    "        data=list(df_age_32.iloc[i])\n",
    "        dictAge[32]=data\n",
    "        dictPlayer[df_age_32.index[i]]=dictAge"
   ]
  },
  {
   "cell_type": "code",
   "execution_count": 18,
   "metadata": {
    "collapsed": true
   },
   "outputs": [],
   "source": [
    "for i in range(len(df_age_33)):\n",
    "    dictAge={}\n",
    "    if df_age_33.index[i] in dictPlayer:\n",
    "        \n",
    "        data=list(df_age_33.iloc[i])\n",
    "        if 33 not in dictAge:\n",
    "            dictPlayer[df_age_33.index[i]][33]=data\n",
    "        \n",
    "    else:\n",
    "        data=list(df_age_33.iloc[i])\n",
    "        dictAge[33]=data\n",
    "        dictPlayer[df_age_33.index[i]]=dictAge"
   ]
  },
  {
   "cell_type": "code",
   "execution_count": 19,
   "metadata": {
    "collapsed": true
   },
   "outputs": [],
   "source": [
    "for i in range(len(df_age_34)):\n",
    "    dictAge={}\n",
    "    if df_age_34.index[i] in dictPlayer:\n",
    "        \n",
    "        data=list(df_age_34.iloc[i])\n",
    "        if 34 not in dictAge:\n",
    "            dictPlayer[df_age_34.index[i]][34]=data\n",
    "        \n",
    "    else:\n",
    "        data=list(df_age_34.iloc[i])\n",
    "        dictAge[34]=data\n",
    "        dictPlayer[df_age_34.index[i]]=dictAge"
   ]
  },
  {
   "cell_type": "code",
   "execution_count": 20,
   "metadata": {
    "collapsed": true
   },
   "outputs": [],
   "source": [
    "for i in range(len(df_age_35)):\n",
    "    dictAge={}\n",
    "    if df_age_35.index[i] in dictPlayer:\n",
    "        \n",
    "        data=list(df_age_35.iloc[i])\n",
    "        if 35 not in dictAge:\n",
    "            dictPlayer[df_age_35.index[i]][35]=data\n",
    "        \n",
    "    else:\n",
    "        data=list(df_age_35.iloc[i])\n",
    "        dictAge[35]=data\n",
    "        dictPlayer[df_age_35.index[i]]=dictAge"
   ]
  },
  {
   "cell_type": "code",
   "execution_count": 21,
   "metadata": {
    "collapsed": true
   },
   "outputs": [],
   "source": [
    "for i in range(len(df_age_36)):\n",
    "    dictAge={}\n",
    "    if df_age_36.index[i] in dictPlayer:\n",
    "        \n",
    "        data=list(df_age_36.iloc[i])\n",
    "        if 36 not in dictAge:\n",
    "            dictPlayer[df_age_36.index[i]][36]=data\n",
    "        \n",
    "    else:\n",
    "        data=list(df_age_36.iloc[i])\n",
    "        dictAge[36]=data\n",
    "        dictPlayer[df_age_36.index[i]]=dictAge"
   ]
  },
  {
   "cell_type": "code",
   "execution_count": 22,
   "metadata": {
    "collapsed": true
   },
   "outputs": [],
   "source": [
    "for i in range(len(df_age_37)):\n",
    "    dictAge={}\n",
    "    if df_age_37.index[i] in dictPlayer:\n",
    "        \n",
    "        data=list(df_age_37.iloc[i])\n",
    "        if 37 not in dictAge:\n",
    "            dictPlayer[df_age_37.index[i]][37]=data\n",
    "        \n",
    "    else:\n",
    "        data=list(df_age_37.iloc[i])\n",
    "        dictAge[37]=data\n",
    "        dictPlayer[df_age_37.index[i]]=dictAge"
   ]
  },
  {
   "cell_type": "code",
   "execution_count": 23,
   "metadata": {
    "collapsed": true
   },
   "outputs": [],
   "source": [
    "for i in range(len(df_age_38)):\n",
    "    dictAge={}\n",
    "    if df_age_38.index[i] in dictPlayer:\n",
    "        \n",
    "        data=list(df_age_38.iloc[i])\n",
    "        if 38 not in dictAge:\n",
    "            dictPlayer[df_age_38.index[i]][38]=data\n",
    "        \n",
    "    else:\n",
    "        data=list(df_age_38.iloc[i])\n",
    "        dictAge[38]=data\n",
    "        dictPlayer[df_age_38.index[i]]=dictAge"
   ]
  },
  {
   "cell_type": "code",
   "execution_count": 24,
   "metadata": {
    "collapsed": true
   },
   "outputs": [],
   "source": [
    "for i in range(len(df_age_39)):\n",
    "    dictAge={}\n",
    "    if df_age_39.index[i] in dictPlayer:\n",
    "        \n",
    "        data=list(df_age_39.iloc[i])\n",
    "        if 39 not in dictAge:\n",
    "            dictPlayer[df_age_39.index[i]][39]=data\n",
    "        \n",
    "    else:\n",
    "        data=list(df_age_39.iloc[i])\n",
    "        dictAge[39]=data\n",
    "        dictPlayer[df_age_39.index[i]]=dictAge"
   ]
  },
  {
   "cell_type": "code",
   "execution_count": null,
   "metadata": {
    "collapsed": true
   },
   "outputs": [],
   "source": []
  },
  {
   "cell_type": "code",
   "execution_count": null,
   "metadata": {
    "collapsed": true
   },
   "outputs": [],
   "source": []
  },
  {
   "cell_type": "code",
   "execution_count": 32,
   "metadata": {
    "collapsed": true
   },
   "outputs": [],
   "source": [
    "allplayer=dictPlayer.keys()"
   ]
  },
  {
   "cell_type": "code",
   "execution_count": 33,
   "metadata": {
    "collapsed": false
   },
   "outputs": [
    {
     "data": {
      "text/plain": [
       "{20: [628.81457972300007, -66.114370683700002, -91.050651527299991],\n",
       " 21: [1347.49440129, -11.4341487914, 116.34811225600001],\n",
       " 22: [1530.1798221199999, -288.50127594000003, -58.743581712600005],\n",
       " 23: [279.68152672100001, -136.70498833400001, -72.702625416999993],\n",
       " 24: [455.83422608800004, 128.24488335200002, 15.064170793599999],\n",
       " 25: [-16.820867759000002, -152.87682522, -3.2302175343499999],\n",
       " 26: [-1279.3143928300001, 151.71786052100001, 21.880284109400002],\n",
       " 27: [980.43129671600002, 261.40060285700002, -46.3491517422],\n",
       " 28: [-1159.4716809399999, 245.207606349, 25.438236788899999]}"
      ]
     },
     "execution_count": 33,
     "metadata": {},
     "output_type": "execute_result"
    }
   ],
   "source": [
    "dictPlayer['crosbsi01']"
   ]
  },
  {
   "cell_type": "code",
   "execution_count": 34,
   "metadata": {
    "collapsed": false
   },
   "outputs": [
    {
     "data": {
      "text/plain": [
       "{19: [236.23990189599999, -61.253221669399998, 38.363021311099999],\n",
       " 20: [933.89357070100004, -252.59833293599999, 31.137868603600001],\n",
       " 21: [1036.86167157, -321.86764547000001, -87.179875617099995],\n",
       " 22: [1249.6457761199999, -216.48020217599998, 76.806121694599994],\n",
       " 23: [628.75000215400007, -181.57588122400003, 85.913577421200003],\n",
       " 25: [925.09596948800004, -304.14606829400003, -178.78608009299998],\n",
       " 26: [-988.39187736199995, 180.31016317700002, -124.78491488],\n",
       " 27: [943.08640296699991, 35.0230056885, -50.897558987099998]}"
      ]
     },
     "execution_count": 34,
     "metadata": {},
     "output_type": "execute_result"
    }
   ],
   "source": [
    "dictPlayer['toewsjo01']"
   ]
  },
  {
   "cell_type": "code",
   "execution_count": 35,
   "metadata": {
    "collapsed": false
   },
   "outputs": [],
   "source": [
    "playernum=len(allplayer)"
   ]
  },
  {
   "cell_type": "code",
   "execution_count": 36,
   "metadata": {
    "collapsed": true
   },
   "outputs": [],
   "source": [
    "Matrix = [[0 for x in range(playernum)] for y in range(playernum)]"
   ]
  },
  {
   "cell_type": "code",
   "execution_count": 37,
   "metadata": {
    "collapsed": false
   },
   "outputs": [],
   "source": [
    "for ith in range(0,playernum):\n",
    "    for jth in range(0,playernum):\n",
    "        player1=allplayer[ith]\n",
    "        player2=allplayer[jth]\n",
    "        \n",
    "        p1=dictPlayer[player1].keys()\n",
    "        p2=dictPlayer[player2].keys()\n",
    "        \n",
    "        years=list(set(p1) & set(p2))\n",
    "        \n",
    "        \n",
    "        if len(years)!=0:\n",
    "            error=0\n",
    "            for elem in years:\n",
    "\n",
    "                suberror=0\n",
    "                for it in range(0,3):\n",
    "                    suberror=suberror+(dictPlayer[player1][elem][it]-dictPlayer[player2][elem][it])**2\n",
    "                error=error+math.sqrt(suberror)\n",
    "\n",
    "#             print error/(len(years)**(1.5))\n",
    "#             print ith\n",
    "#             print jth\n",
    "            Matrix[ith][jth]=error/(len(years)**(1.5))\n",
    "#             print Matrix\n",
    "        else:\n",
    "            Matrix[ith][jth]=0\n",
    "            "
   ]
  },
  {
   "cell_type": "code",
   "execution_count": 38,
   "metadata": {
    "collapsed": false
   },
   "outputs": [],
   "source": [
    "similarity = pd.DataFrame(Matrix,columns=allplayer[:playernum])"
   ]
  },
  {
   "cell_type": "code",
   "execution_count": 39,
   "metadata": {
    "collapsed": true
   },
   "outputs": [],
   "source": [
    "similarity['name']=allplayer[:playernum]"
   ]
  },
  {
   "cell_type": "code",
   "execution_count": 40,
   "metadata": {
    "collapsed": false
   },
   "outputs": [],
   "source": [
    "similarity=similarity.set_index('name')"
   ]
  },
  {
   "cell_type": "code",
   "execution_count": 41,
   "metadata": {
    "collapsed": false
   },
   "outputs": [],
   "source": [
    "similarity.to_csv('PCA_Folder/similarity.csv')"
   ]
  },
  {
   "cell_type": "code",
   "execution_count": null,
   "metadata": {
    "collapsed": true
   },
   "outputs": [],
   "source": []
  }
 ],
 "metadata": {
  "anaconda-cloud": {},
  "kernelspec": {
   "display_name": "Python [Root]",
   "language": "python",
   "name": "Python [Root]"
  },
  "language_info": {
   "codemirror_mode": {
    "name": "ipython",
    "version": 2
   },
   "file_extension": ".py",
   "mimetype": "text/x-python",
   "name": "python",
   "nbconvert_exporter": "python",
   "pygments_lexer": "ipython2",
   "version": "2.7.12"
  }
 },
 "nbformat": 4,
 "nbformat_minor": 0
}
