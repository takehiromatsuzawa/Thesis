{
 "cells": [
  {
   "cell_type": "code",
   "execution_count": 1,
   "metadata": {
    "collapsed": true
   },
   "outputs": [],
   "source": [
    "import pandas as pd\n",
    "import numpy as np\n",
    "import os\n",
    "from sklearn import neighbors\n",
    "from sklearn import cluster, datasets"
   ]
  },
  {
   "cell_type": "code",
   "execution_count": 2,
   "metadata": {
    "collapsed": false
   },
   "outputs": [
    {
     "name": "stdout",
     "output_type": "stream",
     "text": [
      "\n"
     ]
    }
   ],
   "source": [
    "df_1996=pd.read_csv('../Data/draft_year/df_1996.csv',index_col=0)\n",
    "df_1996['year']=1996\n",
    "df_player_year=df_1996[['name','year']].drop_duplicates()\n",
    "print"
   ]
  },
  {
   "cell_type": "code",
   "execution_count": 3,
   "metadata": {
    "collapsed": false
   },
   "outputs": [
    {
     "name": "stdout",
     "output_type": "stream",
     "text": [
      "\n"
     ]
    }
   ],
   "source": [
    "df_1997=pd.read_csv('../Data/draft_year/df_1997.csv',index_col=0)\n",
    "df_1997['year']=1997\n",
    "df_player_year=df_player_year.append(df_1997[['name','year']].drop_duplicates())\n",
    "print"
   ]
  },
  {
   "cell_type": "code",
   "execution_count": 4,
   "metadata": {
    "collapsed": false
   },
   "outputs": [
    {
     "name": "stdout",
     "output_type": "stream",
     "text": [
      "\n"
     ]
    }
   ],
   "source": [
    "df_1998=pd.read_csv('../Data/draft_year/df_1998.csv',index_col=0)\n",
    "df_1998['year']=1998\n",
    "df_player_year=df_player_year.append(df_1998[['name','year']].drop_duplicates())\n",
    "print"
   ]
  },
  {
   "cell_type": "code",
   "execution_count": 5,
   "metadata": {
    "collapsed": false
   },
   "outputs": [
    {
     "name": "stdout",
     "output_type": "stream",
     "text": [
      "\n"
     ]
    }
   ],
   "source": [
    "df_1999=pd.read_csv('../Data/draft_year/df_1999.csv',index_col=0)\n",
    "df_1999['year']=1999\n",
    "df_player_year=df_player_year.append(df_1999[['name','year']].drop_duplicates())\n",
    "print"
   ]
  },
  {
   "cell_type": "code",
   "execution_count": 6,
   "metadata": {
    "collapsed": false
   },
   "outputs": [
    {
     "name": "stdout",
     "output_type": "stream",
     "text": [
      "\n"
     ]
    }
   ],
   "source": [
    "df_2000=pd.read_csv('../Data/draft_year/df_2000.csv',index_col=0)\n",
    "df_2000['year']=2000\n",
    "df_player_year=df_player_year.append(df_2000[['name','year']].drop_duplicates())\n",
    "print"
   ]
  },
  {
   "cell_type": "code",
   "execution_count": 7,
   "metadata": {
    "collapsed": false
   },
   "outputs": [
    {
     "name": "stdout",
     "output_type": "stream",
     "text": [
      "\n"
     ]
    }
   ],
   "source": [
    "df_2001=pd.read_csv('../Data/draft_year/df_2001.csv',index_col=0)\n",
    "df_2001['year']=2001\n",
    "df_player_year=df_player_year.append(df_2001[['name','year']].drop_duplicates())\n",
    "print"
   ]
  },
  {
   "cell_type": "code",
   "execution_count": 8,
   "metadata": {
    "collapsed": false
   },
   "outputs": [
    {
     "name": "stdout",
     "output_type": "stream",
     "text": [
      "\n"
     ]
    }
   ],
   "source": [
    "df_2002=pd.read_csv('../Data/draft_year/df_2002.csv',index_col=0)\n",
    "df_2002['year']=2002\n",
    "df_player_year=df_player_year.append(df_2002[['name','year']].drop_duplicates())\n",
    "print"
   ]
  },
  {
   "cell_type": "code",
   "execution_count": 9,
   "metadata": {
    "collapsed": false
   },
   "outputs": [
    {
     "name": "stdout",
     "output_type": "stream",
     "text": [
      "\n"
     ]
    }
   ],
   "source": [
    "df_2003=pd.read_csv('../Data/draft_year/df_2003.csv',index_col=0)\n",
    "df_2003['year']=2003\n",
    "df_player_year=df_player_year.append(df_2003[['name','year']].drop_duplicates())\n",
    "print"
   ]
  },
  {
   "cell_type": "code",
   "execution_count": 10,
   "metadata": {
    "collapsed": false
   },
   "outputs": [
    {
     "name": "stdout",
     "output_type": "stream",
     "text": [
      "\n"
     ]
    }
   ],
   "source": [
    "df_2004=pd.read_csv('../Data/draft_year/df_2004.csv',index_col=0)\n",
    "df_2004['year']=2004\n",
    "df_player_year=df_player_year.append(df_2004[['name','year']].drop_duplicates())\n",
    "print"
   ]
  },
  {
   "cell_type": "code",
   "execution_count": 11,
   "metadata": {
    "collapsed": false
   },
   "outputs": [
    {
     "name": "stdout",
     "output_type": "stream",
     "text": [
      "\n"
     ]
    }
   ],
   "source": [
    "df_2005=pd.read_csv('../Data/draft_year/df_2005.csv',index_col=0)\n",
    "df_2005['year']=2005\n",
    "df_player_year=df_player_year.append(df_2005[['name','year']].drop_duplicates())\n",
    "print"
   ]
  },
  {
   "cell_type": "code",
   "execution_count": 12,
   "metadata": {
    "collapsed": false
   },
   "outputs": [
    {
     "name": "stdout",
     "output_type": "stream",
     "text": [
      "\n"
     ]
    }
   ],
   "source": [
    "df_2006=pd.read_csv('../Data/draft_year/df_2006.csv',index_col=0)\n",
    "df_2006['year']=2006\n",
    "df_player_year=df_player_year.append(df_2006[['name','year']].drop_duplicates())\n",
    "print"
   ]
  },
  {
   "cell_type": "code",
   "execution_count": 13,
   "metadata": {
    "collapsed": false
   },
   "outputs": [
    {
     "name": "stdout",
     "output_type": "stream",
     "text": [
      "\n"
     ]
    }
   ],
   "source": [
    "df_2007=pd.read_csv('../Data/draft_year/df_2007.csv',index_col=0)\n",
    "df_2007['year']=2007\n",
    "df_player_year=df_player_year.append(df_2007[['name','year']].drop_duplicates())\n",
    "print"
   ]
  },
  {
   "cell_type": "code",
   "execution_count": 14,
   "metadata": {
    "collapsed": false
   },
   "outputs": [
    {
     "name": "stdout",
     "output_type": "stream",
     "text": [
      "\n"
     ]
    }
   ],
   "source": [
    "df_2008=pd.read_csv('../Data/draft_year/df_2008.csv',index_col=0)\n",
    "df_2008['year']=2008\n",
    "df_player_year=df_player_year.append(df_2008[['name','year']].drop_duplicates())\n",
    "print"
   ]
  },
  {
   "cell_type": "code",
   "execution_count": 15,
   "metadata": {
    "collapsed": false
   },
   "outputs": [
    {
     "name": "stdout",
     "output_type": "stream",
     "text": [
      "\n"
     ]
    }
   ],
   "source": [
    "df_2009=pd.read_csv('../Data/draft_year/df_2009.csv',index_col=0)\n",
    "df_2009['year']=2009\n",
    "df_player_year=df_player_year.append(df_2009[['name','year']].drop_duplicates())\n",
    "print"
   ]
  },
  {
   "cell_type": "code",
   "execution_count": 16,
   "metadata": {
    "collapsed": false
   },
   "outputs": [
    {
     "name": "stdout",
     "output_type": "stream",
     "text": [
      "\n"
     ]
    }
   ],
   "source": [
    "df_2010=pd.read_csv('../Data/draft_year/df_2010.csv',index_col=0)\n",
    "df_2010['year']=2010\n",
    "df_player_year=df_player_year.append(df_2010[['name','year']].drop_duplicates())\n",
    "print"
   ]
  },
  {
   "cell_type": "code",
   "execution_count": 17,
   "metadata": {
    "collapsed": false
   },
   "outputs": [
    {
     "name": "stdout",
     "output_type": "stream",
     "text": [
      "\n"
     ]
    }
   ],
   "source": [
    "df_2011=pd.read_csv('../Data/draft_year/df_2011.csv',index_col=0)\n",
    "df_2011['year']=2011\n",
    "df_player_year=df_player_year.append(df_2011[['name','year']].drop_duplicates())\n",
    "print"
   ]
  },
  {
   "cell_type": "code",
   "execution_count": 18,
   "metadata": {
    "collapsed": false
   },
   "outputs": [
    {
     "name": "stdout",
     "output_type": "stream",
     "text": [
      "\n"
     ]
    }
   ],
   "source": [
    "df_2013=pd.read_csv('../Data/draft_year/df_2013.csv',index_col=0)\n",
    "df_2013['year']=2013\n",
    "df_player_year=df_player_year.append(df_2013[['name','year']].drop_duplicates())\n",
    "print"
   ]
  },
  {
   "cell_type": "code",
   "execution_count": 19,
   "metadata": {
    "collapsed": false
   },
   "outputs": [
    {
     "name": "stdout",
     "output_type": "stream",
     "text": [
      "\n"
     ]
    }
   ],
   "source": [
    "df_2014=pd.read_csv('../Data/draft_year/df_2014.csv',index_col=0)\n",
    "df_2014['year']=2014\n",
    "df_player_year=df_player_year.append(df_2014[['name','year']].drop_duplicates())\n",
    "print"
   ]
  },
  {
   "cell_type": "code",
   "execution_count": 20,
   "metadata": {
    "collapsed": false
   },
   "outputs": [],
   "source": [
    "df_player_year=df_player_year.reset_index(drop=True)"
   ]
  },
  {
   "cell_type": "code",
   "execution_count": 21,
   "metadata": {
    "collapsed": true
   },
   "outputs": [],
   "source": [
    "df_player_year.to_csv('PCA_Data/player_year.csv')"
   ]
  },
  {
   "cell_type": "code",
   "execution_count": null,
   "metadata": {
    "collapsed": true
   },
   "outputs": [],
   "source": []
  },
  {
   "cell_type": "code",
   "execution_count": null,
   "metadata": {
    "collapsed": true
   },
   "outputs": [],
   "source": []
  },
  {
   "cell_type": "code",
   "execution_count": null,
   "metadata": {
    "collapsed": true
   },
   "outputs": [],
   "source": []
  },
  {
   "cell_type": "code",
   "execution_count": null,
   "metadata": {
    "collapsed": true
   },
   "outputs": [],
   "source": []
  },
  {
   "cell_type": "code",
   "execution_count": null,
   "metadata": {
    "collapsed": true
   },
   "outputs": [],
   "source": []
  }
 ],
 "metadata": {
  "anaconda-cloud": {},
  "kernelspec": {
   "display_name": "Python [Root]",
   "language": "python",
   "name": "Python [Root]"
  },
  "language_info": {
   "codemirror_mode": {
    "name": "ipython",
    "version": 2
   },
   "file_extension": ".py",
   "mimetype": "text/x-python",
   "name": "python",
   "nbconvert_exporter": "python",
   "pygments_lexer": "ipython2",
   "version": "2.7.12"
  }
 },
 "nbformat": 4,
 "nbformat_minor": 0
}
