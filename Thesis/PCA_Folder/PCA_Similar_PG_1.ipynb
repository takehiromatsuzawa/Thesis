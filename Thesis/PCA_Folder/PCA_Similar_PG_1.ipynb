{
 "cells": [
  {
   "cell_type": "code",
   "execution_count": 2,
   "metadata": {
    "collapsed": true
   },
   "outputs": [],
   "source": [
    "import pandas as pd\n",
    "import numpy as np\n",
    "import os\n",
    "from sklearn import neighbors\n",
    "from sklearn import cluster, datasets\n",
    "import math"
   ]
  },
  {
   "cell_type": "code",
   "execution_count": 4,
   "metadata": {
    "collapsed": false
   },
   "outputs": [],
   "source": [
    "df_age_19=pd.read_csv('PCA_Data/new_df_age_19_PG_1.csv',index_col=0)\n",
    "df_age_20=pd.read_csv('PCA_Data/new_df_age_20_PG_1.csv',index_col=0)\n",
    "df_age_21=pd.read_csv('PCA_Data/new_df_age_21_PG_1.csv',index_col=0)\n",
    "\n",
    "df_age_22=pd.read_csv('PCA_Data/new_df_age_22_PG_1.csv',index_col=0)\n",
    "df_age_23=pd.read_csv('PCA_Data/new_df_age_23_PG_1.csv',index_col=0)\n",
    "df_age_24=pd.read_csv('PCA_Data/new_df_age_24_PG_1.csv',index_col=0)\n",
    "\n",
    "df_age_25=pd.read_csv('PCA_Data/new_df_age_25_PG_1.csv',index_col=0)\n",
    "df_age_26=pd.read_csv('PCA_Data/new_df_age_26_PG_1.csv',index_col=0)\n",
    "df_age_27=pd.read_csv('PCA_Data/new_df_age_27_PG_1.csv',index_col=0)\n",
    "\n",
    "df_age_28=pd.read_csv('PCA_Data/new_df_age_28_PG_1.csv',index_col=0)\n",
    "df_age_29=pd.read_csv('PCA_Data/new_df_age_29_PG_1.csv',index_col=0)\n",
    "df_age_30=pd.read_csv('PCA_Data/new_df_age_30_PG_1.csv',index_col=0)\n",
    "\n",
    "df_age_31=pd.read_csv('PCA_Data/new_df_age_31_PG_1.csv',index_col=0)\n",
    "df_age_32=pd.read_csv('PCA_Data/new_df_age_32_PG_1.csv',index_col=0)\n",
    "df_age_33=pd.read_csv('PCA_Data/new_df_age_33_PG_1.csv',index_col=0)\n",
    "\n",
    "df_age_34=pd.read_csv('PCA_Data/new_df_age_34_PG_1.csv',index_col=0)\n",
    "df_age_35=pd.read_csv('PCA_Data/new_df_age_35_PG_1.csv',index_col=0)\n",
    "df_age_36=pd.read_csv('PCA_Data/new_df_age_36_PG_1.csv',index_col=0)\n",
    "\n",
    "df_age_37=pd.read_csv('PCA_Data/new_df_age_37_PG_1.csv',index_col=0)\n",
    "df_age_38=pd.read_csv('PCA_Data/new_df_age_38_PG_1.csv',index_col=0)\n",
    "# df_age_39=pd.read_csv('PCA_Data/new_df_age_39_PG_1.csv',index_col=0)"
   ]
  },
  {
   "cell_type": "code",
   "execution_count": 5,
   "metadata": {
    "collapsed": false
   },
   "outputs": [],
   "source": [
    "dictPlayer={}"
   ]
  },
  {
   "cell_type": "code",
   "execution_count": 6,
   "metadata": {
    "collapsed": false
   },
   "outputs": [],
   "source": [
    "for i in range(len(df_age_19)):\n",
    "    dictAge={}\n",
    "    if df_age_19.index[i] in dictPlayer:\n",
    "        \n",
    "        data=list(df_age_19.iloc[i])\n",
    "        if 19 not in dictAge:\n",
    "            dictPlayer[df_age_19.index[i]][19]=data\n",
    "        \n",
    "    else:\n",
    "        data=list(df_age_19.iloc[i])\n",
    "        dictAge[19]=data\n",
    "        dictPlayer[df_age_19.index[i]]=dictAge"
   ]
  },
  {
   "cell_type": "code",
   "execution_count": 7,
   "metadata": {
    "collapsed": false
   },
   "outputs": [],
   "source": [
    "for i in range(len(df_age_20)):\n",
    "    dictAge={}\n",
    "    if df_age_20.index[i] in dictPlayer:\n",
    "        \n",
    "        data=list(df_age_20.iloc[i])\n",
    "        if 20 not in dictAge:\n",
    "            dictPlayer[df_age_20.index[i]][20]=data\n",
    "        \n",
    "    else:\n",
    "        data=list(df_age_20.iloc[i])\n",
    "        dictAge[20]=data\n",
    "        dictPlayer[df_age_20.index[i]]=dictAge"
   ]
  },
  {
   "cell_type": "code",
   "execution_count": 8,
   "metadata": {
    "collapsed": false
   },
   "outputs": [],
   "source": [
    "for i in range(len(df_age_21)):\n",
    "    dictAge={}\n",
    "    if df_age_21.index[i] in dictPlayer:\n",
    "        \n",
    "        data=list(df_age_21.iloc[i])\n",
    "        if 21 not in dictAge:\n",
    "            dictPlayer[df_age_21.index[i]][21]=data\n",
    "        \n",
    "    else:\n",
    "        data=list(df_age_21.iloc[i])\n",
    "        dictAge[21]=data\n",
    "        dictPlayer[df_age_21.index[i]]=dictAge"
   ]
  },
  {
   "cell_type": "code",
   "execution_count": 9,
   "metadata": {
    "collapsed": true
   },
   "outputs": [],
   "source": [
    "for i in range(len(df_age_22)):\n",
    "    dictAge={}\n",
    "    if df_age_22.index[i] in dictPlayer:\n",
    "        \n",
    "        data=list(df_age_22.iloc[i])\n",
    "        if 22 not in dictAge:\n",
    "            dictPlayer[df_age_22.index[i]][22]=data\n",
    "        \n",
    "    else:\n",
    "        data=list(df_age_22.iloc[i])\n",
    "        dictAge[22]=data\n",
    "        dictPlayer[df_age_22.index[i]]=dictAge"
   ]
  },
  {
   "cell_type": "code",
   "execution_count": 10,
   "metadata": {
    "collapsed": true
   },
   "outputs": [],
   "source": [
    "for i in range(len(df_age_23)):\n",
    "    dictAge={}\n",
    "    if df_age_23.index[i] in dictPlayer:\n",
    "        \n",
    "        data=list(df_age_23.iloc[i])\n",
    "        if 23 not in dictAge:\n",
    "            dictPlayer[df_age_23.index[i]][23]=data\n",
    "        \n",
    "    else:\n",
    "        data=list(df_age_23.iloc[i])\n",
    "        dictAge[23]=data\n",
    "        dictPlayer[df_age_23.index[i]]=dictAge"
   ]
  },
  {
   "cell_type": "code",
   "execution_count": 11,
   "metadata": {
    "collapsed": true
   },
   "outputs": [],
   "source": [
    "for i in range(len(df_age_24)):\n",
    "    dictAge={}\n",
    "    if df_age_24.index[i] in dictPlayer:\n",
    "        \n",
    "        data=list(df_age_24.iloc[i])\n",
    "        if 24 not in dictAge:\n",
    "            dictPlayer[df_age_24.index[i]][24]=data\n",
    "        \n",
    "    else:\n",
    "        data=list(df_age_24.iloc[i])\n",
    "        dictAge[24]=data\n",
    "        dictPlayer[df_age_24.index[i]]=dictAge"
   ]
  },
  {
   "cell_type": "code",
   "execution_count": 12,
   "metadata": {
    "collapsed": true
   },
   "outputs": [],
   "source": [
    "for i in range(len(df_age_25)):\n",
    "    dictAge={}\n",
    "    if df_age_25.index[i] in dictPlayer:\n",
    "        \n",
    "        data=list(df_age_25.iloc[i])\n",
    "        if 25 not in dictAge:\n",
    "            dictPlayer[df_age_25.index[i]][25]=data\n",
    "        \n",
    "    else:\n",
    "        data=list(df_age_25.iloc[i])\n",
    "        dictAge[25]=data\n",
    "        dictPlayer[df_age_25.index[i]]=dictAge"
   ]
  },
  {
   "cell_type": "code",
   "execution_count": 13,
   "metadata": {
    "collapsed": true
   },
   "outputs": [],
   "source": [
    "for i in range(len(df_age_26)):\n",
    "    dictAge={}\n",
    "    if df_age_26.index[i] in dictPlayer:\n",
    "        \n",
    "        data=list(df_age_26.iloc[i])\n",
    "        if 26 not in dictAge:\n",
    "            dictPlayer[df_age_26.index[i]][26]=data\n",
    "        \n",
    "    else:\n",
    "        data=list(df_age_26.iloc[i])\n",
    "        dictAge[26]=data\n",
    "        dictPlayer[df_age_26.index[i]]=dictAge"
   ]
  },
  {
   "cell_type": "code",
   "execution_count": 14,
   "metadata": {
    "collapsed": true
   },
   "outputs": [],
   "source": [
    "for i in range(len(df_age_27)):\n",
    "    dictAge={}\n",
    "    if df_age_27.index[i] in dictPlayer:\n",
    "        \n",
    "        data=list(df_age_27.iloc[i])\n",
    "        if 27 not in dictAge:\n",
    "            dictPlayer[df_age_27.index[i]][27]=data\n",
    "        \n",
    "    else:\n",
    "        data=list(df_age_27.iloc[i])\n",
    "        dictAge[27]=data\n",
    "        dictPlayer[df_age_27.index[i]]=dictAge"
   ]
  },
  {
   "cell_type": "code",
   "execution_count": 15,
   "metadata": {
    "collapsed": true
   },
   "outputs": [],
   "source": [
    "for i in range(len(df_age_28)):\n",
    "    dictAge={}\n",
    "    if df_age_28.index[i] in dictPlayer:\n",
    "        \n",
    "        data=list(df_age_28.iloc[i])\n",
    "        if 28 not in dictAge:\n",
    "            dictPlayer[df_age_28.index[i]][28]=data\n",
    "        \n",
    "    else:\n",
    "        data=list(df_age_28.iloc[i])\n",
    "        dictAge[28]=data\n",
    "        dictPlayer[df_age_28.index[i]]=dictAge"
   ]
  },
  {
   "cell_type": "code",
   "execution_count": 16,
   "metadata": {
    "collapsed": true
   },
   "outputs": [],
   "source": [
    "for i in range(len(df_age_29)):\n",
    "    dictAge={}\n",
    "    if df_age_29.index[i] in dictPlayer:\n",
    "        \n",
    "        data=list(df_age_29.iloc[i])\n",
    "        if 29 not in dictAge:\n",
    "            dictPlayer[df_age_29.index[i]][29]=data\n",
    "        \n",
    "    else:\n",
    "        data=list(df_age_29.iloc[i])\n",
    "        dictAge[29]=data\n",
    "        dictPlayer[df_age_29.index[i]]=dictAge"
   ]
  },
  {
   "cell_type": "code",
   "execution_count": 17,
   "metadata": {
    "collapsed": true
   },
   "outputs": [],
   "source": [
    "for i in range(len(df_age_30)):\n",
    "    dictAge={}\n",
    "    if df_age_30.index[i] in dictPlayer:\n",
    "        \n",
    "        data=list(df_age_30.iloc[i])\n",
    "        if 30 not in dictAge:\n",
    "            dictPlayer[df_age_30.index[i]][30]=data\n",
    "        \n",
    "    else:\n",
    "        data=list(df_age_30.iloc[i])\n",
    "        dictAge[30]=data\n",
    "        dictPlayer[df_age_30.index[i]]=dictAge"
   ]
  },
  {
   "cell_type": "code",
   "execution_count": 18,
   "metadata": {
    "collapsed": true
   },
   "outputs": [],
   "source": [
    "for i in range(len(df_age_31)):\n",
    "    dictAge={}\n",
    "    if df_age_31.index[i] in dictPlayer:\n",
    "        \n",
    "        data=list(df_age_31.iloc[i])\n",
    "        if 31 not in dictAge:\n",
    "            dictPlayer[df_age_31.index[i]][31]=data\n",
    "        \n",
    "    else:\n",
    "        data=list(df_age_31.iloc[i])\n",
    "        dictAge[31]=data\n",
    "        dictPlayer[df_age_31.index[i]]=dictAge"
   ]
  },
  {
   "cell_type": "code",
   "execution_count": 19,
   "metadata": {
    "collapsed": true
   },
   "outputs": [],
   "source": [
    "for i in range(len(df_age_32)):\n",
    "    dictAge={}\n",
    "    if df_age_32.index[i] in dictPlayer:\n",
    "        \n",
    "        data=list(df_age_32.iloc[i])\n",
    "        if 32 not in dictAge:\n",
    "            dictPlayer[df_age_32.index[i]][32]=data\n",
    "        \n",
    "    else:\n",
    "        data=list(df_age_32.iloc[i])\n",
    "        dictAge[32]=data\n",
    "        dictPlayer[df_age_32.index[i]]=dictAge"
   ]
  },
  {
   "cell_type": "code",
   "execution_count": 20,
   "metadata": {
    "collapsed": true
   },
   "outputs": [],
   "source": [
    "for i in range(len(df_age_33)):\n",
    "    dictAge={}\n",
    "    if df_age_33.index[i] in dictPlayer:\n",
    "        \n",
    "        data=list(df_age_33.iloc[i])\n",
    "        if 33 not in dictAge:\n",
    "            dictPlayer[df_age_33.index[i]][33]=data\n",
    "        \n",
    "    else:\n",
    "        data=list(df_age_33.iloc[i])\n",
    "        dictAge[33]=data\n",
    "        dictPlayer[df_age_33.index[i]]=dictAge"
   ]
  },
  {
   "cell_type": "code",
   "execution_count": 21,
   "metadata": {
    "collapsed": true
   },
   "outputs": [],
   "source": [
    "for i in range(len(df_age_34)):\n",
    "    dictAge={}\n",
    "    if df_age_34.index[i] in dictPlayer:\n",
    "        \n",
    "        data=list(df_age_34.iloc[i])\n",
    "        if 34 not in dictAge:\n",
    "            dictPlayer[df_age_34.index[i]][34]=data\n",
    "        \n",
    "    else:\n",
    "        data=list(df_age_34.iloc[i])\n",
    "        dictAge[34]=data\n",
    "        dictPlayer[df_age_34.index[i]]=dictAge"
   ]
  },
  {
   "cell_type": "code",
   "execution_count": 22,
   "metadata": {
    "collapsed": true
   },
   "outputs": [],
   "source": [
    "for i in range(len(df_age_35)):\n",
    "    dictAge={}\n",
    "    if df_age_35.index[i] in dictPlayer:\n",
    "        \n",
    "        data=list(df_age_35.iloc[i])\n",
    "        if 35 not in dictAge:\n",
    "            dictPlayer[df_age_35.index[i]][35]=data\n",
    "        \n",
    "    else:\n",
    "        data=list(df_age_35.iloc[i])\n",
    "        dictAge[35]=data\n",
    "        dictPlayer[df_age_35.index[i]]=dictAge"
   ]
  },
  {
   "cell_type": "code",
   "execution_count": 23,
   "metadata": {
    "collapsed": true
   },
   "outputs": [],
   "source": [
    "for i in range(len(df_age_36)):\n",
    "    dictAge={}\n",
    "    if df_age_36.index[i] in dictPlayer:\n",
    "        \n",
    "        data=list(df_age_36.iloc[i])\n",
    "        if 36 not in dictAge:\n",
    "            dictPlayer[df_age_36.index[i]][36]=data\n",
    "        \n",
    "    else:\n",
    "        data=list(df_age_36.iloc[i])\n",
    "        dictAge[36]=data\n",
    "        dictPlayer[df_age_36.index[i]]=dictAge"
   ]
  },
  {
   "cell_type": "code",
   "execution_count": 24,
   "metadata": {
    "collapsed": true
   },
   "outputs": [],
   "source": [
    "for i in range(len(df_age_37)):\n",
    "    dictAge={}\n",
    "    if df_age_37.index[i] in dictPlayer:\n",
    "        \n",
    "        data=list(df_age_37.iloc[i])\n",
    "        if 37 not in dictAge:\n",
    "            dictPlayer[df_age_37.index[i]][37]=data\n",
    "        \n",
    "    else:\n",
    "        data=list(df_age_37.iloc[i])\n",
    "        dictAge[37]=data\n",
    "        dictPlayer[df_age_37.index[i]]=dictAge"
   ]
  },
  {
   "cell_type": "code",
   "execution_count": 25,
   "metadata": {
    "collapsed": true
   },
   "outputs": [],
   "source": [
    "for i in range(len(df_age_38)):\n",
    "    dictAge={}\n",
    "    if df_age_38.index[i] in dictPlayer:\n",
    "        \n",
    "        data=list(df_age_38.iloc[i])\n",
    "        if 38 not in dictAge:\n",
    "            dictPlayer[df_age_38.index[i]][38]=data\n",
    "        \n",
    "    else:\n",
    "        data=list(df_age_38.iloc[i])\n",
    "        dictAge[38]=data\n",
    "        dictPlayer[df_age_38.index[i]]=dictAge"
   ]
  },
  {
   "cell_type": "code",
   "execution_count": 26,
   "metadata": {
    "collapsed": true
   },
   "outputs": [],
   "source": [
    "# for i in range(len(df_age_39)):\n",
    "#     dictAge={}\n",
    "#     if df_age_39.index[i] in dictPlayer:\n",
    "        \n",
    "#         data=list(df_age_39.iloc[i])\n",
    "#         if 39 not in dictAge:\n",
    "#             dictPlayer[df_age_39.index[i]][39]=data\n",
    "        \n",
    "#     else:\n",
    "#         data=list(df_age_39.iloc[i])\n",
    "#         dictAge[39]=data\n",
    "#         dictPlayer[df_age_39.index[i]]=dictAge"
   ]
  },
  {
   "cell_type": "code",
   "execution_count": null,
   "metadata": {
    "collapsed": true
   },
   "outputs": [],
   "source": []
  },
  {
   "cell_type": "code",
   "execution_count": null,
   "metadata": {
    "collapsed": true
   },
   "outputs": [],
   "source": []
  },
  {
   "cell_type": "code",
   "execution_count": 27,
   "metadata": {
    "collapsed": true
   },
   "outputs": [],
   "source": [
    "allplayer=dictPlayer.keys()"
   ]
  },
  {
   "cell_type": "code",
   "execution_count": 28,
   "metadata": {
    "collapsed": false
   },
   "outputs": [
    {
     "data": {
      "text/plain": [
       "{20: [-0.94627199751200008],\n",
       " 21: [-1.0568908316200001],\n",
       " 22: [-1.0668894816399999],\n",
       " 23: [-0.90781174961300004],\n",
       " 24: [-0.75802299378500004],\n",
       " 25: [-0.94796472251399999],\n",
       " 26: [1.0747922590000001],\n",
       " 27: [0.85925007484500004],\n",
       " 28: [-0.82217318330599998]}"
      ]
     },
     "execution_count": 28,
     "metadata": {},
     "output_type": "execute_result"
    }
   ],
   "source": [
    "dictPlayer['crosbsi01']"
   ]
  },
  {
   "cell_type": "code",
   "execution_count": 29,
   "metadata": {
    "collapsed": false
   },
   "outputs": [
    {
     "data": {
      "text/plain": [
       "{19: [0.40752206784100004],\n",
       " 20: [-0.66078103321400006],\n",
       " 21: [-0.82301869831800001],\n",
       " 22: [-0.87981985716400002],\n",
       " 23: [-0.68471331948500003],\n",
       " 24: [-0.49284004403499998],\n",
       " 25: [-0.63362355614400001],\n",
       " 26: [0.61816092761899999],\n",
       " 27: [0.47453707341799994]}"
      ]
     },
     "execution_count": 29,
     "metadata": {},
     "output_type": "execute_result"
    }
   ],
   "source": [
    "dictPlayer['toewsjo01']"
   ]
  },
  {
   "cell_type": "code",
   "execution_count": 30,
   "metadata": {
    "collapsed": false
   },
   "outputs": [],
   "source": [
    "playernum=len(allplayer)"
   ]
  },
  {
   "cell_type": "code",
   "execution_count": 31,
   "metadata": {
    "collapsed": true
   },
   "outputs": [],
   "source": [
    "Matrix = [[0 for x in range(playernum)] for y in range(playernum)]"
   ]
  },
  {
   "cell_type": "code",
   "execution_count": 34,
   "metadata": {
    "collapsed": false
   },
   "outputs": [],
   "source": [
    "for ith in range(0,playernum):\n",
    "    for jth in range(0,playernum):\n",
    "        player1=allplayer[ith]\n",
    "        player2=allplayer[jth]\n",
    "        \n",
    "        p1=dictPlayer[player1].keys()\n",
    "        p2=dictPlayer[player2].keys()\n",
    "        \n",
    "        years=list(set(p1) & set(p2))\n",
    "        \n",
    "        \n",
    "        if len(years)!=0:\n",
    "            error=0\n",
    "            for elem in years:\n",
    "\n",
    "                suberror=0\n",
    "                for it in range(0,1):\n",
    "                    suberror=suberror+(dictPlayer[player1][elem][it]-dictPlayer[player2][elem][it])**2\n",
    "                error=error+math.sqrt(suberror)\n",
    "\n",
    "#             print error/(len(years)**(1.5))\n",
    "#             print ith\n",
    "#             print jth\n",
    "            Matrix[ith][jth]=error/(len(years)**(1.5))\n",
    "#             print Matrix\n",
    "        else:\n",
    "            Matrix[ith][jth]=0\n",
    "            "
   ]
  },
  {
   "cell_type": "code",
   "execution_count": 35,
   "metadata": {
    "collapsed": false
   },
   "outputs": [],
   "source": [
    "similarity = pd.DataFrame(Matrix,columns=allplayer[:playernum])"
   ]
  },
  {
   "cell_type": "code",
   "execution_count": 36,
   "metadata": {
    "collapsed": true
   },
   "outputs": [],
   "source": [
    "similarity['name']=allplayer[:playernum]"
   ]
  },
  {
   "cell_type": "code",
   "execution_count": 37,
   "metadata": {
    "collapsed": false
   },
   "outputs": [],
   "source": [
    "similarity=similarity.set_index('name')"
   ]
  },
  {
   "cell_type": "code",
   "execution_count": 39,
   "metadata": {
    "collapsed": false
   },
   "outputs": [],
   "source": [
    "similarity.to_csv('PCA_Data/Similar/similarity_PG_1.csv')"
   ]
  },
  {
   "cell_type": "code",
   "execution_count": null,
   "metadata": {
    "collapsed": true
   },
   "outputs": [],
   "source": []
  }
 ],
 "metadata": {
  "anaconda-cloud": {},
  "kernelspec": {
   "display_name": "Python [Root]",
   "language": "python",
   "name": "Python [Root]"
  },
  "language_info": {
   "codemirror_mode": {
    "name": "ipython",
    "version": 2
   },
   "file_extension": ".py",
   "mimetype": "text/x-python",
   "name": "python",
   "nbconvert_exporter": "python",
   "pygments_lexer": "ipython2",
   "version": "2.7.12"
  }
 },
 "nbformat": 4,
 "nbformat_minor": 0
}
