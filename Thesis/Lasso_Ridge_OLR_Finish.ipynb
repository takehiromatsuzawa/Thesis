{
 "cells": [
  {
   "cell_type": "code",
   "execution_count": 1,
   "metadata": {
    "collapsed": true
   },
   "outputs": [],
   "source": [
    "import pandas as pd\n",
    "import numpy as np\n",
    "\n",
    "import pylab as pl\n",
    "from sklearn.neighbors import KNeighborsClassifier\n",
    "\n",
    "from sklearn.linear_model import Ridge\n",
    "from sklearn.linear_model import Lasso\n",
    "from sklearn.linear_model import ElasticNet\n",
    "\n",
    "import statsmodels.api as sm"
   ]
  },
  {
   "cell_type": "markdown",
   "metadata": {
    "collapsed": false
   },
   "source": [
    "### Draft Year Data"
   ]
  },
  {
   "cell_type": "code",
   "execution_count": 2,
   "metadata": {
    "collapsed": true
   },
   "outputs": [],
   "source": [
    "def dfplayerYear(year):\n",
    "    dfplayerYr=pd.read_csv('Data/draft_year_player/dfplayer'+str(year)+'.csv')\n",
    "    namePlayer=[]\n",
    "    \n",
    "    for elem in dfplayerYr['url']:\n",
    "        namePlayer.append(elem[11:-5])\n",
    "\n",
    "    dfplayerYr['name']=namePlayer\n",
    "\n",
    "    del dfplayerYr['Unnamed: 0']\n",
    "    del dfplayerYr['url']\n",
    "    del dfplayerYr['draft']\n",
    "    del dfplayerYr['shot']\n",
    "    del dfplayerYr['pos']\n",
    "    \n",
    "    return dfplayerYr"
   ]
  },
  {
   "cell_type": "code",
   "execution_count": 3,
   "metadata": {
    "collapsed": true
   },
   "outputs": [],
   "source": [
    "fundam = []\n",
    "for yr in range(1996,2016):\n",
    "    fundam.append(dfplayerYear(yr))"
   ]
  },
  {
   "cell_type": "code",
   "execution_count": 4,
   "metadata": {
    "collapsed": false
   },
   "outputs": [],
   "source": [
    "df_all_fundam = pd.concat(fundam)\n",
    "df_all_fundam=df_all_fundam.reset_index(drop=True)\n",
    "\n",
    "df_all_fundam = df_all_fundam[df_all_fundam.height!= 'ml>']\n",
    "df_all_fundam=df_all_fundam.reset_index(drop=True)\n",
    "weight_all=df_all_fundam['weight']\n",
    "height_all=df_all_fundam['height']\n",
    "\n",
    "df_all_fundam[['weight','height']]=df_all_fundam[['weight','height']].astype(float)"
   ]
  },
  {
   "cell_type": "code",
   "execution_count": null,
   "metadata": {
    "collapsed": true
   },
   "outputs": [],
   "source": []
  },
  {
   "cell_type": "markdown",
   "metadata": {
    "collapsed": true
   },
   "source": [
    "### Height Weight Data"
   ]
  },
  {
   "cell_type": "code",
   "execution_count": 5,
   "metadata": {
    "collapsed": true
   },
   "outputs": [],
   "source": [
    "def dfplayerAge(age):\n",
    "    df_age_yr=pd.read_csv('Data/AgeData/df_age_'+str(age)+'.csv',index_col=0)\n",
    "    return df_age_yr"
   ]
  },
  {
   "cell_type": "code",
   "execution_count": 6,
   "metadata": {
    "collapsed": false
   },
   "outputs": [],
   "source": [
    "df_age_frames=[]\n",
    "for age in range(19,40):\n",
    "    df_age_frames.append(dfplayerAge(age))\n",
    "\n",
    "df_ages = pd.concat(df_age_frames)\n",
    "df_ages=df_ages.reset_index(drop=True)\n",
    "del df_ages['age_x']\n"
   ]
  },
  {
   "cell_type": "code",
   "execution_count": null,
   "metadata": {
    "collapsed": false
   },
   "outputs": [],
   "source": []
  },
  {
   "cell_type": "code",
   "execution_count": 7,
   "metadata": {
    "collapsed": false
   },
   "outputs": [
    {
     "name": "stderr",
     "output_type": "stream",
     "text": [
      "/Users/takehiromatsuzawa/anaconda/lib/python2.7/site-packages/ipykernel/__main__.py:5: FutureWarning: sort(columns=....) is deprecated, use sort_values(by=.....)\n"
     ]
    }
   ],
   "source": [
    "#calculate goals all \n",
    "df_ages['goals_all']=df_ages['goals_ev']+df_ages['goals_pp']+df_ages['goals_sh']\n",
    "\n",
    "#sort by name and age\n",
    "df_ages_sorted=df_ages.sort(['name', 'age_y'], ascending=[0, 1])"
   ]
  },
  {
   "cell_type": "code",
   "execution_count": 8,
   "metadata": {
    "collapsed": false
   },
   "outputs": [
    {
     "data": {
      "text/html": [
       "<div>\n",
       "<table border=\"1\" class=\"dataframe\">\n",
       "  <thead>\n",
       "    <tr style=\"text-align: right;\">\n",
       "      <th></th>\n",
       "      <th>TOT</th>\n",
       "      <th>age_y</th>\n",
       "      <th>assists_ev</th>\n",
       "      <th>assists_pp</th>\n",
       "      <th>assists_sh</th>\n",
       "      <th>blocks</th>\n",
       "      <th>corsi_against</th>\n",
       "      <th>corsi_for</th>\n",
       "      <th>corsi_pct</th>\n",
       "      <th>corsi_rel_pct</th>\n",
       "      <th>...</th>\n",
       "      <th>shot_pct</th>\n",
       "      <th>shot_pct.1</th>\n",
       "      <th>shots_attempted</th>\n",
       "      <th>shots_attempted.1</th>\n",
       "      <th>takeaways</th>\n",
       "      <th>time_on_ice_avg</th>\n",
       "      <th>uniqueseason</th>\n",
       "      <th>zs_defense_pct</th>\n",
       "      <th>zs_offense_pct</th>\n",
       "      <th>goals_all</th>\n",
       "    </tr>\n",
       "  </thead>\n",
       "  <tbody>\n",
       "    <tr>\n",
       "      <th>5478</th>\n",
       "      <td>CHI</td>\n",
       "      <td>30.0</td>\n",
       "      <td>2.0</td>\n",
       "      <td>1.0</td>\n",
       "      <td>0.0</td>\n",
       "      <td>35.0</td>\n",
       "      <td>312.0</td>\n",
       "      <td>275.0</td>\n",
       "      <td>46.8</td>\n",
       "      <td>-7.0</td>\n",
       "      <td>...</td>\n",
       "      <td>5.9</td>\n",
       "      <td>5.9</td>\n",
       "      <td>68.0</td>\n",
       "      <td>NaN</td>\n",
       "      <td>6.0</td>\n",
       "      <td>14.58</td>\n",
       "      <td>1</td>\n",
       "      <td>54.2</td>\n",
       "      <td>45.8</td>\n",
       "      <td>2.0</td>\n",
       "    </tr>\n",
       "    <tr>\n",
       "      <th>416</th>\n",
       "      <td>MIN</td>\n",
       "      <td>20.0</td>\n",
       "      <td>2.0</td>\n",
       "      <td>0.0</td>\n",
       "      <td>0.0</td>\n",
       "      <td>2.0</td>\n",
       "      <td>73.0</td>\n",
       "      <td>40.0</td>\n",
       "      <td>35.4</td>\n",
       "      <td>-8.8</td>\n",
       "      <td>...</td>\n",
       "      <td>0.0</td>\n",
       "      <td>0.0</td>\n",
       "      <td>16.0</td>\n",
       "      <td>16.0</td>\n",
       "      <td>2.0</td>\n",
       "      <td>11.02</td>\n",
       "      <td>1</td>\n",
       "      <td>48.3</td>\n",
       "      <td>51.7</td>\n",
       "      <td>0.0</td>\n",
       "    </tr>\n",
       "    <tr>\n",
       "      <th>894</th>\n",
       "      <td>MIN</td>\n",
       "      <td>21.0</td>\n",
       "      <td>1.0</td>\n",
       "      <td>0.0</td>\n",
       "      <td>0.0</td>\n",
       "      <td>5.0</td>\n",
       "      <td>216.0</td>\n",
       "      <td>183.0</td>\n",
       "      <td>45.9</td>\n",
       "      <td>-6.6</td>\n",
       "      <td>...</td>\n",
       "      <td>11.8</td>\n",
       "      <td>11.8</td>\n",
       "      <td>58.0</td>\n",
       "      <td>58.0</td>\n",
       "      <td>4.0</td>\n",
       "      <td>11.16</td>\n",
       "      <td>1</td>\n",
       "      <td>58.4</td>\n",
       "      <td>41.6</td>\n",
       "      <td>4.0</td>\n",
       "    </tr>\n",
       "    <tr>\n",
       "      <th>1516</th>\n",
       "      <td>MIN</td>\n",
       "      <td>22.0</td>\n",
       "      <td>0.0</td>\n",
       "      <td>1.0</td>\n",
       "      <td>0.0</td>\n",
       "      <td>11.0</td>\n",
       "      <td>259.0</td>\n",
       "      <td>198.0</td>\n",
       "      <td>43.3</td>\n",
       "      <td>-5.0</td>\n",
       "      <td>...</td>\n",
       "      <td>10.0</td>\n",
       "      <td>10.0</td>\n",
       "      <td>68.0</td>\n",
       "      <td>68.0</td>\n",
       "      <td>9.0</td>\n",
       "      <td>12.59</td>\n",
       "      <td>1</td>\n",
       "      <td>42.7</td>\n",
       "      <td>57.3</td>\n",
       "      <td>4.0</td>\n",
       "    </tr>\n",
       "    <tr>\n",
       "      <th>2221</th>\n",
       "      <td>MIN</td>\n",
       "      <td>23.0</td>\n",
       "      <td>5.0</td>\n",
       "      <td>0.0</td>\n",
       "      <td>0.0</td>\n",
       "      <td>13.0</td>\n",
       "      <td>547.0</td>\n",
       "      <td>641.0</td>\n",
       "      <td>54.0</td>\n",
       "      <td>2.6</td>\n",
       "      <td>...</td>\n",
       "      <td>16.9</td>\n",
       "      <td>16.9</td>\n",
       "      <td>193.0</td>\n",
       "      <td>193.0</td>\n",
       "      <td>21.0</td>\n",
       "      <td>15.04</td>\n",
       "      <td>1</td>\n",
       "      <td>46.2</td>\n",
       "      <td>53.8</td>\n",
       "      <td>21.0</td>\n",
       "    </tr>\n",
       "  </tbody>\n",
       "</table>\n",
       "<p>5 rows × 38 columns</p>\n",
       "</div>"
      ],
      "text/plain": [
       "      TOT  age_y  assists_ev  assists_pp  assists_sh  blocks  corsi_against  \\\n",
       "5478  CHI   30.0         2.0         1.0         0.0    35.0          312.0   \n",
       "416   MIN   20.0         2.0         0.0         0.0     2.0           73.0   \n",
       "894   MIN   21.0         1.0         0.0         0.0     5.0          216.0   \n",
       "1516  MIN   22.0         0.0         1.0         0.0    11.0          259.0   \n",
       "2221  MIN   23.0         5.0         0.0         0.0    13.0          547.0   \n",
       "\n",
       "      corsi_for  corsi_pct  corsi_rel_pct    ...      shot_pct  shot_pct.1  \\\n",
       "5478      275.0       46.8           -7.0    ...           5.9         5.9   \n",
       "416        40.0       35.4           -8.8    ...           0.0         0.0   \n",
       "894       183.0       45.9           -6.6    ...          11.8        11.8   \n",
       "1516      198.0       43.3           -5.0    ...          10.0        10.0   \n",
       "2221      641.0       54.0            2.6    ...          16.9        16.9   \n",
       "\n",
       "      shots_attempted  shots_attempted.1  takeaways  time_on_ice_avg  \\\n",
       "5478             68.0                NaN        6.0            14.58   \n",
       "416              16.0               16.0        2.0            11.02   \n",
       "894              58.0               58.0        4.0            11.16   \n",
       "1516             68.0               68.0        9.0            12.59   \n",
       "2221            193.0              193.0       21.0            15.04   \n",
       "\n",
       "      uniqueseason  zs_defense_pct  zs_offense_pct  goals_all  \n",
       "5478             1            54.2            45.8        2.0  \n",
       "416              1            48.3            51.7        0.0  \n",
       "894              1            58.4            41.6        4.0  \n",
       "1516             1            42.7            57.3        4.0  \n",
       "2221             1            46.2            53.8       21.0  \n",
       "\n",
       "[5 rows x 38 columns]"
      ]
     },
     "execution_count": 8,
     "metadata": {},
     "output_type": "execute_result"
    }
   ],
   "source": [
    "df_ages_sorted.head()"
   ]
  },
  {
   "cell_type": "code",
   "execution_count": 9,
   "metadata": {
    "collapsed": false
   },
   "outputs": [],
   "source": [
    "# reset index\n",
    "df_ages_sorted=df_ages_sorted.reset_index(drop=True)\n",
    "\n",
    "df_ages_sorted['goals_all']=df_ages_sorted['goals_all']/df_ages_sorted['games_played']\n",
    "goals_all_data=list(df_ages_sorted['goals_all'])\n",
    "\n",
    "# you want to predict the next year data\n",
    "goals_all_data.pop(0)\n",
    "goals_all_data.append(0)\n",
    "\n",
    "df_ages_sorted['goals_all']=goals_all_data\n",
    "df_ages=df_ages_sorted.groupby(\"name\").apply(lambda x: x.iloc[:-1]).reset_index(drop=True)\n",
    "\n"
   ]
  },
  {
   "cell_type": "code",
   "execution_count": null,
   "metadata": {
    "collapsed": false
   },
   "outputs": [],
   "source": []
  },
  {
   "cell_type": "markdown",
   "metadata": {},
   "source": [
    "### Combined Data (All Data)"
   ]
  },
  {
   "cell_type": "code",
   "execution_count": 11,
   "metadata": {
    "collapsed": true
   },
   "outputs": [],
   "source": [
    "df_all = pd.merge(df_ages, df_all_fundam, on='name')\n",
    "df_all=df_all.drop_duplicates()\n",
    "df_all['assists_all']=df_all['assists_ev']+df_all['assists_pp']+df_all['assists_sh']\n",
    "\n",
    "df_all['zs_offense_pct']=df_all['zs_offense_pct']/100.0\n",
    "df_all['shot_pct']=df_all['shot_pct']/100.0"
   ]
  },
  {
   "cell_type": "markdown",
   "metadata": {},
   "source": [
    "### convert to per game data"
   ]
  },
  {
   "cell_type": "code",
   "execution_count": 12,
   "metadata": {
    "collapsed": true
   },
   "outputs": [],
   "source": [
    "per_games=['goals_ev','goals_pp','goals_sh','assists_all','assists_ev','assists_pp','assists_sh','takeaways',\n",
    "          'hits','giveaways','blocks','shots_attempted']\n",
    "\n",
    "for per_game in per_games:\n",
    "    df_all[per_game]=df_all[per_game]/df_all['games_played']"
   ]
  },
  {
   "cell_type": "code",
   "execution_count": 13,
   "metadata": {
    "collapsed": false
   },
   "outputs": [],
   "source": []
  },
  {
   "cell_type": "code",
   "execution_count": null,
   "metadata": {
    "collapsed": true
   },
   "outputs": [],
   "source": []
  },
  {
   "cell_type": "code",
   "execution_count": 14,
   "metadata": {
    "collapsed": false
   },
   "outputs": [
    {
     "data": {
      "text/html": [
       "<div>\n",
       "<table border=\"1\" class=\"dataframe\">\n",
       "  <thead>\n",
       "    <tr style=\"text-align: right;\">\n",
       "      <th></th>\n",
       "      <th>TOT</th>\n",
       "      <th>age_y</th>\n",
       "      <th>assists_ev</th>\n",
       "      <th>assists_pp</th>\n",
       "      <th>assists_sh</th>\n",
       "      <th>blocks</th>\n",
       "      <th>corsi_against</th>\n",
       "      <th>corsi_for</th>\n",
       "      <th>corsi_pct</th>\n",
       "      <th>corsi_rel_pct</th>\n",
       "      <th>...</th>\n",
       "      <th>shots_attempted.1</th>\n",
       "      <th>takeaways</th>\n",
       "      <th>time_on_ice_avg</th>\n",
       "      <th>uniqueseason</th>\n",
       "      <th>zs_defense_pct</th>\n",
       "      <th>zs_offense_pct</th>\n",
       "      <th>goals_all</th>\n",
       "      <th>height</th>\n",
       "      <th>weight</th>\n",
       "      <th>assists_all</th>\n",
       "    </tr>\n",
       "  </thead>\n",
       "  <tbody>\n",
       "    <tr>\n",
       "      <th>0</th>\n",
       "      <td>DET</td>\n",
       "      <td>20.0</td>\n",
       "      <td>0.000000</td>\n",
       "      <td>0.0</td>\n",
       "      <td>0.000000</td>\n",
       "      <td>0.000000</td>\n",
       "      <td>18.0</td>\n",
       "      <td>19.0</td>\n",
       "      <td>51.4</td>\n",
       "      <td>-10.0</td>\n",
       "      <td>...</td>\n",
       "      <td>8.0</td>\n",
       "      <td>0.500000</td>\n",
       "      <td>12.13</td>\n",
       "      <td>1</td>\n",
       "      <td>40.0</td>\n",
       "      <td>0.600</td>\n",
       "      <td>0.000000</td>\n",
       "      <td>188.0</td>\n",
       "      <td>218.0</td>\n",
       "      <td>0.000000</td>\n",
       "    </tr>\n",
       "    <tr>\n",
       "      <th>1</th>\n",
       "      <td>DET</td>\n",
       "      <td>21.0</td>\n",
       "      <td>0.000000</td>\n",
       "      <td>0.0</td>\n",
       "      <td>0.000000</td>\n",
       "      <td>0.000000</td>\n",
       "      <td>9.0</td>\n",
       "      <td>22.0</td>\n",
       "      <td>71.0</td>\n",
       "      <td>14.6</td>\n",
       "      <td>...</td>\n",
       "      <td>7.0</td>\n",
       "      <td>0.000000</td>\n",
       "      <td>9.18</td>\n",
       "      <td>1</td>\n",
       "      <td>33.3</td>\n",
       "      <td>0.667</td>\n",
       "      <td>0.060000</td>\n",
       "      <td>188.0</td>\n",
       "      <td>218.0</td>\n",
       "      <td>0.000000</td>\n",
       "    </tr>\n",
       "    <tr>\n",
       "      <th>2</th>\n",
       "      <td>DET</td>\n",
       "      <td>22.0</td>\n",
       "      <td>0.060000</td>\n",
       "      <td>0.0</td>\n",
       "      <td>0.000000</td>\n",
       "      <td>0.400000</td>\n",
       "      <td>376.0</td>\n",
       "      <td>409.0</td>\n",
       "      <td>52.1</td>\n",
       "      <td>-2.2</td>\n",
       "      <td>...</td>\n",
       "      <td>141.0</td>\n",
       "      <td>0.140000</td>\n",
       "      <td>10.35</td>\n",
       "      <td>1</td>\n",
       "      <td>33.7</td>\n",
       "      <td>0.663</td>\n",
       "      <td>0.094595</td>\n",
       "      <td>188.0</td>\n",
       "      <td>218.0</td>\n",
       "      <td>0.060000</td>\n",
       "    </tr>\n",
       "    <tr>\n",
       "      <th>3</th>\n",
       "      <td>DET</td>\n",
       "      <td>23.0</td>\n",
       "      <td>0.148649</td>\n",
       "      <td>0.0</td>\n",
       "      <td>0.013514</td>\n",
       "      <td>0.527027</td>\n",
       "      <td>628.0</td>\n",
       "      <td>765.0</td>\n",
       "      <td>54.9</td>\n",
       "      <td>-0.4</td>\n",
       "      <td>...</td>\n",
       "      <td>226.0</td>\n",
       "      <td>0.229730</td>\n",
       "      <td>12.18</td>\n",
       "      <td>1</td>\n",
       "      <td>41.2</td>\n",
       "      <td>0.588</td>\n",
       "      <td>0.098765</td>\n",
       "      <td>188.0</td>\n",
       "      <td>218.0</td>\n",
       "      <td>0.162162</td>\n",
       "    </tr>\n",
       "    <tr>\n",
       "      <th>4</th>\n",
       "      <td>DET</td>\n",
       "      <td>24.0</td>\n",
       "      <td>0.172840</td>\n",
       "      <td>0.0</td>\n",
       "      <td>0.000000</td>\n",
       "      <td>0.518519</td>\n",
       "      <td>698.0</td>\n",
       "      <td>794.0</td>\n",
       "      <td>53.2</td>\n",
       "      <td>-3.2</td>\n",
       "      <td>...</td>\n",
       "      <td>196.0</td>\n",
       "      <td>0.197531</td>\n",
       "      <td>12.19</td>\n",
       "      <td>1</td>\n",
       "      <td>40.7</td>\n",
       "      <td>0.593</td>\n",
       "      <td>0.208333</td>\n",
       "      <td>188.0</td>\n",
       "      <td>218.0</td>\n",
       "      <td>0.172840</td>\n",
       "    </tr>\n",
       "  </tbody>\n",
       "</table>\n",
       "<p>5 rows × 41 columns</p>\n",
       "</div>"
      ],
      "text/plain": [
       "   TOT  age_y  assists_ev  assists_pp  assists_sh    blocks  corsi_against  \\\n",
       "0  DET   20.0    0.000000         0.0    0.000000  0.000000           18.0   \n",
       "1  DET   21.0    0.000000         0.0    0.000000  0.000000            9.0   \n",
       "2  DET   22.0    0.060000         0.0    0.000000  0.400000          376.0   \n",
       "3  DET   23.0    0.148649         0.0    0.013514  0.527027          628.0   \n",
       "4  DET   24.0    0.172840         0.0    0.000000  0.518519          698.0   \n",
       "\n",
       "   corsi_for  corsi_pct  corsi_rel_pct     ...       shots_attempted.1  \\\n",
       "0       19.0       51.4          -10.0     ...                     8.0   \n",
       "1       22.0       71.0           14.6     ...                     7.0   \n",
       "2      409.0       52.1           -2.2     ...                   141.0   \n",
       "3      765.0       54.9           -0.4     ...                   226.0   \n",
       "4      794.0       53.2           -3.2     ...                   196.0   \n",
       "\n",
       "   takeaways  time_on_ice_avg  uniqueseason  zs_defense_pct  zs_offense_pct  \\\n",
       "0   0.500000            12.13             1            40.0           0.600   \n",
       "1   0.000000             9.18             1            33.3           0.667   \n",
       "2   0.140000            10.35             1            33.7           0.663   \n",
       "3   0.229730            12.18             1            41.2           0.588   \n",
       "4   0.197531            12.19             1            40.7           0.593   \n",
       "\n",
       "   goals_all  height  weight  assists_all  \n",
       "0   0.000000   188.0   218.0     0.000000  \n",
       "1   0.060000   188.0   218.0     0.000000  \n",
       "2   0.094595   188.0   218.0     0.060000  \n",
       "3   0.098765   188.0   218.0     0.162162  \n",
       "4   0.208333   188.0   218.0     0.172840  \n",
       "\n",
       "[5 rows x 41 columns]"
      ]
     },
     "execution_count": 14,
     "metadata": {},
     "output_type": "execute_result"
    }
   ],
   "source": [
    "df_all.head()"
   ]
  },
  {
   "cell_type": "code",
   "execution_count": null,
   "metadata": {
    "collapsed": true
   },
   "outputs": [],
   "source": []
  },
  {
   "cell_type": "markdown",
   "metadata": {},
   "source": [
    "### Normalize Data"
   ]
  },
  {
   "cell_type": "code",
   "execution_count": 15,
   "metadata": {
    "collapsed": false
   },
   "outputs": [],
   "source": [
    "df_all_nn=df_all[['goals_all','goals_ev','goals_pp','goals_sh','assists_ev','assists_pp','assists_sh','shots_attempted','age_y','blocks',\n",
    "                 'giveaways','hits','shot_pct','shots_attempted','takeaways','zs_offense_pct','height','weight']]"
   ]
  },
  {
   "cell_type": "code",
   "execution_count": 16,
   "metadata": {
    "collapsed": false
   },
   "outputs": [],
   "source": [
    "cols_to_norm = ['goals_ev','goals_pp','goals_sh','assists_ev','assists_pp','assists_sh','shots_attempted','age_y','blocks','giveaways',\n",
    "               'hits','shot_pct','shots_attempted','takeaways','zs_offense_pct','height','weight']\n",
    "df_all_nn=df_all_nn[cols_to_norm].apply(lambda x: (x - x.mean()) / (x.max() - x.min()))"
   ]
  },
  {
   "cell_type": "code",
   "execution_count": 17,
   "metadata": {
    "collapsed": false
   },
   "outputs": [
    {
     "data": {
      "text/html": [
       "<div>\n",
       "<table border=\"1\" class=\"dataframe\">\n",
       "  <thead>\n",
       "    <tr style=\"text-align: right;\">\n",
       "      <th></th>\n",
       "      <th>goals_ev</th>\n",
       "      <th>goals_pp</th>\n",
       "      <th>goals_sh</th>\n",
       "      <th>assists_ev</th>\n",
       "      <th>assists_pp</th>\n",
       "      <th>assists_sh</th>\n",
       "      <th>shots_attempted</th>\n",
       "      <th>shots_attempted</th>\n",
       "      <th>age_y</th>\n",
       "      <th>blocks</th>\n",
       "      <th>giveaways</th>\n",
       "      <th>hits</th>\n",
       "      <th>shot_pct</th>\n",
       "      <th>shots_attempted</th>\n",
       "      <th>shots_attempted</th>\n",
       "      <th>takeaways</th>\n",
       "      <th>zs_offense_pct</th>\n",
       "      <th>height</th>\n",
       "      <th>weight</th>\n",
       "    </tr>\n",
       "  </thead>\n",
       "  <tbody>\n",
       "    <tr>\n",
       "      <th>0</th>\n",
       "      <td>-0.108012</td>\n",
       "      <td>-0.032897</td>\n",
       "      <td>-0.008061</td>\n",
       "      <td>-0.177088</td>\n",
       "      <td>-0.062086</td>\n",
       "      <td>-0.020775</td>\n",
       "      <td>0.092108</td>\n",
       "      <td>0.092108</td>\n",
       "      <td>-0.290891</td>\n",
       "      <td>-0.203475</td>\n",
       "      <td>-0.136367</td>\n",
       "      <td>0.173870</td>\n",
       "      <td>-0.080549</td>\n",
       "      <td>0.092108</td>\n",
       "      <td>0.092108</td>\n",
       "      <td>0.079107</td>\n",
       "      <td>0.091405</td>\n",
       "      <td>0.047091</td>\n",
       "      <td>0.125788</td>\n",
       "    </tr>\n",
       "    <tr>\n",
       "      <th>1</th>\n",
       "      <td>-0.108012</td>\n",
       "      <td>-0.032897</td>\n",
       "      <td>-0.008061</td>\n",
       "      <td>-0.177088</td>\n",
       "      <td>-0.062086</td>\n",
       "      <td>-0.020775</td>\n",
       "      <td>0.046275</td>\n",
       "      <td>0.046275</td>\n",
       "      <td>-0.238260</td>\n",
       "      <td>-0.203475</td>\n",
       "      <td>0.030300</td>\n",
       "      <td>0.031013</td>\n",
       "      <td>-0.080549</td>\n",
       "      <td>0.046275</td>\n",
       "      <td>0.046275</td>\n",
       "      <td>-0.213862</td>\n",
       "      <td>0.158405</td>\n",
       "      <td>0.047091</td>\n",
       "      <td>0.125788</td>\n",
       "    </tr>\n",
       "    <tr>\n",
       "      <th>2</th>\n",
       "      <td>-0.048012</td>\n",
       "      <td>-0.032897</td>\n",
       "      <td>-0.008061</td>\n",
       "      <td>-0.117088</td>\n",
       "      <td>-0.062086</td>\n",
       "      <td>-0.020775</td>\n",
       "      <td>-0.016057</td>\n",
       "      <td>-0.016057</td>\n",
       "      <td>-0.185628</td>\n",
       "      <td>-0.091814</td>\n",
       "      <td>-0.089700</td>\n",
       "      <td>0.251013</td>\n",
       "      <td>-0.042549</td>\n",
       "      <td>-0.016057</td>\n",
       "      <td>-0.016057</td>\n",
       "      <td>-0.131830</td>\n",
       "      <td>0.154405</td>\n",
       "      <td>0.047091</td>\n",
       "      <td>0.125788</td>\n",
       "    </tr>\n",
       "    <tr>\n",
       "      <th>3</th>\n",
       "      <td>-0.013418</td>\n",
       "      <td>-0.032897</td>\n",
       "      <td>-0.008061</td>\n",
       "      <td>-0.028439</td>\n",
       "      <td>-0.062086</td>\n",
       "      <td>0.046792</td>\n",
       "      <td>0.005397</td>\n",
       "      <td>0.005397</td>\n",
       "      <td>-0.132997</td>\n",
       "      <td>-0.056354</td>\n",
       "      <td>-0.046277</td>\n",
       "      <td>0.179662</td>\n",
       "      <td>-0.026549</td>\n",
       "      <td>0.005397</td>\n",
       "      <td>0.005397</td>\n",
       "      <td>-0.079254</td>\n",
       "      <td>0.079405</td>\n",
       "      <td>0.047091</td>\n",
       "      <td>0.125788</td>\n",
       "    </tr>\n",
       "    <tr>\n",
       "      <th>4</th>\n",
       "      <td>-0.009247</td>\n",
       "      <td>-0.032897</td>\n",
       "      <td>-0.008061</td>\n",
       "      <td>-0.004248</td>\n",
       "      <td>-0.062086</td>\n",
       "      <td>-0.020775</td>\n",
       "      <td>-0.052746</td>\n",
       "      <td>-0.052746</td>\n",
       "      <td>-0.080365</td>\n",
       "      <td>-0.058730</td>\n",
       "      <td>-0.078754</td>\n",
       "      <td>0.077751</td>\n",
       "      <td>-0.014549</td>\n",
       "      <td>-0.052746</td>\n",
       "      <td>-0.052746</td>\n",
       "      <td>-0.098121</td>\n",
       "      <td>0.084405</td>\n",
       "      <td>0.047091</td>\n",
       "      <td>0.125788</td>\n",
       "    </tr>\n",
       "  </tbody>\n",
       "</table>\n",
       "</div>"
      ],
      "text/plain": [
       "   goals_ev  goals_pp  goals_sh  assists_ev  assists_pp  assists_sh  \\\n",
       "0 -0.108012 -0.032897 -0.008061   -0.177088   -0.062086   -0.020775   \n",
       "1 -0.108012 -0.032897 -0.008061   -0.177088   -0.062086   -0.020775   \n",
       "2 -0.048012 -0.032897 -0.008061   -0.117088   -0.062086   -0.020775   \n",
       "3 -0.013418 -0.032897 -0.008061   -0.028439   -0.062086    0.046792   \n",
       "4 -0.009247 -0.032897 -0.008061   -0.004248   -0.062086   -0.020775   \n",
       "\n",
       "   shots_attempted  shots_attempted     age_y    blocks  giveaways      hits  \\\n",
       "0         0.092108         0.092108 -0.290891 -0.203475  -0.136367  0.173870   \n",
       "1         0.046275         0.046275 -0.238260 -0.203475   0.030300  0.031013   \n",
       "2        -0.016057        -0.016057 -0.185628 -0.091814  -0.089700  0.251013   \n",
       "3         0.005397         0.005397 -0.132997 -0.056354  -0.046277  0.179662   \n",
       "4        -0.052746        -0.052746 -0.080365 -0.058730  -0.078754  0.077751   \n",
       "\n",
       "   shot_pct  shots_attempted  shots_attempted  takeaways  zs_offense_pct  \\\n",
       "0 -0.080549         0.092108         0.092108   0.079107        0.091405   \n",
       "1 -0.080549         0.046275         0.046275  -0.213862        0.158405   \n",
       "2 -0.042549        -0.016057        -0.016057  -0.131830        0.154405   \n",
       "3 -0.026549         0.005397         0.005397  -0.079254        0.079405   \n",
       "4 -0.014549        -0.052746        -0.052746  -0.098121        0.084405   \n",
       "\n",
       "     height    weight  \n",
       "0  0.047091  0.125788  \n",
       "1  0.047091  0.125788  \n",
       "2  0.047091  0.125788  \n",
       "3  0.047091  0.125788  \n",
       "4  0.047091  0.125788  "
      ]
     },
     "execution_count": 17,
     "metadata": {},
     "output_type": "execute_result"
    }
   ],
   "source": [
    "df_all_nn.head()"
   ]
  },
  {
   "cell_type": "code",
   "execution_count": 18,
   "metadata": {
    "collapsed": true
   },
   "outputs": [],
   "source": [
    "df_all_nn['goals_all']=df_all['goals_all']"
   ]
  },
  {
   "cell_type": "code",
   "execution_count": 19,
   "metadata": {
    "collapsed": false
   },
   "outputs": [],
   "source": [
    "df_all_nn['age_y'] = df_all_nn['age_y'].apply(lambda x: abs(x))"
   ]
  },
  {
   "cell_type": "code",
   "execution_count": 20,
   "metadata": {
    "collapsed": false
   },
   "outputs": [],
   "source": [
    "df_all_nn=df_all_nn.reset_index(drop=True)"
   ]
  },
  {
   "cell_type": "code",
   "execution_count": 21,
   "metadata": {
    "collapsed": false
   },
   "outputs": [
    {
     "data": {
      "text/html": [
       "<div>\n",
       "<table border=\"1\" class=\"dataframe\">\n",
       "  <thead>\n",
       "    <tr style=\"text-align: right;\">\n",
       "      <th></th>\n",
       "      <th>goals_ev</th>\n",
       "      <th>goals_pp</th>\n",
       "      <th>goals_sh</th>\n",
       "      <th>assists_ev</th>\n",
       "      <th>assists_pp</th>\n",
       "      <th>assists_sh</th>\n",
       "      <th>shots_attempted</th>\n",
       "      <th>shots_attempted</th>\n",
       "      <th>age_y</th>\n",
       "      <th>blocks</th>\n",
       "      <th>giveaways</th>\n",
       "      <th>hits</th>\n",
       "      <th>shot_pct</th>\n",
       "      <th>shots_attempted</th>\n",
       "      <th>shots_attempted</th>\n",
       "      <th>takeaways</th>\n",
       "      <th>zs_offense_pct</th>\n",
       "      <th>height</th>\n",
       "      <th>weight</th>\n",
       "      <th>goals_all</th>\n",
       "    </tr>\n",
       "  </thead>\n",
       "  <tbody>\n",
       "    <tr>\n",
       "      <th>0</th>\n",
       "      <td>-0.108012</td>\n",
       "      <td>-0.032897</td>\n",
       "      <td>-0.008061</td>\n",
       "      <td>-0.177088</td>\n",
       "      <td>-0.062086</td>\n",
       "      <td>-0.020775</td>\n",
       "      <td>0.092108</td>\n",
       "      <td>0.092108</td>\n",
       "      <td>0.290891</td>\n",
       "      <td>-0.203475</td>\n",
       "      <td>-0.136367</td>\n",
       "      <td>0.173870</td>\n",
       "      <td>-0.080549</td>\n",
       "      <td>0.092108</td>\n",
       "      <td>0.092108</td>\n",
       "      <td>0.079107</td>\n",
       "      <td>0.091405</td>\n",
       "      <td>0.047091</td>\n",
       "      <td>0.125788</td>\n",
       "      <td>0.000000</td>\n",
       "    </tr>\n",
       "    <tr>\n",
       "      <th>1</th>\n",
       "      <td>-0.108012</td>\n",
       "      <td>-0.032897</td>\n",
       "      <td>-0.008061</td>\n",
       "      <td>-0.177088</td>\n",
       "      <td>-0.062086</td>\n",
       "      <td>-0.020775</td>\n",
       "      <td>0.046275</td>\n",
       "      <td>0.046275</td>\n",
       "      <td>0.238260</td>\n",
       "      <td>-0.203475</td>\n",
       "      <td>0.030300</td>\n",
       "      <td>0.031013</td>\n",
       "      <td>-0.080549</td>\n",
       "      <td>0.046275</td>\n",
       "      <td>0.046275</td>\n",
       "      <td>-0.213862</td>\n",
       "      <td>0.158405</td>\n",
       "      <td>0.047091</td>\n",
       "      <td>0.125788</td>\n",
       "      <td>0.060000</td>\n",
       "    </tr>\n",
       "    <tr>\n",
       "      <th>2</th>\n",
       "      <td>-0.048012</td>\n",
       "      <td>-0.032897</td>\n",
       "      <td>-0.008061</td>\n",
       "      <td>-0.117088</td>\n",
       "      <td>-0.062086</td>\n",
       "      <td>-0.020775</td>\n",
       "      <td>-0.016057</td>\n",
       "      <td>-0.016057</td>\n",
       "      <td>0.185628</td>\n",
       "      <td>-0.091814</td>\n",
       "      <td>-0.089700</td>\n",
       "      <td>0.251013</td>\n",
       "      <td>-0.042549</td>\n",
       "      <td>-0.016057</td>\n",
       "      <td>-0.016057</td>\n",
       "      <td>-0.131830</td>\n",
       "      <td>0.154405</td>\n",
       "      <td>0.047091</td>\n",
       "      <td>0.125788</td>\n",
       "      <td>0.094595</td>\n",
       "    </tr>\n",
       "    <tr>\n",
       "      <th>3</th>\n",
       "      <td>-0.013418</td>\n",
       "      <td>-0.032897</td>\n",
       "      <td>-0.008061</td>\n",
       "      <td>-0.028439</td>\n",
       "      <td>-0.062086</td>\n",
       "      <td>0.046792</td>\n",
       "      <td>0.005397</td>\n",
       "      <td>0.005397</td>\n",
       "      <td>0.132997</td>\n",
       "      <td>-0.056354</td>\n",
       "      <td>-0.046277</td>\n",
       "      <td>0.179662</td>\n",
       "      <td>-0.026549</td>\n",
       "      <td>0.005397</td>\n",
       "      <td>0.005397</td>\n",
       "      <td>-0.079254</td>\n",
       "      <td>0.079405</td>\n",
       "      <td>0.047091</td>\n",
       "      <td>0.125788</td>\n",
       "      <td>0.098765</td>\n",
       "    </tr>\n",
       "    <tr>\n",
       "      <th>4</th>\n",
       "      <td>-0.009247</td>\n",
       "      <td>-0.032897</td>\n",
       "      <td>-0.008061</td>\n",
       "      <td>-0.004248</td>\n",
       "      <td>-0.062086</td>\n",
       "      <td>-0.020775</td>\n",
       "      <td>-0.052746</td>\n",
       "      <td>-0.052746</td>\n",
       "      <td>0.080365</td>\n",
       "      <td>-0.058730</td>\n",
       "      <td>-0.078754</td>\n",
       "      <td>0.077751</td>\n",
       "      <td>-0.014549</td>\n",
       "      <td>-0.052746</td>\n",
       "      <td>-0.052746</td>\n",
       "      <td>-0.098121</td>\n",
       "      <td>0.084405</td>\n",
       "      <td>0.047091</td>\n",
       "      <td>0.125788</td>\n",
       "      <td>0.208333</td>\n",
       "    </tr>\n",
       "  </tbody>\n",
       "</table>\n",
       "</div>"
      ],
      "text/plain": [
       "   goals_ev  goals_pp  goals_sh  assists_ev  assists_pp  assists_sh  \\\n",
       "0 -0.108012 -0.032897 -0.008061   -0.177088   -0.062086   -0.020775   \n",
       "1 -0.108012 -0.032897 -0.008061   -0.177088   -0.062086   -0.020775   \n",
       "2 -0.048012 -0.032897 -0.008061   -0.117088   -0.062086   -0.020775   \n",
       "3 -0.013418 -0.032897 -0.008061   -0.028439   -0.062086    0.046792   \n",
       "4 -0.009247 -0.032897 -0.008061   -0.004248   -0.062086   -0.020775   \n",
       "\n",
       "   shots_attempted  shots_attempted     age_y    blocks  giveaways      hits  \\\n",
       "0         0.092108         0.092108  0.290891 -0.203475  -0.136367  0.173870   \n",
       "1         0.046275         0.046275  0.238260 -0.203475   0.030300  0.031013   \n",
       "2        -0.016057        -0.016057  0.185628 -0.091814  -0.089700  0.251013   \n",
       "3         0.005397         0.005397  0.132997 -0.056354  -0.046277  0.179662   \n",
       "4        -0.052746        -0.052746  0.080365 -0.058730  -0.078754  0.077751   \n",
       "\n",
       "   shot_pct  shots_attempted  shots_attempted  takeaways  zs_offense_pct  \\\n",
       "0 -0.080549         0.092108         0.092108   0.079107        0.091405   \n",
       "1 -0.080549         0.046275         0.046275  -0.213862        0.158405   \n",
       "2 -0.042549        -0.016057        -0.016057  -0.131830        0.154405   \n",
       "3 -0.026549         0.005397         0.005397  -0.079254        0.079405   \n",
       "4 -0.014549        -0.052746        -0.052746  -0.098121        0.084405   \n",
       "\n",
       "     height    weight  goals_all  \n",
       "0  0.047091  0.125788   0.000000  \n",
       "1  0.047091  0.125788   0.060000  \n",
       "2  0.047091  0.125788   0.094595  \n",
       "3  0.047091  0.125788   0.098765  \n",
       "4  0.047091  0.125788   0.208333  "
      ]
     },
     "execution_count": 21,
     "metadata": {},
     "output_type": "execute_result"
    }
   ],
   "source": [
    "df_all_nn.head()"
   ]
  },
  {
   "cell_type": "code",
   "execution_count": null,
   "metadata": {
    "collapsed": true
   },
   "outputs": [],
   "source": []
  },
  {
   "cell_type": "markdown",
   "metadata": {
    "collapsed": true
   },
   "source": [
    "### Ordinary Linear Regression"
   ]
  },
  {
   "cell_type": "code",
   "execution_count": 22,
   "metadata": {
    "collapsed": false
   },
   "outputs": [
    {
     "name": "stdout",
     "output_type": "stream",
     "text": [
      "0.0124641273365\n"
     ]
    }
   ],
   "source": [
    "\n",
    "features = ['goals_pp','goals_ev','goals_sh','assists_ev','assists_pp','assists_sh','age_y',\n",
    "               'hits','shots_attempted','takeaways','zs_offense_pct','weight','height']\n",
    "\n",
    "\n",
    "results_all_OLR=[]\n",
    "\n",
    "result=[]\n",
    "for k in range(0,100):\n",
    "    test_idx = np.random.uniform(0, 1, len(df_all_nn)) <= 0.8\n",
    "    train = df_all_nn[test_idx==True]\n",
    "    test = df_all_nn[test_idx==False]\n",
    "\n",
    "    train_goals_all=list(train['goals_all'])\n",
    "    train_data=train[features].as_matrix()\n",
    "    \n",
    "    test_data=test[features].as_matrix()\n",
    "    \n",
    "\n",
    "    model=sm.OLS(train_goals_all,train_data).fit()\n",
    "    \n",
    "    \n",
    "\n",
    "    preds = model.predict(test_data)\n",
    "    test_goals_all=list(test['goals_all'])\n",
    "    distance=0\n",
    "    for i in range(len(preds)):\n",
    "        if preds[i]<0:\n",
    "            distance += pow((test_goals_all[i]), 2)\n",
    "        else:    \n",
    "            distance += pow((test_goals_all[i]-preds[i]), 2)\n",
    "\n",
    "\n",
    "    result.append(distance)\n",
    "    \n",
    "    \n",
    "    \n",
    "print sum(result)/(len(result)*len(preds))\n",
    "    "
   ]
  },
  {
   "cell_type": "code",
   "execution_count": null,
   "metadata": {
    "collapsed": true
   },
   "outputs": [],
   "source": []
  },
  {
   "cell_type": "markdown",
   "metadata": {
    "collapsed": true
   },
   "source": [
    "### Ridge Regression"
   ]
  },
  {
   "cell_type": "code",
   "execution_count": 23,
   "metadata": {
    "collapsed": false
   },
   "outputs": [
    {
     "name": "stdout",
     "output_type": "stream",
     "text": [
      "[[1e-08, 0.007144765686152273], [1e-06, 0.0067898121542389308], [1e-05, 0.0071653504320413888], [0.0001, 0.0073428692239789536], [0.0005, 0.0073899995561716838], [0.001, 0.007612955466751844], [0.01, 0.01611527639858136]]\n"
     ]
    }
   ],
   "source": [
    "alpha_val=[1e-8, 1e-6, 1e-5, 1e-4, 5e-4, 1e-3, 1e-2]\n",
    "results_all_ridge=[]\n",
    "\n",
    "for alphaval in alpha_val:\n",
    "    result=[]\n",
    "    \n",
    "    for k in range(0,20):\n",
    "        test_idx = np.random.uniform(0, 1, len(df_all_nn)) <= 0.8\n",
    "        train = df_all_nn[test_idx==True]\n",
    "        test = df_all_nn[test_idx==False]\n",
    "\n",
    "        train_goals_all=list(train['goals_all'])\n",
    "        train_data=train[features].as_matrix()\n",
    "        #train_data=np.array(train_data).tolist()\n",
    "        test_data=test[features].as_matrix()\n",
    "        #test_data=np.array(test_data).tolist()\n",
    "\n",
    "        clfridge = Lasso(alpha=alphaval).fit(train_data,train_goals_all)\n",
    "\n",
    "        preds = clfridge.predict(test_data)\n",
    "        test_goals_all=list(test['goals_all'])\n",
    "        distance=0\n",
    "        for i in range(len(preds)):\n",
    "            distance += pow((test_goals_all[i]-preds[i]), 2)\n",
    "\n",
    "        \n",
    "        result.append(distance)\n",
    "    \n",
    "    results_all_ridge.append([alphaval, sum(result)/(len(result)*len(preds))])\n",
    "    \n",
    "print results_all_ridge\n",
    "    "
   ]
  },
  {
   "cell_type": "code",
   "execution_count": 24,
   "metadata": {
    "collapsed": false
   },
   "outputs": [
    {
     "data": {
      "text/plain": [
       "<matplotlib.text.Text at 0x11a4d4490>"
      ]
     },
     "execution_count": 24,
     "metadata": {},
     "output_type": "execute_result"
    }
   ],
   "source": [
    "results_df_ridge = pd.DataFrame(results_all_ridge, columns=[\"Penalty\", \"error\"])\n",
    "\n",
    "pl.plot(results_df_ridge.Penalty, results_df_ridge.error)\n",
    "pl.title(\"Error with Increasing Penalty (Ridge)\")\n",
    "pl.xlabel('Penalty')\n",
    "pl.ylabel('Error')\n"
   ]
  },
  {
   "cell_type": "code",
   "execution_count": 25,
   "metadata": {
    "collapsed": false
   },
   "outputs": [
    {
     "data": {
      "text/html": [
       "<div>\n",
       "<table border=\"1\" class=\"dataframe\">\n",
       "  <thead>\n",
       "    <tr style=\"text-align: right;\">\n",
       "      <th></th>\n",
       "      <th>Penalty</th>\n",
       "      <th>error</th>\n",
       "    </tr>\n",
       "  </thead>\n",
       "  <tbody>\n",
       "    <tr>\n",
       "      <th>0</th>\n",
       "      <td>1.000000e-08</td>\n",
       "      <td>0.007145</td>\n",
       "    </tr>\n",
       "    <tr>\n",
       "      <th>1</th>\n",
       "      <td>1.000000e-06</td>\n",
       "      <td>0.006790</td>\n",
       "    </tr>\n",
       "    <tr>\n",
       "      <th>2</th>\n",
       "      <td>1.000000e-05</td>\n",
       "      <td>0.007165</td>\n",
       "    </tr>\n",
       "    <tr>\n",
       "      <th>3</th>\n",
       "      <td>1.000000e-04</td>\n",
       "      <td>0.007343</td>\n",
       "    </tr>\n",
       "    <tr>\n",
       "      <th>4</th>\n",
       "      <td>5.000000e-04</td>\n",
       "      <td>0.007390</td>\n",
       "    </tr>\n",
       "    <tr>\n",
       "      <th>5</th>\n",
       "      <td>1.000000e-03</td>\n",
       "      <td>0.007613</td>\n",
       "    </tr>\n",
       "    <tr>\n",
       "      <th>6</th>\n",
       "      <td>1.000000e-02</td>\n",
       "      <td>0.016115</td>\n",
       "    </tr>\n",
       "  </tbody>\n",
       "</table>\n",
       "</div>"
      ],
      "text/plain": [
       "        Penalty     error\n",
       "0  1.000000e-08  0.007145\n",
       "1  1.000000e-06  0.006790\n",
       "2  1.000000e-05  0.007165\n",
       "3  1.000000e-04  0.007343\n",
       "4  5.000000e-04  0.007390\n",
       "5  1.000000e-03  0.007613\n",
       "6  1.000000e-02  0.016115"
      ]
     },
     "execution_count": 25,
     "metadata": {},
     "output_type": "execute_result"
    }
   ],
   "source": [
    "results_df_ridge"
   ]
  },
  {
   "cell_type": "markdown",
   "metadata": {},
   "source": [
    "### Lasso Regression"
   ]
  },
  {
   "cell_type": "code",
   "execution_count": 26,
   "metadata": {
    "collapsed": false
   },
   "outputs": [
    {
     "name": "stdout",
     "output_type": "stream",
     "text": [
      "[[1e-08, 0.006702975928314754], [1e-06, 0.0071268098542970103], [1e-05, 0.0071148040279677876], [0.0001, 0.0071537542387298961], [0.0005, 0.0066646832916994305], [0.001, 0.0077077688120092075], [0.01, 0.01743664096160227]]\n"
     ]
    }
   ],
   "source": [
    "alpha_val=[1e-8, 1e-6, 1e-5, 1e-4, 5e-4, 1e-3, 1e-2]\n",
    "\n",
    "results_all_lasso=[]\n",
    "dict_coef={}\n",
    "dict_coef_sum={}\n",
    "for i in range(len(features)+3):\n",
    "    dict_coef[i]=0\n",
    "    dict_coef_sum[i]=0\n",
    "    \n",
    "for alphaval in alpha_val:\n",
    "    result=[]\n",
    "    \n",
    "    for k in range(0,100):\n",
    "        test_idx = np.random.uniform(0, 1, len(df_all_nn)) <= 0.8\n",
    "        train = df_all_nn[test_idx==True]\n",
    "        test = df_all_nn[test_idx==False]\n",
    "\n",
    "        train_goals_all=list(train['goals_all'])\n",
    "        train_data=train[features].as_matrix()\n",
    "        \n",
    "        test_data=test[features].as_matrix()\n",
    "        \n",
    "        clflasso = Lasso(alpha=alphaval).fit(train_data,train_goals_all)\n",
    "        coeffs=clflasso.coef_\n",
    "        \n",
    "        for elem in range(len(coeffs)):\n",
    "            if coeffs[elem]==0:\n",
    "                dict_coef[elem]=dict_coef[elem]+1\n",
    "            dict_coef_sum[elem]=dict_coef_sum[elem]+coeffs[elem]/float(800)\n",
    "            \n",
    "        preds = clflasso.predict(test_data)\n",
    "        test_goals_all=list(test['goals_all'])\n",
    "        distance=0\n",
    "        for i in range(len(preds)):\n",
    "            distance += pow((test_goals_all[i]-preds[i]), 2)\n",
    "\n",
    "        \n",
    "        result.append(distance)\n",
    "    \n",
    "    results_all_lasso.append([alphaval, sum(result)/(len(result)*len(preds))])\n",
    "    \n",
    "print results_all_lasso\n",
    "    "
   ]
  },
  {
   "cell_type": "code",
   "execution_count": null,
   "metadata": {
    "collapsed": false
   },
   "outputs": [],
   "source": []
  },
  {
   "cell_type": "code",
   "execution_count": null,
   "metadata": {
    "collapsed": false
   },
   "outputs": [],
   "source": []
  },
  {
   "cell_type": "code",
   "execution_count": 27,
   "metadata": {
    "collapsed": false
   },
   "outputs": [
    {
     "data": {
      "text/plain": [
       "{0: 0.4358369900764949,\n",
       " 1: 0.34961144888621254,\n",
       " 2: 0.079574476313335502,\n",
       " 3: 0.034963206750810646,\n",
       " 4: -0.0072446215739961611,\n",
       " 5: -0.007138875050858114,\n",
       " 6: -0.0050534935264888361,\n",
       " 7: -0.012228335123919763,\n",
       " 8: 0.13294798058590346,\n",
       " 9: 9.747659091825816e-17,\n",
       " 10: 3.111883840032928e-18,\n",
       " 11: 2.3631133563608581e-18,\n",
       " 12: 0.087313138576911614,\n",
       " 13: 0.021752257081922442,\n",
       " 14: 0.0020858456901230375,\n",
       " 15: -0.011238419605777117}"
      ]
     },
     "execution_count": 27,
     "metadata": {},
     "output_type": "execute_result"
    }
   ],
   "source": [
    "dict_coef_sum"
   ]
  },
  {
   "cell_type": "code",
   "execution_count": 28,
   "metadata": {
    "collapsed": false
   },
   "outputs": [
    {
     "data": {
      "text/plain": [
       "{'age_y': -0.0050534935264888361,\n",
       " 'assists_ev': 0.034963206750810646,\n",
       " 'assists_pp': -0.0072446215739961611,\n",
       " 'assists_sh': -0.007138875050858114,\n",
       " 'goals_ev': 0.34961144888621254,\n",
       " 'goals_pp': 0.4358369900764949,\n",
       " 'goals_sh': 0.079574476313335502,\n",
       " 'height': -0.011238419605777117,\n",
       " 'hits': -0.012228335123919763,\n",
       " 'shots_attempted': 2.3631133563608581e-18,\n",
       " 'takeaways': 0.087313138576911614,\n",
       " 'weight': 0.0020858456901230375,\n",
       " 'zs_offense_pct': 0.021752257081922442}"
      ]
     },
     "execution_count": 28,
     "metadata": {},
     "output_type": "execute_result"
    }
   ],
   "source": [
    "dict(zip(train[features].columns, dict_coef_sum.values()))"
   ]
  },
  {
   "cell_type": "code",
   "execution_count": null,
   "metadata": {
    "collapsed": false
   },
   "outputs": [],
   "source": []
  },
  {
   "cell_type": "code",
   "execution_count": 29,
   "metadata": {
    "collapsed": false
   },
   "outputs": [
    {
     "data": {
      "text/plain": [
       "[100, 100, 324, 100, 404, 400, 317, 222, 2, 290, 428, 427, 100, 289, 392, 274]"
      ]
     },
     "execution_count": 29,
     "metadata": {},
     "output_type": "execute_result"
    }
   ],
   "source": [
    "dict_coef.values()"
   ]
  },
  {
   "cell_type": "code",
   "execution_count": 30,
   "metadata": {
    "collapsed": false
   },
   "outputs": [
    {
     "data": {
      "text/plain": [
       "<matplotlib.text.Text at 0x11a4d4490>"
      ]
     },
     "execution_count": 30,
     "metadata": {},
     "output_type": "execute_result"
    }
   ],
   "source": [
    "results_df_lasso = pd.DataFrame(results_all_lasso, columns=[\"Penalty\", \"error\"])\n",
    "\n",
    "pl.plot(results_df_lasso.Penalty, results_df_lasso.error)\n",
    "pl.title(\"Error with Increasing Penalty (Lasso)\")\n",
    "pl.xlabel('Penalty')\n",
    "pl.ylabel('Error')\n"
   ]
  },
  {
   "cell_type": "code",
   "execution_count": null,
   "metadata": {
    "collapsed": false
   },
   "outputs": [],
   "source": []
  },
  {
   "cell_type": "code",
   "execution_count": null,
   "metadata": {
    "collapsed": false
   },
   "outputs": [],
   "source": []
  },
  {
   "cell_type": "code",
   "execution_count": null,
   "metadata": {
    "collapsed": false
   },
   "outputs": [],
   "source": []
  },
  {
   "cell_type": "code",
   "execution_count": null,
   "metadata": {
    "collapsed": true
   },
   "outputs": [],
   "source": []
  }
 ],
 "metadata": {
  "anaconda-cloud": {},
  "kernelspec": {
   "display_name": "Python [Root]",
   "language": "python",
   "name": "Python [Root]"
  },
  "language_info": {
   "codemirror_mode": {
    "name": "ipython",
    "version": 2
   },
   "file_extension": ".py",
   "mimetype": "text/x-python",
   "name": "python",
   "nbconvert_exporter": "python",
   "pygments_lexer": "ipython2",
   "version": "2.7.12"
  }
 },
 "nbformat": 4,
 "nbformat_minor": 0
}
