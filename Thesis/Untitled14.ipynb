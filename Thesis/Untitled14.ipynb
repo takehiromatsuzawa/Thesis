{
 "cells": [
  {
   "cell_type": "code",
   "execution_count": null,
   "metadata": {
    "collapsed": true
   },
   "outputs": [],
   "source": [
    "binary search tree\n",
    "\n",
    "given binary search tree is valid"
   ]
  },
  {
   "cell_type": "code",
   "execution_count": 1,
   "metadata": {
    "collapsed": true
   },
   "outputs": [],
   "source": [
    "class node:\n",
    "    def __init__(self,val):\n",
    "        self.val=val\n",
    "        self.right=None\n",
    "        self.left=None"
   ]
  },
  {
   "cell_type": "code",
   "execution_count": null,
   "metadata": {
    "collapsed": true
   },
   "outputs": [],
   "source": [
    "  8\n",
    " 5   11\n",
    "3 6  12  13\n",
    "mini 8\n",
    "maxi 11"
   ]
  },
  {
   "cell_type": "code",
   "execution_count": 2,
   "metadata": {
    "collapsed": true
   },
   "outputs": [],
   "source": [
    "def is_BST(root,mini,maxi):\n",
    "    if root==None:\n",
    "        return True\n",
    "    else:\n",
    "        if root.val<=mini or root.val>=maxi:\n",
    "            return False\n",
    "        else:\n",
    "            return is_BST(root.left,mini,root.val) and is_BST(root.right,root.val,maxi)"
   ]
  },
  {
   "cell_type": "code",
   "execution_count": null,
   "metadata": {
    "collapsed": true
   },
   "outputs": [],
   "source": [
    "is_BST(root,-intmax,+intmax)\n",
    "mini -intmax\n",
    "maxi 5"
   ]
  },
  {
   "cell_type": "code",
   "execution_count": null,
   "metadata": {
    "collapsed": true
   },
   "outputs": [],
   "source": [
    "singly linked list\n",
    "\n",
    "nodes are just number\n",
    "unique label\n",
    "reverse linked list"
   ]
  },
  {
   "cell_type": "code",
   "execution_count": 3,
   "metadata": {
    "collapsed": true
   },
   "outputs": [],
   "source": [
    "class linked_list:\n",
    "    def __init__(self):\n",
    "        self.head=None\n",
    "    \n",
    "class Node:\n",
    "    def __init__(self,val):\n",
    "        self.val=val\n",
    "        self.next=None\n",
    "    "
   ]
  },
  {
   "cell_type": "code",
   "execution_count": 4,
   "metadata": {
    "collapsed": true
   },
   "outputs": [],
   "source": [
    "def reverse(linked):\n",
    "    curr_node=linked.head\n",
    "    prev_node=None\n",
    "    next_node=None\n",
    "    \n",
    "    while curr_node!=None:\n",
    "        next_node=curr_node.next\n",
    "        curr_node.next=prev_node\n",
    "        prev_node=curr_node\n",
    "        curr_node=next_node\n",
    "    \n",
    "    return prev_node"
   ]
  },
  {
   "cell_type": "code",
   "execution_count": 5,
   "metadata": {
    "collapsed": true
   },
   "outputs": [],
   "source": [
    "node1=Node(1)\n",
    "node2=Node(2)\n",
    "node3=Node(3)\n",
    "node1.next=node2\n",
    "node2.next=node3"
   ]
  },
  {
   "cell_type": "code",
   "execution_count": 9,
   "metadata": {
    "collapsed": false
   },
   "outputs": [],
   "source": [
    "linked=linked_list()\n",
    "linked.head=node1"
   ]
  },
  {
   "cell_type": "code",
   "execution_count": 10,
   "metadata": {
    "collapsed": true
   },
   "outputs": [],
   "source": [
    "linked.head=reverse(linked)"
   ]
  },
  {
   "cell_type": "code",
   "execution_count": 11,
   "metadata": {
    "collapsed": false
   },
   "outputs": [
    {
     "data": {
      "text/plain": [
       "3"
      ]
     },
     "execution_count": 11,
     "metadata": {},
     "output_type": "execute_result"
    }
   ],
   "source": [
    "linked.head.val"
   ]
  },
  {
   "cell_type": "code",
   "execution_count": 13,
   "metadata": {
    "collapsed": false
   },
   "outputs": [
    {
     "data": {
      "text/plain": [
       "2"
      ]
     },
     "execution_count": 13,
     "metadata": {},
     "output_type": "execute_result"
    }
   ],
   "source": [
    "linked.head.next.val"
   ]
  },
  {
   "cell_type": "code",
   "execution_count": null,
   "metadata": {
    "collapsed": true
   },
   "outputs": [],
   "source": []
  }
 ],
 "metadata": {
  "kernelspec": {
   "display_name": "Python 2",
   "language": "python",
   "name": "python2"
  },
  "language_info": {
   "codemirror_mode": {
    "name": "ipython",
    "version": 2
   },
   "file_extension": ".py",
   "mimetype": "text/x-python",
   "name": "python",
   "nbconvert_exporter": "python",
   "pygments_lexer": "ipython2",
   "version": "2.7.11"
  }
 },
 "nbformat": 4,
 "nbformat_minor": 0
}
