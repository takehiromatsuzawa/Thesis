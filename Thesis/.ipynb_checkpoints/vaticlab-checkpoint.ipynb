{
 "cells": [
  {
   "cell_type": "code",
   "execution_count": 1,
   "metadata": {
    "collapsed": true
   },
   "outputs": [],
   "source": []
  },
  {
   "cell_type": "code",
   "execution_count": 210,
   "metadata": {
    "collapsed": false
   },
   "outputs": [],
   "source": [
    "quotefile = open('quote1.txt', 'r')\n",
    "quotelist=quotefile.readlines()"
   ]
  },
  {
   "cell_type": "code",
   "execution_count": 211,
   "metadata": {
    "collapsed": false
   },
   "outputs": [],
   "source": [
    "tradefile = open('trade1.txt', 'r')\n",
    "tradelist=tradefile.readlines()"
   ]
  },
  {
   "cell_type": "code",
   "execution_count": 270,
   "metadata": {
    "collapsed": false
   },
   "outputs": [],
   "source": [
    "tradelistlist=[]\n",
    "for elem in tradelist[1:]:\n",
    "    elemsplit=elem.split(',')\n",
    "    elemsplit=[int(elemsplit[0])]+[elemsplit[1]]+[elemsplit[2]]+[float(elemsplit[3])]+[int(elemsplit[4])]\n",
    "    tradelistlist.append(elemsplit)\n",
    "quotelistlist=[]\n",
    "for elem in quotelist[1:]:\n",
    "    elemsplit=elem.split(',')\n",
    "    elemsplit=[int(elemsplit[0])]+[elemsplit[1]]+[float(elemsplit[2])]+[float(elemsplit[3])]\n",
    "    quotelistlist.append(elemsplit)\n",
    "\n",
    "dicttradelist=[]\n",
    "for ith in tradelistlist:\n",
    "    dicttradeeach={}\n",
    "    dicttradeeach['time']=ith[0]\n",
    "    dicttradeeach['name']=ith[1]\n",
    "    dicttradeeach['side']=ith[2]\n",
    "    dicttradeeach['price']=ith[3]\n",
    "    dicttradeeach['quantity']=ith[4]\n",
    "    dicttradelist.append(dicttradeeach)\n",
    "\n",
    "dictquotelist=[]\n",
    "for ith in quotelistlist:\n",
    "    dictquoteeach={}\n",
    "    dictquoteeach['time']=ith[0]\n",
    "    dictquoteeach['name']=ith[1]\n",
    "    dictquoteeach['BID']=ith[2]\n",
    "    dictquoteeach['ASK']=ith[3]\n",
    "    dictquotelist.append(dictquoteeach)\n",
    "tradelistlist=dicttradelist\n",
    "quotelistlist=dictquotelist"
   ]
  },
  {
   "cell_type": "code",
   "execution_count": 271,
   "metadata": {
    "collapsed": false
   },
   "outputs": [
    {
     "name": "stdout",
     "output_type": "stream",
     "text": [
      "{'ASK': 10.06, 'BID': 10.05, 'name': 'ABC', 'time': 1} quote\n",
      "{'ASK': 35.99, 'BID': 35.95, 'name': 'DEF', 'time': 1} quote\n",
      "{'ASK': 76.42, 'BID': 76.34, 'name': 'GHI', 'time': 2} quote\n",
      "{'price': 10.06, 'quantity': 500, 'side': 'B', 'name': 'ABC', 'time': 2} trade\n",
      "aggre\n",
      "{'ABC': {'BID': 10.05, 'liquidity': 'A', 'side': 'B', 'time': 2, 'ASK': 10.06, 'price': 10.06, 'quantity': 500}}\n",
      "{'ASK': 10.07, 'BID': 10.06, 'name': 'ABC', 'time': 3} quote\n",
      "{'price': 35.99, 'quantity': 200, 'side': 'S', 'name': 'DEF', 'time': 4} trade\n",
      "passi\n",
      "Sell\n",
      "{'price': 35.99, 'quantity': 200, 'side': 'S', 'name': 'DEF', 'time': 4}\n",
      "{'price': 10.07, 'quantity': 200, 'side': 'S', 'name': 'ABC', 'time': 4} trade\n",
      "passi\n",
      "Sell\n",
      "{'price': 10.07, 'quantity': 200, 'side': 'S', 'name': 'ABC', 'time': 4}\n",
      "test\n",
      "{'BID': 10.05, 'liquidity': 'A', 'side': 'B', 'time': 2, 'ASK': 10.06, 'price': 10.06, 'quantity': 500}\n",
      "\n",
      "2 4 4 ABC 200\n",
      "2.0 B S 10.06\n",
      "10.07\n",
      "{'ASK': 36.03, 'BID': 35.97, 'name': 'DEF', 'time': 5} quote\n",
      "{'price': 10.07, 'quantity': 300, 'side': 'S', 'name': 'ABC', 'time': 5} trade\n",
      "passi\n",
      "Sell\n",
      "{'price': 10.07, 'quantity': 300, 'side': 'S', 'name': 'ABC', 'time': 5}\n",
      "test\n",
      "{'BID': 10.05, 'liquidity': 'A', 'side': 'B', 'time': 2, 'ASK': 10.06, 'price': 10.06, 'quantity': 500}\n",
      "\n",
      "2 5 5 ABC 300\n",
      "3.0 B S 10.06\n",
      "10.07\n"
     ]
    }
   ],
   "source": [
    "timecount=0\n",
    "dictTrade={}\n",
    "dictRecord={}\n",
    "while tradelistlist!=[] or quotelistlist!=[]:\n",
    "\n",
    "    while quotelistlist!=[] and quotelistlist[0]['time']==timecount:\n",
    "        popped=quotelistlist.pop(0)\n",
    "        dictnewTrade={}\n",
    "        dictnewTrade['BID']=popped['BID']\n",
    "        dictnewTrade['ASK']=popped['ASK']\n",
    "        dictTrade[popped['name']]=dictnewTrade\n",
    "        \n",
    "        print popped,'quote'\n",
    "    \n",
    "    while tradelistlist!=[] and tradelistlist[0]['time']==timecount:\n",
    "        popped=tradelistlist.pop(0)\n",
    "        print popped,'trade'\n",
    "        \n",
    "        if popped['side']=='S':    \n",
    "            if dictTrade[popped['name']]['ASK']<=popped['price']:\n",
    "                \n",
    "                print 'passi'\n",
    "                print 'Sell'\n",
    "                print popped\n",
    "                if popped['name'] in dictRecord:\n",
    "                    currdict=dictRecord[popped['name']]\n",
    "                    print 'test'\n",
    "                    print currdict\n",
    "                    print\n",
    "                    print currdict['time'],timecount,popped['time'],popped['name'],popped['quantity']\n",
    "                    print popped['quantity']*(popped['price']-currdict['price']),currdict['side'],popped['side'],currdict['price']\n",
    "                    print popped['price']\n",
    "                    #currdict['BID'],popped['BID'],currdict['ASK'],popped['ASK']\n",
    "                \n",
    "            if dictTrade[popped['name']]['BID']>=popped['price']:\n",
    "                print 'aggre'\n",
    "                print 'Sell'\n",
    "                #print dictRecord[popped[1]]\n",
    "                if popped['name'] in dictRecord:\n",
    "                    currdict=dictRecord[popped['name']]\n",
    "                    print currdict\n",
    "                    \n",
    "        else:\n",
    "            if dictTrade[popped['name']]['BID']>=popped['price']:\n",
    "                \n",
    "                print 'passi'\n",
    "                dictnew={}\n",
    "                dictnew['time']=popped['time']\n",
    "                dictnew['BID']=dictTrade[popped['name']]['BID']\n",
    "                dictnew['ASK']=dictTrade[popped['name']]['ASK']\n",
    "                dictnew['side']=popped['side']\n",
    "                dictnew['price']=popped['price']\n",
    "                dictnew['quantity']=popped['quantity']\n",
    "                dictnew['liquidity']='P'\n",
    "                \n",
    "                dictRecord[popped['name']]=dictnew\n",
    "                print dictRecord\n",
    "                \n",
    "            if dictTrade[popped['name']]['ASK']<=popped['price']:\n",
    "                print 'aggre'\n",
    "                dictnew={}\n",
    "                dictnew['time']=popped['time']\n",
    "                dictnew['BID']=dictTrade[popped['name']]['BID']\n",
    "                dictnew['ASK']=dictTrade[popped['name']]['ASK']\n",
    "                dictnew['side']=popped['side']\n",
    "                dictnew['price']=popped['price']\n",
    "                dictnew['quantity']=popped['quantity']\n",
    "                dictnew['liquidity']='A'\n",
    "                \n",
    "                dictRecord[popped['name']]=dictnew\n",
    "                print dictRecord\n",
    "                \n",
    "        \n",
    "    \n",
    "    timecount=timecount+1\n",
    "    \n",
    "    "
   ]
  },
  {
   "cell_type": "code",
   "execution_count": 258,
   "metadata": {
    "collapsed": false
   },
   "outputs": [
    {
     "data": {
      "text/plain": [
       "['b', 'c', 'd']"
      ]
     },
     "execution_count": 258,
     "metadata": {},
     "output_type": "execute_result"
    }
   ],
   "source": [
    "a = ['a', 'b', 'c', 'd']\n",
    "a.pop(0)\n",
    "a"
   ]
  },
  {
   "cell_type": "code",
   "execution_count": null,
   "metadata": {
    "collapsed": true
   },
   "outputs": [],
   "source": []
  },
  {
   "cell_type": "code",
   "execution_count": 51,
   "metadata": {
    "collapsed": false
   },
   "outputs": [],
   "source": [
    "dicttrade={}\n",
    "for ith in range(1,len(tradelistlist)):\n",
    "    if tradelistlist[ith][1] in dicttrade:\n",
    "        dicttrade[tradelistlist[ith][1]].append(ith)\n",
    "    else:\n",
    "        dicttrade[tradelistlist[ith][1]]=[ith]"
   ]
  },
  {
   "cell_type": "code",
   "execution_count": null,
   "metadata": {
    "collapsed": true
   },
   "outputs": [],
   "source": []
  }
 ],
 "metadata": {
  "kernelspec": {
   "display_name": "Python 2",
   "language": "python",
   "name": "python2"
  },
  "language_info": {
   "codemirror_mode": {
    "name": "ipython",
    "version": 2
   },
   "file_extension": ".py",
   "mimetype": "text/x-python",
   "name": "python",
   "nbconvert_exporter": "python",
   "pygments_lexer": "ipython2",
   "version": "2.7.11"
  }
 },
 "nbformat": 4,
 "nbformat_minor": 0
}
