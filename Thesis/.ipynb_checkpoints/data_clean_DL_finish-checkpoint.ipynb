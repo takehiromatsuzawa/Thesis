{
 "cells": [
  {
   "cell_type": "code",
   "execution_count": 2,
   "metadata": {
    "collapsed": true
   },
   "outputs": [],
   "source": [
    "import csv\n",
    "import json\n",
    "import unicodedata\n",
    "import numpy as np\n",
    "import networkx as nx\n",
    "\n",
    "import requests\n",
    "import pandas as pd\n",
    "from pattern import web\n",
    "import matplotlib.pyplot as plt\n",
    "import re\n",
    "\n",
    "from matplotlib import rcParams\n",
    "from bs4 import BeautifulSoup"
   ]
  },
  {
   "cell_type": "code",
   "execution_count": 3,
   "metadata": {
    "collapsed": false
   },
   "outputs": [],
   "source": [
    "def n_mean_help(alist,k_num):\n",
    "    n_means=[]\n",
    "    sum_k=sum(alist[:k_num])\n",
    "    n_means.append(sum_k)\n",
    "    for ith in range(k_num,len(alist)):\n",
    "        sum_k=alist[ith]+sum_k\n",
    "        sum_k=-alist[ith-k_num]+sum_k\n",
    "        n_means.append(sum_k)\n",
    "    return n_means"
   ]
  },
  {
   "cell_type": "code",
   "execution_count": 4,
   "metadata": {
    "collapsed": false
   },
   "outputs": [],
   "source": [
    "def n_mean(df,colname,k_num):\n",
    "    response_vals=list(df[colname])\n",
    "    n_means_res=n_mean_help(response_vals,k_num)\n",
    "    lasts=[None]*(k_num)\n",
    "    n_means_res.extend(lasts)\n",
    "    n_means_res.pop(0)\n",
    "    return n_means_res"
   ]
  },
  {
   "cell_type": "code",
   "execution_count": null,
   "metadata": {
    "collapsed": true
   },
   "outputs": [],
   "source": []
  },
  {
   "cell_type": "code",
   "execution_count": 84,
   "metadata": {
    "collapsed": false
   },
   "outputs": [],
   "source": [
    "def clean_data(file_name):\n",
    "    games_data=pd.read_csv(file_name,index_col=False)\n",
    "\n",
    "    del games_data['Unnamed: 0']\n",
    "\n",
    "    games_data=games_data[(games_data['goals_all'] >= 0) & (games_data['assists_all'] >= 0)]\n",
    "    \n",
    "    predicted_assists=n_mean(games_data,'assists_all',5)\n",
    "    predicted_goals=n_mean(games_data,'goals_all',5)\n",
    "\n",
    "\n",
    "    games_data['response_assists']=predicted_assists\n",
    "    games_data['response_goal']=predicted_goals\n",
    "    games_data['response_points']=games_data['response_goal']+games_data['response_assists']\n",
    "\n",
    "\n",
    "    games_data=games_data.sort(['draft_years', 'Drafts','Year','ith_game'])\n",
    "    games_data=games_data.reset_index(drop=True)\n",
    "\n",
    "    games_data['gm_result']=games_data['gm_result'].replace(['W'], 1)\n",
    "    games_data['gm_result']=games_data['gm_result'].replace(['L'], 0)\n",
    "\n",
    "    games_data['gm_loc']=games_data['gm_loc'].replace(['Home'], 1)\n",
    "    games_data['gm_loc']=games_data['gm_loc'].replace(['Away'], 0)\n",
    "\n",
    "    \n",
    "    games_data['fc_win'].fillna(0, inplace=True)\n",
    "    games_data['fc_loss'].fillna(0, inplace=True)\n",
    "    games_data['fc_win']\n",
    "    frames = []\n",
    "    for ith in range(0,len(games_data)-10):\n",
    "        grouped_head=games_data.iloc[ith:(10+ith)]\n",
    "\n",
    "        ShotHand=grouped_head.iloc[0]['ShotHand']\n",
    "        Position=grouped_head.iloc[0]['Position']\n",
    "        Url=grouped_head.iloc[0]['Url']\n",
    "        Name=grouped_head.iloc[0]['Name']\n",
    "\n",
    "        Height=grouped_head.iloc[0]['Height']\n",
    "        Weight=grouped_head.iloc[0]['Weight']\n",
    "        Drafts=grouped_head.iloc[0]['Drafts']\n",
    "        draft_years=grouped_head.iloc[0]['draft_years']\n",
    "        \n",
    "        \n",
    "        \n",
    "        Response_Assists=grouped_head.iloc[0]['response_assists']\n",
    "        Response_Goal=grouped_head.iloc[0]['response_goal']\n",
    "        Response_Points=grouped_head.iloc[0]['response_points']\n",
    "        Year=grouped_head.iloc[0]['Year']\n",
    "        \n",
    "        Year=grouped_head.iloc[0]['Year']\n",
    "\n",
    "\n",
    "        mean_row=grouped_head[['gm_result','age','ith_game','gm_loc','goals_all','assists_all','plus_minus','pen_min','goals_ev',\\\n",
    "                    'goals_pp', 'goals_sh', 'assists_pp','assists_ev', 'assists_sh', 'num_shifts', 'time_on_ice',\\\n",
    "                   'hits_all', 'blocks_all', 'fc_win', 'fc_loss' ]].mean()\n",
    "        new_df=mean_row.to_frame().T\n",
    "        new_df['ShotHand']=ShotHand\n",
    "        new_df['Position']=Position\n",
    "        new_df['Url']=Url\n",
    "        new_df['Name']=Name\n",
    "\n",
    "        new_df['response_assists']=Response_Assists\n",
    "        new_df['response_goal']=Response_Goal\n",
    "        new_df['response_points']=Response_Points\n",
    "        new_df['Year']=Year\n",
    "        \n",
    "        new_df['Height']=Height\n",
    "        new_df['Weight']=Weight\n",
    "        new_df['Drafts']=Drafts\n",
    "        new_df['draft_years']=draft_years\n",
    "\n",
    "        frames.append(new_df)\n",
    "\n",
    "    df_frames=pd.concat(frames,ignore_index=True)\n",
    "    new_df_frames=df_frames.groupby(['Url','Year'], as_index=False).apply(lambda x: x.iloc[:-5])\n",
    "    new_df_frames=new_df_frames.reset_index(drop=True)\n",
    "\n",
    "    return new_df_frames"
   ]
  },
  {
   "cell_type": "code",
   "execution_count": 85,
   "metadata": {
    "collapsed": true
   },
   "outputs": [],
   "source": [
    "def clean_year(year):\n",
    "    cleaned_data=clean_data('Data/Game_Data/games_data_'+str(year)+'.csv')\n",
    "    cleaned_data.to_csv('Data/Game_Data/clean_data/games_data_'+str(year)+'.csv')\n"
   ]
  },
  {
   "cell_type": "code",
   "execution_count": 90,
   "metadata": {
    "collapsed": false
   },
   "outputs": [
    {
     "name": "stdout",
     "output_type": "stream",
     "text": [
      "2015\n"
     ]
    },
    {
     "name": "stderr",
     "output_type": "stream",
     "text": [
      "/Users/takehiromatsuzawa/anaconda/lib/python2.7/site-packages/ipykernel/__main__.py:17: FutureWarning: sort(columns=....) is deprecated, use sort_values(by=.....)\n"
     ]
    }
   ],
   "source": [
    "for year in range(2015,2016):\n",
    "    print year\n",
    "    clean_year(year)\n"
   ]
  },
  {
   "cell_type": "code",
   "execution_count": 5,
   "metadata": {
    "collapsed": true
   },
   "outputs": [],
   "source": [
    "year=1994"
   ]
  },
  {
   "cell_type": "code",
   "execution_count": 17,
   "metadata": {
    "collapsed": false
   },
   "outputs": [],
   "source": [
    "new_df_frames=[]\n",
    "for year in range(1989,2016):\n",
    "    new_df_frames.append(pd.read_csv('Data/Game_Data/clean_data/games_data_'+str(year)+'.csv',index_col=False))\n"
   ]
  },
  {
   "cell_type": "code",
   "execution_count": 18,
   "metadata": {
    "collapsed": false
   },
   "outputs": [],
   "source": [
    "all_df=pd.concat(new_df_frames,ignore_index=True)\n",
    "del all_df['Unnamed: 0']\n"
   ]
  },
  {
   "cell_type": "code",
   "execution_count": 15,
   "metadata": {
    "collapsed": false
   },
   "outputs": [
    {
     "data": {
      "text/plain": [
       "Index([u'gm_result', u'age', u'ith_game', u'gm_loc', u'goals_all',\n",
       "       u'assists_all', u'plus_minus', u'pen_min', u'goals_ev', u'goals_pp',\n",
       "       u'goals_sh', u'assists_pp', u'assists_ev', u'assists_sh', u'num_shifts',\n",
       "       u'time_on_ice', u'hits_all', u'blocks_all', u'fc_win', u'fc_loss',\n",
       "       u'ShotHand', u'Position', u'Url', u'Name', u'response_assists',\n",
       "       u'response_goal', u'response_points', u'Year', u'Height', u'Weight',\n",
       "       u'Drafts', u'draft_years'],\n",
       "      dtype='object')"
      ]
     },
     "execution_count": 15,
     "metadata": {},
     "output_type": "execute_result"
    }
   ],
   "source": [
    "all_df.to_csv('Data/Game_Data/clean_data/all_games_data.csv')"
   ]
  },
  {
   "cell_type": "code",
   "execution_count": null,
   "metadata": {
    "collapsed": true
   },
   "outputs": [],
   "source": []
  }
 ],
 "metadata": {
  "anaconda-cloud": {},
  "kernelspec": {
   "display_name": "Python [Root]",
   "language": "python",
   "name": "Python [Root]"
  },
  "language_info": {
   "codemirror_mode": {
    "name": "ipython",
    "version": 2
   },
   "file_extension": ".py",
   "mimetype": "text/x-python",
   "name": "python",
   "nbconvert_exporter": "python",
   "pygments_lexer": "ipython2",
   "version": "2.7.12"
  }
 },
 "nbformat": 4,
 "nbformat_minor": 0
}
