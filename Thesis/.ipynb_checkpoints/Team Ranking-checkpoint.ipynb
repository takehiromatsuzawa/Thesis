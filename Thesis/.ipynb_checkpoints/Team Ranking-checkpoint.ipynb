{
 "cells": [
  {
   "cell_type": "code",
   "execution_count": 1,
   "metadata": {
    "collapsed": true
   },
   "outputs": [],
   "source": [
    "%matplotlib inline\n",
    "import numpy as np\n",
    "import scipy as sp\n",
    "import matplotlib as mpl\n",
    "import matplotlib.cm as cm\n",
    "import matplotlib.pyplot as plt\n",
    "import pandas as pd\n",
    "import time\n",
    "pd.set_option('display.width', 500)\n",
    "pd.set_option('display.max_columns', 100)\n",
    "pd.set_option('display.notebook_repr_html', True)\n",
    "import seaborn as sns\n",
    "sns.set_style(\"whitegrid\")\n",
    "sns.set_context(\"poster\")\n",
    "from bs4 import BeautifulSoup\n",
    "import requests\n",
    "import html5lib\n",
    "import datetime"
   ]
  },
  {
   "cell_type": "code",
   "execution_count": 2,
   "metadata": {
    "collapsed": true
   },
   "outputs": [],
   "source": [
    "today=datetime.date.today().strftime('%m/%d/%y')"
   ]
  },
  {
   "cell_type": "markdown",
   "metadata": {},
   "source": [
    "##I.  Team Ranking"
   ]
  },
  {
   "cell_type": "code",
   "execution_count": 3,
   "metadata": {
    "collapsed": false
   },
   "outputs": [],
   "source": [
    "r = requests.get(\"http://www.nhl.com/ice/standings.htm?season=20152016&type=LEA\")\n",
    "text = r.text\n",
    "hockey_data=pd.read_html(text)\n",
    "hockey=hockey_data[1].copy()\n",
    "hockey=hockey.rename(columns = {'Unnamed: 0':'Ranking'})\n",
    "hockey=hockey.rename(columns = {'Unnamed: 1':'Teams'})\n",
    "\n",
    "hockey.columns = ['Ranking', 'Teams', u'DIV', u'GP', u'W', u'L', u'OT', u'P', u'ROW', u'GF', u'GA', u'Diff', u'Home', u'Away', u'S/O',  u'L10', u'Streak']\n",
    "\n",
    "hockey['Pct']=(hockey['W']/hockey['GP'])"
   ]
  },
  {
   "cell_type": "code",
   "execution_count": 4,
   "metadata": {
    "collapsed": false
   },
   "outputs": [],
   "source": [
    "asdf=str(today)+'_NHL_standings.csv'"
   ]
  },
  {
   "cell_type": "code",
   "execution_count": null,
   "metadata": {
    "collapsed": false
   },
   "outputs": [],
   "source": []
  },
  {
   "cell_type": "code",
   "execution_count": 5,
   "metadata": {
    "collapsed": false
   },
   "outputs": [],
   "source": [
    "hockey.to_csv('asdf.csv', encoding='utf-8')"
   ]
  },
  {
   "cell_type": "code",
   "execution_count": 6,
   "metadata": {
    "collapsed": false
   },
   "outputs": [
    {
     "ename": "SyntaxError",
     "evalue": "invalid syntax (<ipython-input-6-47acbe389499>, line 1)",
     "output_type": "error",
     "traceback": [
      "\u001b[0;36m  File \u001b[0;32m\"<ipython-input-6-47acbe389499>\"\u001b[0;36m, line \u001b[0;32m1\u001b[0m\n\u001b[0;31m    hockey=hockey[]\u001b[0m\n\u001b[0m                  ^\u001b[0m\n\u001b[0;31mSyntaxError\u001b[0m\u001b[0;31m:\u001b[0m invalid syntax\n"
     ]
    }
   ],
   "source": [
    "hockey=hockey[]"
   ]
  },
  {
   "cell_type": "code",
   "execution_count": 7,
   "metadata": {
    "collapsed": false
   },
   "outputs": [
    {
     "ename": "IndexError",
     "evalue": "list index out of range",
     "output_type": "error",
     "traceback": [
      "\u001b[0;31m---------------------------------------------------------------------------\u001b[0m",
      "\u001b[0;31mIndexError\u001b[0m                                Traceback (most recent call last)",
      "\u001b[0;32m<ipython-input-7-8b50dcf9b839>\u001b[0m in \u001b[0;36m<module>\u001b[0;34m()\u001b[0m\n\u001b[1;32m      3\u001b[0m \u001b[0mbball_data\u001b[0m\u001b[0;34m=\u001b[0m\u001b[0mpd\u001b[0m\u001b[0;34m.\u001b[0m\u001b[0mread_html\u001b[0m\u001b[0;34m(\u001b[0m\u001b[0mtext1\u001b[0m\u001b[0;34m)\u001b[0m\u001b[0;34m\u001b[0m\u001b[0m\n\u001b[1;32m      4\u001b[0m \u001b[0meastNBA\u001b[0m\u001b[0;34m=\u001b[0m\u001b[0mbball_data\u001b[0m\u001b[0;34m[\u001b[0m\u001b[0;36m0\u001b[0m\u001b[0;34m]\u001b[0m\u001b[0;34m.\u001b[0m\u001b[0mcopy\u001b[0m\u001b[0;34m(\u001b[0m\u001b[0;34m)\u001b[0m\u001b[0;34m\u001b[0m\u001b[0m\n\u001b[0;32m----> 5\u001b[0;31m \u001b[0mwestNBA\u001b[0m\u001b[0;34m=\u001b[0m\u001b[0mbball_data\u001b[0m\u001b[0;34m[\u001b[0m\u001b[0;36m1\u001b[0m\u001b[0;34m]\u001b[0m\u001b[0;34m.\u001b[0m\u001b[0mcopy\u001b[0m\u001b[0;34m(\u001b[0m\u001b[0;34m)\u001b[0m\u001b[0;34m\u001b[0m\u001b[0m\n\u001b[0m\u001b[1;32m      6\u001b[0m \u001b[0mframes\u001b[0m \u001b[0;34m=\u001b[0m \u001b[0;34m[\u001b[0m\u001b[0meastNBA\u001b[0m\u001b[0;34m,\u001b[0m \u001b[0mwestNBA\u001b[0m\u001b[0;34m]\u001b[0m\u001b[0;34m\u001b[0m\u001b[0m\n\u001b[1;32m      7\u001b[0m \u001b[0mNBA\u001b[0m \u001b[0;34m=\u001b[0m \u001b[0mpd\u001b[0m\u001b[0;34m.\u001b[0m\u001b[0mconcat\u001b[0m\u001b[0;34m(\u001b[0m\u001b[0mframes\u001b[0m\u001b[0;34m)\u001b[0m\u001b[0;34m\u001b[0m\u001b[0m\n",
      "\u001b[0;31mIndexError\u001b[0m: list index out of range"
     ]
    }
   ],
   "source": [
    "r1 = requests.get(\"http://espn.go.com/nba/standings/_/group/league\")\n",
    "text1 = r1.text\n",
    "bball_data=pd.read_html(text1)\n",
    "eastNBA=bball_data[0].copy()\n",
    "westNBA=bball_data[1].copy()\n",
    "frames = [eastNBA, westNBA]\n",
    "NBA = pd.concat(frames)\n",
    "#should I add an indicator for the division? (i.e. West vs. East)\n",
    "NBA=NBA.rename(columns = {'Unnamed: 0':'Teams'})\n",
    "NBA=NBA.sort(['PCT'], ascending=False).reset_index(drop=True)\n",
    "#should I try to get rid of the number and extra letter in the Team Names?"
   ]
  },
  {
   "cell_type": "code",
   "execution_count": 150,
   "metadata": {
    "collapsed": true
   },
   "outputs": [],
   "source": [
    "r1 = requests.get(\"http://espn.go.com/nba/standings/_/group/league\")\n",
    "text1 = r1.text\n",
    "bball_data=pd.read_html(text1)\n",
    "NBA=bball_data[0].copy()\n",
    "#should I add an indicator for the division? (i.e. West vs. East)\n",
    "NBA=NBA.rename(columns = {'Unnamed: 0':'Teams'})\n",
    "#should I try to get rid of the extra letter in the Team Names?"
   ]
  },
  {
   "cell_type": "code",
   "execution_count": 155,
   "metadata": {
    "collapsed": false
   },
   "outputs": [
    {
     "data": {
      "text/html": [
       "<div>\n",
       "<table border=\"1\" class=\"dataframe\">\n",
       "  <thead>\n",
       "    <tr style=\"text-align: right;\">\n",
       "      <th></th>\n",
       "      <th>Teams</th>\n",
       "      <th>W</th>\n",
       "      <th>L</th>\n",
       "      <th>PCT</th>\n",
       "      <th>GB</th>\n",
       "      <th>HOME</th>\n",
       "      <th>ROAD</th>\n",
       "      <th>DIV</th>\n",
       "      <th>CONF</th>\n",
       "      <th>PPG</th>\n",
       "      <th>OPP PPG</th>\n",
       "      <th>DIFF</th>\n",
       "      <th>STRK</th>\n",
       "      <th>L10</th>\n",
       "    </tr>\n",
       "  </thead>\n",
       "  <tbody>\n",
       "    <tr>\n",
       "      <th>0</th>\n",
       "      <td>Golden State WarriorsGS</td>\n",
       "      <td>18</td>\n",
       "      <td>0</td>\n",
       "      <td>1.000</td>\n",
       "      <td>-</td>\n",
       "      <td>10-0</td>\n",
       "      <td>8-0</td>\n",
       "      <td>6-0</td>\n",
       "      <td>14-0</td>\n",
       "      <td>115.8</td>\n",
       "      <td>99.8</td>\n",
       "      <td>16.0</td>\n",
       "      <td>W18</td>\n",
       "      <td>10-0</td>\n",
       "    </tr>\n",
       "    <tr>\n",
       "      <th>1</th>\n",
       "      <td>San Antonio SpursSA</td>\n",
       "      <td>14</td>\n",
       "      <td>3</td>\n",
       "      <td>0.824</td>\n",
       "      <td>3.5</td>\n",
       "      <td>9-0</td>\n",
       "      <td>5-3</td>\n",
       "      <td>2-1</td>\n",
       "      <td>8-2</td>\n",
       "      <td>99.4</td>\n",
       "      <td>89.7</td>\n",
       "      <td>9.7</td>\n",
       "      <td>W5</td>\n",
       "      <td>9-1</td>\n",
       "    </tr>\n",
       "  </tbody>\n",
       "</table>\n",
       "</div>"
      ],
      "text/plain": [
       "                     Teams   W  L    PCT   GB  HOME ROAD  DIV  CONF    PPG  OPP PPG  DIFF STRK   L10\n",
       "0  Golden State WarriorsGS  18  0  1.000    -  10-0  8-0  6-0  14-0  115.8     99.8  16.0  W18  10-0\n",
       "1      San Antonio SpursSA  14  3  0.824  3.5   9-0  5-3  2-1   8-2   99.4     89.7   9.7   W5   9-1"
      ]
     },
     "execution_count": 155,
     "metadata": {},
     "output_type": "execute_result"
    }
   ],
   "source": [
    "NBA.head(2)"
   ]
  },
  {
   "cell_type": "code",
   "execution_count": 152,
   "metadata": {
    "collapsed": true
   },
   "outputs": [],
   "source": [
    "r2 = requests.get(\"http://espn.go.com/nfl/standings/_/group/league\")\n",
    "text2 = r2.text\n",
    "football_data=pd.read_html(text2)\n",
    "NFL=football_data[0].copy()\n",
    "#should I add an indicator for the division? (i.e. West vs. East)\n",
    "NFL=NFL.rename(columns = {'Unnamed: 0':'Teams'})"
   ]
  },
  {
   "cell_type": "code",
   "execution_count": 154,
   "metadata": {
    "collapsed": false
   },
   "outputs": [
    {
     "data": {
      "text/html": [
       "<div>\n",
       "<table border=\"1\" class=\"dataframe\">\n",
       "  <thead>\n",
       "    <tr style=\"text-align: right;\">\n",
       "      <th></th>\n",
       "      <th>Teams</th>\n",
       "      <th>W</th>\n",
       "      <th>L</th>\n",
       "      <th>T</th>\n",
       "      <th>PCT</th>\n",
       "      <th>HOME</th>\n",
       "      <th>ROAD</th>\n",
       "      <th>DIV</th>\n",
       "      <th>CONF</th>\n",
       "      <th>PF</th>\n",
       "      <th>PA</th>\n",
       "      <th>DIFF</th>\n",
       "      <th>STRK</th>\n",
       "    </tr>\n",
       "  </thead>\n",
       "  <tbody>\n",
       "    <tr>\n",
       "      <th>0</th>\n",
       "      <td>Carolina PanthersCAR</td>\n",
       "      <td>11</td>\n",
       "      <td>0</td>\n",
       "      <td>0</td>\n",
       "      <td>1</td>\n",
       "      <td>6-0</td>\n",
       "      <td>5-0</td>\n",
       "      <td>2-0</td>\n",
       "      <td>7-0</td>\n",
       "      <td>332</td>\n",
       "      <td>205</td>\n",
       "      <td>127</td>\n",
       "      <td>W11</td>\n",
       "    </tr>\n",
       "    <tr>\n",
       "      <th>1</th>\n",
       "      <td>New England PatriotsNE</td>\n",
       "      <td>10</td>\n",
       "      <td>0</td>\n",
       "      <td>0</td>\n",
       "      <td>1</td>\n",
       "      <td>6-0</td>\n",
       "      <td>4-0</td>\n",
       "      <td>4-0</td>\n",
       "      <td>7-0</td>\n",
       "      <td>323</td>\n",
       "      <td>182</td>\n",
       "      <td>141</td>\n",
       "      <td>W10</td>\n",
       "    </tr>\n",
       "  </tbody>\n",
       "</table>\n",
       "</div>"
      ],
      "text/plain": [
       "                    Teams   W  L  T  PCT HOME ROAD  DIV CONF   PF   PA  DIFF STRK\n",
       "0    Carolina PanthersCAR  11  0  0    1  6-0  5-0  2-0  7-0  332  205   127  W11\n",
       "1  New England PatriotsNE  10  0  0    1  6-0  4-0  4-0  7-0  323  182   141  W10"
      ]
     },
     "execution_count": 154,
     "metadata": {},
     "output_type": "execute_result"
    }
   ],
   "source": [
    "NFL.head(2)"
   ]
  },
  {
   "cell_type": "markdown",
   "metadata": {},
   "source": [
    "## II. Salary"
   ]
  },
  {
   "cell_type": "code",
   "execution_count": 8,
   "metadata": {
    "collapsed": true
   },
   "outputs": [],
   "source": [
    "r3 = requests.get(\"http://espn.go.com/nba/salaries/_/year/2015\")\n",
    "text3 = r3.text\n",
    "NBAsalary_data=pd.read_html(text3)\n",
    "NBA_salary=NBAsalary_data[0].copy()\n",
    "NBA_salary.columns = NBA_salary.iloc[0]\n",
    "NBA_salary.reindex(NBA_salary.index.drop(0))\n",
    "NBA_salary = NBA_salary[NBA_salary.RK != 'RK'].reset_index(drop=True)\n",
    "NBA_salary['SALARY'] = NBA_salary['SALARY'].str.replace(r'[$,]', '').astype('float')"
   ]
  },
  {
   "cell_type": "code",
   "execution_count": 9,
   "metadata": {
    "collapsed": false
   },
   "outputs": [
    {
     "data": {
      "text/html": [
       "<div>\n",
       "<table border=\"1\" class=\"dataframe\">\n",
       "  <thead>\n",
       "    <tr style=\"text-align: right;\">\n",
       "      <th></th>\n",
       "      <th>RK</th>\n",
       "      <th>NAME</th>\n",
       "      <th>TEAM</th>\n",
       "      <th>SALARY</th>\n",
       "    </tr>\n",
       "  </thead>\n",
       "  <tbody>\n",
       "    <tr>\n",
       "      <th>0</th>\n",
       "      <td>1</td>\n",
       "      <td>Kobe Bryant, SF</td>\n",
       "      <td>Los Angeles Lakers</td>\n",
       "      <td>23500000</td>\n",
       "    </tr>\n",
       "    <tr>\n",
       "      <th>1</th>\n",
       "      <td>2</td>\n",
       "      <td>Joe Johnson, SF</td>\n",
       "      <td>Brooklyn Nets</td>\n",
       "      <td>23180790</td>\n",
       "    </tr>\n",
       "    <tr>\n",
       "      <th>2</th>\n",
       "      <td>3</td>\n",
       "      <td>Carmelo Anthony, SF</td>\n",
       "      <td>New York Knicks</td>\n",
       "      <td>22458401</td>\n",
       "    </tr>\n",
       "    <tr>\n",
       "      <th>3</th>\n",
       "      <td>4</td>\n",
       "      <td>Dwight Howard, C</td>\n",
       "      <td>Houston Rockets</td>\n",
       "      <td>21436271</td>\n",
       "    </tr>\n",
       "    <tr>\n",
       "      <th>4</th>\n",
       "      <td>5</td>\n",
       "      <td>Chris Bosh, PF</td>\n",
       "      <td>Miami Heat</td>\n",
       "      <td>20644400</td>\n",
       "    </tr>\n",
       "  </tbody>\n",
       "</table>\n",
       "</div>"
      ],
      "text/plain": [
       "0 RK                 NAME                TEAM    SALARY\n",
       "0  1      Kobe Bryant, SF  Los Angeles Lakers  23500000\n",
       "1  2      Joe Johnson, SF       Brooklyn Nets  23180790\n",
       "2  3  Carmelo Anthony, SF     New York Knicks  22458401\n",
       "3  4     Dwight Howard, C     Houston Rockets  21436271\n",
       "4  5       Chris Bosh, PF          Miami Heat  20644400"
      ]
     },
     "execution_count": 9,
     "metadata": {},
     "output_type": "execute_result"
    }
   ],
   "source": [
    "NBA_salary.head()"
   ]
  },
  {
   "cell_type": "code",
   "execution_count": 2,
   "metadata": {
    "collapsed": false
   },
   "outputs": [
    {
     "data": {
      "text/html": [
       "<div>\n",
       "<table border=\"1\" class=\"dataframe\">\n",
       "  <thead>\n",
       "    <tr style=\"text-align: right;\">\n",
       "      <th></th>\n",
       "      <th>Player</th>\n",
       "      <th>Pos</th>\n",
       "      <th>Salary</th>\n",
       "      <th>Team</th>\n",
       "    </tr>\n",
       "  </thead>\n",
       "  <tbody>\n",
       "    <tr>\n",
       "      <th>0</th>\n",
       "      <td>Corey Perry</td>\n",
       "      <td>R</td>\n",
       "      <td>8625000</td>\n",
       "      <td>ANA</td>\n",
       "    </tr>\n",
       "    <tr>\n",
       "      <th>1</th>\n",
       "      <td>Ryan Getzlaf</td>\n",
       "      <td>C</td>\n",
       "      <td>8250000</td>\n",
       "      <td>ANA</td>\n",
       "    </tr>\n",
       "    <tr>\n",
       "      <th>2</th>\n",
       "      <td>Shawn Horcoff</td>\n",
       "      <td>LC</td>\n",
       "      <td>1750000</td>\n",
       "      <td>ANA</td>\n",
       "    </tr>\n",
       "    <tr>\n",
       "      <th>3</th>\n",
       "      <td>Ryan Kesler</td>\n",
       "      <td>C</td>\n",
       "      <td>5000000</td>\n",
       "      <td>ANA</td>\n",
       "    </tr>\n",
       "    <tr>\n",
       "      <th>4</th>\n",
       "      <td>Chris Stewart</td>\n",
       "      <td>R</td>\n",
       "      <td>1700000</td>\n",
       "      <td>ANA</td>\n",
       "    </tr>\n",
       "  </tbody>\n",
       "</table>\n",
       "</div>"
      ],
      "text/plain": [
       "          Player Pos   Salary Team\n",
       "0    Corey Perry   R  8625000  ANA\n",
       "1   Ryan Getzlaf   C  8250000  ANA\n",
       "2  Shawn Horcoff  LC  1750000  ANA\n",
       "3    Ryan Kesler   C  5000000  ANA\n",
       "4  Chris Stewart   R  1700000  ANA"
      ]
     },
     "execution_count": 2,
     "metadata": {},
     "output_type": "execute_result"
    }
   ],
   "source": [
    "cap = requests.get(\"http://war-on-ice.com/cap/\")\n",
    "capText = BeautifulSoup(cap.text)\n",
    "resultCap= capText.find_all(\"a\")\n",
    "link=[]\n",
    "for elem in resultCap:\n",
    "    if elem.has_attr('href'):\n",
    "        link.append(elem.attrs['href'])\n",
    "linkList=link[6:36]\n",
    "\n",
    "NHLSalary = pd.DataFrame()\n",
    "for links in linkList:\n",
    "    r3 = requests.get(links)\n",
    "    text3 = r3.text\n",
    "    NHLsalary_data=pd.read_html(text3)\n",
    "    NHL_salary=NHLsalary_data[0].copy()\n",
    "    NHL_salary=NHL_salary.drop(NHL_salary.index[0])\n",
    "    NHL_salary\n",
    "    NHL_salary.columns = NHL_salary.iloc[0]\n",
    "    NHL_salary['team']=links[-8:-5]\n",
    "    NHL_salary.reset_index(drop=True)\n",
    "    NHLSalary =NHLSalary.append(NHL_salary)\n",
    "\n",
    "NHLSalary=NHLSalary.dropna()\n",
    "NHLSalary=NHLSalary[NHLSalary['2015-16']!='--']\n",
    "NHLSalary=NHLSalary[NHLSalary['2015-16']!='UFA']\n",
    "NHLSalary=NHLSalary[NHLSalary['2015-16']!='RFA']\n",
    "NHLSalary=NHLSalary[NHLSalary['2015-16']!='2015-16']\n",
    "del NHLSalary[NHLSalary.columns[2]]\n",
    "del NHLSalary[NHLSalary.columns[2]]\n",
    "del NHLSalary[NHLSalary.columns[3]]\n",
    "del NHLSalary[NHLSalary.columns[3]]\n",
    "del NHLSalary[NHLSalary.columns[3]]\n",
    "del NHLSalary[NHLSalary.columns[3]]\n",
    "\n",
    "NHLSalary['2015-16'] = NHLSalary['2015-16'].str.replace(r'[$,]', '').astype('float')\n",
    "\n",
    "NHLSalary\n",
    "NHLSalary.columns = [ 'Player', 'Pos', 'Salary', 'Team']\n",
    "NHLSalary=NHLSalary.reset_index(drop=True)\n",
    "NHLSalary.head()"
   ]
  },
  {
   "cell_type": "code",
   "execution_count": 22,
   "metadata": {
    "collapsed": false
   },
   "outputs": [],
   "source": [
    "cap = requests.get(\"http://www.sportscity.com/nfl/salaries/\")\n",
    "capText = BeautifulSoup(cap.text)\n",
    "resultCap= capText.find_all(\"a\")\n",
    "link=[]\n",
    "for elem in resultCap:\n",
    "    if elem.has_attr('href'):\n",
    "        link.append(elem.attrs['href'])"
   ]
  },
  {
   "cell_type": "code",
   "execution_count": 156,
   "metadata": {
    "collapsed": false
   },
   "outputs": [
    {
     "name": "stdout",
     "output_type": "stream",
     "text": [
      "0\n"
     ]
    },
    {
     "ename": "ValueError",
     "evalue": "No tables found",
     "output_type": "error",
     "traceback": [
      "\u001b[0;31m---------------------------------------------------------------------------\u001b[0m",
      "\u001b[0;31mValueError\u001b[0m                                Traceback (most recent call last)",
      "\u001b[0;32m<ipython-input-156-3850e94d39ff>\u001b[0m in \u001b[0;36m<module>\u001b[0;34m()\u001b[0m\n\u001b[1;32m     14\u001b[0m         \u001b[0mr5\u001b[0m \u001b[0;34m=\u001b[0m \u001b[0mrequests\u001b[0m\u001b[0;34m.\u001b[0m\u001b[0mget\u001b[0m\u001b[0;34m(\u001b[0m\u001b[0mwebLink\u001b[0m\u001b[0;34m)\u001b[0m\u001b[0;34m\u001b[0m\u001b[0m\n\u001b[1;32m     15\u001b[0m         \u001b[0mtext5\u001b[0m \u001b[0;34m=\u001b[0m \u001b[0mr5\u001b[0m\u001b[0;34m.\u001b[0m\u001b[0mtext\u001b[0m\u001b[0;34m\u001b[0m\u001b[0m\n\u001b[0;32m---> 16\u001b[0;31m         \u001b[0mNBASalary\u001b[0m\u001b[0;34m=\u001b[0m\u001b[0mpd\u001b[0m\u001b[0;34m.\u001b[0m\u001b[0mread_html\u001b[0m\u001b[0;34m(\u001b[0m\u001b[0mtext5\u001b[0m\u001b[0;34m)\u001b[0m\u001b[0;34m\u001b[0m\u001b[0m\n\u001b[0m\u001b[1;32m     17\u001b[0m         \u001b[0mNBASalary\u001b[0m\u001b[0;34m=\u001b[0m\u001b[0mNBASalary\u001b[0m\u001b[0;34m[\u001b[0m\u001b[0;36m0\u001b[0m\u001b[0;34m]\u001b[0m\u001b[0;34m\u001b[0m\u001b[0m\n\u001b[1;32m     18\u001b[0m         \u001b[0mNBASalary\u001b[0m\u001b[0;34m\u001b[0m\u001b[0m\n",
      "\u001b[0;32m/Users/takehiro/anaconda/lib/python2.7/site-packages/pandas/io/html.pyc\u001b[0m in \u001b[0;36mread_html\u001b[0;34m(io, match, flavor, header, index_col, skiprows, infer_types, attrs, parse_dates, tupleize_cols, thousands, encoding)\u001b[0m\n\u001b[1;32m    863\u001b[0m                          'data (you passed a negative value)')\n\u001b[1;32m    864\u001b[0m     return _parse(flavor, io, match, header, index_col, skiprows, infer_types,\n\u001b[0;32m--> 865\u001b[0;31m                   parse_dates, tupleize_cols, thousands, attrs, encoding)\n\u001b[0m",
      "\u001b[0;32m/Users/takehiro/anaconda/lib/python2.7/site-packages/pandas/io/html.pyc\u001b[0m in \u001b[0;36m_parse\u001b[0;34m(flavor, io, match, header, index_col, skiprows, infer_types, parse_dates, tupleize_cols, thousands, attrs, encoding)\u001b[0m\n\u001b[1;32m    726\u001b[0m             \u001b[0;32mbreak\u001b[0m\u001b[0;34m\u001b[0m\u001b[0m\n\u001b[1;32m    727\u001b[0m     \u001b[0;32melse\u001b[0m\u001b[0;34m:\u001b[0m\u001b[0;34m\u001b[0m\u001b[0m\n\u001b[0;32m--> 728\u001b[0;31m         \u001b[0mraise_with_traceback\u001b[0m\u001b[0;34m(\u001b[0m\u001b[0mretained\u001b[0m\u001b[0;34m)\u001b[0m\u001b[0;34m\u001b[0m\u001b[0m\n\u001b[0m\u001b[1;32m    729\u001b[0m \u001b[0;34m\u001b[0m\u001b[0m\n\u001b[1;32m    730\u001b[0m     \u001b[0mret\u001b[0m \u001b[0;34m=\u001b[0m \u001b[0;34m[\u001b[0m\u001b[0;34m]\u001b[0m\u001b[0;34m\u001b[0m\u001b[0m\n",
      "\u001b[0;32m/Users/takehiro/anaconda/lib/python2.7/site-packages/pandas/io/html.pyc\u001b[0m in \u001b[0;36m_parse\u001b[0;34m(flavor, io, match, header, index_col, skiprows, infer_types, parse_dates, tupleize_cols, thousands, attrs, encoding)\u001b[0m\n\u001b[1;32m    720\u001b[0m \u001b[0;34m\u001b[0m\u001b[0m\n\u001b[1;32m    721\u001b[0m         \u001b[0;32mtry\u001b[0m\u001b[0;34m:\u001b[0m\u001b[0;34m\u001b[0m\u001b[0m\n\u001b[0;32m--> 722\u001b[0;31m             \u001b[0mtables\u001b[0m \u001b[0;34m=\u001b[0m \u001b[0mp\u001b[0m\u001b[0;34m.\u001b[0m\u001b[0mparse_tables\u001b[0m\u001b[0;34m(\u001b[0m\u001b[0;34m)\u001b[0m\u001b[0;34m\u001b[0m\u001b[0m\n\u001b[0m\u001b[1;32m    723\u001b[0m         \u001b[0;32mexcept\u001b[0m \u001b[0mException\u001b[0m \u001b[0;32mas\u001b[0m \u001b[0mcaught\u001b[0m\u001b[0;34m:\u001b[0m\u001b[0;34m\u001b[0m\u001b[0m\n\u001b[1;32m    724\u001b[0m             \u001b[0mretained\u001b[0m \u001b[0;34m=\u001b[0m \u001b[0mcaught\u001b[0m\u001b[0;34m\u001b[0m\u001b[0m\n",
      "\u001b[0;32m/Users/takehiro/anaconda/lib/python2.7/site-packages/pandas/io/html.pyc\u001b[0m in \u001b[0;36mparse_tables\u001b[0;34m(self)\u001b[0m\n\u001b[1;32m    191\u001b[0m \u001b[0;34m\u001b[0m\u001b[0m\n\u001b[1;32m    192\u001b[0m     \u001b[0;32mdef\u001b[0m \u001b[0mparse_tables\u001b[0m\u001b[0;34m(\u001b[0m\u001b[0mself\u001b[0m\u001b[0;34m)\u001b[0m\u001b[0;34m:\u001b[0m\u001b[0;34m\u001b[0m\u001b[0m\n\u001b[0;32m--> 193\u001b[0;31m         \u001b[0mtables\u001b[0m \u001b[0;34m=\u001b[0m \u001b[0mself\u001b[0m\u001b[0;34m.\u001b[0m\u001b[0m_parse_tables\u001b[0m\u001b[0;34m(\u001b[0m\u001b[0mself\u001b[0m\u001b[0;34m.\u001b[0m\u001b[0m_build_doc\u001b[0m\u001b[0;34m(\u001b[0m\u001b[0;34m)\u001b[0m\u001b[0;34m,\u001b[0m \u001b[0mself\u001b[0m\u001b[0;34m.\u001b[0m\u001b[0mmatch\u001b[0m\u001b[0;34m,\u001b[0m \u001b[0mself\u001b[0m\u001b[0;34m.\u001b[0m\u001b[0mattrs\u001b[0m\u001b[0;34m)\u001b[0m\u001b[0;34m\u001b[0m\u001b[0m\n\u001b[0m\u001b[1;32m    194\u001b[0m         \u001b[0;32mreturn\u001b[0m \u001b[0;34m(\u001b[0m\u001b[0mself\u001b[0m\u001b[0;34m.\u001b[0m\u001b[0m_build_table\u001b[0m\u001b[0;34m(\u001b[0m\u001b[0mtable\u001b[0m\u001b[0;34m)\u001b[0m \u001b[0;32mfor\u001b[0m \u001b[0mtable\u001b[0m \u001b[0;32min\u001b[0m \u001b[0mtables\u001b[0m\u001b[0;34m)\u001b[0m\u001b[0;34m\u001b[0m\u001b[0m\n\u001b[1;32m    195\u001b[0m \u001b[0;34m\u001b[0m\u001b[0m\n",
      "\u001b[0;32m/Users/takehiro/anaconda/lib/python2.7/site-packages/pandas/io/html.pyc\u001b[0m in \u001b[0;36m_parse_tables\u001b[0;34m(self, doc, match, attrs)\u001b[0m\n\u001b[1;32m    418\u001b[0m \u001b[0;34m\u001b[0m\u001b[0m\n\u001b[1;32m    419\u001b[0m         \u001b[0;32mif\u001b[0m \u001b[0;32mnot\u001b[0m \u001b[0mtables\u001b[0m\u001b[0;34m:\u001b[0m\u001b[0;34m\u001b[0m\u001b[0m\n\u001b[0;32m--> 420\u001b[0;31m             \u001b[0;32mraise\u001b[0m \u001b[0mValueError\u001b[0m\u001b[0;34m(\u001b[0m\u001b[0;34m'No tables found'\u001b[0m\u001b[0;34m)\u001b[0m\u001b[0;34m\u001b[0m\u001b[0m\n\u001b[0m\u001b[1;32m    421\u001b[0m \u001b[0;34m\u001b[0m\u001b[0m\n\u001b[1;32m    422\u001b[0m         \u001b[0mresult\u001b[0m \u001b[0;34m=\u001b[0m \u001b[0;34m[\u001b[0m\u001b[0;34m]\u001b[0m\u001b[0;34m\u001b[0m\u001b[0m\n",
      "\u001b[0;31mValueError\u001b[0m: No tables found"
     ]
    }
   ],
   "source": [
    "cap = requests.get(\"http://www.sportscity.com/nba/salaries/\")\n",
    "capText = BeautifulSoup(cap.text)\n",
    "resultCap= capText.find_all(\"a\")\n",
    "link=[]\n",
    "for elem in resultCap:\n",
    "    if elem.has_attr('href'):\n",
    "        link.append(elem.attrs['href'])\n",
    "NBATeam=link[165:195]       \n",
    "NBA_Salary = pd.DataFrame()\n",
    "for num in range(len(NBATeam)):\n",
    "    if num!=2 and num!=17 and num!=23:\n",
    "        webLink=NBATeam[num]\n",
    "        r5 = requests.get(webLink)\n",
    "        text5 = r5.text\n",
    "        NBASalary=pd.read_html(text5)\n",
    "        NBASalary=NBASalary[0]\n",
    "        NBASalary \n",
    "        if num%2==1:\n",
    "            NBASalary=NBASalary.drop(NBASalary.index[0:2])\n",
    "        elif num==10 or 12:\n",
    "            NBASalary=NBASalary.drop(NBASalary.index[0:2])\n",
    "        else:\n",
    "            NBASalary=NBASalary.drop(NBASalary.index[0:3])\n",
    "        NBASalary.columns = NBASalary.iloc[0]\n",
    "        NBASalary=NBASalary.drop(NBASalary.index[0])\n",
    "        team=webLink.split('-')[1].title()\n",
    "\n",
    "        NBASalary['Team']=team\n",
    "        NBASalary = NBASalary.drop(['nan'], axis=1)\n",
    "\n",
    "        columnsTeam=['Player','2015/16']\n",
    "        NBASalary=NBASalary.reset_index(drop=True)\n",
    "        dfNBA = pd.DataFrame()\n",
    "        dfNBA['Player']=NBASalary['Player']\n",
    "        dfNBA['2015/16']=NBASalary['2015/16']\n",
    "        dfNBA['Team']=NBASalary['Team']\n",
    "\n",
    "        NBA_Salary=NBA_Salary.append(dfNBA)\n",
    "    \n",
    "NBA_Salary.head()"
   ]
  },
  {
   "cell_type": "code",
   "execution_count": 39,
   "metadata": {
    "collapsed": false
   },
   "outputs": [],
   "source": [
    "NFLTeam=link[168:200]"
   ]
  },
  {
   "cell_type": "code",
   "execution_count": 154,
   "metadata": {
    "collapsed": false
   },
   "outputs": [
    {
     "data": {
      "text/html": [
       "<div>\n",
       "<table border=\"1\" class=\"dataframe\">\n",
       "  <thead>\n",
       "    <tr style=\"text-align: right;\">\n",
       "      <th></th>\n",
       "      <th>PLAYER</th>\n",
       "      <th>2015-2016</th>\n",
       "      <th>Team</th>\n",
       "    </tr>\n",
       "  </thead>\n",
       "  <tbody>\n",
       "    <tr>\n",
       "      <th>1</th>\n",
       "      <td>Haloti Ngata</td>\n",
       "      <td>16000000</td>\n",
       "      <td>Ravens</td>\n",
       "    </tr>\n",
       "    <tr>\n",
       "      <th>2</th>\n",
       "      <td>Joe Flacco</td>\n",
       "      <td>14550000</td>\n",
       "      <td>Ravens</td>\n",
       "    </tr>\n",
       "    <tr>\n",
       "      <th>3</th>\n",
       "      <td>Lardarius Webb</td>\n",
       "      <td>11000000</td>\n",
       "      <td>Ravens</td>\n",
       "    </tr>\n",
       "    <tr>\n",
       "      <th>4</th>\n",
       "      <td>Ray Rice</td>\n",
       "      <td>7750000</td>\n",
       "      <td>Ravens</td>\n",
       "    </tr>\n",
       "    <tr>\n",
       "      <th>5</th>\n",
       "      <td>Marshal Yanda</td>\n",
       "      <td>8450000</td>\n",
       "      <td>Ravens</td>\n",
       "    </tr>\n",
       "  </tbody>\n",
       "</table>\n",
       "</div>"
      ],
      "text/plain": [
       "           PLAYER  2015-2016    Team\n",
       "1    Haloti Ngata   16000000  Ravens\n",
       "2      Joe Flacco   14550000  Ravens\n",
       "3  Lardarius Webb   11000000  Ravens\n",
       "4        Ray Rice    7750000  Ravens\n",
       "5   Marshal Yanda    8450000  Ravens"
      ]
     },
     "execution_count": 154,
     "metadata": {},
     "output_type": "execute_result"
    }
   ],
   "source": [
    "cap = requests.get(\"http://www.sportscity.com/nfl/salaries/\")\n",
    "capText = BeautifulSoup(cap.text)\n",
    "resultCap= capText.find_all(\"a\")\n",
    "link=[]\n",
    "for elem in resultCap:\n",
    "    if elem.has_attr('href'):\n",
    "        link.append(elem.attrs['href'])\n",
    "NFLTeam=link[168:200]       \n",
    "NFL_Salary = pd.DataFrame()\n",
    "for webLink in NFLTeam:\n",
    "    r5 = requests.get(webLink)\n",
    "    text5 = r5.text\n",
    "    NFLSalary=pd.read_html(text5)\n",
    "    NFLSalary=NFLSalary[0].copy()\n",
    "    NFLSalary.columns = NFLSalary.iloc[0]\n",
    "    NFLSalary=NFLSalary.reindex(NFLSalary.index.drop(0))\n",
    "    team=webLink.split('-')[1].title()\n",
    "    NFLSalary=NFLSalary.dropna()\n",
    "    NFLSalary=NFLSalary[NFLSalary[NFLSalary.columns[2]]!='-']\n",
    "    NFLSalary=NFLSalary[NFLSalary[NFLSalary.columns[2]]!='UFA']\n",
    "    NFLSalary=NFLSalary[NFLSalary[NFLSalary.columns[2]]!='RFA']\n",
    "    NFLSalary=NFLSalary[NFLSalary[NFLSalary.columns[2]]!='ERFA']\n",
    "    NFLSalary[NFLSalary.columns[2]] = NFLSalary[NFLSalary.columns[2]].str.replace(r'[$,]', '').astype('float')\n",
    "    \n",
    "    if NFLSalary.columns[2]=='2015/2016':\n",
    "        NFLSalary = NFLSalary.rename(columns={'2015/2016': '2015-2016'})\n",
    "    NFLSalary['Team']=team\n",
    "    columnsTeam=['PLAYER','2015-2016','Team']\n",
    "    dfNFL = pd.DataFrame(NFLSalary,index=NFLSalary.index, columns=columnsTeam)\n",
    "    \n",
    "    NFL_Salary=NFL_Salary.append(dfNFL)\n",
    "\n",
    "NFL_Salary.head()"
   ]
  },
  {
   "cell_type": "markdown",
   "metadata": {},
   "source": [
    "## III. Attendance"
   ]
  },
  {
   "cell_type": "code",
   "execution_count": 196,
   "metadata": {
    "collapsed": true
   },
   "outputs": [],
   "source": [
    "r4 = requests.get(\"http://espn.go.com/nba/attendance\")\n",
    "text4 = r4.text\n",
    "NBAattn_data=pd.read_html(text4)\n",
    "NBA_attendance=NBAattn_data[0].copy()\n",
    "NBA_attendance.columns = NBA_attendance.iloc[1]\n",
    "NBA_attendance=NBA_attendance.reindex(NBA_attendance.index.drop(0))\n",
    "NBA_attendance=NBA_attendance[NBA_attendance.RK != 'RK'].reset_index(drop=True)"
   ]
  },
  {
   "cell_type": "code",
   "execution_count": 204,
   "metadata": {
    "collapsed": false
   },
   "outputs": [
    {
     "data": {
      "text/html": [
       "<div>\n",
       "<table border=\"1\" class=\"dataframe\">\n",
       "  <thead>\n",
       "    <tr style=\"text-align: right;\">\n",
       "      <th>1</th>\n",
       "      <th>RK</th>\n",
       "      <th>TEAM</th>\n",
       "      <th>GMS</th>\n",
       "      <th>TOTAL</th>\n",
       "      <th>AVG</th>\n",
       "      <th>PCT</th>\n",
       "      <th>GMS</th>\n",
       "      <th>AVG</th>\n",
       "      <th>PCT</th>\n",
       "      <th>GMS</th>\n",
       "      <th>AVG</th>\n",
       "      <th>PCT</th>\n",
       "    </tr>\n",
       "  </thead>\n",
       "  <tbody>\n",
       "    <tr>\n",
       "      <th>0</th>\n",
       "      <td>1</td>\n",
       "      <td>Bulls</td>\n",
       "      <td>6</td>\n",
       "      <td>130800</td>\n",
       "      <td>21800</td>\n",
       "      <td>104.2</td>\n",
       "      <td>8</td>\n",
       "      <td>17164</td>\n",
       "      <td>87.7</td>\n",
       "      <td>14</td>\n",
       "      <td>19150</td>\n",
       "      <td>95.1</td>\n",
       "    </tr>\n",
       "    <tr>\n",
       "      <th>1</th>\n",
       "      <td>2</td>\n",
       "      <td>Cavaliers</td>\n",
       "      <td>9</td>\n",
       "      <td>185058</td>\n",
       "      <td>20562</td>\n",
       "      <td>100.0</td>\n",
       "      <td>8</td>\n",
       "      <td>19296</td>\n",
       "      <td>97.2</td>\n",
       "      <td>17</td>\n",
       "      <td>19966</td>\n",
       "      <td>98.7</td>\n",
       "    </tr>\n",
       "  </tbody>\n",
       "</table>\n",
       "</div>"
      ],
      "text/plain": [
       "1 RK       TEAM GMS   TOTAL    AVG    PCT GMS    AVG   PCT GMS    AVG   PCT\n",
       "0  1      Bulls   6  130800  21800  104.2   8  17164  87.7  14  19150  95.1\n",
       "1  2  Cavaliers   9  185058  20562  100.0   8  19296  97.2  17  19966  98.7"
      ]
     },
     "execution_count": 204,
     "metadata": {},
     "output_type": "execute_result"
    }
   ],
   "source": [
    "NBA_attendance.head(2)"
   ]
  },
  {
   "cell_type": "code",
   "execution_count": 206,
   "metadata": {
    "collapsed": true
   },
   "outputs": [],
   "source": [
    "r5 = requests.get(\"http://espn.go.com/nfl/attendance\")\n",
    "text5 = r5.text\n",
    "NFLattn_data=pd.read_html(text5)\n",
    "NFL_attendance=NFLattn_data[0].copy()\n",
    "NFL_attendance.columns = NFL_attendance.iloc[1]\n",
    "NFL_attendance=NFL_attendance.reindex(NFL_attendance.index.drop(0))\n",
    "NFL_attendance=NFL_attendance[NFL_attendance.RK != 'RK'].reset_index(drop=True)"
   ]
  },
  {
   "cell_type": "code",
   "execution_count": 208,
   "metadata": {
    "collapsed": false
   },
   "outputs": [
    {
     "data": {
      "text/html": [
       "<div>\n",
       "<table border=\"1\" class=\"dataframe\">\n",
       "  <thead>\n",
       "    <tr style=\"text-align: right;\">\n",
       "      <th>1</th>\n",
       "      <th>RK</th>\n",
       "      <th>TEAM</th>\n",
       "      <th>GMS</th>\n",
       "      <th>TOTAL</th>\n",
       "      <th>AVG</th>\n",
       "      <th>PCT</th>\n",
       "      <th>GMS</th>\n",
       "      <th>TOTAL</th>\n",
       "      <th>AVG</th>\n",
       "      <th>PCT</th>\n",
       "      <th>GMS</th>\n",
       "      <th>TOTAL</th>\n",
       "      <th>AVG</th>\n",
       "      <th>PCT</th>\n",
       "    </tr>\n",
       "  </thead>\n",
       "  <tbody>\n",
       "    <tr>\n",
       "      <th>0</th>\n",
       "      <td>1</td>\n",
       "      <td>Dallas</td>\n",
       "      <td>6</td>\n",
       "      <td>551200</td>\n",
       "      <td>91866</td>\n",
       "      <td>114.8</td>\n",
       "      <td>5</td>\n",
       "      <td>351872</td>\n",
       "      <td>70374</td>\n",
       "      <td>99.4</td>\n",
       "      <td>11</td>\n",
       "      <td>903072</td>\n",
       "      <td>82097</td>\n",
       "      <td>108.3</td>\n",
       "    </tr>\n",
       "    <tr>\n",
       "      <th>1</th>\n",
       "      <td>2</td>\n",
       "      <td>NY Giants</td>\n",
       "      <td>5</td>\n",
       "      <td>393654</td>\n",
       "      <td>78730</td>\n",
       "      <td>95.4</td>\n",
       "      <td>5</td>\n",
       "      <td>370922</td>\n",
       "      <td>74184</td>\n",
       "      <td>103.2</td>\n",
       "      <td>10</td>\n",
       "      <td>764576</td>\n",
       "      <td>76457</td>\n",
       "      <td>99.1</td>\n",
       "    </tr>\n",
       "  </tbody>\n",
       "</table>\n",
       "</div>"
      ],
      "text/plain": [
       "1 RK       TEAM GMS   TOTAL    AVG    PCT GMS   TOTAL    AVG    PCT GMS   TOTAL    AVG    PCT\n",
       "0  1     Dallas   6  551200  91866  114.8   5  351872  70374   99.4  11  903072  82097  108.3\n",
       "1  2  NY Giants   5  393654  78730   95.4   5  370922  74184  103.2  10  764576  76457   99.1"
      ]
     },
     "execution_count": 208,
     "metadata": {},
     "output_type": "execute_result"
    }
   ],
   "source": [
    "NFL_attendance.head(2)"
   ]
  },
  {
   "cell_type": "code",
   "execution_count": 209,
   "metadata": {
    "collapsed": true
   },
   "outputs": [],
   "source": [
    "r6 = requests.get(\"http://espn.go.com/nhl/attendance\")\n",
    "text6 = r6.text\n",
    "NHLattn_data=pd.read_html(text6)\n",
    "NHL_attendance=NHLattn_data[0].copy()\n",
    "NHL_attendance.columns = NHL_attendance.iloc[1]\n",
    "NHL_attendance=NHL_attendance.reindex(NHL_attendance.index.drop(0))\n",
    "NHL_attendance=NHL_attendance[NHL_attendance.RK != 'RK'].reset_index(drop=True)"
   ]
  },
  {
   "cell_type": "code",
   "execution_count": 211,
   "metadata": {
    "collapsed": false
   },
   "outputs": [
    {
     "data": {
      "text/html": [
       "<div>\n",
       "<table border=\"1\" class=\"dataframe\">\n",
       "  <thead>\n",
       "    <tr style=\"text-align: right;\">\n",
       "      <th>1</th>\n",
       "      <th>RK</th>\n",
       "      <th>TEAM</th>\n",
       "      <th>GMS</th>\n",
       "      <th>TOTAL</th>\n",
       "      <th>AVG</th>\n",
       "      <th>PCT</th>\n",
       "      <th>GMS</th>\n",
       "      <th>AVG</th>\n",
       "      <th>PCT</th>\n",
       "      <th>GMS</th>\n",
       "      <th>AVG</th>\n",
       "      <th>PCT</th>\n",
       "    </tr>\n",
       "  </thead>\n",
       "  <tbody>\n",
       "    <tr>\n",
       "      <th>0</th>\n",
       "      <td>1</td>\n",
       "      <td>Chicago</td>\n",
       "      <td>11</td>\n",
       "      <td>238019</td>\n",
       "      <td>21638</td>\n",
       "      <td>109.7</td>\n",
       "      <td>13</td>\n",
       "      <td>16608</td>\n",
       "      <td>93.2</td>\n",
       "      <td>24</td>\n",
       "      <td>18913</td>\n",
       "      <td>101.2</td>\n",
       "    </tr>\n",
       "    <tr>\n",
       "      <th>1</th>\n",
       "      <td>2</td>\n",
       "      <td>Montreal</td>\n",
       "      <td>13</td>\n",
       "      <td>276744</td>\n",
       "      <td>21288</td>\n",
       "      <td>100.1</td>\n",
       "      <td>12</td>\n",
       "      <td>17972</td>\n",
       "      <td>99.0</td>\n",
       "      <td>25</td>\n",
       "      <td>19696</td>\n",
       "      <td>99.6</td>\n",
       "    </tr>\n",
       "  </tbody>\n",
       "</table>\n",
       "</div>"
      ],
      "text/plain": [
       "1 RK      TEAM GMS   TOTAL    AVG    PCT GMS    AVG   PCT GMS    AVG    PCT\n",
       "0  1   Chicago  11  238019  21638  109.7  13  16608  93.2  24  18913  101.2\n",
       "1  2  Montreal  13  276744  21288  100.1  12  17972  99.0  25  19696   99.6"
      ]
     },
     "execution_count": 211,
     "metadata": {},
     "output_type": "execute_result"
    }
   ],
   "source": [
    "NHL_attendance.head(2)"
   ]
  },
  {
   "cell_type": "code",
   "execution_count": null,
   "metadata": {
    "collapsed": true
   },
   "outputs": [],
   "source": []
  }
 ],
 "metadata": {
  "kernelspec": {
   "display_name": "Python 2",
   "language": "python",
   "name": "python2"
  },
  "language_info": {
   "codemirror_mode": {
    "name": "ipython",
    "version": 2
   },
   "file_extension": ".py",
   "mimetype": "text/x-python",
   "name": "python",
   "nbconvert_exporter": "python",
   "pygments_lexer": "ipython2",
   "version": "2.7.10"
  }
 },
 "nbformat": 4,
 "nbformat_minor": 0
}
