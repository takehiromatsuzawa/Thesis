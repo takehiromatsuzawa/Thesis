{
 "cells": [
  {
   "cell_type": "code",
   "execution_count": 3,
   "metadata": {
    "collapsed": false
   },
   "outputs": [
    {
     "ename": "IndexError",
     "evalue": "list assignment index out of range",
     "output_type": "error",
     "traceback": [
      "\u001b[0;31m---------------------------------------------------------------------------\u001b[0m",
      "\u001b[0;31mIndexError\u001b[0m                                Traceback (most recent call last)",
      "\u001b[0;32m<ipython-input-3-6fb1d2d7fe19>\u001b[0m in \u001b[0;36m<module>\u001b[0;34m()\u001b[0m\n\u001b[1;32m     41\u001b[0m                 \u001b[0mancestor\u001b[0m\u001b[0;34m(\u001b[0m\u001b[0mroot\u001b[0m\u001b[0;34m.\u001b[0m\u001b[0mright\u001b[0m\u001b[0;34m,\u001b[0m\u001b[0mpath\u001b[0m\u001b[0;34m,\u001b[0m\u001b[0mpathlen\u001b[0m\u001b[0;34m+\u001b[0m\u001b[0;36m1\u001b[0m\u001b[0;34m,\u001b[0m\u001b[0mvalue\u001b[0m\u001b[0;34m)\u001b[0m\u001b[0;34m\u001b[0m\u001b[0m\n\u001b[1;32m     42\u001b[0m \u001b[0;34m\u001b[0m\u001b[0m\n\u001b[0;32m---> 43\u001b[0;31m \u001b[0mancestor\u001b[0m\u001b[0;34m(\u001b[0m\u001b[0mroot\u001b[0m\u001b[0;34m,\u001b[0m\u001b[0;34m[\u001b[0m\u001b[0;34m]\u001b[0m\u001b[0;34m,\u001b[0m\u001b[0;36m1\u001b[0m\u001b[0;34m,\u001b[0m\u001b[0;36m6\u001b[0m\u001b[0;34m)\u001b[0m\u001b[0;34m\u001b[0m\u001b[0m\n\u001b[0m\u001b[1;32m     44\u001b[0m \u001b[0;34m\u001b[0m\u001b[0m\n\u001b[1;32m     45\u001b[0m \u001b[0;34m\u001b[0m\u001b[0m\n",
      "\u001b[0;32m<ipython-input-3-6fb1d2d7fe19>\u001b[0m in \u001b[0;36mancestor\u001b[0;34m(root, path, pathlen, value)\u001b[0m\n\u001b[1;32m     37\u001b[0m \u001b[0;34m\u001b[0m\u001b[0m\n\u001b[1;32m     38\u001b[0m             \u001b[0;32mif\u001b[0m \u001b[0mroot\u001b[0m\u001b[0;34m.\u001b[0m\u001b[0mleft\u001b[0m\u001b[0;34m!=\u001b[0m\u001b[0mNone\u001b[0m\u001b[0;34m:\u001b[0m\u001b[0;34m\u001b[0m\u001b[0m\n\u001b[0;32m---> 39\u001b[0;31m                 \u001b[0mancestor\u001b[0m\u001b[0;34m(\u001b[0m\u001b[0mroot\u001b[0m\u001b[0;34m.\u001b[0m\u001b[0mleft\u001b[0m \u001b[0;34m,\u001b[0m\u001b[0mpath\u001b[0m\u001b[0;34m,\u001b[0m\u001b[0mpathlen\u001b[0m\u001b[0;34m+\u001b[0m\u001b[0;36m1\u001b[0m\u001b[0;34m,\u001b[0m\u001b[0mvalue\u001b[0m\u001b[0;34m)\u001b[0m\u001b[0;34m\u001b[0m\u001b[0m\n\u001b[0m\u001b[1;32m     40\u001b[0m             \u001b[0;32mif\u001b[0m \u001b[0mroot\u001b[0m\u001b[0;34m.\u001b[0m\u001b[0mright\u001b[0m\u001b[0;34m!=\u001b[0m\u001b[0mNone\u001b[0m\u001b[0;34m:\u001b[0m\u001b[0;34m\u001b[0m\u001b[0m\n\u001b[1;32m     41\u001b[0m                 \u001b[0mancestor\u001b[0m\u001b[0;34m(\u001b[0m\u001b[0mroot\u001b[0m\u001b[0;34m.\u001b[0m\u001b[0mright\u001b[0m\u001b[0;34m,\u001b[0m\u001b[0mpath\u001b[0m\u001b[0;34m,\u001b[0m\u001b[0mpathlen\u001b[0m\u001b[0;34m+\u001b[0m\u001b[0;36m1\u001b[0m\u001b[0;34m,\u001b[0m\u001b[0mvalue\u001b[0m\u001b[0;34m)\u001b[0m\u001b[0;34m\u001b[0m\u001b[0m\n",
      "\u001b[0;32m<ipython-input-3-6fb1d2d7fe19>\u001b[0m in \u001b[0;36mancestor\u001b[0;34m(root, path, pathlen, value)\u001b[0m\n\u001b[1;32m     37\u001b[0m \u001b[0;34m\u001b[0m\u001b[0m\n\u001b[1;32m     38\u001b[0m             \u001b[0;32mif\u001b[0m \u001b[0mroot\u001b[0m\u001b[0;34m.\u001b[0m\u001b[0mleft\u001b[0m\u001b[0;34m!=\u001b[0m\u001b[0mNone\u001b[0m\u001b[0;34m:\u001b[0m\u001b[0;34m\u001b[0m\u001b[0m\n\u001b[0;32m---> 39\u001b[0;31m                 \u001b[0mancestor\u001b[0m\u001b[0;34m(\u001b[0m\u001b[0mroot\u001b[0m\u001b[0;34m.\u001b[0m\u001b[0mleft\u001b[0m \u001b[0;34m,\u001b[0m\u001b[0mpath\u001b[0m\u001b[0;34m,\u001b[0m\u001b[0mpathlen\u001b[0m\u001b[0;34m+\u001b[0m\u001b[0;36m1\u001b[0m\u001b[0;34m,\u001b[0m\u001b[0mvalue\u001b[0m\u001b[0;34m)\u001b[0m\u001b[0;34m\u001b[0m\u001b[0m\n\u001b[0m\u001b[1;32m     40\u001b[0m             \u001b[0;32mif\u001b[0m \u001b[0mroot\u001b[0m\u001b[0;34m.\u001b[0m\u001b[0mright\u001b[0m\u001b[0;34m!=\u001b[0m\u001b[0mNone\u001b[0m\u001b[0;34m:\u001b[0m\u001b[0;34m\u001b[0m\u001b[0m\n\u001b[1;32m     41\u001b[0m                 \u001b[0mancestor\u001b[0m\u001b[0;34m(\u001b[0m\u001b[0mroot\u001b[0m\u001b[0;34m.\u001b[0m\u001b[0mright\u001b[0m\u001b[0;34m,\u001b[0m\u001b[0mpath\u001b[0m\u001b[0;34m,\u001b[0m\u001b[0mpathlen\u001b[0m\u001b[0;34m+\u001b[0m\u001b[0;36m1\u001b[0m\u001b[0;34m,\u001b[0m\u001b[0mvalue\u001b[0m\u001b[0;34m)\u001b[0m\u001b[0;34m\u001b[0m\u001b[0m\n",
      "\u001b[0;32m<ipython-input-3-6fb1d2d7fe19>\u001b[0m in \u001b[0;36mancestor\u001b[0;34m(root, path, pathlen, value)\u001b[0m\n\u001b[1;32m     39\u001b[0m                 \u001b[0mancestor\u001b[0m\u001b[0;34m(\u001b[0m\u001b[0mroot\u001b[0m\u001b[0;34m.\u001b[0m\u001b[0mleft\u001b[0m \u001b[0;34m,\u001b[0m\u001b[0mpath\u001b[0m\u001b[0;34m,\u001b[0m\u001b[0mpathlen\u001b[0m\u001b[0;34m+\u001b[0m\u001b[0;36m1\u001b[0m\u001b[0;34m,\u001b[0m\u001b[0mvalue\u001b[0m\u001b[0;34m)\u001b[0m\u001b[0;34m\u001b[0m\u001b[0m\n\u001b[1;32m     40\u001b[0m             \u001b[0;32mif\u001b[0m \u001b[0mroot\u001b[0m\u001b[0;34m.\u001b[0m\u001b[0mright\u001b[0m\u001b[0;34m!=\u001b[0m\u001b[0mNone\u001b[0m\u001b[0;34m:\u001b[0m\u001b[0;34m\u001b[0m\u001b[0m\n\u001b[0;32m---> 41\u001b[0;31m                 \u001b[0mancestor\u001b[0m\u001b[0;34m(\u001b[0m\u001b[0mroot\u001b[0m\u001b[0;34m.\u001b[0m\u001b[0mright\u001b[0m\u001b[0;34m,\u001b[0m\u001b[0mpath\u001b[0m\u001b[0;34m,\u001b[0m\u001b[0mpathlen\u001b[0m\u001b[0;34m+\u001b[0m\u001b[0;36m1\u001b[0m\u001b[0;34m,\u001b[0m\u001b[0mvalue\u001b[0m\u001b[0;34m)\u001b[0m\u001b[0;34m\u001b[0m\u001b[0m\n\u001b[0m\u001b[1;32m     42\u001b[0m \u001b[0;34m\u001b[0m\u001b[0m\n\u001b[1;32m     43\u001b[0m \u001b[0mancestor\u001b[0m\u001b[0;34m(\u001b[0m\u001b[0mroot\u001b[0m\u001b[0;34m,\u001b[0m\u001b[0;34m[\u001b[0m\u001b[0;34m]\u001b[0m\u001b[0;34m,\u001b[0m\u001b[0;36m1\u001b[0m\u001b[0;34m,\u001b[0m\u001b[0;36m6\u001b[0m\u001b[0;34m)\u001b[0m\u001b[0;34m\u001b[0m\u001b[0m\n",
      "\u001b[0;32m<ipython-input-3-6fb1d2d7fe19>\u001b[0m in \u001b[0;36mancestor\u001b[0;34m(root, path, pathlen, value)\u001b[0m\n\u001b[1;32m     28\u001b[0m                 \u001b[0mpath\u001b[0m\u001b[0;34m.\u001b[0m\u001b[0mappend\u001b[0m\u001b[0;34m(\u001b[0m\u001b[0mroot\u001b[0m\u001b[0;34m.\u001b[0m\u001b[0mval\u001b[0m\u001b[0;34m)\u001b[0m\u001b[0;34m\u001b[0m\u001b[0m\n\u001b[1;32m     29\u001b[0m             \u001b[0;32melse\u001b[0m\u001b[0;34m:\u001b[0m\u001b[0;34m\u001b[0m\u001b[0m\n\u001b[0;32m---> 30\u001b[0;31m                 \u001b[0mpath\u001b[0m\u001b[0;34m[\u001b[0m\u001b[0mpathlen\u001b[0m\u001b[0;34m]\u001b[0m\u001b[0;34m=\u001b[0m\u001b[0mroot\u001b[0m\u001b[0;34m.\u001b[0m\u001b[0mval\u001b[0m\u001b[0;34m\u001b[0m\u001b[0m\n\u001b[0m\u001b[1;32m     31\u001b[0m             \u001b[0;32mprint\u001b[0m \u001b[0mpath\u001b[0m\u001b[0;34m\u001b[0m\u001b[0m\n\u001b[1;32m     32\u001b[0m         \u001b[0;32melse\u001b[0m\u001b[0;34m:\u001b[0m\u001b[0;34m\u001b[0m\u001b[0m\n",
      "\u001b[0;31mIndexError\u001b[0m: list assignment index out of range"
     ]
    }
   ],
   "source": [
    "class Node:\n",
    "    def __init__(self,val):\n",
    "        self.val=val\n",
    "        self.right=None\n",
    "        self.left=None\n",
    "    \n",
    "root = Node(-15)\n",
    "root.left = Node(5)\n",
    "root.right = Node(6)\n",
    "root.left.left = Node(-8)\n",
    "root.left.right = Node(1)\n",
    "root.left.left.left = Node(2)\n",
    "root.left.left.right = Node(6)\n",
    "root.right.left = Node(3)\n",
    "root.right.right = Node(9)\n",
    "root.right.right.right= Node(0)\n",
    "root.right.right.right.left = Node(4)\n",
    "root.right.right.right.right = Node(-1)\n",
    "root.right.right.right.right.left = Node(10)\n",
    "\n",
    "\n",
    "def ancestor(root,path,pathlen,value):\n",
    "    if root==None:\n",
    "        return\n",
    "    else:\n",
    "        if root.val==value:\n",
    "            if pathlen>len(path):\n",
    "                path.append(root.val)\n",
    "            else:\n",
    "                path[pathlen]=root.val\n",
    "            print path\n",
    "        else:\n",
    "            if pathlen>len(path):\n",
    "                path.append(root.val)\n",
    "            else:\n",
    "                path[pathlen]=root.val\n",
    "                \n",
    "            if root.left!=None:\n",
    "                ancestor(root.left ,path,pathlen+1,value)\n",
    "            if root.right!=None:\n",
    "                ancestor(root.right,path,pathlen+1,value)\n",
    "\n",
    "ancestor(root,[],0,6)\n",
    "\n",
    "\n",
    "def preorder(root):\n",
    "    if root==None:\n",
    "        return\n",
    "    else:\n",
    "        print root.val\n",
    "        preorder(root.left)\n",
    "        preorder(root.right)\n",
    "        \n",
    "preorder(root)"
   ]
  },
  {
   "cell_type": "code",
   "execution_count": 69,
   "metadata": {
    "collapsed": false
   },
   "outputs": [],
   "source": [
    "def print_boundary(root):\n",
    "    if root==None:\n",
    "        return\n",
    "    else:\n",
    "        if root!=None:\n",
    "            print root.val\n",
    "            if root.left!=None:\n",
    "                print_boundary(root.left)\n",
    "            elif root.right!=None:\n",
    "                print_boundary(root.right)\n",
    "        \n",
    "def leaf_node(root):\n",
    "    if root==None:\n",
    "        return\n",
    "    else:\n",
    "        leaf_node(root.left)\n",
    "        if root.left==None and root.right==None:\n",
    "            print root.val\n",
    "        leaf_node(root.right)\n",
    "        "
   ]
  },
  {
   "cell_type": "code",
   "execution_count": 82,
   "metadata": {
    "collapsed": false
   },
   "outputs": [],
   "source": [
    "def is_ismor(root1,root2):\n",
    "    if root1==None and root2==None:\n",
    "        return True\n",
    "    elif root1==None or root2==None:\n",
    "        return False\n",
    "    else:\n",
    "        if root1.val==root2.val:\n",
    "            return (is_ismor(root1.left,root2.left) and is_ismor(root1.right,root2.right)) or (is_ismor(root1.left,root2.right) and is_ismor(root1.right,root2.left)) \n",
    "        else:\n",
    "            return False"
   ]
  },
  {
   "cell_type": "code",
   "execution_count": 85,
   "metadata": {
    "collapsed": true
   },
   "outputs": [],
   "source": [
    "def left_view(root1,level,maxlevel):\n",
    "    if root1==None:\n",
    "        return \n",
    "    else:\n",
    "        if level>maxlevel[0]:\n",
    "            print root1.val\n",
    "            maxlevel[0]=level\n",
    "        left_view(root1.left ,level+1,maxlevel)\n",
    "        left_view(root1.right,level+1,maxlevel)"
   ]
  },
  {
   "cell_type": "code",
   "execution_count": 91,
   "metadata": {
    "collapsed": true
   },
   "outputs": [],
   "source": [
    "def is_sib(root,node1,node2):\n",
    "    if root==None:\n",
    "        return False\n",
    "    else:\n",
    "        if root.left!=None and root.right!=None:\n",
    "            if (root.left.val==node1 and root.right.val==node2) or (root.left.val==node2 and root.right.val==node1):\n",
    "                return True\n",
    "            else:\n",
    "                return is_sib(root.left,node1,node2) or is_sib(root.right,node1,node2) \n",
    "        else:\n",
    "            return is_sib(root.left,node1,node2) or is_sib(root.right,node1,node2)\n",
    "        "
   ]
  },
  {
   "cell_type": "code",
   "execution_count": 96,
   "metadata": {
    "collapsed": true
   },
   "outputs": [],
   "source": [
    "def isFull(root):\n",
    "    if root==None:\n",
    "        return True\n",
    "    else:\n",
    "        if root.left==None and root.right==None:\n",
    "            return True\n",
    "        elif root.left==None or root.right==None:\n",
    "            return False\n",
    "        else:\n",
    "            return isFull(root.left) and isFull(root.right)"
   ]
  },
  {
   "cell_type": "code",
   "execution_count": 109,
   "metadata": {
    "collapsed": true
   },
   "outputs": [],
   "source": [
    "def minimum(root):\n",
    "    if root==None:\n",
    "        return 0\n",
    "    else:\n",
    "        if root.left==None and root.right==None:\n",
    "            return 1\n",
    "        if root.left!=None and root.right==None:\n",
    "            return 1+minimum(root.left)\n",
    "        \n",
    "        if root.left==None and root.right!=None:\n",
    "            return 1+minimum(root.right)\n",
    "        \n",
    "        else:\n",
    "            #print minimum(root.right)\n",
    "            return 1+min(minimum(root.right),minimum(root.left))"
   ]
  },
  {
   "cell_type": "code",
   "execution_count": 111,
   "metadata": {
    "collapsed": false
   },
   "outputs": [
    {
     "data": {
      "text/plain": [
       "2"
      ]
     },
     "execution_count": 111,
     "metadata": {},
     "output_type": "execute_result"
    }
   ],
   "source": [
    "root = Node(1)\n",
    "root.left = Node(2)\n",
    "root.right = Node(3)\n",
    "root.left.left = Node(4)\n",
    "root.left.right = Node(5)\n",
    "# root.left.right.right = Node(15)\n",
    "#root.right.left = Node(6)\n",
    "# root.right.right = Node(7)\n",
    "# root.right.left.right = Node(8)\n",
    " \n",
    "#node1 = root.left.right\n",
    "#node2 = root.left.left\n",
    " \n",
    "#print \"Yes\" if isCousin(root, node1, node2) == 1 else \"No\"\n",
    "minimum(root)"
   ]
  },
  {
   "cell_type": "code",
   "execution_count": 87,
   "metadata": {
    "collapsed": false
   },
   "outputs": [
    {
     "name": "stdout",
     "output_type": "stream",
     "text": [
      "1\n",
      "2\n",
      "4\n",
      "7\n",
      "9\n"
     ]
    }
   ],
   "source": [
    "n1 = Node(1)\n",
    "n1.left = Node(2)\n",
    "n1.right = Node(3)\n",
    "n1.left.left = Node(4)\n",
    "n1.left.right = Node(5)\n",
    "n1.right.left = Node(6)\n",
    "n1.left.right.left = Node(7)\n",
    "n1.left.right.right = Node(8)\n",
    "n1.left.right.right.right = Node(9)\n",
    " \n",
    "n2 = Node(1)\n",
    "n2.left = Node(3)\n",
    "n2.right = Node(2)\n",
    "n2.right.left = Node(4)\n",
    "n2.right.right = Node(55)\n",
    "n2.left.right = Node(6)\n",
    "n2.right.right.left = Node(8)\n",
    "n2.right.right.right  = Node(7)\n",
    "\n",
    "left_view(n1,1,[0])"
   ]
  },
  {
   "cell_type": "code",
   "execution_count": 1,
   "metadata": {
    "collapsed": false
   },
   "outputs": [
    {
     "name": "stdout",
     "output_type": "stream",
     "text": [
      "2 3\n"
     ]
    }
   ],
   "source": [
    "# Python program to find the nodes at k distance from root\n",
    " \n",
    "# A Binary tree node\n",
    "class Node:\n",
    "     \n",
    "    # Constructor to create a new node\n",
    "    def __init__(self, data):\n",
    "        self.data = data\n",
    "        self.left = None\n",
    "        self.right = None\n",
    "\n",
    "def printKDistant(root, k):\n",
    "     \n",
    "    if root is None:\n",
    "        return\n",
    "    if k == 0:\n",
    "        print root.data,\n",
    "    else:\n",
    "        printKDistant(root.left, k-1)\n",
    "        printKDistant(root.right, k-1)\n",
    "    \n",
    "# Driver program to test above function\n",
    "\n",
    "\"\"\"\n",
    "   Constructed binary tree is\n",
    "            1\n",
    "          /   \\\n",
    "        2      3\n",
    "      /  \\    /\n",
    "    4     5  8 \n",
    "\"\"\"\n",
    "root = Node(1)\n",
    "root.left = Node(2)\n",
    "root.right = Node(3)\n",
    "root.left.left = Node(4)\n",
    "root.left.right = Node(5)\n",
    "root.right.left = Node(8)\n",
    " \n",
    "printKDistant(root, 1)"
   ]
  },
  {
   "cell_type": "code",
   "execution_count": 6,
   "metadata": {
    "collapsed": true
   },
   "outputs": [],
   "source": [
    "def printAncestors(root, target):\n",
    "     \n",
    "    # Base case\n",
    "    if root == None:\n",
    "        return False\n",
    "     \n",
    "    if root.data == target:\n",
    "        return True\n",
    " \n",
    "    # If target is present in either left or right subtree \n",
    "    # of this node, then print this node\n",
    "    if (printAncestors(root.left, target) or\n",
    "        printAncestors(root.right, target)):\n",
    "        print root.data,\n",
    "        return True\n",
    " \n",
    "    # Else return False \n",
    "    return False"
   ]
  },
  {
   "cell_type": "code",
   "execution_count": 8,
   "metadata": {
    "collapsed": false
   },
   "outputs": [
    {
     "name": "stdout",
     "output_type": "stream",
     "text": [
      "3 1"
     ]
    },
    {
     "data": {
      "text/plain": [
       "True"
      ]
     },
     "execution_count": 8,
     "metadata": {},
     "output_type": "execute_result"
    },
    {
     "name": "stdout",
     "output_type": "stream",
     "text": [
      "\n"
     ]
    }
   ],
   "source": [
    "printAncestors(root, 8)"
   ]
  },
  {
   "cell_type": "code",
   "execution_count": 22,
   "metadata": {
    "collapsed": false
   },
   "outputs": [],
   "source": [
    "def sumTree(root):\n",
    "    if root==None:\n",
    "        return 0\n",
    "    else:\n",
    "        \n",
    "        if root.left==None and root.right==None:\n",
    "            temp=root.data\n",
    "            root.data=0\n",
    "            return root.data+temp\n",
    "        else:\n",
    "            temp=root.data\n",
    "            root.data=sumTree(root.left)+sumTree(root.right)\n",
    "            return temp+root.data\n",
    "            "
   ]
  },
  {
   "cell_type": "code",
   "execution_count": 26,
   "metadata": {
    "collapsed": true
   },
   "outputs": [],
   "source": [
    "root = Node(1)\n",
    "root.left = Node(2)\n",
    "root.right = Node(3)\n",
    "root.left.left = Node(4)\n",
    "root.left.right = Node(5)\n",
    "root.right.left = Node(8)\n",
    " "
   ]
  },
  {
   "cell_type": "code",
   "execution_count": 24,
   "metadata": {
    "collapsed": false
   },
   "outputs": [
    {
     "data": {
      "text/plain": [
       "23"
      ]
     },
     "execution_count": 24,
     "metadata": {},
     "output_type": "execute_result"
    }
   ],
   "source": [
    "sumTree(root)"
   ]
  },
  {
   "cell_type": "code",
   "execution_count": 25,
   "metadata": {
    "collapsed": false
   },
   "outputs": [
    {
     "data": {
      "text/plain": [
       "22"
      ]
     },
     "execution_count": 25,
     "metadata": {},
     "output_type": "execute_result"
    }
   ],
   "source": [
    "root.data"
   ]
  },
  {
   "cell_type": "code",
   "execution_count": 28,
   "metadata": {
    "collapsed": true
   },
   "outputs": [],
   "source": [
    "def levelDiff(root):\n",
    "    if root==None:\n",
    "        return 0\n",
    "    else:\n",
    "        return root.data-levelDiff(root.left)-levelDiff(root.right)"
   ]
  },
  {
   "cell_type": "code",
   "execution_count": 29,
   "metadata": {
    "collapsed": false
   },
   "outputs": [
    {
     "data": {
      "text/plain": [
       "13"
      ]
     },
     "execution_count": 29,
     "metadata": {},
     "output_type": "execute_result"
    }
   ],
   "source": [
    "levelDiff(root)"
   ]
  },
  {
   "cell_type": "code",
   "execution_count": 176,
   "metadata": {
    "collapsed": true
   },
   "outputs": [],
   "source": [
    "# Driver program to test above function\n",
    "root = Node(-15)\n",
    "root.left = Node(5)\n",
    "root.right = Node(6)\n",
    "root.left.left = Node(-8)\n",
    "root.left.right = Node(1)\n",
    "root.left.left.left = Node(2)\n",
    "root.left.left.right = Node(6)\n",
    "root.right.left = Node(3)\n",
    "root.right.right = Node(9)\n",
    "root.right.right.right= Node(0)\n",
    "root.right.right.right.left = Node(4)\n",
    "root.right.right.right.right = Node(-1)\n",
    "root.right.right.right.right.left = Node(10)"
   ]
  },
  {
   "cell_type": "code",
   "execution_count": 177,
   "metadata": {
    "collapsed": true
   },
   "outputs": [],
   "source": [
    "def maxPath(root,max_so_far):\n",
    "    if root==None:\n",
    "        return 0\n",
    "    else:\n",
    "        if root.left==None and root.right==None:\n",
    "            max_so_far[0]=max(max_so_far[0],root.data)\n",
    "            return root.data\n",
    "        elif root.left!=None and root.right==None:\n",
    "            return root.data+maxPath(root.left,max_so_far)\n",
    "        \n",
    "        elif root.left==None and root.right!=None:\n",
    "            return root.data+maxPath(root.right,max_so_far)\n",
    "        \n",
    "        else:\n",
    "            lmax=maxPath(root.left,max_so_far)\n",
    "            rmax=maxPath(root.right,max_so_far)\n",
    "            \n",
    "            max_so_far[0]=max(max_so_far[0],root.data+lmax+rmax)\n",
    "            print max_so_far[0]\n",
    "            return root.data+max(lmax,rmax)\n",
    "            "
   ]
  },
  {
   "cell_type": "code",
   "execution_count": 178,
   "metadata": {
    "collapsed": false
   },
   "outputs": [
    {
     "name": "stdout",
     "output_type": "stream",
     "text": [
      "6\n",
      "6\n",
      "13\n",
      "27\n",
      "27\n"
     ]
    },
    {
     "data": {
      "text/plain": [
       "[27]"
      ]
     },
     "execution_count": 178,
     "metadata": {},
     "output_type": "execute_result"
    }
   ],
   "source": [
    "max_path=[0]\n",
    "maxPath(root,max_path)\n",
    "max_path"
   ]
  },
  {
   "cell_type": "code",
   "execution_count": null,
   "metadata": {
    "collapsed": false
   },
   "outputs": [],
   "source": [
    "def sumleft()"
   ]
  },
  {
   "cell_type": "code",
   "execution_count": 51,
   "metadata": {
    "collapsed": true
   },
   "outputs": [],
   "source": [
    "root = Node(20)\n",
    "root.left = Node(8)\n",
    "root.right = Node(22)\n",
    "root.left.left = Node(4)\n",
    "root.left.right = Node(12)\n",
    "root.left.right.left = Node(10)\n",
    "root.left.right.right = Node(14)"
   ]
  },
  {
   "cell_type": "code",
   "execution_count": 53,
   "metadata": {
    "collapsed": true
   },
   "outputs": [],
   "source": [
    "# A recursive python program to find LCA of two nodes\n",
    "# n1 and n2\n",
    " \n",
    "# A Binary tree node\n",
    "class Node:\n",
    " \n",
    "    # Constructor to create a new node\n",
    "    def __init__(self, data):\n",
    "        self.data = data\n",
    "        self.left = None\n",
    "        self.right = None\n",
    "        \n",
    "# Function to find LCA of n1 and n2. The function assumes\n",
    "# that both n1 and n2 are present in BST\n",
    "def lca(root, n1, n2):\n",
    "     \n",
    "    # Base Case\n",
    "    if root is None:\n",
    "        return None\n",
    " \n",
    "    # If both n1 and n2 are smaller than root, then LCA\n",
    "    # lies in left\n",
    "    if(root.data > n1 and root.data > n2):\n",
    "        return lca(root.left, n1, n2)\n",
    " \n",
    "    # If both n1 and n2 are greater than root, then LCA\n",
    "    # lies in right \n",
    "    if(root.data < n1 and root.data < n2):\n",
    "        return lca(root.right, n1, n2)\n",
    " \n",
    "    return root\n",
    " "
   ]
  },
  {
   "cell_type": "code",
   "execution_count": 54,
   "metadata": {
    "collapsed": false
   },
   "outputs": [
    {
     "name": "stdout",
     "output_type": "stream",
     "text": [
      "LCA of 10 and 14 is 12\n",
      "LCA of 14 and 8 is 8\n",
      "LCA of 10 and 22 is 20\n"
     ]
    }
   ],
   "source": [
    "n1 = 10 ; n2 = 14\n",
    "t = lca(root, n1, n2)\n",
    "print \"LCA of %d and %d is %d\" %(n1, n2, t.data)\n",
    " \n",
    "n1 = 14 ; n2 = 8\n",
    "t = lca(root, n1, n2)\n",
    "print \"LCA of %d and %d is %d\" %(n1, n2 , t.data)\n",
    " \n",
    "n1 = 10 ; n2 = 22\n",
    "t = lca(root, n1, n2)\n",
    "print \"LCA of %d and %d is %d\" %(n1, n2, t.data)\n",
    "\n"
   ]
  },
  {
   "cell_type": "code",
   "execution_count": 57,
   "metadata": {
    "collapsed": false
   },
   "outputs": [
    {
     "data": {
      "text/plain": [
       "2"
      ]
     },
     "execution_count": 57,
     "metadata": {},
     "output_type": "execute_result"
    }
   ],
   "source": [
    "5//2"
   ]
  },
  {
   "cell_type": "code",
   "execution_count": 114,
   "metadata": {
    "collapsed": true
   },
   "outputs": [],
   "source": [
    "root = Node(20)\n",
    "root.left = Node(8)\n",
    "root.right = Node(22)\n",
    "root.left.left = Node(4)\n",
    "root.left.right = Node(12)\n",
    "root.left.right.left = Node(10)\n",
    "root.left.right.right = Node(14)\n",
    "root.left.right.right.right = Node(14)"
   ]
  },
  {
   "cell_type": "code",
   "execution_count": 59,
   "metadata": {
    "collapsed": true
   },
   "outputs": [],
   "source": [
    "def sumTree(root,val):\n",
    "    if root==None:\n",
    "        return \n",
    "    else:\n",
    "        if root.left==None and root.right==None:\n",
    "            print val+root.data\n",
    "        else:\n",
    "            val=val+root.data\n",
    "            sumTree(root.left,val)\n",
    "            sumTree(root.right,val)"
   ]
  },
  {
   "cell_type": "code",
   "execution_count": 60,
   "metadata": {
    "collapsed": false
   },
   "outputs": [
    {
     "name": "stdout",
     "output_type": "stream",
     "text": [
      "32\n",
      "50\n",
      "54\n",
      "42\n"
     ]
    }
   ],
   "source": [
    "sumTree(root,0)"
   ]
  },
  {
   "cell_type": "code",
   "execution_count": 146,
   "metadata": {
    "collapsed": true
   },
   "outputs": [],
   "source": [
    "def printK(root,val,k):\n",
    "    if root==None:\n",
    "        return \n",
    "    else:\n",
    "        printK(root.left,val,k+1)\n",
    "        if val==k:\n",
    "            print root.data\n",
    "        printK(root.right,val,k+1)"
   ]
  },
  {
   "cell_type": "code",
   "execution_count": 148,
   "metadata": {
    "collapsed": false
   },
   "outputs": [
    {
     "name": "stdout",
     "output_type": "stream",
     "text": [
      "25\n",
      "40\n"
     ]
    }
   ],
   "source": [
    "printK(root,2,0)"
   ]
  },
  {
   "cell_type": "code",
   "execution_count": 104,
   "metadata": {
    "collapsed": true
   },
   "outputs": [],
   "source": [
    "def printAns(root,path,pathlen):\n",
    "    if root==None:\n",
    "        return \n",
    "    else:\n",
    "        print pathlen\n",
    "        print path\n",
    "        if pathlen >= len(path):\n",
    "            path.append(root.data)\n",
    "        else:\n",
    "            path[pathlen]=root.data\n",
    "        #pathlen=pathlen+1\n",
    "        if root.left==None and root.right==None:\n",
    "            print path,pathlen,root.data\n",
    "        else:\n",
    "            printAns(root.left,path,pathlen+1)\n",
    "            \n",
    "            printAns(root.right,path,pathlen+1)\n",
    "            "
   ]
  },
  {
   "cell_type": "code",
   "execution_count": 105,
   "metadata": {
    "collapsed": false
   },
   "outputs": [
    {
     "name": "stdout",
     "output_type": "stream",
     "text": [
      "0\n",
      "[]\n",
      "1\n",
      "[20]\n",
      "2\n",
      "[20, 8]\n",
      "[20, 8, 4] 2 4\n",
      "2\n",
      "[20, 8, 4]\n",
      "3\n",
      "[20, 8, 12]\n",
      "[20, 8, 12, 10] 3 10\n",
      "3\n",
      "[20, 8, 12, 10]\n",
      "[20, 8, 12, 14] 3 14\n",
      "1\n",
      "[20, 8, 12, 14]\n",
      "[20, 22, 12, 14] 1 22\n"
     ]
    }
   ],
   "source": [
    "printAns(root,[],0)"
   ]
  },
  {
   "cell_type": "code",
   "execution_count": 168,
   "metadata": {
    "collapsed": true
   },
   "outputs": [],
   "source": [
    "def printLeft(root,depth,maxDepth):\n",
    "    if root==None:\n",
    "        return\n",
    "    else:\n",
    "        print maxDepth\n",
    "        print root.data\n",
    "        #print depth\n",
    "        if depth>maxDepth[0]:\n",
    "            maxDepth[0]=depth\n",
    "            print root.data\n",
    "            \n",
    "        printLeft(root.left,depth+1,maxDepth)\n",
    "        \n",
    "        printLeft(root.right,depth+1,maxDepth)\n",
    "        "
   ]
  },
  {
   "cell_type": "code",
   "execution_count": 169,
   "metadata": {
    "collapsed": false
   },
   "outputs": [
    {
     "name": "stdout",
     "output_type": "stream",
     "text": [
      "[0]\n",
      "12\n",
      "12\n",
      "[1]\n",
      "10\n",
      "10\n",
      "[2]\n",
      "20\n",
      "[2]\n",
      "25\n",
      "25\n",
      "[3]\n",
      "40\n"
     ]
    }
   ],
   "source": [
    "printLeft(root,1,[0])"
   ]
  },
  {
   "cell_type": "code",
   "execution_count": 166,
   "metadata": {
    "collapsed": true
   },
   "outputs": [],
   "source": [
    "def printLeft(root,depth,maxDepth):\n",
    "    if root==None:\n",
    "        return\n",
    "    else:\n",
    "        print maxDepth\n",
    "        print root.data\n",
    "        #print depth\n",
    "        if depth>=maxDepth:\n",
    "            maxDepth=depth\n",
    "            #print root.data\n",
    "            \n",
    "        printLeft(root.left,depth+1,maxDepth)\n",
    "        \n",
    "        printLeft(root.right,depth+1,maxDepth)\n",
    "        "
   ]
  },
  {
   "cell_type": "code",
   "execution_count": 167,
   "metadata": {
    "collapsed": false
   },
   "outputs": [
    {
     "name": "stdout",
     "output_type": "stream",
     "text": [
      "0\n",
      "12\n",
      "1\n",
      "10\n",
      "1\n",
      "20\n",
      "2\n",
      "25\n",
      "2\n",
      "40\n"
     ]
    }
   ],
   "source": [
    "printLeft(root,1,0)"
   ]
  },
  {
   "cell_type": "code",
   "execution_count": 137,
   "metadata": {
    "collapsed": false
   },
   "outputs": [
    {
     "name": "stdout",
     "output_type": "stream",
     "text": [
      "12\t10\t25\t12\t10\t25\t"
     ]
    }
   ],
   "source": [
    "def leftViewUtil(root, level, max_level):\n",
    "     \n",
    "    # Base Case\n",
    "    if root is None:\n",
    "        return\n",
    " \n",
    "    # If this is the first node of its level\n",
    "    if (max_level[0] < level):\n",
    "        print \"%d\\t\" %(root.data),\n",
    "        max_level[0] = level\n",
    " \n",
    "    # Recur for left and right subtree\n",
    "    leftViewUtil(root.left, level+1, max_level)\n",
    "    leftViewUtil(root.right, level+1, max_level)\n",
    " \n",
    " \n",
    "# A wrapper over leftViewUtil()\n",
    "def leftView(root):\n",
    "    max_level = [0]\n",
    "    leftViewUtil(root, 1, max_level)\n",
    " \n",
    " \n",
    "# Driver program to test above function\n",
    "root = Node(12)\n",
    "root.left = Node(10)\n",
    "root.right = Node(20)\n",
    "root.right.left = Node(25)\n",
    "root.right.right = Node(40)\n",
    " \n",
    "leftView(root)\n",
    "leftViewUtil(root, 1, [0])"
   ]
  },
  {
   "cell_type": "code",
   "execution_count": null,
   "metadata": {
    "collapsed": true
   },
   "outputs": [],
   "source": []
  }
 ],
 "metadata": {
  "kernelspec": {
   "display_name": "Python 2",
   "language": "python",
   "name": "python2"
  },
  "language_info": {
   "codemirror_mode": {
    "name": "ipython",
    "version": 2
   },
   "file_extension": ".py",
   "mimetype": "text/x-python",
   "name": "python",
   "nbconvert_exporter": "python",
   "pygments_lexer": "ipython2",
   "version": "2.7.12"
  }
 },
 "nbformat": 4,
 "nbformat_minor": 0
}
