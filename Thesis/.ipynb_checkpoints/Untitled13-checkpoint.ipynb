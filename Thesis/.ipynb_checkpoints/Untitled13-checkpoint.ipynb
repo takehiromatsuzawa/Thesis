{
 "cells": [
  {
   "cell_type": "code",
   "execution_count": null,
   "metadata": {
    "collapsed": true
   },
   "outputs": [],
   "source": [
    "level traversal\n",
    "\n",
    "  1\n",
    "\n",
    "2   3 ->None\n",
    "\n",
    "4 5 6 7\n",
    "\n",
    "(1,0),(2,1),(3,1),(4,2),(5,2),,,,,\n"
   ]
  },
  {
   "cell_type": "code",
   "execution_count": 2,
   "metadata": {
    "collapsed": false
   },
   "outputs": [],
   "source": [
    "class Node:\n",
    "    def __init__(self,value):\n",
    "        self.right=None\n",
    "        self.left=None\n",
    "        self.right_point=None\n",
    "        self.value=value"
   ]
  },
  {
   "cell_type": "code",
   "execution_count": 26,
   "metadata": {
    "collapsed": true
   },
   "outputs": [],
   "source": [
    "def right_pointer(root):\n",
    "    queue=[(root,0)]\n",
    "    while queue!=[]:\n",
    "        #print queue.pop(0)\n",
    "        curr=queue.pop(0)\n",
    "        curr_node=curr[0]\n",
    "        curr_level=curr[1]\n",
    "        \n",
    "        if queue==[]:\n",
    "            curr_node.right_point=None\n",
    "        elif queue[0][1]==curr_level:\n",
    "            curr_node.right_point=queue[0][0]\n",
    "        else:\n",
    "            curr_node.right_point=None\n",
    "            \n",
    "        if curr_node.left!=None:\n",
    "            queue.append((curr_node.left,curr_level+1))\n",
    "        if curr_node.right!=None:\n",
    "            queue.append((curr_node.right,curr_level+1))\n",
    "            \n",
    "            "
   ]
  },
  {
   "cell_type": "code",
   "execution_count": 27,
   "metadata": {
    "collapsed": false
   },
   "outputs": [],
   "source": [
    "node1=Node(1)\n",
    "node2=Node(2)\n",
    "node3=Node(3)\n",
    "node4=Node(4)\n",
    "node5=Node(5)\n",
    "node6=Node(6)\n",
    "node7=Node(7)"
   ]
  },
  {
   "cell_type": "code",
   "execution_count": 28,
   "metadata": {
    "collapsed": true
   },
   "outputs": [],
   "source": [
    "node1.left=node2\n",
    "node1.right=node3\n",
    "node2.left=node4\n",
    "node2.left=node5\n",
    "node3.left=node6\n",
    "node4.right=node7"
   ]
  },
  {
   "cell_type": "code",
   "execution_count": 29,
   "metadata": {
    "collapsed": false
   },
   "outputs": [],
   "source": [
    "right_pointer(node1)"
   ]
  },
  {
   "cell_type": "code",
   "execution_count": 33,
   "metadata": {
    "collapsed": false
   },
   "outputs": [
    {
     "name": "stdout",
     "output_type": "stream",
     "text": [
      "None\n",
      "3\n",
      "None\n"
     ]
    }
   ],
   "source": [
    "print node1.right_point\n",
    "print node2.right_point.value\n",
    "print node3.right_point"
   ]
  },
  {
   "cell_type": "code",
   "execution_count": null,
   "metadata": {
    "collapsed": true
   },
   "outputs": [],
   "source": []
  }
 ],
 "metadata": {
  "kernelspec": {
   "display_name": "Python 2",
   "language": "python",
   "name": "python2"
  },
  "language_info": {
   "codemirror_mode": {
    "name": "ipython",
    "version": 2
   },
   "file_extension": ".py",
   "mimetype": "text/x-python",
   "name": "python",
   "nbconvert_exporter": "python",
   "pygments_lexer": "ipython2",
   "version": "2.7.11"
  }
 },
 "nbformat": 4,
 "nbformat_minor": 0
}
