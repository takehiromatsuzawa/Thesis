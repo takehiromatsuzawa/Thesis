{
 "cells": [
  {
   "cell_type": "code",
   "execution_count": 31,
   "metadata": {
    "collapsed": true
   },
   "outputs": [],
   "source": [
    "import pandas as pd\n",
    "import numpy as np\n",
    "import os\n",
    "from sklearn import neighbors\n",
    "from sklearn import cluster, datasets\n",
    "import math"
   ]
  },
  {
   "cell_type": "code",
   "execution_count": 32,
   "metadata": {
    "collapsed": false
   },
   "outputs": [],
   "source": [
    "df_age_19=pd.read_csv('PCA_Folder/new_df_age_19_PG_1.csv',index_col=0)\n",
    "df_age_20=pd.read_csv('PCA_Folder/new_df_age_20_PG_1.csv',index_col=0)\n",
    "df_age_21=pd.read_csv('PCA_Folder/new_df_age_21_PG_1.csv',index_col=0)\n",
    "\n",
    "df_age_22=pd.read_csv('PCA_Folder/new_df_age_22_PG_1.csv',index_col=0)\n",
    "df_age_23=pd.read_csv('PCA_Folder/new_df_age_23_PG_1.csv',index_col=0)\n",
    "df_age_24=pd.read_csv('PCA_Folder/new_df_age_24_PG_1.csv',index_col=0)\n",
    "\n",
    "df_age_25=pd.read_csv('PCA_Folder/new_df_age_25_PG_1.csv',index_col=0)\n",
    "df_age_26=pd.read_csv('PCA_Folder/new_df_age_26_PG_1.csv',index_col=0)\n",
    "df_age_27=pd.read_csv('PCA_Folder/new_df_age_27_PG_1.csv',index_col=0)\n",
    "\n",
    "df_age_28=pd.read_csv('PCA_Folder/new_df_age_28_PG_1.csv',index_col=0)\n",
    "df_age_29=pd.read_csv('PCA_Folder/new_df_age_29_PG_1.csv',index_col=0)\n",
    "df_age_30=pd.read_csv('PCA_Folder/new_df_age_30_PG_1.csv',index_col=0)\n",
    "\n",
    "df_age_31=pd.read_csv('PCA_Folder/new_df_age_31_PG_1.csv',index_col=0)\n",
    "df_age_32=pd.read_csv('PCA_Folder/new_df_age_32_PG_1.csv',index_col=0)\n",
    "df_age_33=pd.read_csv('PCA_Folder/new_df_age_33_PG_1.csv',index_col=0)\n",
    "\n",
    "df_age_34=pd.read_csv('PCA_Folder/new_df_age_34_PG_1.csv',index_col=0)\n",
    "df_age_35=pd.read_csv('PCA_Folder/new_df_age_35_PG_1.csv',index_col=0)\n",
    "df_age_36=pd.read_csv('PCA_Folder/new_df_age_36_PG_1.csv',index_col=0)\n",
    "\n",
    "df_age_37=pd.read_csv('PCA_Folder/new_df_age_37_PG_1.csv',index_col=0)\n",
    "df_age_38=pd.read_csv('PCA_Folder/new_df_age_38_PG_1.csv',index_col=0)\n",
    "df_age_39=pd.read_csv('PCA_Folder/new_df_age_39_PG_1.csv',index_col=0)"
   ]
  },
  {
   "cell_type": "code",
   "execution_count": 33,
   "metadata": {
    "collapsed": false
   },
   "outputs": [
    {
     "data": {
      "text/html": [
       "<div>\n",
       "<table border=\"1\" class=\"dataframe\">\n",
       "  <thead>\n",
       "    <tr style=\"text-align: right;\">\n",
       "      <th></th>\n",
       "      <th>0</th>\n",
       "    </tr>\n",
       "    <tr>\n",
       "      <th>name</th>\n",
       "      <th></th>\n",
       "    </tr>\n",
       "  </thead>\n",
       "  <tbody>\n",
       "    <tr>\n",
       "      <th>thornsh01</th>\n",
       "      <td>-2.282103</td>\n",
       "    </tr>\n",
       "    <tr>\n",
       "      <th>iginlja01</th>\n",
       "      <td>-0.022536</td>\n",
       "    </tr>\n",
       "    <tr>\n",
       "      <th>lidstni01</th>\n",
       "      <td>1.684221</td>\n",
       "    </tr>\n",
       "    <tr>\n",
       "      <th>visnolu01</th>\n",
       "      <td>0.900397</td>\n",
       "    </tr>\n",
       "    <tr>\n",
       "      <th>zidlima01</th>\n",
       "      <td>-0.659128</td>\n",
       "    </tr>\n",
       "    <tr>\n",
       "      <th>streima01</th>\n",
       "      <td>0.379149</td>\n",
       "    </tr>\n",
       "  </tbody>\n",
       "</table>\n",
       "</div>"
      ],
      "text/plain": [
       "                  0\n",
       "name               \n",
       "thornsh01 -2.282103\n",
       "iginlja01 -0.022536\n",
       "lidstni01  1.684221\n",
       "visnolu01  0.900397\n",
       "zidlima01 -0.659128\n",
       "streima01  0.379149"
      ]
     },
     "execution_count": 33,
     "metadata": {},
     "output_type": "execute_result"
    }
   ],
   "source": [
    "df_age_38"
   ]
  },
  {
   "cell_type": "code",
   "execution_count": 34,
   "metadata": {
    "collapsed": false
   },
   "outputs": [],
   "source": [
    "dictPlayer={}"
   ]
  },
  {
   "cell_type": "code",
   "execution_count": 35,
   "metadata": {
    "collapsed": false
   },
   "outputs": [],
   "source": [
    "for i in range(len(df_age_19)):\n",
    "    dictAge={}\n",
    "    if df_age_19.index[i] in dictPlayer:\n",
    "        \n",
    "        data=list(df_age_19.iloc[i])\n",
    "        if 19 not in dictAge:\n",
    "            dictPlayer[df_age_19.index[i]][19]=data\n",
    "        \n",
    "    else:\n",
    "        data=list(df_age_19.iloc[i])\n",
    "        dictAge[19]=data\n",
    "        dictPlayer[df_age_19.index[i]]=dictAge"
   ]
  },
  {
   "cell_type": "code",
   "execution_count": 36,
   "metadata": {
    "collapsed": false
   },
   "outputs": [],
   "source": [
    "for i in range(len(df_age_20)):\n",
    "    dictAge={}\n",
    "    if df_age_20.index[i] in dictPlayer:\n",
    "        \n",
    "        data=list(df_age_20.iloc[i])\n",
    "        if 20 not in dictAge:\n",
    "            dictPlayer[df_age_20.index[i]][20]=data\n",
    "        \n",
    "    else:\n",
    "        data=list(df_age_20.iloc[i])\n",
    "        dictAge[20]=data\n",
    "        dictPlayer[df_age_20.index[i]]=dictAge"
   ]
  },
  {
   "cell_type": "code",
   "execution_count": 37,
   "metadata": {
    "collapsed": false
   },
   "outputs": [],
   "source": [
    "for i in range(len(df_age_21)):\n",
    "    dictAge={}\n",
    "    if df_age_21.index[i] in dictPlayer:\n",
    "        \n",
    "        data=list(df_age_21.iloc[i])\n",
    "        if 21 not in dictAge:\n",
    "            dictPlayer[df_age_21.index[i]][21]=data\n",
    "        \n",
    "    else:\n",
    "        data=list(df_age_21.iloc[i])\n",
    "        dictAge[21]=data\n",
    "        dictPlayer[df_age_21.index[i]]=dictAge"
   ]
  },
  {
   "cell_type": "code",
   "execution_count": 38,
   "metadata": {
    "collapsed": true
   },
   "outputs": [],
   "source": [
    "for i in range(len(df_age_22)):\n",
    "    dictAge={}\n",
    "    if df_age_22.index[i] in dictPlayer:\n",
    "        \n",
    "        data=list(df_age_22.iloc[i])\n",
    "        if 22 not in dictAge:\n",
    "            dictPlayer[df_age_22.index[i]][22]=data\n",
    "        \n",
    "    else:\n",
    "        data=list(df_age_22.iloc[i])\n",
    "        dictAge[22]=data\n",
    "        dictPlayer[df_age_22.index[i]]=dictAge"
   ]
  },
  {
   "cell_type": "code",
   "execution_count": 39,
   "metadata": {
    "collapsed": true
   },
   "outputs": [],
   "source": [
    "for i in range(len(df_age_23)):\n",
    "    dictAge={}\n",
    "    if df_age_23.index[i] in dictPlayer:\n",
    "        \n",
    "        data=list(df_age_23.iloc[i])\n",
    "        if 23 not in dictAge:\n",
    "            dictPlayer[df_age_23.index[i]][23]=data\n",
    "        \n",
    "    else:\n",
    "        data=list(df_age_23.iloc[i])\n",
    "        dictAge[23]=data\n",
    "        dictPlayer[df_age_23.index[i]]=dictAge"
   ]
  },
  {
   "cell_type": "code",
   "execution_count": 40,
   "metadata": {
    "collapsed": true
   },
   "outputs": [],
   "source": [
    "for i in range(len(df_age_24)):\n",
    "    dictAge={}\n",
    "    if df_age_24.index[i] in dictPlayer:\n",
    "        \n",
    "        data=list(df_age_24.iloc[i])\n",
    "        if 24 not in dictAge:\n",
    "            dictPlayer[df_age_24.index[i]][24]=data\n",
    "        \n",
    "    else:\n",
    "        data=list(df_age_24.iloc[i])\n",
    "        dictAge[24]=data\n",
    "        dictPlayer[df_age_24.index[i]]=dictAge"
   ]
  },
  {
   "cell_type": "code",
   "execution_count": 41,
   "metadata": {
    "collapsed": true
   },
   "outputs": [],
   "source": [
    "for i in range(len(df_age_25)):\n",
    "    dictAge={}\n",
    "    if df_age_25.index[i] in dictPlayer:\n",
    "        \n",
    "        data=list(df_age_25.iloc[i])\n",
    "        if 25 not in dictAge:\n",
    "            dictPlayer[df_age_25.index[i]][25]=data\n",
    "        \n",
    "    else:\n",
    "        data=list(df_age_25.iloc[i])\n",
    "        dictAge[25]=data\n",
    "        dictPlayer[df_age_25.index[i]]=dictAge"
   ]
  },
  {
   "cell_type": "code",
   "execution_count": 42,
   "metadata": {
    "collapsed": true
   },
   "outputs": [],
   "source": [
    "for i in range(len(df_age_26)):\n",
    "    dictAge={}\n",
    "    if df_age_26.index[i] in dictPlayer:\n",
    "        \n",
    "        data=list(df_age_26.iloc[i])\n",
    "        if 26 not in dictAge:\n",
    "            dictPlayer[df_age_26.index[i]][26]=data\n",
    "        \n",
    "    else:\n",
    "        data=list(df_age_26.iloc[i])\n",
    "        dictAge[26]=data\n",
    "        dictPlayer[df_age_26.index[i]]=dictAge"
   ]
  },
  {
   "cell_type": "code",
   "execution_count": 43,
   "metadata": {
    "collapsed": true
   },
   "outputs": [],
   "source": [
    "for i in range(len(df_age_27)):\n",
    "    dictAge={}\n",
    "    if df_age_27.index[i] in dictPlayer:\n",
    "        \n",
    "        data=list(df_age_27.iloc[i])\n",
    "        if 27 not in dictAge:\n",
    "            dictPlayer[df_age_27.index[i]][27]=data\n",
    "        \n",
    "    else:\n",
    "        data=list(df_age_27.iloc[i])\n",
    "        dictAge[27]=data\n",
    "        dictPlayer[df_age_27.index[i]]=dictAge"
   ]
  },
  {
   "cell_type": "code",
   "execution_count": 44,
   "metadata": {
    "collapsed": true
   },
   "outputs": [],
   "source": [
    "for i in range(len(df_age_28)):\n",
    "    dictAge={}\n",
    "    if df_age_28.index[i] in dictPlayer:\n",
    "        \n",
    "        data=list(df_age_28.iloc[i])\n",
    "        if 28 not in dictAge:\n",
    "            dictPlayer[df_age_28.index[i]][28]=data\n",
    "        \n",
    "    else:\n",
    "        data=list(df_age_28.iloc[i])\n",
    "        dictAge[28]=data\n",
    "        dictPlayer[df_age_28.index[i]]=dictAge"
   ]
  },
  {
   "cell_type": "code",
   "execution_count": 45,
   "metadata": {
    "collapsed": true
   },
   "outputs": [],
   "source": [
    "for i in range(len(df_age_29)):\n",
    "    dictAge={}\n",
    "    if df_age_29.index[i] in dictPlayer:\n",
    "        \n",
    "        data=list(df_age_29.iloc[i])\n",
    "        if 29 not in dictAge:\n",
    "            dictPlayer[df_age_29.index[i]][29]=data\n",
    "        \n",
    "    else:\n",
    "        data=list(df_age_29.iloc[i])\n",
    "        dictAge[29]=data\n",
    "        dictPlayer[df_age_29.index[i]]=dictAge"
   ]
  },
  {
   "cell_type": "code",
   "execution_count": 46,
   "metadata": {
    "collapsed": true
   },
   "outputs": [],
   "source": [
    "for i in range(len(df_age_30)):\n",
    "    dictAge={}\n",
    "    if df_age_30.index[i] in dictPlayer:\n",
    "        \n",
    "        data=list(df_age_30.iloc[i])\n",
    "        if 30 not in dictAge:\n",
    "            dictPlayer[df_age_30.index[i]][30]=data\n",
    "        \n",
    "    else:\n",
    "        data=list(df_age_30.iloc[i])\n",
    "        dictAge[30]=data\n",
    "        dictPlayer[df_age_30.index[i]]=dictAge"
   ]
  },
  {
   "cell_type": "code",
   "execution_count": 47,
   "metadata": {
    "collapsed": true
   },
   "outputs": [],
   "source": [
    "for i in range(len(df_age_31)):\n",
    "    dictAge={}\n",
    "    if df_age_31.index[i] in dictPlayer:\n",
    "        \n",
    "        data=list(df_age_31.iloc[i])\n",
    "        if 31 not in dictAge:\n",
    "            dictPlayer[df_age_31.index[i]][31]=data\n",
    "        \n",
    "    else:\n",
    "        data=list(df_age_31.iloc[i])\n",
    "        dictAge[31]=data\n",
    "        dictPlayer[df_age_31.index[i]]=dictAge"
   ]
  },
  {
   "cell_type": "code",
   "execution_count": 48,
   "metadata": {
    "collapsed": true
   },
   "outputs": [],
   "source": [
    "for i in range(len(df_age_32)):\n",
    "    dictAge={}\n",
    "    if df_age_32.index[i] in dictPlayer:\n",
    "        \n",
    "        data=list(df_age_32.iloc[i])\n",
    "        if 32 not in dictAge:\n",
    "            dictPlayer[df_age_32.index[i]][32]=data\n",
    "        \n",
    "    else:\n",
    "        data=list(df_age_32.iloc[i])\n",
    "        dictAge[32]=data\n",
    "        dictPlayer[df_age_32.index[i]]=dictAge"
   ]
  },
  {
   "cell_type": "code",
   "execution_count": 49,
   "metadata": {
    "collapsed": true
   },
   "outputs": [],
   "source": [
    "for i in range(len(df_age_33)):\n",
    "    dictAge={}\n",
    "    if df_age_33.index[i] in dictPlayer:\n",
    "        \n",
    "        data=list(df_age_33.iloc[i])\n",
    "        if 33 not in dictAge:\n",
    "            dictPlayer[df_age_33.index[i]][33]=data\n",
    "        \n",
    "    else:\n",
    "        data=list(df_age_33.iloc[i])\n",
    "        dictAge[33]=data\n",
    "        dictPlayer[df_age_33.index[i]]=dictAge"
   ]
  },
  {
   "cell_type": "code",
   "execution_count": 50,
   "metadata": {
    "collapsed": true
   },
   "outputs": [],
   "source": [
    "for i in range(len(df_age_34)):\n",
    "    dictAge={}\n",
    "    if df_age_34.index[i] in dictPlayer:\n",
    "        \n",
    "        data=list(df_age_34.iloc[i])\n",
    "        if 34 not in dictAge:\n",
    "            dictPlayer[df_age_34.index[i]][34]=data\n",
    "        \n",
    "    else:\n",
    "        data=list(df_age_34.iloc[i])\n",
    "        dictAge[34]=data\n",
    "        dictPlayer[df_age_34.index[i]]=dictAge"
   ]
  },
  {
   "cell_type": "code",
   "execution_count": 51,
   "metadata": {
    "collapsed": true
   },
   "outputs": [],
   "source": [
    "for i in range(len(df_age_35)):\n",
    "    dictAge={}\n",
    "    if df_age_35.index[i] in dictPlayer:\n",
    "        \n",
    "        data=list(df_age_35.iloc[i])\n",
    "        if 35 not in dictAge:\n",
    "            dictPlayer[df_age_35.index[i]][35]=data\n",
    "        \n",
    "    else:\n",
    "        data=list(df_age_35.iloc[i])\n",
    "        dictAge[35]=data\n",
    "        dictPlayer[df_age_35.index[i]]=dictAge"
   ]
  },
  {
   "cell_type": "code",
   "execution_count": 52,
   "metadata": {
    "collapsed": true
   },
   "outputs": [],
   "source": [
    "for i in range(len(df_age_36)):\n",
    "    dictAge={}\n",
    "    if df_age_36.index[i] in dictPlayer:\n",
    "        \n",
    "        data=list(df_age_36.iloc[i])\n",
    "        if 36 not in dictAge:\n",
    "            dictPlayer[df_age_36.index[i]][36]=data\n",
    "        \n",
    "    else:\n",
    "        data=list(df_age_36.iloc[i])\n",
    "        dictAge[36]=data\n",
    "        dictPlayer[df_age_36.index[i]]=dictAge"
   ]
  },
  {
   "cell_type": "code",
   "execution_count": 53,
   "metadata": {
    "collapsed": true
   },
   "outputs": [],
   "source": [
    "for i in range(len(df_age_37)):\n",
    "    dictAge={}\n",
    "    if df_age_37.index[i] in dictPlayer:\n",
    "        \n",
    "        data=list(df_age_37.iloc[i])\n",
    "        if 37 not in dictAge:\n",
    "            dictPlayer[df_age_37.index[i]][37]=data\n",
    "        \n",
    "    else:\n",
    "        data=list(df_age_37.iloc[i])\n",
    "        dictAge[37]=data\n",
    "        dictPlayer[df_age_37.index[i]]=dictAge"
   ]
  },
  {
   "cell_type": "code",
   "execution_count": 54,
   "metadata": {
    "collapsed": true
   },
   "outputs": [],
   "source": [
    "for i in range(len(df_age_38)):\n",
    "    dictAge={}\n",
    "    if df_age_38.index[i] in dictPlayer:\n",
    "        \n",
    "        data=list(df_age_38.iloc[i])\n",
    "        if 38 not in dictAge:\n",
    "            dictPlayer[df_age_38.index[i]][38]=data\n",
    "        \n",
    "    else:\n",
    "        data=list(df_age_38.iloc[i])\n",
    "        dictAge[38]=data\n",
    "        dictPlayer[df_age_38.index[i]]=dictAge"
   ]
  },
  {
   "cell_type": "code",
   "execution_count": 55,
   "metadata": {
    "collapsed": true
   },
   "outputs": [],
   "source": [
    "# for i in range(len(df_age_39)):\n",
    "#     dictAge={}\n",
    "#     if df_age_39.index[i] in dictPlayer:\n",
    "        \n",
    "#         data=list(df_age_39.iloc[i])\n",
    "#         if 39 not in dictAge:\n",
    "#             dictPlayer[df_age_39.index[i]][39]=data\n",
    "        \n",
    "#     else:\n",
    "#         data=list(df_age_39.iloc[i])\n",
    "#         dictAge[39]=data\n",
    "#         dictPlayer[df_age_39.index[i]]=dictAge"
   ]
  },
  {
   "cell_type": "code",
   "execution_count": null,
   "metadata": {
    "collapsed": true
   },
   "outputs": [],
   "source": []
  },
  {
   "cell_type": "code",
   "execution_count": null,
   "metadata": {
    "collapsed": true
   },
   "outputs": [],
   "source": []
  },
  {
   "cell_type": "code",
   "execution_count": 56,
   "metadata": {
    "collapsed": true
   },
   "outputs": [],
   "source": [
    "allplayer=dictPlayer.keys()"
   ]
  },
  {
   "cell_type": "code",
   "execution_count": 57,
   "metadata": {
    "collapsed": false
   },
   "outputs": [],
   "source": [
    "playernum=len(allplayer)"
   ]
  },
  {
   "cell_type": "code",
   "execution_count": 58,
   "metadata": {
    "collapsed": true
   },
   "outputs": [],
   "source": [
    "Matrix = [[0 for x in range(playernum)] for y in range(playernum)]"
   ]
  },
  {
   "cell_type": "code",
   "execution_count": 59,
   "metadata": {
    "collapsed": false
   },
   "outputs": [],
   "source": [
    "for ith in range(0,playernum):\n",
    "    for jth in range(0,playernum):\n",
    "        player1=allplayer[ith]\n",
    "        player2=allplayer[jth]\n",
    "        \n",
    "        p1=dictPlayer[player1].keys()\n",
    "        p2=dictPlayer[player2].keys()\n",
    "        \n",
    "        years=list(set(p1) & set(p2))\n",
    "        \n",
    "        \n",
    "        if len(years)!=0:\n",
    "            error=0\n",
    "            for elem in years:\n",
    "\n",
    "                suberror=0\n",
    "                for it in range(0,1):\n",
    "                    suberror=suberror+(dictPlayer[player1][elem][it]-dictPlayer[player2][elem][it])**2\n",
    "                error=error+math.sqrt(suberror)\n",
    "\n",
    "#             print error/(len(years)**(1.5))\n",
    "#             print ith\n",
    "#             print jth\n",
    "            Matrix[ith][jth]=error/(len(years)**(1.5))\n",
    "#             print Matrix\n",
    "        else:\n",
    "            Matrix[ith][jth]=0\n",
    "            "
   ]
  },
  {
   "cell_type": "code",
   "execution_count": 60,
   "metadata": {
    "collapsed": false
   },
   "outputs": [],
   "source": [
    "similarity = pd.DataFrame(Matrix,columns=allplayer[:playernum])\n",
    "similarity['name']=allplayer[:playernum]\n",
    "similarity=similarity.set_index('name')\n",
    "similarity.to_csv('PCA_Folder/similarity_PG_1.csv')"
   ]
  },
  {
   "cell_type": "code",
   "execution_count": 34,
   "metadata": {
    "collapsed": true
   },
   "outputs": [],
   "source": []
  },
  {
   "cell_type": "code",
   "execution_count": 35,
   "metadata": {
    "collapsed": false
   },
   "outputs": [],
   "source": []
  },
  {
   "cell_type": "code",
   "execution_count": 36,
   "metadata": {
    "collapsed": false
   },
   "outputs": [],
   "source": []
  },
  {
   "cell_type": "code",
   "execution_count": null,
   "metadata": {
    "collapsed": true
   },
   "outputs": [],
   "source": []
  }
 ],
 "metadata": {
  "kernelspec": {
   "display_name": "Python 2",
   "language": "python",
   "name": "python2"
  },
  "language_info": {
   "codemirror_mode": {
    "name": "ipython",
    "version": 2
   },
   "file_extension": ".py",
   "mimetype": "text/x-python",
   "name": "python",
   "nbconvert_exporter": "python",
   "pygments_lexer": "ipython2",
   "version": "2.7.12"
  }
 },
 "nbformat": 4,
 "nbformat_minor": 0
}
