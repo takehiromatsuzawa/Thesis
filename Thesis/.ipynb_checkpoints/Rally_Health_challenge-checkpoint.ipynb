{
 "cells": [
  {
   "cell_type": "markdown",
   "metadata": {
    "collapsed": true
   },
   "source": [
    "##Maze\n",
    "maze takes four values. the number of rows, number of columns, (x,y) coordinates of goal of the maze and percent of walls\n",
    "\n",
    "##Search\n",
    "seach takes the start of the maze (x,y)\n",
    "\n",
    "print out which cell you visit"
   ]
  },
  {
   "cell_type": "code",
   "execution_count": null,
   "metadata": {
    "collapsed": false
   },
   "outputs": [],
   "source": [
    "import numpy as np\n",
    "class maze:\n",
    "    def __init__(self,row,col,endx,endy,percent):\n",
    "        self.matrix=[[0 for x in range(col)] for y in range(row)]\n",
    "        # cell 0 means a road. cell 1 means a wall\n",
    "        for i in range(0,row):\n",
    "            for j in range(0,col):\n",
    "                if np.random.randint(1, 100)<percent:\n",
    "                    self.matrix[i][j]=1\n",
    "        # if goal is outside the maze, print 'invalid value'\n",
    "        if endx>=row or endy>=col or endx<0 or endy<0:\n",
    "            print 'Invalid Value. Goal is outside the the maze'\n",
    "        else:\n",
    "            #cell 3 means a goal\n",
    "            self.matrix[endx][endy]=3\n",
    "        \n",
    "    def search(self,x, y):\n",
    "        if x<0 or x >= len(self.matrix) or y<0 or y >= len(self.matrix[0]):\n",
    "            return False\n",
    "        if self.matrix[x][y] == 1:\n",
    "            #if the cell is a wall\n",
    "            return False\n",
    "        \n",
    "        elif self.matrix[x][y] == 2:\n",
    "            #if this cell is visited already\n",
    "            return False\n",
    "        \n",
    "        elif self.matrix[x][y] == 3:\n",
    "            print 'Reached goal at %d,%d' % (x, y)\n",
    "            return True\n",
    "        \n",
    "        \n",
    "        #visit the cell\n",
    "        print 'visit %d,%d' % (x, y)\n",
    "        \n",
    "        \n",
    "        # make this cell as visited\n",
    "        self.matrix[x][y] = 2\n",
    "\n",
    "        # go to right,left,top, bottom recursively\n",
    "        if ((x < len(self.matrix)-1 and self.search(x+1, y))\n",
    "            or (x > 0 and self.search(x-1, y))\n",
    "            or (y < len(self.matrix[0])-1 and self.search(x, y+1))\n",
    "            or (y > 0 and self.search(x, y-1))):\n",
    "            \n",
    "            return True\n",
    "            \n",
    "\n",
    "        return False\n",
    "\n",
    "maze1=maze(4,5,3,4,30)\n",
    "print maze1.matrix\n",
    "maze1.search(0,0)"
   ]
  },
  {
   "cell_type": "code",
   "execution_count": null,
   "metadata": {
    "collapsed": true
   },
   "outputs": [],
   "source": []
  }
 ],
 "metadata": {
  "kernelspec": {
   "display_name": "Python 2",
   "language": "python",
   "name": "python2"
  },
  "language_info": {
   "codemirror_mode": {
    "name": "ipython",
    "version": 2
   },
   "file_extension": ".py",
   "mimetype": "text/x-python",
   "name": "python",
   "nbconvert_exporter": "python",
   "pygments_lexer": "ipython2",
   "version": "2.7.11"
  }
 },
 "nbformat": 4,
 "nbformat_minor": 0
}
