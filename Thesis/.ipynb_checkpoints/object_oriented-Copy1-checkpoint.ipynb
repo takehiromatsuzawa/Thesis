{
 "cells": [
  {
   "cell_type": "markdown",
   "metadata": {
    "collapsed": true
   },
   "source": [
    "##Maze\n",
    "maze takes four values. the number of rows, number of columns, (x,y) coordinates of goal of the maze and percent of walls. Initialize the maze.\n",
    "\n",
    "##Search\n",
    "seach takes the start of the maze (x,y)\n",
    "\n",
    "print out which cell you visit.\n",
    "If it returns False, this means there is no path to the goal"
   ]
  },
  {
   "cell_type": "code",
   "execution_count": 15,
   "metadata": {
    "collapsed": false
   },
   "outputs": [
    {
     "name": "stdout",
     "output_type": "stream",
     "text": [
      "[[0, 1, 0, 0, 1], [0, 0, 0, 0, 0], [1, 0, 0, 0, 1], [1, 1, 1, 1, 3]]\n",
      "\n",
      "visit 0,0\n",
      "visit 1,0\n",
      "visit 1,1\n",
      "visit 2,1\n",
      "visit 2,2\n",
      "visit 1,2\n",
      "visit 0,2\n",
      "visit 0,3\n",
      "visit 1,3\n",
      "visit 2,3\n",
      "visit 1,4\n"
     ]
    },
    {
     "data": {
      "text/plain": [
       "False"
      ]
     },
     "execution_count": 15,
     "metadata": {},
     "output_type": "execute_result"
    }
   ],
   "source": [
    "import numpy as np\n",
    "class Maze:\n",
    "    def __init__(self,row,col,endx,endy,percent):\n",
    "        self.matrix=[[0 for x in range(col)] for y in range(row)]\n",
    "        # cell 0 means a road. cell 1 means a wall\n",
    "        for i in range(0,row):\n",
    "            for j in range(0,col):\n",
    "                if np.random.randint(1, 100)<percent:\n",
    "                    self.matrix[i][j]=1\n",
    "        # if goal is outside the maze, print 'invalid value'\n",
    "        if endx>=row or endy>=col or endx<0 or endy<0:\n",
    "            print 'Invalid Value. Goal is outside the the maze'\n",
    "        else:\n",
    "            #cell 3 means a goal\n",
    "            self.matrix[endx][endy]=3\n",
    "        \n",
    "    def search(self,x, y):\n",
    "        if x<0 or x >= len(self.matrix) or y<0 or y >= len(self.matrix[0]):\n",
    "            print 'Invalid Value. Start is outside the the maze'\n",
    "            return False\n",
    "        \n",
    "        if self.matrix[x][y] == 1:\n",
    "            #if the cell is a wall\n",
    "            return False\n",
    "        \n",
    "        elif self.matrix[x][y] == 2:\n",
    "            #if this cell is visited already\n",
    "            return False\n",
    "        \n",
    "        elif self.matrix[x][y] == 3:\n",
    "            print 'Reached goal at %d,%d' % (x, y)\n",
    "            return True\n",
    "        \n",
    "        \n",
    "        #visit the cell\n",
    "        print 'visit %d,%d' % (x, y)\n",
    "        \n",
    "        \n",
    "        # make this cell as visited\n",
    "        self.matrix[x][y] = 2\n",
    "\n",
    "        # go to right,left,top, bottom recursively\n",
    "        if ((x < len(self.matrix)-1 and self.search(x+1, y))\n",
    "            or (x > 0 and self.search(x-1, y))\n",
    "            or (y < len(self.matrix[0])-1 and self.search(x, y+1))\n",
    "            or (y > 0 and self.search(x, y-1))):\n",
    "            \n",
    "            return True\n",
    "            \n",
    "\n",
    "        return False\n",
    "\n",
    "Maze1=Maze(4,5,3,4,30)\n",
    "#print out the maze\n",
    "print Maze1.matrix\n",
    "print\n",
    "Maze1.search(0,0)"
   ]
  },
  {
   "cell_type": "code",
   "execution_count": null,
   "metadata": {
    "collapsed": true
   },
   "outputs": [],
   "source": []
  },
  {
   "cell_type": "code",
   "execution_count": 201,
   "metadata": {
    "collapsed": false
   },
   "outputs": [],
   "source": [
    "class Island:\n",
    "    def __init__(self,row,col):\n",
    "        self.matrix=[]\n",
    "        \n",
    "        for i in range(row):\n",
    "            temp=[]\n",
    "            for j in range(col):\n",
    "                if np.random.randint(1, 100)<50:\n",
    "                    temp.append(1)\n",
    "                else:\n",
    "                    temp.append(0)\n",
    "            self.matrix.append(temp)\n",
    "        \n",
    "        self.used=[]\n",
    "        for i in range(row):\n",
    "            temp=[]\n",
    "            for j in range(col):\n",
    "                temp.append(0)\n",
    "                \n",
    "            self.used.append(temp)\n",
    "        self.count=0\n",
    "    \n",
    "    def solve(self):\n",
    "        for i in range(len(self.matrix)):\n",
    "            for j in range(len(self.matrix[0])):\n",
    "                if self.matrix[i][j]==1 and self.used[i][j]==0:\n",
    "                    print 'print self.count'\n",
    "                    print self.count\n",
    "                    self.iterate(i,j)\n",
    "                    self.count=self.count+1\n",
    "        \n",
    "        print 'End'\n",
    "        print self.used\n",
    "        return self.count\n",
    "    \n",
    "    def iterate(self,i,j):\n",
    "        \n",
    "        if self.matrix[i][j]==0 or self.used[i][j]==1:\n",
    "            return\n",
    "        else:\n",
    "            self.used[i][j]=1\n",
    "            \n",
    "            print i \n",
    "            print j\n",
    "            print self.used\n",
    "            \n",
    "            if i<len(self.matrix[0])-2:\n",
    "                self.iterate(i+1,j)\n",
    "                \n",
    "            if i>0:\n",
    "                self.iterate(i-1,j)\n",
    "                \n",
    "            if j<len(self.matrix)-2:\n",
    "                self.iterate(i,j+1)\n",
    "                \n",
    "            if j>0:\n",
    "                self.iterate(i,j-1)\n",
    "                \n",
    "                "
   ]
  },
  {
   "cell_type": "code",
   "execution_count": 202,
   "metadata": {
    "collapsed": false
   },
   "outputs": [],
   "source": [
    "islan=Island(3,3)"
   ]
  },
  {
   "cell_type": "code",
   "execution_count": 203,
   "metadata": {
    "collapsed": false
   },
   "outputs": [
    {
     "data": {
      "text/plain": [
       "[[1, 0, 0], [1, 1, 1], [0, 1, 0]]"
      ]
     },
     "execution_count": 203,
     "metadata": {},
     "output_type": "execute_result"
    }
   ],
   "source": [
    "islan.matrix"
   ]
  },
  {
   "cell_type": "code",
   "execution_count": 204,
   "metadata": {
    "collapsed": false
   },
   "outputs": [
    {
     "data": {
      "text/plain": [
       "[[0, 0, 0], [0, 0, 0], [0, 0, 0]]"
      ]
     },
     "execution_count": 204,
     "metadata": {},
     "output_type": "execute_result"
    }
   ],
   "source": [
    "islan.used"
   ]
  },
  {
   "cell_type": "code",
   "execution_count": 206,
   "metadata": {
    "collapsed": false
   },
   "outputs": [
    {
     "data": {
      "text/plain": [
       "3"
      ]
     },
     "execution_count": 206,
     "metadata": {},
     "output_type": "execute_result"
    }
   ],
   "source": [
    "islan.count"
   ]
  },
  {
   "cell_type": "code",
   "execution_count": 205,
   "metadata": {
    "collapsed": false
   },
   "outputs": [
    {
     "name": "stdout",
     "output_type": "stream",
     "text": [
      "print self.count\n",
      "0\n",
      "0\n",
      "0\n",
      "[[1, 0, 0], [0, 0, 0], [0, 0, 0]]\n",
      "1\n",
      "0\n",
      "[[1, 0, 0], [1, 0, 0], [0, 0, 0]]\n",
      "1\n",
      "1\n",
      "[[1, 0, 0], [1, 1, 0], [0, 0, 0]]\n",
      "print self.count\n",
      "1\n",
      "1\n",
      "2\n",
      "[[1, 0, 0], [1, 1, 1], [0, 0, 0]]\n",
      "print self.count\n",
      "2\n",
      "2\n",
      "1\n",
      "[[1, 0, 0], [1, 1, 1], [0, 1, 0]]\n",
      "End\n",
      "[[1, 0, 0], [1, 1, 1], [0, 1, 0]]\n"
     ]
    },
    {
     "data": {
      "text/plain": [
       "3"
      ]
     },
     "execution_count": 205,
     "metadata": {},
     "output_type": "execute_result"
    }
   ],
   "source": [
    "islan.solve()"
   ]
  },
  {
   "cell_type": "code",
   "execution_count": 50,
   "metadata": {
    "collapsed": true
   },
   "outputs": [],
   "source": [
    "import numpy as np\n",
    "class Maze:\n",
    "    def __init__(self,row,col,endx,endy,percent):\n",
    "        self.matrix=[[0 for x in range(col)] for y in range(row)]\n",
    "        \n",
    "        # cell 0 means a road. cell 1 means a wall\n",
    "        for i in range(0,row):\n",
    "            for j in range(0,col):\n",
    "                if np.random.randint(1, 100)<percent:\n",
    "                    self.matrix[i][j]=1\n",
    "        # if goal is outside the maze, print 'invalid value'\n",
    "        if endx>=row or endy>=col or endx<0 or endy<0:\n",
    "            print 'Invalid Value. Goal is outside the the maze'\n",
    "        else:\n",
    "            #cell 3 means a goal\n",
    "            self.matrix[endx][endy]=3\n",
    "            \n",
    "    \n",
    "    def solve(self,x,y):\n",
    "        if self.matrix[x][y]==1:\n",
    "            return False\n",
    "        \n",
    "        if self.matrix[x][y]==2:\n",
    "            return False\n",
    "        \n",
    "        if self.matrix[x][y]==3:\n",
    "            return True\n",
    "        \n",
    "        self.matrix[x][y]=2\n",
    "        print x,y\n",
    "        if ((x<len(self.matrix)-1 and self.solve(x+1,y)) or\n",
    "            (x>0 and self.solve(x-1,y)) or \n",
    "            (y<len(self.matrix[x])-1 and self.solve(x,y+1))or \n",
    "            (y>0 and self.solve(x,y-1))):\n",
    "            return True"
   ]
  },
  {
   "cell_type": "code",
   "execution_count": 53,
   "metadata": {
    "collapsed": false
   },
   "outputs": [
    {
     "ename": "NameError",
     "evalue": "name 'Island' is not defined",
     "output_type": "error",
     "traceback": [
      "\u001b[0;31m---------------------------------------------------------------------------\u001b[0m",
      "\u001b[0;31mNameError\u001b[0m                                 Traceback (most recent call last)",
      "\u001b[0;32m<ipython-input-53-38427640753b>\u001b[0m in \u001b[0;36m<module>\u001b[0;34m()\u001b[0m\n\u001b[0;32m----> 1\u001b[0;31m \u001b[0mislan\u001b[0m\u001b[0;34m=\u001b[0m\u001b[0mIsland\u001b[0m\u001b[0;34m(\u001b[0m\u001b[0;36m3\u001b[0m\u001b[0;34m,\u001b[0m\u001b[0;36m3\u001b[0m\u001b[0;34m)\u001b[0m\u001b[0;34m\u001b[0m\u001b[0m\n\u001b[0m",
      "\u001b[0;31mNameError\u001b[0m: name 'Island' is not defined"
     ]
    }
   ],
   "source": []
  },
  {
   "cell_type": "code",
   "execution_count": 51,
   "metadata": {
    "collapsed": false
   },
   "outputs": [
    {
     "name": "stdout",
     "output_type": "stream",
     "text": [
      "0 0\n",
      "1 0\n",
      "2 0\n",
      "3 0\n",
      "2 1\n",
      "2 2\n",
      "3 2\n",
      "3 3\n"
     ]
    },
    {
     "data": {
      "text/plain": [
       "True"
      ]
     },
     "execution_count": 51,
     "metadata": {},
     "output_type": "execute_result"
    }
   ],
   "source": [
    "maze1=Maze(4,4,2,3,30)\n",
    "maze1.matrix\n",
    "maze1.solve(0,0)"
   ]
  },
  {
   "cell_type": "code",
   "execution_count": 90,
   "metadata": {
    "collapsed": true
   },
   "outputs": [],
   "source": [
    "class islander:\n",
    "    def __init__(self,row,col):\n",
    "        self.matrix=[[0 for x in range(col)] for y in range(row)]\n",
    "        self.used=[[0 for x in range(col)] for y in range(row)]\n",
    "        self.row=row\n",
    "        self.col=col\n",
    "        # cell 0 means a road. cell 1 means a wall\n",
    "        for i in range(0,row):\n",
    "            for j in range(0,col):\n",
    "                if np.random.randint(1, 100)<30:\n",
    "                    self.matrix[i][j]=1\n",
    "    \n",
    "    def solve(self):\n",
    "        count=0\n",
    "        #print count\n",
    "        for ithrow in range(0,self.row):\n",
    "            for ithcol in range(0,self.col):\n",
    "                #print count\n",
    "                if self.matrix[ithrow][ithcol]==1 and self.used[ithrow][ithcol]==0:\n",
    "                    self.recur(ithrow,ithcol)\n",
    "                    count=count+1\n",
    "                    print count\n",
    "    \n",
    "    def recur(self,x,y):\n",
    "        \n",
    "        if self.matrix[x][y]==0 or self.used[x][y]==1:\n",
    "            return\n",
    "        \n",
    "        else:\n",
    "            self.used[x][y]=1\n",
    "            if x<self.row-2:\n",
    "                self.recur(x+1,y)\n",
    "            \n",
    "            if x>0:\n",
    "                self.recur(x-1,y)\n",
    "            \n",
    "            if y<self.col-2:\n",
    "                self.recur(x,y+1)\n",
    "                \n",
    "            if y>0:\n",
    "                self.recur(x,y-1)\n",
    "    "
   ]
  },
  {
   "cell_type": "code",
   "execution_count": 91,
   "metadata": {
    "collapsed": false
   },
   "outputs": [],
   "source": [
    "islan=islander(3,3)"
   ]
  },
  {
   "cell_type": "code",
   "execution_count": 92,
   "metadata": {
    "collapsed": false
   },
   "outputs": [
    {
     "name": "stdout",
     "output_type": "stream",
     "text": [
      "[[0, 0, 1], [1, 0, 1], [1, 0, 0]]\n",
      "1\n",
      "2\n",
      "3\n"
     ]
    }
   ],
   "source": [
    "print islan.matrix\n",
    "islan.solve()"
   ]
  },
  {
   "cell_type": "code",
   "execution_count": 28,
   "metadata": {
    "collapsed": false
   },
   "outputs": [],
   "source": [
    "import numpy as np\n",
    "class Maze:\n",
    "    def __init__(self,row,col,endx,endy,percent):\n",
    "        self.matrix=[[0 for x in range(col)] for y in range(row)]\n",
    "        \n",
    "        # cell 0 means a road. cell 1 means a wall\n",
    "        for i in range(0,row):\n",
    "            for j in range(0,col):\n",
    "                if np.random.randint(1, 100)<percent:\n",
    "                    self.matrix[i][j]=1\n",
    "        # if goal is outside the maze, print 'invalid value'\n",
    "        if endx>=row or endy>=col or endx<0 or endy<0:\n",
    "            print 'Invalid Value. Goal is outside the the maze'\n",
    "        else:\n",
    "            #cell 3 means a goal\n",
    "            self.matrix[endx][endy]=3\n",
    "        \n",
    "\n",
    "    def solve(self,x,y):\n",
    "        \n",
    "        if self.matrix[x][y]==1:\n",
    "            return False\n",
    "        elif self.matrix[x][y]==2:\n",
    "            return False\n",
    "        \n",
    "        elif self.matrix[x][y]==3:\n",
    "            return True\n",
    "            \n",
    "        if self.matrix[x][y]==0:\n",
    "            self.matrix[x][y]=2\n",
    "            \n",
    "        print \"visitng: \"+str(x)+\", \"+ str(y)\n",
    "        if ((x<len(self.matrix)-2 and self.solve(x+1,y)) \n",
    "            or (x>0 and self.solve(x-1,y))\n",
    "            or (y<len(self.matrix[0])-2 and self.solve(x,y+1))\n",
    "            or (y>0 and self.solve(x,y-1))):\n",
    "            \n",
    "            return True\n",
    "        "
   ]
  },
  {
   "cell_type": "code",
   "execution_count": 245,
   "metadata": {
    "collapsed": false
   },
   "outputs": [],
   "source": [
    "class Employee:\n",
    "    'Common base class for all employees'\n",
    "    empCount = 0\n",
    "\n",
    "    def __init__(self, name, salary):\n",
    "        self.name = name\n",
    "        self.salary = salary\n",
    "        Employee.empCount += 1\n",
    "   \n",
    "    def displayCount(self):\n",
    "        print \"Total Employee %d\" % Employee.empCount\n",
    "\n",
    "    def displayEmployee(self):\n",
    "        print \"Name : \", self.name,  \", Salary: \", self.salary"
   ]
  },
  {
   "cell_type": "code",
   "execution_count": 112,
   "metadata": {
    "collapsed": true
   },
   "outputs": [],
   "source": [
    "class Employee:\n",
    "    count_emp=0\n",
    "    \n",
    "    def __init__(self,name,salary):\n",
    "        self.name=name\n",
    "        self.salary=salary\n",
    "        Employee.count_emp=Employee.count_emp+1\n",
    "        \n",
    "    def deplayCount(self):\n",
    "        print self.count_emp\n",
    "        \n",
    "    def displayEmployee(self):\n",
    "        print self.name, self.salary"
   ]
  },
  {
   "cell_type": "code",
   "execution_count": 108,
   "metadata": {
    "collapsed": true
   },
   "outputs": [],
   "source": [
    "class Employee:\n",
    "    'Common base class for all employees'\n",
    "    count_emp = 0\n",
    "\n",
    "    def __init__(self, name, salary):\n",
    "        self.name = name\n",
    "        self.salary = salary\n",
    "        Employee.count_emp += 1\n",
    "   \n",
    "    def deplayCount(self):\n",
    "        print \"Total Employee %d\" % Employee.count_emp\n",
    "\n",
    "    def displayEmployee(self):\n",
    "        print \"Name : \", self.name,  \", Salary: \", self.salary"
   ]
  },
  {
   "cell_type": "code",
   "execution_count": 113,
   "metadata": {
    "collapsed": false
   },
   "outputs": [
    {
     "name": "stdout",
     "output_type": "stream",
     "text": [
      "1\n",
      "2\n",
      "3\n"
     ]
    },
    {
     "data": {
      "text/plain": [
       "3"
      ]
     },
     "execution_count": 113,
     "metadata": {},
     "output_type": "execute_result"
    }
   ],
   "source": [
    "emp1 = Employee(\"Zara\", 2000)\n",
    "emp1.deplayCount()\n",
    "emp2 = Employee(\"Zara\", 2000)\n",
    "emp2.deplayCount()\n",
    "emp3 = Employee(\"Zara\", 2000)\n",
    "emp3.deplayCount()\n",
    "Employee.count_emp"
   ]
  },
  {
   "cell_type": "code",
   "execution_count": 123,
   "metadata": {
    "collapsed": true
   },
   "outputs": [],
   "source": [
    "\"This would create first object of Employee class\"\n",
    "emp1 = Employee(\"Zara\", 2000)\n",
    "\"This would create second object of Employee class\"\n",
    "emp2 = Employee(\"Manni\", 5000)"
   ]
  },
  {
   "cell_type": "code",
   "execution_count": 124,
   "metadata": {
    "collapsed": false
   },
   "outputs": [
    {
     "data": {
      "text/plain": [
       "2"
      ]
     },
     "execution_count": 124,
     "metadata": {},
     "output_type": "execute_result"
    }
   ],
   "source": [
    "emp1.count_emp"
   ]
  },
  {
   "cell_type": "code",
   "execution_count": 125,
   "metadata": {
    "collapsed": false
   },
   "outputs": [
    {
     "name": "stdout",
     "output_type": "stream",
     "text": [
      "Zara 2000\n",
      "Manni 5000\n",
      "Manni 5000\n",
      "Total Employee 2\n",
      "Total Employee 0\n"
     ]
    }
   ],
   "source": [
    "emp1.displayEmployee()\n",
    "emp2.displayEmployee()\n",
    "emp2.displayEmployee()\n",
    "print \"Total Employee %d\" % Employee.count_emp\n",
    "Employee.count_emp=0\n",
    "print \"Total Employee %d\" % Employee.count_emp"
   ]
  },
  {
   "cell_type": "code",
   "execution_count": 249,
   "metadata": {
    "collapsed": false
   },
   "outputs": [
    {
     "name": "stdout",
     "output_type": "stream",
     "text": [
      "Total Employee 2\n"
     ]
    }
   ],
   "source": [
    "emp2.displayCount()"
   ]
  },
  {
   "cell_type": "code",
   "execution_count": 159,
   "metadata": {
    "collapsed": false
   },
   "outputs": [],
   "source": [
    "class Parent:\n",
    "    __parent_count=0\n",
    "    \n",
    "    def __init__(self):\n",
    "        self.items=[]\n",
    "        self.__parent_count=Parent.__parent_count+1\n",
    "        Parent.__parent_count=self.__parent_count\n",
    "        \n",
    "    def add(self,item):\n",
    "        self.items.append(item)\n",
    "    \n",
    "    def secret(self):\n",
    "        print self.__parent_count\n",
    "    \n",
    "class Child(Parent):\n",
    "    def add2(self,item1,item2):\n",
    "        self.items.append(item1)\n",
    "        self.items.append(item2)\n",
    "        \n"
   ]
  },
  {
   "cell_type": "code",
   "execution_count": 160,
   "metadata": {
    "collapsed": false
   },
   "outputs": [
    {
     "name": "stdout",
     "output_type": "stream",
     "text": [
      "1\n",
      "2\n",
      "3\n",
      "4\n"
     ]
    }
   ],
   "source": [
    "cnew=Child()\n",
    "cnew.add(24)\n",
    "cnew.add2(1,2)\n",
    "cnew.add2(11,12)\n",
    "cnew.secret()\n",
    "cnew1=Child()\n",
    "cnew2=Child()\n",
    "cnew3=Child()\n",
    "cnew1.secret()\n",
    "cnew2.secret()\n",
    "cnew3.secret()"
   ]
  },
  {
   "cell_type": "code",
   "execution_count": 136,
   "metadata": {
    "collapsed": false
   },
   "outputs": [
    {
     "name": "stdout",
     "output_type": "stream",
     "text": [
      "Calling parent constructor\n",
      "4\n",
      "Calling child method\n",
      "Calling parent method\n",
      "Parent attribute : 100\n"
     ]
    }
   ],
   "source": [
    "class Parent:        # define parent class\n",
    "    parentAttr = 100\n",
    "    def __init__(self,item):\n",
    "        self.item=item\n",
    "        print \"Calling parent constructor\"\n",
    "\n",
    "    def parentMethod(self):\n",
    "        print 'Calling parent method'\n",
    "\n",
    "    def setAttr(self, attr):\n",
    "        self.parentAttr = attr\n",
    "\n",
    "    def getAttr(self):\n",
    "        print \"Parent attribute :\", Parent.parentAttr\n",
    "\n",
    "class Child(Parent): # define child class\n",
    "    #def __init__(self):\n",
    "    #    print \"Calling child constructor\"\n",
    "\n",
    "    def childMethod(self):\n",
    "        print self.item\n",
    "        print 'Calling child method'\n",
    "\n",
    "c = Child(4)          # instance of child\n",
    "c.childMethod()      # child calls its method\n",
    "c.parentMethod()     # calls parent's method\n",
    "c.setAttr(200)       # again call parent's method\n",
    "c.getAttr()          # again call parent's method"
   ]
  },
  {
   "cell_type": "code",
   "execution_count": 242,
   "metadata": {
    "collapsed": false
   },
   "outputs": [
    {
     "name": "stdout",
     "output_type": "stream",
     "text": [
      "Vector (7, 8)\n"
     ]
    }
   ],
   "source": [
    "#!/usr/bin/python\n",
    "\n",
    "class Vector:\n",
    "    def __init__(self, a, b):\n",
    "        self.a = a\n",
    "        self.b = b\n",
    "\n",
    "    def __str__(self):\n",
    "        return 'Vector (%d, %d)' % (self.a, self.b)\n",
    "   \n",
    "    def __add__(self,other):\n",
    "        return Vector(self.a + other.a, self.b + other.b)\n",
    "\n",
    "v1 = Vector(2,10)\n",
    "v2 = Vector(5,-2)\n",
    "print v1 + v2"
   ]
  },
  {
   "cell_type": "code",
   "execution_count": 243,
   "metadata": {
    "collapsed": false
   },
   "outputs": [
    {
     "name": "stdout",
     "output_type": "stream",
     "text": [
      "1\n",
      "2\n"
     ]
    },
    {
     "ename": "AttributeError",
     "evalue": "JustCounter instance has no attribute '__Count'",
     "output_type": "error",
     "traceback": [
      "\u001b[0;31m---------------------------------------------------------------------------\u001b[0m",
      "\u001b[0;31mAttributeError\u001b[0m                            Traceback (most recent call last)",
      "\u001b[0;32m<ipython-input-243-ca68a83a2187>\u001b[0m in \u001b[0;36m<module>\u001b[0;34m()\u001b[0m\n\u001b[1;32m     11\u001b[0m \u001b[0mcounter\u001b[0m\u001b[0;34m.\u001b[0m\u001b[0mcount\u001b[0m\u001b[0;34m(\u001b[0m\u001b[0;34m)\u001b[0m\u001b[0;34m\u001b[0m\u001b[0m\n\u001b[1;32m     12\u001b[0m \u001b[0mcounter\u001b[0m\u001b[0;34m.\u001b[0m\u001b[0mcount\u001b[0m\u001b[0;34m(\u001b[0m\u001b[0;34m)\u001b[0m\u001b[0;34m\u001b[0m\u001b[0m\n\u001b[0;32m---> 13\u001b[0;31m \u001b[0;32mprint\u001b[0m \u001b[0mcounter\u001b[0m\u001b[0;34m.\u001b[0m\u001b[0m__Count\u001b[0m\u001b[0;34m\u001b[0m\u001b[0m\n\u001b[0m",
      "\u001b[0;31mAttributeError\u001b[0m: JustCounter instance has no attribute '__Count'"
     ]
    }
   ],
   "source": [
    "#!/usr/bin/python\n",
    "\n",
    "class JustCounter:\n",
    "    __secretCount = 0\n",
    "    __Count = 0\n",
    "    def count(self):\n",
    "        self.__secretCount += 1\n",
    "        print self.__secretCount\n",
    "\n",
    "counter = JustCounter()\n",
    "counter.count()\n",
    "counter.count()\n",
    "print counter.__Count"
   ]
  },
  {
   "cell_type": "code",
   "execution_count": 244,
   "metadata": {
    "collapsed": false
   },
   "outputs": [
    {
     "name": "stdout",
     "output_type": "stream",
     "text": [
      "0\n",
      "4459895696 4459895696 4459895696\n",
      "\n",
      "0\n",
      "Point destroyed\n"
     ]
    }
   ],
   "source": [
    "class Point:\n",
    "    def __init__( self, x=0, y=0):\n",
    "        self.x = x\n",
    "        self.y = y\n",
    "    def __del__(self):\n",
    "        class_name = self.__class__.__name__\n",
    "        print class_name, \"destroyed\"\n",
    "\n",
    "pt1 = Point()\n",
    "pt2 = pt1\n",
    "print pt1.x\n",
    "pt3 = pt1\n",
    "print id(pt1), id(pt2), id(pt3) # prints the ids of the obejcts\n",
    "print\n",
    "del pt1\n",
    "print pt2.x\n",
    "del pt2\n",
    "del pt3"
   ]
  },
  {
   "cell_type": "code",
   "execution_count": null,
   "metadata": {
    "collapsed": true
   },
   "outputs": [],
   "source": []
  },
  {
   "cell_type": "code",
   "execution_count": 291,
   "metadata": {
    "collapsed": true
   },
   "outputs": [],
   "source": [
    "class Book:\n",
    "    title = ''\n",
    "    pages = 0\n",
    "\n",
    "    def __init__(self, title='', pages=0):\n",
    "        self.title = title\n",
    "        self.pages = pages\n",
    "    \n",
    "    def __radd__(self, other):\n",
    "        return self.pages + other\n",
    "    \n",
    "    def __add__(self, other):\n",
    "        return self.pages + other\n",
    "    \n",
    "    def __str__(self):\n",
    "        return self.title"
   ]
  },
  {
   "cell_type": "code",
   "execution_count": 293,
   "metadata": {
    "collapsed": false
   },
   "outputs": [
    {
     "name": "stdout",
     "output_type": "stream",
     "text": [
      "1152\n",
      "766\n"
     ]
    }
   ],
   "source": [
    "book1 = Book('Fluency', 381)\n",
    "book2 = Book('The Martian', 385)\n",
    "book3 = Book('Ready Player One', 386)\n",
    "print sum([book1, book2, book3])\n",
    "print book1+book2"
   ]
  },
  {
   "cell_type": "markdown",
   "metadata": {},
   "source": [
    "###method overriding###"
   ]
  },
  {
   "cell_type": "code",
   "execution_count": 294,
   "metadata": {
    "collapsed": false
   },
   "outputs": [
    {
     "name": "stdout",
     "output_type": "stream",
     "text": [
      "Calling child method\n"
     ]
    }
   ],
   "source": [
    "#!/usr/bin/python\n",
    "\n",
    "class Parent:        # define parent class\n",
    "    def myMethod(self):\n",
    "        print 'Calling parent method'\n",
    "\n",
    "class Child(Parent): # define child class\n",
    "    def myMethod(self):\n",
    "        print 'Calling child method'\n",
    "\n",
    "c = Child()          # instance of child\n",
    "c.myMethod()         # child calls overridden method"
   ]
  },
  {
   "cell_type": "markdown",
   "metadata": {},
   "source": [
    "###method overloading###"
   ]
  },
  {
   "cell_type": "code",
   "execution_count": null,
   "metadata": {
    "collapsed": true
   },
   "outputs": [],
   "source": [
    "class DisplayOverloading\n",
    "{\n",
    "    public void disp(char c)\n",
    "    {\n",
    "         System.out.println(c);\n",
    "    }\n",
    "    public void disp(char c, int num)  \n",
    "    {\n",
    "         System.out.println(c + \" \"+num);\n",
    "    }\n",
    "}\n",
    "class Sample\n",
    "{\n",
    "   public static void main(String args[])\n",
    "   {\n",
    "       DisplayOverloading obj = new DisplayOverloading();\n",
    "       obj.disp('a');\n",
    "       obj.disp('a',10);\n",
    "   }\n",
    "}"
   ]
  },
  {
   "cell_type": "markdown",
   "metadata": {},
   "source": [
    "####The purpose of an abstract class is to specify the default functionality of an object and let its sub-classes to explicitly implement that functionality. ####\n",
    "####Thus, it stands as an abstraction layer that must be extended and implemented by the corresponding sub-classes.####\n",
    "####An abstract class is a class which cannot be instantiated. Creation of an object is not possible with abstract class , but it can be inherited.####"
   ]
  },
  {
   "cell_type": "code",
   "execution_count": 295,
   "metadata": {
    "collapsed": true
   },
   "outputs": [],
   "source": [
    "class Base:\n",
    "    def foo(self):\n",
    "        raise NotImplementedError()\n",
    "\n",
    "    def bar(self):\n",
    "        raise NotImplementedError()"
   ]
  },
  {
   "cell_type": "code",
   "execution_count": 296,
   "metadata": {
    "collapsed": true
   },
   "outputs": [],
   "source": [
    "class Concrete(Base):\n",
    "    def foo(self):\n",
    "        return \"foo() called\"\n",
    "\n",
    "    # Oh no, we forgot to override `bar()`.\n",
    "    # def bar(self):\n",
    "    #     return \"bar() called\""
   ]
  },
  {
   "cell_type": "code",
   "execution_count": 306,
   "metadata": {
    "collapsed": false
   },
   "outputs": [
    {
     "ename": "NotImplementedError",
     "evalue": "",
     "output_type": "error",
     "traceback": [
      "\u001b[0;31m---------------------------------------------------------------------------\u001b[0m",
      "\u001b[0;31mNotImplementedError\u001b[0m                       Traceback (most recent call last)",
      "\u001b[0;32m<ipython-input-306-4fa774e6651d>\u001b[0m in \u001b[0;36m<module>\u001b[0;34m()\u001b[0m\n\u001b[1;32m      1\u001b[0m \u001b[0mb\u001b[0m\u001b[0;34m=\u001b[0m\u001b[0mBase\u001b[0m\u001b[0;34m(\u001b[0m\u001b[0;34m)\u001b[0m\u001b[0;34m\u001b[0m\u001b[0m\n\u001b[0;32m----> 2\u001b[0;31m \u001b[0mb\u001b[0m\u001b[0;34m.\u001b[0m\u001b[0mfoo\u001b[0m\u001b[0;34m(\u001b[0m\u001b[0;34m)\u001b[0m\u001b[0;34m\u001b[0m\u001b[0m\n\u001b[0m",
      "\u001b[0;32m<ipython-input-295-06bc7b293cac>\u001b[0m in \u001b[0;36mfoo\u001b[0;34m(self)\u001b[0m\n\u001b[1;32m      1\u001b[0m \u001b[0;32mclass\u001b[0m \u001b[0mBase\u001b[0m\u001b[0;34m:\u001b[0m\u001b[0;34m\u001b[0m\u001b[0m\n\u001b[1;32m      2\u001b[0m     \u001b[0;32mdef\u001b[0m \u001b[0mfoo\u001b[0m\u001b[0;34m(\u001b[0m\u001b[0mself\u001b[0m\u001b[0;34m)\u001b[0m\u001b[0;34m:\u001b[0m\u001b[0;34m\u001b[0m\u001b[0m\n\u001b[0;32m----> 3\u001b[0;31m         \u001b[0;32mraise\u001b[0m \u001b[0mNotImplementedError\u001b[0m\u001b[0;34m(\u001b[0m\u001b[0;34m)\u001b[0m\u001b[0;34m\u001b[0m\u001b[0m\n\u001b[0m\u001b[1;32m      4\u001b[0m \u001b[0;34m\u001b[0m\u001b[0m\n\u001b[1;32m      5\u001b[0m     \u001b[0;32mdef\u001b[0m \u001b[0mbar\u001b[0m\u001b[0;34m(\u001b[0m\u001b[0mself\u001b[0m\u001b[0;34m)\u001b[0m\u001b[0;34m:\u001b[0m\u001b[0;34m\u001b[0m\u001b[0m\n",
      "\u001b[0;31mNotImplementedError\u001b[0m: "
     ]
    }
   ],
   "source": [
    "b=Base()\n",
    "b.foo()"
   ]
  },
  {
   "cell_type": "code",
   "execution_count": 299,
   "metadata": {
    "collapsed": false
   },
   "outputs": [
    {
     "name": "stdout",
     "output_type": "stream",
     "text": [
      "foo() called\n"
     ]
    },
    {
     "ename": "NotImplementedError",
     "evalue": "",
     "output_type": "error",
     "traceback": [
      "\u001b[0;31m---------------------------------------------------------------------------\u001b[0m",
      "\u001b[0;31mNotImplementedError\u001b[0m                       Traceback (most recent call last)",
      "\u001b[0;32m<ipython-input-299-2f1a66e10dbb>\u001b[0m in \u001b[0;36m<module>\u001b[0;34m()\u001b[0m\n\u001b[1;32m      1\u001b[0m \u001b[0mc\u001b[0m\u001b[0;34m=\u001b[0m\u001b[0mConcrete\u001b[0m\u001b[0;34m(\u001b[0m\u001b[0;34m)\u001b[0m\u001b[0;34m\u001b[0m\u001b[0m\n\u001b[1;32m      2\u001b[0m \u001b[0;32mprint\u001b[0m \u001b[0mc\u001b[0m\u001b[0;34m.\u001b[0m\u001b[0mfoo\u001b[0m\u001b[0;34m(\u001b[0m\u001b[0;34m)\u001b[0m\u001b[0;34m\u001b[0m\u001b[0m\n\u001b[0;32m----> 3\u001b[0;31m \u001b[0mc\u001b[0m\u001b[0;34m.\u001b[0m\u001b[0mbar\u001b[0m\u001b[0;34m(\u001b[0m\u001b[0;34m)\u001b[0m\u001b[0;34m\u001b[0m\u001b[0m\n\u001b[0m",
      "\u001b[0;32m<ipython-input-295-06bc7b293cac>\u001b[0m in \u001b[0;36mbar\u001b[0;34m(self)\u001b[0m\n\u001b[1;32m      4\u001b[0m \u001b[0;34m\u001b[0m\u001b[0m\n\u001b[1;32m      5\u001b[0m     \u001b[0;32mdef\u001b[0m \u001b[0mbar\u001b[0m\u001b[0;34m(\u001b[0m\u001b[0mself\u001b[0m\u001b[0;34m)\u001b[0m\u001b[0;34m:\u001b[0m\u001b[0;34m\u001b[0m\u001b[0m\n\u001b[0;32m----> 6\u001b[0;31m         \u001b[0;32mraise\u001b[0m \u001b[0mNotImplementedError\u001b[0m\u001b[0;34m(\u001b[0m\u001b[0;34m)\u001b[0m\u001b[0;34m\u001b[0m\u001b[0m\n\u001b[0m",
      "\u001b[0;31mNotImplementedError\u001b[0m: "
     ]
    }
   ],
   "source": [
    "c=Concrete()\n",
    "print c.foo()\n",
    "c.bar()"
   ]
  },
  {
   "cell_type": "markdown",
   "metadata": {},
   "source": [
    "###Encapsulation###"
   ]
  },
  {
   "cell_type": "code",
   "execution_count": 300,
   "metadata": {
    "collapsed": false
   },
   "outputs": [
    {
     "name": "stdout",
     "output_type": "stream",
     "text": [
      "driving. maxspeed 200\n",
      "driving. maxspeed 200\n"
     ]
    }
   ],
   "source": [
    "#!/usr/bin/env python\n",
    " \n",
    "class Car:\n",
    "    __maxspeed = 0\n",
    "    __name = \"\"\n",
    "    \n",
    "    def __init__(self):\n",
    "        self.__maxspeed = 200\n",
    "        self.__name = \"Supercar\"\n",
    "        \n",
    "    def drive(self):\n",
    "        print 'driving. maxspeed ' + str(self.__maxspeed)\n",
    "\n",
    "redcar = Car()\n",
    "redcar.drive()\n",
    "redcar.__maxspeed = 10  # will not change variable because its private\n",
    "redcar.drive()"
   ]
  },
  {
   "cell_type": "code",
   "execution_count": 301,
   "metadata": {
    "collapsed": false
   },
   "outputs": [
    {
     "name": "stdout",
     "output_type": "stream",
     "text": [
      "driving. maxspeed 200\n",
      "driving. maxspeed 320\n"
     ]
    }
   ],
   "source": [
    "#!/usr/bin/env python\n",
    " \n",
    "class Car:\n",
    " \n",
    "    __maxspeed = 0\n",
    "    __name = \"\"\n",
    " \n",
    "    def __init__(self):\n",
    "        self.__maxspeed = 200\n",
    "        self.__name = \"Supercar\"\n",
    " \n",
    "    def drive(self):\n",
    "        print 'driving. maxspeed ' + str(self.__maxspeed)\n",
    " \n",
    "    def setMaxSpeed(self,speed):\n",
    "        self.__maxspeed = speed\n",
    "\n",
    "redcar = Car()\n",
    "redcar.drive()\n",
    "redcar.setMaxSpeed(320)\n",
    "redcar.drive()"
   ]
  },
  {
   "cell_type": "markdown",
   "metadata": {},
   "source": [
    "###General ternary operator syntax###"
   ]
  },
  {
   "cell_type": "code",
   "execution_count": null,
   "metadata": {
    "collapsed": true
   },
   "outputs": [],
   "source": [
    "result = testCondition ? value1 : value2"
   ]
  },
  {
   "cell_type": "markdown",
   "metadata": {},
   "source": [
    "###What are different types of arguments?###\n",
    "\n",
    "#### Call by Value vs Call by Reference\n"
   ]
  },
  {
   "cell_type": "markdown",
   "metadata": {},
   "source": [
    "####The basic difference is that when you pass a parameter by value, the function receives only a copy of the original object, \n",
    "####so it can't do anything to affect the original object. With pass by reference, it gets a reference to the original object,\n",
    "####so it has access to the original object, not a copy of it -- unless it's a const reference, it can modify the original object (for one example).\n",
    "\n"
   ]
  },
  {
   "cell_type": "markdown",
   "metadata": {},
   "source": [
    "###What is an interface?"
   ]
  },
  {
   "cell_type": "markdown",
   "metadata": {},
   "source": [
    "####An interface is a collection of abstract method. If the class implements an inheritance, \n",
    "####and then thereby inherits all the abstract methods of an interface."
   ]
  },
  {
   "cell_type": "markdown",
   "metadata": {},
   "source": [
    "###What are tokens?\n",
    "\n",
    "####Token is recognized by a compiler and it cannot be broken down into component elements. Keywords, identifiers, constants, string literals and operators are examples of tokens.\n",
    "####Even punctuation characters are also considered as tokens – Brackets, Commas, Braces and Parentheses."
   ]
  },
  {
   "cell_type": "markdown",
   "metadata": {},
   "source": [
    "###What is early and late binding?\n",
    "####Early binding refers to assignment of values to variables during design time whereas late binding refers to assignment of values to variables during run time."
   ]
  },
  {
   "cell_type": "markdown",
   "metadata": {},
   "source": [
    "###What is dynamic or run time polymorphism?\n",
    "\n",
    "####Dynamic or Run time polymorphism is also known as method overriding in which call to an overridden function is resolved during run time, not at the compile time. It means having two or more methods with the same name,same signature but with different implementation"
   ]
  },
  {
   "cell_type": "markdown",
   "metadata": {},
   "source": [
    "###What is static and dynamic binding?\n",
    "\n",
    "####Static binding is a binding which happens during compilation. It is also called early binding because binding happens before a program actually runs. Dynamic binding is a binding which happens during run time. It is also called late binding because binding happens when program actually is running."
   ]
  },
  {
   "cell_type": "markdown",
   "metadata": {
    "collapsed": true
   },
   "source": [
    "###What is a ternary operator?\n",
    "\n",
    "####Ternary operator is said to be an operator which takes three arguments. Arguments and results are of different data types , and it is depends on the function. Ternary operator is also called asconditional operator."
   ]
  },
  {
   "cell_type": "code",
   "execution_count": null,
   "metadata": {
    "collapsed": true
   },
   "outputs": [],
   "source": []
  },
  {
   "cell_type": "code",
   "execution_count": null,
   "metadata": {
    "collapsed": true
   },
   "outputs": [],
   "source": []
  },
  {
   "cell_type": "code",
   "execution_count": null,
   "metadata": {
    "collapsed": true
   },
   "outputs": [],
   "source": []
  },
  {
   "cell_type": "code",
   "execution_count": null,
   "metadata": {
    "collapsed": true
   },
   "outputs": [],
   "source": []
  }
 ],
 "metadata": {
  "kernelspec": {
   "display_name": "Python 2",
   "language": "python",
   "name": "python2"
  },
  "language_info": {
   "codemirror_mode": {
    "name": "ipython",
    "version": 2
   },
   "file_extension": ".py",
   "mimetype": "text/x-python",
   "name": "python",
   "nbconvert_exporter": "python",
   "pygments_lexer": "ipython2",
   "version": "2.7.11"
  }
 },
 "nbformat": 4,
 "nbformat_minor": 0
}
