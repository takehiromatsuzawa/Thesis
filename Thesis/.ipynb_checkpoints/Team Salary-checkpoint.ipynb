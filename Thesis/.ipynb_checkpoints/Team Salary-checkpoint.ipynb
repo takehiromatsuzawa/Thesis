{
 "cells": [
  {
   "cell_type": "code",
   "execution_count": 8,
   "metadata": {
    "collapsed": true
   },
   "outputs": [],
   "source": [
    "%matplotlib inline\n",
    "import numpy as np\n",
    "import scipy as sp\n",
    "import matplotlib as mpl\n",
    "import matplotlib.cm as cm\n",
    "import matplotlib.pyplot as plt\n",
    "import pandas as pd\n",
    "import time\n",
    "pd.set_option('display.width', 500)\n",
    "pd.set_option('display.max_columns', 100)\n",
    "pd.set_option('display.notebook_repr_html', True)\n",
    "import seaborn as sns\n",
    "sns.set_style(\"whitegrid\")\n",
    "sns.set_context(\"poster\")\n",
    "from bs4 import BeautifulSoup\n",
    "import requests"
   ]
  },
  {
   "cell_type": "markdown",
   "metadata": {},
   "source": [
    "## II. NHL Salary"
   ]
  },
  {
   "cell_type": "code",
   "execution_count": 4,
   "metadata": {
    "collapsed": false
   },
   "outputs": [
    {
     "data": {
      "text/html": [
       "<div>\n",
       "<table border=\"1\" class=\"dataframe\">\n",
       "  <thead>\n",
       "    <tr style=\"text-align: right;\">\n",
       "      <th></th>\n",
       "      <th>Player</th>\n",
       "      <th>Pos</th>\n",
       "      <th>Salary</th>\n",
       "      <th>Team</th>\n",
       "    </tr>\n",
       "  </thead>\n",
       "  <tbody>\n",
       "    <tr>\n",
       "      <th>0</th>\n",
       "      <td>Corey Perry</td>\n",
       "      <td>R</td>\n",
       "      <td>8625000</td>\n",
       "      <td>ANA</td>\n",
       "    </tr>\n",
       "    <tr>\n",
       "      <th>1</th>\n",
       "      <td>Ryan Getzlaf</td>\n",
       "      <td>C</td>\n",
       "      <td>8250000</td>\n",
       "      <td>ANA</td>\n",
       "    </tr>\n",
       "    <tr>\n",
       "      <th>2</th>\n",
       "      <td>Shawn Horcoff</td>\n",
       "      <td>LC</td>\n",
       "      <td>1750000</td>\n",
       "      <td>ANA</td>\n",
       "    </tr>\n",
       "    <tr>\n",
       "      <th>3</th>\n",
       "      <td>Ryan Kesler</td>\n",
       "      <td>C</td>\n",
       "      <td>5000000</td>\n",
       "      <td>ANA</td>\n",
       "    </tr>\n",
       "    <tr>\n",
       "      <th>4</th>\n",
       "      <td>Chris Stewart</td>\n",
       "      <td>R</td>\n",
       "      <td>1700000</td>\n",
       "      <td>ANA</td>\n",
       "    </tr>\n",
       "  </tbody>\n",
       "</table>\n",
       "</div>"
      ],
      "text/plain": [
       "          Player Pos   Salary Team\n",
       "0    Corey Perry   R  8625000  ANA\n",
       "1   Ryan Getzlaf   C  8250000  ANA\n",
       "2  Shawn Horcoff  LC  1750000  ANA\n",
       "3    Ryan Kesler   C  5000000  ANA\n",
       "4  Chris Stewart   R  1700000  ANA"
      ]
     },
     "execution_count": 4,
     "metadata": {},
     "output_type": "execute_result"
    }
   ],
   "source": [
    "cap = requests.get(\"http://war-on-ice.com/cap/\")\n",
    "capText = BeautifulSoup(cap.text)\n",
    "resultCap= capText.find_all(\"a\")\n",
    "link=[]\n",
    "for elem in resultCap:\n",
    "    if elem.has_attr('href'):\n",
    "        link.append(elem.attrs['href'])\n",
    "linkList=link[6:36]\n",
    "\n",
    "NHLSalary = pd.DataFrame()\n",
    "for links in linkList:\n",
    "    r3 = requests.get(links)\n",
    "    text3 = r3.text\n",
    "    NHLsalary_data=pd.read_html(text3)\n",
    "    NHL_salary=NHLsalary_data[0].copy()\n",
    "    NHL_salary=NHL_salary.drop(NHL_salary.index[0])\n",
    "    NHL_salary\n",
    "    NHL_salary.columns = NHL_salary.iloc[0]\n",
    "    NHL_salary['team']=links[-8:-5]\n",
    "    NHL_salary.reset_index(drop=True)\n",
    "    NHLSalary =NHLSalary.append(NHL_salary)\n",
    "\n",
    "NHLSalary=NHLSalary.dropna()\n",
    "NHLSalary=NHLSalary[NHLSalary['2015-16']!='--']\n",
    "NHLSalary=NHLSalary[NHLSalary['2015-16']!='UFA']\n",
    "NHLSalary=NHLSalary[NHLSalary['2015-16']!='RFA']\n",
    "NHLSalary=NHLSalary[NHLSalary['2015-16']!='2015-16']\n",
    "del NHLSalary[NHLSalary.columns[2]]\n",
    "del NHLSalary[NHLSalary.columns[2]]\n",
    "del NHLSalary[NHLSalary.columns[3]]\n",
    "del NHLSalary[NHLSalary.columns[3]]\n",
    "del NHLSalary[NHLSalary.columns[3]]\n",
    "del NHLSalary[NHLSalary.columns[3]]\n",
    "\n",
    "NHLSalary['2015-16'] = NHLSalary['2015-16'].str.replace(r'[$,]', '').astype('float')\n",
    "\n",
    "NHLSalary\n",
    "NHLSalary.columns = [ 'Player', 'Pos', 'Salary', 'Team']\n",
    "NHLSalary=NHLSalary.reset_index(drop=True)\n",
    "NHLSalary.head()"
   ]
  },
  {
   "cell_type": "markdown",
   "metadata": {},
   "source": [
    "## II. NFL Salary"
   ]
  },
  {
   "cell_type": "code",
   "execution_count": 23,
   "metadata": {
    "collapsed": false
   },
   "outputs": [
    {
     "data": {
      "text/html": [
       "<div>\n",
       "<table border=\"1\" class=\"dataframe\">\n",
       "  <thead>\n",
       "    <tr style=\"text-align: right;\">\n",
       "      <th></th>\n",
       "      <th>PLAYER</th>\n",
       "      <th>2015-2016</th>\n",
       "      <th>Team</th>\n",
       "    </tr>\n",
       "  </thead>\n",
       "  <tbody>\n",
       "    <tr>\n",
       "      <th>1</th>\n",
       "      <td>Haloti Ngata</td>\n",
       "      <td>16000000</td>\n",
       "      <td>Ravens</td>\n",
       "    </tr>\n",
       "    <tr>\n",
       "      <th>2</th>\n",
       "      <td>Joe Flacco</td>\n",
       "      <td>14550000</td>\n",
       "      <td>Ravens</td>\n",
       "    </tr>\n",
       "    <tr>\n",
       "      <th>3</th>\n",
       "      <td>Lardarius Webb</td>\n",
       "      <td>11000000</td>\n",
       "      <td>Ravens</td>\n",
       "    </tr>\n",
       "    <tr>\n",
       "      <th>4</th>\n",
       "      <td>Ray Rice</td>\n",
       "      <td>7750000</td>\n",
       "      <td>Ravens</td>\n",
       "    </tr>\n",
       "    <tr>\n",
       "      <th>5</th>\n",
       "      <td>Marshal Yanda</td>\n",
       "      <td>8450000</td>\n",
       "      <td>Ravens</td>\n",
       "    </tr>\n",
       "  </tbody>\n",
       "</table>\n",
       "</div>"
      ],
      "text/plain": [
       "           PLAYER  2015-2016    Team\n",
       "1    Haloti Ngata   16000000  Ravens\n",
       "2      Joe Flacco   14550000  Ravens\n",
       "3  Lardarius Webb   11000000  Ravens\n",
       "4        Ray Rice    7750000  Ravens\n",
       "5   Marshal Yanda    8450000  Ravens"
      ]
     },
     "execution_count": 23,
     "metadata": {},
     "output_type": "execute_result"
    }
   ],
   "source": [
    "cap = requests.get(\"http://www.sportscity.com/nfl/salaries/\")\n",
    "capText = BeautifulSoup(cap.text)\n",
    "resultCap= capText.find_all(\"a\")\n",
    "link=[]\n",
    "for elem in resultCap:\n",
    "    if elem.has_attr('href'):\n",
    "        link.append(elem.attrs['href'])\n",
    "beginLink= link.index('http://www.sportscity.com/nfl/salaries/baltimore-ravens-salaries/')        \n",
    "NFLTeam=link[beginLink:beginLink+32]    \n",
    "NFL_Salary = pd.DataFrame()\n",
    "for webLink in NFLTeam:\n",
    "    \n",
    "    r5 = requests.get(webLink)\n",
    "    text5 = r5.text\n",
    "    NFLSalary=pd.read_html(text5)\n",
    "    NFLSalary=NFLSalary[0].copy()\n",
    "    NFLSalary.columns = NFLSalary.iloc[0]\n",
    "    NFLSalary=NFLSalary.reindex(NFLSalary.index.drop(0))\n",
    "    team=webLink.split('-')[1].title()\n",
    "    NFLSalary=NFLSalary.dropna()\n",
    "    NFLSalary=NFLSalary[NFLSalary[NFLSalary.columns[2]]!='-']\n",
    "    NFLSalary=NFLSalary[NFLSalary[NFLSalary.columns[2]]!='UFA']\n",
    "    NFLSalary=NFLSalary[NFLSalary[NFLSalary.columns[2]]!='RFA']\n",
    "    NFLSalary=NFLSalary[NFLSalary[NFLSalary.columns[2]]!='ERFA']\n",
    "    NFLSalary[NFLSalary.columns[2]] = NFLSalary[NFLSalary.columns[2]].str.replace(r'[$,]', '').astype('float')\n",
    "    \n",
    "    if NFLSalary.columns[2]=='2015/2016':\n",
    "        NFLSalary = NFLSalary.rename(columns={'2015/2016': '2015-2016'})\n",
    "    NFLSalary['Team']=team\n",
    "    columnsTeam=['PLAYER','2015-2016','Team']\n",
    "    dfNFL = pd.DataFrame(NFLSalary,index=NFLSalary.index, columns=columnsTeam)\n",
    "    \n",
    "    NFL_Salary=NFL_Salary.append(dfNFL)\n",
    "\n",
    "NFL_Salary.head()"
   ]
  },
  {
   "cell_type": "markdown",
   "metadata": {},
   "source": [
    "## II. NBA Salary"
   ]
  },
  {
   "cell_type": "code",
   "execution_count": 24,
   "metadata": {
    "collapsed": false
   },
   "outputs": [
    {
     "data": {
      "text/html": [
       "<div>\n",
       "<table border=\"1\" class=\"dataframe\">\n",
       "  <thead>\n",
       "    <tr style=\"text-align: right;\">\n",
       "      <th></th>\n",
       "      <th>Player</th>\n",
       "      <th>2015/16</th>\n",
       "      <th>Team</th>\n",
       "    </tr>\n",
       "  </thead>\n",
       "  <tbody>\n",
       "    <tr>\n",
       "      <th>0</th>\n",
       "      <td>2014/15</td>\n",
       "      <td>2016/17</td>\n",
       "      <td>Hawks</td>\n",
       "    </tr>\n",
       "    <tr>\n",
       "      <th>1</th>\n",
       "      <td>$12,000,000</td>\n",
       "      <td>-</td>\n",
       "      <td>Hawks</td>\n",
       "    </tr>\n",
       "    <tr>\n",
       "      <th>2</th>\n",
       "      <td>$9,500,000</td>\n",
       "      <td>-</td>\n",
       "      <td>Hawks</td>\n",
       "    </tr>\n",
       "    <tr>\n",
       "      <th>3</th>\n",
       "      <td>$8,000,000</td>\n",
       "      <td>$8,000,000</td>\n",
       "      <td>Hawks</td>\n",
       "    </tr>\n",
       "    <tr>\n",
       "      <th>4</th>\n",
       "      <td>$6,253,521</td>\n",
       "      <td>$5,239,437</td>\n",
       "      <td>Hawks</td>\n",
       "    </tr>\n",
       "  </tbody>\n",
       "</table>\n",
       "</div>"
      ],
      "text/plain": [
       "        Player     2015/16   Team\n",
       "0      2014/15     2016/17  Hawks\n",
       "1  $12,000,000           -  Hawks\n",
       "2   $9,500,000           -  Hawks\n",
       "3   $8,000,000  $8,000,000  Hawks\n",
       "4   $6,253,521  $5,239,437  Hawks"
      ]
     },
     "execution_count": 24,
     "metadata": {},
     "output_type": "execute_result"
    }
   ],
   "source": [
    "cap = requests.get(\"http://www.sportscity.com/nba/salaries/\")\n",
    "capText = BeautifulSoup(cap.text)\n",
    "resultCap= capText.find_all(\"a\")\n",
    "link=[]\n",
    "for elem in resultCap:\n",
    "    if elem.has_attr('href'):\n",
    "        link.append(elem.attrs['href'])\n",
    "beginLink= link.index('http://www.sportscity.com/nba/salaries/atlanta-hawks-salaries/')\n",
    "NBATeam=link[beginLink:beginLink+30]       \n",
    "NBA_Salary = pd.DataFrame()\n",
    "for num in range(len(NBATeam)):\n",
    "    if num!=2 and num!=17 and num!=23:\n",
    "        webLink=NBATeam[num]\n",
    "        r5 = requests.get(webLink)\n",
    "        text5 = r5.text\n",
    "        NBASalary=pd.read_html(text5)\n",
    "        NBASalary=NBASalary[0]\n",
    "        NBASalary \n",
    "        if num%2==1:\n",
    "            NBASalary=NBASalary.drop(NBASalary.index[0:2])\n",
    "        elif num==10 or 12:\n",
    "            NBASalary=NBASalary.drop(NBASalary.index[0:2])\n",
    "        else:\n",
    "            NBASalary=NBASalary.drop(NBASalary.index[0:3])\n",
    "        NBASalary.columns = NBASalary.iloc[0]\n",
    "        NBASalary=NBASalary.drop(NBASalary.index[0])\n",
    "        team=webLink.split('-')[1].title()\n",
    "\n",
    "        NBASalary['Team']=team\n",
    "        NBASalary = NBASalary.drop(['nan'], axis=1)\n",
    "\n",
    "        columnsTeam=['Player','2015/16']\n",
    "        NBASalary=NBASalary.reset_index(drop=True)\n",
    "        dfNBA = pd.DataFrame()\n",
    "        dfNBA['Player']=NBASalary['Player']\n",
    "        dfNBA['2015/16']=NBASalary['2015/16']\n",
    "        dfNBA['Team']=NBASalary['Team']\n",
    "\n",
    "        NBA_Salary=NBA_Salary.append(dfNBA)\n",
    "    \n",
    "NBA_Salary.head()"
   ]
  },
  {
   "cell_type": "code",
   "execution_count": null,
   "metadata": {
    "collapsed": true
   },
   "outputs": [],
   "source": []
  }
 ],
 "metadata": {
  "kernelspec": {
   "display_name": "Python 2",
   "language": "python",
   "name": "python2"
  },
  "language_info": {
   "codemirror_mode": {
    "name": "ipython",
    "version": 2
   },
   "file_extension": ".py",
   "mimetype": "text/x-python",
   "name": "python",
   "nbconvert_exporter": "python",
   "pygments_lexer": "ipython2",
   "version": "2.7.10"
  }
 },
 "nbformat": 4,
 "nbformat_minor": 0
}
