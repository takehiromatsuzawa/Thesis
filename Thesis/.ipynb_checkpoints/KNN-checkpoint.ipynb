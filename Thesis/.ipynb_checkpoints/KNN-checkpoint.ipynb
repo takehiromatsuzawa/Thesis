{
 "cells": [
  {
   "cell_type": "code",
   "execution_count": 154,
   "metadata": {
    "collapsed": true
   },
   "outputs": [],
   "source": [
    "import pandas as pd\n",
    "import numpy as np"
   ]
  },
  {
   "cell_type": "code",
   "execution_count": 192,
   "metadata": {
    "collapsed": false
   },
   "outputs": [],
   "source": [
    "df_age_19=pd.read_csv('AgeData/df_age_19.csv',index_col=0)\n",
    "df_age_20=pd.read_csv('AgeData/df_age_20.csv',index_col=0)\n",
    "df_age_21=pd.read_csv('AgeData/df_age_21.csv',index_col=0)\n",
    "df_age_22=pd.read_csv('AgeData/df_age_22.csv',index_col=0)\n",
    "df_age_23=pd.read_csv('AgeData/df_age_23.csv',index_col=0)\n",
    "df_age_24=pd.read_csv('AgeData/df_age_24.csv',index_col=0)\n",
    "df_age_25=pd.read_csv('AgeData/df_age_25.csv',index_col=0)\n",
    "df_age_26=pd.read_csv('AgeData/df_age_26.csv',index_col=0)\n",
    "df_age_27=pd.read_csv('AgeData/df_age_27.csv',index_col=0)\n",
    "df_age_28=pd.read_csv('AgeData/df_age_28.csv',index_col=0)\n",
    "df_age_29=pd.read_csv('AgeData/df_age_29.csv',index_col=0)\n",
    "\n",
    "df_age_30=pd.read_csv('AgeData/df_age_30.csv',index_col=0)\n",
    "df_age_31=pd.read_csv('AgeData/df_age_31.csv',index_col=0)\n",
    "df_age_32=pd.read_csv('AgeData/df_age_32.csv',index_col=0)\n",
    "df_age_33=pd.read_csv('AgeData/df_age_33.csv',index_col=0)\n",
    "df_age_34=pd.read_csv('AgeData/df_age_34.csv',index_col=0)\n",
    "df_age_35=pd.read_csv('AgeData/df_age_35.csv',index_col=0)\n",
    "df_age_36=pd.read_csv('AgeData/df_age_36.csv',index_col=0)\n",
    "df_age_37=pd.read_csv('AgeData/df_age_37.csv',index_col=0)\n",
    "df_age_38=pd.read_csv('AgeData/df_age_38.csv',index_col=0)\n",
    "df_age_39=pd.read_csv('AgeData/df_age_39.csv',index_col=0)"
   ]
  },
  {
   "cell_type": "code",
   "execution_count": 193,
   "metadata": {
    "collapsed": false
   },
   "outputs": [],
   "source": [
    "dfplayer1996=pd.read_csv('dfplayer1996.csv')\n",
    "dfplayer1997=pd.read_csv('dfplayer1997.csv')\n",
    "dfplayer1998=pd.read_csv('dfplayer1998.csv')\n",
    "dfplayer1999=pd.read_csv('dfplayer1999.csv')\n",
    "\n",
    "dfplayer2000=pd.read_csv('dfplayer2000.csv')\n",
    "dfplayer2001=pd.read_csv('dfplayer2001.csv')\n",
    "dfplayer2002=pd.read_csv('dfplayer2002.csv')\n",
    "dfplayer2003=pd.read_csv('dfplayer2003.csv')\n",
    "dfplayer2004=pd.read_csv('dfplayer2004.csv')\n",
    "\n",
    "dfplayer2005=pd.read_csv('dfplayer2005.csv')\n",
    "dfplayer2006=pd.read_csv('dfplayer2006.csv')\n",
    "dfplayer2007=pd.read_csv('dfplayer2007.csv')\n",
    "dfplayer2008=pd.read_csv('dfplayer2008.csv')\n",
    "dfplayer2009=pd.read_csv('dfplayer2009.csv')\n",
    "\n",
    "dfplayer2010=pd.read_csv('dfplayer2010.csv')\n",
    "dfplayer2011=pd.read_csv('dfplayer2011.csv')\n",
    "dfplayer2012=pd.read_csv('dfplayer2012.csv')\n",
    "dfplayer2013=pd.read_csv('dfplayer2013.csv')\n",
    "dfplayer2014=pd.read_csv('dfplayer2014.csv')\n",
    "\n",
    "dfplayer2015=pd.read_csv('dfplayer2015.csv')"
   ]
  },
  {
   "cell_type": "code",
   "execution_count": 194,
   "metadata": {
    "collapsed": false
   },
   "outputs": [],
   "source": [
    "namePlayer=[]\n",
    "for elem in dfplayer1996['url']:\n",
    "    namePlayer.append(elem[11:-5])\n",
    "    \n",
    "dfplayer1996['name']=namePlayer\n",
    "\n",
    "del dfplayer1996['Unnamed: 0']\n",
    "del dfplayer1996['url']\n",
    "del dfplayer1996['draft']\n",
    "del dfplayer1996['shot']\n",
    "del dfplayer1996['pos']\n",
    "\n",
    "\n",
    "namePlayer=[]\n",
    "for elem in dfplayer1997['url']:\n",
    "    namePlayer.append(elem[11:-5])\n",
    "    \n",
    "dfplayer1997['name']=namePlayer\n",
    "\n",
    "del dfplayer1997['Unnamed: 0']\n",
    "del dfplayer1997['url']\n",
    "del dfplayer1997['draft']\n",
    "del dfplayer1997['shot']\n",
    "del dfplayer1997['pos']\n",
    "\n",
    "namePlayer=[]\n",
    "for elem in dfplayer1998['url']:\n",
    "    namePlayer.append(elem[11:-5])\n",
    "    \n",
    "dfplayer1998['name']=namePlayer\n",
    "\n",
    "del dfplayer1998['Unnamed: 0']\n",
    "del dfplayer1998['url']\n",
    "del dfplayer1998['draft']\n",
    "del dfplayer1998['shot']\n",
    "del dfplayer1998['pos']\n",
    "\n",
    "namePlayer=[]\n",
    "for elem in dfplayer1999['url']:\n",
    "    namePlayer.append(elem[11:-5])\n",
    "    \n",
    "dfplayer1999['name']=namePlayer\n",
    "\n",
    "del dfplayer1999['Unnamed: 0']\n",
    "del dfplayer1999['url']\n",
    "del dfplayer1999['draft']\n",
    "del dfplayer1999['shot']\n",
    "del dfplayer1999['pos']\n",
    "\n",
    "namePlayer=[]\n",
    "for elem in dfplayer2000['url']:\n",
    "    namePlayer.append(elem[11:-5])\n",
    "    \n",
    "dfplayer2000['name']=namePlayer\n",
    "\n",
    "del dfplayer2000['Unnamed: 0']\n",
    "del dfplayer2000['url']\n",
    "del dfplayer2000['draft']\n",
    "del dfplayer2000['shot']\n",
    "del dfplayer2000['pos']\n",
    "\n",
    "namePlayer=[]\n",
    "for elem in dfplayer2001['url']:\n",
    "    namePlayer.append(elem[11:-5])\n",
    "    \n",
    "dfplayer2001['name']=namePlayer\n",
    "\n",
    "del dfplayer2001['Unnamed: 0']\n",
    "del dfplayer2001['url']\n",
    "del dfplayer2001['draft']\n",
    "del dfplayer2001['shot']\n",
    "del dfplayer2001['pos']\n",
    "\n",
    "namePlayer=[]\n",
    "for elem in dfplayer2002['url']:\n",
    "    namePlayer.append(elem[11:-5])\n",
    "    \n",
    "dfplayer2002['name']=namePlayer\n",
    "\n",
    "del dfplayer2002['Unnamed: 0']\n",
    "del dfplayer2002['url']\n",
    "del dfplayer2002['draft']\n",
    "del dfplayer2002['shot']\n",
    "del dfplayer2002['pos']\n",
    "\n",
    "namePlayer=[]\n",
    "for elem in dfplayer2003['url']:\n",
    "    namePlayer.append(elem[11:-5])\n",
    "    \n",
    "dfplayer2003['name']=namePlayer\n",
    "\n",
    "del dfplayer2003['Unnamed: 0']\n",
    "del dfplayer2003['url']\n",
    "del dfplayer2003['draft']\n",
    "del dfplayer2003['shot']\n",
    "del dfplayer2003['pos']\n",
    "\n",
    "namePlayer=[]\n",
    "for elem in dfplayer2004['url']:\n",
    "    namePlayer.append(elem[11:-5])\n",
    "    \n",
    "dfplayer2004['name']=namePlayer\n",
    "\n",
    "del dfplayer2004['Unnamed: 0']\n",
    "del dfplayer2004['url']\n",
    "del dfplayer2004['draft']\n",
    "del dfplayer2004['shot']\n",
    "del dfplayer2004['pos']\n",
    "\n",
    "namePlayer=[]\n",
    "for elem in dfplayer2005['url']:\n",
    "    namePlayer.append(elem[11:-5])\n",
    "    \n",
    "dfplayer2005['name']=namePlayer\n",
    "\n",
    "del dfplayer2005['Unnamed: 0']\n",
    "del dfplayer2005['url']\n",
    "del dfplayer2005['draft']\n",
    "del dfplayer2005['shot']\n",
    "del dfplayer2005['pos']\n",
    "\n",
    "namePlayer=[]\n",
    "for elem in dfplayer2006['url']:\n",
    "    namePlayer.append(elem[11:-5])\n",
    "    \n",
    "dfplayer2006['name']=namePlayer\n",
    "\n",
    "del dfplayer2006['Unnamed: 0']\n",
    "del dfplayer2006['url']\n",
    "del dfplayer2006['draft']\n",
    "del dfplayer2006['shot']\n",
    "del dfplayer2006['pos']\n",
    "\n",
    "namePlayer=[]\n",
    "for elem in dfplayer2007['url']:\n",
    "    namePlayer.append(elem[11:-5])\n",
    "    \n",
    "dfplayer2007['name']=namePlayer\n",
    "\n",
    "del dfplayer2007['Unnamed: 0']\n",
    "del dfplayer2007['url']\n",
    "del dfplayer2007['draft']\n",
    "del dfplayer2007['shot']\n",
    "del dfplayer2007['pos']\n",
    "\n",
    "namePlayer=[]\n",
    "for elem in dfplayer2008['url']:\n",
    "    namePlayer.append(elem[11:-5])\n",
    "    \n",
    "dfplayer2008['name']=namePlayer\n",
    "\n",
    "del dfplayer2008['Unnamed: 0']\n",
    "del dfplayer2008['url']\n",
    "del dfplayer2008['draft']\n",
    "del dfplayer2008['shot']\n",
    "del dfplayer2008['pos']\n",
    "\n",
    "namePlayer=[]\n",
    "for elem in dfplayer2009['url']:\n",
    "    namePlayer.append(elem[11:-5])\n",
    "    \n",
    "dfplayer2009['name']=namePlayer\n",
    "\n",
    "del dfplayer2009['Unnamed: 0']\n",
    "del dfplayer2009['url']\n",
    "del dfplayer2009['draft']\n",
    "del dfplayer2009['shot']\n",
    "del dfplayer2009['pos']\n",
    "\n",
    "namePlayer=[]\n",
    "for elem in dfplayer2010['url']:\n",
    "    namePlayer.append(elem[11:-5])\n",
    "    \n",
    "dfplayer2010['name']=namePlayer\n",
    "\n",
    "del dfplayer2010['Unnamed: 0']\n",
    "del dfplayer2010['url']\n",
    "del dfplayer2010['draft']\n",
    "del dfplayer2010['shot']\n",
    "del dfplayer2010['pos']\n",
    "\n",
    "namePlayer=[]\n",
    "for elem in dfplayer2011['url']:\n",
    "    namePlayer.append(elem[11:-5])\n",
    "    \n",
    "dfplayer2011['name']=namePlayer\n",
    "\n",
    "del dfplayer2011['Unnamed: 0']\n",
    "del dfplayer2011['url']\n",
    "del dfplayer2011['draft']\n",
    "del dfplayer2011['shot']\n",
    "del dfplayer2011['pos']\n",
    "\n",
    "namePlayer=[]\n",
    "for elem in dfplayer2012['url']:\n",
    "    namePlayer.append(elem[11:-5])\n",
    "    \n",
    "dfplayer2012['name']=namePlayer\n",
    "\n",
    "del dfplayer2012['Unnamed: 0']\n",
    "del dfplayer2012['url']\n",
    "del dfplayer2012['draft']\n",
    "del dfplayer2012['shot']\n",
    "del dfplayer2012['pos']\n",
    "\n",
    "namePlayer=[]\n",
    "for elem in dfplayer2013['url']:\n",
    "    namePlayer.append(elem[11:-5])\n",
    "    \n",
    "dfplayer2013['name']=namePlayer\n",
    "\n",
    "del dfplayer2013['Unnamed: 0']\n",
    "del dfplayer2013['url']\n",
    "del dfplayer2013['draft']\n",
    "del dfplayer2013['shot']\n",
    "del dfplayer2013['pos']\n",
    "\n",
    "namePlayer=[]\n",
    "for elem in dfplayer2014['url']:\n",
    "    namePlayer.append(elem[11:-5])\n",
    "    \n",
    "dfplayer2014['name']=namePlayer\n",
    "\n",
    "del dfplayer2014['Unnamed: 0']\n",
    "del dfplayer2014['url']\n",
    "del dfplayer2014['draft']\n",
    "del dfplayer2014['shot']\n",
    "del dfplayer2014['pos']\n",
    "\n",
    "namePlayer=[]\n",
    "for elem in dfplayer2015['url']:\n",
    "    namePlayer.append(elem[11:-5])\n",
    "    \n",
    "dfplayer2015['name']=namePlayer\n",
    "\n",
    "del dfplayer2015['Unnamed: 0']\n",
    "del dfplayer2015['url']\n",
    "del dfplayer2015['draft']\n",
    "del dfplayer2015['shot']\n",
    "del dfplayer2015['pos']"
   ]
  },
  {
   "cell_type": "code",
   "execution_count": 213,
   "metadata": {
    "collapsed": true
   },
   "outputs": [],
   "source": []
  },
  {
   "cell_type": "code",
   "execution_count": 214,
   "metadata": {
    "collapsed": false
   },
   "outputs": [],
   "source": [
    "fundam = [dfplayer1996,dfplayer1997,dfplayer1998,dfplayer1999,dfplayer2000,dfplayer2001,dfplayer2002,\n",
    "dfplayer2003,dfplayer2004,dfplayer2005,dfplayer2006,dfplayer2007,dfplayer2008,dfplayer2009,dfplayer2010,\n",
    "dfplayer2011,dfplayer2012,dfplayer2013,dfplayer2014,dfplayer2015]\n",
    "\n",
    "\n",
    "\n",
    "df_all_fundam = pd.concat(fundam)"
   ]
  },
  {
   "cell_type": "code",
   "execution_count": 215,
   "metadata": {
    "collapsed": false
   },
   "outputs": [],
   "source": [
    "df_all_fundam=df_all_fundam.reset_index(drop=True)"
   ]
  },
  {
   "cell_type": "code",
   "execution_count": 216,
   "metadata": {
    "collapsed": true
   },
   "outputs": [],
   "source": [
    "frames = [df_age_19, df_age_20, df_age_21,df_age_22,df_age_23,df_age_24,df_age_25,df_age_26,df_age_27,df_age_28,\n",
    "         df_age_29,df_age_30,df_age_31,df_age_32,df_age_33,df_age_34,df_age_35,df_age_36,df_age_37,df_age_38,df_age_39]\n",
    "df_all = pd.concat(frames)"
   ]
  },
  {
   "cell_type": "code",
   "execution_count": 217,
   "metadata": {
    "collapsed": false
   },
   "outputs": [],
   "source": [
    "df_all=df_all.reset_index(drop=True)"
   ]
  },
  {
   "cell_type": "code",
   "execution_count": 220,
   "metadata": {
    "collapsed": true
   },
   "outputs": [],
   "source": [
    "df_all_fundam = df_all_fundam[df_all_fundam.height!= 'ml>']"
   ]
  },
  {
   "cell_type": "code",
   "execution_count": 221,
   "metadata": {
    "collapsed": true
   },
   "outputs": [],
   "source": [
    "df_all_fundam=df_all_fundam.reset_index(drop=True)"
   ]
  },
  {
   "cell_type": "code",
   "execution_count": 222,
   "metadata": {
    "collapsed": false
   },
   "outputs": [],
   "source": [
    "weight_all=df_all_fundam['weight']\n",
    "height_all=df_all_fundam['height']"
   ]
  },
  {
   "cell_type": "code",
   "execution_count": 223,
   "metadata": {
    "collapsed": false
   },
   "outputs": [],
   "source": [
    "df_all_fundam[['weight','height']]=df_all_fundam[['weight','height']].astype(float)"
   ]
  },
  {
   "cell_type": "code",
   "execution_count": 224,
   "metadata": {
    "collapsed": true
   },
   "outputs": [],
   "source": [
    "df_all = pd.merge(df_all, df_all_fundam, on='name')"
   ]
  },
  {
   "cell_type": "code",
   "execution_count": 225,
   "metadata": {
    "collapsed": true
   },
   "outputs": [],
   "source": [
    "df_all['goals_all']=df_all['goals_ev']+df_all['goals_pp']+df_all['goals_sh']\n",
    "df_all['goals_all']=df_all['goals_all']/df_all['games_played']\n",
    "df_all['goals_ev']=df_all['goals_ev']/df_all['games_played']\n",
    "df_all['goals_pp']=df_all['goals_pp']/df_all['games_played']\n",
    "df_all['goals_sh']=df_all['goals_sh']/df_all['games_played']\n",
    "\n",
    "df_all['assists_all']=df_all['assists_ev']+df_all['assists_pp']+df_all['assists_sh']\n",
    "df_all['assists_all']=df_all['assists_all']/df_all['games_played']\n",
    "df_all['assists_ev']=df_all['assists_ev']/df_all['games_played']\n",
    "df_all['assists_pp']=df_all['assists_pp']/df_all['games_played']\n",
    "df_all['assists_sh']=df_all['assists_sh']/df_all['games_played']\n",
    "\n",
    "df_all['zs_offense_pct']=df_all['zs_offense_pct']/100.0\n",
    "df_all['shot_pct']=df_all['shot_pct']/100.0\n",
    "df_all['takeaways']=df_all['takeaways']/df_all['games_played']\n",
    "df_all['hits']=df_all['hits']/df_all['games_played']\n",
    "\n",
    "df_all['giveaways']=df_all['giveaways']/df_all['games_played']\n",
    "df_all['blocks']=df_all['blocks']/df_all['games_played']\n",
    "\n",
    "df_all['shots_attempted']=df_all['shots_attempted']/df_all['games_played']"
   ]
  },
  {
   "cell_type": "code",
   "execution_count": 226,
   "metadata": {
    "collapsed": false
   },
   "outputs": [
    {
     "data": {
      "text/plain": [
       "Index([u'TOT', u'age_x', u'age_y', u'assists_ev', u'assists_pp', u'assists_sh',\n",
       "       u'blocks', u'corsi_against', u'corsi_for', u'corsi_pct',\n",
       "       u'corsi_rel_pct', u'fenwick_against', u'fenwick_for', u'fenwick_pct',\n",
       "       u'fenwick_rel_pct', u'games_played', u'giveaways', u'goals_ev',\n",
       "       u'goals_gw', u'goals_pp', u'goals_sh', u'hits', u'name',\n",
       "       u'on_ice_shot_pct', u'on_ice_sv_pct', u'pdo', u'pen_min', u'plus_minus',\n",
       "       u'season', u'shot_pct', u'shot_pct.1', u'shots_attempted',\n",
       "       u'shots_attempted.1', u'takeaways', u'time_on_ice_avg', u'uniqueseason',\n",
       "       u'zs_defense_pct', u'zs_offense_pct', u'height', u'weight',\n",
       "       u'goals_all', u'assists_all'],\n",
       "      dtype='object')"
      ]
     },
     "execution_count": 226,
     "metadata": {},
     "output_type": "execute_result"
    }
   ],
   "source": [
    "df_all.columns"
   ]
  },
  {
   "cell_type": "code",
   "execution_count": 227,
   "metadata": {
    "collapsed": false
   },
   "outputs": [],
   "source": [
    "df_all_nn=df_all[['goals_all','goals_pp','goals_sh','assists_ev','assists_pp','assists_sh','shots_attempted','age_x','blocks',\n",
    "                 'giveaways','hits','shot_pct','shots_attempted','takeaways','zs_offense_pct','height','weight']]"
   ]
  },
  {
   "cell_type": "code",
   "execution_count": null,
   "metadata": {
    "collapsed": true
   },
   "outputs": [],
   "source": []
  },
  {
   "cell_type": "code",
   "execution_count": 228,
   "metadata": {
    "collapsed": false
   },
   "outputs": [
    {
     "data": {
      "text/html": [
       "<div>\n",
       "<table border=\"1\" class=\"dataframe\">\n",
       "  <thead>\n",
       "    <tr style=\"text-align: right;\">\n",
       "      <th></th>\n",
       "      <th>goals_all</th>\n",
       "      <th>goals_pp</th>\n",
       "      <th>goals_sh</th>\n",
       "      <th>assists_ev</th>\n",
       "      <th>assists_pp</th>\n",
       "      <th>assists_sh</th>\n",
       "      <th>shots_attempted</th>\n",
       "      <th>age_x</th>\n",
       "      <th>blocks</th>\n",
       "      <th>giveaways</th>\n",
       "      <th>hits</th>\n",
       "      <th>shot_pct</th>\n",
       "      <th>shots_attempted</th>\n",
       "      <th>takeaways</th>\n",
       "      <th>zs_offense_pct</th>\n",
       "      <th>height</th>\n",
       "      <th>weight</th>\n",
       "    </tr>\n",
       "  </thead>\n",
       "  <tbody>\n",
       "    <tr>\n",
       "      <th>0</th>\n",
       "      <td>0.225352</td>\n",
       "      <td>0.042254</td>\n",
       "      <td>0.000000</td>\n",
       "      <td>0.225352</td>\n",
       "      <td>0.056338</td>\n",
       "      <td>0.000000</td>\n",
       "      <td>2.802817</td>\n",
       "      <td>19</td>\n",
       "      <td>0.492958</td>\n",
       "      <td>0.380282</td>\n",
       "      <td>0.492958</td>\n",
       "      <td>0.130</td>\n",
       "      <td>2.802817</td>\n",
       "      <td>0.591549</td>\n",
       "      <td>0.490</td>\n",
       "      <td>190</td>\n",
       "      <td>213</td>\n",
       "    </tr>\n",
       "    <tr>\n",
       "      <th>1</th>\n",
       "      <td>0.225352</td>\n",
       "      <td>0.042254</td>\n",
       "      <td>0.000000</td>\n",
       "      <td>0.225352</td>\n",
       "      <td>0.056338</td>\n",
       "      <td>0.000000</td>\n",
       "      <td>2.802817</td>\n",
       "      <td>19</td>\n",
       "      <td>0.492958</td>\n",
       "      <td>0.380282</td>\n",
       "      <td>0.492958</td>\n",
       "      <td>0.130</td>\n",
       "      <td>2.802817</td>\n",
       "      <td>0.591549</td>\n",
       "      <td>0.490</td>\n",
       "      <td>190</td>\n",
       "      <td>213</td>\n",
       "    </tr>\n",
       "    <tr>\n",
       "      <th>2</th>\n",
       "      <td>0.424242</td>\n",
       "      <td>0.136364</td>\n",
       "      <td>0.015152</td>\n",
       "      <td>0.348485</td>\n",
       "      <td>0.106061</td>\n",
       "      <td>0.015152</td>\n",
       "      <td>3.863636</td>\n",
       "      <td>20</td>\n",
       "      <td>0.590909</td>\n",
       "      <td>0.439394</td>\n",
       "      <td>0.651515</td>\n",
       "      <td>0.164</td>\n",
       "      <td>3.863636</td>\n",
       "      <td>0.681818</td>\n",
       "      <td>0.462</td>\n",
       "      <td>190</td>\n",
       "      <td>213</td>\n",
       "    </tr>\n",
       "    <tr>\n",
       "      <th>3</th>\n",
       "      <td>0.424242</td>\n",
       "      <td>0.136364</td>\n",
       "      <td>0.015152</td>\n",
       "      <td>0.348485</td>\n",
       "      <td>0.106061</td>\n",
       "      <td>0.015152</td>\n",
       "      <td>3.863636</td>\n",
       "      <td>20</td>\n",
       "      <td>0.590909</td>\n",
       "      <td>0.439394</td>\n",
       "      <td>0.651515</td>\n",
       "      <td>0.164</td>\n",
       "      <td>3.863636</td>\n",
       "      <td>0.681818</td>\n",
       "      <td>0.462</td>\n",
       "      <td>190</td>\n",
       "      <td>213</td>\n",
       "    </tr>\n",
       "    <tr>\n",
       "      <th>4</th>\n",
       "      <td>0.086957</td>\n",
       "      <td>0.000000</td>\n",
       "      <td>0.000000</td>\n",
       "      <td>0.347826</td>\n",
       "      <td>0.173913</td>\n",
       "      <td>0.000000</td>\n",
       "      <td>3.217391</td>\n",
       "      <td>21</td>\n",
       "      <td>0.478261</td>\n",
       "      <td>0.434783</td>\n",
       "      <td>0.608696</td>\n",
       "      <td>0.047</td>\n",
       "      <td>3.217391</td>\n",
       "      <td>0.652174</td>\n",
       "      <td>0.530</td>\n",
       "      <td>190</td>\n",
       "      <td>213</td>\n",
       "    </tr>\n",
       "  </tbody>\n",
       "</table>\n",
       "</div>"
      ],
      "text/plain": [
       "   goals_all  goals_pp  goals_sh  assists_ev  assists_pp  assists_sh  \\\n",
       "0   0.225352  0.042254  0.000000    0.225352    0.056338    0.000000   \n",
       "1   0.225352  0.042254  0.000000    0.225352    0.056338    0.000000   \n",
       "2   0.424242  0.136364  0.015152    0.348485    0.106061    0.015152   \n",
       "3   0.424242  0.136364  0.015152    0.348485    0.106061    0.015152   \n",
       "4   0.086957  0.000000  0.000000    0.347826    0.173913    0.000000   \n",
       "\n",
       "   shots_attempted  age_x    blocks  giveaways      hits  shot_pct  \\\n",
       "0         2.802817     19  0.492958   0.380282  0.492958     0.130   \n",
       "1         2.802817     19  0.492958   0.380282  0.492958     0.130   \n",
       "2         3.863636     20  0.590909   0.439394  0.651515     0.164   \n",
       "3         3.863636     20  0.590909   0.439394  0.651515     0.164   \n",
       "4         3.217391     21  0.478261   0.434783  0.608696     0.047   \n",
       "\n",
       "   shots_attempted  takeaways  zs_offense_pct  height  weight  \n",
       "0         2.802817   0.591549           0.490     190     213  \n",
       "1         2.802817   0.591549           0.490     190     213  \n",
       "2         3.863636   0.681818           0.462     190     213  \n",
       "3         3.863636   0.681818           0.462     190     213  \n",
       "4         3.217391   0.652174           0.530     190     213  "
      ]
     },
     "execution_count": 228,
     "metadata": {},
     "output_type": "execute_result"
    }
   ],
   "source": [
    "df_all_nn.head()"
   ]
  },
  {
   "cell_type": "code",
   "execution_count": null,
   "metadata": {
    "collapsed": false
   },
   "outputs": [],
   "source": []
  },
  {
   "cell_type": "code",
   "execution_count": 229,
   "metadata": {
    "collapsed": false
   },
   "outputs": [],
   "source": [
    "cols_to_norm = ['goals_pp','goals_sh','assists_ev','assists_pp','assists_sh','shots_attempted','age_x','blocks','giveaways',\n",
    "               'hits','shot_pct','shots_attempted','takeaways','zs_offense_pct','height','weight']\n",
    "df_all_nn_2=df_all_nn[cols_to_norm].apply(lambda x: (x - x.mean()) / (x.max() - x.min()))"
   ]
  },
  {
   "cell_type": "code",
   "execution_count": 230,
   "metadata": {
    "collapsed": false
   },
   "outputs": [
    {
     "data": {
      "text/html": [
       "<div>\n",
       "<table border=\"1\" class=\"dataframe\">\n",
       "  <thead>\n",
       "    <tr style=\"text-align: right;\">\n",
       "      <th></th>\n",
       "      <th>goals_pp</th>\n",
       "      <th>goals_sh</th>\n",
       "      <th>assists_ev</th>\n",
       "      <th>assists_pp</th>\n",
       "      <th>assists_sh</th>\n",
       "      <th>shots_attempted</th>\n",
       "      <th>shots_attempted</th>\n",
       "      <th>age_x</th>\n",
       "      <th>blocks</th>\n",
       "      <th>giveaways</th>\n",
       "      <th>hits</th>\n",
       "      <th>shot_pct</th>\n",
       "      <th>shots_attempted</th>\n",
       "      <th>shots_attempted</th>\n",
       "      <th>takeaways</th>\n",
       "      <th>zs_offense_pct</th>\n",
       "      <th>height</th>\n",
       "      <th>weight</th>\n",
       "    </tr>\n",
       "  </thead>\n",
       "  <tbody>\n",
       "    <tr>\n",
       "      <th>0</th>\n",
       "      <td>0.006428</td>\n",
       "      <td>-0.009968</td>\n",
       "      <td>0.042652</td>\n",
       "      <td>-0.009669</td>\n",
       "      <td>-0.025260</td>\n",
       "      <td>-0.019468</td>\n",
       "      <td>-0.019468</td>\n",
       "      <td>-0.340201</td>\n",
       "      <td>-0.055663</td>\n",
       "      <td>-0.009776</td>\n",
       "      <td>-0.106096</td>\n",
       "      <td>0.04802</td>\n",
       "      <td>-0.019468</td>\n",
       "      <td>-0.019468</td>\n",
       "      <td>0.068370</td>\n",
       "      <td>-0.022928</td>\n",
       "      <td>0.091185</td>\n",
       "      <td>0.08048</td>\n",
       "    </tr>\n",
       "    <tr>\n",
       "      <th>1</th>\n",
       "      <td>0.006428</td>\n",
       "      <td>-0.009968</td>\n",
       "      <td>0.042652</td>\n",
       "      <td>-0.009669</td>\n",
       "      <td>-0.025260</td>\n",
       "      <td>-0.019468</td>\n",
       "      <td>-0.019468</td>\n",
       "      <td>-0.340201</td>\n",
       "      <td>-0.055663</td>\n",
       "      <td>-0.009776</td>\n",
       "      <td>-0.106096</td>\n",
       "      <td>0.04802</td>\n",
       "      <td>-0.019468</td>\n",
       "      <td>-0.019468</td>\n",
       "      <td>0.068370</td>\n",
       "      <td>-0.022928</td>\n",
       "      <td>0.091185</td>\n",
       "      <td>0.08048</td>\n",
       "    </tr>\n",
       "    <tr>\n",
       "      <th>2</th>\n",
       "      <td>0.100539</td>\n",
       "      <td>0.020335</td>\n",
       "      <td>0.165785</td>\n",
       "      <td>0.040054</td>\n",
       "      <td>0.050497</td>\n",
       "      <td>0.077772</td>\n",
       "      <td>0.077772</td>\n",
       "      <td>-0.290201</td>\n",
       "      <td>-0.028320</td>\n",
       "      <td>0.009928</td>\n",
       "      <td>-0.083445</td>\n",
       "      <td>0.08202</td>\n",
       "      <td>0.077772</td>\n",
       "      <td>0.077772</td>\n",
       "      <td>0.098459</td>\n",
       "      <td>-0.050928</td>\n",
       "      <td>0.091185</td>\n",
       "      <td>0.08048</td>\n",
       "    </tr>\n",
       "    <tr>\n",
       "      <th>3</th>\n",
       "      <td>0.100539</td>\n",
       "      <td>0.020335</td>\n",
       "      <td>0.165785</td>\n",
       "      <td>0.040054</td>\n",
       "      <td>0.050497</td>\n",
       "      <td>0.077772</td>\n",
       "      <td>0.077772</td>\n",
       "      <td>-0.290201</td>\n",
       "      <td>-0.028320</td>\n",
       "      <td>0.009928</td>\n",
       "      <td>-0.083445</td>\n",
       "      <td>0.08202</td>\n",
       "      <td>0.077772</td>\n",
       "      <td>0.077772</td>\n",
       "      <td>0.098459</td>\n",
       "      <td>-0.050928</td>\n",
       "      <td>0.091185</td>\n",
       "      <td>0.08048</td>\n",
       "    </tr>\n",
       "    <tr>\n",
       "      <th>4</th>\n",
       "      <td>-0.035825</td>\n",
       "      <td>-0.009968</td>\n",
       "      <td>0.165126</td>\n",
       "      <td>0.107906</td>\n",
       "      <td>-0.025260</td>\n",
       "      <td>0.018534</td>\n",
       "      <td>0.018534</td>\n",
       "      <td>-0.240201</td>\n",
       "      <td>-0.059766</td>\n",
       "      <td>0.008391</td>\n",
       "      <td>-0.089562</td>\n",
       "      <td>-0.03498</td>\n",
       "      <td>0.018534</td>\n",
       "      <td>0.018534</td>\n",
       "      <td>0.088578</td>\n",
       "      <td>0.017072</td>\n",
       "      <td>0.091185</td>\n",
       "      <td>0.08048</td>\n",
       "    </tr>\n",
       "  </tbody>\n",
       "</table>\n",
       "</div>"
      ],
      "text/plain": [
       "   goals_pp  goals_sh  assists_ev  assists_pp  assists_sh  shots_attempted  \\\n",
       "0  0.006428 -0.009968    0.042652   -0.009669   -0.025260        -0.019468   \n",
       "1  0.006428 -0.009968    0.042652   -0.009669   -0.025260        -0.019468   \n",
       "2  0.100539  0.020335    0.165785    0.040054    0.050497         0.077772   \n",
       "3  0.100539  0.020335    0.165785    0.040054    0.050497         0.077772   \n",
       "4 -0.035825 -0.009968    0.165126    0.107906   -0.025260         0.018534   \n",
       "\n",
       "   shots_attempted     age_x    blocks  giveaways      hits  shot_pct  \\\n",
       "0        -0.019468 -0.340201 -0.055663  -0.009776 -0.106096   0.04802   \n",
       "1        -0.019468 -0.340201 -0.055663  -0.009776 -0.106096   0.04802   \n",
       "2         0.077772 -0.290201 -0.028320   0.009928 -0.083445   0.08202   \n",
       "3         0.077772 -0.290201 -0.028320   0.009928 -0.083445   0.08202   \n",
       "4         0.018534 -0.240201 -0.059766   0.008391 -0.089562  -0.03498   \n",
       "\n",
       "   shots_attempted  shots_attempted  takeaways  zs_offense_pct    height  \\\n",
       "0        -0.019468        -0.019468   0.068370       -0.022928  0.091185   \n",
       "1        -0.019468        -0.019468   0.068370       -0.022928  0.091185   \n",
       "2         0.077772         0.077772   0.098459       -0.050928  0.091185   \n",
       "3         0.077772         0.077772   0.098459       -0.050928  0.091185   \n",
       "4         0.018534         0.018534   0.088578        0.017072  0.091185   \n",
       "\n",
       "    weight  \n",
       "0  0.08048  \n",
       "1  0.08048  \n",
       "2  0.08048  \n",
       "3  0.08048  \n",
       "4  0.08048  "
      ]
     },
     "execution_count": 230,
     "metadata": {},
     "output_type": "execute_result"
    }
   ],
   "source": [
    "df_all_nn_2.head()"
   ]
  },
  {
   "cell_type": "code",
   "execution_count": 231,
   "metadata": {
    "collapsed": true
   },
   "outputs": [],
   "source": [
    "df_all_nn_2['goals_all']=df_all_nn['goals_all']"
   ]
  },
  {
   "cell_type": "code",
   "execution_count": 232,
   "metadata": {
    "collapsed": true
   },
   "outputs": [],
   "source": [
    "df_all_nn_2['age_x'] = df_all_nn_2['age_x'].apply(lambda x: abs(x))"
   ]
  },
  {
   "cell_type": "code",
   "execution_count": 233,
   "metadata": {
    "collapsed": false
   },
   "outputs": [],
   "source": [
    "df_all_nn_2=df_all_nn_2.reset_index(drop=True)"
   ]
  },
  {
   "cell_type": "code",
   "execution_count": 234,
   "metadata": {
    "collapsed": true
   },
   "outputs": [],
   "source": [
    "import pandas as pd\n",
    "import pylab as pl\n",
    "from sklearn.neighbors import KNeighborsClassifier\n"
   ]
  },
  {
   "cell_type": "code",
   "execution_count": 237,
   "metadata": {
    "collapsed": false
   },
   "outputs": [
    {
     "data": {
      "text/plain": [
       "6025"
      ]
     },
     "execution_count": 237,
     "metadata": {},
     "output_type": "execute_result"
    }
   ],
   "source": [
    "len(train )\n",
    "len(test )"
   ]
  },
  {
   "cell_type": "code",
   "execution_count": 239,
   "metadata": {
    "collapsed": false
   },
   "outputs": [
    {
     "name": "stdout",
     "output_type": "stream",
     "text": [
      "Neighbors: 1, Accuracy: 18.387327\n",
      "Neighbors: 2, Accuracy: 16.312757\n",
      "Neighbors: 3, Accuracy: 17.939841\n",
      "Neighbors: 4, Accuracy: 19.947750\n",
      "Neighbors: 5, Accuracy: 20.685585\n",
      "Neighbors: 6, Accuracy: 21.718912\n",
      "Neighbors: 7, Accuracy: 22.465906\n",
      "Neighbors: 8, Accuracy: 22.496091\n",
      "Neighbors: 9, Accuracy: 23.503208\n"
     ]
    }
   ],
   "source": [
    "features = ['assists_ev','assists_pp','assists_sh','age_x',\n",
    "               'shots_attempted','takeaways','zs_offense_pct']\n",
    "\n",
    "results_all=[]\n",
    "for k in range(1,10,1):\n",
    "    results=[]\n",
    "    for n in range(1, 30, 1):\n",
    "    \n",
    "        test_idx = np.random.uniform(0, 1, len(df_all_nn_2)) <= 0.8\n",
    "        train = df_all_nn_2[test_idx==True]\n",
    "        test = df_all_nn_2[test_idx==False]\n",
    "\n",
    "        clf = KNeighborsClassifier(n_neighbors=k)\n",
    "        clf.fit(train[features], np.asarray(train['goals_all'], dtype=\"|S6\"))\n",
    "        preds = clf.predict(test[features])\n",
    "        test_goals_all=list(test['goals_all'])\n",
    "        distance=0\n",
    "        for i in range(len(test_goals_all)):\n",
    "            #error.append(test_goals_all[i]-float(preds[i]))\n",
    "            distance += pow((test_goals_all[i]-float(preds[i])), 2)\n",
    "        accuracy = distance/ float(len(test))\n",
    "        \n",
    "\n",
    "        results.append(distance)\n",
    "\n",
    "#    print sum(results)/len(results)\n",
    "    results_all.append([k, sum(results)/len(results)])\n",
    "    print \"Neighbors: %d, Accuracy: %3f\" % (k, sum(results)/len(results))\n"
   ]
  },
  {
   "cell_type": "code",
   "execution_count": null,
   "metadata": {
    "collapsed": true
   },
   "outputs": [],
   "source": []
  },
  {
   "cell_type": "code",
   "execution_count": null,
   "metadata": {
    "collapsed": true
   },
   "outputs": [],
   "source": []
  },
  {
   "cell_type": "code",
   "execution_count": null,
   "metadata": {
    "collapsed": true
   },
   "outputs": [],
   "source": []
  },
  {
   "cell_type": "code",
   "execution_count": null,
   "metadata": {
    "collapsed": true
   },
   "outputs": [],
   "source": []
  },
  {
   "cell_type": "code",
   "execution_count": null,
   "metadata": {
    "collapsed": true
   },
   "outputs": [],
   "source": []
  },
  {
   "cell_type": "code",
   "execution_count": null,
   "metadata": {
    "collapsed": true
   },
   "outputs": [],
   "source": []
  },
  {
   "cell_type": "code",
   "execution_count": null,
   "metadata": {
    "collapsed": true
   },
   "outputs": [],
   "source": []
  },
  {
   "cell_type": "code",
   "execution_count": null,
   "metadata": {
    "collapsed": true
   },
   "outputs": [],
   "source": []
  },
  {
   "cell_type": "code",
   "execution_count": null,
   "metadata": {
    "collapsed": true
   },
   "outputs": [],
   "source": []
  },
  {
   "cell_type": "code",
   "execution_count": 238,
   "metadata": {
    "collapsed": false
   },
   "outputs": [
    {
     "name": "stdout",
     "output_type": "stream",
     "text": [
      "Neighbors: 1, Accuracy: 14.493003\n",
      "Neighbors: 2, Accuracy: 13.770452\n",
      "Neighbors: 3, Accuracy: 15.141805\n",
      "Neighbors: 4, Accuracy: 16.597910\n",
      "Neighbors: 5, Accuracy: 17.702272\n",
      "Neighbors: 6, Accuracy: 18.930243\n",
      "Neighbors: 7, Accuracy: 19.188645\n",
      "Neighbors: 8, Accuracy: 19.615257\n",
      "Neighbors: 9, Accuracy: 20.174021\n"
     ]
    }
   ],
   "source": [
    "test_idx = np.random.uniform(0, 1, len(df_all_nn_2)) <= 0.8\n",
    "train = df_all_nn_2[test_idx==True]\n",
    "test = df_all_nn_2[test_idx==False]\n",
    "\n",
    "features = ['goals_pp','goals_sh','assists_ev','assists_pp','assists_sh','age_x',\n",
    "               'hits','shots_attempted','takeaways','zs_offense_pct','weight','height']\n",
    "\n",
    "results = []\n",
    "for n in range(1, 10, 1):\n",
    "    \n",
    "    clf = KNeighborsClassifier(n_neighbors=n)\n",
    "    clf.fit(train[features], np.asarray(train['goals_all'], dtype=\"|S6\"))\n",
    "    preds = clf.predict(test[features])\n",
    "    test_goals_all=list(test['goals_all'])\n",
    "    distance=0\n",
    "    for i in range(len(test_goals_all)):\n",
    "        #error.append(test_goals_all[i]-float(preds[i]))\n",
    "        distance += pow((test_goals_all[i]-float(preds[i])), 2)\n",
    "    accuracy = distance/ float(len(test))\n",
    "    print \"Neighbors: %d, Accuracy: %3f\" % (n, distance)\n",
    "\n",
    "    results.append([n, distance])"
   ]
  },
  {
   "cell_type": "code",
   "execution_count": 170,
   "metadata": {
    "collapsed": false
   },
   "outputs": [
    {
     "data": {
      "text/plain": [
       "1394"
      ]
     },
     "execution_count": 170,
     "metadata": {},
     "output_type": "execute_result"
    }
   ],
   "source": [
    "len(train)\n",
    "len(test)"
   ]
  },
  {
   "cell_type": "code",
   "execution_count": 166,
   "metadata": {
    "collapsed": true
   },
   "outputs": [],
   "source": [
    "results_df = pd.DataFrame(results_all, columns=[\"n\", \"accuracy\"])\n",
    "\n",
    "pl.plot(results_df.n, results_df.accuracy)\n",
    "pl.title(\"Accuracy with Increasing K\")\n",
    "pl.show()"
   ]
  },
  {
   "cell_type": "code",
   "execution_count": 68,
   "metadata": {
    "collapsed": false
   },
   "outputs": [
    {
     "name": "stdout",
     "output_type": "stream",
     "text": [
      "Neighbors: 1, Accuracy: 0.760999\n",
      "Neighbors: 3, Accuracy: 0.776697\n",
      "Neighbors: 5, Accuracy: 0.779571\n",
      "Neighbors: 7, Accuracy: 0.784214\n",
      "Neighbors: 9, Accuracy: 0.788194\n",
      "Neighbors: 11, Accuracy: 0.793058\n",
      "Neighbors: 13, Accuracy: 0.792616\n",
      "Neighbors: 15, Accuracy: 0.799912\n",
      "Neighbors: 17, Accuracy: 0.800354\n",
      "Neighbors: 19, Accuracy: 0.801901\n",
      "Neighbors: 21, Accuracy: 0.802565\n",
      "Neighbors: 23, Accuracy: 0.801459\n",
      "Neighbors: 25, Accuracy: 0.801459\n",
      "Neighbors: 27, Accuracy: 0.800133\n",
      "Neighbors: 29, Accuracy: 0.800354\n",
      "Neighbors: 31, Accuracy: 0.801238\n",
      "Neighbors: 33, Accuracy: 0.800575\n",
      "Neighbors: 35, Accuracy: 0.803228\n",
      "Neighbors: 37, Accuracy: 0.804333\n",
      "Neighbors: 39, Accuracy: 0.803449\n",
      "Neighbors: 41, Accuracy: 0.803449\n",
      "Neighbors: 43, Accuracy: 0.804554\n",
      "Neighbors: 45, Accuracy: 0.804776\n",
      "Neighbors: 47, Accuracy: 0.804333\n",
      "Neighbors: 49, Accuracy: 0.804333\n"
     ]
    }
   ],
   "source": [
    "import pandas as pd\n",
    "import pylab as pl\n",
    "from sklearn.neighbors import KNeighborsClassifier\n",
    "\n",
    "\n",
    "df = pd.read_csv(\"https://s3.amazonaws.com/demo-datasets/wine.csv\")\n",
    "\n",
    "test_idx = np.random.uniform(0, 1, len(df)) <= 0.3\n",
    "train = df[test_idx==True]\n",
    "test = df[test_idx==False]\n",
    "\n",
    "features = ['density', 'sulphates', 'residual_sugar']\n",
    "\n",
    "results = []\n",
    "for n in range(1, 51, 2):\n",
    "    clf = KNeighborsClassifier(n_neighbors=n)\n",
    "    clf.fit(train[features], train['high_quality'])\n",
    "    preds = clf.predict(test[features])\n",
    "    accuracy = np.where(preds==test['high_quality'], 1, 0).sum() / float(len(test))\n",
    "    print \"Neighbors: %d, Accuracy: %3f\" % (n, accuracy)\n",
    "\n",
    "    results.append([n, accuracy])\n",
    "\n",
    "results = pd.DataFrame(results, columns=[\"n\", \"accuracy\"])\n",
    "\n",
    "pl.plot(results.n, results.accuracy)\n",
    "pl.title(\"Accuracy with Increasing K\")\n",
    "pl.show()"
   ]
  },
  {
   "cell_type": "code",
   "execution_count": null,
   "metadata": {
    "collapsed": true
   },
   "outputs": [],
   "source": []
  },
  {
   "cell_type": "code",
   "execution_count": null,
   "metadata": {
    "collapsed": true
   },
   "outputs": [],
   "source": []
  },
  {
   "cell_type": "code",
   "execution_count": null,
   "metadata": {
    "collapsed": true
   },
   "outputs": [],
   "source": []
  },
  {
   "cell_type": "code",
   "execution_count": null,
   "metadata": {
    "collapsed": true
   },
   "outputs": [],
   "source": []
  }
 ],
 "metadata": {
  "kernelspec": {
   "display_name": "Python 2",
   "language": "python",
   "name": "python2"
  },
  "language_info": {
   "codemirror_mode": {
    "name": "ipython",
    "version": 2
   },
   "file_extension": ".py",
   "mimetype": "text/x-python",
   "name": "python",
   "nbconvert_exporter": "python",
   "pygments_lexer": "ipython2",
   "version": "2.7.12"
  }
 },
 "nbformat": 4,
 "nbformat_minor": 0
}
