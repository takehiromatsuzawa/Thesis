{
 "cells": [
  {
   "cell_type": "code",
   "execution_count": null,
   "metadata": {
    "collapsed": false
   },
   "outputs": [],
   "source": []
  },
  {
   "cell_type": "code",
   "execution_count": 1,
   "metadata": {
    "collapsed": false
   },
   "outputs": [],
   "source": [
    "import pandas as pd\n",
    "import numpy as np\n",
    "import os\n",
    "from sklearn import neighbors\n",
    "from sklearn import cluster, datasets\n",
    "from sklearn import decomposition"
   ]
  },
  {
   "cell_type": "code",
   "execution_count": 2,
   "metadata": {
    "collapsed": false
   },
   "outputs": [],
   "source": [
    "df_age_26=pd.read_csv('AgeData/df_age_26.csv',index_col=0)\n",
    "df_age_26['time_on_ice_avg'] = df_age_26['time_on_ice_avg'].str.replace(':', '.')\n",
    "df_age_26=df_age_26.set_index('name')\n",
    "\n",
    "df_age_26=df_age_26.convert_objects(convert_numeric=True).dropna()\n",
    "del df_age_26['TOT']\n",
    "del df_age_26['season']\n",
    "data_age_26=df_age_26.as_matrix()\n",
    "pca = decomposition.PCA(n_components=3)\n",
    "pca.fit(data_age_26)\n",
    "\n",
    "X = pca.transform(data_age_26)\n",
    "new_df_age_26 = pd.DataFrame(X)\n",
    "\n",
    "new_df_age_26['name']=list(df_age_26.index)\n",
    "new_df_age_26=new_df_age_26.set_index('name')\n",
    "new_df_age_26.to_csv('PCA_Folder/new_df_age_26.csv')"
   ]
  },
  {
   "cell_type": "code",
   "execution_count": null,
   "metadata": {
    "collapsed": false
   },
   "outputs": [],
   "source": []
  },
  {
   "cell_type": "code",
   "execution_count": 4,
   "metadata": {
    "collapsed": true
   },
   "outputs": [],
   "source": []
  },
  {
   "cell_type": "code",
   "execution_count": 8,
   "metadata": {
    "collapsed": false
   },
   "outputs": [],
   "source": [
    "#df_age_22['time_on_ice_avg']"
   ]
  },
  {
   "cell_type": "code",
   "execution_count": 5,
   "metadata": {
    "collapsed": false
   },
   "outputs": [
    {
     "data": {
      "text/plain": [
       "575"
      ]
     },
     "execution_count": 5,
     "metadata": {},
     "output_type": "execute_result"
    }
   ],
   "source": []
  },
  {
   "cell_type": "code",
   "execution_count": 6,
   "metadata": {
    "collapsed": false
   },
   "outputs": [
    {
     "data": {
      "text/html": [
       "<div>\n",
       "<table border=\"1\" class=\"dataframe\">\n",
       "  <thead>\n",
       "    <tr style=\"text-align: right;\">\n",
       "      <th></th>\n",
       "      <th>TOT</th>\n",
       "      <th>age</th>\n",
       "      <th>assists_ev</th>\n",
       "      <th>assists_pp</th>\n",
       "      <th>assists_sh</th>\n",
       "      <th>blocks</th>\n",
       "      <th>corsi_against</th>\n",
       "      <th>corsi_for</th>\n",
       "      <th>corsi_pct</th>\n",
       "      <th>corsi_rel_pct</th>\n",
       "      <th>...</th>\n",
       "      <th>season</th>\n",
       "      <th>shot_pct</th>\n",
       "      <th>shot_pct.1</th>\n",
       "      <th>shots_attempted</th>\n",
       "      <th>shots_attempted.1</th>\n",
       "      <th>takeaways</th>\n",
       "      <th>time_on_ice_avg</th>\n",
       "      <th>uniqueseason</th>\n",
       "      <th>zs_defense_pct</th>\n",
       "      <th>zs_offense_pct</th>\n",
       "    </tr>\n",
       "  </thead>\n",
       "  <tbody>\n",
       "    <tr>\n",
       "      <th>7</th>\n",
       "      <td>DAL</td>\n",
       "      <td>25</td>\n",
       "      <td>37</td>\n",
       "      <td>13</td>\n",
       "      <td>2</td>\n",
       "      <td>50</td>\n",
       "      <td>1160</td>\n",
       "      <td>1375</td>\n",
       "      <td>54.2</td>\n",
       "      <td>3.2</td>\n",
       "      <td>...</td>\n",
       "      <td>2014-15</td>\n",
       "      <td>13.8</td>\n",
       "      <td>13.8</td>\n",
       "      <td>466</td>\n",
       "      <td>466</td>\n",
       "      <td>76</td>\n",
       "      <td>19.57</td>\n",
       "      <td>NaN</td>\n",
       "      <td>45.4</td>\n",
       "      <td>54.6</td>\n",
       "    </tr>\n",
       "    <tr>\n",
       "      <th>11</th>\n",
       "      <td>STL</td>\n",
       "      <td>25</td>\n",
       "      <td>14</td>\n",
       "      <td>8</td>\n",
       "      <td>0</td>\n",
       "      <td>20</td>\n",
       "      <td>985</td>\n",
       "      <td>958</td>\n",
       "      <td>49.3</td>\n",
       "      <td>2.5</td>\n",
       "      <td>...</td>\n",
       "      <td>2007-08</td>\n",
       "      <td>20.8</td>\n",
       "      <td>20.8</td>\n",
       "      <td>379</td>\n",
       "      <td>379</td>\n",
       "      <td>33</td>\n",
       "      <td>17.57</td>\n",
       "      <td>NaN</td>\n",
       "      <td>48.4</td>\n",
       "      <td>51.6</td>\n",
       "    </tr>\n",
       "    <tr>\n",
       "      <th>44</th>\n",
       "      <td>LAK</td>\n",
       "      <td>25</td>\n",
       "      <td>31</td>\n",
       "      <td>13</td>\n",
       "      <td>0</td>\n",
       "      <td>18</td>\n",
       "      <td>1043</td>\n",
       "      <td>1038</td>\n",
       "      <td>49.9</td>\n",
       "      <td>5.4</td>\n",
       "      <td>...</td>\n",
       "      <td>2007-08</td>\n",
       "      <td>14.4</td>\n",
       "      <td>14.4</td>\n",
       "      <td>285</td>\n",
       "      <td>285</td>\n",
       "      <td>45</td>\n",
       "      <td>18.48</td>\n",
       "      <td>NaN</td>\n",
       "      <td>46.2</td>\n",
       "      <td>53.8</td>\n",
       "    </tr>\n",
       "    <tr>\n",
       "      <th>48</th>\n",
       "      <td>MIN</td>\n",
       "      <td>25</td>\n",
       "      <td>28</td>\n",
       "      <td>13</td>\n",
       "      <td>0</td>\n",
       "      <td>18</td>\n",
       "      <td>1103</td>\n",
       "      <td>953</td>\n",
       "      <td>46.4</td>\n",
       "      <td>-4.4</td>\n",
       "      <td>...</td>\n",
       "      <td>2007-08</td>\n",
       "      <td>15.1</td>\n",
       "      <td>15.1</td>\n",
       "      <td>451</td>\n",
       "      <td>451</td>\n",
       "      <td>41</td>\n",
       "      <td>19.36</td>\n",
       "      <td>NaN</td>\n",
       "      <td>54.3</td>\n",
       "      <td>45.7</td>\n",
       "    </tr>\n",
       "    <tr>\n",
       "      <th>62</th>\n",
       "      <td>BUF</td>\n",
       "      <td>25</td>\n",
       "      <td>22</td>\n",
       "      <td>3</td>\n",
       "      <td>1</td>\n",
       "      <td>48</td>\n",
       "      <td>858</td>\n",
       "      <td>810</td>\n",
       "      <td>48.6</td>\n",
       "      <td>-1.9</td>\n",
       "      <td>...</td>\n",
       "      <td>2007-08</td>\n",
       "      <td>7.4</td>\n",
       "      <td>7.4</td>\n",
       "      <td>205</td>\n",
       "      <td>205</td>\n",
       "      <td>19</td>\n",
       "      <td>17.10</td>\n",
       "      <td>NaN</td>\n",
       "      <td>45.4</td>\n",
       "      <td>54.6</td>\n",
       "    </tr>\n",
       "  </tbody>\n",
       "</table>\n",
       "<p>5 rows × 37 columns</p>\n",
       "</div>"
      ],
      "text/plain": [
       "    TOT  age  assists_ev  assists_pp  assists_sh  blocks  corsi_against  \\\n",
       "7   DAL   25          37          13           2      50           1160   \n",
       "11  STL   25          14           8           0      20            985   \n",
       "44  LAK   25          31          13           0      18           1043   \n",
       "48  MIN   25          28          13           0      18           1103   \n",
       "62  BUF   25          22           3           1      48            858   \n",
       "\n",
       "    corsi_for  corsi_pct  corsi_rel_pct       ...         season  shot_pct  \\\n",
       "7        1375       54.2            3.2       ...        2014-15      13.8   \n",
       "11        958       49.3            2.5       ...        2007-08      20.8   \n",
       "44       1038       49.9            5.4       ...        2007-08      14.4   \n",
       "48        953       46.4           -4.4       ...        2007-08      15.1   \n",
       "62        810       48.6           -1.9       ...        2007-08       7.4   \n",
       "\n",
       "    shot_pct.1  shots_attempted  shots_attempted.1  takeaways time_on_ice_avg  \\\n",
       "7         13.8              466                466         76           19.57   \n",
       "11        20.8              379                379         33           17.57   \n",
       "44        14.4              285                285         45           18.48   \n",
       "48        15.1              451                451         41           19.36   \n",
       "62         7.4              205                205         19           17.10   \n",
       "\n",
       "   uniqueseason  zs_defense_pct  zs_offense_pct  \n",
       "7           NaN            45.4            54.6  \n",
       "11          NaN            48.4            51.6  \n",
       "44          NaN            46.2            53.8  \n",
       "48          NaN            54.3            45.7  \n",
       "62          NaN            45.4            54.6  \n",
       "\n",
       "[5 rows x 37 columns]"
      ]
     },
     "execution_count": 6,
     "metadata": {},
     "output_type": "execute_result"
    }
   ],
   "source": []
  },
  {
   "cell_type": "code",
   "execution_count": null,
   "metadata": {
    "collapsed": true
   },
   "outputs": [],
   "source": []
  },
  {
   "cell_type": "code",
   "execution_count": 7,
   "metadata": {
    "collapsed": false
   },
   "outputs": [
    {
     "data": {
      "text/plain": [
       "575"
      ]
     },
     "execution_count": 7,
     "metadata": {},
     "output_type": "execute_result"
    }
   ],
   "source": [
    "len(df_age_25)"
   ]
  },
  {
   "cell_type": "code",
   "execution_count": 8,
   "metadata": {
    "collapsed": true
   },
   "outputs": [],
   "source": []
  },
  {
   "cell_type": "code",
   "execution_count": 9,
   "metadata": {
    "collapsed": false
   },
   "outputs": [],
   "source": []
  },
  {
   "cell_type": "code",
   "execution_count": 10,
   "metadata": {
    "collapsed": false
   },
   "outputs": [],
   "source": []
  },
  {
   "cell_type": "code",
   "execution_count": null,
   "metadata": {
    "collapsed": false
   },
   "outputs": [],
   "source": []
  },
  {
   "cell_type": "code",
   "execution_count": null,
   "metadata": {
    "collapsed": true
   },
   "outputs": [],
   "source": []
  },
  {
   "cell_type": "code",
   "execution_count": 11,
   "metadata": {
    "collapsed": true
   },
   "outputs": [],
   "source": []
  },
  {
   "cell_type": "code",
   "execution_count": null,
   "metadata": {
    "collapsed": false
   },
   "outputs": [],
   "source": []
  },
  {
   "cell_type": "code",
   "execution_count": 105,
   "metadata": {
    "collapsed": false
   },
   "outputs": [],
   "source": [
    "# k_means = cluster.KMeans(n_clusters=5)\n",
    "# k_means.fit(data_age_22)"
   ]
  },
  {
   "cell_type": "code",
   "execution_count": 12,
   "metadata": {
    "collapsed": false
   },
   "outputs": [],
   "source": []
  },
  {
   "cell_type": "code",
   "execution_count": null,
   "metadata": {
    "collapsed": false
   },
   "outputs": [],
   "source": []
  },
  {
   "cell_type": "code",
   "execution_count": 14,
   "metadata": {
    "collapsed": false
   },
   "outputs": [],
   "source": []
  },
  {
   "cell_type": "code",
   "execution_count": null,
   "metadata": {
    "collapsed": false
   },
   "outputs": [],
   "source": []
  },
  {
   "cell_type": "code",
   "execution_count": 17,
   "metadata": {
    "collapsed": false
   },
   "outputs": [],
   "source": []
  },
  {
   "cell_type": "code",
   "execution_count": 18,
   "metadata": {
    "collapsed": false
   },
   "outputs": [],
   "source": [
    "# list(df_age_22.index)"
   ]
  },
  {
   "cell_type": "code",
   "execution_count": 19,
   "metadata": {
    "collapsed": false
   },
   "outputs": [],
   "source": []
  },
  {
   "cell_type": "code",
   "execution_count": 20,
   "metadata": {
    "collapsed": false
   },
   "outputs": [],
   "source": []
  },
  {
   "cell_type": "code",
   "execution_count": 21,
   "metadata": {
    "collapsed": false
   },
   "outputs": [
    {
     "data": {
      "text/html": [
       "<div>\n",
       "<table border=\"1\" class=\"dataframe\">\n",
       "  <thead>\n",
       "    <tr style=\"text-align: right;\">\n",
       "      <th></th>\n",
       "      <th>0</th>\n",
       "      <th>1</th>\n",
       "      <th>2</th>\n",
       "    </tr>\n",
       "    <tr>\n",
       "      <th>name</th>\n",
       "      <th></th>\n",
       "      <th></th>\n",
       "      <th></th>\n",
       "    </tr>\n",
       "  </thead>\n",
       "  <tbody>\n",
       "    <tr>\n",
       "      <th>armstco01</th>\n",
       "      <td>392.172018</td>\n",
       "      <td>101.781895</td>\n",
       "      <td>10.322032</td>\n",
       "    </tr>\n",
       "    <tr>\n",
       "      <th>artyuev01</th>\n",
       "      <td>45.045387</td>\n",
       "      <td>121.432656</td>\n",
       "      <td>44.586852</td>\n",
       "    </tr>\n",
       "    <tr>\n",
       "      <th>bellbr02</th>\n",
       "      <td>66.121065</td>\n",
       "      <td>5.535488</td>\n",
       "      <td>-19.626523</td>\n",
       "    </tr>\n",
       "    <tr>\n",
       "      <th>bochebr01</th>\n",
       "      <td>-460.769914</td>\n",
       "      <td>-58.854794</td>\n",
       "      <td>-9.931716</td>\n",
       "    </tr>\n",
       "    <tr>\n",
       "      <th>boogade01</th>\n",
       "      <td>-927.829867</td>\n",
       "      <td>20.535387</td>\n",
       "      <td>-2.045948</td>\n",
       "    </tr>\n",
       "  </tbody>\n",
       "</table>\n",
       "</div>"
      ],
      "text/plain": [
       "                    0           1          2\n",
       "name                                        \n",
       "armstco01  392.172018  101.781895  10.322032\n",
       "artyuev01   45.045387  121.432656  44.586852\n",
       "bellbr02    66.121065    5.535488 -19.626523\n",
       "bochebr01 -460.769914  -58.854794  -9.931716\n",
       "boogade01 -927.829867   20.535387  -2.045948"
      ]
     },
     "execution_count": 21,
     "metadata": {},
     "output_type": "execute_result"
    }
   ],
   "source": []
  },
  {
   "cell_type": "code",
   "execution_count": null,
   "metadata": {
    "collapsed": false
   },
   "outputs": [],
   "source": []
  },
  {
   "cell_type": "code",
   "execution_count": null,
   "metadata": {
    "collapsed": true
   },
   "outputs": [],
   "source": []
  },
  {
   "cell_type": "code",
   "execution_count": 23,
   "metadata": {
    "collapsed": false
   },
   "outputs": [],
   "source": []
  },
  {
   "cell_type": "code",
   "execution_count": null,
   "metadata": {
    "collapsed": false
   },
   "outputs": [],
   "source": []
  },
  {
   "cell_type": "code",
   "execution_count": null,
   "metadata": {
    "collapsed": true
   },
   "outputs": [],
   "source": []
  },
  {
   "cell_type": "code",
   "execution_count": null,
   "metadata": {
    "collapsed": false
   },
   "outputs": [],
   "source": []
  },
  {
   "cell_type": "code",
   "execution_count": null,
   "metadata": {
    "collapsed": true
   },
   "outputs": [],
   "source": []
  }
 ],
 "metadata": {
  "kernelspec": {
   "display_name": "Python 2",
   "language": "python",
   "name": "python2"
  },
  "language_info": {
   "codemirror_mode": {
    "name": "ipython",
    "version": 2
   },
   "file_extension": ".py",
   "mimetype": "text/x-python",
   "name": "python",
   "nbconvert_exporter": "python",
   "pygments_lexer": "ipython2",
   "version": "2.7.11"
  }
 },
 "nbformat": 4,
 "nbformat_minor": 0
}
