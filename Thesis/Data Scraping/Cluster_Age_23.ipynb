{
 "cells": [
  {
   "cell_type": "code",
   "execution_count": null,
   "metadata": {
    "collapsed": false
   },
   "outputs": [],
   "source": []
  },
  {
   "cell_type": "code",
   "execution_count": 2,
   "metadata": {
    "collapsed": false
   },
   "outputs": [],
   "source": [
    "import pandas as pd\n",
    "import numpy as np\n",
    "import os\n",
    "from sklearn import neighbors\n",
    "from sklearn import cluster, datasets\n",
    "from sklearn import decomposition"
   ]
  },
  {
   "cell_type": "code",
   "execution_count": 3,
   "metadata": {
    "collapsed": false
   },
   "outputs": [],
   "source": [
    "df_age_23=pd.read_csv('AgeData/df_age_23.csv',index_col=0)"
   ]
  },
  {
   "cell_type": "code",
   "execution_count": 4,
   "metadata": {
    "collapsed": false
   },
   "outputs": [
    {
     "data": {
      "text/html": [
       "<div>\n",
       "<table border=\"1\" class=\"dataframe\">\n",
       "  <thead>\n",
       "    <tr style=\"text-align: right;\">\n",
       "      <th></th>\n",
       "      <th>TOT</th>\n",
       "      <th>age</th>\n",
       "      <th>assists_ev</th>\n",
       "      <th>assists_pp</th>\n",
       "      <th>assists_sh</th>\n",
       "      <th>blocks</th>\n",
       "      <th>corsi_against</th>\n",
       "      <th>corsi_for</th>\n",
       "      <th>corsi_pct</th>\n",
       "      <th>corsi_rel_pct</th>\n",
       "      <th>...</th>\n",
       "      <th>season</th>\n",
       "      <th>shot_pct</th>\n",
       "      <th>shot_pct.1</th>\n",
       "      <th>shots_attempted</th>\n",
       "      <th>shots_attempted.1</th>\n",
       "      <th>takeaways</th>\n",
       "      <th>time_on_ice_avg</th>\n",
       "      <th>uniqueseason</th>\n",
       "      <th>zs_defense_pct</th>\n",
       "      <th>zs_offense_pct</th>\n",
       "    </tr>\n",
       "  </thead>\n",
       "  <tbody>\n",
       "    <tr>\n",
       "      <th>5</th>\n",
       "      <td>DAL</td>\n",
       "      <td>23</td>\n",
       "      <td>14</td>\n",
       "      <td>7</td>\n",
       "      <td>0</td>\n",
       "      <td>32</td>\n",
       "      <td>624</td>\n",
       "      <td>617</td>\n",
       "      <td>49.7</td>\n",
       "      <td>3.2</td>\n",
       "      <td>...</td>\n",
       "      <td>2012-13</td>\n",
       "      <td>10.9</td>\n",
       "      <td>10.9</td>\n",
       "      <td>211</td>\n",
       "      <td>211</td>\n",
       "      <td>41</td>\n",
       "      <td>19:55</td>\n",
       "      <td>NaN</td>\n",
       "      <td>42.0</td>\n",
       "      <td>58.0</td>\n",
       "    </tr>\n",
       "    <tr>\n",
       "      <th>74</th>\n",
       "      <td>ANA</td>\n",
       "      <td>23</td>\n",
       "      <td>38</td>\n",
       "      <td>28</td>\n",
       "      <td>0</td>\n",
       "      <td>43</td>\n",
       "      <td>981</td>\n",
       "      <td>1339</td>\n",
       "      <td>57.7</td>\n",
       "      <td>7.2</td>\n",
       "      <td>...</td>\n",
       "      <td>2008-09</td>\n",
       "      <td>11.0</td>\n",
       "      <td>11.0</td>\n",
       "      <td>392</td>\n",
       "      <td>392</td>\n",
       "      <td>55</td>\n",
       "      <td>20:08</td>\n",
       "      <td>NaN</td>\n",
       "      <td>42.3</td>\n",
       "      <td>57.7</td>\n",
       "    </tr>\n",
       "    <tr>\n",
       "      <th>327</th>\n",
       "      <td>WSH</td>\n",
       "      <td>23</td>\n",
       "      <td>27</td>\n",
       "      <td>27</td>\n",
       "      <td>0</td>\n",
       "      <td>32</td>\n",
       "      <td>1191</td>\n",
       "      <td>1601</td>\n",
       "      <td>57.3</td>\n",
       "      <td>4.1</td>\n",
       "      <td>...</td>\n",
       "      <td>2008-09</td>\n",
       "      <td>10.6</td>\n",
       "      <td>10.6</td>\n",
       "      <td>875</td>\n",
       "      <td>875</td>\n",
       "      <td>60</td>\n",
       "      <td>23:00</td>\n",
       "      <td>NaN</td>\n",
       "      <td>40.7</td>\n",
       "      <td>59.3</td>\n",
       "    </tr>\n",
       "    <tr>\n",
       "      <th>337</th>\n",
       "      <td>ANA</td>\n",
       "      <td>23</td>\n",
       "      <td>26</td>\n",
       "      <td>14</td>\n",
       "      <td>0</td>\n",
       "      <td>13</td>\n",
       "      <td>920</td>\n",
       "      <td>1232</td>\n",
       "      <td>57.2</td>\n",
       "      <td>7.2</td>\n",
       "      <td>...</td>\n",
       "      <td>2008-09</td>\n",
       "      <td>11.3</td>\n",
       "      <td>11.3</td>\n",
       "      <td>443</td>\n",
       "      <td>443</td>\n",
       "      <td>33</td>\n",
       "      <td>18:36</td>\n",
       "      <td>NaN</td>\n",
       "      <td>42.7</td>\n",
       "      <td>57.3</td>\n",
       "    </tr>\n",
       "    <tr>\n",
       "      <th>421</th>\n",
       "      <td>CHI</td>\n",
       "      <td>23</td>\n",
       "      <td>19</td>\n",
       "      <td>7</td>\n",
       "      <td>2</td>\n",
       "      <td>14</td>\n",
       "      <td>742</td>\n",
       "      <td>996</td>\n",
       "      <td>57.3</td>\n",
       "      <td>5.1</td>\n",
       "      <td>...</td>\n",
       "      <td>2011-12</td>\n",
       "      <td>15.7</td>\n",
       "      <td>15.7</td>\n",
       "      <td>257</td>\n",
       "      <td>257</td>\n",
       "      <td>82</td>\n",
       "      <td>20:51</td>\n",
       "      <td>NaN</td>\n",
       "      <td>35.6</td>\n",
       "      <td>64.4</td>\n",
       "    </tr>\n",
       "  </tbody>\n",
       "</table>\n",
       "<p>5 rows × 37 columns</p>\n",
       "</div>"
      ],
      "text/plain": [
       "     TOT  age  assists_ev  assists_pp  assists_sh  blocks  corsi_against  \\\n",
       "5    DAL   23          14           7           0      32            624   \n",
       "74   ANA   23          38          28           0      43            981   \n",
       "327  WSH   23          27          27           0      32           1191   \n",
       "337  ANA   23          26          14           0      13            920   \n",
       "421  CHI   23          19           7           2      14            742   \n",
       "\n",
       "     corsi_for  corsi_pct  corsi_rel_pct       ...         season  shot_pct  \\\n",
       "5          617       49.7            3.2       ...        2012-13      10.9   \n",
       "74        1339       57.7            7.2       ...        2008-09      11.0   \n",
       "327       1601       57.3            4.1       ...        2008-09      10.6   \n",
       "337       1232       57.2            7.2       ...        2008-09      11.3   \n",
       "421        996       57.3            5.1       ...        2011-12      15.7   \n",
       "\n",
       "     shot_pct.1  shots_attempted  shots_attempted.1  takeaways  \\\n",
       "5          10.9              211                211         41   \n",
       "74         11.0              392                392         55   \n",
       "327        10.6              875                875         60   \n",
       "337        11.3              443                443         33   \n",
       "421        15.7              257                257         82   \n",
       "\n",
       "    time_on_ice_avg  uniqueseason  zs_defense_pct  zs_offense_pct  \n",
       "5             19:55           NaN            42.0            58.0  \n",
       "74            20:08           NaN            42.3            57.7  \n",
       "327           23:00           NaN            40.7            59.3  \n",
       "337           18:36           NaN            42.7            57.3  \n",
       "421           20:51           NaN            35.6            64.4  \n",
       "\n",
       "[5 rows x 37 columns]"
      ]
     },
     "execution_count": 4,
     "metadata": {},
     "output_type": "execute_result"
    }
   ],
   "source": [
    "df_age_23.head()"
   ]
  },
  {
   "cell_type": "code",
   "execution_count": 7,
   "metadata": {
    "collapsed": true
   },
   "outputs": [],
   "source": [
    "df_age_23['time_on_ice_avg'] = df_age_23['time_on_ice_avg'].str.replace(':', '.')"
   ]
  },
  {
   "cell_type": "code",
   "execution_count": 8,
   "metadata": {
    "collapsed": false
   },
   "outputs": [],
   "source": [
    "#df_age_22['time_on_ice_avg']"
   ]
  },
  {
   "cell_type": "code",
   "execution_count": 9,
   "metadata": {
    "collapsed": false
   },
   "outputs": [
    {
     "data": {
      "text/plain": [
       "619"
      ]
     },
     "execution_count": 9,
     "metadata": {},
     "output_type": "execute_result"
    }
   ],
   "source": [
    "len(df_age_23['name'])"
   ]
  },
  {
   "cell_type": "code",
   "execution_count": 11,
   "metadata": {
    "collapsed": false
   },
   "outputs": [
    {
     "data": {
      "text/html": [
       "<div>\n",
       "<table border=\"1\" class=\"dataframe\">\n",
       "  <thead>\n",
       "    <tr style=\"text-align: right;\">\n",
       "      <th></th>\n",
       "      <th>TOT</th>\n",
       "      <th>age</th>\n",
       "      <th>assists_ev</th>\n",
       "      <th>assists_pp</th>\n",
       "      <th>assists_sh</th>\n",
       "      <th>blocks</th>\n",
       "      <th>corsi_against</th>\n",
       "      <th>corsi_for</th>\n",
       "      <th>corsi_pct</th>\n",
       "      <th>corsi_rel_pct</th>\n",
       "      <th>...</th>\n",
       "      <th>season</th>\n",
       "      <th>shot_pct</th>\n",
       "      <th>shot_pct.1</th>\n",
       "      <th>shots_attempted</th>\n",
       "      <th>shots_attempted.1</th>\n",
       "      <th>takeaways</th>\n",
       "      <th>time_on_ice_avg</th>\n",
       "      <th>uniqueseason</th>\n",
       "      <th>zs_defense_pct</th>\n",
       "      <th>zs_offense_pct</th>\n",
       "    </tr>\n",
       "  </thead>\n",
       "  <tbody>\n",
       "    <tr>\n",
       "      <th>5</th>\n",
       "      <td>DAL</td>\n",
       "      <td>23</td>\n",
       "      <td>14</td>\n",
       "      <td>7</td>\n",
       "      <td>0</td>\n",
       "      <td>32</td>\n",
       "      <td>624</td>\n",
       "      <td>617</td>\n",
       "      <td>49.7</td>\n",
       "      <td>3.2</td>\n",
       "      <td>...</td>\n",
       "      <td>2012-13</td>\n",
       "      <td>10.9</td>\n",
       "      <td>10.9</td>\n",
       "      <td>211</td>\n",
       "      <td>211</td>\n",
       "      <td>41</td>\n",
       "      <td>19.55</td>\n",
       "      <td>NaN</td>\n",
       "      <td>42.0</td>\n",
       "      <td>58.0</td>\n",
       "    </tr>\n",
       "    <tr>\n",
       "      <th>74</th>\n",
       "      <td>ANA</td>\n",
       "      <td>23</td>\n",
       "      <td>38</td>\n",
       "      <td>28</td>\n",
       "      <td>0</td>\n",
       "      <td>43</td>\n",
       "      <td>981</td>\n",
       "      <td>1339</td>\n",
       "      <td>57.7</td>\n",
       "      <td>7.2</td>\n",
       "      <td>...</td>\n",
       "      <td>2008-09</td>\n",
       "      <td>11.0</td>\n",
       "      <td>11.0</td>\n",
       "      <td>392</td>\n",
       "      <td>392</td>\n",
       "      <td>55</td>\n",
       "      <td>20.08</td>\n",
       "      <td>NaN</td>\n",
       "      <td>42.3</td>\n",
       "      <td>57.7</td>\n",
       "    </tr>\n",
       "    <tr>\n",
       "      <th>327</th>\n",
       "      <td>WSH</td>\n",
       "      <td>23</td>\n",
       "      <td>27</td>\n",
       "      <td>27</td>\n",
       "      <td>0</td>\n",
       "      <td>32</td>\n",
       "      <td>1191</td>\n",
       "      <td>1601</td>\n",
       "      <td>57.3</td>\n",
       "      <td>4.1</td>\n",
       "      <td>...</td>\n",
       "      <td>2008-09</td>\n",
       "      <td>10.6</td>\n",
       "      <td>10.6</td>\n",
       "      <td>875</td>\n",
       "      <td>875</td>\n",
       "      <td>60</td>\n",
       "      <td>23.00</td>\n",
       "      <td>NaN</td>\n",
       "      <td>40.7</td>\n",
       "      <td>59.3</td>\n",
       "    </tr>\n",
       "    <tr>\n",
       "      <th>337</th>\n",
       "      <td>ANA</td>\n",
       "      <td>23</td>\n",
       "      <td>26</td>\n",
       "      <td>14</td>\n",
       "      <td>0</td>\n",
       "      <td>13</td>\n",
       "      <td>920</td>\n",
       "      <td>1232</td>\n",
       "      <td>57.2</td>\n",
       "      <td>7.2</td>\n",
       "      <td>...</td>\n",
       "      <td>2008-09</td>\n",
       "      <td>11.3</td>\n",
       "      <td>11.3</td>\n",
       "      <td>443</td>\n",
       "      <td>443</td>\n",
       "      <td>33</td>\n",
       "      <td>18.36</td>\n",
       "      <td>NaN</td>\n",
       "      <td>42.7</td>\n",
       "      <td>57.3</td>\n",
       "    </tr>\n",
       "    <tr>\n",
       "      <th>421</th>\n",
       "      <td>CHI</td>\n",
       "      <td>23</td>\n",
       "      <td>19</td>\n",
       "      <td>7</td>\n",
       "      <td>2</td>\n",
       "      <td>14</td>\n",
       "      <td>742</td>\n",
       "      <td>996</td>\n",
       "      <td>57.3</td>\n",
       "      <td>5.1</td>\n",
       "      <td>...</td>\n",
       "      <td>2011-12</td>\n",
       "      <td>15.7</td>\n",
       "      <td>15.7</td>\n",
       "      <td>257</td>\n",
       "      <td>257</td>\n",
       "      <td>82</td>\n",
       "      <td>20.51</td>\n",
       "      <td>NaN</td>\n",
       "      <td>35.6</td>\n",
       "      <td>64.4</td>\n",
       "    </tr>\n",
       "  </tbody>\n",
       "</table>\n",
       "<p>5 rows × 37 columns</p>\n",
       "</div>"
      ],
      "text/plain": [
       "     TOT  age  assists_ev  assists_pp  assists_sh  blocks  corsi_against  \\\n",
       "5    DAL   23          14           7           0      32            624   \n",
       "74   ANA   23          38          28           0      43            981   \n",
       "327  WSH   23          27          27           0      32           1191   \n",
       "337  ANA   23          26          14           0      13            920   \n",
       "421  CHI   23          19           7           2      14            742   \n",
       "\n",
       "     corsi_for  corsi_pct  corsi_rel_pct       ...         season  shot_pct  \\\n",
       "5          617       49.7            3.2       ...        2012-13      10.9   \n",
       "74        1339       57.7            7.2       ...        2008-09      11.0   \n",
       "327       1601       57.3            4.1       ...        2008-09      10.6   \n",
       "337       1232       57.2            7.2       ...        2008-09      11.3   \n",
       "421        996       57.3            5.1       ...        2011-12      15.7   \n",
       "\n",
       "     shot_pct.1  shots_attempted  shots_attempted.1  takeaways  \\\n",
       "5          10.9              211                211         41   \n",
       "74         11.0              392                392         55   \n",
       "327        10.6              875                875         60   \n",
       "337        11.3              443                443         33   \n",
       "421        15.7              257                257         82   \n",
       "\n",
       "    time_on_ice_avg  uniqueseason  zs_defense_pct  zs_offense_pct  \n",
       "5             19.55           NaN            42.0            58.0  \n",
       "74            20.08           NaN            42.3            57.7  \n",
       "327           23.00           NaN            40.7            59.3  \n",
       "337           18.36           NaN            42.7            57.3  \n",
       "421           20.51           NaN            35.6            64.4  \n",
       "\n",
       "[5 rows x 37 columns]"
      ]
     },
     "execution_count": 11,
     "metadata": {},
     "output_type": "execute_result"
    }
   ],
   "source": [
    "df_age_23.head()"
   ]
  },
  {
   "cell_type": "code",
   "execution_count": null,
   "metadata": {
    "collapsed": true
   },
   "outputs": [],
   "source": []
  },
  {
   "cell_type": "code",
   "execution_count": 12,
   "metadata": {
    "collapsed": false
   },
   "outputs": [
    {
     "data": {
      "text/plain": [
       "619"
      ]
     },
     "execution_count": 12,
     "metadata": {},
     "output_type": "execute_result"
    }
   ],
   "source": [
    "len(df_age_23)"
   ]
  },
  {
   "cell_type": "code",
   "execution_count": 13,
   "metadata": {
    "collapsed": true
   },
   "outputs": [],
   "source": [
    "df_age_23=df_age_23.set_index('name')"
   ]
  },
  {
   "cell_type": "code",
   "execution_count": 14,
   "metadata": {
    "collapsed": false
   },
   "outputs": [],
   "source": [
    "df_age_23=df_age_23.convert_objects(convert_numeric=True).dropna()"
   ]
  },
  {
   "cell_type": "code",
   "execution_count": 15,
   "metadata": {
    "collapsed": false
   },
   "outputs": [],
   "source": [
    "del df_age_23['TOT']\n",
    "del df_age_23['season']"
   ]
  },
  {
   "cell_type": "code",
   "execution_count": null,
   "metadata": {
    "collapsed": false
   },
   "outputs": [],
   "source": []
  },
  {
   "cell_type": "code",
   "execution_count": null,
   "metadata": {
    "collapsed": true
   },
   "outputs": [],
   "source": []
  },
  {
   "cell_type": "code",
   "execution_count": 16,
   "metadata": {
    "collapsed": true
   },
   "outputs": [],
   "source": [
    "data_age_23=df_age_23.as_matrix()"
   ]
  },
  {
   "cell_type": "code",
   "execution_count": null,
   "metadata": {
    "collapsed": false
   },
   "outputs": [],
   "source": []
  },
  {
   "cell_type": "code",
   "execution_count": 105,
   "metadata": {
    "collapsed": false
   },
   "outputs": [],
   "source": [
    "# k_means = cluster.KMeans(n_clusters=5)\n",
    "# k_means.fit(data_age_22)"
   ]
  },
  {
   "cell_type": "code",
   "execution_count": 17,
   "metadata": {
    "collapsed": false
   },
   "outputs": [],
   "source": [
    "pca = decomposition.PCA(n_components=3)"
   ]
  },
  {
   "cell_type": "code",
   "execution_count": 18,
   "metadata": {
    "collapsed": false
   },
   "outputs": [
    {
     "data": {
      "text/plain": [
       "PCA(copy=True, n_components=3, whiten=False)"
      ]
     },
     "execution_count": 18,
     "metadata": {},
     "output_type": "execute_result"
    }
   ],
   "source": [
    "pca.fit(data_age_23)"
   ]
  },
  {
   "cell_type": "code",
   "execution_count": 19,
   "metadata": {
    "collapsed": false
   },
   "outputs": [],
   "source": [
    "X = pca.transform(data_age_23)"
   ]
  },
  {
   "cell_type": "code",
   "execution_count": 20,
   "metadata": {
    "collapsed": false
   },
   "outputs": [
    {
     "data": {
      "text/plain": [
       "614"
      ]
     },
     "execution_count": 20,
     "metadata": {},
     "output_type": "execute_result"
    }
   ],
   "source": [
    "len(X)"
   ]
  },
  {
   "cell_type": "code",
   "execution_count": 21,
   "metadata": {
    "collapsed": false
   },
   "outputs": [],
   "source": [
    "new_df_age_23 = pd.DataFrame(X)"
   ]
  },
  {
   "cell_type": "code",
   "execution_count": 111,
   "metadata": {
    "collapsed": false
   },
   "outputs": [],
   "source": [
    "# list(df_age_22.index)"
   ]
  },
  {
   "cell_type": "code",
   "execution_count": 22,
   "metadata": {
    "collapsed": false
   },
   "outputs": [],
   "source": [
    "new_df_age_23['name']=list(df_age_23.index)"
   ]
  },
  {
   "cell_type": "code",
   "execution_count": 23,
   "metadata": {
    "collapsed": false
   },
   "outputs": [],
   "source": [
    "new_df_age_23=new_df_age_23.set_index('name')"
   ]
  },
  {
   "cell_type": "code",
   "execution_count": 24,
   "metadata": {
    "collapsed": false
   },
   "outputs": [
    {
     "data": {
      "text/html": [
       "<div>\n",
       "<table border=\"1\" class=\"dataframe\">\n",
       "  <thead>\n",
       "    <tr style=\"text-align: right;\">\n",
       "      <th></th>\n",
       "      <th>0</th>\n",
       "      <th>1</th>\n",
       "      <th>2</th>\n",
       "    </tr>\n",
       "    <tr>\n",
       "      <th>name</th>\n",
       "      <th></th>\n",
       "      <th></th>\n",
       "      <th></th>\n",
       "    </tr>\n",
       "  </thead>\n",
       "  <tbody>\n",
       "    <tr>\n",
       "      <th>bennja01</th>\n",
       "      <td>166.960324</td>\n",
       "      <td>-15.092353</td>\n",
       "      <td>-75.287505</td>\n",
       "    </tr>\n",
       "    <tr>\n",
       "      <th>bergese01</th>\n",
       "      <td>450.425382</td>\n",
       "      <td>-75.583453</td>\n",
       "      <td>-29.766601</td>\n",
       "    </tr>\n",
       "    <tr>\n",
       "      <th>bouchpi02</th>\n",
       "      <td>746.628568</td>\n",
       "      <td>-77.006543</td>\n",
       "      <td>44.225278</td>\n",
       "    </tr>\n",
       "    <tr>\n",
       "      <th>ericsjo01</th>\n",
       "      <td>-820.144910</td>\n",
       "      <td>-43.914689</td>\n",
       "      <td>4.457951</td>\n",
       "    </tr>\n",
       "    <tr>\n",
       "      <th>filppva01</th>\n",
       "      <td>602.970822</td>\n",
       "      <td>-122.855680</td>\n",
       "      <td>170.126906</td>\n",
       "    </tr>\n",
       "  </tbody>\n",
       "</table>\n",
       "</div>"
      ],
      "text/plain": [
       "                    0           1           2\n",
       "name                                         \n",
       "bennja01   166.960324  -15.092353  -75.287505\n",
       "bergese01  450.425382  -75.583453  -29.766601\n",
       "bouchpi02  746.628568  -77.006543   44.225278\n",
       "ericsjo01 -820.144910  -43.914689    4.457951\n",
       "filppva01  602.970822 -122.855680  170.126906"
      ]
     },
     "execution_count": 24,
     "metadata": {},
     "output_type": "execute_result"
    }
   ],
   "source": [
    "new_df_age_23.head(5)"
   ]
  },
  {
   "cell_type": "code",
   "execution_count": 115,
   "metadata": {
    "collapsed": false
   },
   "outputs": [
    {
     "data": {
      "text/html": [
       "<div>\n",
       "<table border=\"1\" class=\"dataframe\">\n",
       "  <thead>\n",
       "    <tr style=\"text-align: right;\">\n",
       "      <th></th>\n",
       "      <th>0</th>\n",
       "      <th>1</th>\n",
       "      <th>2</th>\n",
       "    </tr>\n",
       "    <tr>\n",
       "      <th>name</th>\n",
       "      <th></th>\n",
       "      <th></th>\n",
       "      <th></th>\n",
       "    </tr>\n",
       "  </thead>\n",
       "  <tbody>\n",
       "    <tr>\n",
       "      <th>bennja01</th>\n",
       "      <td>1028.376701</td>\n",
       "      <td>-101.785678</td>\n",
       "      <td>-81.483376</td>\n",
       "    </tr>\n",
       "    <tr>\n",
       "      <th>toewsjo01</th>\n",
       "      <td>1249.645776</td>\n",
       "      <td>-216.480202</td>\n",
       "      <td>76.806122</td>\n",
       "    </tr>\n",
       "    <tr>\n",
       "      <th>bergepa01</th>\n",
       "      <td>-666.929594</td>\n",
       "      <td>-37.405880</td>\n",
       "      <td>-17.734829</td>\n",
       "    </tr>\n",
       "    <tr>\n",
       "      <th>bernist01</th>\n",
       "      <td>388.772531</td>\n",
       "      <td>-45.257225</td>\n",
       "      <td>-17.445716</td>\n",
       "    </tr>\n",
       "    <tr>\n",
       "      <th>burnsbr01</th>\n",
       "      <td>1360.533026</td>\n",
       "      <td>36.378153</td>\n",
       "      <td>-33.647161</td>\n",
       "    </tr>\n",
       "  </tbody>\n",
       "</table>\n",
       "</div>"
      ],
      "text/plain": [
       "                     0           1          2\n",
       "name                                         \n",
       "bennja01   1028.376701 -101.785678 -81.483376\n",
       "toewsjo01  1249.645776 -216.480202  76.806122\n",
       "bergepa01  -666.929594  -37.405880 -17.734829\n",
       "bernist01   388.772531  -45.257225 -17.445716\n",
       "burnsbr01  1360.533026   36.378153 -33.647161"
      ]
     },
     "execution_count": 115,
     "metadata": {},
     "output_type": "execute_result"
    }
   ],
   "source": [
    "new_df_age_23.head(5)"
   ]
  },
  {
   "cell_type": "code",
   "execution_count": null,
   "metadata": {
    "collapsed": true
   },
   "outputs": [],
   "source": []
  },
  {
   "cell_type": "code",
   "execution_count": 26,
   "metadata": {
    "collapsed": false
   },
   "outputs": [],
   "source": [
    "new_df_age_23.to_csv('PCA_Folder/new_df_age_23.csv')"
   ]
  },
  {
   "cell_type": "code",
   "execution_count": null,
   "metadata": {
    "collapsed": false
   },
   "outputs": [],
   "source": []
  },
  {
   "cell_type": "code",
   "execution_count": null,
   "metadata": {
    "collapsed": true
   },
   "outputs": [],
   "source": []
  },
  {
   "cell_type": "code",
   "execution_count": null,
   "metadata": {
    "collapsed": false
   },
   "outputs": [],
   "source": []
  },
  {
   "cell_type": "code",
   "execution_count": null,
   "metadata": {
    "collapsed": true
   },
   "outputs": [],
   "source": []
  }
 ],
 "metadata": {
  "kernelspec": {
   "display_name": "Python 2",
   "language": "python",
   "name": "python2"
  },
  "language_info": {
   "codemirror_mode": {
    "name": "ipython",
    "version": 2
   },
   "file_extension": ".py",
   "mimetype": "text/x-python",
   "name": "python",
   "nbconvert_exporter": "python",
   "pygments_lexer": "ipython2",
   "version": "2.7.11"
  }
 },
 "nbformat": 4,
 "nbformat_minor": 0
}
