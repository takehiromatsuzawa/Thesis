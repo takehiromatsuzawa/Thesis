{
 "cells": [
  {
   "cell_type": "code",
   "execution_count": 5,
   "metadata": {
    "collapsed": true
   },
   "outputs": [],
   "source": [
    "import pandas as pd\n",
    "import numpy as np\n",
    "import pandas as pd\n",
    "import pylab as pl\n",
    "from sklearn.neighbors import KNeighborsClassifier\n"
   ]
  },
  {
   "cell_type": "code",
   "execution_count": 6,
   "metadata": {
    "collapsed": true
   },
   "outputs": [],
   "source": [
    "def dfplayerYear(year):\n",
    "    dfplayerYr=pd.read_csv('../Data/draft_year_player/dfplayer'+str(year)+'.csv')\n",
    "    namePlayer=[]\n",
    "    \n",
    "    for elem in dfplayerYr['url']:\n",
    "        namePlayer.append(elem[11:-5])\n",
    "\n",
    "    dfplayerYr['name']=namePlayer\n",
    "\n",
    "    del dfplayerYr['Unnamed: 0']\n",
    "    del dfplayerYr['url']\n",
    "    del dfplayerYr['draft']\n",
    "    del dfplayerYr['shot']\n",
    "    del dfplayerYr['pos']\n",
    "    \n",
    "    return dfplayerYr"
   ]
  },
  {
   "cell_type": "code",
   "execution_count": 7,
   "metadata": {
    "collapsed": false
   },
   "outputs": [],
   "source": [
    "fundam = []\n",
    "for yr in range(1996,2016):\n",
    "    fundam.append(dfplayerYear(yr))"
   ]
  },
  {
   "cell_type": "code",
   "execution_count": 8,
   "metadata": {
    "collapsed": true
   },
   "outputs": [],
   "source": [
    "df_all_fundam = pd.concat(fundam)\n",
    "df_all_fundam=df_all_fundam.reset_index(drop=True)\n",
    "\n",
    "df_all_fundam = df_all_fundam[df_all_fundam.height!= 'ml>']\n",
    "df_all_fundam=df_all_fundam.reset_index(drop=True)\n",
    "weight_all=df_all_fundam['weight']\n",
    "height_all=df_all_fundam['height']\n",
    "\n",
    "df_all_fundam[['weight','height']]=df_all_fundam[['weight','height']].astype(float)"
   ]
  },
  {
   "cell_type": "code",
   "execution_count": null,
   "metadata": {
    "collapsed": true
   },
   "outputs": [],
   "source": []
  },
  {
   "cell_type": "markdown",
   "metadata": {},
   "source": [
    "### Height Weight Data"
   ]
  },
  {
   "cell_type": "code",
   "execution_count": 12,
   "metadata": {
    "collapsed": true
   },
   "outputs": [],
   "source": [
    "def dfplayerAge(age):\n",
    "    df_age_yr=pd.read_csv('../Data/AgeData/age_data/df_age_'+str(age)+'.csv',index_col=0)\n",
    "    return df_age_yr"
   ]
  },
  {
   "cell_type": "code",
   "execution_count": 13,
   "metadata": {
    "collapsed": false
   },
   "outputs": [],
   "source": [
    "df_age_frames=[]\n",
    "for age in range(19,40):\n",
    "    df_age_frames.append(dfplayerAge(age))\n",
    "\n",
    "df_ages = pd.concat(df_age_frames)\n",
    "df_ages=df_ages.reset_index(drop=True)\n",
    "del df_ages['age_y']\n"
   ]
  },
  {
   "cell_type": "code",
   "execution_count": 14,
   "metadata": {
    "collapsed": false
   },
   "outputs": [
    {
     "name": "stderr",
     "output_type": "stream",
     "text": [
      "/Users/takehiromatsuzawa/anaconda/lib/python2.7/site-packages/ipykernel/__main__.py:5: FutureWarning: sort(columns=....) is deprecated, use sort_values(by=.....)\n"
     ]
    }
   ],
   "source": [
    "#calculate goals all \n",
    "df_ages['goals_all']=df_ages['goals_ev']+df_ages['goals_pp']+df_ages['goals_sh']\n",
    "\n",
    "#sort by name and age\n",
    "df_ages_sorted=df_ages.sort(['name', 'age_x'], ascending=[0, 1])"
   ]
  },
  {
   "cell_type": "code",
   "execution_count": 15,
   "metadata": {
    "collapsed": true
   },
   "outputs": [],
   "source": [
    "# reset index\n",
    "df_ages_sorted=df_ages_sorted.reset_index(drop=True)\n",
    "\n",
    "df_ages_sorted['goals_all']=df_ages_sorted['goals_all']/df_ages_sorted['games_played']\n",
    "goals_all_data=list(df_ages_sorted['goals_all'])\n",
    "\n",
    "# you want to predict the next year data\n",
    "goals_all_data.pop(0)\n",
    "goals_all_data.append(0)\n",
    "\n",
    "df_ages_sorted['goals_all']=goals_all_data\n",
    "df_ages=df_ages_sorted.groupby(\"name\").apply(lambda x: x.iloc[:-1]).reset_index(drop=True)\n",
    "\n"
   ]
  },
  {
   "cell_type": "markdown",
   "metadata": {},
   "source": [
    "### Combined Data (All Data)"
   ]
  },
  {
   "cell_type": "code",
   "execution_count": 16,
   "metadata": {
    "collapsed": true
   },
   "outputs": [],
   "source": [
    "df_all = pd.merge(df_ages, df_all_fundam, on='name')\n",
    "df_all=df_all.drop_duplicates()\n",
    "df_all['assists_all']=df_all['assists_ev']+df_all['assists_pp']+df_all['assists_sh']\n",
    "\n",
    "df_all['zs_offense_pct']=df_all['zs_offense_pct']/100.0\n",
    "df_all['shot_pct']=df_all['shot_pct']/100.0"
   ]
  },
  {
   "cell_type": "code",
   "execution_count": null,
   "metadata": {
    "collapsed": true
   },
   "outputs": [],
   "source": []
  },
  {
   "cell_type": "markdown",
   "metadata": {},
   "source": [
    "### convert to per game data"
   ]
  },
  {
   "cell_type": "code",
   "execution_count": 17,
   "metadata": {
    "collapsed": true
   },
   "outputs": [],
   "source": [
    "per_games=['goals_ev','goals_pp','goals_sh','assists_all','assists_ev','assists_pp','assists_sh','takeaways',\n",
    "          'hits','giveaways','blocks','shots_attempted']\n",
    "\n",
    "for per_game in per_games:\n",
    "    df_all[per_game]=df_all[per_game]/df_all['games_played']"
   ]
  },
  {
   "cell_type": "code",
   "execution_count": null,
   "metadata": {
    "collapsed": true
   },
   "outputs": [],
   "source": []
  },
  {
   "cell_type": "markdown",
   "metadata": {},
   "source": [
    "### Normalize Data"
   ]
  },
  {
   "cell_type": "code",
   "execution_count": null,
   "metadata": {
    "collapsed": false
   },
   "outputs": [],
   "source": []
  },
  {
   "cell_type": "code",
   "execution_count": 18,
   "metadata": {
    "collapsed": false
   },
   "outputs": [],
   "source": [
    "df_all_nn=df_all[['goals_all','goals_ev','goals_pp','goals_sh','assists_ev','assists_pp','assists_sh','shots_attempted','age_x','blocks',\n",
    "                 'giveaways','hits','shot_pct','shots_attempted','takeaways','zs_offense_pct','height','weight']]"
   ]
  },
  {
   "cell_type": "code",
   "execution_count": 19,
   "metadata": {
    "collapsed": false
   },
   "outputs": [],
   "source": [
    "cols_to_norm = ['goals_ev','goals_pp','goals_sh','assists_ev','assists_pp','assists_sh','shots_attempted','age_x','blocks','giveaways',\n",
    "               'hits','shot_pct','shots_attempted','takeaways','zs_offense_pct','height','weight']\n",
    "df_all_nn=df_all_nn[cols_to_norm].apply(lambda x: (x - x.mean()) / (x.max() - x.min()))"
   ]
  },
  {
   "cell_type": "code",
   "execution_count": 20,
   "metadata": {
    "collapsed": false
   },
   "outputs": [
    {
     "data": {
      "text/html": [
       "<div>\n",
       "<table border=\"1\" class=\"dataframe\">\n",
       "  <thead>\n",
       "    <tr style=\"text-align: right;\">\n",
       "      <th></th>\n",
       "      <th>goals_ev</th>\n",
       "      <th>goals_pp</th>\n",
       "      <th>goals_sh</th>\n",
       "      <th>assists_ev</th>\n",
       "      <th>assists_pp</th>\n",
       "      <th>assists_sh</th>\n",
       "      <th>shots_attempted</th>\n",
       "      <th>shots_attempted</th>\n",
       "      <th>age_x</th>\n",
       "      <th>blocks</th>\n",
       "      <th>giveaways</th>\n",
       "      <th>hits</th>\n",
       "      <th>shot_pct</th>\n",
       "      <th>shots_attempted</th>\n",
       "      <th>shots_attempted</th>\n",
       "      <th>takeaways</th>\n",
       "      <th>zs_offense_pct</th>\n",
       "      <th>height</th>\n",
       "      <th>weight</th>\n",
       "    </tr>\n",
       "  </thead>\n",
       "  <tbody>\n",
       "    <tr>\n",
       "      <th>0</th>\n",
       "      <td>-0.108210</td>\n",
       "      <td>-0.098756</td>\n",
       "      <td>-0.008203</td>\n",
       "      <td>-0.177544</td>\n",
       "      <td>-0.124635</td>\n",
       "      <td>-0.020940</td>\n",
       "      <td>0.091770</td>\n",
       "      <td>0.091770</td>\n",
       "      <td>-0.300227</td>\n",
       "      <td>-0.204734</td>\n",
       "      <td>-0.136415</td>\n",
       "      <td>0.172519</td>\n",
       "      <td>-0.080687</td>\n",
       "      <td>0.091770</td>\n",
       "      <td>0.091770</td>\n",
       "      <td>0.078597</td>\n",
       "      <td>0.092615</td>\n",
       "      <td>0.046712</td>\n",
       "      <td>0.122539</td>\n",
       "    </tr>\n",
       "    <tr>\n",
       "      <th>1</th>\n",
       "      <td>-0.108210</td>\n",
       "      <td>-0.098756</td>\n",
       "      <td>-0.008203</td>\n",
       "      <td>-0.177544</td>\n",
       "      <td>-0.124635</td>\n",
       "      <td>-0.020940</td>\n",
       "      <td>0.045937</td>\n",
       "      <td>0.045937</td>\n",
       "      <td>-0.247595</td>\n",
       "      <td>-0.204734</td>\n",
       "      <td>0.030251</td>\n",
       "      <td>0.029662</td>\n",
       "      <td>-0.080687</td>\n",
       "      <td>0.045937</td>\n",
       "      <td>0.045937</td>\n",
       "      <td>-0.214372</td>\n",
       "      <td>0.159615</td>\n",
       "      <td>0.046712</td>\n",
       "      <td>0.122539</td>\n",
       "    </tr>\n",
       "    <tr>\n",
       "      <th>2</th>\n",
       "      <td>-0.048210</td>\n",
       "      <td>-0.098756</td>\n",
       "      <td>-0.008203</td>\n",
       "      <td>-0.117544</td>\n",
       "      <td>-0.124635</td>\n",
       "      <td>-0.020940</td>\n",
       "      <td>-0.016395</td>\n",
       "      <td>-0.016395</td>\n",
       "      <td>-0.194964</td>\n",
       "      <td>-0.093073</td>\n",
       "      <td>-0.089749</td>\n",
       "      <td>0.249662</td>\n",
       "      <td>-0.042687</td>\n",
       "      <td>-0.016395</td>\n",
       "      <td>-0.016395</td>\n",
       "      <td>-0.132341</td>\n",
       "      <td>0.155615</td>\n",
       "      <td>0.046712</td>\n",
       "      <td>0.122539</td>\n",
       "    </tr>\n",
       "    <tr>\n",
       "      <th>3</th>\n",
       "      <td>-0.013616</td>\n",
       "      <td>-0.098756</td>\n",
       "      <td>-0.008203</td>\n",
       "      <td>-0.028895</td>\n",
       "      <td>-0.124635</td>\n",
       "      <td>0.046627</td>\n",
       "      <td>0.005060</td>\n",
       "      <td>0.005060</td>\n",
       "      <td>-0.142332</td>\n",
       "      <td>-0.057614</td>\n",
       "      <td>-0.046325</td>\n",
       "      <td>0.178311</td>\n",
       "      <td>-0.026687</td>\n",
       "      <td>0.005060</td>\n",
       "      <td>0.005060</td>\n",
       "      <td>-0.079765</td>\n",
       "      <td>0.080615</td>\n",
       "      <td>0.046712</td>\n",
       "      <td>0.122539</td>\n",
       "    </tr>\n",
       "    <tr>\n",
       "      <th>4</th>\n",
       "      <td>-0.009445</td>\n",
       "      <td>-0.098756</td>\n",
       "      <td>-0.008203</td>\n",
       "      <td>-0.004704</td>\n",
       "      <td>-0.124635</td>\n",
       "      <td>-0.020940</td>\n",
       "      <td>-0.053083</td>\n",
       "      <td>-0.053083</td>\n",
       "      <td>-0.089700</td>\n",
       "      <td>-0.059989</td>\n",
       "      <td>-0.078802</td>\n",
       "      <td>0.076399</td>\n",
       "      <td>-0.014687</td>\n",
       "      <td>-0.053083</td>\n",
       "      <td>-0.053083</td>\n",
       "      <td>-0.098631</td>\n",
       "      <td>0.085615</td>\n",
       "      <td>0.046712</td>\n",
       "      <td>0.122539</td>\n",
       "    </tr>\n",
       "  </tbody>\n",
       "</table>\n",
       "</div>"
      ],
      "text/plain": [
       "   goals_ev  goals_pp  goals_sh  assists_ev  assists_pp  assists_sh  \\\n",
       "0 -0.108210 -0.098756 -0.008203   -0.177544   -0.124635   -0.020940   \n",
       "1 -0.108210 -0.098756 -0.008203   -0.177544   -0.124635   -0.020940   \n",
       "2 -0.048210 -0.098756 -0.008203   -0.117544   -0.124635   -0.020940   \n",
       "3 -0.013616 -0.098756 -0.008203   -0.028895   -0.124635    0.046627   \n",
       "4 -0.009445 -0.098756 -0.008203   -0.004704   -0.124635   -0.020940   \n",
       "\n",
       "   shots_attempted  shots_attempted     age_x    blocks  giveaways      hits  \\\n",
       "0         0.091770         0.091770 -0.300227 -0.204734  -0.136415  0.172519   \n",
       "1         0.045937         0.045937 -0.247595 -0.204734   0.030251  0.029662   \n",
       "2        -0.016395        -0.016395 -0.194964 -0.093073  -0.089749  0.249662   \n",
       "3         0.005060         0.005060 -0.142332 -0.057614  -0.046325  0.178311   \n",
       "4        -0.053083        -0.053083 -0.089700 -0.059989  -0.078802  0.076399   \n",
       "\n",
       "   shot_pct  shots_attempted  shots_attempted  takeaways  zs_offense_pct  \\\n",
       "0 -0.080687         0.091770         0.091770   0.078597        0.092615   \n",
       "1 -0.080687         0.045937         0.045937  -0.214372        0.159615   \n",
       "2 -0.042687        -0.016395        -0.016395  -0.132341        0.155615   \n",
       "3 -0.026687         0.005060         0.005060  -0.079765        0.080615   \n",
       "4 -0.014687        -0.053083        -0.053083  -0.098631        0.085615   \n",
       "\n",
       "     height    weight  \n",
       "0  0.046712  0.122539  \n",
       "1  0.046712  0.122539  \n",
       "2  0.046712  0.122539  \n",
       "3  0.046712  0.122539  \n",
       "4  0.046712  0.122539  "
      ]
     },
     "execution_count": 20,
     "metadata": {},
     "output_type": "execute_result"
    }
   ],
   "source": [
    "df_all_nn.head()"
   ]
  },
  {
   "cell_type": "code",
   "execution_count": 21,
   "metadata": {
    "collapsed": false
   },
   "outputs": [],
   "source": [
    "df_all_nn['goals_all']=df_all['goals_all']"
   ]
  },
  {
   "cell_type": "code",
   "execution_count": 22,
   "metadata": {
    "collapsed": true
   },
   "outputs": [],
   "source": [
    "df_all_nn['age_x'] = df_all_nn['age_x'].apply(lambda x: abs(x))"
   ]
  },
  {
   "cell_type": "code",
   "execution_count": 23,
   "metadata": {
    "collapsed": true
   },
   "outputs": [],
   "source": [
    "df_all_nn=df_all_nn.reset_index(drop=True)"
   ]
  },
  {
   "cell_type": "code",
   "execution_count": 24,
   "metadata": {
    "collapsed": false
   },
   "outputs": [
    {
     "data": {
      "text/html": [
       "<div>\n",
       "<table border=\"1\" class=\"dataframe\">\n",
       "  <thead>\n",
       "    <tr style=\"text-align: right;\">\n",
       "      <th></th>\n",
       "      <th>goals_ev</th>\n",
       "      <th>goals_pp</th>\n",
       "      <th>goals_sh</th>\n",
       "      <th>assists_ev</th>\n",
       "      <th>assists_pp</th>\n",
       "      <th>assists_sh</th>\n",
       "      <th>shots_attempted</th>\n",
       "      <th>shots_attempted</th>\n",
       "      <th>age_x</th>\n",
       "      <th>blocks</th>\n",
       "      <th>giveaways</th>\n",
       "      <th>hits</th>\n",
       "      <th>shot_pct</th>\n",
       "      <th>shots_attempted</th>\n",
       "      <th>shots_attempted</th>\n",
       "      <th>takeaways</th>\n",
       "      <th>zs_offense_pct</th>\n",
       "      <th>height</th>\n",
       "      <th>weight</th>\n",
       "      <th>goals_all</th>\n",
       "    </tr>\n",
       "  </thead>\n",
       "  <tbody>\n",
       "    <tr>\n",
       "      <th>0</th>\n",
       "      <td>-0.108210</td>\n",
       "      <td>-0.098756</td>\n",
       "      <td>-0.008203</td>\n",
       "      <td>-0.177544</td>\n",
       "      <td>-0.124635</td>\n",
       "      <td>-0.020940</td>\n",
       "      <td>0.091770</td>\n",
       "      <td>0.091770</td>\n",
       "      <td>0.300227</td>\n",
       "      <td>-0.204734</td>\n",
       "      <td>-0.136415</td>\n",
       "      <td>0.172519</td>\n",
       "      <td>-0.080687</td>\n",
       "      <td>0.091770</td>\n",
       "      <td>0.091770</td>\n",
       "      <td>0.078597</td>\n",
       "      <td>0.092615</td>\n",
       "      <td>0.046712</td>\n",
       "      <td>0.122539</td>\n",
       "      <td>0.000000</td>\n",
       "    </tr>\n",
       "    <tr>\n",
       "      <th>1</th>\n",
       "      <td>-0.108210</td>\n",
       "      <td>-0.098756</td>\n",
       "      <td>-0.008203</td>\n",
       "      <td>-0.177544</td>\n",
       "      <td>-0.124635</td>\n",
       "      <td>-0.020940</td>\n",
       "      <td>0.045937</td>\n",
       "      <td>0.045937</td>\n",
       "      <td>0.247595</td>\n",
       "      <td>-0.204734</td>\n",
       "      <td>0.030251</td>\n",
       "      <td>0.029662</td>\n",
       "      <td>-0.080687</td>\n",
       "      <td>0.045937</td>\n",
       "      <td>0.045937</td>\n",
       "      <td>-0.214372</td>\n",
       "      <td>0.159615</td>\n",
       "      <td>0.046712</td>\n",
       "      <td>0.122539</td>\n",
       "      <td>0.060000</td>\n",
       "    </tr>\n",
       "    <tr>\n",
       "      <th>2</th>\n",
       "      <td>-0.048210</td>\n",
       "      <td>-0.098756</td>\n",
       "      <td>-0.008203</td>\n",
       "      <td>-0.117544</td>\n",
       "      <td>-0.124635</td>\n",
       "      <td>-0.020940</td>\n",
       "      <td>-0.016395</td>\n",
       "      <td>-0.016395</td>\n",
       "      <td>0.194964</td>\n",
       "      <td>-0.093073</td>\n",
       "      <td>-0.089749</td>\n",
       "      <td>0.249662</td>\n",
       "      <td>-0.042687</td>\n",
       "      <td>-0.016395</td>\n",
       "      <td>-0.016395</td>\n",
       "      <td>-0.132341</td>\n",
       "      <td>0.155615</td>\n",
       "      <td>0.046712</td>\n",
       "      <td>0.122539</td>\n",
       "      <td>0.094595</td>\n",
       "    </tr>\n",
       "    <tr>\n",
       "      <th>3</th>\n",
       "      <td>-0.013616</td>\n",
       "      <td>-0.098756</td>\n",
       "      <td>-0.008203</td>\n",
       "      <td>-0.028895</td>\n",
       "      <td>-0.124635</td>\n",
       "      <td>0.046627</td>\n",
       "      <td>0.005060</td>\n",
       "      <td>0.005060</td>\n",
       "      <td>0.142332</td>\n",
       "      <td>-0.057614</td>\n",
       "      <td>-0.046325</td>\n",
       "      <td>0.178311</td>\n",
       "      <td>-0.026687</td>\n",
       "      <td>0.005060</td>\n",
       "      <td>0.005060</td>\n",
       "      <td>-0.079765</td>\n",
       "      <td>0.080615</td>\n",
       "      <td>0.046712</td>\n",
       "      <td>0.122539</td>\n",
       "      <td>0.098765</td>\n",
       "    </tr>\n",
       "    <tr>\n",
       "      <th>4</th>\n",
       "      <td>-0.009445</td>\n",
       "      <td>-0.098756</td>\n",
       "      <td>-0.008203</td>\n",
       "      <td>-0.004704</td>\n",
       "      <td>-0.124635</td>\n",
       "      <td>-0.020940</td>\n",
       "      <td>-0.053083</td>\n",
       "      <td>-0.053083</td>\n",
       "      <td>0.089700</td>\n",
       "      <td>-0.059989</td>\n",
       "      <td>-0.078802</td>\n",
       "      <td>0.076399</td>\n",
       "      <td>-0.014687</td>\n",
       "      <td>-0.053083</td>\n",
       "      <td>-0.053083</td>\n",
       "      <td>-0.098631</td>\n",
       "      <td>0.085615</td>\n",
       "      <td>0.046712</td>\n",
       "      <td>0.122539</td>\n",
       "      <td>0.208333</td>\n",
       "    </tr>\n",
       "  </tbody>\n",
       "</table>\n",
       "</div>"
      ],
      "text/plain": [
       "   goals_ev  goals_pp  goals_sh  assists_ev  assists_pp  assists_sh  \\\n",
       "0 -0.108210 -0.098756 -0.008203   -0.177544   -0.124635   -0.020940   \n",
       "1 -0.108210 -0.098756 -0.008203   -0.177544   -0.124635   -0.020940   \n",
       "2 -0.048210 -0.098756 -0.008203   -0.117544   -0.124635   -0.020940   \n",
       "3 -0.013616 -0.098756 -0.008203   -0.028895   -0.124635    0.046627   \n",
       "4 -0.009445 -0.098756 -0.008203   -0.004704   -0.124635   -0.020940   \n",
       "\n",
       "   shots_attempted  shots_attempted     age_x    blocks  giveaways      hits  \\\n",
       "0         0.091770         0.091770  0.300227 -0.204734  -0.136415  0.172519   \n",
       "1         0.045937         0.045937  0.247595 -0.204734   0.030251  0.029662   \n",
       "2        -0.016395        -0.016395  0.194964 -0.093073  -0.089749  0.249662   \n",
       "3         0.005060         0.005060  0.142332 -0.057614  -0.046325  0.178311   \n",
       "4        -0.053083        -0.053083  0.089700 -0.059989  -0.078802  0.076399   \n",
       "\n",
       "   shot_pct  shots_attempted  shots_attempted  takeaways  zs_offense_pct  \\\n",
       "0 -0.080687         0.091770         0.091770   0.078597        0.092615   \n",
       "1 -0.080687         0.045937         0.045937  -0.214372        0.159615   \n",
       "2 -0.042687        -0.016395        -0.016395  -0.132341        0.155615   \n",
       "3 -0.026687         0.005060         0.005060  -0.079765        0.080615   \n",
       "4 -0.014687        -0.053083        -0.053083  -0.098631        0.085615   \n",
       "\n",
       "     height    weight  goals_all  \n",
       "0  0.046712  0.122539   0.000000  \n",
       "1  0.046712  0.122539   0.060000  \n",
       "2  0.046712  0.122539   0.094595  \n",
       "3  0.046712  0.122539   0.098765  \n",
       "4  0.046712  0.122539   0.208333  "
      ]
     },
     "execution_count": 24,
     "metadata": {},
     "output_type": "execute_result"
    }
   ],
   "source": [
    "df_all_nn.head()"
   ]
  },
  {
   "cell_type": "code",
   "execution_count": null,
   "metadata": {
    "collapsed": true
   },
   "outputs": [],
   "source": []
  },
  {
   "cell_type": "code",
   "execution_count": 25,
   "metadata": {
    "collapsed": false
   },
   "outputs": [],
   "source": [
    "def knn_method(K,repeat,features):\n",
    "    results_all=[]\n",
    "    for k in range(1,K,1):\n",
    "        results=[]\n",
    "        for n in range(1, repeat, 1):\n",
    "\n",
    "            test_idx = np.random.uniform(0, 1, len(df_all_nn)) <= 0.8\n",
    "            train = df_all_nn[test_idx==True]\n",
    "            test = df_all_nn[test_idx==False]\n",
    "\n",
    "            clf = KNeighborsClassifier(n_neighbors=k)\n",
    "            clf.fit(train[features], np.asarray(train['goals_all'], dtype=\"|S6\"))\n",
    "            preds = clf.predict(test[features])\n",
    "            test_goals_all=list(test['goals_all'])\n",
    "            distance=0\n",
    "            for i in range(len(test_goals_all)):\n",
    "                #error.append(test_goals_all[i]-float(preds[i]))\n",
    "                distance += pow((test_goals_all[i]-float(preds[i])), 2)\n",
    "            accuracy = distance/ float(len(test))\n",
    "            results.append(accuracy)\n",
    "\n",
    "        results_all.append([k, sum(results)/len(results)])\n",
    "        print \"Neighbors: %d, Accuracy: %3f\" % (k, sum(results)/len(results))\n",
    "    \n",
    "    return results_all"
   ]
  },
  {
   "cell_type": "markdown",
   "metadata": {},
   "source": [
    "### All variables"
   ]
  },
  {
   "cell_type": "code",
   "execution_count": 26,
   "metadata": {
    "collapsed": false
   },
   "outputs": [
    {
     "name": "stdout",
     "output_type": "stream",
     "text": [
      "Neighbors: 1, Accuracy: 0.012247\n",
      "Neighbors: 2, Accuracy: 0.010495\n",
      "Neighbors: 3, Accuracy: 0.011565\n",
      "Neighbors: 4, Accuracy: 0.012748\n",
      "Neighbors: 5, Accuracy: 0.014026\n",
      "Neighbors: 6, Accuracy: 0.014860\n",
      "Neighbors: 7, Accuracy: 0.015902\n",
      "Neighbors: 8, Accuracy: 0.015637\n",
      "Neighbors: 9, Accuracy: 0.016504\n"
     ]
    }
   ],
   "source": [
    "features = ['goals_ev','goals_pp','goals_sh','assists_ev','assists_pp','assists_sh','shots_attempted','age_x','blocks','giveaways',\n",
    "               'hits','shot_pct','shots_attempted','takeaways','zs_offense_pct','height','weight']\n",
    "results_knn=knn_method(10,10,features)"
   ]
  },
  {
   "cell_type": "code",
   "execution_count": 27,
   "metadata": {
    "collapsed": false
   },
   "outputs": [],
   "source": [
    "KNN_Error=pd.DataFrame(results_knn,columns=['Neighbors','Error'])"
   ]
  },
  {
   "cell_type": "code",
   "execution_count": 28,
   "metadata": {
    "collapsed": false
   },
   "outputs": [
    {
     "data": {
      "text/html": [
       "<div>\n",
       "<table border=\"1\" class=\"dataframe\">\n",
       "  <thead>\n",
       "    <tr style=\"text-align: right;\">\n",
       "      <th></th>\n",
       "      <th>Neighbors</th>\n",
       "      <th>Error</th>\n",
       "    </tr>\n",
       "  </thead>\n",
       "  <tbody>\n",
       "    <tr>\n",
       "      <th>0</th>\n",
       "      <td>1</td>\n",
       "      <td>0.012247</td>\n",
       "    </tr>\n",
       "    <tr>\n",
       "      <th>1</th>\n",
       "      <td>2</td>\n",
       "      <td>0.010495</td>\n",
       "    </tr>\n",
       "    <tr>\n",
       "      <th>2</th>\n",
       "      <td>3</td>\n",
       "      <td>0.011565</td>\n",
       "    </tr>\n",
       "    <tr>\n",
       "      <th>3</th>\n",
       "      <td>4</td>\n",
       "      <td>0.012748</td>\n",
       "    </tr>\n",
       "    <tr>\n",
       "      <th>4</th>\n",
       "      <td>5</td>\n",
       "      <td>0.014026</td>\n",
       "    </tr>\n",
       "    <tr>\n",
       "      <th>5</th>\n",
       "      <td>6</td>\n",
       "      <td>0.014860</td>\n",
       "    </tr>\n",
       "    <tr>\n",
       "      <th>6</th>\n",
       "      <td>7</td>\n",
       "      <td>0.015902</td>\n",
       "    </tr>\n",
       "    <tr>\n",
       "      <th>7</th>\n",
       "      <td>8</td>\n",
       "      <td>0.015637</td>\n",
       "    </tr>\n",
       "    <tr>\n",
       "      <th>8</th>\n",
       "      <td>9</td>\n",
       "      <td>0.016504</td>\n",
       "    </tr>\n",
       "  </tbody>\n",
       "</table>\n",
       "</div>"
      ],
      "text/plain": [
       "   Neighbors     Error\n",
       "0          1  0.012247\n",
       "1          2  0.010495\n",
       "2          3  0.011565\n",
       "3          4  0.012748\n",
       "4          5  0.014026\n",
       "5          6  0.014860\n",
       "6          7  0.015902\n",
       "7          8  0.015637\n",
       "8          9  0.016504"
      ]
     },
     "execution_count": 28,
     "metadata": {},
     "output_type": "execute_result"
    }
   ],
   "source": [
    "KNN_Error"
   ]
  },
  {
   "cell_type": "code",
   "execution_count": 29,
   "metadata": {
    "collapsed": false
   },
   "outputs": [
    {
     "data": {
      "text/plain": [
       "<matplotlib.text.Text at 0x1174841d0>"
      ]
     },
     "execution_count": 29,
     "metadata": {},
     "output_type": "execute_result"
    }
   ],
   "source": [
    "pl.plot(KNN_Error.Neighbors, KNN_Error.Error)\n",
    "pl.title(\"Error with Number of Neighbors (KNN)\")\n",
    "pl.xlabel('Neighbors')\n",
    "pl.ylabel('Error')\n"
   ]
  },
  {
   "cell_type": "markdown",
   "metadata": {},
   "source": [
    "### Offensive Variables"
   ]
  },
  {
   "cell_type": "code",
   "execution_count": 30,
   "metadata": {
    "collapsed": false
   },
   "outputs": [
    {
     "name": "stdout",
     "output_type": "stream",
     "text": [
      "Neighbors: 1, Accuracy: 0.013007\n",
      "Neighbors: 2, Accuracy: 0.011528\n",
      "Neighbors: 3, Accuracy: 0.012968\n",
      "Neighbors: 4, Accuracy: 0.014506\n",
      "Neighbors: 5, Accuracy: 0.015712\n",
      "Neighbors: 6, Accuracy: 0.016372\n",
      "Neighbors: 7, Accuracy: 0.016780\n",
      "Neighbors: 8, Accuracy: 0.016986\n",
      "Neighbors: 9, Accuracy: 0.018242\n"
     ]
    }
   ],
   "source": [
    "features = ['goals_ev','goals_pp','goals_sh','assists_ev','assists_pp','assists_sh','shots_attempted','age_x','zs_offense_pct','takeaways','height','weight']\n",
    "results_knn=knn_method(10,10,features)"
   ]
  },
  {
   "cell_type": "code",
   "execution_count": 31,
   "metadata": {
    "collapsed": true
   },
   "outputs": [],
   "source": [
    "KNN_Error=pd.DataFrame(results_knn,columns=['Neighbors','Error'])"
   ]
  },
  {
   "cell_type": "code",
   "execution_count": 32,
   "metadata": {
    "collapsed": false
   },
   "outputs": [
    {
     "data": {
      "text/html": [
       "<div>\n",
       "<table border=\"1\" class=\"dataframe\">\n",
       "  <thead>\n",
       "    <tr style=\"text-align: right;\">\n",
       "      <th></th>\n",
       "      <th>Neighbors</th>\n",
       "      <th>Error</th>\n",
       "    </tr>\n",
       "  </thead>\n",
       "  <tbody>\n",
       "    <tr>\n",
       "      <th>0</th>\n",
       "      <td>1</td>\n",
       "      <td>0.013007</td>\n",
       "    </tr>\n",
       "    <tr>\n",
       "      <th>1</th>\n",
       "      <td>2</td>\n",
       "      <td>0.011528</td>\n",
       "    </tr>\n",
       "    <tr>\n",
       "      <th>2</th>\n",
       "      <td>3</td>\n",
       "      <td>0.012968</td>\n",
       "    </tr>\n",
       "    <tr>\n",
       "      <th>3</th>\n",
       "      <td>4</td>\n",
       "      <td>0.014506</td>\n",
       "    </tr>\n",
       "    <tr>\n",
       "      <th>4</th>\n",
       "      <td>5</td>\n",
       "      <td>0.015712</td>\n",
       "    </tr>\n",
       "    <tr>\n",
       "      <th>5</th>\n",
       "      <td>6</td>\n",
       "      <td>0.016372</td>\n",
       "    </tr>\n",
       "    <tr>\n",
       "      <th>6</th>\n",
       "      <td>7</td>\n",
       "      <td>0.016780</td>\n",
       "    </tr>\n",
       "    <tr>\n",
       "      <th>7</th>\n",
       "      <td>8</td>\n",
       "      <td>0.016986</td>\n",
       "    </tr>\n",
       "    <tr>\n",
       "      <th>8</th>\n",
       "      <td>9</td>\n",
       "      <td>0.018242</td>\n",
       "    </tr>\n",
       "  </tbody>\n",
       "</table>\n",
       "</div>"
      ],
      "text/plain": [
       "   Neighbors     Error\n",
       "0          1  0.013007\n",
       "1          2  0.011528\n",
       "2          3  0.012968\n",
       "3          4  0.014506\n",
       "4          5  0.015712\n",
       "5          6  0.016372\n",
       "6          7  0.016780\n",
       "7          8  0.016986\n",
       "8          9  0.018242"
      ]
     },
     "execution_count": 32,
     "metadata": {},
     "output_type": "execute_result"
    }
   ],
   "source": [
    "KNN_Error"
   ]
  },
  {
   "cell_type": "code",
   "execution_count": 33,
   "metadata": {
    "collapsed": false
   },
   "outputs": [
    {
     "data": {
      "text/plain": [
       "<matplotlib.text.Text at 0x1174841d0>"
      ]
     },
     "execution_count": 33,
     "metadata": {},
     "output_type": "execute_result"
    }
   ],
   "source": [
    "pl.plot(KNN_Error.Neighbors, KNN_Error.Error)\n",
    "pl.title(\"Error with Number of Neighbors (KNN)\")\n",
    "pl.xlabel('Neighbors')\n",
    "pl.ylabel('Error')\n"
   ]
  },
  {
   "cell_type": "code",
   "execution_count": null,
   "metadata": {
    "collapsed": true
   },
   "outputs": [],
   "source": []
  },
  {
   "cell_type": "code",
   "execution_count": null,
   "metadata": {
    "collapsed": true
   },
   "outputs": [],
   "source": []
  }
 ],
 "metadata": {
  "anaconda-cloud": {},
  "kernelspec": {
   "display_name": "Python [Root]",
   "language": "python",
   "name": "Python [Root]"
  },
  "language_info": {
   "codemirror_mode": {
    "name": "ipython",
    "version": 2
   },
   "file_extension": ".py",
   "mimetype": "text/x-python",
   "name": "python",
   "nbconvert_exporter": "python",
   "pygments_lexer": "ipython2",
   "version": "2.7.12"
  }
 },
 "nbformat": 4,
 "nbformat_minor": 0
}
