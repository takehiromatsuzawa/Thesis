{
 "cells": [
  {
   "cell_type": "code",
   "execution_count": 28,
   "metadata": {
    "collapsed": true
   },
   "outputs": [],
   "source": [
    "import pandas as pd\n",
    "import numpy as np"
   ]
  },
  {
   "cell_type": "code",
   "execution_count": 29,
   "metadata": {
    "collapsed": false
   },
   "outputs": [],
   "source": [
    "df_age_19=pd.read_csv('AgeData/df_age_19.csv',index_col=0)\n",
    "df_age_20=pd.read_csv('AgeData/df_age_20.csv',index_col=0)\n",
    "df_age_21=pd.read_csv('AgeData/df_age_21.csv',index_col=0)\n",
    "df_age_22=pd.read_csv('AgeData/df_age_22.csv',index_col=0)\n",
    "df_age_23=pd.read_csv('AgeData/df_age_23.csv',index_col=0)\n",
    "df_age_24=pd.read_csv('AgeData/df_age_24.csv',index_col=0)\n",
    "df_age_25=pd.read_csv('AgeData/df_age_25.csv',index_col=0)\n",
    "df_age_26=pd.read_csv('AgeData/df_age_26.csv',index_col=0)\n",
    "df_age_27=pd.read_csv('AgeData/df_age_27.csv',index_col=0)\n",
    "df_age_28=pd.read_csv('AgeData/df_age_28.csv',index_col=0)\n",
    "df_age_29=pd.read_csv('AgeData/df_age_29.csv',index_col=0)\n",
    "\n",
    "df_age_30=pd.read_csv('AgeData/df_age_30.csv',index_col=0)\n",
    "df_age_31=pd.read_csv('AgeData/df_age_31.csv',index_col=0)\n",
    "df_age_32=pd.read_csv('AgeData/df_age_32.csv',index_col=0)\n",
    "df_age_33=pd.read_csv('AgeData/df_age_33.csv',index_col=0)\n",
    "df_age_34=pd.read_csv('AgeData/df_age_34.csv',index_col=0)\n",
    "df_age_35=pd.read_csv('AgeData/df_age_35.csv',index_col=0)\n",
    "df_age_36=pd.read_csv('AgeData/df_age_36.csv',index_col=0)\n",
    "df_age_37=pd.read_csv('AgeData/df_age_37.csv',index_col=0)\n",
    "df_age_38=pd.read_csv('AgeData/df_age_38.csv',index_col=0)\n",
    "df_age_39=pd.read_csv('AgeData/df_age_39.csv',index_col=0)"
   ]
  },
  {
   "cell_type": "code",
   "execution_count": 30,
   "metadata": {
    "collapsed": true
   },
   "outputs": [],
   "source": [
    "dfplayer1996=pd.read_csv('dfplayer1996.csv')\n",
    "dfplayer1997=pd.read_csv('dfplayer1997.csv')\n",
    "dfplayer1998=pd.read_csv('dfplayer1998.csv')\n",
    "dfplayer1999=pd.read_csv('dfplayer1999.csv')\n",
    "\n",
    "dfplayer2000=pd.read_csv('dfplayer2000.csv')\n",
    "dfplayer2001=pd.read_csv('dfplayer2001.csv')\n",
    "dfplayer2002=pd.read_csv('dfplayer2002.csv')\n",
    "dfplayer2003=pd.read_csv('dfplayer2003.csv')\n",
    "dfplayer2004=pd.read_csv('dfplayer2004.csv')\n",
    "\n",
    "dfplayer2005=pd.read_csv('dfplayer2005.csv')\n",
    "dfplayer2006=pd.read_csv('dfplayer2006.csv')\n",
    "dfplayer2007=pd.read_csv('dfplayer2007.csv')\n",
    "dfplayer2008=pd.read_csv('dfplayer2008.csv')\n",
    "dfplayer2009=pd.read_csv('dfplayer2009.csv')\n",
    "\n",
    "dfplayer2010=pd.read_csv('dfplayer2010.csv')\n",
    "dfplayer2011=pd.read_csv('dfplayer2011.csv')\n",
    "dfplayer2012=pd.read_csv('dfplayer2012.csv')\n",
    "dfplayer2013=pd.read_csv('dfplayer2013.csv')\n",
    "dfplayer2014=pd.read_csv('dfplayer2014.csv')\n",
    "\n",
    "dfplayer2015=pd.read_csv('dfplayer2015.csv')"
   ]
  },
  {
   "cell_type": "code",
   "execution_count": 31,
   "metadata": {
    "collapsed": true
   },
   "outputs": [],
   "source": [
    "namePlayer=[]\n",
    "for elem in dfplayer1996['url']:\n",
    "    namePlayer.append(elem[11:-5])\n",
    "    \n",
    "dfplayer1996['name']=namePlayer\n",
    "\n",
    "del dfplayer1996['Unnamed: 0']\n",
    "del dfplayer1996['url']\n",
    "del dfplayer1996['draft']\n",
    "del dfplayer1996['shot']\n",
    "del dfplayer1996['pos']\n",
    "\n",
    "\n",
    "namePlayer=[]\n",
    "for elem in dfplayer1997['url']:\n",
    "    namePlayer.append(elem[11:-5])\n",
    "    \n",
    "dfplayer1997['name']=namePlayer\n",
    "\n",
    "del dfplayer1997['Unnamed: 0']\n",
    "del dfplayer1997['url']\n",
    "del dfplayer1997['draft']\n",
    "del dfplayer1997['shot']\n",
    "del dfplayer1997['pos']\n",
    "\n",
    "namePlayer=[]\n",
    "for elem in dfplayer1998['url']:\n",
    "    namePlayer.append(elem[11:-5])\n",
    "    \n",
    "dfplayer1998['name']=namePlayer\n",
    "\n",
    "del dfplayer1998['Unnamed: 0']\n",
    "del dfplayer1998['url']\n",
    "del dfplayer1998['draft']\n",
    "del dfplayer1998['shot']\n",
    "del dfplayer1998['pos']\n",
    "\n",
    "namePlayer=[]\n",
    "for elem in dfplayer1999['url']:\n",
    "    namePlayer.append(elem[11:-5])\n",
    "    \n",
    "dfplayer1999['name']=namePlayer\n",
    "\n",
    "del dfplayer1999['Unnamed: 0']\n",
    "del dfplayer1999['url']\n",
    "del dfplayer1999['draft']\n",
    "del dfplayer1999['shot']\n",
    "del dfplayer1999['pos']\n",
    "\n",
    "namePlayer=[]\n",
    "for elem in dfplayer2000['url']:\n",
    "    namePlayer.append(elem[11:-5])\n",
    "    \n",
    "dfplayer2000['name']=namePlayer\n",
    "\n",
    "del dfplayer2000['Unnamed: 0']\n",
    "del dfplayer2000['url']\n",
    "del dfplayer2000['draft']\n",
    "del dfplayer2000['shot']\n",
    "del dfplayer2000['pos']\n",
    "\n",
    "namePlayer=[]\n",
    "for elem in dfplayer2001['url']:\n",
    "    namePlayer.append(elem[11:-5])\n",
    "    \n",
    "dfplayer2001['name']=namePlayer\n",
    "\n",
    "del dfplayer2001['Unnamed: 0']\n",
    "del dfplayer2001['url']\n",
    "del dfplayer2001['draft']\n",
    "del dfplayer2001['shot']\n",
    "del dfplayer2001['pos']\n",
    "\n",
    "namePlayer=[]\n",
    "for elem in dfplayer2002['url']:\n",
    "    namePlayer.append(elem[11:-5])\n",
    "    \n",
    "dfplayer2002['name']=namePlayer\n",
    "\n",
    "del dfplayer2002['Unnamed: 0']\n",
    "del dfplayer2002['url']\n",
    "del dfplayer2002['draft']\n",
    "del dfplayer2002['shot']\n",
    "del dfplayer2002['pos']\n",
    "\n",
    "namePlayer=[]\n",
    "for elem in dfplayer2003['url']:\n",
    "    namePlayer.append(elem[11:-5])\n",
    "    \n",
    "dfplayer2003['name']=namePlayer\n",
    "\n",
    "del dfplayer2003['Unnamed: 0']\n",
    "del dfplayer2003['url']\n",
    "del dfplayer2003['draft']\n",
    "del dfplayer2003['shot']\n",
    "del dfplayer2003['pos']\n",
    "\n",
    "namePlayer=[]\n",
    "for elem in dfplayer2004['url']:\n",
    "    namePlayer.append(elem[11:-5])\n",
    "    \n",
    "dfplayer2004['name']=namePlayer\n",
    "\n",
    "del dfplayer2004['Unnamed: 0']\n",
    "del dfplayer2004['url']\n",
    "del dfplayer2004['draft']\n",
    "del dfplayer2004['shot']\n",
    "del dfplayer2004['pos']\n",
    "\n",
    "namePlayer=[]\n",
    "for elem in dfplayer2005['url']:\n",
    "    namePlayer.append(elem[11:-5])\n",
    "    \n",
    "dfplayer2005['name']=namePlayer\n",
    "\n",
    "del dfplayer2005['Unnamed: 0']\n",
    "del dfplayer2005['url']\n",
    "del dfplayer2005['draft']\n",
    "del dfplayer2005['shot']\n",
    "del dfplayer2005['pos']\n",
    "\n",
    "namePlayer=[]\n",
    "for elem in dfplayer2006['url']:\n",
    "    namePlayer.append(elem[11:-5])\n",
    "    \n",
    "dfplayer2006['name']=namePlayer\n",
    "\n",
    "del dfplayer2006['Unnamed: 0']\n",
    "del dfplayer2006['url']\n",
    "del dfplayer2006['draft']\n",
    "del dfplayer2006['shot']\n",
    "del dfplayer2006['pos']\n",
    "\n",
    "namePlayer=[]\n",
    "for elem in dfplayer2007['url']:\n",
    "    namePlayer.append(elem[11:-5])\n",
    "    \n",
    "dfplayer2007['name']=namePlayer\n",
    "\n",
    "del dfplayer2007['Unnamed: 0']\n",
    "del dfplayer2007['url']\n",
    "del dfplayer2007['draft']\n",
    "del dfplayer2007['shot']\n",
    "del dfplayer2007['pos']\n",
    "\n",
    "namePlayer=[]\n",
    "for elem in dfplayer2008['url']:\n",
    "    namePlayer.append(elem[11:-5])\n",
    "    \n",
    "dfplayer2008['name']=namePlayer\n",
    "\n",
    "del dfplayer2008['Unnamed: 0']\n",
    "del dfplayer2008['url']\n",
    "del dfplayer2008['draft']\n",
    "del dfplayer2008['shot']\n",
    "del dfplayer2008['pos']\n",
    "\n",
    "namePlayer=[]\n",
    "for elem in dfplayer2009['url']:\n",
    "    namePlayer.append(elem[11:-5])\n",
    "    \n",
    "dfplayer2009['name']=namePlayer\n",
    "\n",
    "del dfplayer2009['Unnamed: 0']\n",
    "del dfplayer2009['url']\n",
    "del dfplayer2009['draft']\n",
    "del dfplayer2009['shot']\n",
    "del dfplayer2009['pos']\n",
    "\n",
    "namePlayer=[]\n",
    "for elem in dfplayer2010['url']:\n",
    "    namePlayer.append(elem[11:-5])\n",
    "    \n",
    "dfplayer2010['name']=namePlayer\n",
    "\n",
    "del dfplayer2010['Unnamed: 0']\n",
    "del dfplayer2010['url']\n",
    "del dfplayer2010['draft']\n",
    "del dfplayer2010['shot']\n",
    "del dfplayer2010['pos']\n",
    "\n",
    "namePlayer=[]\n",
    "for elem in dfplayer2011['url']:\n",
    "    namePlayer.append(elem[11:-5])\n",
    "    \n",
    "dfplayer2011['name']=namePlayer\n",
    "\n",
    "del dfplayer2011['Unnamed: 0']\n",
    "del dfplayer2011['url']\n",
    "del dfplayer2011['draft']\n",
    "del dfplayer2011['shot']\n",
    "del dfplayer2011['pos']\n",
    "\n",
    "namePlayer=[]\n",
    "for elem in dfplayer2012['url']:\n",
    "    namePlayer.append(elem[11:-5])\n",
    "    \n",
    "dfplayer2012['name']=namePlayer\n",
    "\n",
    "del dfplayer2012['Unnamed: 0']\n",
    "del dfplayer2012['url']\n",
    "del dfplayer2012['draft']\n",
    "del dfplayer2012['shot']\n",
    "del dfplayer2012['pos']\n",
    "\n",
    "namePlayer=[]\n",
    "for elem in dfplayer2013['url']:\n",
    "    namePlayer.append(elem[11:-5])\n",
    "    \n",
    "dfplayer2013['name']=namePlayer\n",
    "\n",
    "del dfplayer2013['Unnamed: 0']\n",
    "del dfplayer2013['url']\n",
    "del dfplayer2013['draft']\n",
    "del dfplayer2013['shot']\n",
    "del dfplayer2013['pos']\n",
    "\n",
    "namePlayer=[]\n",
    "for elem in dfplayer2014['url']:\n",
    "    namePlayer.append(elem[11:-5])\n",
    "    \n",
    "dfplayer2014['name']=namePlayer\n",
    "\n",
    "del dfplayer2014['Unnamed: 0']\n",
    "del dfplayer2014['url']\n",
    "del dfplayer2014['draft']\n",
    "del dfplayer2014['shot']\n",
    "del dfplayer2014['pos']\n",
    "\n",
    "namePlayer=[]\n",
    "for elem in dfplayer2015['url']:\n",
    "    namePlayer.append(elem[11:-5])\n",
    "    \n",
    "dfplayer2015['name']=namePlayer\n",
    "\n",
    "del dfplayer2015['Unnamed: 0']\n",
    "del dfplayer2015['url']\n",
    "del dfplayer2015['draft']\n",
    "del dfplayer2015['shot']\n",
    "del dfplayer2015['pos']"
   ]
  },
  {
   "cell_type": "code",
   "execution_count": 32,
   "metadata": {
    "collapsed": false
   },
   "outputs": [],
   "source": [
    "fundam = [dfplayer1996,dfplayer1997,dfplayer1998,dfplayer1999,dfplayer2000,dfplayer2001,dfplayer2002,\n",
    "dfplayer2003,dfplayer2004,dfplayer2005,dfplayer2006,dfplayer2007,dfplayer2008,dfplayer2009,dfplayer2010,\n",
    "dfplayer2011,dfplayer2012,dfplayer2013,dfplayer2014,dfplayer2015]\n",
    "\n",
    "\n",
    "\n",
    "df_all_fundam = pd.concat(fundam)\n",
    "df_all_fundam=df_all_fundam.reset_index(drop=True)\n",
    "df_all_fundam = df_all_fundam[df_all_fundam.height!= 'ml>']\n",
    "df_all_fundam=df_all_fundam.reset_index(drop=True)\n",
    "\n",
    "weight_all=df_all_fundam['weight']\n",
    "height_all=df_all_fundam['height']\n",
    "\n",
    "df_all_fundam[['weight','height']]=df_all_fundam[['weight','height']].astype(float)\n",
    "\n"
   ]
  },
  {
   "cell_type": "code",
   "execution_count": 33,
   "metadata": {
    "collapsed": true
   },
   "outputs": [],
   "source": [
    "frames = [df_age_19, df_age_20, df_age_21,df_age_22,df_age_23,df_age_24,df_age_25,df_age_26,df_age_27,df_age_28,\n",
    "         df_age_29,df_age_30,df_age_31,df_age_32,df_age_33,df_age_34,df_age_35,df_age_36,df_age_37,df_age_38,df_age_39]\n",
    "df_all = pd.concat(frames)"
   ]
  },
  {
   "cell_type": "code",
   "execution_count": 34,
   "metadata": {
    "collapsed": false
   },
   "outputs": [],
   "source": [
    "df_all = pd.merge(df_all, df_all_fundam, on='name')"
   ]
  },
  {
   "cell_type": "code",
   "execution_count": 35,
   "metadata": {
    "collapsed": true
   },
   "outputs": [],
   "source": [
    "df_all['goals_all']=df_all['goals_ev']+df_all['goals_pp']+df_all['goals_sh']\n",
    "df_all['goals_all']=df_all['goals_all']/df_all['games_played']\n",
    "df_all['goals_ev']=df_all['goals_ev']/df_all['games_played']\n",
    "df_all['goals_pp']=df_all['goals_pp']/df_all['games_played']\n",
    "df_all['goals_sh']=df_all['goals_sh']/df_all['games_played']\n",
    "\n",
    "df_all['assists_all']=df_all['assists_ev']+df_all['assists_pp']+df_all['assists_sh']\n",
    "df_all['assists_all']=df_all['assists_all']/df_all['games_played']\n",
    "df_all['assists_ev']=df_all['assists_ev']/df_all['games_played']\n",
    "df_all['assists_pp']=df_all['assists_pp']/df_all['games_played']\n",
    "df_all['assists_sh']=df_all['assists_sh']/df_all['games_played']\n",
    "\n",
    "df_all['shots_attempted']=df_all['shots_attempted']/df_all['games_played']"
   ]
  },
  {
   "cell_type": "code",
   "execution_count": 36,
   "metadata": {
    "collapsed": false
   },
   "outputs": [
    {
     "data": {
      "text/plain": [
       "Index([u'TOT', u'age_x', u'age_y', u'assists_ev', u'assists_pp', u'assists_sh',\n",
       "       u'blocks', u'corsi_against', u'corsi_for', u'corsi_pct',\n",
       "       u'corsi_rel_pct', u'fenwick_against', u'fenwick_for', u'fenwick_pct',\n",
       "       u'fenwick_rel_pct', u'games_played', u'giveaways', u'goals_ev',\n",
       "       u'goals_gw', u'goals_pp', u'goals_sh', u'hits', u'name',\n",
       "       u'on_ice_shot_pct', u'on_ice_sv_pct', u'pdo', u'pen_min', u'plus_minus',\n",
       "       u'season', u'shot_pct', u'shot_pct.1', u'shots_attempted',\n",
       "       u'shots_attempted.1', u'takeaways', u'time_on_ice_avg', u'uniqueseason',\n",
       "       u'zs_defense_pct', u'zs_offense_pct', u'height', u'weight',\n",
       "       u'goals_all', u'assists_all'],\n",
       "      dtype='object')"
      ]
     },
     "execution_count": 36,
     "metadata": {},
     "output_type": "execute_result"
    }
   ],
   "source": [
    "df_all.columns"
   ]
  },
  {
   "cell_type": "code",
   "execution_count": 37,
   "metadata": {
    "collapsed": false
   },
   "outputs": [],
   "source": [
    "df_all_nn=df_all[['goals_all','goals_pp','goals_sh','assists_ev','assists_pp','assists_sh','shots_attempted','age_x','height','weight']]"
   ]
  },
  {
   "cell_type": "code",
   "execution_count": 38,
   "metadata": {
    "collapsed": false
   },
   "outputs": [
    {
     "data": {
      "text/html": [
       "<div>\n",
       "<table border=\"1\" class=\"dataframe\">\n",
       "  <thead>\n",
       "    <tr style=\"text-align: right;\">\n",
       "      <th></th>\n",
       "      <th>goals_all</th>\n",
       "      <th>goals_pp</th>\n",
       "      <th>goals_sh</th>\n",
       "      <th>assists_ev</th>\n",
       "      <th>assists_pp</th>\n",
       "      <th>assists_sh</th>\n",
       "      <th>shots_attempted</th>\n",
       "      <th>age_x</th>\n",
       "      <th>height</th>\n",
       "      <th>weight</th>\n",
       "    </tr>\n",
       "  </thead>\n",
       "  <tbody>\n",
       "    <tr>\n",
       "      <th>0</th>\n",
       "      <td>0.225352</td>\n",
       "      <td>0.042254</td>\n",
       "      <td>0.000000</td>\n",
       "      <td>0.225352</td>\n",
       "      <td>0.056338</td>\n",
       "      <td>0.000000</td>\n",
       "      <td>2.802817</td>\n",
       "      <td>19</td>\n",
       "      <td>190</td>\n",
       "      <td>213</td>\n",
       "    </tr>\n",
       "    <tr>\n",
       "      <th>1</th>\n",
       "      <td>0.225352</td>\n",
       "      <td>0.042254</td>\n",
       "      <td>0.000000</td>\n",
       "      <td>0.225352</td>\n",
       "      <td>0.056338</td>\n",
       "      <td>0.000000</td>\n",
       "      <td>2.802817</td>\n",
       "      <td>19</td>\n",
       "      <td>190</td>\n",
       "      <td>213</td>\n",
       "    </tr>\n",
       "    <tr>\n",
       "      <th>2</th>\n",
       "      <td>0.424242</td>\n",
       "      <td>0.136364</td>\n",
       "      <td>0.015152</td>\n",
       "      <td>0.348485</td>\n",
       "      <td>0.106061</td>\n",
       "      <td>0.015152</td>\n",
       "      <td>3.863636</td>\n",
       "      <td>20</td>\n",
       "      <td>190</td>\n",
       "      <td>213</td>\n",
       "    </tr>\n",
       "    <tr>\n",
       "      <th>3</th>\n",
       "      <td>0.424242</td>\n",
       "      <td>0.136364</td>\n",
       "      <td>0.015152</td>\n",
       "      <td>0.348485</td>\n",
       "      <td>0.106061</td>\n",
       "      <td>0.015152</td>\n",
       "      <td>3.863636</td>\n",
       "      <td>20</td>\n",
       "      <td>190</td>\n",
       "      <td>213</td>\n",
       "    </tr>\n",
       "    <tr>\n",
       "      <th>4</th>\n",
       "      <td>0.086957</td>\n",
       "      <td>0.000000</td>\n",
       "      <td>0.000000</td>\n",
       "      <td>0.347826</td>\n",
       "      <td>0.173913</td>\n",
       "      <td>0.000000</td>\n",
       "      <td>3.217391</td>\n",
       "      <td>21</td>\n",
       "      <td>190</td>\n",
       "      <td>213</td>\n",
       "    </tr>\n",
       "  </tbody>\n",
       "</table>\n",
       "</div>"
      ],
      "text/plain": [
       "   goals_all  goals_pp  goals_sh  assists_ev  assists_pp  assists_sh  \\\n",
       "0   0.225352  0.042254  0.000000    0.225352    0.056338    0.000000   \n",
       "1   0.225352  0.042254  0.000000    0.225352    0.056338    0.000000   \n",
       "2   0.424242  0.136364  0.015152    0.348485    0.106061    0.015152   \n",
       "3   0.424242  0.136364  0.015152    0.348485    0.106061    0.015152   \n",
       "4   0.086957  0.000000  0.000000    0.347826    0.173913    0.000000   \n",
       "\n",
       "   shots_attempted  age_x  height  weight  \n",
       "0         2.802817     19     190     213  \n",
       "1         2.802817     19     190     213  \n",
       "2         3.863636     20     190     213  \n",
       "3         3.863636     20     190     213  \n",
       "4         3.217391     21     190     213  "
      ]
     },
     "execution_count": 38,
     "metadata": {},
     "output_type": "execute_result"
    }
   ],
   "source": [
    "df_all_nn.head()"
   ]
  },
  {
   "cell_type": "code",
   "execution_count": null,
   "metadata": {
    "collapsed": false
   },
   "outputs": [],
   "source": []
  },
  {
   "cell_type": "code",
   "execution_count": 39,
   "metadata": {
    "collapsed": false
   },
   "outputs": [],
   "source": [
    "cols_to_norm = ['goals_pp','goals_sh','assists_ev','assists_pp','assists_sh','shots_attempted','age_x','height','weight']\n",
    "df_all_nn[cols_to_norm] = df_all_nn[cols_to_norm].apply(lambda x: (x - x.mean()) / (x.max() - x.min()))"
   ]
  },
  {
   "cell_type": "code",
   "execution_count": 40,
   "metadata": {
    "collapsed": false
   },
   "outputs": [],
   "source": [
    "df_all_nn=df_all_nn[['assists_ev','assists_pp','assists_sh','shots_attempted','age_x','height','weight']]"
   ]
  },
  {
   "cell_type": "code",
   "execution_count": 41,
   "metadata": {
    "collapsed": true
   },
   "outputs": [],
   "source": [
    "df_all_nn['age_x'] = df_all_nn['age_x'].apply(lambda x: abs(x))"
   ]
  },
  {
   "cell_type": "code",
   "execution_count": 42,
   "metadata": {
    "collapsed": false
   },
   "outputs": [
    {
     "data": {
      "text/html": [
       "<div>\n",
       "<table border=\"1\" class=\"dataframe\">\n",
       "  <thead>\n",
       "    <tr style=\"text-align: right;\">\n",
       "      <th></th>\n",
       "      <th>assists_ev</th>\n",
       "      <th>assists_pp</th>\n",
       "      <th>assists_sh</th>\n",
       "      <th>shots_attempted</th>\n",
       "      <th>age_x</th>\n",
       "      <th>height</th>\n",
       "      <th>weight</th>\n",
       "    </tr>\n",
       "  </thead>\n",
       "  <tbody>\n",
       "    <tr>\n",
       "      <th>0</th>\n",
       "      <td>0.042652</td>\n",
       "      <td>-0.009669</td>\n",
       "      <td>-0.025260</td>\n",
       "      <td>-0.019468</td>\n",
       "      <td>0.340201</td>\n",
       "      <td>0.091185</td>\n",
       "      <td>0.08048</td>\n",
       "    </tr>\n",
       "    <tr>\n",
       "      <th>1</th>\n",
       "      <td>0.042652</td>\n",
       "      <td>-0.009669</td>\n",
       "      <td>-0.025260</td>\n",
       "      <td>-0.019468</td>\n",
       "      <td>0.340201</td>\n",
       "      <td>0.091185</td>\n",
       "      <td>0.08048</td>\n",
       "    </tr>\n",
       "    <tr>\n",
       "      <th>2</th>\n",
       "      <td>0.165785</td>\n",
       "      <td>0.040054</td>\n",
       "      <td>0.050497</td>\n",
       "      <td>0.077772</td>\n",
       "      <td>0.290201</td>\n",
       "      <td>0.091185</td>\n",
       "      <td>0.08048</td>\n",
       "    </tr>\n",
       "    <tr>\n",
       "      <th>3</th>\n",
       "      <td>0.165785</td>\n",
       "      <td>0.040054</td>\n",
       "      <td>0.050497</td>\n",
       "      <td>0.077772</td>\n",
       "      <td>0.290201</td>\n",
       "      <td>0.091185</td>\n",
       "      <td>0.08048</td>\n",
       "    </tr>\n",
       "    <tr>\n",
       "      <th>4</th>\n",
       "      <td>0.165126</td>\n",
       "      <td>0.107906</td>\n",
       "      <td>-0.025260</td>\n",
       "      <td>0.018534</td>\n",
       "      <td>0.240201</td>\n",
       "      <td>0.091185</td>\n",
       "      <td>0.08048</td>\n",
       "    </tr>\n",
       "  </tbody>\n",
       "</table>\n",
       "</div>"
      ],
      "text/plain": [
       "   assists_ev  assists_pp  assists_sh  shots_attempted     age_x    height  \\\n",
       "0    0.042652   -0.009669   -0.025260        -0.019468  0.340201  0.091185   \n",
       "1    0.042652   -0.009669   -0.025260        -0.019468  0.340201  0.091185   \n",
       "2    0.165785    0.040054    0.050497         0.077772  0.290201  0.091185   \n",
       "3    0.165785    0.040054    0.050497         0.077772  0.290201  0.091185   \n",
       "4    0.165126    0.107906   -0.025260         0.018534  0.240201  0.091185   \n",
       "\n",
       "    weight  \n",
       "0  0.08048  \n",
       "1  0.08048  \n",
       "2  0.08048  \n",
       "3  0.08048  \n",
       "4  0.08048  "
      ]
     },
     "execution_count": 42,
     "metadata": {},
     "output_type": "execute_result"
    }
   ],
   "source": [
    "df_all_nn.head()"
   ]
  },
  {
   "cell_type": "code",
   "execution_count": 43,
   "metadata": {
    "collapsed": false
   },
   "outputs": [],
   "source": [
    "numpyMatrix = df_all_nn.as_matrix()"
   ]
  },
  {
   "cell_type": "code",
   "execution_count": 44,
   "metadata": {
    "collapsed": false
   },
   "outputs": [
    {
     "data": {
      "text/plain": [
       "array([[ 0.04265182, -0.00966861, -0.02526025, ...,  0.3402014 ,\n",
       "         0.09118467,  0.08047961],\n",
       "       [ 0.04265182, -0.00966861, -0.02526025, ...,  0.3402014 ,\n",
       "         0.09118467,  0.08047961],\n",
       "       [ 0.16578455,  0.04005397,  0.05049733, ...,  0.2902014 ,\n",
       "         0.09118467,  0.08047961],\n",
       "       ..., \n",
       "       [ 0.06088945,  0.22886516,  0.03884232, ...,  0.6097986 ,\n",
       "        -0.03076655, -0.11396483],\n",
       "       [ 0.08559239,  0.1169202 ,  0.15766658, ...,  0.6597986 ,\n",
       "        -0.03076655, -0.11396483],\n",
       "       [ 0.08559239,  0.1169202 ,  0.15766658, ...,  0.6597986 ,\n",
       "        -0.03076655, -0.11396483]])"
      ]
     },
     "execution_count": 44,
     "metadata": {},
     "output_type": "execute_result"
    }
   ],
   "source": [
    "numpyMatrix"
   ]
  },
  {
   "cell_type": "code",
   "execution_count": 45,
   "metadata": {
    "collapsed": false
   },
   "outputs": [
    {
     "data": {
      "text/plain": [
       "array([ 0.22535211,  0.22535211,  0.42424242, ...,  0.20512821,\n",
       "        0.1097561 ,  0.1097561 ])"
      ]
     },
     "execution_count": 45,
     "metadata": {},
     "output_type": "execute_result"
    }
   ],
   "source": [
    "df_all['goals_all'].as_matrix()"
   ]
  },
  {
   "cell_type": "code",
   "execution_count": 46,
   "metadata": {
    "collapsed": true
   },
   "outputs": [],
   "source": [
    "#New complete class, with changes:\n",
    "class Neural_Network(object):\n",
    "    def __init__(self, Lambda=0):        \n",
    "        #Define Hyperparameters\n",
    "        self.inputLayerSize = 7\n",
    "        self.outputLayerSize = 1\n",
    "        self.hiddenLayerSize = 2\n",
    "        \n",
    "        #Weights (parameters)\n",
    "        self.W1 = np.random.randn(self.inputLayerSize,self.hiddenLayerSize)\n",
    "        self.W2 = np.random.randn(self.hiddenLayerSize,self.outputLayerSize)\n",
    "        \n",
    "        #Regularization Parameter:\n",
    "        self.Lambda = Lambda\n",
    "        \n",
    "    def forward(self, X):\n",
    "        #Propogate inputs though network\n",
    "        self.z2 = np.dot(X, self.W1)\n",
    "        self.a2 = self.sigmoid(self.z2)\n",
    "        self.z3 = np.dot(self.a2, self.W2)\n",
    "        yHat = self.sigmoid(self.z3) \n",
    "        return yHat\n",
    "        \n",
    "    def sigmoid(self, z):\n",
    "        #Apply sigmoid activation function to scalar, vector, or matrix\n",
    "        return 1/(1+np.exp(-z))\n",
    "    \n",
    "    def sigmoidPrime(self,z):\n",
    "        #Gradient of sigmoid\n",
    "        return np.exp(-z)/((1+np.exp(-z))**2)\n",
    "    \n",
    "    def costFunction(self, X, y):\n",
    "        #Compute cost for given X,y, use weights already stored in class.\n",
    "        self.yHat = self.forward(X)\n",
    "        J = 0.5*sum((y-self.yHat)**2)/X.shape[0] + (self.Lambda/2)*(np.sum(self.W1**2)+np.sum(self.W2**2))\n",
    "        return J\n",
    "        \n",
    "    def costFunctionPrime(self, X, y):\n",
    "        #Compute derivative with respect to W and W2 for a given X and y:\n",
    "        self.yHat = self.forward(X)\n",
    "        \n",
    "        delta3 = np.multiply(-(y-self.yHat), self.sigmoidPrime(self.z3))\n",
    "        #Add gradient of regularization term:\n",
    "        dJdW2 = np.dot(self.a2.T, delta3)/X.shape[0] + self.Lambda*self.W2\n",
    "        \n",
    "        delta2 = np.dot(delta3, self.W2.T)*self.sigmoidPrime(self.z2)\n",
    "        #Add gradient of regularization term:\n",
    "        dJdW1 = np.dot(X.T, delta2)/X.shape[0] + self.Lambda*self.W1\n",
    "        \n",
    "        return dJdW1, dJdW2\n",
    "    \n",
    "    #Helper functions for interacting with other methods/classes\n",
    "    def getParams(self):\n",
    "        #Get W1 and W2 Rolled into vector:\n",
    "        params = np.concatenate((self.W1.ravel(), self.W2.ravel()))\n",
    "        return params\n",
    "    \n",
    "    def setParams(self, params):\n",
    "        #Set W1 and W2 using single parameter vector:\n",
    "        W1_start = 0\n",
    "        W1_end = self.hiddenLayerSize*self.inputLayerSize\n",
    "        self.W1 = np.reshape(params[W1_start:W1_end], \\\n",
    "                             (self.inputLayerSize, self.hiddenLayerSize))\n",
    "        W2_end = W1_end + self.hiddenLayerSize*self.outputLayerSize\n",
    "        self.W2 = np.reshape(params[W1_end:W2_end], \\\n",
    "                             (self.hiddenLayerSize, self.outputLayerSize))\n",
    "        \n",
    "    def computeGradients(self, X, y):\n",
    "        dJdW1, dJdW2 = self.costFunctionPrime(X, y)\n",
    "        return np.concatenate((dJdW1.ravel(), dJdW2.ravel()))"
   ]
  },
  {
   "cell_type": "code",
   "execution_count": 47,
   "metadata": {
    "collapsed": true
   },
   "outputs": [],
   "source": [
    "import matplotlib.pyplot as plt"
   ]
  },
  {
   "cell_type": "code",
   "execution_count": 48,
   "metadata": {
    "collapsed": true
   },
   "outputs": [],
   "source": [
    "NN = Neural_Network()"
   ]
  },
  {
   "cell_type": "code",
   "execution_count": 49,
   "metadata": {
    "collapsed": false
   },
   "outputs": [],
   "source": [
    "X = numpyMatrix\n",
    "data_list = list(df_all['goals_all'])"
   ]
  },
  {
   "cell_type": "code",
   "execution_count": 50,
   "metadata": {
    "collapsed": false
   },
   "outputs": [],
   "source": [
    "i=0\n",
    "y=[]\n",
    "while i<len(data_list):\n",
    "    y.append(data_list[i:i+1])\n",
    "    i=i+1"
   ]
  },
  {
   "cell_type": "code",
   "execution_count": 51,
   "metadata": {
    "collapsed": false
   },
   "outputs": [],
   "source": [
    "yHat = NN.forward(X)\n",
    "#print y\n",
    "#print np.array(y)"
   ]
  },
  {
   "cell_type": "code",
   "execution_count": 52,
   "metadata": {
    "collapsed": true
   },
   "outputs": [],
   "source": [
    "epsilon = 1e-4\n",
    "x = 1.5"
   ]
  },
  {
   "cell_type": "code",
   "execution_count": 53,
   "metadata": {
    "collapsed": false
   },
   "outputs": [
    {
     "name": "stdout",
     "output_type": "stream",
     "text": [
      "7547\n",
      "7547\n"
     ]
    }
   ],
   "source": [
    "print len(yHat)\n",
    "print len(data_list)"
   ]
  },
  {
   "cell_type": "code",
   "execution_count": 54,
   "metadata": {
    "collapsed": false
   },
   "outputs": [
    {
     "name": "stdout",
     "output_type": "stream",
     "text": [
      "[ 0.12449641]\n"
     ]
    }
   ],
   "source": [
    "cost1 = NN.costFunction(X,y)\n",
    "print cost1"
   ]
  },
  {
   "cell_type": "code",
   "execution_count": 55,
   "metadata": {
    "collapsed": false
   },
   "outputs": [],
   "source": [
    "def computeNumericalGradient(N, X, y):\n",
    "    paramsInitial = N.getParams()\n",
    "    numgrad = np.zeros(paramsInitial.shape)\n",
    "    perturb = np.zeros(paramsInitial.shape)\n",
    "    e = 1e-4\n",
    "\n",
    "    for p in range(len(paramsInitial)):\n",
    "        #Set perturbation vector\n",
    "        perturb[p] = e\n",
    "        N.setParams(paramsInitial + perturb)\n",
    "        loss2 = N.costFunction(X, y)\n",
    "\n",
    "        N.setParams(paramsInitial - perturb)\n",
    "        loss1 = N.costFunction(X, y)\n",
    "\n",
    "        #Compute Numerical Gradient\n",
    "        numgrad[p] = (loss2 - loss1) / (2*e)\n",
    "\n",
    "        #Return the value we changed to zero:\n",
    "        perturb[p] = 0\n",
    "\n",
    "    #Return Params to original value:\n",
    "    N.setParams(paramsInitial)\n",
    "\n",
    "    return numgrad "
   ]
  },
  {
   "cell_type": "code",
   "execution_count": 87,
   "metadata": {
    "collapsed": true
   },
   "outputs": [],
   "source": [
    "##Need to modify trainer class a bit to check testing error during training:\n",
    "class trainer(object):\n",
    "    def __init__(self, N):\n",
    "        #Make Local reference to network:\n",
    "        self.N = N\n",
    "        \n",
    "    def callbackF(self, params):\n",
    "        self.N.setParams(params)\n",
    "        self.J.append(self.N.costFunction(self.X, self.y))\n",
    "        self.testJ.append(self.N.costFunction(self.testX, self.testY))\n",
    "        \n",
    "    def costFunctionWrapper(self, params, X, y):\n",
    "        self.N.setParams(params)\n",
    "        cost = self.N.costFunction(X, y)\n",
    "        grad = computeNumericalGradient(self.N, X, y)\n",
    "        \n",
    "        return cost, grad\n",
    "        \n",
    "    def train(self, trainX, trainY, testX, testY):\n",
    "        #Make an internal variable for the callback function:\n",
    "        self.X = trainX\n",
    "        self.y = trainY\n",
    "        \n",
    "        self.testX = testX\n",
    "        self.testY = testY\n",
    "\n",
    "        #Make empty list to store training costs:\n",
    "        self.J = []\n",
    "        self.testJ = []\n",
    "        \n",
    "        params0 = self.N.getParams()\n",
    "\n",
    "        options = {'maxiter': 20, 'disp' : True}\n",
    "        _res = optimize.minimize(self.costFunctionWrapper, params0, jac=True, method='BFGS', \\\n",
    "                                 args=(trainX, trainY), options=options, callback=self.callbackF)\n",
    "\n",
    "        self.N.setParams(_res.x)\n",
    "        self.optimizationResults = _res\n"
   ]
  },
  {
   "cell_type": "code",
   "execution_count": 88,
   "metadata": {
    "collapsed": false
   },
   "outputs": [
    {
     "data": {
      "text/plain": [
       "array([ -8.85630407e-05,   1.73675943e-05,  -4.92030088e-05,\n",
       "         3.40161284e-05,  -3.78658145e-05,  -2.51664091e-05,\n",
       "         2.90859479e-06,   1.77591670e-04,  -1.59153974e-04,\n",
       "        -4.89665731e-05,   7.49517630e-06,   4.56714404e-05,\n",
       "         5.69220047e-05,   1.10667522e-04,   1.59501815e-03,\n",
       "        -4.28740511e-04])"
      ]
     },
     "execution_count": 88,
     "metadata": {},
     "output_type": "execute_result"
    }
   ],
   "source": [
    "computeNumericalGradient(NN, X, y)"
   ]
  },
  {
   "cell_type": "code",
   "execution_count": 89,
   "metadata": {
    "collapsed": true
   },
   "outputs": [],
   "source": [
    "T = trainer(NN)"
   ]
  },
  {
   "cell_type": "code",
   "execution_count": 90,
   "metadata": {
    "collapsed": false
   },
   "outputs": [
    {
     "name": "stdout",
     "output_type": "stream",
     "text": [
      "7547\n",
      "7547\n"
     ]
    }
   ],
   "source": [
    "print len(X)\n",
    "print len(y)"
   ]
  },
  {
   "cell_type": "code",
   "execution_count": 91,
   "metadata": {
    "collapsed": false
   },
   "outputs": [],
   "source": [
    "trainX=X[:1000]\n",
    "trainY=y[:1000]\n",
    "testX=X[1000:1200]\n",
    "testY=y[1000:1200]"
   ]
  },
  {
   "cell_type": "code",
   "execution_count": 92,
   "metadata": {
    "collapsed": true
   },
   "outputs": [],
   "source": [
    "NN = Neural_Network(Lambda=0.1)"
   ]
  },
  {
   "cell_type": "code",
   "execution_count": 93,
   "metadata": {
    "collapsed": true
   },
   "outputs": [],
   "source": [
    "#Make sure our gradients our correct after making changes:\n",
    "numgrad = computeNumericalGradient(NN, X, y)\n",
    "#grad = NN.computeGradients(X,y)"
   ]
  },
  {
   "cell_type": "code",
   "execution_count": 94,
   "metadata": {
    "collapsed": true
   },
   "outputs": [],
   "source": [
    "from scipy import optimize"
   ]
  },
  {
   "cell_type": "code",
   "execution_count": 95,
   "metadata": {
    "collapsed": false
   },
   "outputs": [
    {
     "name": "stdout",
     "output_type": "stream",
     "text": [
      "Warning: Maximum number of iterations has been exceeded.\n",
      "         Current function value: 0.005445\n",
      "         Iterations: 20\n",
      "         Function evaluations: 35\n",
      "         Gradient evaluations: 35\n"
     ]
    }
   ],
   "source": [
    "NN = Neural_Network()\n",
    "\n",
    "T = trainer(NN)\n",
    "T.train(trainX, trainY, testX, testY)"
   ]
  },
  {
   "cell_type": "code",
   "execution_count": 96,
   "metadata": {
    "collapsed": false
   },
   "outputs": [
    {
     "ename": "KeyboardInterrupt",
     "evalue": "",
     "output_type": "error",
     "traceback": [
      "\u001b[0;31m---------------------------------------------------------------------------\u001b[0m",
      "\u001b[0;31mKeyboardInterrupt\u001b[0m                         Traceback (most recent call last)",
      "\u001b[0;32m/Users/takehiro/anaconda/lib/python2.7/site-packages/matplotlib/backend_bases.pyc\u001b[0m in \u001b[0;36menter_notify_event\u001b[0;34m(self, guiEvent, xy)\u001b[0m\n\u001b[1;32m   1950\u001b[0m         \u001b[0mself\u001b[0m\u001b[0;34m.\u001b[0m\u001b[0m_lastx\u001b[0m\u001b[0;34m,\u001b[0m \u001b[0mself\u001b[0m\u001b[0;34m.\u001b[0m\u001b[0m_lasty\u001b[0m \u001b[0;34m=\u001b[0m \u001b[0mNone\u001b[0m\u001b[0;34m,\u001b[0m \u001b[0mNone\u001b[0m\u001b[0;34m\u001b[0m\u001b[0m\n\u001b[1;32m   1951\u001b[0m \u001b[0;34m\u001b[0m\u001b[0m\n\u001b[0;32m-> 1952\u001b[0;31m     \u001b[0;32mdef\u001b[0m \u001b[0menter_notify_event\u001b[0m\u001b[0;34m(\u001b[0m\u001b[0mself\u001b[0m\u001b[0;34m,\u001b[0m \u001b[0mguiEvent\u001b[0m\u001b[0;34m=\u001b[0m\u001b[0mNone\u001b[0m\u001b[0;34m,\u001b[0m \u001b[0mxy\u001b[0m\u001b[0;34m=\u001b[0m\u001b[0mNone\u001b[0m\u001b[0;34m)\u001b[0m\u001b[0;34m:\u001b[0m\u001b[0;34m\u001b[0m\u001b[0m\n\u001b[0m\u001b[1;32m   1953\u001b[0m         \"\"\"\n\u001b[1;32m   1954\u001b[0m         \u001b[0mBackend\u001b[0m \u001b[0mderived\u001b[0m \u001b[0mclasses\u001b[0m \u001b[0mshould\u001b[0m \u001b[0mcall\u001b[0m \u001b[0mthis\u001b[0m \u001b[0mfunction\u001b[0m \u001b[0mwhen\u001b[0m \u001b[0mentering\u001b[0m\u001b[0;34m\u001b[0m\u001b[0m\n",
      "\u001b[0;31mKeyboardInterrupt\u001b[0m: "
     ]
    }
   ],
   "source": [
    "#Plot cost during training:\n",
    "plt.plot(T.J,label='Train')\n",
    "plt.plot(T.testJ,label='Test')\n",
    "plt.grid(1)\n",
    "plt.xlabel('Iterations')\n",
    "plt.ylabel('Cost')\n",
    "plt.legend(loc='best')\n",
    "plt.show()"
   ]
  },
  {
   "cell_type": "code",
   "execution_count": 37,
   "metadata": {
    "collapsed": true
   },
   "outputs": [],
   "source": [
    "import matplotlib.pyplot as plt"
   ]
  },
  {
   "cell_type": "code",
   "execution_count": 38,
   "metadata": {
    "collapsed": false
   },
   "outputs": [],
   "source": [
    "plt.plot(T.J)\n",
    "plt.grid(1)\n",
    "plt.xlabel('Iterations')\n",
    "plt.ylabel('Cost')\n",
    "plt.show()"
   ]
  },
  {
   "cell_type": "code",
   "execution_count": 93,
   "metadata": {
    "collapsed": true
   },
   "outputs": [],
   "source": [
    "##Need to modify trainer class a bit to check testing error during training:\n",
    "class trainer(object):\n",
    "    def __init__(self, N):\n",
    "        #Make Local reference to network:\n",
    "        self.N = N\n",
    "        \n",
    "    def callbackF(self, params):\n",
    "        self.N.setParams(params)\n",
    "        self.J.append(self.N.costFunction(self.X, self.y))\n",
    "        self.testJ.append(self.N.costFunction(self.testX, self.testY))\n",
    "        \n",
    "    def costFunctionWrapper(self, params, X, y):\n",
    "        self.N.setParams(params)\n",
    "        cost = self.N.costFunction(X, y)\n",
    "        grad = computeNumericalGradient(self.N, X, y)\n",
    "        \n",
    "        return cost, grad\n",
    "        \n",
    "    def train(self, trainX, trainY, testX, testY):\n",
    "        #Make an internal variable for the callback function:\n",
    "        self.X = trainX\n",
    "        self.y = trainY\n",
    "        \n",
    "        self.testX = testX\n",
    "        self.testY = testY\n",
    "\n",
    "        #Make empty list to store training costs:\n",
    "        self.J = []\n",
    "        self.testJ = []\n",
    "        \n",
    "        params0 = self.N.getParams()\n",
    "\n",
    "        options = {'maxiter': 200, 'disp' : True}\n",
    "        _res = optimize.minimize(self.costFunctionWrapper, params0, jac=True, method='BFGS', \\\n",
    "                                 args=(trainX, trainY), options=options, callback=self.callbackF)\n",
    "\n",
    "        self.N.setParams(_res.x)\n",
    "        self.optimizationResults = _res\n"
   ]
  },
  {
   "cell_type": "code",
   "execution_count": 60,
   "metadata": {
    "collapsed": true
   },
   "outputs": [],
   "source": [
    "def computeNumericalGradient(N, X, y):\n",
    "        paramsInitial = N.getParams()\n",
    "        numgrad = np.zeros(paramsInitial.shape)\n",
    "        perturb = np.zeros(paramsInitial.shape)\n",
    "        e = 1e-4\n",
    "        #print paramsInitial\n",
    "        for p in range(len(paramsInitial)):\n",
    "            #Set perturbation vector\n",
    "            perturb[p] = e\n",
    "            N.setParams(paramsInitial + perturb)\n",
    "            loss2 = N.costFunction(X, y)\n",
    "            \n",
    "            N.setParams(paramsInitial - perturb)\n",
    "            loss1 = N.costFunction(X, y)\n",
    "\n",
    "            #Compute Numerical Gradient\n",
    "            #print loss1\n",
    "            #print loss2\n",
    "            numgrad[p] = (loss2 - loss1) / (2*e)\n",
    "\n",
    "            #Return the value we changed to zero:\n",
    "            perturb[p] = 0\n",
    "            \n",
    "        #Return Params to original value:\n",
    "        N.setParams(paramsInitial)\n",
    "\n",
    "        return numgrad "
   ]
  },
  {
   "cell_type": "code",
   "execution_count": null,
   "metadata": {
    "collapsed": false
   },
   "outputs": [],
   "source": []
  },
  {
   "cell_type": "code",
   "execution_count": 59,
   "metadata": {
    "collapsed": true
   },
   "outputs": [],
   "source": [
    "class Neural_Network(object):\n",
    "    def __init__(self):        \n",
    "        #Define Hyperparameters\n",
    "        self.inputLayerSize = 4\n",
    "        self.outputLayerSize = 1\n",
    "        self.hiddenLayerSize = 3\n",
    "        \n",
    "        #Weights (parameters)\n",
    "        self.W1 = np.random.randn(self.inputLayerSize,self.hiddenLayerSize)\n",
    "        self.W2 = np.random.randn(self.hiddenLayerSize,self.outputLayerSize)\n",
    "        \n",
    "    def forward(self, X):\n",
    "        #Propogate inputs though network\n",
    "        self.z2 = np.dot(X, self.W1)\n",
    "        self.a2 = self.sigmoid(self.z2)\n",
    "        self.z3 = np.dot(self.a2, self.W2)\n",
    "        yHat = self.sigmoid(self.z3) \n",
    "        return yHat\n",
    "        \n",
    "    def sigmoid(self, z):\n",
    "        #Apply sigmoid activation function to scalar, vector, or matrix\n",
    "        return 1/(1+np.exp(-z))\n",
    "    \n",
    "    def sigmoidPrime(self,z):\n",
    "        #Gradient of sigmoid\n",
    "        return np.exp(-z)/((1+np.exp(-z))**2)\n",
    "    \n",
    "    def costFunction(self, X, y):\n",
    "        #Compute cost for given X,y, use weights already stored in class.\n",
    "        self.yHat = self.forward(X)\n",
    "        J = 0.5*sum((y-self.yHat)**2)\n",
    "        return J\n",
    "        \n",
    "    def costFunctionPrime(self, X, y):\n",
    "        #Compute derivative with respect to W and W2 for a given X and y:\n",
    "        self.yHat = self.forward(X)\n",
    "        \n",
    "        delta3 = np.multiply(-(y-self.yHat), self.sigmoidPrime(self.z3))\n",
    "        dJdW2 = np.dot(self.a2.T, delta3)\n",
    "        \n",
    "        delta2 = np.dot(delta3, self.W2.T)*self.sigmoidPrime(self.z2)\n",
    "        dJdW1 = np.dot(X.T, delta2)  \n",
    "        \n",
    "        return dJdW1, dJdW2\n",
    "    \n",
    "    #Helper Functions for interacting with other classes:\n",
    "    def getParams(self):\n",
    "        #Get W1 and W2 unrolled into vector:\n",
    "        params = np.concatenate((self.W1.ravel(), self.W2.ravel()))\n",
    "        return params\n",
    "    \n",
    "    def setParams(self, params):\n",
    "        #Set W1 and W2 using single paramater vector.\n",
    "        W1_start = 0\n",
    "        W1_end = self.hiddenLayerSize * self.inputLayerSize\n",
    "        self.W1 = np.reshape(params[W1_start:W1_end], (self.inputLayerSize , self.hiddenLayerSize))\n",
    "        W2_end = W1_end + self.hiddenLayerSize*self.outputLayerSize\n",
    "        self.W2 = np.reshape(params[W1_end:W2_end], (self.hiddenLayerSize, self.outputLayerSize))\n",
    "        \n",
    "    def computeGradients(self, X, y):\n",
    "        dJdW1, dJdW2 = self.costFunctionPrime(X, y)\n",
    "        return np.concatenate((dJdW1.ravel(), dJdW2.ravel()))\n",
    "        "
   ]
  },
  {
   "cell_type": "code",
   "execution_count": 57,
   "metadata": {
    "collapsed": true
   },
   "outputs": [],
   "source": [
    "def computeNumericalGradient(N, X, y):\n",
    "        paramsInitial = N.getParams()\n",
    "        numgrad = np.zeros(paramsInitial.shape)\n",
    "        perturb = np.zeros(paramsInitial.shape)\n",
    "        e = 1e-4\n",
    "\n",
    "        for p in range(len(paramsInitial)):\n",
    "            #Set perturbation vector\n",
    "            perturb[p] = e\n",
    "            N.setParams(paramsInitial + perturb)\n",
    "            loss2 = N.costFunction(X, y)\n",
    "            \n",
    "            N.setParams(paramsInitial - perturb)\n",
    "            loss1 = N.costFunction(X, y)\n",
    "\n",
    "            #Compute Numerical Gradient\n",
    "            numgrad[p] = (loss2 - loss1) / (2*e)\n",
    "\n",
    "            #Return the value we changed to zero:\n",
    "            perturb[p] = 0\n",
    "            \n",
    "        #Return Params to original value:\n",
    "        N.setParams(paramsInitial)\n",
    "\n",
    "        return numgrad "
   ]
  },
  {
   "cell_type": "code",
   "execution_count": 58,
   "metadata": {
    "collapsed": true
   },
   "outputs": [],
   "source": [
    "class trainer(object):\n",
    "    def __init__(self, N):\n",
    "        #Make Local reference to network:\n",
    "        self.N = N\n",
    "        \n",
    "    def callbackF(self, params):\n",
    "        self.N.setParams(params)\n",
    "        self.J.append(self.N.costFunction(self.X, self.y))   \n",
    "        \n",
    "    def costFunctionWrapper(self, params, X, y):\n",
    "        self.N.setParams(params)\n",
    "        cost = self.N.costFunction(X, y)\n",
    "        grad = computeNumericalGradient(self.N, X, y)\n",
    "        \n",
    "        return cost, grad\n",
    "        \n",
    "    def train(self, X, y):\n",
    "        #Make an internal variable for the callback function:\n",
    "        self.X = X\n",
    "        self.y = y\n",
    "\n",
    "        #Make empty list to store costs:\n",
    "        self.J = []\n",
    "        \n",
    "        params0 = self.N.getParams()\n",
    "\n",
    "        options = {'maxiter': 200, 'disp' : True}\n",
    "        _res = optimize.minimize(self.costFunctionWrapper, params0, jac=True, method='BFGS', \\\n",
    "                                 args=(X, y), options=options, callback=self.callbackF)\n",
    "\n",
    "        self.N.setParams(_res.x)\n",
    "        self.optimizationResults = _res\n",
    "    "
   ]
  },
  {
   "cell_type": "code",
   "execution_count": 56,
   "metadata": {
    "collapsed": true
   },
   "outputs": [],
   "source": [
    "from scipy import optimize"
   ]
  },
  {
   "cell_type": "code",
   "execution_count": null,
   "metadata": {
    "collapsed": true
   },
   "outputs": [],
   "source": []
  }
 ],
 "metadata": {
  "kernelspec": {
   "display_name": "Python 2",
   "language": "python",
   "name": "python2"
  },
  "language_info": {
   "codemirror_mode": {
    "name": "ipython",
    "version": 2
   },
   "file_extension": ".py",
   "mimetype": "text/x-python",
   "name": "python",
   "nbconvert_exporter": "python",
   "pygments_lexer": "ipython2",
   "version": "2.7.12"
  }
 },
 "nbformat": 4,
 "nbformat_minor": 0
}
